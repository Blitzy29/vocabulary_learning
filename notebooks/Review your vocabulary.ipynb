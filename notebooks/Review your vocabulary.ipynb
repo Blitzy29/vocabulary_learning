{
 "cells": [
  {
   "cell_type": "code",
   "execution_count": null,
   "metadata": {},
   "outputs": [],
   "source": [
    "is_it_a_test = False\n",
    "test_name = \"_feature\""
   ]
  },
  {
   "cell_type": "code",
   "execution_count": null,
   "metadata": {},
   "outputs": [],
   "source": []
  },
  {
   "cell_type": "code",
   "execution_count": null,
   "metadata": {},
   "outputs": [],
   "source": [
    "%load_ext nb_black\n",
    "%load_ext autoreload\n",
    "%autoreload 2\n",
    "\n",
    "import os\n",
    "\n",
    "print(os.getcwd())\n",
    "\n",
    "\n",
    "def update_working_directory():\n",
    "    from pathlib import Path\n",
    "\n",
    "    p = Path(os.getcwd()).parents[0]\n",
    "    os.chdir(p)\n",
    "    print(p)\n",
    "\n",
    "\n",
    "update_working_directory()"
   ]
  },
  {
   "cell_type": "code",
   "execution_count": null,
   "metadata": {},
   "outputs": [],
   "source": []
  },
  {
   "cell_type": "code",
   "execution_count": null,
   "metadata": {},
   "outputs": [],
   "source": [
    "# prepare this session"
   ]
  },
  {
   "cell_type": "code",
   "execution_count": null,
   "metadata": {},
   "outputs": [],
   "source": [
    "! python -m luigi --module src.luigi_pipeline PrepareNextSession --local-scheduler"
   ]
  },
  {
   "cell_type": "code",
   "execution_count": null,
   "metadata": {},
   "outputs": [],
   "source": []
  },
  {
   "cell_type": "code",
   "execution_count": null,
   "metadata": {},
   "outputs": [],
   "source": [
    "import numpy as np\n",
    "import pandas as pd\n",
    "\n",
    "from src.data.collect_data import *\n",
    "import src.data.get_dataset as get_dataset"
   ]
  },
  {
   "cell_type": "code",
   "execution_count": null,
   "metadata": {},
   "outputs": [],
   "source": [
    "vocab = initiate_vocab(test=is_it_a_test, test_name=test_name)\n",
    "\n",
    "all_vocab = get_dataset.get_all_vocab()\n",
    "\n",
    "historical_data, tries_session, nb_known_words_session = initiate_session()"
   ]
  },
  {
   "cell_type": "code",
   "execution_count": null,
   "metadata": {},
   "outputs": [],
   "source": [
    "for i in range(100):\n",
    "\n",
    "    i_vocab_try = dict()\n",
    "\n",
    "    # Choose language\n",
    "    i_vocab_try = choose_a_language(i_vocab_try, vocab)\n",
    "    if i_vocab_try[\"input_language\"] == -1:\n",
    "        break\n",
    "\n",
    "    # Pick a random word\n",
    "    i_vocab_try = choose_a_word(i_vocab_try, vocab)\n",
    "\n",
    "    # Take a guess\n",
    "    i_vocab_try = prompt_question(\n",
    "        i_vocab_try,\n",
    "        print_info={\n",
    "            \"nb_known_words_session\": nb_known_words_session,\n",
    "            \"tries_session\": tries_session,\n",
    "        },\n",
    "    )\n",
    "\n",
    "    # Check answer\n",
    "    i_vocab_try = check_answer(i_vocab_try, all_vocab)\n",
    "\n",
    "    # Do we want to stop?\n",
    "    if i_vocab_try[\"your_guess\"] == \"STOP IT\":\n",
    "        print(\n",
    "            \"Your last word was '{}={}'\".format(\n",
    "                i_vocab_try[\"word_input_language\"],\n",
    "                i_vocab_try[\"word_output_language\"],\n",
    "            )\n",
    "        )\n",
    "        break\n",
    "\n",
    "    # If correct answer\n",
    "    if i_vocab_try[\"is_it_correct\"]:\n",
    "        i_vocab_try = if_correct(i_vocab_try)\n",
    "        nb_known_words_session += 1\n",
    "\n",
    "    # If wrong answer\n",
    "    if not i_vocab_try[\"is_it_correct\"]:\n",
    "        i_vocab_try = if_not_correct(i_vocab_try, vocab, all_vocab)\n",
    "\n",
    "    # Add to historical data\n",
    "    historical_data = add_historical_data(historical_data, i_vocab_try)\n",
    "\n",
    "    # Update vocab\n",
    "    vocab = update_vocab(vocab, i_vocab_try)\n",
    "\n",
    "    tries_session += 1"
   ]
  },
  {
   "cell_type": "code",
   "execution_count": null,
   "metadata": {},
   "outputs": [],
   "source": [
    "# Update and save historical data\n",
    "update_historical_data(historical_data, test=is_it_a_test, test_name=test_name)"
   ]
  },
  {
   "cell_type": "code",
   "execution_count": null,
   "metadata": {},
   "outputs": [],
   "source": [
    "# Update and save vocab\n",
    "finalize_vocab(vocab, test=is_it_a_test, test_name=test_name)"
   ]
  },
  {
   "cell_type": "code",
   "execution_count": null,
   "metadata": {},
   "outputs": [],
   "source": []
  },
  {
   "cell_type": "code",
   "execution_count": null,
   "metadata": {},
   "outputs": [],
   "source": [
    "# prepare next session"
   ]
  },
  {
   "cell_type": "code",
   "execution_count": null,
   "metadata": {},
   "outputs": [],
   "source": [
    "! python -m luigi --module src.luigi_pipeline PrepareNextSession --local-scheduler"
   ]
  },
  {
   "cell_type": "code",
   "execution_count": null,
   "metadata": {},
   "outputs": [],
   "source": []
  },
  {
   "cell_type": "code",
   "execution_count": null,
   "metadata": {},
   "outputs": [],
   "source": [
    "# info on words"
   ]
  },
  {
   "cell_type": "code",
   "execution_count": null,
   "metadata": {},
   "outputs": [],
   "source": [
    "info_vocab(test=is_it_a_test, test_name=test_name)"
   ]
  },
  {
   "cell_type": "code",
   "execution_count": null,
   "metadata": {},
   "outputs": [],
   "source": []
  }
 ],
 "metadata": {
  "hide_input": false,
  "kernelspec": {
   "display_name": "vocabulary_learning",
   "language": "python",
   "name": "vocabulary_learning"
  },
  "language_info": {
   "codemirror_mode": {
    "name": "ipython",
    "version": 3
   },
   "file_extension": ".py",
   "mimetype": "text/x-python",
   "name": "python",
   "nbconvert_exporter": "python",
   "pygments_lexer": "ipython3",
   "version": "3.7.5"
  },
  "toc": {
   "base_numbering": 1,
   "nav_menu": {},
   "number_sections": true,
   "sideBar": true,
   "skip_h1_title": false,
   "title_cell": "Table of Contents",
   "title_sidebar": "Contents",
   "toc_cell": false,
   "toc_position": {},
   "toc_section_display": true,
   "toc_window_display": false
  }
 },
 "nbformat": 4,
 "nbformat_minor": 4
}
