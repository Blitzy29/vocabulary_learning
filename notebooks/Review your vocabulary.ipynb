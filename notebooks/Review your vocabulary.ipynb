{
 "cells": [
  {
   "cell_type": "code",
   "execution_count": 1,
   "metadata": {
    "ExecuteTime": {
     "end_time": "2020-10-23T21:04:15.982617Z",
     "start_time": "2020-10-23T21:04:15.979716Z"
    }
   },
   "outputs": [],
   "source": [
    "is_it_a_test = True\n",
    "test_name = \"_feature\""
   ]
  },
  {
   "cell_type": "code",
   "execution_count": null,
   "metadata": {},
   "outputs": [],
   "source": []
  },
  {
   "cell_type": "code",
   "execution_count": null,
   "metadata": {},
   "outputs": [],
   "source": []
  },
  {
   "cell_type": "code",
   "execution_count": 2,
   "metadata": {
    "ExecuteTime": {
     "end_time": "2020-10-23T21:04:17.053095Z",
     "start_time": "2020-10-23T21:04:17.026423Z"
    }
   },
   "outputs": [
    {
     "name": "stdout",
     "output_type": "stream",
     "text": [
      "/Users/admin/Projects/vocabulary_learning/notebooks\n",
      "/Users/admin/Projects/vocabulary_learning\n"
     ]
    }
   ],
   "source": [
    "#%load_ext nb_black\n",
    "%load_ext autoreload\n",
    "%autoreload 2\n",
    "\n",
    "import os\n",
    "\n",
    "print(os.getcwd())\n",
    "\n",
    "\n",
    "def update_working_directory():\n",
    "    from pathlib import Path\n",
    "\n",
    "    p = Path(os.getcwd()).parents[0]\n",
    "    os.chdir(p)\n",
    "    print(p)\n",
    "\n",
    "\n",
    "update_working_directory()"
   ]
  },
  {
   "cell_type": "code",
   "execution_count": 3,
   "metadata": {
    "ExecuteTime": {
     "end_time": "2020-10-23T21:04:18.101410Z",
     "start_time": "2020-10-23T21:04:17.484731Z"
    }
   },
   "outputs": [],
   "source": [
    "import numpy as np\n",
    "import pandas as pd\n",
    "\n",
    "from src.data.collect_data import *\n",
    "import src.data.get_dataset as get_dataset"
   ]
  },
  {
   "cell_type": "code",
   "execution_count": 4,
   "metadata": {
    "ExecuteTime": {
     "end_time": "2020-10-23T21:04:18.155329Z",
     "start_time": "2020-10-23T21:04:18.103883Z"
    }
   },
   "outputs": [],
   "source": [
    "vocab = initiate_vocab(test=is_it_a_test, test_name=test_name)\n",
    "\n",
    "all_vocab = get_dataset.get_all_vocab()\n",
    "\n",
    "historical_data, tries_session, nb_known_words_session = initiate_session()"
   ]
  },
  {
   "cell_type": "code",
   "execution_count": 7,
   "metadata": {
    "ExecuteTime": {
     "end_time": "2020-10-23T21:05:49.976329Z",
     "start_time": "2020-10-23T21:05:21.665504Z"
    }
   },
   "outputs": [
    {
     "name": "stdout",
     "output_type": "stream",
     "text": [
      "0/0 - What is the german word for 'September'?   September\n"
     ]
    },
    {
     "name": "stderr",
     "output_type": "stream",
     "text": [
      "/Users/admin/Projects/vocabulary_learning/src/data/collect_data.py:174: SettingWithCopyWarning: \n",
      "A value is trying to be set on a copy of a slice from a DataFrame.\n",
      "Try using .loc[row_indexer,col_indexer] = value instead\n",
      "\n",
      "See the caveats in the documentation: https://pandas.pydata.org/pandas-docs/stable/user_guide/indexing.html#returning-a-view-versus-a-copy\n",
      "  ] = softmax(1 - list_possible_words[f\"{i_vocab_try['output_language']}_proba\"].values.tolist())\n"
     ]
    },
    {
     "name": "stdout",
     "output_type": "stream",
     "text": [
      "\u001b[92mCorrect!\u001b[0m\n",
      "1/1 - What is the german word for 'married'?   scj\n",
      "\u001b[91mSorry\u001b[0m, it was 'married = verheiratet'\n",
      "Write it again   jo\n",
      "1/2 - What is the english word for 'viel'?   a lot\n",
      "\u001b[92mCorrect!\u001b[0m\n",
      "2/3 - What is the german word for 'the female doctor'?   Arztin\n",
      "\u001b[91mSorry\u001b[0m, it was 'the female doctor = die Ärztin'\n",
      "Write it again   ih\n",
      "2/4 - What is the german word for 'the apricot'?   die Aprikose\n",
      "\u001b[92mCorrect!\u001b[0m\n",
      "3/5 - What is the german word for 'to vote'?   aslöjcpwj\n",
      "\u001b[91mSorry\u001b[0m, it was 'to vote = stimmen'\n",
      "Write it again   ä\n",
      "3/6 - What is the german word for 'to speak'?   vkKEV+\n",
      "\u001b[91mSorry\u001b[0m, it was 'to speak = sprechen'\n",
      "Write it again   Vo\n",
      "3/7 - What is the german word for 'the year'?   vm\n",
      "\u001b[91mSorry\u001b[0m, it was 'the year = das Jahr'\n",
      "Write it again   \n",
      "3/8 - What is the english word for 'wirklich'?   \n",
      "\u001b[91mSorry\u001b[0m, it was 'wirklich = really'\n",
      "Write it again   \n",
      "3/9 - What is the english word for 'rennen'?   \n",
      "\u001b[91mSorry\u001b[0m, it was 'rennen = to sprint'\n",
      "Write it again   \n",
      "3/10 - What is the german word for 'the cup'?   \n",
      "\u001b[91mSorry\u001b[0m, it was 'the cup = der Pokal'\n",
      "Write it again   \n",
      "3/11 - What is the english word for 'wilkommen'?   \n",
      "\u001b[91mSorry\u001b[0m, it was 'wilkommen = welcome'\n",
      "Write it again   \n",
      "3/12 - What is the german word for 'correct'?   \n",
      "\u001b[91mSorry\u001b[0m, it was 'correct = richtig'\n",
      "Write it again   \n",
      "3/13 - What is the german word for 'together'?   \n",
      "\u001b[91mSorry\u001b[0m, it was 'together = zusammen'\n",
      "Write it again   \n",
      "There are no more word for today!\n"
     ]
    }
   ],
   "source": [
    "for i in range(100):\n",
    "\n",
    "    i_vocab_try = dict()\n",
    "\n",
    "    # Choose language\n",
    "    i_vocab_try = choose_a_language(i_vocab_try, vocab)\n",
    "    if i_vocab_try[\"input_language\"] == -1:\n",
    "        break\n",
    "\n",
    "    # Pick a random word\n",
    "    i_vocab_try = choose_a_word(i_vocab_try, vocab)\n",
    "\n",
    "    # Take a guess\n",
    "    i_vocab_try = prompt_question(\n",
    "        i_vocab_try,\n",
    "        print_info={\n",
    "            \"nb_known_words_session\": nb_known_words_session,\n",
    "            \"tries_session\": tries_session,\n",
    "        },\n",
    "    )\n",
    "\n",
    "    # Check answer\n",
    "    i_vocab_try = check_answer(i_vocab_try, all_vocab)\n",
    "\n",
    "    # Do we want to stop?\n",
    "    if i_vocab_try[\"your_guess\"] == \"STOP IT\":\n",
    "        print(\n",
    "            \"Your last word was '{}={}'\".format(\n",
    "                i_vocab_try[\"word_input_language\"],\n",
    "                i_vocab_try[\"word_output_language\"],\n",
    "            )\n",
    "        )\n",
    "        break\n",
    "\n",
    "    # If correct answer\n",
    "    if i_vocab_try[\"is_it_correct\"]:\n",
    "        i_vocab_try = if_correct(i_vocab_try)\n",
    "        nb_known_words_session += 1\n",
    "\n",
    "    # If wrong answer\n",
    "    if not i_vocab_try[\"is_it_correct\"]:\n",
    "        i_vocab_try = if_not_correct(i_vocab_try, vocab, all_vocab)\n",
    "\n",
    "    # Add to historical data\n",
    "    historical_data = add_historical_data(historical_data, i_vocab_try)\n",
    "\n",
    "    # Update vocab\n",
    "    vocab = update_vocab(vocab, i_vocab_try)\n",
    "\n",
    "    tries_session += 1"
   ]
  },
  {
   "cell_type": "code",
   "execution_count": 8,
   "metadata": {
    "ExecuteTime": {
     "end_time": "2020-10-23T21:05:53.926014Z",
     "start_time": "2020-10-23T21:05:53.888475Z"
    }
   },
   "outputs": [],
   "source": [
    "# Update and save historical data\n",
    "update_historical_data(historical_data, test=is_it_a_test, test_name=test_name)"
   ]
  },
  {
   "cell_type": "code",
   "execution_count": 9,
   "metadata": {
    "ExecuteTime": {
     "end_time": "2020-10-23T21:05:54.972646Z",
     "start_time": "2020-10-23T21:05:54.942733Z"
    }
   },
   "outputs": [
    {
     "name": "stdout",
     "output_type": "stream",
     "text": [
      "\u001b[91mTime to add new words!!\u001b[0m - only 14 words left'\n"
     ]
    }
   ],
   "source": [
    "# Update and save vocab\n",
    "finalize_vocab(vocab, test=is_it_a_test, test_name=test_name)"
   ]
  },
  {
   "cell_type": "code",
   "execution_count": 10,
   "metadata": {
    "ExecuteTime": {
     "end_time": "2020-10-23T21:05:57.273187Z",
     "start_time": "2020-10-23T21:05:57.254176Z"
    }
   },
   "outputs": [],
   "source": [
    "# prepare next session"
   ]
  },
  {
   "cell_type": "code",
   "execution_count": 11,
   "metadata": {
    "ExecuteTime": {
     "end_time": "2020-10-23T21:06:07.474556Z",
     "start_time": "2020-10-23T21:06:04.614680Z"
    }
   },
   "outputs": [
    {
     "name": "stdout",
     "output_type": "stream",
     "text": [
      "DEBUG: Checking if PrepareNextSession(name=merge historical and vocab dataset features together.) is complete\n",
      "INFO: Informed scheduler that task   PrepareNextSession_merge_historical_c1184df937   has status   DONE\n",
      "INFO: Done scheduling tasks\n",
      "INFO: Running Worker with 1 processes\n",
      "DEBUG: Asking scheduler for work...\n",
      "DEBUG: Done\n",
      "DEBUG: There are no more tasks to run at this time\n",
      "INFO: Worker Worker(salt=129264731, workers=1, host=Yoanns-MBP.fritz.box, username=admin, pid=59067) was stopped. Shutting down Keep-Alive thread\n",
      "INFO: \n",
      "===== Luigi Execution Summary =====\n",
      "\n",
      "Scheduled 1 tasks of which:\n",
      "* 1 complete ones were encountered:\n",
      "    - 1 PrepareNextSession(name=merge historical and vocab dataset features together.)\n",
      "\n",
      "Did not run any tasks\n",
      "This progress looks :) because there were no failed tasks or missing dependencies\n",
      "\n",
      "===== Luigi Execution Summary =====\n",
      "\n"
     ]
    }
   ],
   "source": [
    "! python -m luigi --module src.luigi_pipeline PrepareNextSession --local-scheduler"
   ]
  },
  {
   "cell_type": "code",
   "execution_count": null,
   "metadata": {},
   "outputs": [],
   "source": []
  }
 ],
 "metadata": {
  "hide_input": false,
  "kernelspec": {
   "display_name": "Python 3",
   "language": "python",
   "name": "python3"
  },
  "language_info": {
   "codemirror_mode": {
    "name": "ipython",
    "version": 3
   },
   "file_extension": ".py",
   "mimetype": "text/x-python",
   "name": "python",
   "nbconvert_exporter": "python",
   "pygments_lexer": "ipython3",
   "version": "3.7.5"
  },
  "toc": {
   "base_numbering": 1,
   "nav_menu": {},
   "number_sections": true,
   "sideBar": true,
   "skip_h1_title": false,
   "title_cell": "Table of Contents",
   "title_sidebar": "Contents",
   "toc_cell": false,
   "toc_position": {},
   "toc_section_display": true,
   "toc_window_display": false
  }
 },
 "nbformat": 4,
 "nbformat_minor": 4
}
