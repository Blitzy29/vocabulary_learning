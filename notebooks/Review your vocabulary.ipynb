{
 "cells": [
  {
   "cell_type": "code",
   "execution_count": null,
   "metadata": {
    "ExecuteTime": {
     "end_time": "2020-09-20T20:45:47.900484Z",
     "start_time": "2020-09-20T20:45:47.894589Z"
    }
   },
   "outputs": [],
   "source": [
    "import os\n",
    "print(os.getcwd())\n",
    "def update_working_directory():\n",
    "    from pathlib import Path\n",
    "    p = Path(os.getcwd()).parents[0]\n",
    "    os.chdir(p)\n",
    "    print(p)\n",
    "update_working_directory()"
   ]
  },
  {
   "cell_type": "code",
   "execution_count": null,
   "metadata": {
    "ExecuteTime": {
     "end_time": "2020-09-20T20:45:48.819810Z",
     "start_time": "2020-09-20T20:45:48.341332Z"
    }
   },
   "outputs": [],
   "source": [
    "import numpy as np\n",
    "import pandas as pd\n",
    "\n",
    "from src.data.collect_data import *"
   ]
  },
  {
   "cell_type": "code",
   "execution_count": null,
   "metadata": {
    "ExecuteTime": {
     "end_time": "2020-09-20T20:45:48.840498Z",
     "start_time": "2020-09-20T20:45:48.823701Z"
    }
   },
   "outputs": [],
   "source": [
    "vocab = initiate_vocab()\n",
    "\n",
    "historical_data, tries_session = initiate_session()"
   ]
  },
  {
   "cell_type": "code",
   "execution_count": null,
   "metadata": {
    "ExecuteTime": {
     "end_time": "2020-09-20T21:11:28.864656Z",
     "start_time": "2020-09-20T20:45:50.846067Z"
    },
    "scrolled": true
   },
   "outputs": [],
   "source": [
    "#while (sum(vocab['succeed_session']) + sum(vocab['succeed'])) != len(vocab):\n",
    "for i in range(100):\n",
    "    \n",
    "    nb_known_words_session = sum(vocab['succeed_session'])\n",
    "\n",
    "    # Pick a random word\n",
    "    row_to_test = choose_a_word(vocab)\n",
    "    if row_to_test == -1:\n",
    "        break\n",
    "    \n",
    "    # Choose language\n",
    "    input_language, output_language = choose_a_language()\n",
    "\n",
    "    # Take a guess\n",
    "    your_guess = prompt_question(vocab, row_to_test, input_language, output_language, nb_known_words_session, tries_session)\n",
    "\n",
    "    # Answer analysis\n",
    "    is_it_correct = your_guess == vocab.loc[row_to_test, output_language]\n",
    "    is_it_another_word = your_guess in vocab[output_language].values\n",
    "\n",
    "    # Do we want to stop?\n",
    "    if (your_guess == \"STOP IT\"):\n",
    "        print(\"Your last word was '{}={}'\".format(\n",
    "            vocab.loc[row_to_test, input_language], vocab.loc[row_to_test, output_language]))\n",
    "        break\n",
    "\n",
    "    # If correct answer\n",
    "    if is_it_correct:\n",
    "        if_correct()\n",
    "\n",
    "    # If wrong answer\n",
    "    if not is_it_correct:\n",
    "        if_not_correct(vocab, row_to_test, input_language, output_language, your_guess, is_it_another_word)\n",
    "\n",
    "    # Add to historical data\n",
    "    historical_data = add_historical_data(historical_data, vocab, row_to_test, output_language, is_it_correct, your_guess)\n",
    "\n",
    "    # Update vocab\n",
    "    vocab = update_vocab(vocab, row_to_test, is_it_correct)\n",
    "\n",
    "    tries_session += 1"
   ]
  },
  {
   "cell_type": "code",
   "execution_count": null,
   "metadata": {
    "ExecuteTime": {
     "end_time": "2020-09-20T21:11:32.252294Z",
     "start_time": "2020-09-20T21:11:32.233454Z"
    }
   },
   "outputs": [],
   "source": [
    "# Update and save historical data\n",
    "update_historical_data(historical_data)"
   ]
  },
  {
   "cell_type": "code",
   "execution_count": null,
   "metadata": {
    "ExecuteTime": {
     "end_time": "2020-09-20T21:11:32.837797Z",
     "start_time": "2020-09-20T21:11:32.830382Z"
    }
   },
   "outputs": [],
   "source": [
    "# Update and save vocab\n",
    "finalize_vocab(vocab)"
   ]
  },
  {
   "cell_type": "code",
   "execution_count": null,
   "metadata": {},
   "outputs": [],
   "source": []
  }
 ],
 "metadata": {
  "hide_input": false,
  "kernelspec": {
   "display_name": "vocabulary_learning",
   "language": "python",
   "name": "vocabulary_learning"
  },
  "language_info": {
   "codemirror_mode": {
    "name": "ipython",
    "version": 3
   },
   "file_extension": ".py",
   "mimetype": "text/x-python",
   "name": "python",
   "nbconvert_exporter": "python",
   "pygments_lexer": "ipython3",
   "version": "3.7.5"
  },
  "toc": {
   "base_numbering": 1,
   "nav_menu": {},
   "number_sections": true,
   "sideBar": true,
   "skip_h1_title": false,
   "title_cell": "Table of Contents",
   "title_sidebar": "Contents",
   "toc_cell": false,
   "toc_position": {},
   "toc_section_display": true,
   "toc_window_display": false
  }
 },
 "nbformat": 4,
 "nbformat_minor": 4
}
