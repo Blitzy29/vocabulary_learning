{
 "cells": [
  {
   "cell_type": "code",
   "execution_count": null,
   "metadata": {
    "ExecuteTime": {
     "end_time": "2020-09-21T20:04:41.076554Z",
     "start_time": "2020-09-21T20:04:40.934055Z"
    }
   },
   "outputs": [],
   "source": [
    "%load_ext nb_black\n",
    "%load_ext autoreload\n",
    "%autoreload 2\n",
    "\n",
    "import os\n",
    "\n",
    "print(os.getcwd())\n",
    "\n",
    "\n",
    "def update_working_directory():\n",
    "    from pathlib import Path\n",
    "\n",
    "    p = Path(os.getcwd()).parents[0]\n",
    "    os.chdir(p)\n",
    "    print(p)\n",
    "\n",
    "\n",
    "update_working_directory()"
   ]
  },
  {
   "cell_type": "code",
   "execution_count": null,
   "metadata": {
    "ExecuteTime": {
     "end_time": "2020-09-21T20:04:43.130533Z",
     "start_time": "2020-09-21T20:04:42.805300Z"
    }
   },
   "outputs": [],
   "source": [
    "import numpy as np\n",
    "import pandas as pd\n",
    "\n",
    "from src.data.collect_data import *"
   ]
  },
  {
   "cell_type": "code",
   "execution_count": null,
   "metadata": {
    "ExecuteTime": {
     "end_time": "2020-09-21T20:04:43.554629Z",
     "start_time": "2020-09-21T20:04:43.507938Z"
    }
   },
   "outputs": [],
   "source": [
    "vocab = initiate_vocab()\n",
    "\n",
    "historical_data, tries_session = initiate_session()\n",
    "\n",
    "nb_known_words_session = 0"
   ]
  },
  {
   "cell_type": "code",
   "execution_count": null,
   "metadata": {
    "ExecuteTime": {
     "end_time": "2020-09-21T20:11:16.731431Z",
     "start_time": "2020-09-21T20:11:13.166420Z"
    },
    "scrolled": true
   },
   "outputs": [],
   "source": [
    "for i in range(10):\n",
    "\n",
    "    # Choose language\n",
    "    input_language, output_language = choose_a_language(vocab)\n",
    "    if input_language == -1:\n",
    "        break\n",
    "\n",
    "    # Pick a random word\n",
    "    id_vocab = choose_a_word(vocab, input_language, output_language)\n",
    "\n",
    "    # Take a guess\n",
    "    your_guess = prompt_question(\n",
    "        vocab,\n",
    "        id_vocab,\n",
    "        input_language,\n",
    "        output_language,\n",
    "        nb_known_words_session,\n",
    "        tries_session,\n",
    "    )\n",
    "\n",
    "    # Answer analysis\n",
    "    is_it_correct = (\n",
    "        your_guess\n",
    "        == vocab.loc[vocab[\"id_vocab\"] == id_vocab, output_language].values[0]\n",
    "    )\n",
    "    is_it_another_word = your_guess in vocab[output_language].values\n",
    "\n",
    "    # Do we want to stop?\n",
    "    if your_guess == \"STOP IT\":\n",
    "        print(\n",
    "            \"Your last word was '{}={}'\".format(\n",
    "                vocab.loc[a, input_language].values[0],\n",
    "                vocab.loc[vocab[\"id_vocab\"] == id_vocab, output_language].values[0],\n",
    "            )\n",
    "        )\n",
    "        break\n",
    "\n",
    "    # If correct answer\n",
    "    if is_it_correct:\n",
    "        if_correct()\n",
    "        nb_known_words_session += 1\n",
    "        write_it_again = None\n",
    "\n",
    "    # If wrong answer\n",
    "    if not is_it_correct:\n",
    "        write_it_again = if_not_correct(\n",
    "            vocab,\n",
    "            id_vocab,\n",
    "            input_language,\n",
    "            output_language,\n",
    "            your_guess,\n",
    "            is_it_another_word,\n",
    "        )\n",
    "\n",
    "    # Add to historical data\n",
    "    historical_data = add_historical_data(\n",
    "        historical_data,\n",
    "        vocab,\n",
    "        id_vocab,\n",
    "        input_language,\n",
    "        output_language,\n",
    "        is_it_correct,\n",
    "        your_guess,\n",
    "        write_it_again,\n",
    "    )\n",
    "\n",
    "    # Update vocab\n",
    "    vocab = update_vocab(\n",
    "        vocab, id_vocab, input_language, output_language, is_it_correct\n",
    "    )\n",
    "\n",
    "    tries_session += 1"
   ]
  },
  {
   "cell_type": "code",
   "execution_count": null,
   "metadata": {
    "ExecuteTime": {
     "end_time": "2020-09-21T20:12:22.848196Z",
     "start_time": "2020-09-21T20:12:22.817305Z"
    }
   },
   "outputs": [],
   "source": [
    "# Update and save historical data\n",
    "update_historical_data(historical_data)"
   ]
  },
  {
   "cell_type": "code",
   "execution_count": null,
   "metadata": {
    "ExecuteTime": {
     "end_time": "2020-09-21T20:12:23.733562Z",
     "start_time": "2020-09-21T20:12:23.705008Z"
    }
   },
   "outputs": [],
   "source": [
    "# Update and save vocab\n",
    "finalize_vocab(vocab)"
   ]
  },
  {
   "cell_type": "code",
   "execution_count": null,
   "metadata": {},
   "outputs": [],
   "source": []
  }
 ],
 "metadata": {
  "hide_input": false,
  "kernelspec": {
   "display_name": "vocabulary_learning",
   "language": "python",
   "name": "vocabulary_learning"
  },
  "language_info": {
   "codemirror_mode": {
    "name": "ipython",
    "version": 3
   },
   "file_extension": ".py",
   "mimetype": "text/x-python",
   "name": "python",
   "nbconvert_exporter": "python",
   "pygments_lexer": "ipython3",
   "version": "3.7.5"
  },
  "toc": {
   "base_numbering": 1,
   "nav_menu": {},
   "number_sections": true,
   "sideBar": true,
   "skip_h1_title": false,
   "title_cell": "Table of Contents",
   "title_sidebar": "Contents",
   "toc_cell": false,
   "toc_position": {},
   "toc_section_display": true,
   "toc_window_display": false
  }
 },
 "nbformat": 4,
 "nbformat_minor": 4
}
