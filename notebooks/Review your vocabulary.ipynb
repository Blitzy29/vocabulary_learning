{
 "cells": [
  {
   "cell_type": "code",
   "execution_count": 1,
   "metadata": {},
   "outputs": [
    {
     "name": "stdout",
     "output_type": "stream",
     "text": [
      "/Users/admin/Projects/vocabulary_learning/notebooks\n",
      "/Users/admin/Projects/vocabulary_learning\n"
     ]
    }
   ],
   "source": [
    "import os\n",
    "print(os.getcwd())\n",
    "def update_working_directory():\n",
    "    from pathlib import Path\n",
    "    p = Path(os.getcwd()).parents[0]\n",
    "    os.chdir(p)\n",
    "    print(p)\n",
    "update_working_directory()"
   ]
  },
  {
   "cell_type": "code",
   "execution_count": 2,
   "metadata": {},
   "outputs": [],
   "source": [
    "import numpy as np\n",
    "import pandas as pd\n",
    "\n",
    "from src.data.collect_data import *"
   ]
  },
  {
   "cell_type": "code",
   "execution_count": 3,
   "metadata": {},
   "outputs": [],
   "source": [
    "vocab = initiate_vocab()\n",
    "\n",
    "historical_data, tries_session = initiate_session()"
   ]
  },
  {
   "cell_type": "code",
   "execution_count": 4,
   "metadata": {},
   "outputs": [
    {
     "name": "stdin",
     "output_type": "stream",
     "text": [
      "\u001b[1m0/0\u001b[0m - What is the english word for 'Freitag'?    Friday\n"
     ]
    },
    {
     "name": "stdout",
     "output_type": "stream",
     "text": [
      "\u001b[92mCorrect!\u001b[0m\n"
     ]
    },
    {
     "name": "stdin",
     "output_type": "stream",
     "text": [
      "\u001b[1m1/1\u001b[0m - What is the german word for 'the horse'?    das Pferd\n"
     ]
    },
    {
     "name": "stdout",
     "output_type": "stream",
     "text": [
      "\u001b[92mCorrect!\u001b[0m\n"
     ]
    },
    {
     "name": "stdin",
     "output_type": "stream",
     "text": [
      "\u001b[1m2/2\u001b[0m - What is the english word for 'der Partner'?    the partner\n"
     ]
    },
    {
     "name": "stdout",
     "output_type": "stream",
     "text": [
      "\u001b[92mCorrect!\u001b[0m\n"
     ]
    },
    {
     "name": "stdin",
     "output_type": "stream",
     "text": [
      "\u001b[1m3/3\u001b[0m - What is the german word for 'the summer'?    der Sommer\n"
     ]
    },
    {
     "name": "stdout",
     "output_type": "stream",
     "text": [
      "\u001b[92mCorrect!\u001b[0m\n"
     ]
    },
    {
     "name": "stdin",
     "output_type": "stream",
     "text": [
      "\u001b[1m4/4\u001b[0m - What is the german word for 'to eat (animal)'?    fressen\n"
     ]
    },
    {
     "name": "stdout",
     "output_type": "stream",
     "text": [
      "\u001b[92mCorrect!\u001b[0m\n"
     ]
    }
   ],
   "source": [
    "#while (sum(vocab['succeed_session']) + sum(vocab['succeed'])) != len(vocab):\n",
    "for i in range(5):\n",
    "    \n",
    "    nb_known_words_session = sum(vocab['succeed_session'])\n",
    "\n",
    "    # Pick a random word\n",
    "    row_to_test = choose_a_word(vocab)\n",
    "\n",
    "    # Choose language\n",
    "    input_language, output_language = choose_a_language()\n",
    "\n",
    "    # Take a guess\n",
    "    your_guess = prompt_question(vocab, row_to_test, input_language, output_language, nb_known_words_session, tries_session)\n",
    "\n",
    "    # Answer analysis\n",
    "    is_it_correct = your_guess == vocab.loc[row_to_test, output_language]\n",
    "    is_it_another_word = your_guess in vocab[output_language].values\n",
    "\n",
    "    # Do we want to stop?\n",
    "    if (your_guess == \"STOP IT\"):\n",
    "        print(\"Your last word was '{}={}'\".format(\n",
    "            vocab.loc[row_to_test, input_language], vocab.loc[row_to_test, output_language]))\n",
    "        break\n",
    "\n",
    "    # If correct answer\n",
    "    if is_it_correct:\n",
    "        if_correct()\n",
    "\n",
    "    # If wrong answer\n",
    "    if not is_it_correct:\n",
    "        if_not_correct(vocab, row_to_test, input_language, output_language, your_guess, is_it_another_word)\n",
    "\n",
    "    # Add to historical data\n",
    "    historical_data = add_historical_data(historical_data, vocab, row_to_test, output_language, is_it_correct)\n",
    "\n",
    "    # Update vocab\n",
    "    vocab = update_vocab(vocab, row_to_test, is_it_correct)\n",
    "\n",
    "    tries_session += 1"
   ]
  },
  {
   "cell_type": "code",
   "execution_count": 5,
   "metadata": {},
   "outputs": [],
   "source": [
    "# Update and save historical data\n",
    "update_historical_data(historical_data)\n",
    "\n",
    "# Update and save vocab\n",
    "finalize_vocab(vocab)"
   ]
  },
  {
   "cell_type": "code",
   "execution_count": null,
   "metadata": {},
   "outputs": [],
   "source": []
  }
 ],
 "metadata": {
  "kernelspec": {
   "display_name": "vocabulary_learning",
   "language": "python",
   "name": "vocabulary_learning"
  },
  "language_info": {
   "codemirror_mode": {
    "name": "ipython",
    "version": 3
   },
   "file_extension": ".py",
   "mimetype": "text/x-python",
   "name": "python",
   "nbconvert_exporter": "python",
   "pygments_lexer": "ipython3",
   "version": "3.7.5"
  }
 },
 "nbformat": 4,
 "nbformat_minor": 4
}
