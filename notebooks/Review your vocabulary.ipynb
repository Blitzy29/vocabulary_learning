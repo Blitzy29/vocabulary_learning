{
 "cells": [
  {
   "cell_type": "code",
   "execution_count": 1,
   "metadata": {},
   "outputs": [
    {
     "name": "stdout",
     "output_type": "stream",
     "text": [
      "/Users/admin/Projects/vocabulary_learning/notebooks\n",
      "/Users/admin/Projects/vocabulary_learning\n"
     ]
    }
   ],
   "source": [
    "import os\n",
    "print(os.getcwd())\n",
    "def update_working_directory():\n",
    "    from pathlib import Path\n",
    "    p = Path(os.getcwd()).parents[0]\n",
    "    os.chdir(p)\n",
    "    print(p)\n",
    "update_working_directory()"
   ]
  },
  {
   "cell_type": "code",
   "execution_count": 2,
   "metadata": {},
   "outputs": [],
   "source": [
    "import numpy as np\n",
    "import pandas as pd\n",
    "\n",
    "from src.models.train_utils import *"
   ]
  },
  {
   "cell_type": "code",
   "execution_count": 3,
   "metadata": {},
   "outputs": [],
   "source": [
    "vocab = initiate_vocab()\n",
    "\n",
    "historicalData, triesSession = initiate_session()"
   ]
  },
  {
   "cell_type": "code",
   "execution_count": 4,
   "metadata": {},
   "outputs": [
    {
     "name": "stdin",
     "output_type": "stream",
     "text": [
      "\u001b[1m0/0\u001b[0m - What is the English for 'das Organ'?    the organ\n"
     ]
    },
    {
     "name": "stdout",
     "output_type": "stream",
     "text": [
      "\u001b[92mCorrect!\u001b[0m\n"
     ]
    },
    {
     "name": "stdin",
     "output_type": "stream",
     "text": [
      "\u001b[1m1/1\u001b[0m - What is the English for 'überall'?    overall\n"
     ]
    },
    {
     "name": "stdout",
     "output_type": "stream",
     "text": [
      "\u001b[91mSorry\u001b[0m, it was 'überall = everywhere'\n"
     ]
    },
    {
     "name": "stdin",
     "output_type": "stream",
     "text": [
      "Write it again    überall everywhere\n",
      "\u001b[1m1/2\u001b[0m - What is the English for 'normal'?    normal\n"
     ]
    },
    {
     "name": "stdout",
     "output_type": "stream",
     "text": [
      "\u001b[92mCorrect!\u001b[0m\n"
     ]
    },
    {
     "name": "stdin",
     "output_type": "stream",
     "text": [
      "\u001b[1m2/3\u001b[0m - What is the English for 'erste'?    first\n"
     ]
    },
    {
     "name": "stdout",
     "output_type": "stream",
     "text": [
      "\u001b[92mCorrect!\u001b[0m\n"
     ]
    },
    {
     "name": "stdin",
     "output_type": "stream",
     "text": [
      "\u001b[1m3/4\u001b[0m - What is the German for 'the wine'?    der Wein\n"
     ]
    },
    {
     "name": "stdout",
     "output_type": "stream",
     "text": [
      "\u001b[92mCorrect!\u001b[0m\n"
     ]
    }
   ],
   "source": [
    "#while (sum(vocab['SucceedSession']) + sum(vocab['Succeed'])) != len(vocab):\n",
    "for i in range(5):\n",
    "    \n",
    "    nKnownWordsSession = sum(vocab['SucceedSession'])\n",
    "\n",
    "    # Pick a random word\n",
    "    rowToTest = choose_a_word(vocab)\n",
    "\n",
    "    # Choose language\n",
    "    input_language, output_language = choose_a_language()\n",
    "\n",
    "    # Take a guess\n",
    "    yourGuess = prompt_question(vocab, rowToTest, input_language, output_language, nKnownWordsSession, triesSession)\n",
    "\n",
    "    # Answer analysis\n",
    "    isItCorrect = yourGuess == vocab.loc[rowToTest,output_language]\n",
    "    isItAnotherWord = yourGuess in vocab[output_language].values\n",
    "\n",
    "    # Do we want to stop?\n",
    "    if (yourGuess == \"STOP IT\"):\n",
    "        print(\"Your last word was '{}={}'\".format(\n",
    "            vocab.loc[rowToTest,input_language], vocab.loc[rowToTest,output_language]))\n",
    "        break\n",
    "\n",
    "    # If correct answer\n",
    "    if isItCorrect:\n",
    "        if_correct()\n",
    "\n",
    "    # If wrong answer\n",
    "    if not isItCorrect:\n",
    "        if_not_correct(vocab, rowToTest, input_language, output_language, yourGuess, isItAnotherWord)\n",
    "\n",
    "    # Add to historical data\n",
    "    historicalData = add_historical_data(historicalData, vocab, rowToTest, output_language, isItCorrect)\n",
    "\n",
    "    # Update vocab\n",
    "    vocab = update_vocab(vocab, rowToTest, isItCorrect)\n",
    "\n",
    "    triesSession += 1"
   ]
  },
  {
   "cell_type": "code",
   "execution_count": 5,
   "metadata": {},
   "outputs": [],
   "source": [
    "# Update and save historical data\n",
    "update_historical_data(historicalData)\n",
    "\n",
    "# Update and save vocab\n",
    "finalize_vocab(vocab)"
   ]
  },
  {
   "cell_type": "code",
   "execution_count": null,
   "metadata": {},
   "outputs": [],
   "source": []
  }
 ],
 "metadata": {
  "kernelspec": {
   "display_name": "vocabulary_learning",
   "language": "python",
   "name": "vocabulary_learning"
  },
  "language_info": {
   "codemirror_mode": {
    "name": "ipython",
    "version": 3
   },
   "file_extension": ".py",
   "mimetype": "text/x-python",
   "name": "python",
   "nbconvert_exporter": "python",
   "pygments_lexer": "ipython3",
   "version": "3.7.5"
  }
 },
 "nbformat": 4,
 "nbformat_minor": 4
}
