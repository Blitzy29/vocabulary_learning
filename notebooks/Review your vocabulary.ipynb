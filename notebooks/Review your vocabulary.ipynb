{
 "cells": [
  {
   "cell_type": "code",
   "execution_count": 1,
   "metadata": {
    "ExecuteTime": {
     "end_time": "2020-09-24T17:24:46.252897Z",
     "start_time": "2020-09-24T17:24:46.249902Z"
    }
   },
   "outputs": [],
   "source": [
    "is_it_a_test = True\n",
    "test_name = \"_feature\""
   ]
  },
  {
   "cell_type": "code",
   "execution_count": null,
   "metadata": {},
   "outputs": [],
   "source": []
  },
  {
   "cell_type": "code",
   "execution_count": null,
   "metadata": {},
   "outputs": [],
   "source": []
  },
  {
   "cell_type": "code",
   "execution_count": 2,
   "metadata": {
    "ExecuteTime": {
     "end_time": "2020-09-24T17:24:47.388211Z",
     "start_time": "2020-09-24T17:24:47.250161Z"
    }
   },
   "outputs": [
    {
     "name": "stdout",
     "output_type": "stream",
     "text": [
      "/Users/admin/Projects/vocabulary_learning/notebooks\n",
      "/Users/admin/Projects/vocabulary_learning\n"
     ]
    },
    {
     "data": {
      "application/javascript": [
       "\n",
       "            setTimeout(function() {\n",
       "                var nbb_cell_id = 2;\n",
       "                var nbb_unformatted_code = \"%load_ext nb_black\\n%load_ext autoreload\\n%autoreload 2\\n\\nimport os\\n\\nprint(os.getcwd())\\n\\n\\ndef update_working_directory():\\n    from pathlib import Path\\n\\n    p = Path(os.getcwd()).parents[0]\\n    os.chdir(p)\\n    print(p)\\n\\n\\nupdate_working_directory()\";\n",
       "                var nbb_formatted_code = \"%load_ext nb_black\\n%load_ext autoreload\\n%autoreload 2\\n\\nimport os\\n\\nprint(os.getcwd())\\n\\n\\ndef update_working_directory():\\n    from pathlib import Path\\n\\n    p = Path(os.getcwd()).parents[0]\\n    os.chdir(p)\\n    print(p)\\n\\n\\nupdate_working_directory()\";\n",
       "                var nbb_cells = Jupyter.notebook.get_cells();\n",
       "                for (var i = 0; i < nbb_cells.length; ++i) {\n",
       "                    if (nbb_cells[i].input_prompt_number == nbb_cell_id) {\n",
       "                        if (nbb_cells[i].get_text() == nbb_unformatted_code) {\n",
       "                             nbb_cells[i].set_text(nbb_formatted_code);\n",
       "                        }\n",
       "                        break;\n",
       "                    }\n",
       "                }\n",
       "            }, 500);\n",
       "            "
      ],
      "text/plain": [
       "<IPython.core.display.Javascript object>"
      ]
     },
     "metadata": {},
     "output_type": "display_data"
    }
   ],
   "source": [
    "%load_ext nb_black\n",
    "%load_ext autoreload\n",
    "%autoreload 2\n",
    "\n",
    "import os\n",
    "\n",
    "print(os.getcwd())\n",
    "\n",
    "\n",
    "def update_working_directory():\n",
    "    from pathlib import Path\n",
    "\n",
    "    p = Path(os.getcwd()).parents[0]\n",
    "    os.chdir(p)\n",
    "    print(p)\n",
    "\n",
    "\n",
    "update_working_directory()"
   ]
  },
  {
   "cell_type": "code",
   "execution_count": 3,
   "metadata": {
    "ExecuteTime": {
     "end_time": "2020-09-24T17:24:49.824395Z",
     "start_time": "2020-09-24T17:24:49.513676Z"
    }
   },
   "outputs": [
    {
     "data": {
      "application/javascript": [
       "\n",
       "            setTimeout(function() {\n",
       "                var nbb_cell_id = 3;\n",
       "                var nbb_unformatted_code = \"import numpy as np\\nimport pandas as pd\\n\\nfrom src.data.collect_data import *\";\n",
       "                var nbb_formatted_code = \"import numpy as np\\nimport pandas as pd\\n\\nfrom src.data.collect_data import *\";\n",
       "                var nbb_cells = Jupyter.notebook.get_cells();\n",
       "                for (var i = 0; i < nbb_cells.length; ++i) {\n",
       "                    if (nbb_cells[i].input_prompt_number == nbb_cell_id) {\n",
       "                        if (nbb_cells[i].get_text() == nbb_unformatted_code) {\n",
       "                             nbb_cells[i].set_text(nbb_formatted_code);\n",
       "                        }\n",
       "                        break;\n",
       "                    }\n",
       "                }\n",
       "            }, 500);\n",
       "            "
      ],
      "text/plain": [
       "<IPython.core.display.Javascript object>"
      ]
     },
     "metadata": {},
     "output_type": "display_data"
    }
   ],
   "source": [
    "import numpy as np\n",
    "import pandas as pd\n",
    "\n",
    "from src.data.collect_data import *"
   ]
  },
  {
   "cell_type": "code",
   "execution_count": 4,
   "metadata": {
    "ExecuteTime": {
     "end_time": "2020-09-24T17:24:49.899677Z",
     "start_time": "2020-09-24T17:24:49.865065Z"
    }
   },
   "outputs": [
    {
     "data": {
      "application/javascript": [
       "\n",
       "            setTimeout(function() {\n",
       "                var nbb_cell_id = 4;\n",
       "                var nbb_unformatted_code = \"vocab = initiate_vocab(test=is_it_a_test, test_name=test_name)\\n\\nhistorical_data, tries_session, nb_known_words_session = initiate_session()\";\n",
       "                var nbb_formatted_code = \"vocab = initiate_vocab(test=is_it_a_test, test_name=test_name)\\n\\nhistorical_data, tries_session, nb_known_words_session = initiate_session()\";\n",
       "                var nbb_cells = Jupyter.notebook.get_cells();\n",
       "                for (var i = 0; i < nbb_cells.length; ++i) {\n",
       "                    if (nbb_cells[i].input_prompt_number == nbb_cell_id) {\n",
       "                        if (nbb_cells[i].get_text() == nbb_unformatted_code) {\n",
       "                             nbb_cells[i].set_text(nbb_formatted_code);\n",
       "                        }\n",
       "                        break;\n",
       "                    }\n",
       "                }\n",
       "            }, 500);\n",
       "            "
      ],
      "text/plain": [
       "<IPython.core.display.Javascript object>"
      ]
     },
     "metadata": {},
     "output_type": "display_data"
    }
   ],
   "source": [
    "vocab = initiate_vocab(test=is_it_a_test, test_name=test_name)\n",
    "\n",
    "historical_data, tries_session, nb_known_words_session = initiate_session()"
   ]
  },
  {
   "cell_type": "code",
   "execution_count": 5,
   "metadata": {
    "ExecuteTime": {
     "end_time": "2020-09-24T17:26:59.956739Z",
     "start_time": "2020-09-24T17:24:50.404843Z"
    },
    "scrolled": true
   },
   "outputs": [
    {
     "name": "stdout",
     "output_type": "stream",
     "text": [
      "0/0 - What is the english word for 'rennen'?   to sprint\n",
      "\u001b[92mCorrect!\u001b[0m\n",
      "1/1 - What is the german word for 'welcome'?   wilkommen\n",
      "\u001b[92mCorrect!\u001b[0m\n",
      "2/2 - What is the english word for 'verheiratet'?   marrid\n",
      "\u001b[91mSorry\u001b[0m, it was 'verheiratet = married'\n",
      "Write it again   \n",
      "2/3 - What is the english word for 'September'?   September\n",
      "\u001b[92mCorrect!\u001b[0m\n",
      "3/4 - What is the german word for 'a lot'?   viel\n",
      "\u001b[92mCorrect!\u001b[0m\n",
      "4/5 - What is the german word for 'the year'?   die Jahr\n",
      "\u001b[91mSorry\u001b[0m, it was 'the year = das Jahr'\n",
      "Write it again   \n",
      "4/6 - What is the english word for 'zusammen'?   together\n",
      "\u001b[92mCorrect!\u001b[0m\n",
      "5/7 - What is the german word for 'to speak'?   sprechen\n",
      "\u001b[92mCorrect!\u001b[0m\n",
      "6/8 - What is the english word for 'wirklich'?   wirkclih\n",
      "\u001b[91mSorry\u001b[0m, it was 'wirklich = really'\n",
      "Write it again   \n",
      "6/9 - What is the english word for 'die Aprikose'?   the apricot\n",
      "\u001b[92mCorrect!\u001b[0m\n",
      "7/10 - What is the english word for 'die Ärztin'?   the femal ocrg\n",
      "\u001b[91mSorry\u001b[0m, it was 'die Ärztin = the female doctor'\n",
      "Write it again   \n",
      "7/11 - What is the english word for 'richtig'?   correct\n",
      "\u001b[92mCorrect!\u001b[0m\n",
      "8/12 - What is the english word for 'der Pokal'?   the cup\n",
      "\u001b[92mCorrect!\u001b[0m\n",
      "9/13 - What is the english word for 'stimmen'?   to vote\n",
      "\u001b[92mCorrect!\u001b[0m\n",
      "There are no more word for today!\n"
     ]
    },
    {
     "data": {
      "application/javascript": [
       "\n",
       "            setTimeout(function() {\n",
       "                var nbb_cell_id = 5;\n",
       "                var nbb_unformatted_code = \"for i in range(100):\\n\\n    # Choose language\\n    input_language, output_language = choose_a_language(vocab)\\n    if input_language == -1:\\n        break\\n\\n    # Pick a random word\\n    id_vocab = choose_a_word(vocab, input_language, output_language)\\n\\n    # Take a guess\\n    your_guess, question_time = prompt_question(\\n        vocab,\\n        id_vocab,\\n        input_language,\\n        output_language,\\n        nb_known_words_session,\\n        tries_session,\\n    )\\n\\n    # Answer analysis\\n    is_it_correct = (\\n        your_guess\\n        == vocab.loc[vocab[\\\"id_vocab\\\"] == id_vocab, output_language].values[0]\\n    )\\n    is_it_another_word = your_guess in vocab[output_language].values\\n\\n    # Do we want to stop?\\n    if your_guess == \\\"STOP IT\\\":\\n        print(\\n            \\\"Your last word was '{}={}'\\\".format(\\n                vocab.loc[a, input_language].values[0],\\n                vocab.loc[vocab[\\\"id_vocab\\\"] == id_vocab, output_language].values[0],\\n            )\\n        )\\n        break\\n\\n    # If correct answer\\n    if is_it_correct:\\n        if_correct()\\n        nb_known_words_session += 1\\n        write_it_again = None\\n\\n    # If wrong answer\\n    if not is_it_correct:\\n        write_it_again = if_not_correct(\\n            vocab,\\n            id_vocab,\\n            input_language,\\n            output_language,\\n            your_guess,\\n            is_it_another_word,\\n        )\\n\\n    # Add to historical data\\n    historical_data = add_historical_data(\\n        historical_data,\\n        vocab,\\n        id_vocab,\\n        input_language,\\n        output_language,\\n        is_it_correct,\\n        your_guess,\\n        question_time,\\n        write_it_again,\\n    )\\n\\n    # Update vocab\\n    vocab = update_vocab(\\n        vocab, id_vocab, input_language, output_language, is_it_correct\\n    )\\n\\n    tries_session += 1\";\n",
       "                var nbb_formatted_code = \"for i in range(100):\\n\\n    # Choose language\\n    input_language, output_language = choose_a_language(vocab)\\n    if input_language == -1:\\n        break\\n\\n    # Pick a random word\\n    id_vocab = choose_a_word(vocab, input_language, output_language)\\n\\n    # Take a guess\\n    your_guess, question_time = prompt_question(\\n        vocab,\\n        id_vocab,\\n        input_language,\\n        output_language,\\n        nb_known_words_session,\\n        tries_session,\\n    )\\n\\n    # Answer analysis\\n    is_it_correct = (\\n        your_guess\\n        == vocab.loc[vocab[\\\"id_vocab\\\"] == id_vocab, output_language].values[0]\\n    )\\n    is_it_another_word = your_guess in vocab[output_language].values\\n\\n    # Do we want to stop?\\n    if your_guess == \\\"STOP IT\\\":\\n        print(\\n            \\\"Your last word was '{}={}'\\\".format(\\n                vocab.loc[a, input_language].values[0],\\n                vocab.loc[vocab[\\\"id_vocab\\\"] == id_vocab, output_language].values[0],\\n            )\\n        )\\n        break\\n\\n    # If correct answer\\n    if is_it_correct:\\n        if_correct()\\n        nb_known_words_session += 1\\n        write_it_again = None\\n\\n    # If wrong answer\\n    if not is_it_correct:\\n        write_it_again = if_not_correct(\\n            vocab,\\n            id_vocab,\\n            input_language,\\n            output_language,\\n            your_guess,\\n            is_it_another_word,\\n        )\\n\\n    # Add to historical data\\n    historical_data = add_historical_data(\\n        historical_data,\\n        vocab,\\n        id_vocab,\\n        input_language,\\n        output_language,\\n        is_it_correct,\\n        your_guess,\\n        question_time,\\n        write_it_again,\\n    )\\n\\n    # Update vocab\\n    vocab = update_vocab(\\n        vocab, id_vocab, input_language, output_language, is_it_correct\\n    )\\n\\n    tries_session += 1\";\n",
       "                var nbb_cells = Jupyter.notebook.get_cells();\n",
       "                for (var i = 0; i < nbb_cells.length; ++i) {\n",
       "                    if (nbb_cells[i].input_prompt_number == nbb_cell_id) {\n",
       "                        if (nbb_cells[i].get_text() == nbb_unformatted_code) {\n",
       "                             nbb_cells[i].set_text(nbb_formatted_code);\n",
       "                        }\n",
       "                        break;\n",
       "                    }\n",
       "                }\n",
       "            }, 500);\n",
       "            "
      ],
      "text/plain": [
       "<IPython.core.display.Javascript object>"
      ]
     },
     "metadata": {},
     "output_type": "display_data"
    }
   ],
   "source": [
    "for i in range(100):\n",
    "\n",
    "    # Choose language\n",
    "    input_language, output_language = choose_a_language(vocab)\n",
    "    if input_language == -1:\n",
    "        break\n",
    "\n",
    "    # Pick a random word\n",
    "    id_vocab = choose_a_word(vocab, input_language, output_language)\n",
    "\n",
    "    # Take a guess\n",
    "    your_guess, question_time = prompt_question(\n",
    "        vocab,\n",
    "        id_vocab,\n",
    "        input_language,\n",
    "        output_language,\n",
    "        nb_known_words_session,\n",
    "        tries_session,\n",
    "    )\n",
    "\n",
    "    # Answer analysis\n",
    "    is_it_correct = (\n",
    "        your_guess\n",
    "        == vocab.loc[vocab[\"id_vocab\"] == id_vocab, output_language].values[0]\n",
    "    )\n",
    "    is_it_another_word = your_guess in vocab[output_language].values\n",
    "\n",
    "    # Do we want to stop?\n",
    "    if your_guess == \"STOP IT\":\n",
    "        print(\n",
    "            \"Your last word was '{}={}'\".format(\n",
    "                vocab.loc[a, input_language].values[0],\n",
    "                vocab.loc[vocab[\"id_vocab\"] == id_vocab, output_language].values[0],\n",
    "            )\n",
    "        )\n",
    "        break\n",
    "\n",
    "    # If correct answer\n",
    "    if is_it_correct:\n",
    "        if_correct()\n",
    "        nb_known_words_session += 1\n",
    "        write_it_again = None\n",
    "\n",
    "    # If wrong answer\n",
    "    if not is_it_correct:\n",
    "        write_it_again = if_not_correct(\n",
    "            vocab,\n",
    "            id_vocab,\n",
    "            input_language,\n",
    "            output_language,\n",
    "            your_guess,\n",
    "            is_it_another_word,\n",
    "        )\n",
    "\n",
    "    # Add to historical data\n",
    "    historical_data = add_historical_data(\n",
    "        historical_data,\n",
    "        vocab,\n",
    "        id_vocab,\n",
    "        input_language,\n",
    "        output_language,\n",
    "        is_it_correct,\n",
    "        your_guess,\n",
    "        question_time,\n",
    "        write_it_again,\n",
    "    )\n",
    "\n",
    "    # Update vocab\n",
    "    vocab = update_vocab(\n",
    "        vocab, id_vocab, input_language, output_language, is_it_correct\n",
    "    )\n",
    "\n",
    "    tries_session += 1"
   ]
  },
  {
   "cell_type": "code",
   "execution_count": 6,
   "metadata": {
    "ExecuteTime": {
     "end_time": "2020-09-24T17:27:01.717826Z",
     "start_time": "2020-09-24T17:27:01.685838Z"
    }
   },
   "outputs": [
    {
     "data": {
      "application/javascript": [
       "\n",
       "            setTimeout(function() {\n",
       "                var nbb_cell_id = 6;\n",
       "                var nbb_unformatted_code = \"# Update and save historical data\\nupdate_historical_data(historical_data, test=is_it_a_test, test_name=test_name)\";\n",
       "                var nbb_formatted_code = \"# Update and save historical data\\nupdate_historical_data(historical_data, test=is_it_a_test, test_name=test_name)\";\n",
       "                var nbb_cells = Jupyter.notebook.get_cells();\n",
       "                for (var i = 0; i < nbb_cells.length; ++i) {\n",
       "                    if (nbb_cells[i].input_prompt_number == nbb_cell_id) {\n",
       "                        if (nbb_cells[i].get_text() == nbb_unformatted_code) {\n",
       "                             nbb_cells[i].set_text(nbb_formatted_code);\n",
       "                        }\n",
       "                        break;\n",
       "                    }\n",
       "                }\n",
       "            }, 500);\n",
       "            "
      ],
      "text/plain": [
       "<IPython.core.display.Javascript object>"
      ]
     },
     "metadata": {},
     "output_type": "display_data"
    }
   ],
   "source": [
    "# Update and save historical data\n",
    "update_historical_data(historical_data, test=is_it_a_test, test_name=test_name)"
   ]
  },
  {
   "cell_type": "code",
   "execution_count": 7,
   "metadata": {
    "ExecuteTime": {
     "end_time": "2020-09-24T17:27:02.131121Z",
     "start_time": "2020-09-24T17:27:02.102701Z"
    }
   },
   "outputs": [
    {
     "data": {
      "application/javascript": [
       "\n",
       "            setTimeout(function() {\n",
       "                var nbb_cell_id = 7;\n",
       "                var nbb_unformatted_code = \"# Update and save vocab\\nfinalize_vocab(vocab, test=is_it_a_test, test_name=test_name)\";\n",
       "                var nbb_formatted_code = \"# Update and save vocab\\nfinalize_vocab(vocab, test=is_it_a_test, test_name=test_name)\";\n",
       "                var nbb_cells = Jupyter.notebook.get_cells();\n",
       "                for (var i = 0; i < nbb_cells.length; ++i) {\n",
       "                    if (nbb_cells[i].input_prompt_number == nbb_cell_id) {\n",
       "                        if (nbb_cells[i].get_text() == nbb_unformatted_code) {\n",
       "                             nbb_cells[i].set_text(nbb_formatted_code);\n",
       "                        }\n",
       "                        break;\n",
       "                    }\n",
       "                }\n",
       "            }, 500);\n",
       "            "
      ],
      "text/plain": [
       "<IPython.core.display.Javascript object>"
      ]
     },
     "metadata": {},
     "output_type": "display_data"
    }
   ],
   "source": [
    "# Update and save vocab\n",
    "finalize_vocab(vocab, test=is_it_a_test, test_name=test_name)"
   ]
  },
  {
   "cell_type": "code",
   "execution_count": null,
   "metadata": {},
   "outputs": [],
   "source": []
  }
 ],
 "metadata": {
  "hide_input": false,
  "kernelspec": {
   "display_name": "vocabulary_learning",
   "language": "python",
   "name": "vocabulary_learning"
  },
  "language_info": {
   "codemirror_mode": {
    "name": "ipython",
    "version": 3
   },
   "file_extension": ".py",
   "mimetype": "text/x-python",
   "name": "python",
   "nbconvert_exporter": "python",
   "pygments_lexer": "ipython3",
   "version": "3.7.5"
  },
  "toc": {
   "base_numbering": 1,
   "nav_menu": {},
   "number_sections": true,
   "sideBar": true,
   "skip_h1_title": false,
   "title_cell": "Table of Contents",
   "title_sidebar": "Contents",
   "toc_cell": false,
   "toc_position": {},
   "toc_section_display": true,
   "toc_window_display": false
  }
 },
 "nbformat": 4,
 "nbformat_minor": 4
}
