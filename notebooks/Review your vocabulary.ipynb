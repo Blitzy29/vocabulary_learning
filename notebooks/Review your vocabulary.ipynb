{
 "cells": [
  {
   "cell_type": "code",
   "execution_count": 1,
   "metadata": {
    "ExecuteTime": {
     "end_time": "2020-09-22T22:38:45.930561Z",
     "start_time": "2020-09-22T22:38:45.749904Z"
    }
   },
   "outputs": [
    {
     "name": "stdout",
     "output_type": "stream",
     "text": [
      "/Users/admin/Projects/vocabulary_learning/notebooks\n",
      "/Users/admin/Projects/vocabulary_learning\n"
     ]
    },
    {
     "data": {
      "application/javascript": [
       "\n",
       "            setTimeout(function() {\n",
       "                var nbb_cell_id = 1;\n",
       "                var nbb_unformatted_code = \"%load_ext nb_black\\n%load_ext autoreload\\n%autoreload 2\\n\\nimport os\\n\\nprint(os.getcwd())\\n\\n\\ndef update_working_directory():\\n    from pathlib import Path\\n\\n    p = Path(os.getcwd()).parents[0]\\n    os.chdir(p)\\n    print(p)\\n\\n\\nupdate_working_directory()\";\n",
       "                var nbb_formatted_code = \"%load_ext nb_black\\n%load_ext autoreload\\n%autoreload 2\\n\\nimport os\\n\\nprint(os.getcwd())\\n\\n\\ndef update_working_directory():\\n    from pathlib import Path\\n\\n    p = Path(os.getcwd()).parents[0]\\n    os.chdir(p)\\n    print(p)\\n\\n\\nupdate_working_directory()\";\n",
       "                var nbb_cells = Jupyter.notebook.get_cells();\n",
       "                for (var i = 0; i < nbb_cells.length; ++i) {\n",
       "                    if (nbb_cells[i].input_prompt_number == nbb_cell_id) {\n",
       "                        if (nbb_cells[i].get_text() == nbb_unformatted_code) {\n",
       "                             nbb_cells[i].set_text(nbb_formatted_code);\n",
       "                        }\n",
       "                        break;\n",
       "                    }\n",
       "                }\n",
       "            }, 500);\n",
       "            "
      ],
      "text/plain": [
       "<IPython.core.display.Javascript object>"
      ]
     },
     "metadata": {},
     "output_type": "display_data"
    }
   ],
   "source": [
    "%load_ext nb_black\n",
    "%load_ext autoreload\n",
    "%autoreload 2\n",
    "\n",
    "import os\n",
    "\n",
    "print(os.getcwd())\n",
    "\n",
    "\n",
    "def update_working_directory():\n",
    "    from pathlib import Path\n",
    "\n",
    "    p = Path(os.getcwd()).parents[0]\n",
    "    os.chdir(p)\n",
    "    print(p)\n",
    "\n",
    "\n",
    "update_working_directory()"
   ]
  },
  {
   "cell_type": "code",
   "execution_count": 2,
   "metadata": {
    "ExecuteTime": {
     "end_time": "2020-09-22T22:38:47.850232Z",
     "start_time": "2020-09-22T22:38:47.381685Z"
    }
   },
   "outputs": [
    {
     "data": {
      "application/javascript": [
       "\n",
       "            setTimeout(function() {\n",
       "                var nbb_cell_id = 2;\n",
       "                var nbb_unformatted_code = \"import numpy as np\\nimport pandas as pd\\n\\nfrom src.data.collect_data import *\";\n",
       "                var nbb_formatted_code = \"import numpy as np\\nimport pandas as pd\\n\\nfrom src.data.collect_data import *\";\n",
       "                var nbb_cells = Jupyter.notebook.get_cells();\n",
       "                for (var i = 0; i < nbb_cells.length; ++i) {\n",
       "                    if (nbb_cells[i].input_prompt_number == nbb_cell_id) {\n",
       "                        if (nbb_cells[i].get_text() == nbb_unformatted_code) {\n",
       "                             nbb_cells[i].set_text(nbb_formatted_code);\n",
       "                        }\n",
       "                        break;\n",
       "                    }\n",
       "                }\n",
       "            }, 500);\n",
       "            "
      ],
      "text/plain": [
       "<IPython.core.display.Javascript object>"
      ]
     },
     "metadata": {},
     "output_type": "display_data"
    }
   ],
   "source": [
    "import numpy as np\n",
    "import pandas as pd\n",
    "\n",
    "from src.data.collect_data import *"
   ]
  },
  {
   "cell_type": "code",
   "execution_count": 4,
   "metadata": {
    "ExecuteTime": {
     "end_time": "2020-09-22T22:38:53.766204Z",
     "start_time": "2020-09-22T22:38:53.730564Z"
    }
   },
   "outputs": [
    {
     "data": {
      "application/javascript": [
       "\n",
       "            setTimeout(function() {\n",
       "                var nbb_cell_id = 4;\n",
       "                var nbb_unformatted_code = \"vocab = initiate_vocab(test=False)\\n\\nhistorical_data, tries_session = initiate_session()\\n\\nnb_known_words_session = 0\";\n",
       "                var nbb_formatted_code = \"vocab = initiate_vocab(test=False)\\n\\nhistorical_data, tries_session = initiate_session()\\n\\nnb_known_words_session = 0\";\n",
       "                var nbb_cells = Jupyter.notebook.get_cells();\n",
       "                for (var i = 0; i < nbb_cells.length; ++i) {\n",
       "                    if (nbb_cells[i].input_prompt_number == nbb_cell_id) {\n",
       "                        if (nbb_cells[i].get_text() == nbb_unformatted_code) {\n",
       "                             nbb_cells[i].set_text(nbb_formatted_code);\n",
       "                        }\n",
       "                        break;\n",
       "                    }\n",
       "                }\n",
       "            }, 500);\n",
       "            "
      ],
      "text/plain": [
       "<IPython.core.display.Javascript object>"
      ]
     },
     "metadata": {},
     "output_type": "display_data"
    }
   ],
   "source": [
    "vocab = initiate_vocab(test=False)\n",
    "\n",
    "historical_data, tries_session = initiate_session()\n",
    "\n",
    "nb_known_words_session = 0"
   ]
  },
  {
   "cell_type": "code",
   "execution_count": 5,
   "metadata": {
    "ExecuteTime": {
     "end_time": "2020-09-22T22:49:40.206470Z",
     "start_time": "2020-09-22T22:38:59.444271Z"
    },
    "scrolled": true
   },
   "outputs": [
    {
     "name": "stdout",
     "output_type": "stream",
     "text": [
      "0/0 - What is the english word for 'der Dom'?   the cathedral\n",
      "\u001b[92mCorrect!\u001b[0m\n",
      "1/1 - What is the german word for 'the red card'?   die rote Carte\n",
      "\u001b[91mSorry\u001b[0m, it was 'the red card = die rote Karte'\n",
      "Write it again   die rote Karte the red card die rote Karte\n",
      "1/2 - What is the english word for 'orange'?   orange\n",
      "\u001b[92mCorrect!\u001b[0m\n",
      "2/3 - What is the german word for 'the piece'?   die Stück\n",
      "\u001b[91mSorry\u001b[0m, it was 'the piece = das Stück'\n",
      "Write it again   das Stück the piece das Stück\n",
      "2/4 - What is the english word for 'mag'?   like\n",
      "\u001b[92mCorrect!\u001b[0m\n",
      "3/5 - What is the german word for 'the soup'?   die Suppe\n",
      "\u001b[92mCorrect!\u001b[0m\n",
      "4/6 - What is the german word for 'the ritual'?   das Ritual\n",
      "\u001b[92mCorrect!\u001b[0m\n",
      "5/7 - What is the english word for 'das Hotel'?   the hotel\n",
      "\u001b[92mCorrect!\u001b[0m\n",
      "6/8 - What is the english word for 'der Blumenkohl'?   the flower\n",
      "\u001b[91mSorry\u001b[0m, it was 'der Blumenkohl = the cauliflower'\n",
      "\u001b[93mYou confused it\u001b[0m with 'the flower = die Blume'\n",
      "Write it again   der Blumenkohl the cauliflower der Blumenkohl\n",
      "6/9 - What is the german word for 'the chair'?   der Stuhl\n",
      "\u001b[92mCorrect!\u001b[0m\n",
      "7/10 - What is the german word for 'to see'?   sehen\n",
      "\u001b[92mCorrect!\u001b[0m\n",
      "8/11 - What is the german word for 'short'?   kurz\n",
      "\u001b[92mCorrect!\u001b[0m\n",
      "9/12 - What is the english word for 'denken'?   to think\n",
      "\u001b[92mCorrect!\u001b[0m\n",
      "10/13 - What is the english word for 'das Kompliment'?   the compliment\n",
      "\u001b[92mCorrect!\u001b[0m\n",
      "11/14 - What is the german word for 'the hand'?   die Hande\n",
      "\u001b[91mSorry\u001b[0m, it was 'the hand = die Hand'\n",
      "Write it again   die Hand the hand die Hand\n",
      "11/15 - What is the english word for 'kennen'?   to know\n",
      "\u001b[92mCorrect!\u001b[0m\n",
      "12/16 - What is the german word for 'the bread'?   das Brot\n",
      "\u001b[92mCorrect!\u001b[0m\n",
      "13/17 - What is the german word for 'the apple'?   die Apfel\n",
      "\u001b[91mSorry\u001b[0m, it was 'the apple = der Apfel'\n",
      "Write it again   der Apfel the apple der Apfel\n",
      "13/18 - What is the english word for 'die Religion'?   the religion\n",
      "\u001b[92mCorrect!\u001b[0m\n",
      "14/19 - What is the english word for 'das Lotto'?   the lottery\n",
      "\u001b[92mCorrect!\u001b[0m\n",
      "15/20 - What is the english word for 'vielleicht'?   maybe\n",
      "\u001b[92mCorrect!\u001b[0m\n",
      "16/21 - What is the english word for 'genau'?   I agree\n",
      "\u001b[92mCorrect!\u001b[0m\n",
      "17/22 - What is the german word for 'the yellow card'?   die gelbe Karte\n",
      "\u001b[92mCorrect!\u001b[0m\n",
      "18/23 - What is the english word for 'der Computer'?   the computer\n",
      "\u001b[92mCorrect!\u001b[0m\n",
      "19/24 - What is the german word for 'the dress'?   die Rock\n",
      "\u001b[91mSorry\u001b[0m, it was 'the dress = das Kleid'\n",
      "Write it again   das Kleid the dress das Kleid\n",
      "19/25 - What is the german word for 'yes'?   ja\n",
      "\u001b[92mCorrect!\u001b[0m\n",
      "20/26 - What is the german word for 'the full-moon'?   \n",
      "\u001b[91mSorry\u001b[0m, it was 'the full-moon = der Vollmond'\n",
      "Write it again   der Vollmond the full-moon der Vollmond\n",
      "20/27 - What is the english word for 'weil'?   because\n",
      "\u001b[92mCorrect!\u001b[0m\n",
      "21/28 - What is the english word for 'hässlich'?   ugly\n",
      "\u001b[92mCorrect!\u001b[0m\n",
      "22/29 - What is the english word for 'vegetarier'?   vegetarian\n",
      "\u001b[92mCorrect!\u001b[0m\n",
      "23/30 - What is the english word for 'jubeln'?   to rejoy\n",
      "\u001b[91mSorry\u001b[0m, it was 'jubeln = to cheer'\n",
      "Write it again   jubeln to cheer jubeln\n",
      "23/31 - What is the german word for 'the onion'?   der Zwiebel\n",
      "\u001b[91mSorry\u001b[0m, it was 'the onion = die Zwiebel'\n",
      "Write it again   die Zwiebel the onion die Zwiebel\n",
      "23/32 - What is the english word for 'weiss'?   white\n",
      "\u001b[92mCorrect!\u001b[0m\n",
      "24/33 - What is the german word for 'together'?   zusammen\n",
      "\u001b[92mCorrect!\u001b[0m\n",
      "25/34 - What is the english word for 'der Himmel'?   the sky\n",
      "\u001b[92mCorrect!\u001b[0m\n",
      "26/35 - What is the english word for 'der Student'?   the studen\n",
      "\u001b[91mSorry\u001b[0m, it was 'der Student = the student'\n",
      "Write it again   der Student the student der Student\n",
      "26/36 - What is the german word for 'the orange juice'?   das Orangensaft\n",
      "\u001b[91mSorry\u001b[0m, it was 'the orange juice = der Orangensaft'\n",
      "Write it again   der Orangensaft the orange juie der Orangensaft\n",
      "26/37 - What is the german word for 'important'?   wichtig\n",
      "\u001b[92mCorrect!\u001b[0m\n",
      "27/38 - What is the english word for 'das Material'?   the material\n",
      "\u001b[92mCorrect!\u001b[0m\n",
      "28/39 - What is the german word for 'to swim'?   schwimmen\n",
      "\u001b[92mCorrect!\u001b[0m\n",
      "29/40 - What is the german word for 'the office'?   das Büro\n",
      "\u001b[92mCorrect!\u001b[0m\n",
      "30/41 - What is the german word for 'wrong'?   falsch\n",
      "\u001b[92mCorrect!\u001b[0m\n",
      "31/42 - What is the german word for 'late'?   spät\n",
      "\u001b[92mCorrect!\u001b[0m\n",
      "32/43 - What is the german word for 'to come'?   kommen\n",
      "\u001b[92mCorrect!\u001b[0m\n",
      "33/44 - What is the german word for 'the leopard'?   das Leopard\n",
      "\u001b[91mSorry\u001b[0m, it was 'the leopard = der Leopard'\n",
      "Write it again   der Leopard the leopard der Leopard\n",
      "33/45 - What is the german word for 'the insect'?   das Insekt\n",
      "\u001b[92mCorrect!\u001b[0m\n",
      "34/46 - What is the german word for 'the actor'?   der Schauspieler\n",
      "\u001b[92mCorrect!\u001b[0m\n",
      "35/47 - What is the german word for 'the qualification'?   das Qualification\n",
      "\u001b[91mSorry\u001b[0m, it was 'the qualification = die Qualifikation'\n",
      "Write it again   die Qualifikation the qualification die Qualifikation\n",
      "35/48 - What is the german word for 'excuse-me'?   entschuldigung\n",
      "\u001b[92mCorrect!\u001b[0m\n",
      "36/49 - What is the english word for 'die Sprache'?   the language\n",
      "\u001b[92mCorrect!\u001b[0m\n",
      "37/50 - What is the german word for 'the internship'?   das Praktikum\n",
      "\u001b[92mCorrect!\u001b[0m\n",
      "38/51 - What is the german word for 'the pineapple'?   der Ananas\n",
      "\u001b[91mSorry\u001b[0m, it was 'the pineapple = die Ananas'\n",
      "Write it again   die Ananas the pineapple die Ananas\n",
      "38/52 - What is the english word for 'zeigen'?   to show\n",
      "\u001b[92mCorrect!\u001b[0m\n",
      "39/53 - What is the german word for 'the calendar'?   das Kalendar\n",
      "\u001b[91mSorry\u001b[0m, it was 'the calendar = der Kalender'\n",
      "Write it again   der Kalender the calendar der Kalender\n",
      "39/54 - What is the english word for 'die Tomate'?   the tomato\n",
      "\u001b[92mCorrect!\u001b[0m\n",
      "40/55 - What is the german word for 'old'?   alt\n",
      "\u001b[92mCorrect!\u001b[0m\n",
      "41/56 - What is the german word for 'the time'?   die zeit\n",
      "\u001b[91mSorry\u001b[0m, it was 'the time = die Zeit'\n",
      "Write it again   die Zeit the time di Zeit\n",
      "41/57 - What is the german word for 'the grand-parents'?   die Eltern\n",
      "\u001b[91mSorry\u001b[0m, it was 'the grand-parents = die Grosseltern'\n",
      "\u001b[93mYou confused it\u001b[0m with 'die Eltern = the parents'\n",
      "Write it again   die Grosseltern the grand-parents die Grosseltern\n",
      "41/58 - What is the german word for 'to turn off'?   ausmachen\n",
      "\u001b[92mCorrect!\u001b[0m\n",
      "42/59 - What is the english word for 'trinken'?   to drink\n",
      "\u001b[92mCorrect!\u001b[0m\n",
      "43/60 - What is the english word for 'auf Wiedersehen'?   goodbye\n",
      "\u001b[92mCorrect!\u001b[0m\n",
      "44/61 - What is the english word for 'das Haus'?   the house\n",
      "\u001b[92mCorrect!\u001b[0m\n",
      "45/62 - What is the german word for 'the fly'?   fliegen\n",
      "\u001b[91mSorry\u001b[0m, it was 'the fly = die Fliege'\n",
      "\u001b[93mYou confused it\u001b[0m with 'fliegen = to fly'\n",
      "Write it again   die Fliege the fly die Fliege\n",
      "45/63 - What is the english word for 'die Speisekarte'?   the crd game\n",
      "\u001b[91mSorry\u001b[0m, it was 'die Speisekarte = the menu'\n",
      "Write it again   die Speisekarte dthe menu die Speisekarte\n",
      "45/64 - What is the german word for 'to have'?   haben\n",
      "\u001b[92mCorrect!\u001b[0m\n",
      "46/65 - What is the german word for 'the grand-son'?   der Enkel\n",
      "\u001b[92mCorrect!\u001b[0m\n",
      "47/66 - What is the english word for 'das Radio'?   the radio\n",
      "\u001b[92mCorrect!\u001b[0m\n",
      "48/67 - What is the english word for 'spielen'?   to play\n",
      "\u001b[92mCorrect!\u001b[0m\n",
      "49/68 - What is the german word for 'July'?   Juli\n",
      "\u001b[92mCorrect!\u001b[0m\n",
      "50/69 - What is the german word for 'the café'?   das Café\n",
      "\u001b[92mCorrect!\u001b[0m\n",
      "51/70 - What is the english word for 'die Freundin'?   the girlfriend\n",
      "\u001b[92mCorrect!\u001b[0m\n",
      "52/71 - What is the english word for 'die Magie'?   the magic\n",
      "\u001b[92mCorrect!\u001b[0m\n",
      "53/72 - What is the english word for 'der Tiger'?   the tiger\n",
      "\u001b[92mCorrect!\u001b[0m\n",
      "54/73 - What is the english word for 'der Pokal'?   the cup\n",
      "\u001b[92mCorrect!\u001b[0m\n",
      "55/74 - What is the english word for 'der Vogel'?   the bird\n",
      "\u001b[92mCorrect!\u001b[0m\n",
      "56/75 - What is the german word for 'bye for now'?   bie Bald\n",
      "\u001b[91mSorry\u001b[0m, it was 'bye for now = bis Bald'\n",
      "Write it again   bis Bald by for now bis Bald\n",
      "56/76 - What is the english word for 'die Adresse'?   the address\n",
      "\u001b[92mCorrect!\u001b[0m\n",
      "57/77 - What is the english word for 'der Kohl'?   the cabbage\n",
      "\u001b[92mCorrect!\u001b[0m\n",
      "58/78 - What is the english word for 'das Ethik'?   the ethic\n",
      "\u001b[91mSorry\u001b[0m, it was 'das Ethik = the ethique'\n",
      "Write it again   das Ethik the ethique das Ethik\n"
     ]
    },
    {
     "name": "stdout",
     "output_type": "stream",
     "text": [
      "58/79 - What is the english word for 'das Bett'?   the bed\n",
      "\u001b[92mCorrect!\u001b[0m\n",
      "59/80 - What is the german word for 'to kill'?   killen\n",
      "\u001b[92mCorrect!\u001b[0m\n",
      "60/81 - What is the german word for 'the stress'?   das Stress\n",
      "\u001b[91mSorry\u001b[0m, it was 'the stress = der Stress'\n",
      "Write it again   der Stress the stress der Stress\n",
      "60/82 - What is the english word for 'heute'?   today\n",
      "\u001b[92mCorrect!\u001b[0m\n",
      "61/83 - What is the german word for 'the sea'?   der See\n",
      "\u001b[91mSorry\u001b[0m, it was 'the sea = das Meer'\n",
      "\u001b[93mYou confused it\u001b[0m with 'der See = the lake'\n",
      "Write it again   das Meer the seas das Meer\n",
      "61/84 - What is the german word for 'November'?   November\n",
      "\u001b[92mCorrect!\u001b[0m\n",
      "62/85 - What is the english word for 'das Wort'?   the word\n",
      "\u001b[92mCorrect!\u001b[0m\n",
      "63/86 - What is the english word for 'lecker'?   delicious\n",
      "\u001b[92mCorrect!\u001b[0m\n",
      "64/87 - What is the english word for 'der Freund'?   the boyfriend\n",
      "\u001b[92mCorrect!\u001b[0m\n",
      "65/88 - What is the english word for 'Mai'?   May\n",
      "\u001b[92mCorrect!\u001b[0m\n",
      "66/89 - What is the english word for 'hübsch'?   pretty\n",
      "\u001b[92mCorrect!\u001b[0m\n",
      "67/90 - What is the german word for 'Wednesday'?   Mittwoc\n",
      "\u001b[91mSorry\u001b[0m, it was 'Wednesday = Mittwoch'\n",
      "Write it again   Mittwoch Wednesday Mittwoch\n",
      "67/91 - What is the english word for 'die Banane'?   the banana\n",
      "\u001b[92mCorrect!\u001b[0m\n",
      "68/92 - What is the english word for 'Guten Morgen'?   good morning\n",
      "\u001b[92mCorrect!\u001b[0m\n",
      "69/93 - What is the german word for 'the apricot'?   das Apricot\n",
      "\u001b[91mSorry\u001b[0m, it was 'the apricot = die Aprikose'\n",
      "Write it again   die Aprikose the apricot die Aprikose\n",
      "69/94 - What is the english word for 'die Angst'?   the fear\n",
      "\u001b[92mCorrect!\u001b[0m\n",
      "70/95 - What is the english word for 'Montag'?   Monday\n",
      "\u001b[92mCorrect!\u001b[0m\n",
      "71/96 - What is the german word for 'to search'?   \n",
      "\u001b[91mSorry\u001b[0m, it was 'to search = suchen'\n",
      "Write it again   suchen to search suchen\n",
      "71/97 - What is the english word for 'dann'?   then\n",
      "\u001b[92mCorrect!\u001b[0m\n",
      "72/98 - What is the german word for 'to write'?   schreiben\n",
      "\u001b[92mCorrect!\u001b[0m\n",
      "73/99 - What is the english word for 'Himmel'?   Heaven\n",
      "\u001b[92mCorrect!\u001b[0m\n"
     ]
    },
    {
     "data": {
      "application/javascript": [
       "\n",
       "            setTimeout(function() {\n",
       "                var nbb_cell_id = 5;\n",
       "                var nbb_unformatted_code = \"for i in range(100):\\n\\n    # Choose language\\n    input_language, output_language = choose_a_language(vocab)\\n    if input_language == -1:\\n        break\\n\\n    # Pick a random word\\n    id_vocab = choose_a_word(vocab, input_language, output_language)\\n\\n    # Take a guess\\n    your_guess = prompt_question(\\n        vocab,\\n        id_vocab,\\n        input_language,\\n        output_language,\\n        nb_known_words_session,\\n        tries_session,\\n    )\\n\\n    # Answer analysis\\n    is_it_correct = (\\n        your_guess\\n        == vocab.loc[vocab[\\\"id_vocab\\\"] == id_vocab, output_language].values[0]\\n    )\\n    is_it_another_word = your_guess in vocab[output_language].values\\n\\n    # Do we want to stop?\\n    if your_guess == \\\"STOP IT\\\":\\n        print(\\n            \\\"Your last word was '{}={}'\\\".format(\\n                vocab.loc[a, input_language].values[0],\\n                vocab.loc[vocab[\\\"id_vocab\\\"] == id_vocab, output_language].values[0],\\n            )\\n        )\\n        break\\n\\n    # If correct answer\\n    if is_it_correct:\\n        if_correct()\\n        nb_known_words_session += 1\\n        write_it_again = None\\n\\n    # If wrong answer\\n    if not is_it_correct:\\n        write_it_again = if_not_correct(\\n            vocab,\\n            id_vocab,\\n            input_language,\\n            output_language,\\n            your_guess,\\n            is_it_another_word,\\n        )\\n\\n    # Add to historical data\\n    historical_data = add_historical_data(\\n        historical_data,\\n        vocab,\\n        id_vocab,\\n        input_language,\\n        output_language,\\n        is_it_correct,\\n        your_guess,\\n        write_it_again,\\n    )\\n\\n    # Update vocab\\n    vocab = update_vocab(\\n        vocab, id_vocab, input_language, output_language, is_it_correct\\n    )\\n\\n    tries_session += 1\";\n",
       "                var nbb_formatted_code = \"for i in range(100):\\n\\n    # Choose language\\n    input_language, output_language = choose_a_language(vocab)\\n    if input_language == -1:\\n        break\\n\\n    # Pick a random word\\n    id_vocab = choose_a_word(vocab, input_language, output_language)\\n\\n    # Take a guess\\n    your_guess = prompt_question(\\n        vocab,\\n        id_vocab,\\n        input_language,\\n        output_language,\\n        nb_known_words_session,\\n        tries_session,\\n    )\\n\\n    # Answer analysis\\n    is_it_correct = (\\n        your_guess\\n        == vocab.loc[vocab[\\\"id_vocab\\\"] == id_vocab, output_language].values[0]\\n    )\\n    is_it_another_word = your_guess in vocab[output_language].values\\n\\n    # Do we want to stop?\\n    if your_guess == \\\"STOP IT\\\":\\n        print(\\n            \\\"Your last word was '{}={}'\\\".format(\\n                vocab.loc[a, input_language].values[0],\\n                vocab.loc[vocab[\\\"id_vocab\\\"] == id_vocab, output_language].values[0],\\n            )\\n        )\\n        break\\n\\n    # If correct answer\\n    if is_it_correct:\\n        if_correct()\\n        nb_known_words_session += 1\\n        write_it_again = None\\n\\n    # If wrong answer\\n    if not is_it_correct:\\n        write_it_again = if_not_correct(\\n            vocab,\\n            id_vocab,\\n            input_language,\\n            output_language,\\n            your_guess,\\n            is_it_another_word,\\n        )\\n\\n    # Add to historical data\\n    historical_data = add_historical_data(\\n        historical_data,\\n        vocab,\\n        id_vocab,\\n        input_language,\\n        output_language,\\n        is_it_correct,\\n        your_guess,\\n        write_it_again,\\n    )\\n\\n    # Update vocab\\n    vocab = update_vocab(\\n        vocab, id_vocab, input_language, output_language, is_it_correct\\n    )\\n\\n    tries_session += 1\";\n",
       "                var nbb_cells = Jupyter.notebook.get_cells();\n",
       "                for (var i = 0; i < nbb_cells.length; ++i) {\n",
       "                    if (nbb_cells[i].input_prompt_number == nbb_cell_id) {\n",
       "                        if (nbb_cells[i].get_text() == nbb_unformatted_code) {\n",
       "                             nbb_cells[i].set_text(nbb_formatted_code);\n",
       "                        }\n",
       "                        break;\n",
       "                    }\n",
       "                }\n",
       "            }, 500);\n",
       "            "
      ],
      "text/plain": [
       "<IPython.core.display.Javascript object>"
      ]
     },
     "metadata": {},
     "output_type": "display_data"
    }
   ],
   "source": [
    "for i in range(100):\n",
    "\n",
    "    # Choose language\n",
    "    input_language, output_language = choose_a_language(vocab)\n",
    "    if input_language == -1:\n",
    "        break\n",
    "\n",
    "    # Pick a random word\n",
    "    id_vocab = choose_a_word(vocab, input_language, output_language)\n",
    "\n",
    "    # Take a guess\n",
    "    your_guess = prompt_question(\n",
    "        vocab,\n",
    "        id_vocab,\n",
    "        input_language,\n",
    "        output_language,\n",
    "        nb_known_words_session,\n",
    "        tries_session,\n",
    "    )\n",
    "\n",
    "    # Answer analysis\n",
    "    is_it_correct = (\n",
    "        your_guess\n",
    "        == vocab.loc[vocab[\"id_vocab\"] == id_vocab, output_language].values[0]\n",
    "    )\n",
    "    is_it_another_word = your_guess in vocab[output_language].values\n",
    "\n",
    "    # Do we want to stop?\n",
    "    if your_guess == \"STOP IT\":\n",
    "        print(\n",
    "            \"Your last word was '{}={}'\".format(\n",
    "                vocab.loc[a, input_language].values[0],\n",
    "                vocab.loc[vocab[\"id_vocab\"] == id_vocab, output_language].values[0],\n",
    "            )\n",
    "        )\n",
    "        break\n",
    "\n",
    "    # If correct answer\n",
    "    if is_it_correct:\n",
    "        if_correct()\n",
    "        nb_known_words_session += 1\n",
    "        write_it_again = None\n",
    "\n",
    "    # If wrong answer\n",
    "    if not is_it_correct:\n",
    "        write_it_again = if_not_correct(\n",
    "            vocab,\n",
    "            id_vocab,\n",
    "            input_language,\n",
    "            output_language,\n",
    "            your_guess,\n",
    "            is_it_another_word,\n",
    "        )\n",
    "\n",
    "    # Add to historical data\n",
    "    historical_data = add_historical_data(\n",
    "        historical_data,\n",
    "        vocab,\n",
    "        id_vocab,\n",
    "        input_language,\n",
    "        output_language,\n",
    "        is_it_correct,\n",
    "        your_guess,\n",
    "        write_it_again,\n",
    "    )\n",
    "\n",
    "    # Update vocab\n",
    "    vocab = update_vocab(\n",
    "        vocab, id_vocab, input_language, output_language, is_it_correct\n",
    "    )\n",
    "\n",
    "    tries_session += 1"
   ]
  },
  {
   "cell_type": "code",
   "execution_count": 6,
   "metadata": {
    "ExecuteTime": {
     "end_time": "2020-09-22T22:50:03.541038Z",
     "start_time": "2020-09-22T22:50:03.501470Z"
    }
   },
   "outputs": [
    {
     "data": {
      "application/javascript": [
       "\n",
       "            setTimeout(function() {\n",
       "                var nbb_cell_id = 6;\n",
       "                var nbb_unformatted_code = \"# Update and save historical data\\nupdate_historical_data(historical_data, test=False)\";\n",
       "                var nbb_formatted_code = \"# Update and save historical data\\nupdate_historical_data(historical_data, test=False)\";\n",
       "                var nbb_cells = Jupyter.notebook.get_cells();\n",
       "                for (var i = 0; i < nbb_cells.length; ++i) {\n",
       "                    if (nbb_cells[i].input_prompt_number == nbb_cell_id) {\n",
       "                        if (nbb_cells[i].get_text() == nbb_unformatted_code) {\n",
       "                             nbb_cells[i].set_text(nbb_formatted_code);\n",
       "                        }\n",
       "                        break;\n",
       "                    }\n",
       "                }\n",
       "            }, 500);\n",
       "            "
      ],
      "text/plain": [
       "<IPython.core.display.Javascript object>"
      ]
     },
     "metadata": {},
     "output_type": "display_data"
    }
   ],
   "source": [
    "# Update and save historical data\n",
    "update_historical_data(historical_data, test=False)"
   ]
  },
  {
   "cell_type": "code",
   "execution_count": 7,
   "metadata": {
    "ExecuteTime": {
     "end_time": "2020-09-22T22:50:07.467869Z",
     "start_time": "2020-09-22T22:50:07.436423Z"
    }
   },
   "outputs": [
    {
     "data": {
      "application/javascript": [
       "\n",
       "            setTimeout(function() {\n",
       "                var nbb_cell_id = 7;\n",
       "                var nbb_unformatted_code = \"# Update and save vocab\\nfinalize_vocab(vocab, test=False)\";\n",
       "                var nbb_formatted_code = \"# Update and save vocab\\nfinalize_vocab(vocab, test=False)\";\n",
       "                var nbb_cells = Jupyter.notebook.get_cells();\n",
       "                for (var i = 0; i < nbb_cells.length; ++i) {\n",
       "                    if (nbb_cells[i].input_prompt_number == nbb_cell_id) {\n",
       "                        if (nbb_cells[i].get_text() == nbb_unformatted_code) {\n",
       "                             nbb_cells[i].set_text(nbb_formatted_code);\n",
       "                        }\n",
       "                        break;\n",
       "                    }\n",
       "                }\n",
       "            }, 500);\n",
       "            "
      ],
      "text/plain": [
       "<IPython.core.display.Javascript object>"
      ]
     },
     "metadata": {},
     "output_type": "display_data"
    }
   ],
   "source": [
    "# Update and save vocab\n",
    "finalize_vocab(vocab, test=False)"
   ]
  },
  {
   "cell_type": "code",
   "execution_count": null,
   "metadata": {},
   "outputs": [],
   "source": []
  }
 ],
 "metadata": {
  "hide_input": false,
  "kernelspec": {
   "display_name": "vocabulary_learning",
   "language": "python",
   "name": "vocabulary_learning"
  },
  "language_info": {
   "codemirror_mode": {
    "name": "ipython",
    "version": 3
   },
   "file_extension": ".py",
   "mimetype": "text/x-python",
   "name": "python",
   "nbconvert_exporter": "python",
   "pygments_lexer": "ipython3",
   "version": "3.7.5"
  },
  "toc": {
   "base_numbering": 1,
   "nav_menu": {},
   "number_sections": true,
   "sideBar": true,
   "skip_h1_title": false,
   "title_cell": "Table of Contents",
   "title_sidebar": "Contents",
   "toc_cell": false,
   "toc_position": {},
   "toc_section_display": true,
   "toc_window_display": false
  }
 },
 "nbformat": 4,
 "nbformat_minor": 4
}
