{
 "cells": [
  {
   "cell_type": "code",
   "execution_count": null,
   "metadata": {},
   "outputs": [],
   "source": [
    "%load_ext nb_black\n",
    "%load_ext autoreload\n",
    "%autoreload 2\n",
    "\n",
    "import os\n",
    "\n",
    "print(os.getcwd())\n",
    "\n",
    "\n",
    "def update_working_directory():\n",
    "    from pathlib import Path\n",
    "\n",
    "    p = Path(os.getcwd()).parents[0]\n",
    "    os.chdir(p)\n",
    "    print(p)\n",
    "\n",
    "\n",
    "update_working_directory()"
   ]
  },
  {
   "cell_type": "code",
   "execution_count": null,
   "metadata": {},
   "outputs": [],
   "source": [
    "path_dataset_train = \"data/raw/20210119/dataset_train.pkl\"\n",
    "path_dataset_valid = \"data/raw/20210119/dataset_valid.pkl\"\n",
    "path_dataset_test = \"data/raw/20210119/dataset_test.pkl\""
   ]
  },
  {
   "cell_type": "markdown",
   "metadata": {},
   "source": [
    "# Import"
   ]
  },
  {
   "cell_type": "code",
   "execution_count": null,
   "metadata": {},
   "outputs": [],
   "source": [
    "import dill\n",
    "import numpy as np\n",
    "import pandas as pd\n",
    "import plotly.graph_objects as go\n",
    "import matplotlib.pyplot as plt\n",
    "import seaborn as sns\n",
    "\n",
    "pd.set_option(\"display.max_columns\", None)\n",
    "\n",
    "from src.models.dummy_classifier import ModelDummyClassifier\n",
    "from src.models.logistic_regression import ModelLogisticRegression\n",
    "from src.models.gradient_boosting import ModelGradientBoosting\n",
    "import src.models.performance_metrics as performance_metrics"
   ]
  },
  {
   "cell_type": "markdown",
   "metadata": {},
   "source": [
    "# Training models"
   ]
  },
  {
   "cell_type": "markdown",
   "metadata": {
    "heading_collapsed": true
   },
   "source": [
    "## Dummy Classifier"
   ]
  },
  {
   "cell_type": "code",
   "execution_count": null,
   "metadata": {
    "hidden": true
   },
   "outputs": [],
   "source": [
    "with open(path_dataset_train, \"rb\") as input_file:\n",
    "    dataset_train = dill.load(input_file)"
   ]
  },
  {
   "cell_type": "code",
   "execution_count": null,
   "metadata": {
    "hidden": true
   },
   "outputs": [],
   "source": [
    "model = ModelDummyClassifier()\n",
    "model.version"
   ]
  },
  {
   "cell_type": "code",
   "execution_count": null,
   "metadata": {
    "hidden": true
   },
   "outputs": [],
   "source": [
    "dataset_train = model.preprocessing_training(dataset_train)"
   ]
  },
  {
   "cell_type": "code",
   "execution_count": null,
   "metadata": {
    "hidden": true
   },
   "outputs": [],
   "source": [
    "model.train(dataset_train)"
   ]
  },
  {
   "cell_type": "code",
   "execution_count": null,
   "metadata": {
    "hidden": true
   },
   "outputs": [],
   "source": [
    "with open(f\"models/{model.version}__model.pkl\", \"wb\") as file:\n",
    "    dill.dump(model, file)\n",
    "    print(f\"Saved at {file.name}\")"
   ]
  },
  {
   "cell_type": "markdown",
   "metadata": {},
   "source": [
    "## Logistic Regression"
   ]
  },
  {
   "cell_type": "code",
   "execution_count": null,
   "metadata": {},
   "outputs": [],
   "source": [
    "with open(path_dataset_train, \"rb\") as input_file:\n",
    "    dataset_train = dill.load(input_file)"
   ]
  },
  {
   "cell_type": "code",
   "execution_count": null,
   "metadata": {},
   "outputs": [],
   "source": [
    "model = ModelLogisticRegression()\n",
    "model.version"
   ]
  },
  {
   "cell_type": "code",
   "execution_count": null,
   "metadata": {},
   "outputs": [],
   "source": [
    "dataset_train = model.preprocessing_training(dataset_train)"
   ]
  },
  {
   "cell_type": "code",
   "execution_count": null,
   "metadata": {},
   "outputs": [],
   "source": [
    "model.train(dataset_train)"
   ]
  },
  {
   "cell_type": "code",
   "execution_count": null,
   "metadata": {},
   "outputs": [],
   "source": [
    "model.plot_coefficients()"
   ]
  },
  {
   "cell_type": "code",
   "execution_count": null,
   "metadata": {},
   "outputs": [],
   "source": [
    "with open(f\"models/{model.version}__model.pkl\", \"wb\") as file:\n",
    "    dill.dump(model, file)"
   ]
  },
  {
   "cell_type": "code",
   "execution_count": null,
   "metadata": {},
   "outputs": [],
   "source": [
    "print(f\"saved at models/{model.version}__model.pkl\")"
   ]
  },
  {
   "cell_type": "markdown",
   "metadata": {
    "heading_collapsed": true
   },
   "source": [
    "## Gradient Boosting"
   ]
  },
  {
   "cell_type": "code",
   "execution_count": null,
   "metadata": {
    "hidden": true
   },
   "outputs": [],
   "source": [
    "with open(path_dataset_train, \"rb\") as input_file:\n",
    "    dataset_train = dill.load(input_file)"
   ]
  },
  {
   "cell_type": "code",
   "execution_count": null,
   "metadata": {
    "hidden": true
   },
   "outputs": [],
   "source": [
    "with open(path_dataset_valid, \"rb\") as input_file:\n",
    "    dataset_valid = dill.load(input_file)"
   ]
  },
  {
   "cell_type": "code",
   "execution_count": null,
   "metadata": {
    "hidden": true
   },
   "outputs": [],
   "source": [
    "model = ModelGradientBoosting()\n",
    "model.version"
   ]
  },
  {
   "cell_type": "code",
   "execution_count": null,
   "metadata": {
    "hidden": true
   },
   "outputs": [],
   "source": [
    "dataset_train = model.preprocessing_training(dataset_train)"
   ]
  },
  {
   "cell_type": "code",
   "execution_count": null,
   "metadata": {
    "hidden": true
   },
   "outputs": [],
   "source": [
    "dataset_valid = model.preprocessing_inference(dataset_valid)"
   ]
  },
  {
   "cell_type": "code",
   "execution_count": null,
   "metadata": {
    "hidden": true
   },
   "outputs": [],
   "source": [
    "model.train(dataset_train, dataset_valid)"
   ]
  },
  {
   "cell_type": "code",
   "execution_count": null,
   "metadata": {
    "hidden": true
   },
   "outputs": [],
   "source": [
    "with open(f\"models/{model.version}__model.pkl\", \"wb\") as file:\n",
    "    dill.dump(model, file)"
   ]
  },
  {
   "cell_type": "markdown",
   "metadata": {},
   "source": [
    "# Dataset"
   ]
  },
  {
   "cell_type": "code",
   "execution_count": null,
   "metadata": {},
   "outputs": [],
   "source": [
    "with open(path_dataset_test, \"rb\") as input_file:\n",
    "    dataset_test_original = dill.load(input_file)"
   ]
  },
  {
   "cell_type": "markdown",
   "metadata": {},
   "source": [
    "# Initialisation"
   ]
  },
  {
   "cell_type": "code",
   "execution_count": null,
   "metadata": {},
   "outputs": [],
   "source": [
    "results_test_all_models = pd.DataFrame(columns=[\"metric\"])\n",
    "fig_precision_recall_curve = go.Figure()\n",
    "fig_roc_auc_curve = go.Figure()"
   ]
  },
  {
   "cell_type": "code",
   "execution_count": null,
   "metadata": {},
   "outputs": [],
   "source": [
    "list_models_to_compare = [\n",
    "    # \"dummy_classifier__20210123\",\n",
    "    \"logistic_regression__20210131\",\n",
    "    \"gradient_boosting__20210128\",\n",
    "]"
   ]
  },
  {
   "cell_type": "markdown",
   "metadata": {},
   "source": [
    "# Getting data"
   ]
  },
  {
   "cell_type": "code",
   "execution_count": null,
   "metadata": {},
   "outputs": [],
   "source": [
    "for model_name in list_models_to_compare:\n",
    "\n",
    "    dataset_test = dataset_test_original.copy()\n",
    "\n",
    "    with open(f\"models/{model_name}__model.pkl\", \"rb\") as input_file:\n",
    "        model = dill.load(input_file)\n",
    "\n",
    "    y_test = dataset_test[model.vardict[\"target\"]].copy()\n",
    "    dataset_test = model.preprocessing_inference(dataset_test)\n",
    "    predictions = model.predict(dataset=dataset_test, target_present=False)\n",
    "    predictions[\"y_true\"] = y_test.values.tolist()\n",
    "\n",
    "    binary_classification_results = (\n",
    "        performance_metrics.get_binary_classification_results(\n",
    "            predictions, model_name=f\"{model_name}_test\"\n",
    "        )\n",
    "    )\n",
    "\n",
    "    regression_results = performance_metrics.get_regression_results(\n",
    "        predictions, model_name=f\"{model_name}_test\"\n",
    "    )\n",
    "\n",
    "    results_test_model = {**binary_classification_results, **regression_results}\n",
    "\n",
    "    results_test_model_table = pd.DataFrame.from_dict(\n",
    "        results_test_model, orient=\"index\", columns=[\"value\"]\n",
    "    )\n",
    "\n",
    "    results_test_model_table.reset_index(inplace=True)\n",
    "    results_test_model_table.rename(\n",
    "        columns={\"index\": \"metric\", \"value\": model_name}, inplace=True\n",
    "    )\n",
    "\n",
    "    results_test_all_models = pd.merge(\n",
    "        results_test_all_models,\n",
    "        results_test_model_table,\n",
    "        on=\"metric\",\n",
    "        how=\"outer\",\n",
    "    )\n",
    "\n",
    "    # Create traces\n",
    "\n",
    "    fig_precision_recall_curve = performance_metrics.add_precision_recall_curve(\n",
    "        fig_precision_recall_curve, predictions, model_name\n",
    "    )\n",
    "\n",
    "    fig_roc_auc_curve = performance_metrics.add_roc_auc_curve(\n",
    "        fig_roc_auc_curve, predictions, model_name\n",
    "    )"
   ]
  },
  {
   "cell_type": "markdown",
   "metadata": {},
   "source": [
    "# Analysis"
   ]
  },
  {
   "cell_type": "markdown",
   "metadata": {},
   "source": [
    "## Model metrics"
   ]
  },
  {
   "cell_type": "code",
   "execution_count": null,
   "metadata": {},
   "outputs": [],
   "source": [
    "metric_objective = {\n",
    "    \"total_population\": \"neutral\",\n",
    "    \"total_positive\": \"neutral\",\n",
    "    \"total_negative\": \"neutral\",\n",
    "    \"random_precision\": \"neutral\",\n",
    "    \"true_positive\": \"maximum\",\n",
    "    \"false_negative\": \"minimum\",\n",
    "    \"false_positive\": \"minimum\",\n",
    "    \"true_negative\": \"maximum\",\n",
    "    \"recall\": \"maximum\",\n",
    "    \"miss_rate\": \"minimum\",\n",
    "    \"fall_out\": \"minimum\",\n",
    "    \"specificity\": \"maximum\",\n",
    "    \"precision\": \"maximum\",\n",
    "    \"false_discovery_rate\": \"minimum\",\n",
    "    \"false_omission_rate\": \"minimum\",\n",
    "    \"negative_predictive_value\": \"maximum\",\n",
    "    \"accuracy\": \"maximum\",\n",
    "    \"prevalence\": \"neutral\",\n",
    "    \"positive_likelihood_ratio\": \"maximum\",\n",
    "    \"negative_likelihood_ratio\": \"minimum\",\n",
    "    \"diagnostic_odds_ratio\": \"maximum\",\n",
    "    \"f1_score\": \"maximum\",\n",
    "    \"logit_roc_auc\": \"maximum\",\n",
    "    \"explained_variance_score\": \"maximum\",\n",
    "    \"max_error\": \"minimum\",\n",
    "    \"mean_absolute_error\": \"minimum\",\n",
    "    \"root_mean_squared_error\": \"minimum\",\n",
    "    \"r2_score\": \"maximum\",\n",
    "    \"normalised_log_loss\": \"minimum\",\n",
    "    \"normalised_cross_entropy\": \"minimum\",\n",
    "    \"brier_score\": \"minimum\",\n",
    "}"
   ]
  },
  {
   "cell_type": "code",
   "execution_count": null,
   "metadata": {},
   "outputs": [],
   "source": [
    "results_test_all_models[\"objective\"] = results_test_all_models[\"metric\"].map(\n",
    "    metric_objective\n",
    ")"
   ]
  },
  {
   "cell_type": "code",
   "execution_count": null,
   "metadata": {},
   "outputs": [],
   "source": [
    "import pandas as pd\n",
    "import numpy as np\n",
    "\n",
    "\n",
    "def ifthenelse_color(v, objective, min_value, max_value):\n",
    "    if (v == min_value) & (v == max_value):\n",
    "        return \"color: black\"\n",
    "    elif ((v == min_value) & (objective == \"maximum\")) or (\n",
    "        (v == max_value) & (objective == \"minimum\")\n",
    "    ):\n",
    "        return \"color: red\"\n",
    "    elif ((v == max_value) & (objective == \"maximum\")) or (\n",
    "        (v == min_value) & (objective == \"minimum\")\n",
    "    ):\n",
    "        return \"color: green\"\n",
    "    else:\n",
    "        return \"color: black\"\n",
    "\n",
    "\n",
    "def highlight_max(s):\n",
    "    s_wo_metric = s[1:-1]\n",
    "    objective = s[-1]\n",
    "\n",
    "    max_value = max(s_wo_metric)\n",
    "    min_value = min(s_wo_metric)\n",
    "\n",
    "    s_color = [\n",
    "        ifthenelse_color(v, objective, min_value, max_value) for v in s_wo_metric\n",
    "    ]\n",
    "    s_color = [\"color: black\"] + s_color + [\"color: black\"]\n",
    "    return s_color\n",
    "\n",
    "\n",
    "results_test_all_models.style.apply(highlight_max, axis=1)"
   ]
  },
  {
   "cell_type": "code",
   "execution_count": null,
   "metadata": {},
   "outputs": [],
   "source": [
    "results_test_all_models[\n",
    "    results_test_all_models[\"metric\"].isin(\n",
    "        [\n",
    "            \"total_population\",\n",
    "            \"precision\",\n",
    "            \"recall\",\n",
    "            \"f1_score\",\n",
    "            \"accuracy\",\n",
    "            \"logit_roc_auc\",\n",
    "            \"mean_absolute_error\",\n",
    "        ]\n",
    "    )\n",
    "].style.apply(highlight_max, axis=1)"
   ]
  },
  {
   "cell_type": "markdown",
   "metadata": {},
   "source": [
    "## ROC AUC curve"
   ]
  },
  {
   "cell_type": "code",
   "execution_count": null,
   "metadata": {},
   "outputs": [],
   "source": [
    "fig_roc_auc_curve.add_trace(\n",
    "    go.Scatter(\n",
    "        x=[0, 1],\n",
    "        y=[0, 1],\n",
    "        mode=\"lines\",\n",
    "        name=\"random\",\n",
    "        line=dict(color=\"black\", dash=\"dash\"),\n",
    "    )\n",
    ")\n",
    "\n",
    "fig_roc_auc_curve = performance_metrics.add_square(\n",
    "    fig_roc_auc_curve, x0=0, x1=1, y0=0, y1=1\n",
    ")\n",
    "\n",
    "fig_roc_auc_curve.update_layout(\n",
    "    title=\"Receiver operating characteristic (ROC) curve\",\n",
    "    legend={\"itemsizing\": \"constant\"},\n",
    ")\n",
    "\n",
    "fig_roc_auc_curve.update_xaxes(title_text=\"False Positive Rate\", range=[-0.05, 1.05])\n",
    "fig_roc_auc_curve.update_yaxes(title_text=\"True Positive Rate\", range=[-0.05, 1.05])\n",
    "\n",
    "fig_roc_auc_curve.show()\n",
    "\n",
    "fig_roc_auc_curve.write_html(\"reports/20210119_comparison_roc_auc_curve.html\")"
   ]
  },
  {
   "cell_type": "markdown",
   "metadata": {},
   "source": [
    "## Precision - Recall curve"
   ]
  },
  {
   "cell_type": "code",
   "execution_count": null,
   "metadata": {},
   "outputs": [],
   "source": [
    "fig_precision_recall_curve = performance_metrics.add_square(\n",
    "    fig_precision_recall_curve, x0=0, x1=1, y0=0, y1=1\n",
    ")\n",
    "\n",
    "fig_precision_recall_curve.add_trace(\n",
    "    go.Scatter(\n",
    "        x=[0, 1],\n",
    "        y=[\n",
    "            binary_classification_results[\"random_precision\"],\n",
    "            binary_classification_results[\"random_precision\"],\n",
    "        ],\n",
    "        mode=\"lines\",\n",
    "        name=\"Random precision\",\n",
    "        line=dict(color=\"black\", dash=\"dash\"),\n",
    "    )\n",
    ")\n",
    "\n",
    "fig_precision_recall_curve.update_layout(\n",
    "    title=\"Precision-Recall curve\",\n",
    "    legend={\"itemsizing\": \"constant\"},\n",
    ")\n",
    "\n",
    "fig_precision_recall_curve.update_xaxes(title_text=\"Recall\", range=[-0.05, 1.05])\n",
    "fig_precision_recall_curve.update_yaxes(title_text=\"Precision\", range=[-0.05, 1.05])\n",
    "\n",
    "fig_precision_recall_curve.show()\n",
    "\n",
    "fig_roc_auc_curve.write_html(\"reports/20210119_comparison_precision_recall_curve.html\")"
   ]
  },
  {
   "cell_type": "code",
   "execution_count": null,
   "metadata": {},
   "outputs": [],
   "source": []
  },
  {
   "cell_type": "code",
   "execution_count": null,
   "metadata": {},
   "outputs": [],
   "source": []
  },
  {
   "cell_type": "code",
   "execution_count": null,
   "metadata": {},
   "outputs": [],
   "source": []
  }
 ],
 "metadata": {
  "hide_input": false,
  "kernelspec": {
   "display_name": "vocabulary_learning",
   "language": "python",
   "name": "vocabulary_learning"
  },
  "language_info": {
   "codemirror_mode": {
    "name": "ipython",
    "version": 3
   },
   "file_extension": ".py",
   "mimetype": "text/x-python",
   "name": "python",
   "nbconvert_exporter": "python",
   "pygments_lexer": "ipython3",
   "version": "3.7.5"
  },
  "toc": {
   "base_numbering": 1,
   "nav_menu": {},
   "number_sections": true,
   "sideBar": true,
   "skip_h1_title": false,
   "title_cell": "Table of Contents",
   "title_sidebar": "Contents",
   "toc_cell": false,
   "toc_position": {},
   "toc_section_display": true,
   "toc_window_display": false
  }
 },
 "nbformat": 4,
 "nbformat_minor": 4
}
