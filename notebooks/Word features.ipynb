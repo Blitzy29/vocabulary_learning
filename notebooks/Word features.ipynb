{
 "cells": [
  {
   "cell_type": "code",
   "execution_count": 1,
   "metadata": {
    "ExecuteTime": {
     "end_time": "2020-09-23T19:57:22.305470Z",
     "start_time": "2020-09-23T19:57:22.298195Z"
    }
   },
   "outputs": [
    {
     "name": "stdout",
     "output_type": "stream",
     "text": [
      "/Users/admin/Projects/vocabulary_learning/notebooks\n",
      "/Users/admin/Projects/vocabulary_learning\n"
     ]
    }
   ],
   "source": [
    "import os\n",
    "print(os.getcwd())\n",
    "def update_working_directory():\n",
    "    from pathlib import Path\n",
    "    p = Path(os.getcwd()).parents[0]\n",
    "    os.chdir(p)\n",
    "    print(p)\n",
    "update_working_directory()"
   ]
  },
  {
   "cell_type": "code",
   "execution_count": 2,
   "metadata": {
    "ExecuteTime": {
     "end_time": "2020-09-23T19:57:23.963407Z",
     "start_time": "2020-09-23T19:57:23.504881Z"
    }
   },
   "outputs": [],
   "source": [
    "import numpy as np\n",
    "import pandas as pd"
   ]
  },
  {
   "cell_type": "code",
   "execution_count": 3,
   "metadata": {
    "ExecuteTime": {
     "end_time": "2020-09-23T19:57:47.814016Z",
     "start_time": "2020-09-23T19:57:47.809802Z"
    }
   },
   "outputs": [],
   "source": [
    "def get_vocab(vocab_path='data/raw/german_english.csv', list_columns=None):\n",
    "    vocab = pd.read_csv(vocab_path)\n",
    "\n",
    "    if list_columns is None:\n",
    "        list_columns = ['id_vocab', 'german', 'english']\n",
    "    vocab = vocab[list_columns]\n",
    "\n",
    "    return vocab"
   ]
  },
  {
   "cell_type": "code",
   "execution_count": 4,
   "metadata": {
    "ExecuteTime": {
     "end_time": "2020-09-23T19:57:48.565667Z",
     "start_time": "2020-09-23T19:57:48.539397Z"
    }
   },
   "outputs": [
    {
     "data": {
      "text/html": [
       "<div>\n",
       "<style scoped>\n",
       "    .dataframe tbody tr th:only-of-type {\n",
       "        vertical-align: middle;\n",
       "    }\n",
       "\n",
       "    .dataframe tbody tr th {\n",
       "        vertical-align: top;\n",
       "    }\n",
       "\n",
       "    .dataframe thead th {\n",
       "        text-align: right;\n",
       "    }\n",
       "</style>\n",
       "<table border=\"1\" class=\"dataframe\">\n",
       "  <thead>\n",
       "    <tr style=\"text-align: right;\">\n",
       "      <th></th>\n",
       "      <th>id_vocab</th>\n",
       "      <th>german</th>\n",
       "      <th>english</th>\n",
       "    </tr>\n",
       "  </thead>\n",
       "  <tbody>\n",
       "    <tr>\n",
       "      <th>0</th>\n",
       "      <td>1</td>\n",
       "      <td>aber</td>\n",
       "      <td>but</td>\n",
       "    </tr>\n",
       "    <tr>\n",
       "      <th>1</th>\n",
       "      <td>2</td>\n",
       "      <td>allein</td>\n",
       "      <td>alone</td>\n",
       "    </tr>\n",
       "    <tr>\n",
       "      <th>2</th>\n",
       "      <td>3</td>\n",
       "      <td>alt</td>\n",
       "      <td>old</td>\n",
       "    </tr>\n",
       "    <tr>\n",
       "      <th>3</th>\n",
       "      <td>4</td>\n",
       "      <td>andere</td>\n",
       "      <td>other</td>\n",
       "    </tr>\n",
       "    <tr>\n",
       "      <th>4</th>\n",
       "      <td>5</td>\n",
       "      <td>anrufen</td>\n",
       "      <td>to phone</td>\n",
       "    </tr>\n",
       "    <tr>\n",
       "      <th>...</th>\n",
       "      <td>...</td>\n",
       "      <td>...</td>\n",
       "      <td>...</td>\n",
       "    </tr>\n",
       "    <tr>\n",
       "      <th>605</th>\n",
       "      <td>606</td>\n",
       "      <td>das Effekt</td>\n",
       "      <td>the effect</td>\n",
       "    </tr>\n",
       "    <tr>\n",
       "      <th>606</th>\n",
       "      <td>607</td>\n",
       "      <td>das Herz</td>\n",
       "      <td>the heart</td>\n",
       "    </tr>\n",
       "    <tr>\n",
       "      <th>607</th>\n",
       "      <td>608</td>\n",
       "      <td>essen</td>\n",
       "      <td>to eat</td>\n",
       "    </tr>\n",
       "    <tr>\n",
       "      <th>608</th>\n",
       "      <td>609</td>\n",
       "      <td>studieren</td>\n",
       "      <td>to study</td>\n",
       "    </tr>\n",
       "    <tr>\n",
       "      <th>609</th>\n",
       "      <td>610</td>\n",
       "      <td>waschen</td>\n",
       "      <td>to wash</td>\n",
       "    </tr>\n",
       "  </tbody>\n",
       "</table>\n",
       "<p>610 rows × 3 columns</p>\n",
       "</div>"
      ],
      "text/plain": [
       "     id_vocab      german     english\n",
       "0           1        aber         but\n",
       "1           2      allein       alone\n",
       "2           3         alt         old\n",
       "3           4      andere       other\n",
       "4           5     anrufen    to phone\n",
       "..        ...         ...         ...\n",
       "605       606  das Effekt  the effect\n",
       "606       607    das Herz   the heart\n",
       "607       608       essen      to eat\n",
       "608       609   studieren    to study\n",
       "609       610     waschen     to wash\n",
       "\n",
       "[610 rows x 3 columns]"
      ]
     },
     "execution_count": 4,
     "metadata": {},
     "output_type": "execute_result"
    }
   ],
   "source": [
    "vocab = get_vocab()\n",
    "vocab"
   ]
  },
  {
   "cell_type": "code",
   "execution_count": 5,
   "metadata": {
    "ExecuteTime": {
     "end_time": "2020-09-23T19:59:07.087063Z",
     "start_time": "2020-09-23T19:59:07.081885Z"
    }
   },
   "outputs": [],
   "source": [
    "def remove_article(\n",
    "    vocab,\n",
    "    list_german_article = ['der','die','das'],\n",
    "    list_english_article = ['the','to']\n",
    "):\n",
    "\n",
    "    vocab['german'] = vocab['german'].map(\n",
    "        lambda x: ' '.join(word for word in x.split(' ') if word not in list_german_article)\n",
    "    )\n",
    "    vocab['english'] = vocab['english'].map(\n",
    "        lambda x: ' '.join(word for word in x.split(' ') if word not in list_english_article)\n",
    "    )"
   ]
  },
  {
   "cell_type": "code",
   "execution_count": 6,
   "metadata": {
    "ExecuteTime": {
     "end_time": "2020-09-23T19:59:10.115779Z",
     "start_time": "2020-09-23T19:59:10.110767Z"
    }
   },
   "outputs": [],
   "source": [
    "def add_levenshtein_distance(vocab):\n",
    "    \n",
    "    from Levenshtein import distance\n",
    "    \n",
    "    vocab = vocab.copy()\n",
    "    \n",
    "    # Lowercase\n",
    "    vocab['german'] = vocab['german'].str.lower()\n",
    "    vocab['english'] = vocab['english'].str.lower()\n",
    "    \n",
    "    # Remove article\n",
    "    remove_article(vocab)\n",
    "    \n",
    "    # Calculate Levenshtein distance\n",
    "    levenshtein_dist = vocab.apply(lambda x: distance(x['german'], x['english']), axis=1)\n",
    "    \n",
    "    return levenshtein_dist"
   ]
  },
  {
   "cell_type": "code",
   "execution_count": 7,
   "metadata": {
    "ExecuteTime": {
     "end_time": "2020-09-23T19:59:12.171252Z",
     "start_time": "2020-09-23T19:59:12.125141Z"
    }
   },
   "outputs": [
    {
     "data": {
      "text/html": [
       "<div>\n",
       "<style scoped>\n",
       "    .dataframe tbody tr th:only-of-type {\n",
       "        vertical-align: middle;\n",
       "    }\n",
       "\n",
       "    .dataframe tbody tr th {\n",
       "        vertical-align: top;\n",
       "    }\n",
       "\n",
       "    .dataframe thead th {\n",
       "        text-align: right;\n",
       "    }\n",
       "</style>\n",
       "<table border=\"1\" class=\"dataframe\">\n",
       "  <thead>\n",
       "    <tr style=\"text-align: right;\">\n",
       "      <th></th>\n",
       "      <th>id_vocab</th>\n",
       "      <th>german</th>\n",
       "      <th>english</th>\n",
       "      <th>levenshtein_dist</th>\n",
       "    </tr>\n",
       "  </thead>\n",
       "  <tbody>\n",
       "    <tr>\n",
       "      <th>0</th>\n",
       "      <td>1</td>\n",
       "      <td>aber</td>\n",
       "      <td>but</td>\n",
       "      <td>3</td>\n",
       "    </tr>\n",
       "    <tr>\n",
       "      <th>1</th>\n",
       "      <td>2</td>\n",
       "      <td>allein</td>\n",
       "      <td>alone</td>\n",
       "      <td>4</td>\n",
       "    </tr>\n",
       "    <tr>\n",
       "      <th>2</th>\n",
       "      <td>3</td>\n",
       "      <td>alt</td>\n",
       "      <td>old</td>\n",
       "      <td>2</td>\n",
       "    </tr>\n",
       "    <tr>\n",
       "      <th>3</th>\n",
       "      <td>4</td>\n",
       "      <td>andere</td>\n",
       "      <td>other</td>\n",
       "      <td>4</td>\n",
       "    </tr>\n",
       "    <tr>\n",
       "      <th>4</th>\n",
       "      <td>5</td>\n",
       "      <td>anrufen</td>\n",
       "      <td>to phone</td>\n",
       "      <td>6</td>\n",
       "    </tr>\n",
       "    <tr>\n",
       "      <th>...</th>\n",
       "      <td>...</td>\n",
       "      <td>...</td>\n",
       "      <td>...</td>\n",
       "      <td>...</td>\n",
       "    </tr>\n",
       "    <tr>\n",
       "      <th>605</th>\n",
       "      <td>606</td>\n",
       "      <td>das Effekt</td>\n",
       "      <td>the effect</td>\n",
       "      <td>1</td>\n",
       "    </tr>\n",
       "    <tr>\n",
       "      <th>606</th>\n",
       "      <td>607</td>\n",
       "      <td>das Herz</td>\n",
       "      <td>the heart</td>\n",
       "      <td>2</td>\n",
       "    </tr>\n",
       "    <tr>\n",
       "      <th>607</th>\n",
       "      <td>608</td>\n",
       "      <td>essen</td>\n",
       "      <td>to eat</td>\n",
       "      <td>4</td>\n",
       "    </tr>\n",
       "    <tr>\n",
       "      <th>608</th>\n",
       "      <td>609</td>\n",
       "      <td>studieren</td>\n",
       "      <td>to study</td>\n",
       "      <td>5</td>\n",
       "    </tr>\n",
       "    <tr>\n",
       "      <th>609</th>\n",
       "      <td>610</td>\n",
       "      <td>waschen</td>\n",
       "      <td>to wash</td>\n",
       "      <td>3</td>\n",
       "    </tr>\n",
       "  </tbody>\n",
       "</table>\n",
       "<p>610 rows × 4 columns</p>\n",
       "</div>"
      ],
      "text/plain": [
       "     id_vocab      german     english  levenshtein_dist\n",
       "0           1        aber         but                 3\n",
       "1           2      allein       alone                 4\n",
       "2           3         alt         old                 2\n",
       "3           4      andere       other                 4\n",
       "4           5     anrufen    to phone                 6\n",
       "..        ...         ...         ...               ...\n",
       "605       606  das Effekt  the effect                 1\n",
       "606       607    das Herz   the heart                 2\n",
       "607       608       essen      to eat                 4\n",
       "608       609   studieren    to study                 5\n",
       "609       610     waschen     to wash                 3\n",
       "\n",
       "[610 rows x 4 columns]"
      ]
     },
     "execution_count": 7,
     "metadata": {},
     "output_type": "execute_result"
    }
   ],
   "source": [
    "vocab['levenshtein_dist'] = add_levenshtein_distance(vocab)\n",
    "vocab"
   ]
  },
  {
   "cell_type": "code",
   "execution_count": 8,
   "metadata": {
    "ExecuteTime": {
     "end_time": "2020-09-23T19:59:18.892176Z",
     "start_time": "2020-09-23T19:59:18.865857Z"
    }
   },
   "outputs": [],
   "source": [
    "# use dill - works the same way as pickle\n",
    "import dill\n",
    "with open('data/processed/vocab.pkl', 'wb') as file:\n",
    "    dill.dump(vocab, file)"
   ]
  },
  {
   "cell_type": "markdown",
   "metadata": {},
   "source": [
    "# Tests"
   ]
  },
  {
   "cell_type": "code",
   "execution_count": 9,
   "metadata": {
    "ExecuteTime": {
     "end_time": "2020-09-23T19:59:25.989755Z",
     "start_time": "2020-09-23T19:59:25.979714Z"
    }
   },
   "outputs": [],
   "source": [
    "def assert_vocab_remove_articles():\n",
    "\n",
    "    # Creating test dataframe\n",
    "    vocab_test = pd.DataFrame(columns=['german', 'english'])\n",
    "    vocab_test = vocab_test.append({'german': 'dienstag', 'english': 'tuesday'}, ignore_index=True)\n",
    "    vocab_test = vocab_test.append({'german': 'studieren', 'english': 'to study'}, ignore_index=True)\n",
    "    vocab_test = vocab_test.append({'german': 'die angst', 'english': 'the fear'}, ignore_index=True)\n",
    "    vocab_test = vocab_test.append({'german': 'andere', 'english': 'other'}, ignore_index=True)\n",
    "    vocab_test = vocab_test.append({'german': 'der arzt', 'english': 'the doctor'}, ignore_index=True)\n",
    "    vocab_test = vocab_test.append({'german': 'das café', 'english': 'the café'}, ignore_index=True)\n",
    "\n",
    "    # Creating test dataframe\n",
    "    vocab_results = pd.DataFrame(columns=['german', 'english'])\n",
    "    vocab_results = vocab_results.append({'german': 'dienstag', 'english': 'tuesday'}, ignore_index=True)\n",
    "    vocab_results = vocab_results.append({'german': 'studieren', 'english': 'study'}, ignore_index=True)\n",
    "    vocab_results = vocab_results.append({'german': 'angst', 'english': 'fear'}, ignore_index=True)\n",
    "    vocab_results = vocab_results.append({'german': 'andere', 'english': 'other'}, ignore_index=True)\n",
    "    vocab_results = vocab_results.append({'german': 'arzt', 'english': 'doctor'}, ignore_index=True)\n",
    "    vocab_results = vocab_results.append({'german': 'café', 'english': 'café'}, ignore_index=True)\n",
    "\n",
    "    return vocab_test, vocab_results"
   ]
  },
  {
   "cell_type": "code",
   "execution_count": 10,
   "metadata": {
    "ExecuteTime": {
     "end_time": "2020-09-23T19:59:26.565189Z",
     "start_time": "2020-09-23T19:59:26.515784Z"
    }
   },
   "outputs": [
    {
     "data": {
      "text/plain": [
       "(      german     english\n",
       " 0   dienstag     tuesday\n",
       " 1  studieren    to study\n",
       " 2  die angst    the fear\n",
       " 3     andere       other\n",
       " 4   der arzt  the doctor\n",
       " 5   das café    the café,\n",
       "       german  english\n",
       " 0   dienstag  tuesday\n",
       " 1  studieren    study\n",
       " 2      angst     fear\n",
       " 3     andere    other\n",
       " 4       arzt   doctor\n",
       " 5       café     café)"
      ]
     },
     "execution_count": 10,
     "metadata": {},
     "output_type": "execute_result"
    }
   ],
   "source": [
    "assert_vocab_remove_articles()"
   ]
  },
  {
   "cell_type": "code",
   "execution_count": null,
   "metadata": {},
   "outputs": [],
   "source": []
  }
 ],
 "metadata": {
  "hide_input": false,
  "kernelspec": {
   "display_name": "vocabulary_learning",
   "language": "python",
   "name": "vocabulary_learning"
  },
  "language_info": {
   "codemirror_mode": {
    "name": "ipython",
    "version": 3
   },
   "file_extension": ".py",
   "mimetype": "text/x-python",
   "name": "python",
   "nbconvert_exporter": "python",
   "pygments_lexer": "ipython3",
   "version": "3.7.5"
  },
  "toc": {
   "base_numbering": 1,
   "nav_menu": {},
   "number_sections": true,
   "sideBar": true,
   "skip_h1_title": false,
   "title_cell": "Table of Contents",
   "title_sidebar": "Contents",
   "toc_cell": false,
   "toc_position": {},
   "toc_section_display": true,
   "toc_window_display": false
  }
 },
 "nbformat": 4,
 "nbformat_minor": 4
}
