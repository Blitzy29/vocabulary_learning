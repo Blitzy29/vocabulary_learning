{
 "cells": [
  {
   "cell_type": "code",
   "execution_count": 1,
   "metadata": {
    "ExecuteTime": {
     "end_time": "2020-09-21T17:14:44.486507Z",
     "start_time": "2020-09-21T17:14:44.480437Z"
    }
   },
   "outputs": [
    {
     "name": "stdout",
     "output_type": "stream",
     "text": [
      "/Users/admin/Projects/vocabulary_learning/notebooks\n",
      "/Users/admin/Projects/vocabulary_learning\n"
     ]
    }
   ],
   "source": [
    "import os\n",
    "print(os.getcwd())\n",
    "def update_working_directory():\n",
    "    from pathlib import Path\n",
    "    p = Path(os.getcwd()).parents[0]\n",
    "    os.chdir(p)\n",
    "    print(p)\n",
    "update_working_directory()"
   ]
  },
  {
   "cell_type": "code",
   "execution_count": 2,
   "metadata": {
    "ExecuteTime": {
     "end_time": "2020-09-21T17:14:46.184961Z",
     "start_time": "2020-09-21T17:14:45.732924Z"
    }
   },
   "outputs": [],
   "source": [
    "import numpy as np\n",
    "import pandas as pd"
   ]
  },
  {
   "cell_type": "code",
   "execution_count": 3,
   "metadata": {
    "ExecuteTime": {
     "end_time": "2020-09-21T17:14:47.334370Z",
     "start_time": "2020-09-21T17:14:47.329964Z"
    }
   },
   "outputs": [],
   "source": [
    "def get_vocab(vocab_path='data/raw/german_english.csv', list_columns=None):\n",
    "    vocab = pd.read_csv(vocab_path)\n",
    "\n",
    "    if list_columns is None:\n",
    "        list_columns = ['german', 'english']\n",
    "    vocab = vocab[list_columns]\n",
    "\n",
    "    return vocab"
   ]
  },
  {
   "cell_type": "code",
   "execution_count": 4,
   "metadata": {
    "ExecuteTime": {
     "end_time": "2020-09-21T17:14:49.508660Z",
     "start_time": "2020-09-21T17:14:49.484483Z"
    }
   },
   "outputs": [
    {
     "data": {
      "text/html": [
       "<div>\n",
       "<style scoped>\n",
       "    .dataframe tbody tr th:only-of-type {\n",
       "        vertical-align: middle;\n",
       "    }\n",
       "\n",
       "    .dataframe tbody tr th {\n",
       "        vertical-align: top;\n",
       "    }\n",
       "\n",
       "    .dataframe thead th {\n",
       "        text-align: right;\n",
       "    }\n",
       "</style>\n",
       "<table border=\"1\" class=\"dataframe\">\n",
       "  <thead>\n",
       "    <tr style=\"text-align: right;\">\n",
       "      <th></th>\n",
       "      <th>german</th>\n",
       "      <th>english</th>\n",
       "    </tr>\n",
       "  </thead>\n",
       "  <tbody>\n",
       "    <tr>\n",
       "      <th>0</th>\n",
       "      <td>aber</td>\n",
       "      <td>but</td>\n",
       "    </tr>\n",
       "    <tr>\n",
       "      <th>1</th>\n",
       "      <td>allein</td>\n",
       "      <td>alone</td>\n",
       "    </tr>\n",
       "    <tr>\n",
       "      <th>2</th>\n",
       "      <td>alt</td>\n",
       "      <td>old</td>\n",
       "    </tr>\n",
       "    <tr>\n",
       "      <th>3</th>\n",
       "      <td>andere</td>\n",
       "      <td>other</td>\n",
       "    </tr>\n",
       "    <tr>\n",
       "      <th>4</th>\n",
       "      <td>anziehen</td>\n",
       "      <td>to put a clothe on</td>\n",
       "    </tr>\n",
       "    <tr>\n",
       "      <th>...</th>\n",
       "      <td>...</td>\n",
       "      <td>...</td>\n",
       "    </tr>\n",
       "    <tr>\n",
       "      <th>451</th>\n",
       "      <td>die Fliege</td>\n",
       "      <td>the fly</td>\n",
       "    </tr>\n",
       "    <tr>\n",
       "      <th>452</th>\n",
       "      <td>der Grossvater</td>\n",
       "      <td>the grand-father</td>\n",
       "    </tr>\n",
       "    <tr>\n",
       "      <th>453</th>\n",
       "      <td>der Wurst</td>\n",
       "      <td>the sausage</td>\n",
       "    </tr>\n",
       "    <tr>\n",
       "      <th>454</th>\n",
       "      <td>schlafen</td>\n",
       "      <td>to sleep</td>\n",
       "    </tr>\n",
       "    <tr>\n",
       "      <th>455</th>\n",
       "      <td>ganz</td>\n",
       "      <td>whole</td>\n",
       "    </tr>\n",
       "  </tbody>\n",
       "</table>\n",
       "<p>456 rows × 2 columns</p>\n",
       "</div>"
      ],
      "text/plain": [
       "             german             english\n",
       "0              aber                 but\n",
       "1            allein               alone\n",
       "2               alt                 old\n",
       "3            andere               other\n",
       "4          anziehen  to put a clothe on\n",
       "..              ...                 ...\n",
       "451      die Fliege             the fly\n",
       "452  der Grossvater    the grand-father\n",
       "453       der Wurst         the sausage\n",
       "454        schlafen            to sleep\n",
       "455            ganz               whole\n",
       "\n",
       "[456 rows x 2 columns]"
      ]
     },
     "execution_count": 4,
     "metadata": {},
     "output_type": "execute_result"
    }
   ],
   "source": [
    "vocab = get_vocab()\n",
    "vocab"
   ]
  },
  {
   "cell_type": "code",
   "execution_count": 5,
   "metadata": {
    "ExecuteTime": {
     "end_time": "2020-09-21T17:15:10.597973Z",
     "start_time": "2020-09-21T17:15:10.592799Z"
    }
   },
   "outputs": [],
   "source": [
    "def remove_article(\n",
    "    vocab,\n",
    "    list_german_article = ['der','die','das'],\n",
    "    list_english_article = ['the','to']\n",
    "):\n",
    "\n",
    "    vocab['german'] = vocab['german'].map(\n",
    "        lambda x: ' '.join(word for word in x.split(' ') if word not in list_german_article)\n",
    "    )\n",
    "    vocab['english'] = vocab['english'].map(\n",
    "        lambda x: ' '.join(word for word in x.split(' ') if word not in list_english_article)\n",
    "    )"
   ]
  },
  {
   "cell_type": "code",
   "execution_count": 6,
   "metadata": {
    "ExecuteTime": {
     "end_time": "2020-09-21T17:15:14.249027Z",
     "start_time": "2020-09-21T17:15:14.243760Z"
    }
   },
   "outputs": [],
   "source": [
    "def add_levenshtein_distance(vocab):\n",
    "    \n",
    "    from Levenshtein import distance\n",
    "    \n",
    "    vocab = vocab.copy()\n",
    "    \n",
    "    # Lowercase\n",
    "    vocab['german'] = vocab['german'].str.lower()\n",
    "    vocab['english'] = vocab['english'].str.lower()\n",
    "    \n",
    "    # Remove article\n",
    "    remove_article(vocab)\n",
    "    \n",
    "    # Calculate Levenshtein distance\n",
    "    levenshtein_dist = vocab.apply(lambda x: distance(x['german'], x['english']), axis=1)\n",
    "    \n",
    "    return levenshtein_dist"
   ]
  },
  {
   "cell_type": "code",
   "execution_count": 7,
   "metadata": {
    "ExecuteTime": {
     "end_time": "2020-09-21T17:15:14.937810Z",
     "start_time": "2020-09-21T17:15:14.899194Z"
    }
   },
   "outputs": [
    {
     "data": {
      "text/html": [
       "<div>\n",
       "<style scoped>\n",
       "    .dataframe tbody tr th:only-of-type {\n",
       "        vertical-align: middle;\n",
       "    }\n",
       "\n",
       "    .dataframe tbody tr th {\n",
       "        vertical-align: top;\n",
       "    }\n",
       "\n",
       "    .dataframe thead th {\n",
       "        text-align: right;\n",
       "    }\n",
       "</style>\n",
       "<table border=\"1\" class=\"dataframe\">\n",
       "  <thead>\n",
       "    <tr style=\"text-align: right;\">\n",
       "      <th></th>\n",
       "      <th>german</th>\n",
       "      <th>english</th>\n",
       "      <th>levenshtein_dist</th>\n",
       "    </tr>\n",
       "  </thead>\n",
       "  <tbody>\n",
       "    <tr>\n",
       "      <th>0</th>\n",
       "      <td>aber</td>\n",
       "      <td>but</td>\n",
       "      <td>3</td>\n",
       "    </tr>\n",
       "    <tr>\n",
       "      <th>1</th>\n",
       "      <td>allein</td>\n",
       "      <td>alone</td>\n",
       "      <td>4</td>\n",
       "    </tr>\n",
       "    <tr>\n",
       "      <th>2</th>\n",
       "      <td>alt</td>\n",
       "      <td>old</td>\n",
       "      <td>2</td>\n",
       "    </tr>\n",
       "    <tr>\n",
       "      <th>3</th>\n",
       "      <td>andere</td>\n",
       "      <td>other</td>\n",
       "      <td>4</td>\n",
       "    </tr>\n",
       "    <tr>\n",
       "      <th>4</th>\n",
       "      <td>anziehen</td>\n",
       "      <td>to put a clothe on</td>\n",
       "      <td>11</td>\n",
       "    </tr>\n",
       "    <tr>\n",
       "      <th>...</th>\n",
       "      <td>...</td>\n",
       "      <td>...</td>\n",
       "      <td>...</td>\n",
       "    </tr>\n",
       "    <tr>\n",
       "      <th>451</th>\n",
       "      <td>die Fliege</td>\n",
       "      <td>the fly</td>\n",
       "      <td>4</td>\n",
       "    </tr>\n",
       "    <tr>\n",
       "      <th>452</th>\n",
       "      <td>der Grossvater</td>\n",
       "      <td>the grand-father</td>\n",
       "      <td>6</td>\n",
       "    </tr>\n",
       "    <tr>\n",
       "      <th>453</th>\n",
       "      <td>der Wurst</td>\n",
       "      <td>the sausage</td>\n",
       "      <td>6</td>\n",
       "    </tr>\n",
       "    <tr>\n",
       "      <th>454</th>\n",
       "      <td>schlafen</td>\n",
       "      <td>to sleep</td>\n",
       "      <td>5</td>\n",
       "    </tr>\n",
       "    <tr>\n",
       "      <th>455</th>\n",
       "      <td>ganz</td>\n",
       "      <td>whole</td>\n",
       "      <td>5</td>\n",
       "    </tr>\n",
       "  </tbody>\n",
       "</table>\n",
       "<p>456 rows × 3 columns</p>\n",
       "</div>"
      ],
      "text/plain": [
       "             german             english  levenshtein_dist\n",
       "0              aber                 but                 3\n",
       "1            allein               alone                 4\n",
       "2               alt                 old                 2\n",
       "3            andere               other                 4\n",
       "4          anziehen  to put a clothe on                11\n",
       "..              ...                 ...               ...\n",
       "451      die Fliege             the fly                 4\n",
       "452  der Grossvater    the grand-father                 6\n",
       "453       der Wurst         the sausage                 6\n",
       "454        schlafen            to sleep                 5\n",
       "455            ganz               whole                 5\n",
       "\n",
       "[456 rows x 3 columns]"
      ]
     },
     "execution_count": 7,
     "metadata": {},
     "output_type": "execute_result"
    }
   ],
   "source": [
    "vocab['levenshtein_dist'] = add_levenshtein_distance(vocab)\n",
    "vocab"
   ]
  },
  {
   "cell_type": "code",
   "execution_count": 8,
   "metadata": {
    "ExecuteTime": {
     "end_time": "2020-09-21T17:15:23.771606Z",
     "start_time": "2020-09-21T17:15:23.748245Z"
    }
   },
   "outputs": [],
   "source": [
    "# use dill - works the same way as pickle\n",
    "import dill\n",
    "with open('data/processed/vocab.pkl', 'wb') as file:\n",
    "    dill.dump(vocab, file)"
   ]
  },
  {
   "cell_type": "markdown",
   "metadata": {},
   "source": [
    "# Tests"
   ]
  },
  {
   "cell_type": "code",
   "execution_count": 9,
   "metadata": {
    "ExecuteTime": {
     "end_time": "2020-09-21T17:15:28.551505Z",
     "start_time": "2020-09-21T17:15:28.542078Z"
    }
   },
   "outputs": [],
   "source": [
    "def assert_vocab_remove_articles():\n",
    "\n",
    "    # Creating test dataframe\n",
    "    vocab_test = pd.DataFrame(columns=['german', 'english'])\n",
    "    vocab_test = vocab_test.append({'german': 'dienstag', 'english': 'tuesday'}, ignore_index=True)\n",
    "    vocab_test = vocab_test.append({'german': 'studieren', 'english': 'to study'}, ignore_index=True)\n",
    "    vocab_test = vocab_test.append({'german': 'die angst', 'english': 'the fear'}, ignore_index=True)\n",
    "    vocab_test = vocab_test.append({'german': 'andere', 'english': 'other'}, ignore_index=True)\n",
    "    vocab_test = vocab_test.append({'german': 'der arzt', 'english': 'the doctor'}, ignore_index=True)\n",
    "    vocab_test = vocab_test.append({'german': 'das café', 'english': 'the café'}, ignore_index=True)\n",
    "\n",
    "    # Creating test dataframe\n",
    "    vocab_results = pd.DataFrame(columns=['german', 'english'])\n",
    "    vocab_results = vocab_results.append({'german': 'dienstag', 'english': 'tuesday'}, ignore_index=True)\n",
    "    vocab_results = vocab_results.append({'german': 'studieren', 'english': 'study'}, ignore_index=True)\n",
    "    vocab_results = vocab_results.append({'german': 'angst', 'english': 'fear'}, ignore_index=True)\n",
    "    vocab_results = vocab_results.append({'german': 'andere', 'english': 'other'}, ignore_index=True)\n",
    "    vocab_results = vocab_results.append({'german': 'arzt', 'english': 'doctor'}, ignore_index=True)\n",
    "    vocab_results = vocab_results.append({'german': 'café', 'english': 'café'}, ignore_index=True)\n",
    "\n",
    "    return vocab_test, vocab_results"
   ]
  },
  {
   "cell_type": "code",
   "execution_count": 10,
   "metadata": {
    "ExecuteTime": {
     "end_time": "2020-09-21T17:15:33.935957Z",
     "start_time": "2020-09-21T17:15:33.889446Z"
    }
   },
   "outputs": [
    {
     "data": {
      "text/plain": [
       "(      german     english\n",
       " 0   dienstag     tuesday\n",
       " 1  studieren    to study\n",
       " 2  die angst    the fear\n",
       " 3     andere       other\n",
       " 4   der arzt  the doctor\n",
       " 5   das café    the café,\n",
       "       german  english\n",
       " 0   dienstag  tuesday\n",
       " 1  studieren    study\n",
       " 2      angst     fear\n",
       " 3     andere    other\n",
       " 4       arzt   doctor\n",
       " 5       café     café)"
      ]
     },
     "execution_count": 10,
     "metadata": {},
     "output_type": "execute_result"
    }
   ],
   "source": [
    "assert_vocab_remove_articles()"
   ]
  },
  {
   "cell_type": "code",
   "execution_count": null,
   "metadata": {},
   "outputs": [],
   "source": []
  }
 ],
 "metadata": {
  "hide_input": false,
  "kernelspec": {
   "display_name": "vocabulary_learning",
   "language": "python",
   "name": "vocabulary_learning"
  },
  "language_info": {
   "codemirror_mode": {
    "name": "ipython",
    "version": 3
   },
   "file_extension": ".py",
   "mimetype": "text/x-python",
   "name": "python",
   "nbconvert_exporter": "python",
   "pygments_lexer": "ipython3",
   "version": "3.7.5"
  },
  "toc": {
   "base_numbering": 1,
   "nav_menu": {},
   "number_sections": true,
   "sideBar": true,
   "skip_h1_title": false,
   "title_cell": "Table of Contents",
   "title_sidebar": "Contents",
   "toc_cell": false,
   "toc_position": {},
   "toc_section_display": true,
   "toc_window_display": false
  }
 },
 "nbformat": 4,
 "nbformat_minor": 4
}
