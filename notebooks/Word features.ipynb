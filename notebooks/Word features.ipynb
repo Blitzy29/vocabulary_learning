{
 "cells": [
  {
   "cell_type": "code",
   "execution_count": 1,
   "metadata": {
    "ExecuteTime": {
     "end_time": "2020-10-09T17:54:49.911705Z",
     "start_time": "2020-10-09T17:54:49.724770Z"
    }
   },
   "outputs": [
    {
     "name": "stdout",
     "output_type": "stream",
     "text": [
      "/Users/admin/Projects/vocabulary_learning/notebooks\n",
      "/Users/admin/Projects/vocabulary_learning\n"
     ]
    },
    {
     "data": {
      "application/javascript": [
       "\n",
       "            setTimeout(function() {\n",
       "                var nbb_cell_id = 1;\n",
       "                var nbb_unformatted_code = \"%load_ext nb_black\\n%load_ext autoreload\\n%autoreload 2\\n\\nimport os\\n\\nprint(os.getcwd())\\n\\n\\ndef update_working_directory():\\n    from pathlib import Path\\n\\n    p = Path(os.getcwd()).parents[0]\\n    os.chdir(p)\\n    print(p)\\n\\n\\nupdate_working_directory()\";\n",
       "                var nbb_formatted_code = \"%load_ext nb_black\\n%load_ext autoreload\\n%autoreload 2\\n\\nimport os\\n\\nprint(os.getcwd())\\n\\n\\ndef update_working_directory():\\n    from pathlib import Path\\n\\n    p = Path(os.getcwd()).parents[0]\\n    os.chdir(p)\\n    print(p)\\n\\n\\nupdate_working_directory()\";\n",
       "                var nbb_cells = Jupyter.notebook.get_cells();\n",
       "                for (var i = 0; i < nbb_cells.length; ++i) {\n",
       "                    if (nbb_cells[i].input_prompt_number == nbb_cell_id) {\n",
       "                        if (nbb_cells[i].get_text() == nbb_unformatted_code) {\n",
       "                             nbb_cells[i].set_text(nbb_formatted_code);\n",
       "                        }\n",
       "                        break;\n",
       "                    }\n",
       "                }\n",
       "            }, 500);\n",
       "            "
      ],
      "text/plain": [
       "<IPython.core.display.Javascript object>"
      ]
     },
     "metadata": {},
     "output_type": "display_data"
    }
   ],
   "source": [
    "%load_ext nb_black\n",
    "%load_ext autoreload\n",
    "%autoreload 2\n",
    "\n",
    "import os\n",
    "\n",
    "print(os.getcwd())\n",
    "\n",
    "\n",
    "def update_working_directory():\n",
    "    from pathlib import Path\n",
    "\n",
    "    p = Path(os.getcwd()).parents[0]\n",
    "    os.chdir(p)\n",
    "    print(p)\n",
    "\n",
    "\n",
    "update_working_directory()"
   ]
  },
  {
   "cell_type": "code",
   "execution_count": 2,
   "metadata": {
    "ExecuteTime": {
     "end_time": "2020-10-09T17:54:50.750421Z",
     "start_time": "2020-10-09T17:54:50.222419Z"
    }
   },
   "outputs": [
    {
     "data": {
      "application/javascript": [
       "\n",
       "            setTimeout(function() {\n",
       "                var nbb_cell_id = 2;\n",
       "                var nbb_unformatted_code = \"import numpy as np\\nimport pandas as pd\";\n",
       "                var nbb_formatted_code = \"import numpy as np\\nimport pandas as pd\";\n",
       "                var nbb_cells = Jupyter.notebook.get_cells();\n",
       "                for (var i = 0; i < nbb_cells.length; ++i) {\n",
       "                    if (nbb_cells[i].input_prompt_number == nbb_cell_id) {\n",
       "                        if (nbb_cells[i].get_text() == nbb_unformatted_code) {\n",
       "                             nbb_cells[i].set_text(nbb_formatted_code);\n",
       "                        }\n",
       "                        break;\n",
       "                    }\n",
       "                }\n",
       "            }, 500);\n",
       "            "
      ],
      "text/plain": [
       "<IPython.core.display.Javascript object>"
      ]
     },
     "metadata": {},
     "output_type": "display_data"
    }
   ],
   "source": [
    "import numpy as np\n",
    "import pandas as pd"
   ]
  },
  {
   "cell_type": "code",
   "execution_count": 3,
   "metadata": {
    "ExecuteTime": {
     "end_time": "2020-10-09T17:54:50.887654Z",
     "start_time": "2020-10-09T17:54:50.839917Z"
    }
   },
   "outputs": [
    {
     "data": {
      "application/javascript": [
       "\n",
       "            setTimeout(function() {\n",
       "                var nbb_cell_id = 3;\n",
       "                var nbb_unformatted_code = \"def get_vocab(vocab_path=\\\"data/raw/german_english.csv\\\", list_columns=None):\\n    vocab = pd.read_csv(vocab_path)\\n\\n    if list_columns is None:\\n        list_columns = [\\\"id_vocab\\\", \\\"german\\\", \\\"english\\\"]\\n    vocab = vocab[list_columns]\\n\\n    return vocab\";\n",
       "                var nbb_formatted_code = \"def get_vocab(vocab_path=\\\"data/raw/german_english.csv\\\", list_columns=None):\\n    vocab = pd.read_csv(vocab_path)\\n\\n    if list_columns is None:\\n        list_columns = [\\\"id_vocab\\\", \\\"german\\\", \\\"english\\\"]\\n    vocab = vocab[list_columns]\\n\\n    return vocab\";\n",
       "                var nbb_cells = Jupyter.notebook.get_cells();\n",
       "                for (var i = 0; i < nbb_cells.length; ++i) {\n",
       "                    if (nbb_cells[i].input_prompt_number == nbb_cell_id) {\n",
       "                        if (nbb_cells[i].get_text() == nbb_unformatted_code) {\n",
       "                             nbb_cells[i].set_text(nbb_formatted_code);\n",
       "                        }\n",
       "                        break;\n",
       "                    }\n",
       "                }\n",
       "            }, 500);\n",
       "            "
      ],
      "text/plain": [
       "<IPython.core.display.Javascript object>"
      ]
     },
     "metadata": {},
     "output_type": "display_data"
    }
   ],
   "source": [
    "def get_vocab(vocab_path=\"data/raw/german_english.csv\", list_columns=None):\n",
    "    vocab = pd.read_csv(vocab_path)\n",
    "\n",
    "    if list_columns is None:\n",
    "        list_columns = [\"id_vocab\", \"german\", \"english\"]\n",
    "    vocab = vocab[list_columns]\n",
    "\n",
    "    return vocab"
   ]
  },
  {
   "cell_type": "code",
   "execution_count": 4,
   "metadata": {
    "ExecuteTime": {
     "end_time": "2020-10-09T17:54:52.669924Z",
     "start_time": "2020-10-09T17:54:52.621249Z"
    }
   },
   "outputs": [
    {
     "data": {
      "text/html": [
       "<div>\n",
       "<style scoped>\n",
       "    .dataframe tbody tr th:only-of-type {\n",
       "        vertical-align: middle;\n",
       "    }\n",
       "\n",
       "    .dataframe tbody tr th {\n",
       "        vertical-align: top;\n",
       "    }\n",
       "\n",
       "    .dataframe thead th {\n",
       "        text-align: right;\n",
       "    }\n",
       "</style>\n",
       "<table border=\"1\" class=\"dataframe\">\n",
       "  <thead>\n",
       "    <tr style=\"text-align: right;\">\n",
       "      <th></th>\n",
       "      <th>id_vocab</th>\n",
       "      <th>german</th>\n",
       "      <th>english</th>\n",
       "    </tr>\n",
       "  </thead>\n",
       "  <tbody>\n",
       "    <tr>\n",
       "      <th>0</th>\n",
       "      <td>1</td>\n",
       "      <td>rennen</td>\n",
       "      <td>to sprint</td>\n",
       "    </tr>\n",
       "    <tr>\n",
       "      <th>1</th>\n",
       "      <td>2</td>\n",
       "      <td>richtig</td>\n",
       "      <td>correct</td>\n",
       "    </tr>\n",
       "    <tr>\n",
       "      <th>2</th>\n",
       "      <td>3</td>\n",
       "      <td>September</td>\n",
       "      <td>September</td>\n",
       "    </tr>\n",
       "    <tr>\n",
       "      <th>3</th>\n",
       "      <td>4</td>\n",
       "      <td>sprechen</td>\n",
       "      <td>to speak</td>\n",
       "    </tr>\n",
       "    <tr>\n",
       "      <th>4</th>\n",
       "      <td>5</td>\n",
       "      <td>stimmen</td>\n",
       "      <td>to vote</td>\n",
       "    </tr>\n",
       "    <tr>\n",
       "      <th>5</th>\n",
       "      <td>6</td>\n",
       "      <td>verheiratet</td>\n",
       "      <td>married</td>\n",
       "    </tr>\n",
       "    <tr>\n",
       "      <th>6</th>\n",
       "      <td>7</td>\n",
       "      <td>wirklich</td>\n",
       "      <td>really</td>\n",
       "    </tr>\n",
       "    <tr>\n",
       "      <th>7</th>\n",
       "      <td>8</td>\n",
       "      <td>die Aprikose</td>\n",
       "      <td>the apricot</td>\n",
       "    </tr>\n",
       "    <tr>\n",
       "      <th>8</th>\n",
       "      <td>9</td>\n",
       "      <td>das Jahr</td>\n",
       "      <td>the year</td>\n",
       "    </tr>\n",
       "    <tr>\n",
       "      <th>9</th>\n",
       "      <td>10</td>\n",
       "      <td>viel</td>\n",
       "      <td>a lot</td>\n",
       "    </tr>\n",
       "    <tr>\n",
       "      <th>10</th>\n",
       "      <td>11</td>\n",
       "      <td>die Ärztin</td>\n",
       "      <td>the female doctor</td>\n",
       "    </tr>\n",
       "    <tr>\n",
       "      <th>11</th>\n",
       "      <td>12</td>\n",
       "      <td>zusammen</td>\n",
       "      <td>together</td>\n",
       "    </tr>\n",
       "    <tr>\n",
       "      <th>12</th>\n",
       "      <td>13</td>\n",
       "      <td>wilkommen</td>\n",
       "      <td>welcome</td>\n",
       "    </tr>\n",
       "    <tr>\n",
       "      <th>13</th>\n",
       "      <td>14</td>\n",
       "      <td>der Pokal</td>\n",
       "      <td>the cup</td>\n",
       "    </tr>\n",
       "  </tbody>\n",
       "</table>\n",
       "</div>"
      ],
      "text/plain": [
       "    id_vocab        german            english\n",
       "0          1        rennen          to sprint\n",
       "1          2       richtig            correct\n",
       "2          3     September          September\n",
       "3          4      sprechen           to speak\n",
       "4          5       stimmen            to vote\n",
       "5          6   verheiratet            married\n",
       "6          7      wirklich             really\n",
       "7          8  die Aprikose        the apricot\n",
       "8          9      das Jahr           the year\n",
       "9         10          viel              a lot\n",
       "10        11    die Ärztin  the female doctor\n",
       "11        12      zusammen           together\n",
       "12        13     wilkommen            welcome\n",
       "13        14     der Pokal            the cup"
      ]
     },
     "execution_count": 4,
     "metadata": {},
     "output_type": "execute_result"
    },
    {
     "data": {
      "application/javascript": [
       "\n",
       "            setTimeout(function() {\n",
       "                var nbb_cell_id = 4;\n",
       "                var nbb_unformatted_code = \"vocab = get_vocab(\\\"data/raw/german_english__feature.csv\\\")\\nvocab\";\n",
       "                var nbb_formatted_code = \"vocab = get_vocab(\\\"data/raw/german_english__feature.csv\\\")\\nvocab\";\n",
       "                var nbb_cells = Jupyter.notebook.get_cells();\n",
       "                for (var i = 0; i < nbb_cells.length; ++i) {\n",
       "                    if (nbb_cells[i].input_prompt_number == nbb_cell_id) {\n",
       "                        if (nbb_cells[i].get_text() == nbb_unformatted_code) {\n",
       "                             nbb_cells[i].set_text(nbb_formatted_code);\n",
       "                        }\n",
       "                        break;\n",
       "                    }\n",
       "                }\n",
       "            }, 500);\n",
       "            "
      ],
      "text/plain": [
       "<IPython.core.display.Javascript object>"
      ]
     },
     "metadata": {},
     "output_type": "display_data"
    }
   ],
   "source": [
    "vocab = get_vocab(\"data/raw/german_english__feature.csv\")\n",
    "vocab"
   ]
  },
  {
   "cell_type": "markdown",
   "metadata": {},
   "source": [
    "# Overall"
   ]
  },
  {
   "cell_type": "code",
   "execution_count": 5,
   "metadata": {
    "ExecuteTime": {
     "end_time": "2020-10-09T17:54:56.099215Z",
     "start_time": "2020-10-09T17:54:56.067844Z"
    }
   },
   "outputs": [
    {
     "data": {
      "application/javascript": [
       "\n",
       "            setTimeout(function() {\n",
       "                var nbb_cell_id = 5;\n",
       "                var nbb_unformatted_code = \"from src.data.make_vocab_features import create_vocab_features\";\n",
       "                var nbb_formatted_code = \"from src.data.make_vocab_features import create_vocab_features\";\n",
       "                var nbb_cells = Jupyter.notebook.get_cells();\n",
       "                for (var i = 0; i < nbb_cells.length; ++i) {\n",
       "                    if (nbb_cells[i].input_prompt_number == nbb_cell_id) {\n",
       "                        if (nbb_cells[i].get_text() == nbb_unformatted_code) {\n",
       "                             nbb_cells[i].set_text(nbb_formatted_code);\n",
       "                        }\n",
       "                        break;\n",
       "                    }\n",
       "                }\n",
       "            }, 500);\n",
       "            "
      ],
      "text/plain": [
       "<IPython.core.display.Javascript object>"
      ]
     },
     "metadata": {},
     "output_type": "display_data"
    }
   ],
   "source": [
    "from src.data.make_vocab_features import create_vocab_features"
   ]
  },
  {
   "cell_type": "code",
   "execution_count": 6,
   "metadata": {
    "ExecuteTime": {
     "end_time": "2020-10-09T17:54:56.846115Z",
     "start_time": "2020-10-09T17:54:56.667836Z"
    }
   },
   "outputs": [
    {
     "data": {
      "text/html": [
       "<div>\n",
       "<style scoped>\n",
       "    .dataframe tbody tr th:only-of-type {\n",
       "        vertical-align: middle;\n",
       "    }\n",
       "\n",
       "    .dataframe tbody tr th {\n",
       "        vertical-align: top;\n",
       "    }\n",
       "\n",
       "    .dataframe thead th {\n",
       "        text-align: right;\n",
       "    }\n",
       "</style>\n",
       "<table border=\"1\" class=\"dataframe\">\n",
       "  <thead>\n",
       "    <tr style=\"text-align: right;\">\n",
       "      <th></th>\n",
       "      <th>id_vocab</th>\n",
       "      <th>levenshtein_distance_german_english</th>\n",
       "      <th>nb_characters_german</th>\n",
       "      <th>nb_characters_english</th>\n",
       "      <th>nb_words_german</th>\n",
       "      <th>nb_words_english</th>\n",
       "      <th>is_noun</th>\n",
       "      <th>is_verb</th>\n",
       "      <th>difficulty_category</th>\n",
       "    </tr>\n",
       "  </thead>\n",
       "  <tbody>\n",
       "    <tr>\n",
       "      <th>0</th>\n",
       "      <td>1</td>\n",
       "      <td>6</td>\n",
       "      <td>6</td>\n",
       "      <td>9</td>\n",
       "      <td>1</td>\n",
       "      <td>1</td>\n",
       "      <td>False</td>\n",
       "      <td>True</td>\n",
       "      <td>4.0</td>\n",
       "    </tr>\n",
       "    <tr>\n",
       "      <th>1</th>\n",
       "      <td>2</td>\n",
       "      <td>7</td>\n",
       "      <td>7</td>\n",
       "      <td>7</td>\n",
       "      <td>1</td>\n",
       "      <td>1</td>\n",
       "      <td>False</td>\n",
       "      <td>False</td>\n",
       "      <td>4.0</td>\n",
       "    </tr>\n",
       "    <tr>\n",
       "      <th>2</th>\n",
       "      <td>2</td>\n",
       "      <td>7</td>\n",
       "      <td>7</td>\n",
       "      <td>7</td>\n",
       "      <td>1</td>\n",
       "      <td>1</td>\n",
       "      <td>False</td>\n",
       "      <td>False</td>\n",
       "      <td>5.0</td>\n",
       "    </tr>\n",
       "    <tr>\n",
       "      <th>3</th>\n",
       "      <td>3</td>\n",
       "      <td>0</td>\n",
       "      <td>9</td>\n",
       "      <td>9</td>\n",
       "      <td>1</td>\n",
       "      <td>1</td>\n",
       "      <td>False</td>\n",
       "      <td>False</td>\n",
       "      <td>4.0</td>\n",
       "    </tr>\n",
       "    <tr>\n",
       "      <th>4</th>\n",
       "      <td>4</td>\n",
       "      <td>5</td>\n",
       "      <td>8</td>\n",
       "      <td>8</td>\n",
       "      <td>1</td>\n",
       "      <td>1</td>\n",
       "      <td>False</td>\n",
       "      <td>True</td>\n",
       "      <td>4.0</td>\n",
       "    </tr>\n",
       "    <tr>\n",
       "      <th>5</th>\n",
       "      <td>4</td>\n",
       "      <td>5</td>\n",
       "      <td>8</td>\n",
       "      <td>8</td>\n",
       "      <td>1</td>\n",
       "      <td>1</td>\n",
       "      <td>False</td>\n",
       "      <td>True</td>\n",
       "      <td>5.0</td>\n",
       "    </tr>\n",
       "    <tr>\n",
       "      <th>6</th>\n",
       "      <td>5</td>\n",
       "      <td>6</td>\n",
       "      <td>7</td>\n",
       "      <td>7</td>\n",
       "      <td>1</td>\n",
       "      <td>1</td>\n",
       "      <td>False</td>\n",
       "      <td>True</td>\n",
       "      <td>4.0</td>\n",
       "    </tr>\n",
       "    <tr>\n",
       "      <th>7</th>\n",
       "      <td>6</td>\n",
       "      <td>8</td>\n",
       "      <td>11</td>\n",
       "      <td>7</td>\n",
       "      <td>1</td>\n",
       "      <td>1</td>\n",
       "      <td>False</td>\n",
       "      <td>False</td>\n",
       "      <td>3.0</td>\n",
       "    </tr>\n",
       "    <tr>\n",
       "      <th>8</th>\n",
       "      <td>6</td>\n",
       "      <td>8</td>\n",
       "      <td>11</td>\n",
       "      <td>7</td>\n",
       "      <td>1</td>\n",
       "      <td>1</td>\n",
       "      <td>False</td>\n",
       "      <td>False</td>\n",
       "      <td>5.0</td>\n",
       "    </tr>\n",
       "    <tr>\n",
       "      <th>9</th>\n",
       "      <td>7</td>\n",
       "      <td>7</td>\n",
       "      <td>8</td>\n",
       "      <td>6</td>\n",
       "      <td>1</td>\n",
       "      <td>1</td>\n",
       "      <td>False</td>\n",
       "      <td>False</td>\n",
       "      <td>4.0</td>\n",
       "    </tr>\n",
       "    <tr>\n",
       "      <th>10</th>\n",
       "      <td>7</td>\n",
       "      <td>7</td>\n",
       "      <td>8</td>\n",
       "      <td>6</td>\n",
       "      <td>1</td>\n",
       "      <td>1</td>\n",
       "      <td>False</td>\n",
       "      <td>False</td>\n",
       "      <td>5.0</td>\n",
       "    </tr>\n",
       "    <tr>\n",
       "      <th>11</th>\n",
       "      <td>8</td>\n",
       "      <td>3</td>\n",
       "      <td>12</td>\n",
       "      <td>11</td>\n",
       "      <td>1</td>\n",
       "      <td>1</td>\n",
       "      <td>True</td>\n",
       "      <td>False</td>\n",
       "      <td>NaN</td>\n",
       "    </tr>\n",
       "    <tr>\n",
       "      <th>12</th>\n",
       "      <td>9</td>\n",
       "      <td>3</td>\n",
       "      <td>8</td>\n",
       "      <td>8</td>\n",
       "      <td>1</td>\n",
       "      <td>1</td>\n",
       "      <td>True</td>\n",
       "      <td>False</td>\n",
       "      <td>NaN</td>\n",
       "    </tr>\n",
       "    <tr>\n",
       "      <th>13</th>\n",
       "      <td>10</td>\n",
       "      <td>5</td>\n",
       "      <td>4</td>\n",
       "      <td>5</td>\n",
       "      <td>1</td>\n",
       "      <td>2</td>\n",
       "      <td>False</td>\n",
       "      <td>False</td>\n",
       "      <td>NaN</td>\n",
       "    </tr>\n",
       "    <tr>\n",
       "      <th>14</th>\n",
       "      <td>11</td>\n",
       "      <td>12</td>\n",
       "      <td>10</td>\n",
       "      <td>17</td>\n",
       "      <td>1</td>\n",
       "      <td>2</td>\n",
       "      <td>True</td>\n",
       "      <td>False</td>\n",
       "      <td>NaN</td>\n",
       "    </tr>\n",
       "    <tr>\n",
       "      <th>15</th>\n",
       "      <td>12</td>\n",
       "      <td>7</td>\n",
       "      <td>8</td>\n",
       "      <td>8</td>\n",
       "      <td>1</td>\n",
       "      <td>1</td>\n",
       "      <td>False</td>\n",
       "      <td>True</td>\n",
       "      <td>5.0</td>\n",
       "    </tr>\n",
       "    <tr>\n",
       "      <th>16</th>\n",
       "      <td>13</td>\n",
       "      <td>4</td>\n",
       "      <td>9</td>\n",
       "      <td>7</td>\n",
       "      <td>1</td>\n",
       "      <td>1</td>\n",
       "      <td>False</td>\n",
       "      <td>False</td>\n",
       "      <td>5.0</td>\n",
       "    </tr>\n",
       "    <tr>\n",
       "      <th>17</th>\n",
       "      <td>14</td>\n",
       "      <td>5</td>\n",
       "      <td>9</td>\n",
       "      <td>7</td>\n",
       "      <td>1</td>\n",
       "      <td>1</td>\n",
       "      <td>True</td>\n",
       "      <td>False</td>\n",
       "      <td>NaN</td>\n",
       "    </tr>\n",
       "  </tbody>\n",
       "</table>\n",
       "</div>"
      ],
      "text/plain": [
       "    id_vocab  levenshtein_distance_german_english  nb_characters_german  \\\n",
       "0          1                                    6                     6   \n",
       "1          2                                    7                     7   \n",
       "2          2                                    7                     7   \n",
       "3          3                                    0                     9   \n",
       "4          4                                    5                     8   \n",
       "5          4                                    5                     8   \n",
       "6          5                                    6                     7   \n",
       "7          6                                    8                    11   \n",
       "8          6                                    8                    11   \n",
       "9          7                                    7                     8   \n",
       "10         7                                    7                     8   \n",
       "11         8                                    3                    12   \n",
       "12         9                                    3                     8   \n",
       "13        10                                    5                     4   \n",
       "14        11                                   12                    10   \n",
       "15        12                                    7                     8   \n",
       "16        13                                    4                     9   \n",
       "17        14                                    5                     9   \n",
       "\n",
       "    nb_characters_english  nb_words_german  nb_words_english  is_noun  \\\n",
       "0                       9                1                 1    False   \n",
       "1                       7                1                 1    False   \n",
       "2                       7                1                 1    False   \n",
       "3                       9                1                 1    False   \n",
       "4                       8                1                 1    False   \n",
       "5                       8                1                 1    False   \n",
       "6                       7                1                 1    False   \n",
       "7                       7                1                 1    False   \n",
       "8                       7                1                 1    False   \n",
       "9                       6                1                 1    False   \n",
       "10                      6                1                 1    False   \n",
       "11                     11                1                 1     True   \n",
       "12                      8                1                 1     True   \n",
       "13                      5                1                 2    False   \n",
       "14                     17                1                 2     True   \n",
       "15                      8                1                 1    False   \n",
       "16                      7                1                 1    False   \n",
       "17                      7                1                 1     True   \n",
       "\n",
       "    is_verb  difficulty_category  \n",
       "0      True                  4.0  \n",
       "1     False                  4.0  \n",
       "2     False                  5.0  \n",
       "3     False                  4.0  \n",
       "4      True                  4.0  \n",
       "5      True                  5.0  \n",
       "6      True                  4.0  \n",
       "7     False                  3.0  \n",
       "8     False                  5.0  \n",
       "9     False                  4.0  \n",
       "10    False                  5.0  \n",
       "11    False                  NaN  \n",
       "12    False                  NaN  \n",
       "13    False                  NaN  \n",
       "14    False                  NaN  \n",
       "15     True                  5.0  \n",
       "16    False                  5.0  \n",
       "17    False                  NaN  "
      ]
     },
     "execution_count": 6,
     "metadata": {},
     "output_type": "execute_result"
    },
    {
     "data": {
      "application/javascript": [
       "\n",
       "            setTimeout(function() {\n",
       "                var nbb_cell_id = 6;\n",
       "                var nbb_unformatted_code = \"vocab_test = create_vocab_features(vocab)\\nvocab_test\";\n",
       "                var nbb_formatted_code = \"vocab_test = create_vocab_features(vocab)\\nvocab_test\";\n",
       "                var nbb_cells = Jupyter.notebook.get_cells();\n",
       "                for (var i = 0; i < nbb_cells.length; ++i) {\n",
       "                    if (nbb_cells[i].input_prompt_number == nbb_cell_id) {\n",
       "                        if (nbb_cells[i].get_text() == nbb_unformatted_code) {\n",
       "                             nbb_cells[i].set_text(nbb_formatted_code);\n",
       "                        }\n",
       "                        break;\n",
       "                    }\n",
       "                }\n",
       "            }, 500);\n",
       "            "
      ],
      "text/plain": [
       "<IPython.core.display.Javascript object>"
      ]
     },
     "metadata": {},
     "output_type": "display_data"
    }
   ],
   "source": [
    "vocab_test = create_vocab_features(vocab)\n",
    "vocab_test"
   ]
  },
  {
   "cell_type": "markdown",
   "metadata": {
    "heading_collapsed": true
   },
   "source": [
    "# Levenshtein distance between words"
   ]
  },
  {
   "cell_type": "code",
   "execution_count": null,
   "metadata": {
    "hidden": true
   },
   "outputs": [],
   "source": [
    "def remove_article(\n",
    "    vocab,\n",
    "    list_german_article = ['der','die','das'],\n",
    "    list_english_article = ['the','to']\n",
    "):\n",
    "\n",
    "    vocab['german'] = vocab['german'].map(\n",
    "        lambda x: ' '.join(word for word in x.split(' ') if word not in list_german_article)\n",
    "    )\n",
    "    vocab['english'] = vocab['english'].map(\n",
    "        lambda x: ' '.join(word for word in x.split(' ') if word not in list_english_article)\n",
    "    )"
   ]
  },
  {
   "cell_type": "code",
   "execution_count": null,
   "metadata": {
    "hidden": true
   },
   "outputs": [],
   "source": [
    "def add_levenshtein_distance(vocab):\n",
    "    \n",
    "    from Levenshtein import distance\n",
    "    \n",
    "    vocab = vocab.copy()\n",
    "    \n",
    "    # Lowercase\n",
    "    vocab['german'] = vocab['german'].str.lower()\n",
    "    vocab['english'] = vocab['english'].str.lower()\n",
    "    \n",
    "    # Remove article\n",
    "    remove_article(vocab)\n",
    "    \n",
    "    # Calculate Levenshtein distance\n",
    "    levenshtein_dist = vocab.apply(lambda x: distance(x['german'], x['english']), axis=1)\n",
    "    \n",
    "    return levenshtein_dist"
   ]
  },
  {
   "cell_type": "code",
   "execution_count": null,
   "metadata": {
    "hidden": true
   },
   "outputs": [],
   "source": [
    "vocab['levenshtein_dist'] = add_levenshtein_distance(vocab)\n",
    "vocab"
   ]
  },
  {
   "cell_type": "code",
   "execution_count": null,
   "metadata": {
    "hidden": true
   },
   "outputs": [],
   "source": [
    "# use dill - works the same way as pickle\n",
    "import dill\n",
    "with open('data/processed/vocab.pkl', 'wb') as file:\n",
    "    dill.dump(vocab, file)"
   ]
  },
  {
   "cell_type": "markdown",
   "metadata": {
    "hidden": true
   },
   "source": [
    "##### Tests"
   ]
  },
  {
   "cell_type": "code",
   "execution_count": null,
   "metadata": {
    "hidden": true
   },
   "outputs": [],
   "source": [
    "def assert_vocab_remove_articles():\n",
    "\n",
    "    # Creating test dataframe\n",
    "    vocab_test = pd.DataFrame(columns=['german', 'english'])\n",
    "    vocab_test = vocab_test.append({'german': 'dienstag', 'english': 'tuesday'}, ignore_index=True)\n",
    "    vocab_test = vocab_test.append({'german': 'studieren', 'english': 'to study'}, ignore_index=True)\n",
    "    vocab_test = vocab_test.append({'german': 'die angst', 'english': 'the fear'}, ignore_index=True)\n",
    "    vocab_test = vocab_test.append({'german': 'andere', 'english': 'other'}, ignore_index=True)\n",
    "    vocab_test = vocab_test.append({'german': 'der arzt', 'english': 'the doctor'}, ignore_index=True)\n",
    "    vocab_test = vocab_test.append({'german': 'das café', 'english': 'the café'}, ignore_index=True)\n",
    "\n",
    "    # Creating test dataframe\n",
    "    vocab_results = pd.DataFrame(columns=['german', 'english'])\n",
    "    vocab_results = vocab_results.append({'german': 'dienstag', 'english': 'tuesday'}, ignore_index=True)\n",
    "    vocab_results = vocab_results.append({'german': 'studieren', 'english': 'study'}, ignore_index=True)\n",
    "    vocab_results = vocab_results.append({'german': 'angst', 'english': 'fear'}, ignore_index=True)\n",
    "    vocab_results = vocab_results.append({'german': 'andere', 'english': 'other'}, ignore_index=True)\n",
    "    vocab_results = vocab_results.append({'german': 'arzt', 'english': 'doctor'}, ignore_index=True)\n",
    "    vocab_results = vocab_results.append({'german': 'café', 'english': 'café'}, ignore_index=True)\n",
    "\n",
    "    return vocab_test, vocab_results"
   ]
  },
  {
   "cell_type": "code",
   "execution_count": null,
   "metadata": {
    "hidden": true
   },
   "outputs": [],
   "source": [
    "assert_vocab_remove_articles()"
   ]
  },
  {
   "cell_type": "markdown",
   "metadata": {
    "heading_collapsed": true
   },
   "source": [
    "# Length words"
   ]
  },
  {
   "cell_type": "code",
   "execution_count": null,
   "metadata": {
    "hidden": true
   },
   "outputs": [],
   "source": [
    "vocab[\"nb_characters_german\"] = vocab[\"german\"].map(len)\n",
    "vocab[\"nb_characters_english\"] = vocab[\"english\"].map(len)\n",
    "vocab"
   ]
  },
  {
   "cell_type": "code",
   "execution_count": null,
   "metadata": {
    "hidden": true
   },
   "outputs": [],
   "source": []
  },
  {
   "cell_type": "code",
   "execution_count": null,
   "metadata": {
    "hidden": true
   },
   "outputs": [],
   "source": [
    "def count_nb_words_german(x):\n",
    "    list_german_article = [\"der\", \"die\", \"das\"]\n",
    "    separate_words = x.split(\" \")\n",
    "    if separate_words[0] in list_german_article:\n",
    "        separate_words = separate_words[1:]\n",
    "    return len(separate_words)\n",
    "\n",
    "\n",
    "def count_nb_words_english(x):\n",
    "    list_english_article = [\"the\", \"to\"]\n",
    "    separate_words = x.split(\" \")\n",
    "    if separate_words[0] in list_english_article:\n",
    "        separate_words = separate_words[1:]\n",
    "    return len(separate_words)"
   ]
  },
  {
   "cell_type": "code",
   "execution_count": null,
   "metadata": {
    "hidden": true
   },
   "outputs": [],
   "source": [
    "vocab[\"nb_words_german\"] = vocab[\"german\"].map(count_nb_words_german)\n",
    "vocab[\"nb_words_english\"] = vocab[\"english\"].map(count_nb_words_english)\n",
    "vocab"
   ]
  },
  {
   "cell_type": "code",
   "execution_count": null,
   "metadata": {
    "hidden": true
   },
   "outputs": [],
   "source": [
    "vocab[\"nb_words_english\"] = vocab[\"english\"].map(lambda x: len(x.split(\" \")))\n",
    "vocab"
   ]
  },
  {
   "cell_type": "code",
   "execution_count": null,
   "metadata": {
    "hidden": true
   },
   "outputs": [],
   "source": [
    "def is_noun(x, list_german_article=[\"der\", \"die\", \"das\"]):\n",
    "    possible_article = x[\"german\"].split(\" \", 1)[0]\n",
    "    return possible_article in list_german_article\n",
    "\n",
    "\n",
    "vocab[\"is_noun\"] = vocab.apply(is_noun, axis=1)\n",
    "vocab"
   ]
  },
  {
   "cell_type": "code",
   "execution_count": null,
   "metadata": {
    "hidden": true
   },
   "outputs": [],
   "source": [
    "def is_verb(x):\n",
    "    possible_article = x[\"english\"].split(\" \", 1)[0]\n",
    "    return \"to\" in possible_article\n",
    "\n",
    "\n",
    "vocab[\"is_verb\"] = vocab.apply(is_verb, axis=1)\n",
    "vocab"
   ]
  },
  {
   "cell_type": "markdown",
   "metadata": {},
   "source": [
    "# Word difficulty category"
   ]
  },
  {
   "cell_type": "code",
   "execution_count": null,
   "metadata": {
    "ExecuteTime": {
     "end_time": "2020-10-09T17:52:25.835505Z",
     "start_time": "2020-10-09T17:52:25.778438Z"
    }
   },
   "outputs": [],
   "source": [
    "def add_difficulty_category(vocab):\n",
    "\n",
    "    dict_difficulty_category = {\n",
    "        \"Minus10points\": -10,\n",
    "        \"Minus9points\": -9,\n",
    "        \"Minus8points\": -8,\n",
    "        \"Minus7points\": -7,\n",
    "        \"Minus6points\": -6,\n",
    "        \"Minus5points\": -5,\n",
    "        \"Minus4points\": -4,\n",
    "        \"Minus3points\": -3,\n",
    "        \"Minus2points\": -2,\n",
    "        \"Minus1points\": -1,\n",
    "        \"0points\": 0,\n",
    "        \"1points\": 1,\n",
    "        \"2points\": 2,\n",
    "        \"3points\": 3,\n",
    "        \"4points\": 4,\n",
    "        \"5points\": 5,\n",
    "    }\n",
    "\n",
    "    original_vocab = pd.DataFrame()\n",
    "\n",
    "    for difficulty_category in dict_difficulty_category.keys():\n",
    "\n",
    "        i_original_vocab = pd.read_csv(\n",
    "            f\"data/raw/new_vocabulary/{difficulty_category}.csv\"\n",
    "        )\n",
    "        i_original_vocab[\"difficulty_category\"] = dict_difficulty_category[\n",
    "            difficulty_category\n",
    "        ]\n",
    "        original_vocab = original_vocab.append(i_original_vocab)\n",
    "\n",
    "    vocab = pd.merge(\n",
    "        vocab,\n",
    "        original_vocab[[\"German\", \"English\", \"difficulty_category\"]],\n",
    "        left_on=[\"german\", \"english\"],\n",
    "        right_on=[\"German\", \"English\"],\n",
    "        how=\"left\",\n",
    "    )\n",
    "\n",
    "    del vocab[\"German\"]\n",
    "    del vocab[\"English\"]\n",
    "\n",
    "    return vocab"
   ]
  },
  {
   "cell_type": "code",
   "execution_count": null,
   "metadata": {
    "ExecuteTime": {
     "end_time": "2020-10-09T17:52:40.851358Z",
     "start_time": "2020-10-09T17:52:40.692184Z"
    }
   },
   "outputs": [],
   "source": [
    "add_difficulty_category(vocab)"
   ]
  },
  {
   "cell_type": "code",
   "execution_count": null,
   "metadata": {},
   "outputs": [],
   "source": []
  }
 ],
 "metadata": {
  "hide_input": false,
  "kernelspec": {
   "display_name": "vocabulary_learning",
   "language": "python",
   "name": "vocabulary_learning"
  },
  "language_info": {
   "codemirror_mode": {
    "name": "ipython",
    "version": 3
   },
   "file_extension": ".py",
   "mimetype": "text/x-python",
   "name": "python",
   "nbconvert_exporter": "python",
   "pygments_lexer": "ipython3",
   "version": "3.7.5"
  },
  "toc": {
   "base_numbering": 1,
   "nav_menu": {},
   "number_sections": true,
   "sideBar": true,
   "skip_h1_title": false,
   "title_cell": "Table of Contents",
   "title_sidebar": "Contents",
   "toc_cell": false,
   "toc_position": {},
   "toc_section_display": true,
   "toc_window_display": false
  }
 },
 "nbformat": 4,
 "nbformat_minor": 4
}
