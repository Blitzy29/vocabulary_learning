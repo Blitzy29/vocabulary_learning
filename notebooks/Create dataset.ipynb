{
 "cells": [
  {
   "cell_type": "code",
   "execution_count": 1,
   "metadata": {
    "ExecuteTime": {
     "end_time": "2020-10-17T17:16:02.261782Z",
     "start_time": "2020-10-17T17:16:02.101713Z"
    }
   },
   "outputs": [
    {
     "name": "stdout",
     "output_type": "stream",
     "text": [
      "/Users/admin/Projects/vocabulary_learning/notebooks\n",
      "/Users/admin/Projects/vocabulary_learning\n"
     ]
    },
    {
     "data": {
      "application/javascript": [
       "\n",
       "            setTimeout(function() {\n",
       "                var nbb_cell_id = 1;\n",
       "                var nbb_unformatted_code = \"%load_ext nb_black\\n%load_ext autoreload\\n%autoreload 2\\n\\nimport os\\n\\nprint(os.getcwd())\\n\\n\\ndef update_working_directory():\\n    from pathlib import Path\\n\\n    p = Path(os.getcwd()).parents[0]\\n    os.chdir(p)\\n    print(p)\\n\\n\\nupdate_working_directory()\";\n",
       "                var nbb_formatted_code = \"%load_ext nb_black\\n%load_ext autoreload\\n%autoreload 2\\n\\nimport os\\n\\nprint(os.getcwd())\\n\\n\\ndef update_working_directory():\\n    from pathlib import Path\\n\\n    p = Path(os.getcwd()).parents[0]\\n    os.chdir(p)\\n    print(p)\\n\\n\\nupdate_working_directory()\";\n",
       "                var nbb_cells = Jupyter.notebook.get_cells();\n",
       "                for (var i = 0; i < nbb_cells.length; ++i) {\n",
       "                    if (nbb_cells[i].input_prompt_number == nbb_cell_id) {\n",
       "                        if (nbb_cells[i].get_text() == nbb_unformatted_code) {\n",
       "                             nbb_cells[i].set_text(nbb_formatted_code);\n",
       "                        }\n",
       "                        break;\n",
       "                    }\n",
       "                }\n",
       "            }, 500);\n",
       "            "
      ],
      "text/plain": [
       "<IPython.core.display.Javascript object>"
      ]
     },
     "metadata": {},
     "output_type": "display_data"
    }
   ],
   "source": [
    "%load_ext nb_black\n",
    "%load_ext autoreload\n",
    "%autoreload 2\n",
    "\n",
    "import os\n",
    "\n",
    "print(os.getcwd())\n",
    "\n",
    "\n",
    "def update_working_directory():\n",
    "    from pathlib import Path\n",
    "\n",
    "    p = Path(os.getcwd()).parents[0]\n",
    "    os.chdir(p)\n",
    "    print(p)\n",
    "\n",
    "\n",
    "update_working_directory()"
   ]
  },
  {
   "cell_type": "code",
   "execution_count": 2,
   "metadata": {
    "ExecuteTime": {
     "end_time": "2020-10-17T17:16:03.396784Z",
     "start_time": "2020-10-17T17:16:02.437940Z"
    }
   },
   "outputs": [
    {
     "data": {
      "application/javascript": [
       "\n",
       "            setTimeout(function() {\n",
       "                var nbb_cell_id = 2;\n",
       "                var nbb_unformatted_code = \"import numpy as np\\nimport pandas as pd\\n\\npd.set_option(\\\"display.max_columns\\\", None)\\n\\nimport datetime\\nimport dill\\n\\nfrom sklearn.model_selection import train_test_split\";\n",
       "                var nbb_formatted_code = \"import numpy as np\\nimport pandas as pd\\n\\npd.set_option(\\\"display.max_columns\\\", None)\\n\\nimport datetime\\nimport dill\\n\\nfrom sklearn.model_selection import train_test_split\";\n",
       "                var nbb_cells = Jupyter.notebook.get_cells();\n",
       "                for (var i = 0; i < nbb_cells.length; ++i) {\n",
       "                    if (nbb_cells[i].input_prompt_number == nbb_cell_id) {\n",
       "                        if (nbb_cells[i].get_text() == nbb_unformatted_code) {\n",
       "                             nbb_cells[i].set_text(nbb_formatted_code);\n",
       "                        }\n",
       "                        break;\n",
       "                    }\n",
       "                }\n",
       "            }, 500);\n",
       "            "
      ],
      "text/plain": [
       "<IPython.core.display.Javascript object>"
      ]
     },
     "metadata": {},
     "output_type": "display_data"
    }
   ],
   "source": [
    "import numpy as np\n",
    "import pandas as pd\n",
    "\n",
    "pd.set_option(\"display.max_columns\", None)\n",
    "\n",
    "import datetime\n",
    "import dill\n",
    "\n",
    "from sklearn.model_selection import train_test_split"
   ]
  },
  {
   "cell_type": "markdown",
   "metadata": {},
   "source": [
    "# Overall"
   ]
  },
  {
   "cell_type": "code",
   "execution_count": null,
   "metadata": {
    "ExecuteTime": {
     "end_time": "2020-10-17T16:02:51.155684Z",
     "start_time": "2020-10-17T16:02:51.127261Z"
    }
   },
   "outputs": [],
   "source": [
    "historical_data_path = \"data/raw/20201009/historical_data.csv\"\n",
    "vocab_path = \"data/raw/20201009/german_english.csv\"\n",
    "dataset_path = \"data/raw/20201009/dataset.pkl\"\n",
    "\n",
    "train_dataset_path = \"data/raw/20201009/dataset_train.pkl\"\n",
    "valid_dataset_path = \"data/raw/20201009/dataset_valid.pkl\"\n",
    "test_dataset_path = \"data/raw/20201009/dataset_test.pkl\""
   ]
  },
  {
   "cell_type": "code",
   "execution_count": null,
   "metadata": {
    "ExecuteTime": {
     "end_time": "2020-10-17T16:02:52.339608Z",
     "start_time": "2020-10-17T16:02:51.607125Z"
    }
   },
   "outputs": [],
   "source": [
    "from src.data.make_dataset import create_dataset\n",
    "\n",
    "dataset = create_dataset(historical_data_path, vocab_path, dataset_path)"
   ]
  },
  {
   "cell_type": "code",
   "execution_count": null,
   "metadata": {
    "ExecuteTime": {
     "end_time": "2020-10-10T10:12:16.103327Z",
     "start_time": "2020-10-10T10:12:16.075748Z"
    }
   },
   "outputs": [],
   "source": [
    "from collections import Counter\n",
    "\n",
    "Counter(dataset[\"id_session\"])"
   ]
  },
  {
   "cell_type": "code",
   "execution_count": null,
   "metadata": {
    "ExecuteTime": {
     "end_time": "2020-10-10T10:16:47.687756Z",
     "start_time": "2020-10-10T10:16:47.632183Z"
    }
   },
   "outputs": [],
   "source": [
    "from src.data.make_dataset import split_train_valid_test_dataset\n",
    "\n",
    "split_train_valid_test_dataset(\n",
    "    dataset, train_dataset_path, valid_dataset_path, test_dataset_path\n",
    ")"
   ]
  },
  {
   "cell_type": "markdown",
   "metadata": {
    "heading_collapsed": true
   },
   "source": [
    "# Details"
   ]
  },
  {
   "cell_type": "code",
   "execution_count": null,
   "metadata": {
    "ExecuteTime": {
     "end_time": "2020-10-09T20:22:31.496151Z",
     "start_time": "2020-10-09T20:22:31.450929Z"
    },
    "hidden": true
   },
   "outputs": [],
   "source": [
    "def create_dataset(historical_data_path, vocab_path, dataset_path):\n",
    "\n",
    "    historical_data = get_historical_data(historical_data_path)\n",
    "    historical_data = create_historical_features(historical_data)\n",
    "\n",
    "    vocab = get_vocab(vocab_path)\n",
    "    vocab = create_vocab_features(vocab)\n",
    "\n",
    "    dataset = merge_feature_datasets(historical_data, vocab)\n",
    "\n",
    "    vardict = get_vardict()\n",
    "    dataset = transform_type(dataset, vardict)\n",
    "\n",
    "    with open(dataset_path, \"wb\") as file:\n",
    "        dill.dump(dataset, file)\n",
    "\n",
    "    print(\"Saved\")"
   ]
  },
  {
   "cell_type": "code",
   "execution_count": null,
   "metadata": {
    "ExecuteTime": {
     "end_time": "2020-10-09T20:07:58.101156Z",
     "start_time": "2020-10-09T20:07:57.100040Z"
    },
    "hidden": true
   },
   "outputs": [],
   "source": [
    "# Historical dataset\n",
    "from src.data.get_dataset import get_historical_data\n",
    "from src.data.make_historical_features import create_historical_features\n",
    "\n",
    "historical_data = get_historical_data(\"data/raw/historical_data__large.csv\")\n",
    "historical_data = create_historical_features(historical_data)\n",
    "historical_data"
   ]
  },
  {
   "cell_type": "code",
   "execution_count": null,
   "metadata": {
    "ExecuteTime": {
     "end_time": "2020-10-09T20:07:58.310027Z",
     "start_time": "2020-10-09T20:07:58.106509Z"
    },
    "hidden": true
   },
   "outputs": [],
   "source": [
    "# Vocab dataset\n",
    "from src.data.get_dataset import get_vocab\n",
    "from src.data.make_vocab_features import create_vocab_features\n",
    "\n",
    "vocab = get_vocab(\"data/raw/german_english.csv\")\n",
    "vocab = create_vocab_features(vocab)\n",
    "vocab"
   ]
  },
  {
   "cell_type": "code",
   "execution_count": null,
   "metadata": {
    "ExecuteTime": {
     "end_time": "2020-10-09T20:07:58.475147Z",
     "start_time": "2020-10-09T20:07:58.312621Z"
    },
    "hidden": true
   },
   "outputs": [],
   "source": [
    "# Dataset\n",
    "from src.data.make_dataset import merge_feature_datasets\n",
    "\n",
    "dataset = merge_feature_datasets(historical_data, vocab)\n",
    "dataset"
   ]
  },
  {
   "cell_type": "code",
   "execution_count": null,
   "metadata": {
    "ExecuteTime": {
     "end_time": "2020-10-09T20:07:58.534510Z",
     "start_time": "2020-10-09T20:07:58.480595Z"
    },
    "hidden": true
   },
   "outputs": [],
   "source": [
    "# Vardict\n",
    "from src.data.make_dataset import get_vardict\n",
    "\n",
    "vardict = get_vardict()\n",
    "vardict"
   ]
  },
  {
   "cell_type": "code",
   "execution_count": null,
   "metadata": {
    "ExecuteTime": {
     "end_time": "2020-10-09T20:07:58.842733Z",
     "start_time": "2020-10-09T20:07:58.545098Z"
    },
    "hidden": true
   },
   "outputs": [],
   "source": [
    "# Transform datatype\n",
    "from src.data.make_dataset import transform_type\n",
    "\n",
    "dataset = transform_type(dataset, vardict)\n",
    "dataset"
   ]
  },
  {
   "cell_type": "code",
   "execution_count": null,
   "metadata": {
    "ExecuteTime": {
     "end_time": "2020-10-09T20:07:58.884024Z",
     "start_time": "2020-10-09T20:07:58.848256Z"
    },
    "hidden": true
   },
   "outputs": [],
   "source": [
    "[x for x in dataset.columns.tolist() if x not in vardict[\"all\"]]"
   ]
  },
  {
   "cell_type": "code",
   "execution_count": null,
   "metadata": {
    "ExecuteTime": {
     "end_time": "2020-10-09T20:08:24.117967Z",
     "start_time": "2020-10-09T20:08:24.027459Z"
    },
    "hidden": true
   },
   "outputs": [],
   "source": [
    "dataset[dataset[\"german_word\"] == \"oft\"][\n",
    "    [\"german_word\", \"english_word\"] + [vardict[\"target\"]] + vardict[\"all\"]\n",
    "]"
   ]
  },
  {
   "cell_type": "code",
   "execution_count": null,
   "metadata": {
    "ExecuteTime": {
     "end_time": "2020-10-09T20:08:38.760685Z",
     "start_time": "2020-10-09T20:08:38.676152Z"
    },
    "hidden": true
   },
   "outputs": [],
   "source": [
    "historical_data[historical_data[\"german_word\"] == \"oft\"]"
   ]
  },
  {
   "cell_type": "code",
   "execution_count": null,
   "metadata": {
    "hidden": true
   },
   "outputs": [],
   "source": []
  },
  {
   "cell_type": "code",
   "execution_count": null,
   "metadata": {
    "hidden": true
   },
   "outputs": [],
   "source": [
    "# use dill - works the same way as pickle\n",
    "\n",
    "with open('data/interim/{}__Q.pkl'.format('MC_every_visit'), 'wb') as file:\n",
    "    dill.dump(Q, file)"
   ]
  },
  {
   "cell_type": "code",
   "execution_count": null,
   "metadata": {
    "hidden": true
   },
   "outputs": [],
   "source": []
  },
  {
   "cell_type": "code",
   "execution_count": null,
   "metadata": {
    "hidden": true
   },
   "outputs": [],
   "source": []
  },
  {
   "cell_type": "markdown",
   "metadata": {
    "heading_collapsed": true
   },
   "source": [
    "# Historical dataset"
   ]
  },
  {
   "cell_type": "code",
   "execution_count": null,
   "metadata": {
    "hidden": true
   },
   "outputs": [],
   "source": [
    "from src.data.get_dataset import get_historical_data\n",
    "\n",
    "historical_data_test = get_historical_data(\"data/raw/historical_data__feature.csv\")\n",
    "historical_data_test"
   ]
  },
  {
   "cell_type": "markdown",
   "metadata": {
    "hidden": true
   },
   "source": [
    "## Add features"
   ]
  },
  {
   "cell_type": "code",
   "execution_count": null,
   "metadata": {
    "hidden": true
   },
   "outputs": [],
   "source": [
    "from src.data.make_historical_features import create_historical_features\n",
    "\n",
    "historical_data_test = create_historical_features(historical_data_test)\n",
    "historical_data_test"
   ]
  },
  {
   "cell_type": "markdown",
   "metadata": {
    "heading_collapsed": true
   },
   "source": [
    "# Vocab dataset"
   ]
  },
  {
   "cell_type": "code",
   "execution_count": null,
   "metadata": {
    "hidden": true
   },
   "outputs": [],
   "source": [
    "from src.data.get_dataset import get_vocab\n",
    "\n",
    "vocab = get_vocab(\"data/raw/german_english__feature.csv\")\n",
    "vocab"
   ]
  },
  {
   "cell_type": "markdown",
   "metadata": {
    "hidden": true
   },
   "source": [
    "## Add features"
   ]
  },
  {
   "cell_type": "code",
   "execution_count": null,
   "metadata": {
    "hidden": true
   },
   "outputs": [],
   "source": [
    "from src.data.make_vocab_features import create_vocab_features\n",
    "\n",
    "vocab_test = create_vocab_features(vocab)\n",
    "vocab_test"
   ]
  },
  {
   "cell_type": "markdown",
   "metadata": {
    "heading_collapsed": true
   },
   "source": [
    "# Mix datasets"
   ]
  },
  {
   "cell_type": "code",
   "execution_count": null,
   "metadata": {
    "hidden": true
   },
   "outputs": [],
   "source": [
    "dataset = pd.merge(historical_data_test, vocab_test, on=\"id_vocab\")\n",
    "dataset.sort_values(\"datetime\", inplace=True)\n",
    "dataset"
   ]
  },
  {
   "cell_type": "markdown",
   "metadata": {
    "heading_collapsed": true
   },
   "source": [
    "# Variable type transformation"
   ]
  },
  {
   "cell_type": "code",
   "execution_count": null,
   "metadata": {
    "hidden": true
   },
   "outputs": [],
   "source": [
    "# List of feature columns"
   ]
  },
  {
   "cell_type": "code",
   "execution_count": null,
   "metadata": {
    "hidden": true
   },
   "outputs": [],
   "source": [
    "dataset.columns.tolist()"
   ]
  },
  {
   "cell_type": "code",
   "execution_count": null,
   "metadata": {
    "hidden": true
   },
   "outputs": [],
   "source": [
    "vardict = dict()"
   ]
  },
  {
   "cell_type": "markdown",
   "metadata": {
    "heading_collapsed": true,
    "hidden": true
   },
   "source": [
    "## Target"
   ]
  },
  {
   "cell_type": "code",
   "execution_count": null,
   "metadata": {
    "hidden": true
   },
   "outputs": [],
   "source": [
    "vardict[\"target\"] = \"result\""
   ]
  },
  {
   "cell_type": "code",
   "execution_count": null,
   "metadata": {
    "hidden": true
   },
   "outputs": [],
   "source": [
    "dataset[[vardict[\"target\"]]]"
   ]
  },
  {
   "cell_type": "markdown",
   "metadata": {
    "heading_collapsed": true,
    "hidden": true
   },
   "source": [
    "## Numerical"
   ]
  },
  {
   "cell_type": "code",
   "execution_count": null,
   "metadata": {
    "hidden": true
   },
   "outputs": [],
   "source": [
    "vardict[\"numerical\"] = [\n",
    "    \"previous_occurrences_same_language\",\n",
    "    \"previous_successes_same_language\",\n",
    "    \"previous_fails_same_language\",\n",
    "    \"previous_occurrences_any_language\",\n",
    "    \"previous_successes_any_language\",\n",
    "    \"previous_fails_any_language\",\n",
    "    \"levenshtein_distance_guess_answer\",\n",
    "    \"previous_question_time\",\n",
    "    \"write_it_again_german\",\n",
    "    \"write_it_again_english\",\n",
    "    \"levenshtein_distance_german_english\",\n",
    "]"
   ]
  },
  {
   "cell_type": "code",
   "execution_count": null,
   "metadata": {
    "hidden": true
   },
   "outputs": [],
   "source": [
    "for i_num_var in vardict[\"numerical\"]:\n",
    "    dataset[i_num_var] = dataset[i_num_var].astype(float)"
   ]
  },
  {
   "cell_type": "code",
   "execution_count": null,
   "metadata": {
    "hidden": true
   },
   "outputs": [],
   "source": [
    "dataset[[\"german_word\", \"guess\"] + vardict[\"numerical\"]]"
   ]
  },
  {
   "cell_type": "markdown",
   "metadata": {
    "heading_collapsed": true,
    "hidden": true
   },
   "source": [
    "## Difference in time"
   ]
  },
  {
   "cell_type": "code",
   "execution_count": null,
   "metadata": {
    "hidden": true
   },
   "outputs": [],
   "source": [
    "vardict[\"diff_time\"] = [\n",
    "    \"days_since_last_occurrence_same_language\",\n",
    "    \"days_since_last_occurrence_any_language\",\n",
    "    \"days_since_last_success_same_language\",\n",
    "    \"days_since_last_success_any_language\",\n",
    "    \"days_since_first_occur_same_language\",\n",
    "    \"days_since_first_occur_any_language\",\n",
    "]"
   ]
  },
  {
   "cell_type": "code",
   "execution_count": null,
   "metadata": {
    "hidden": true
   },
   "outputs": [],
   "source": [
    "for i_diff_time_var in vardict[\"diff_time\"]:\n",
    "    dataset[i_diff_time_var] = dataset[i_diff_time_var].dt.days.astype(float)"
   ]
  },
  {
   "cell_type": "code",
   "execution_count": null,
   "metadata": {
    "hidden": true
   },
   "outputs": [],
   "source": [
    "dataset[[\"german_word\", \"guess\"] + vardict[\"diff_time\"]]"
   ]
  },
  {
   "cell_type": "markdown",
   "metadata": {
    "heading_collapsed": true,
    "hidden": true
   },
   "source": [
    "## Boolean"
   ]
  },
  {
   "cell_type": "code",
   "execution_count": null,
   "metadata": {
    "hidden": true
   },
   "outputs": [],
   "source": [
    "vardict[\"boolean\"] = [\n",
    "    \"previous_result\",\n",
    "    \"correct_article\",\n",
    "    \"only_missed_uppercase\",\n",
    "    \"write_it_again_not_null\",\n",
    "]"
   ]
  },
  {
   "cell_type": "code",
   "execution_count": null,
   "metadata": {
    "hidden": true
   },
   "outputs": [],
   "source": [
    "for i_boolean_var in vardict[\"boolean\"]:\n",
    "    dataset.loc[~dataset[i_boolean_var].isna(), i_boolean_var] = dataset.loc[\n",
    "        ~dataset[i_boolean_var].isna(), i_boolean_var\n",
    "    ].astype(\"bool\")"
   ]
  },
  {
   "cell_type": "code",
   "execution_count": null,
   "metadata": {
    "hidden": true
   },
   "outputs": [],
   "source": [
    "dataset[[\"german_word\", \"guess\"] + vardict[\"boolean\"]]"
   ]
  },
  {
   "cell_type": "markdown",
   "metadata": {
    "heading_collapsed": true,
    "hidden": true
   },
   "source": [
    "## Categorical"
   ]
  },
  {
   "cell_type": "code",
   "execution_count": null,
   "metadata": {
    "hidden": true
   },
   "outputs": [],
   "source": [
    "vardict[\"categorical\"] = [\n",
    "    \"previous_language_asked\",\n",
    "]"
   ]
  },
  {
   "cell_type": "code",
   "execution_count": null,
   "metadata": {
    "hidden": true
   },
   "outputs": [],
   "source": [
    "for i_categorical_var in vardict[\"categorical\"]:\n",
    "    dataset.loc[~dataset[i_categorical_var].isna(), i_categorical_var] = dataset.loc[\n",
    "        ~dataset[i_categorical_var].isna(), i_categorical_var\n",
    "    ].astype(str)\n",
    "\n",
    "    dataset.loc[dataset[i_categorical_var].isna(), i_categorical_var] = None"
   ]
  },
  {
   "cell_type": "code",
   "execution_count": null,
   "metadata": {
    "hidden": true
   },
   "outputs": [],
   "source": [
    "dataset[[\"german_word\", \"guess\"] + vardict[\"categorical\"]]"
   ]
  },
  {
   "cell_type": "code",
   "execution_count": null,
   "metadata": {
    "hidden": true
   },
   "outputs": [],
   "source": []
  },
  {
   "cell_type": "markdown",
   "metadata": {
    "heading_collapsed": true
   },
   "source": [
    "# Split training - validation - test"
   ]
  },
  {
   "cell_type": "markdown",
   "metadata": {
    "hidden": true
   },
   "source": [
    "We will split by sessions.\n",
    "* 70% training\n",
    "* 20% validation\n",
    "* 10% test"
   ]
  },
  {
   "cell_type": "code",
   "execution_count": null,
   "metadata": {
    "ExecuteTime": {
     "end_time": "2020-10-09T20:55:27.993832Z",
     "start_time": "2020-10-09T20:55:27.963626Z"
    },
    "hidden": true
   },
   "outputs": [],
   "source": [
    "sessions = list(set(dataset[\"id_session\"].values))\n",
    "sessions"
   ]
  },
  {
   "cell_type": "code",
   "execution_count": null,
   "metadata": {
    "ExecuteTime": {
     "end_time": "2020-10-09T20:55:29.746528Z",
     "start_time": "2020-10-09T20:55:29.708215Z"
    },
    "hidden": true
   },
   "outputs": [],
   "source": [
    "train_valid_sessions, test_sessions = train_test_split(\n",
    "    sessions, shuffle=False, test_size=0.10\n",
    ")\n",
    "\n",
    "train_sessions, valid_sessions = train_test_split(\n",
    "    train_valid_sessions, shuffle=False, test_size=0.18\n",
    ")\n",
    "\n",
    "train_sessions, valid_sessions, test_sessions"
   ]
  },
  {
   "cell_type": "code",
   "execution_count": null,
   "metadata": {
    "ExecuteTime": {
     "end_time": "2020-10-09T20:55:30.541715Z",
     "start_time": "2020-10-09T20:55:30.507715Z"
    },
    "hidden": true
   },
   "outputs": [],
   "source": [
    "train_dataset = dataset[dataset[\"id_session\"].isin(train_sessions)]\n",
    "valid_dataset = dataset[dataset[\"id_session\"].isin(valid_sessions)]\n",
    "test_dataset = dataset[dataset[\"id_session\"].isin(test_sessions)]"
   ]
  },
  {
   "cell_type": "code",
   "execution_count": null,
   "metadata": {
    "ExecuteTime": {
     "end_time": "2020-10-09T20:55:31.280792Z",
     "start_time": "2020-10-09T20:55:31.222580Z"
    },
    "hidden": true
   },
   "outputs": [],
   "source": [
    "with open(train_dataset_path, \"wb\") as file:\n",
    "    dill.dump(train_dataset, file)\n",
    "\n",
    "with open(valid_dataset_path, \"wb\") as file:\n",
    "    dill.dump(valid_dataset, file)\n",
    "\n",
    "with open(test_dataset_path, \"wb\") as file:\n",
    "    dill.dump(test_dataset, file)"
   ]
  },
  {
   "cell_type": "markdown",
   "metadata": {},
   "source": [
    "# To use for predictions"
   ]
  },
  {
   "cell_type": "code",
   "execution_count": 73,
   "metadata": {
    "ExecuteTime": {
     "end_time": "2020-10-17T21:55:12.388095Z",
     "start_time": "2020-10-17T21:55:12.356520Z"
    }
   },
   "outputs": [
    {
     "data": {
      "application/javascript": [
       "\n",
       "            setTimeout(function() {\n",
       "                var nbb_cell_id = 73;\n",
       "                var nbb_unformatted_code = \"historical_data_path = \\\"data/raw/20201009/historical_data.csv\\\"\\nvocab_path = \\\"data/raw/german_english__feature.csv\\\"\\n\\ndataset_predictions_path = \\\"data/raw/20201009/dataset_predictions.pkl\\\"\";\n",
       "                var nbb_formatted_code = \"historical_data_path = \\\"data/raw/20201009/historical_data.csv\\\"\\nvocab_path = \\\"data/raw/german_english__feature.csv\\\"\\n\\ndataset_predictions_path = \\\"data/raw/20201009/dataset_predictions.pkl\\\"\";\n",
       "                var nbb_cells = Jupyter.notebook.get_cells();\n",
       "                for (var i = 0; i < nbb_cells.length; ++i) {\n",
       "                    if (nbb_cells[i].input_prompt_number == nbb_cell_id) {\n",
       "                        if (nbb_cells[i].get_text() == nbb_unformatted_code) {\n",
       "                             nbb_cells[i].set_text(nbb_formatted_code);\n",
       "                        }\n",
       "                        break;\n",
       "                    }\n",
       "                }\n",
       "            }, 500);\n",
       "            "
      ],
      "text/plain": [
       "<IPython.core.display.Javascript object>"
      ]
     },
     "metadata": {},
     "output_type": "display_data"
    }
   ],
   "source": [
    "historical_data_path = \"data/raw/20201009/historical_data.csv\"\n",
    "vocab_path = \"data/raw/german_english__feature.csv\"\n",
    "\n",
    "dataset_predictions_path = \"data/raw/20201009/dataset_predictions.pkl\""
   ]
  },
  {
   "cell_type": "code",
   "execution_count": 74,
   "metadata": {
    "ExecuteTime": {
     "end_time": "2020-10-17T21:55:14.099498Z",
     "start_time": "2020-10-17T21:55:12.890652Z"
    }
   },
   "outputs": [
    {
     "name": "stdout",
     "output_type": "stream",
     "text": [
      "Saved at data/raw/20201009/dataset_predictions.pkl\n"
     ]
    },
    {
     "data": {
      "application/javascript": [
       "\n",
       "            setTimeout(function() {\n",
       "                var nbb_cell_id = 74;\n",
       "                var nbb_unformatted_code = \"import src.data.get_dataset as get_dataset\\nimport src.data.make_dataset as make_dataset\\n\\n\\ntest_data = make_dataset.create_dataset_new_session(\\n    historical_data_path, vocab_path, dataset_predictions_path\\n)\";\n",
       "                var nbb_formatted_code = \"import src.data.get_dataset as get_dataset\\nimport src.data.make_dataset as make_dataset\\n\\n\\ntest_data = make_dataset.create_dataset_new_session(\\n    historical_data_path, vocab_path, dataset_predictions_path\\n)\";\n",
       "                var nbb_cells = Jupyter.notebook.get_cells();\n",
       "                for (var i = 0; i < nbb_cells.length; ++i) {\n",
       "                    if (nbb_cells[i].input_prompt_number == nbb_cell_id) {\n",
       "                        if (nbb_cells[i].get_text() == nbb_unformatted_code) {\n",
       "                             nbb_cells[i].set_text(nbb_formatted_code);\n",
       "                        }\n",
       "                        break;\n",
       "                    }\n",
       "                }\n",
       "            }, 500);\n",
       "            "
      ],
      "text/plain": [
       "<IPython.core.display.Javascript object>"
      ]
     },
     "metadata": {},
     "output_type": "display_data"
    }
   ],
   "source": [
    "import src.data.get_dataset as get_dataset\n",
    "import src.data.make_dataset as make_dataset\n",
    "\n",
    "\n",
    "test_data = make_dataset.create_dataset_new_session(\n",
    "    historical_data_path, vocab_path, dataset_predictions_path\n",
    ")"
   ]
  },
  {
   "cell_type": "code",
   "execution_count": null,
   "metadata": {},
   "outputs": [],
   "source": []
  }
 ],
 "metadata": {
  "hide_input": false,
  "kernelspec": {
   "display_name": "vocabulary_learning",
   "language": "python",
   "name": "vocabulary_learning"
  },
  "language_info": {
   "codemirror_mode": {
    "name": "ipython",
    "version": 3
   },
   "file_extension": ".py",
   "mimetype": "text/x-python",
   "name": "python",
   "nbconvert_exporter": "python",
   "pygments_lexer": "ipython3",
   "version": "3.7.5"
  },
  "toc": {
   "base_numbering": 1,
   "nav_menu": {},
   "number_sections": true,
   "sideBar": true,
   "skip_h1_title": false,
   "title_cell": "Table of Contents",
   "title_sidebar": "Contents",
   "toc_cell": false,
   "toc_position": {},
   "toc_section_display": true,
   "toc_window_display": false
  }
 },
 "nbformat": 4,
 "nbformat_minor": 4
}
