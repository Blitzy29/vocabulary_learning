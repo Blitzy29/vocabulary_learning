{
 "cells": [
  {
   "cell_type": "code",
   "execution_count": 1,
   "metadata": {
    "ExecuteTime": {
     "end_time": "2020-09-26T19:24:40.062108Z",
     "start_time": "2020-09-26T19:24:39.913791Z"
    }
   },
   "outputs": [
    {
     "name": "stdout",
     "output_type": "stream",
     "text": [
      "/Users/admin/Projects/vocabulary_learning/notebooks\n",
      "/Users/admin/Projects/vocabulary_learning\n"
     ]
    },
    {
     "data": {
      "application/javascript": [
       "\n",
       "            setTimeout(function() {\n",
       "                var nbb_cell_id = 1;\n",
       "                var nbb_unformatted_code = \"%load_ext nb_black\\n%load_ext autoreload\\n%autoreload 2\\n\\nimport os\\n\\nprint(os.getcwd())\\n\\n\\ndef update_working_directory():\\n    from pathlib import Path\\n\\n    p = Path(os.getcwd()).parents[0]\\n    os.chdir(p)\\n    print(p)\\n\\n\\nupdate_working_directory()\";\n",
       "                var nbb_formatted_code = \"%load_ext nb_black\\n%load_ext autoreload\\n%autoreload 2\\n\\nimport os\\n\\nprint(os.getcwd())\\n\\n\\ndef update_working_directory():\\n    from pathlib import Path\\n\\n    p = Path(os.getcwd()).parents[0]\\n    os.chdir(p)\\n    print(p)\\n\\n\\nupdate_working_directory()\";\n",
       "                var nbb_cells = Jupyter.notebook.get_cells();\n",
       "                for (var i = 0; i < nbb_cells.length; ++i) {\n",
       "                    if (nbb_cells[i].input_prompt_number == nbb_cell_id) {\n",
       "                        if (nbb_cells[i].get_text() == nbb_unformatted_code) {\n",
       "                             nbb_cells[i].set_text(nbb_formatted_code);\n",
       "                        }\n",
       "                        break;\n",
       "                    }\n",
       "                }\n",
       "            }, 500);\n",
       "            "
      ],
      "text/plain": [
       "<IPython.core.display.Javascript object>"
      ]
     },
     "metadata": {},
     "output_type": "display_data"
    }
   ],
   "source": [
    "%load_ext nb_black\n",
    "%load_ext autoreload\n",
    "%autoreload 2\n",
    "\n",
    "import os\n",
    "\n",
    "print(os.getcwd())\n",
    "\n",
    "\n",
    "def update_working_directory():\n",
    "    from pathlib import Path\n",
    "\n",
    "    p = Path(os.getcwd()).parents[0]\n",
    "    os.chdir(p)\n",
    "    print(p)\n",
    "\n",
    "\n",
    "update_working_directory()"
   ]
  },
  {
   "cell_type": "code",
   "execution_count": 2,
   "metadata": {
    "ExecuteTime": {
     "end_time": "2020-09-26T19:24:40.574038Z",
     "start_time": "2020-09-26T19:24:40.223684Z"
    }
   },
   "outputs": [
    {
     "data": {
      "application/javascript": [
       "\n",
       "            setTimeout(function() {\n",
       "                var nbb_cell_id = 2;\n",
       "                var nbb_unformatted_code = \"import numpy as np\\nimport pandas as pd\\n\\npd.set_option(\\\"display.max_columns\\\", None)\\n\\nimport datetime\";\n",
       "                var nbb_formatted_code = \"import numpy as np\\nimport pandas as pd\\n\\npd.set_option(\\\"display.max_columns\\\", None)\\n\\nimport datetime\";\n",
       "                var nbb_cells = Jupyter.notebook.get_cells();\n",
       "                for (var i = 0; i < nbb_cells.length; ++i) {\n",
       "                    if (nbb_cells[i].input_prompt_number == nbb_cell_id) {\n",
       "                        if (nbb_cells[i].get_text() == nbb_unformatted_code) {\n",
       "                             nbb_cells[i].set_text(nbb_formatted_code);\n",
       "                        }\n",
       "                        break;\n",
       "                    }\n",
       "                }\n",
       "            }, 500);\n",
       "            "
      ],
      "text/plain": [
       "<IPython.core.display.Javascript object>"
      ]
     },
     "metadata": {},
     "output_type": "display_data"
    }
   ],
   "source": [
    "import numpy as np\n",
    "import pandas as pd\n",
    "\n",
    "pd.set_option(\"display.max_columns\", None)\n",
    "\n",
    "import datetime"
   ]
  },
  {
   "cell_type": "markdown",
   "metadata": {},
   "source": [
    "# Overall"
   ]
  },
  {
   "cell_type": "code",
   "execution_count": 3,
   "metadata": {
    "ExecuteTime": {
     "end_time": "2020-09-26T19:24:43.519894Z",
     "start_time": "2020-09-26T19:24:43.298692Z"
    }
   },
   "outputs": [
    {
     "data": {
      "application/javascript": [
       "\n",
       "            setTimeout(function() {\n",
       "                var nbb_cell_id = 3;\n",
       "                var nbb_unformatted_code = \"# Historical dataset\\nfrom src.data.get_dataset import get_historical_data\\nfrom src.data.make_historical_features import create_historical_features\\n\\nhistorical_data = get_historical_data(\\\"data/raw/historical_data__feature.csv\\\")\\nhistorical_data = create_historical_features(historical_data)\";\n",
       "                var nbb_formatted_code = \"# Historical dataset\\nfrom src.data.get_dataset import get_historical_data\\nfrom src.data.make_historical_features import create_historical_features\\n\\nhistorical_data = get_historical_data(\\\"data/raw/historical_data__feature.csv\\\")\\nhistorical_data = create_historical_features(historical_data)\";\n",
       "                var nbb_cells = Jupyter.notebook.get_cells();\n",
       "                for (var i = 0; i < nbb_cells.length; ++i) {\n",
       "                    if (nbb_cells[i].input_prompt_number == nbb_cell_id) {\n",
       "                        if (nbb_cells[i].get_text() == nbb_unformatted_code) {\n",
       "                             nbb_cells[i].set_text(nbb_formatted_code);\n",
       "                        }\n",
       "                        break;\n",
       "                    }\n",
       "                }\n",
       "            }, 500);\n",
       "            "
      ],
      "text/plain": [
       "<IPython.core.display.Javascript object>"
      ]
     },
     "metadata": {},
     "output_type": "display_data"
    }
   ],
   "source": [
    "# Historical dataset\n",
    "from src.data.get_dataset import get_historical_data\n",
    "from src.data.make_historical_features import create_historical_features\n",
    "\n",
    "historical_data = get_historical_data(\"data/raw/historical_data__feature.csv\")\n",
    "historical_data = create_historical_features(historical_data)"
   ]
  },
  {
   "cell_type": "code",
   "execution_count": 4,
   "metadata": {
    "ExecuteTime": {
     "end_time": "2020-09-26T19:24:43.938604Z",
     "start_time": "2020-09-26T19:24:43.894786Z"
    }
   },
   "outputs": [
    {
     "data": {
      "application/javascript": [
       "\n",
       "            setTimeout(function() {\n",
       "                var nbb_cell_id = 4;\n",
       "                var nbb_unformatted_code = \"# Vocab dataset\\nfrom src.data.get_dataset import get_vocab\\nfrom src.data.make_vocab_features import create_vocab_features\\n\\nvocab = get_vocab(\\\"data/raw/german_english__feature.csv\\\")\\nvocab = create_vocab_features(vocab)\";\n",
       "                var nbb_formatted_code = \"# Vocab dataset\\nfrom src.data.get_dataset import get_vocab\\nfrom src.data.make_vocab_features import create_vocab_features\\n\\nvocab = get_vocab(\\\"data/raw/german_english__feature.csv\\\")\\nvocab = create_vocab_features(vocab)\";\n",
       "                var nbb_cells = Jupyter.notebook.get_cells();\n",
       "                for (var i = 0; i < nbb_cells.length; ++i) {\n",
       "                    if (nbb_cells[i].input_prompt_number == nbb_cell_id) {\n",
       "                        if (nbb_cells[i].get_text() == nbb_unformatted_code) {\n",
       "                             nbb_cells[i].set_text(nbb_formatted_code);\n",
       "                        }\n",
       "                        break;\n",
       "                    }\n",
       "                }\n",
       "            }, 500);\n",
       "            "
      ],
      "text/plain": [
       "<IPython.core.display.Javascript object>"
      ]
     },
     "metadata": {},
     "output_type": "display_data"
    }
   ],
   "source": [
    "# Vocab dataset\n",
    "from src.data.get_dataset import get_vocab\n",
    "from src.data.make_vocab_features import create_vocab_features\n",
    "\n",
    "vocab = get_vocab(\"data/raw/german_english__feature.csv\")\n",
    "vocab = create_vocab_features(vocab)"
   ]
  },
  {
   "cell_type": "code",
   "execution_count": 5,
   "metadata": {
    "ExecuteTime": {
     "end_time": "2020-09-26T19:24:44.484476Z",
     "start_time": "2020-09-26T19:24:44.449474Z"
    }
   },
   "outputs": [
    {
     "data": {
      "application/javascript": [
       "\n",
       "            setTimeout(function() {\n",
       "                var nbb_cell_id = 5;\n",
       "                var nbb_unformatted_code = \"# Dataset\\nfrom src.data.make_dataset import merge_feature_datasets\\n\\ndataset = merge_feature_datasets(historical_data, vocab)\";\n",
       "                var nbb_formatted_code = \"# Dataset\\nfrom src.data.make_dataset import merge_feature_datasets\\n\\ndataset = merge_feature_datasets(historical_data, vocab)\";\n",
       "                var nbb_cells = Jupyter.notebook.get_cells();\n",
       "                for (var i = 0; i < nbb_cells.length; ++i) {\n",
       "                    if (nbb_cells[i].input_prompt_number == nbb_cell_id) {\n",
       "                        if (nbb_cells[i].get_text() == nbb_unformatted_code) {\n",
       "                             nbb_cells[i].set_text(nbb_formatted_code);\n",
       "                        }\n",
       "                        break;\n",
       "                    }\n",
       "                }\n",
       "            }, 500);\n",
       "            "
      ],
      "text/plain": [
       "<IPython.core.display.Javascript object>"
      ]
     },
     "metadata": {},
     "output_type": "display_data"
    }
   ],
   "source": [
    "# Dataset\n",
    "from src.data.make_dataset import merge_feature_datasets\n",
    "\n",
    "dataset = merge_feature_datasets(historical_data, vocab)"
   ]
  },
  {
   "cell_type": "code",
   "execution_count": 6,
   "metadata": {
    "ExecuteTime": {
     "end_time": "2020-09-26T19:24:46.781701Z",
     "start_time": "2020-09-26T19:24:46.760696Z"
    }
   },
   "outputs": [
    {
     "data": {
      "application/javascript": [
       "\n",
       "            setTimeout(function() {\n",
       "                var nbb_cell_id = 6;\n",
       "                var nbb_unformatted_code = \"# Vardict\\nfrom src.data.make_dataset import get_vardict\\n\\nvardict = get_vardict()\";\n",
       "                var nbb_formatted_code = \"# Vardict\\nfrom src.data.make_dataset import get_vardict\\n\\nvardict = get_vardict()\";\n",
       "                var nbb_cells = Jupyter.notebook.get_cells();\n",
       "                for (var i = 0; i < nbb_cells.length; ++i) {\n",
       "                    if (nbb_cells[i].input_prompt_number == nbb_cell_id) {\n",
       "                        if (nbb_cells[i].get_text() == nbb_unformatted_code) {\n",
       "                             nbb_cells[i].set_text(nbb_formatted_code);\n",
       "                        }\n",
       "                        break;\n",
       "                    }\n",
       "                }\n",
       "            }, 500);\n",
       "            "
      ],
      "text/plain": [
       "<IPython.core.display.Javascript object>"
      ]
     },
     "metadata": {},
     "output_type": "display_data"
    }
   ],
   "source": [
    "# Vardict\n",
    "from src.data.make_dataset import get_vardict\n",
    "\n",
    "vardict = get_vardict()"
   ]
  },
  {
   "cell_type": "code",
   "execution_count": 7,
   "metadata": {
    "ExecuteTime": {
     "end_time": "2020-09-26T19:24:47.300703Z",
     "start_time": "2020-09-26T19:24:47.232237Z"
    }
   },
   "outputs": [
    {
     "data": {
      "application/javascript": [
       "\n",
       "            setTimeout(function() {\n",
       "                var nbb_cell_id = 7;\n",
       "                var nbb_unformatted_code = \"# Transform datatype\\nfrom src.data.make_dataset import transform_type\\n\\ndataset = transform_type(dataset, vardict)\";\n",
       "                var nbb_formatted_code = \"# Transform datatype\\nfrom src.data.make_dataset import transform_type\\n\\ndataset = transform_type(dataset, vardict)\";\n",
       "                var nbb_cells = Jupyter.notebook.get_cells();\n",
       "                for (var i = 0; i < nbb_cells.length; ++i) {\n",
       "                    if (nbb_cells[i].input_prompt_number == nbb_cell_id) {\n",
       "                        if (nbb_cells[i].get_text() == nbb_unformatted_code) {\n",
       "                             nbb_cells[i].set_text(nbb_formatted_code);\n",
       "                        }\n",
       "                        break;\n",
       "                    }\n",
       "                }\n",
       "            }, 500);\n",
       "            "
      ],
      "text/plain": [
       "<IPython.core.display.Javascript object>"
      ]
     },
     "metadata": {},
     "output_type": "display_data"
    }
   ],
   "source": [
    "# Transform datatype\n",
    "from src.data.make_dataset import transform_type\n",
    "\n",
    "dataset = transform_type(dataset, vardict)"
   ]
  },
  {
   "cell_type": "code",
   "execution_count": 8,
   "metadata": {
    "ExecuteTime": {
     "end_time": "2020-09-26T19:24:47.800171Z",
     "start_time": "2020-09-26T19:24:47.775484Z"
    }
   },
   "outputs": [
    {
     "data": {
      "text/plain": [
       "['id_vocab',\n",
       " 'german_word',\n",
       " 'english_word',\n",
       " 'score_before',\n",
       " 'score_before_other_language',\n",
       " 'result',\n",
       " 'guess',\n",
       " 'question_time',\n",
       " 'write_it_again',\n",
       " 'datetime',\n",
       " 'id_session',\n",
       " 'day',\n",
       " 'id_historical_data']"
      ]
     },
     "execution_count": 8,
     "metadata": {},
     "output_type": "execute_result"
    },
    {
     "data": {
      "application/javascript": [
       "\n",
       "            setTimeout(function() {\n",
       "                var nbb_cell_id = 8;\n",
       "                var nbb_unformatted_code = \"[x for x in dataset.columns.tolist() if x not in vardict[\\\"all\\\"]]\";\n",
       "                var nbb_formatted_code = \"[x for x in dataset.columns.tolist() if x not in vardict[\\\"all\\\"]]\";\n",
       "                var nbb_cells = Jupyter.notebook.get_cells();\n",
       "                for (var i = 0; i < nbb_cells.length; ++i) {\n",
       "                    if (nbb_cells[i].input_prompt_number == nbb_cell_id) {\n",
       "                        if (nbb_cells[i].get_text() == nbb_unformatted_code) {\n",
       "                             nbb_cells[i].set_text(nbb_formatted_code);\n",
       "                        }\n",
       "                        break;\n",
       "                    }\n",
       "                }\n",
       "            }, 500);\n",
       "            "
      ],
      "text/plain": [
       "<IPython.core.display.Javascript object>"
      ]
     },
     "metadata": {},
     "output_type": "display_data"
    }
   ],
   "source": [
    "[x for x in dataset.columns.tolist() if x not in vardict[\"all\"]]"
   ]
  },
  {
   "cell_type": "code",
   "execution_count": 9,
   "metadata": {
    "ExecuteTime": {
     "end_time": "2020-09-26T19:24:48.349399Z",
     "start_time": "2020-09-26T19:24:48.286761Z"
    }
   },
   "outputs": [
    {
     "data": {
      "text/html": [
       "<div>\n",
       "<style scoped>\n",
       "    .dataframe tbody tr th:only-of-type {\n",
       "        vertical-align: middle;\n",
       "    }\n",
       "\n",
       "    .dataframe tbody tr th {\n",
       "        vertical-align: top;\n",
       "    }\n",
       "\n",
       "    .dataframe thead th {\n",
       "        text-align: right;\n",
       "    }\n",
       "</style>\n",
       "<table border=\"1\" class=\"dataframe\">\n",
       "  <thead>\n",
       "    <tr style=\"text-align: right;\">\n",
       "      <th></th>\n",
       "      <th>german_word</th>\n",
       "      <th>english_word</th>\n",
       "      <th>result</th>\n",
       "      <th>nb_characters_german</th>\n",
       "      <th>nb_characters_english</th>\n",
       "      <th>nb_words_german</th>\n",
       "      <th>nb_words_english</th>\n",
       "      <th>levenshtein_distance_german_english</th>\n",
       "      <th>previous_score</th>\n",
       "      <th>previous_score_other_language</th>\n",
       "      <th>previous_levenshtein_distance_guess_answer</th>\n",
       "      <th>previous_question_time</th>\n",
       "      <th>previous_write_it_again_german</th>\n",
       "      <th>previous_write_it_again_english</th>\n",
       "      <th>past_occurrences_same_language</th>\n",
       "      <th>past_successes_same_language</th>\n",
       "      <th>past_fails_same_language</th>\n",
       "      <th>past_occurrences_any_language</th>\n",
       "      <th>past_successes_any_language</th>\n",
       "      <th>past_fails_any_language</th>\n",
       "      <th>week_number</th>\n",
       "      <th>day_week</th>\n",
       "      <th>hour</th>\n",
       "      <th>nb_words_session</th>\n",
       "      <th>days_since_last_occurrence_same_language</th>\n",
       "      <th>days_since_last_occurrence_any_language</th>\n",
       "      <th>days_since_last_success_same_language</th>\n",
       "      <th>days_since_last_success_any_language</th>\n",
       "      <th>days_since_first_occur_same_language</th>\n",
       "      <th>days_since_first_occur_any_language</th>\n",
       "      <th>previous_result</th>\n",
       "      <th>previous_correct_article</th>\n",
       "      <th>previous_only_missed_uppercase</th>\n",
       "      <th>previous_write_it_again_not_null</th>\n",
       "      <th>is_noun</th>\n",
       "      <th>is_verb</th>\n",
       "      <th>language_asked</th>\n",
       "      <th>previous_language_asked</th>\n",
       "    </tr>\n",
       "  </thead>\n",
       "  <tbody>\n",
       "    <tr>\n",
       "      <th>0</th>\n",
       "      <td>stimmen</td>\n",
       "      <td>to vote</td>\n",
       "      <td>1.0</td>\n",
       "      <td>7.0</td>\n",
       "      <td>7.0</td>\n",
       "      <td>1.0</td>\n",
       "      <td>1.0</td>\n",
       "      <td>6.0</td>\n",
       "      <td>0.0</td>\n",
       "      <td>0.0</td>\n",
       "      <td>NaN</td>\n",
       "      <td>NaN</td>\n",
       "      <td>NaN</td>\n",
       "      <td>NaN</td>\n",
       "      <td>0.0</td>\n",
       "      <td>0.0</td>\n",
       "      <td>0.0</td>\n",
       "      <td>0.0</td>\n",
       "      <td>0.0</td>\n",
       "      <td>0.0</td>\n",
       "      <td>39.0</td>\n",
       "      <td>6.0</td>\n",
       "      <td>15.0</td>\n",
       "      <td>1.0</td>\n",
       "      <td>NaN</td>\n",
       "      <td>NaN</td>\n",
       "      <td>NaN</td>\n",
       "      <td>NaN</td>\n",
       "      <td>NaN</td>\n",
       "      <td>NaN</td>\n",
       "      <td>None</td>\n",
       "      <td>None</td>\n",
       "      <td>None</td>\n",
       "      <td>None</td>\n",
       "      <td>0.0</td>\n",
       "      <td>1.0</td>\n",
       "      <td>german</td>\n",
       "      <td>None</td>\n",
       "    </tr>\n",
       "    <tr>\n",
       "      <th>1</th>\n",
       "      <td>stimmen</td>\n",
       "      <td>to vote</td>\n",
       "      <td>0.0</td>\n",
       "      <td>7.0</td>\n",
       "      <td>7.0</td>\n",
       "      <td>1.0</td>\n",
       "      <td>1.0</td>\n",
       "      <td>6.0</td>\n",
       "      <td>1.0</td>\n",
       "      <td>0.0</td>\n",
       "      <td>0.0</td>\n",
       "      <td>2.0</td>\n",
       "      <td>NaN</td>\n",
       "      <td>NaN</td>\n",
       "      <td>1.0</td>\n",
       "      <td>1.0</td>\n",
       "      <td>0.0</td>\n",
       "      <td>1.0</td>\n",
       "      <td>1.0</td>\n",
       "      <td>0.0</td>\n",
       "      <td>39.0</td>\n",
       "      <td>6.0</td>\n",
       "      <td>15.0</td>\n",
       "      <td>17.0</td>\n",
       "      <td>0.0</td>\n",
       "      <td>0.0</td>\n",
       "      <td>NaN</td>\n",
       "      <td>NaN</td>\n",
       "      <td>0.0</td>\n",
       "      <td>0.0</td>\n",
       "      <td>True</td>\n",
       "      <td>None</td>\n",
       "      <td>False</td>\n",
       "      <td>False</td>\n",
       "      <td>0.0</td>\n",
       "      <td>1.0</td>\n",
       "      <td>german</td>\n",
       "      <td>german</td>\n",
       "    </tr>\n",
       "    <tr>\n",
       "      <th>2</th>\n",
       "      <td>stimmen</td>\n",
       "      <td>to vote</td>\n",
       "      <td>1.0</td>\n",
       "      <td>7.0</td>\n",
       "      <td>7.0</td>\n",
       "      <td>1.0</td>\n",
       "      <td>1.0</td>\n",
       "      <td>6.0</td>\n",
       "      <td>0.0</td>\n",
       "      <td>0.0</td>\n",
       "      <td>NaN</td>\n",
       "      <td>NaN</td>\n",
       "      <td>NaN</td>\n",
       "      <td>NaN</td>\n",
       "      <td>0.0</td>\n",
       "      <td>0.0</td>\n",
       "      <td>0.0</td>\n",
       "      <td>2.0</td>\n",
       "      <td>1.0</td>\n",
       "      <td>1.0</td>\n",
       "      <td>39.0</td>\n",
       "      <td>6.0</td>\n",
       "      <td>15.0</td>\n",
       "      <td>36.0</td>\n",
       "      <td>NaN</td>\n",
       "      <td>0.0</td>\n",
       "      <td>NaN</td>\n",
       "      <td>NaN</td>\n",
       "      <td>NaN</td>\n",
       "      <td>NaN</td>\n",
       "      <td>None</td>\n",
       "      <td>None</td>\n",
       "      <td>None</td>\n",
       "      <td>None</td>\n",
       "      <td>0.0</td>\n",
       "      <td>1.0</td>\n",
       "      <td>english</td>\n",
       "      <td>None</td>\n",
       "    </tr>\n",
       "  </tbody>\n",
       "</table>\n",
       "</div>"
      ],
      "text/plain": [
       "  german_word english_word  result  nb_characters_german  \\\n",
       "0     stimmen      to vote     1.0                   7.0   \n",
       "1     stimmen      to vote     0.0                   7.0   \n",
       "2     stimmen      to vote     1.0                   7.0   \n",
       "\n",
       "   nb_characters_english  nb_words_german  nb_words_english  \\\n",
       "0                    7.0              1.0               1.0   \n",
       "1                    7.0              1.0               1.0   \n",
       "2                    7.0              1.0               1.0   \n",
       "\n",
       "   levenshtein_distance_german_english  previous_score  \\\n",
       "0                                  6.0             0.0   \n",
       "1                                  6.0             1.0   \n",
       "2                                  6.0             0.0   \n",
       "\n",
       "   previous_score_other_language  previous_levenshtein_distance_guess_answer  \\\n",
       "0                            0.0                                         NaN   \n",
       "1                            0.0                                         0.0   \n",
       "2                            0.0                                         NaN   \n",
       "\n",
       "   previous_question_time  previous_write_it_again_german  \\\n",
       "0                     NaN                             NaN   \n",
       "1                     2.0                             NaN   \n",
       "2                     NaN                             NaN   \n",
       "\n",
       "   previous_write_it_again_english  past_occurrences_same_language  \\\n",
       "0                              NaN                             0.0   \n",
       "1                              NaN                             1.0   \n",
       "2                              NaN                             0.0   \n",
       "\n",
       "   past_successes_same_language  past_fails_same_language  \\\n",
       "0                           0.0                       0.0   \n",
       "1                           1.0                       0.0   \n",
       "2                           0.0                       0.0   \n",
       "\n",
       "   past_occurrences_any_language  past_successes_any_language  \\\n",
       "0                            0.0                          0.0   \n",
       "1                            1.0                          1.0   \n",
       "2                            2.0                          1.0   \n",
       "\n",
       "   past_fails_any_language  week_number  day_week  hour  nb_words_session  \\\n",
       "0                      0.0         39.0       6.0  15.0               1.0   \n",
       "1                      0.0         39.0       6.0  15.0              17.0   \n",
       "2                      1.0         39.0       6.0  15.0              36.0   \n",
       "\n",
       "   days_since_last_occurrence_same_language  \\\n",
       "0                                       NaN   \n",
       "1                                       0.0   \n",
       "2                                       NaN   \n",
       "\n",
       "   days_since_last_occurrence_any_language  \\\n",
       "0                                      NaN   \n",
       "1                                      0.0   \n",
       "2                                      0.0   \n",
       "\n",
       "   days_since_last_success_same_language  \\\n",
       "0                                    NaN   \n",
       "1                                    NaN   \n",
       "2                                    NaN   \n",
       "\n",
       "   days_since_last_success_any_language  days_since_first_occur_same_language  \\\n",
       "0                                   NaN                                   NaN   \n",
       "1                                   NaN                                   0.0   \n",
       "2                                   NaN                                   NaN   \n",
       "\n",
       "   days_since_first_occur_any_language previous_result  \\\n",
       "0                                  NaN            None   \n",
       "1                                  0.0            True   \n",
       "2                                  NaN            None   \n",
       "\n",
       "  previous_correct_article previous_only_missed_uppercase  \\\n",
       "0                     None                           None   \n",
       "1                     None                          False   \n",
       "2                     None                           None   \n",
       "\n",
       "  previous_write_it_again_not_null  is_noun  is_verb language_asked  \\\n",
       "0                             None      0.0      1.0         german   \n",
       "1                            False      0.0      1.0         german   \n",
       "2                             None      0.0      1.0        english   \n",
       "\n",
       "  previous_language_asked  \n",
       "0                    None  \n",
       "1                  german  \n",
       "2                    None  "
      ]
     },
     "execution_count": 9,
     "metadata": {},
     "output_type": "execute_result"
    },
    {
     "data": {
      "application/javascript": [
       "\n",
       "            setTimeout(function() {\n",
       "                var nbb_cell_id = 9;\n",
       "                var nbb_unformatted_code = \"dataset[dataset[\\\"german_word\\\"] == \\\"stimmen\\\"][\\n    [\\\"german_word\\\", \\\"english_word\\\"] + [vardict[\\\"target\\\"]] + vardict[\\\"all\\\"]\\n]\";\n",
       "                var nbb_formatted_code = \"dataset[dataset[\\\"german_word\\\"] == \\\"stimmen\\\"][\\n    [\\\"german_word\\\", \\\"english_word\\\"] + [vardict[\\\"target\\\"]] + vardict[\\\"all\\\"]\\n]\";\n",
       "                var nbb_cells = Jupyter.notebook.get_cells();\n",
       "                for (var i = 0; i < nbb_cells.length; ++i) {\n",
       "                    if (nbb_cells[i].input_prompt_number == nbb_cell_id) {\n",
       "                        if (nbb_cells[i].get_text() == nbb_unformatted_code) {\n",
       "                             nbb_cells[i].set_text(nbb_formatted_code);\n",
       "                        }\n",
       "                        break;\n",
       "                    }\n",
       "                }\n",
       "            }, 500);\n",
       "            "
      ],
      "text/plain": [
       "<IPython.core.display.Javascript object>"
      ]
     },
     "metadata": {},
     "output_type": "display_data"
    }
   ],
   "source": [
    "dataset[dataset[\"german_word\"] == \"stimmen\"][\n",
    "    [\"german_word\", \"english_word\"] + [vardict[\"target\"]] + vardict[\"all\"]\n",
    "]"
   ]
  },
  {
   "cell_type": "markdown",
   "metadata": {},
   "source": [
    "# Historical dataset"
   ]
  },
  {
   "cell_type": "code",
   "execution_count": null,
   "metadata": {
    "ExecuteTime": {
     "end_time": "2020-09-26T14:39:47.707873Z",
     "start_time": "2020-09-26T14:39:47.636505Z"
    },
    "scrolled": true
   },
   "outputs": [],
   "source": [
    "from src.data.get_dataset import get_historical_data\n",
    "\n",
    "historical_data_test = get_historical_data(\"data/raw/historical_data__feature.csv\")\n",
    "historical_data_test"
   ]
  },
  {
   "cell_type": "markdown",
   "metadata": {},
   "source": [
    "## Add features"
   ]
  },
  {
   "cell_type": "code",
   "execution_count": null,
   "metadata": {
    "ExecuteTime": {
     "end_time": "2020-09-26T14:39:50.701490Z",
     "start_time": "2020-09-26T14:39:50.452484Z"
    }
   },
   "outputs": [],
   "source": [
    "from src.data.make_historical_features import create_historical_features\n",
    "\n",
    "historical_data_test = create_historical_features(historical_data_test)\n",
    "historical_data_test"
   ]
  },
  {
   "cell_type": "markdown",
   "metadata": {},
   "source": [
    "# Vocab dataset"
   ]
  },
  {
   "cell_type": "code",
   "execution_count": null,
   "metadata": {
    "ExecuteTime": {
     "end_time": "2020-09-26T14:39:53.108874Z",
     "start_time": "2020-09-26T14:39:53.076270Z"
    }
   },
   "outputs": [],
   "source": [
    "from src.data.get_dataset import get_vocab\n",
    "\n",
    "vocab = get_vocab(\"data/raw/german_english__feature.csv\")\n",
    "vocab"
   ]
  },
  {
   "cell_type": "markdown",
   "metadata": {},
   "source": [
    "## Add features"
   ]
  },
  {
   "cell_type": "code",
   "execution_count": null,
   "metadata": {
    "ExecuteTime": {
     "end_time": "2020-09-26T14:39:55.330458Z",
     "start_time": "2020-09-26T14:39:55.308139Z"
    }
   },
   "outputs": [],
   "source": [
    "from src.data.make_vocab_features import create_vocab_features\n",
    "\n",
    "vocab_test = create_vocab_features(vocab)\n",
    "vocab_test"
   ]
  },
  {
   "cell_type": "markdown",
   "metadata": {},
   "source": [
    "# Mix datasets"
   ]
  },
  {
   "cell_type": "code",
   "execution_count": null,
   "metadata": {
    "ExecuteTime": {
     "end_time": "2020-09-26T15:58:51.773924Z",
     "start_time": "2020-09-26T15:58:51.661830Z"
    }
   },
   "outputs": [],
   "source": [
    "dataset = pd.merge(historical_data_test, vocab_test, on=\"id_vocab\")\n",
    "dataset.sort_values(\"datetime\", inplace=True)\n",
    "dataset"
   ]
  },
  {
   "cell_type": "markdown",
   "metadata": {},
   "source": [
    "# Variable type transformation"
   ]
  },
  {
   "cell_type": "code",
   "execution_count": null,
   "metadata": {
    "ExecuteTime": {
     "end_time": "2020-09-26T15:58:53.467285Z",
     "start_time": "2020-09-26T15:58:53.446447Z"
    }
   },
   "outputs": [],
   "source": [
    "# List of feature columns"
   ]
  },
  {
   "cell_type": "code",
   "execution_count": null,
   "metadata": {
    "ExecuteTime": {
     "end_time": "2020-09-26T15:58:53.557988Z",
     "start_time": "2020-09-26T15:58:53.530446Z"
    }
   },
   "outputs": [],
   "source": [
    "dataset.columns.tolist()"
   ]
  },
  {
   "cell_type": "code",
   "execution_count": null,
   "metadata": {
    "ExecuteTime": {
     "end_time": "2020-09-26T15:58:53.634403Z",
     "start_time": "2020-09-26T15:58:53.612347Z"
    }
   },
   "outputs": [],
   "source": [
    "vardict = dict()"
   ]
  },
  {
   "cell_type": "markdown",
   "metadata": {},
   "source": [
    "## Target"
   ]
  },
  {
   "cell_type": "code",
   "execution_count": null,
   "metadata": {
    "ExecuteTime": {
     "end_time": "2020-09-26T15:58:53.802896Z",
     "start_time": "2020-09-26T15:58:53.779923Z"
    }
   },
   "outputs": [],
   "source": [
    "vardict[\"target\"] = \"result\""
   ]
  },
  {
   "cell_type": "code",
   "execution_count": null,
   "metadata": {
    "ExecuteTime": {
     "end_time": "2020-09-26T15:58:53.898130Z",
     "start_time": "2020-09-26T15:58:53.863870Z"
    },
    "scrolled": true
   },
   "outputs": [],
   "source": [
    "dataset[[vardict[\"target\"]]]"
   ]
  },
  {
   "cell_type": "markdown",
   "metadata": {},
   "source": [
    "## Numerical"
   ]
  },
  {
   "cell_type": "code",
   "execution_count": null,
   "metadata": {
    "ExecuteTime": {
     "end_time": "2020-09-26T15:58:54.059119Z",
     "start_time": "2020-09-26T15:58:54.032375Z"
    }
   },
   "outputs": [],
   "source": [
    "vardict[\"numerical\"] = [\n",
    "    \"previous_occurrences_same_language\",\n",
    "    \"previous_successes_same_language\",\n",
    "    \"previous_fails_same_language\",\n",
    "    \"previous_occurrences_any_language\",\n",
    "    \"previous_successes_any_language\",\n",
    "    \"previous_fails_any_language\",\n",
    "    \"levenshtein_distance_guess_answer\",\n",
    "    \"previous_question_time\",\n",
    "    \"write_it_again_german\",\n",
    "    \"write_it_again_english\",\n",
    "    \"levenshtein_distance_german_english\",\n",
    "]"
   ]
  },
  {
   "cell_type": "code",
   "execution_count": null,
   "metadata": {
    "ExecuteTime": {
     "end_time": "2020-09-26T15:58:54.143521Z",
     "start_time": "2020-09-26T15:58:54.113246Z"
    }
   },
   "outputs": [],
   "source": [
    "for i_num_var in vardict[\"numerical\"]:\n",
    "    dataset[i_num_var] = dataset[i_num_var].astype(float)"
   ]
  },
  {
   "cell_type": "code",
   "execution_count": null,
   "metadata": {
    "ExecuteTime": {
     "end_time": "2020-09-26T15:58:54.269788Z",
     "start_time": "2020-09-26T15:58:54.202232Z"
    },
    "scrolled": true
   },
   "outputs": [],
   "source": [
    "dataset[[\"german_word\", \"guess\"] + vardict[\"numerical\"]]"
   ]
  },
  {
   "cell_type": "markdown",
   "metadata": {},
   "source": [
    "## Difference in time"
   ]
  },
  {
   "cell_type": "code",
   "execution_count": null,
   "metadata": {
    "ExecuteTime": {
     "end_time": "2020-09-26T15:58:54.439845Z",
     "start_time": "2020-09-26T15:58:54.413472Z"
    }
   },
   "outputs": [],
   "source": [
    "vardict[\"diff_time\"] = [\n",
    "    \"days_since_last_occurrence_same_language\",\n",
    "    \"days_since_last_occurrence_any_language\",\n",
    "    \"days_since_last_success_same_language\",\n",
    "    \"days_since_last_success_any_language\",\n",
    "    \"days_since_first_occur_same_language\",\n",
    "    \"days_since_first_occur_any_language\",\n",
    "]"
   ]
  },
  {
   "cell_type": "code",
   "execution_count": null,
   "metadata": {
    "ExecuteTime": {
     "end_time": "2020-09-26T15:58:54.472124Z",
     "start_time": "2020-09-26T15:58:54.445176Z"
    }
   },
   "outputs": [],
   "source": [
    "for i_diff_time_var in vardict[\"diff_time\"]:\n",
    "    dataset[i_diff_time_var] = dataset[i_diff_time_var].dt.days.astype(float)"
   ]
  },
  {
   "cell_type": "code",
   "execution_count": null,
   "metadata": {
    "ExecuteTime": {
     "end_time": "2020-09-26T15:58:54.591695Z",
     "start_time": "2020-09-26T15:58:54.535086Z"
    },
    "scrolled": true
   },
   "outputs": [],
   "source": [
    "dataset[[\"german_word\", \"guess\"] + vardict[\"diff_time\"]]"
   ]
  },
  {
   "cell_type": "markdown",
   "metadata": {},
   "source": [
    "## Boolean"
   ]
  },
  {
   "cell_type": "code",
   "execution_count": null,
   "metadata": {
    "ExecuteTime": {
     "end_time": "2020-09-26T15:58:54.727475Z",
     "start_time": "2020-09-26T15:58:54.700365Z"
    }
   },
   "outputs": [],
   "source": [
    "vardict[\"boolean\"] = [\n",
    "    \"previous_result\",\n",
    "    \"correct_article\",\n",
    "    \"only_missed_uppercase\",\n",
    "    \"write_it_again_not_null\",\n",
    "]"
   ]
  },
  {
   "cell_type": "code",
   "execution_count": null,
   "metadata": {
    "ExecuteTime": {
     "end_time": "2020-09-26T15:58:55.354421Z",
     "start_time": "2020-09-26T15:58:55.316307Z"
    }
   },
   "outputs": [],
   "source": [
    "for i_boolean_var in vardict[\"boolean\"]:\n",
    "    dataset.loc[~dataset[i_boolean_var].isna(), i_boolean_var] = dataset.loc[\n",
    "        ~dataset[i_boolean_var].isna(), i_boolean_var\n",
    "    ].astype(\"bool\")"
   ]
  },
  {
   "cell_type": "code",
   "execution_count": null,
   "metadata": {
    "ExecuteTime": {
     "end_time": "2020-09-26T15:58:55.942720Z",
     "start_time": "2020-09-26T15:58:55.900714Z"
    },
    "scrolled": true
   },
   "outputs": [],
   "source": [
    "dataset[[\"german_word\", \"guess\"] + vardict[\"boolean\"]]"
   ]
  },
  {
   "cell_type": "markdown",
   "metadata": {},
   "source": [
    "## Categorical"
   ]
  },
  {
   "cell_type": "code",
   "execution_count": null,
   "metadata": {
    "ExecuteTime": {
     "end_time": "2020-09-26T15:58:56.726547Z",
     "start_time": "2020-09-26T15:58:56.705277Z"
    }
   },
   "outputs": [],
   "source": [
    "vardict[\"categorical\"] = [\n",
    "    \"previous_language_asked\",\n",
    "]"
   ]
  },
  {
   "cell_type": "code",
   "execution_count": null,
   "metadata": {
    "ExecuteTime": {
     "end_time": "2020-09-26T15:58:57.163242Z",
     "start_time": "2020-09-26T15:58:57.129975Z"
    }
   },
   "outputs": [],
   "source": [
    "for i_categorical_var in vardict[\"categorical\"]:\n",
    "    dataset.loc[~dataset[i_categorical_var].isna(), i_categorical_var] = dataset.loc[\n",
    "        ~dataset[i_categorical_var].isna(), i_categorical_var\n",
    "    ].astype(str)\n",
    "\n",
    "    dataset.loc[dataset[i_categorical_var].isna(), i_categorical_var] = None"
   ]
  },
  {
   "cell_type": "code",
   "execution_count": null,
   "metadata": {
    "ExecuteTime": {
     "end_time": "2020-09-26T15:58:58.638484Z",
     "start_time": "2020-09-26T15:58:58.599236Z"
    },
    "scrolled": true
   },
   "outputs": [],
   "source": [
    "dataset[[\"german_word\", \"guess\"] + vardict[\"categorical\"]]"
   ]
  },
  {
   "cell_type": "code",
   "execution_count": null,
   "metadata": {},
   "outputs": [],
   "source": []
  }
 ],
 "metadata": {
  "hide_input": false,
  "kernelspec": {
   "display_name": "vocabulary_learning",
   "language": "python",
   "name": "vocabulary_learning"
  },
  "language_info": {
   "codemirror_mode": {
    "name": "ipython",
    "version": 3
   },
   "file_extension": ".py",
   "mimetype": "text/x-python",
   "name": "python",
   "nbconvert_exporter": "python",
   "pygments_lexer": "ipython3",
   "version": "3.7.5"
  },
  "toc": {
   "base_numbering": 1,
   "nav_menu": {},
   "number_sections": true,
   "sideBar": true,
   "skip_h1_title": false,
   "title_cell": "Table of Contents",
   "title_sidebar": "Contents",
   "toc_cell": false,
   "toc_position": {},
   "toc_section_display": true,
   "toc_window_display": false
  }
 },
 "nbformat": 4,
 "nbformat_minor": 4
}
