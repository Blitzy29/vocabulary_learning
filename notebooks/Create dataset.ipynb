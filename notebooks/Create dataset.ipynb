{
 "cells": [
  {
   "cell_type": "code",
   "execution_count": null,
   "metadata": {},
   "outputs": [],
   "source": [
    "%load_ext nb_black\n",
    "%load_ext autoreload\n",
    "%autoreload 2\n",
    "\n",
    "import os\n",
    "\n",
    "print(os.getcwd())\n",
    "\n",
    "\n",
    "def update_working_directory():\n",
    "    from pathlib import Path\n",
    "\n",
    "    p = Path(os.getcwd()).parents[0]\n",
    "    os.chdir(p)\n",
    "    print(p)\n",
    "\n",
    "\n",
    "update_working_directory()"
   ]
  },
  {
   "cell_type": "code",
   "execution_count": null,
   "metadata": {},
   "outputs": [],
   "source": [
    "import numpy as np\n",
    "import pandas as pd\n",
    "\n",
    "pd.set_option(\"display.max_columns\", None)\n",
    "\n",
    "import datetime"
   ]
  },
  {
   "cell_type": "markdown",
   "metadata": {},
   "source": [
    "# Overall"
   ]
  },
  {
   "cell_type": "code",
   "execution_count": null,
   "metadata": {},
   "outputs": [],
   "source": [
    "# Historical dataset\n",
    "from src.data.get_dataset import get_historical_data\n",
    "from src.data.make_historical_features import create_historical_features\n",
    "\n",
    "historical_data = get_historical_data(\"data/raw/historical_data__feature.csv\")\n",
    "historical_data = create_historical_features(historical_data)"
   ]
  },
  {
   "cell_type": "code",
   "execution_count": null,
   "metadata": {},
   "outputs": [],
   "source": [
    "# Vocab dataset\n",
    "from src.data.get_dataset import get_vocab\n",
    "from src.data.make_vocab_features import create_vocab_features\n",
    "\n",
    "vocab = get_vocab(\"data/raw/german_english__feature.csv\")\n",
    "vocab = create_vocab_features(vocab)"
   ]
  },
  {
   "cell_type": "code",
   "execution_count": null,
   "metadata": {},
   "outputs": [],
   "source": [
    "# Dataset\n",
    "from src.data.make_dataset import merge_feature_datasets\n",
    "\n",
    "dataset = merge_feature_datasets(historical_data, vocab)"
   ]
  },
  {
   "cell_type": "code",
   "execution_count": null,
   "metadata": {},
   "outputs": [],
   "source": [
    "# Vardict\n",
    "from src.data.make_dataset import get_vardict\n",
    "\n",
    "vardict = get_vardict()"
   ]
  },
  {
   "cell_type": "code",
   "execution_count": null,
   "metadata": {},
   "outputs": [],
   "source": [
    "# Transform datatype\n",
    "from src.data.make_dataset import transform_type\n",
    "\n",
    "dataset = transform_type(dataset, vardict)"
   ]
  },
  {
   "cell_type": "code",
   "execution_count": null,
   "metadata": {},
   "outputs": [],
   "source": [
    "[x for x in dataset.columns.tolist() if x not in vardict[\"all\"]]"
   ]
  },
  {
   "cell_type": "code",
   "execution_count": null,
   "metadata": {},
   "outputs": [],
   "source": [
    "dataset[dataset[\"german_word\"] == \"stimmen\"][\n",
    "    [\"german_word\", \"english_word\"] + [vardict[\"target\"]] + vardict[\"all\"]\n",
    "]"
   ]
  },
  {
   "cell_type": "markdown",
   "metadata": {},
   "source": [
    "# Historical dataset"
   ]
  },
  {
   "cell_type": "code",
   "execution_count": null,
   "metadata": {},
   "outputs": [],
   "source": [
    "from src.data.get_dataset import get_historical_data\n",
    "\n",
    "historical_data_test = get_historical_data(\"data/raw/historical_data__feature.csv\")\n",
    "historical_data_test"
   ]
  },
  {
   "cell_type": "markdown",
   "metadata": {},
   "source": [
    "## Add features"
   ]
  },
  {
   "cell_type": "code",
   "execution_count": null,
   "metadata": {},
   "outputs": [],
   "source": [
    "from src.data.make_historical_features import create_historical_features\n",
    "\n",
    "historical_data_test = create_historical_features(historical_data_test)\n",
    "historical_data_test"
   ]
  },
  {
   "cell_type": "markdown",
   "metadata": {},
   "source": [
    "# Vocab dataset"
   ]
  },
  {
   "cell_type": "code",
   "execution_count": null,
   "metadata": {},
   "outputs": [],
   "source": [
    "from src.data.get_dataset import get_vocab\n",
    "\n",
    "vocab = get_vocab(\"data/raw/german_english__feature.csv\")\n",
    "vocab"
   ]
  },
  {
   "cell_type": "markdown",
   "metadata": {},
   "source": [
    "## Add features"
   ]
  },
  {
   "cell_type": "code",
   "execution_count": null,
   "metadata": {},
   "outputs": [],
   "source": [
    "from src.data.make_vocab_features import create_vocab_features\n",
    "\n",
    "vocab_test = create_vocab_features(vocab)\n",
    "vocab_test"
   ]
  },
  {
   "cell_type": "markdown",
   "metadata": {},
   "source": [
    "# Mix datasets"
   ]
  },
  {
   "cell_type": "code",
   "execution_count": null,
   "metadata": {},
   "outputs": [],
   "source": [
    "dataset = pd.merge(historical_data_test, vocab_test, on=\"id_vocab\")\n",
    "dataset.sort_values(\"datetime\", inplace=True)\n",
    "dataset"
   ]
  },
  {
   "cell_type": "markdown",
   "metadata": {},
   "source": [
    "# Variable type transformation"
   ]
  },
  {
   "cell_type": "code",
   "execution_count": null,
   "metadata": {},
   "outputs": [],
   "source": [
    "# List of feature columns"
   ]
  },
  {
   "cell_type": "code",
   "execution_count": null,
   "metadata": {},
   "outputs": [],
   "source": [
    "dataset.columns.tolist()"
   ]
  },
  {
   "cell_type": "code",
   "execution_count": null,
   "metadata": {},
   "outputs": [],
   "source": [
    "vardict = dict()"
   ]
  },
  {
   "cell_type": "markdown",
   "metadata": {},
   "source": [
    "## Target"
   ]
  },
  {
   "cell_type": "code",
   "execution_count": null,
   "metadata": {},
   "outputs": [],
   "source": [
    "vardict[\"target\"] = \"result\""
   ]
  },
  {
   "cell_type": "code",
   "execution_count": null,
   "metadata": {},
   "outputs": [],
   "source": [
    "dataset[[vardict[\"target\"]]]"
   ]
  },
  {
   "cell_type": "markdown",
   "metadata": {},
   "source": [
    "## Numerical"
   ]
  },
  {
   "cell_type": "code",
   "execution_count": null,
   "metadata": {},
   "outputs": [],
   "source": [
    "vardict[\"numerical\"] = [\n",
    "    \"previous_occurrences_same_language\",\n",
    "    \"previous_successes_same_language\",\n",
    "    \"previous_fails_same_language\",\n",
    "    \"previous_occurrences_any_language\",\n",
    "    \"previous_successes_any_language\",\n",
    "    \"previous_fails_any_language\",\n",
    "    \"levenshtein_distance_guess_answer\",\n",
    "    \"previous_question_time\",\n",
    "    \"write_it_again_german\",\n",
    "    \"write_it_again_english\",\n",
    "    \"levenshtein_distance_german_english\",\n",
    "]"
   ]
  },
  {
   "cell_type": "code",
   "execution_count": null,
   "metadata": {},
   "outputs": [],
   "source": [
    "for i_num_var in vardict[\"numerical\"]:\n",
    "    dataset[i_num_var] = dataset[i_num_var].astype(float)"
   ]
  },
  {
   "cell_type": "code",
   "execution_count": null,
   "metadata": {},
   "outputs": [],
   "source": [
    "dataset[[\"german_word\", \"guess\"] + vardict[\"numerical\"]]"
   ]
  },
  {
   "cell_type": "markdown",
   "metadata": {},
   "source": [
    "## Difference in time"
   ]
  },
  {
   "cell_type": "code",
   "execution_count": null,
   "metadata": {},
   "outputs": [],
   "source": [
    "vardict[\"diff_time\"] = [\n",
    "    \"days_since_last_occurrence_same_language\",\n",
    "    \"days_since_last_occurrence_any_language\",\n",
    "    \"days_since_last_success_same_language\",\n",
    "    \"days_since_last_success_any_language\",\n",
    "    \"days_since_first_occur_same_language\",\n",
    "    \"days_since_first_occur_any_language\",\n",
    "]"
   ]
  },
  {
   "cell_type": "code",
   "execution_count": null,
   "metadata": {},
   "outputs": [],
   "source": [
    "for i_diff_time_var in vardict[\"diff_time\"]:\n",
    "    dataset[i_diff_time_var] = dataset[i_diff_time_var].dt.days.astype(float)"
   ]
  },
  {
   "cell_type": "code",
   "execution_count": null,
   "metadata": {},
   "outputs": [],
   "source": [
    "dataset[[\"german_word\", \"guess\"] + vardict[\"diff_time\"]]"
   ]
  },
  {
   "cell_type": "markdown",
   "metadata": {},
   "source": [
    "## Boolean"
   ]
  },
  {
   "cell_type": "code",
   "execution_count": null,
   "metadata": {},
   "outputs": [],
   "source": [
    "vardict[\"boolean\"] = [\n",
    "    \"previous_result\",\n",
    "    \"correct_article\",\n",
    "    \"only_missed_uppercase\",\n",
    "    \"write_it_again_not_null\",\n",
    "]"
   ]
  },
  {
   "cell_type": "code",
   "execution_count": null,
   "metadata": {},
   "outputs": [],
   "source": [
    "for i_boolean_var in vardict[\"boolean\"]:\n",
    "    dataset.loc[~dataset[i_boolean_var].isna(), i_boolean_var] = dataset.loc[\n",
    "        ~dataset[i_boolean_var].isna(), i_boolean_var\n",
    "    ].astype(\"bool\")"
   ]
  },
  {
   "cell_type": "code",
   "execution_count": null,
   "metadata": {},
   "outputs": [],
   "source": [
    "dataset[[\"german_word\", \"guess\"] + vardict[\"boolean\"]]"
   ]
  },
  {
   "cell_type": "markdown",
   "metadata": {},
   "source": [
    "## Categorical"
   ]
  },
  {
   "cell_type": "code",
   "execution_count": null,
   "metadata": {},
   "outputs": [],
   "source": [
    "vardict[\"categorical\"] = [\n",
    "    \"previous_language_asked\",\n",
    "]"
   ]
  },
  {
   "cell_type": "code",
   "execution_count": null,
   "metadata": {},
   "outputs": [],
   "source": [
    "for i_categorical_var in vardict[\"categorical\"]:\n",
    "    dataset.loc[~dataset[i_categorical_var].isna(), i_categorical_var] = dataset.loc[\n",
    "        ~dataset[i_categorical_var].isna(), i_categorical_var\n",
    "    ].astype(str)\n",
    "\n",
    "    dataset.loc[dataset[i_categorical_var].isna(), i_categorical_var] = None"
   ]
  },
  {
   "cell_type": "code",
   "execution_count": null,
   "metadata": {},
   "outputs": [],
   "source": [
    "dataset[[\"german_word\", \"guess\"] + vardict[\"categorical\"]]"
   ]
  },
  {
   "cell_type": "code",
   "execution_count": null,
   "metadata": {},
   "outputs": [],
   "source": []
  }
 ],
 "metadata": {
  "hide_input": false,
  "kernelspec": {
   "display_name": "vocabulary_learning",
   "language": "python",
   "name": "vocabulary_learning"
  },
  "language_info": {
   "codemirror_mode": {
    "name": "ipython",
    "version": 3
   },
   "file_extension": ".py",
   "mimetype": "text/x-python",
   "name": "python",
   "nbconvert_exporter": "python",
   "pygments_lexer": "ipython3",
   "version": "3.7.5"
  },
  "toc": {
   "base_numbering": 1,
   "nav_menu": {},
   "number_sections": true,
   "sideBar": true,
   "skip_h1_title": false,
   "title_cell": "Table of Contents",
   "title_sidebar": "Contents",
   "toc_cell": false,
   "toc_position": {},
   "toc_section_display": true,
   "toc_window_display": false
  }
 },
 "nbformat": 4,
 "nbformat_minor": 4
}
