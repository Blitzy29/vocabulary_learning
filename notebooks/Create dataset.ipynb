{
 "cells": [
  {
   "cell_type": "code",
   "execution_count": null,
   "metadata": {},
   "outputs": [],
   "source": [
    "%load_ext nb_black\n",
    "%load_ext autoreload\n",
    "%autoreload 2\n",
    "\n",
    "import os\n",
    "\n",
    "print(os.getcwd())\n",
    "\n",
    "\n",
    "def update_working_directory():\n",
    "    from pathlib import Path\n",
    "\n",
    "    p = Path(os.getcwd()).parents[0]\n",
    "    os.chdir(p)\n",
    "    print(p)\n",
    "\n",
    "\n",
    "update_working_directory()"
   ]
  },
  {
   "cell_type": "code",
   "execution_count": null,
   "metadata": {},
   "outputs": [],
   "source": [
    "import numpy as np\n",
    "import pandas as pd\n",
    "\n",
    "pd.set_option(\"display.max_columns\", None)\n",
    "\n",
    "import datetime\n",
    "import dill\n",
    "\n",
    "from sklearn.model_selection import train_test_split"
   ]
  },
  {
   "cell_type": "markdown",
   "metadata": {},
   "source": [
    "# Overall"
   ]
  },
  {
   "cell_type": "code",
   "execution_count": null,
   "metadata": {},
   "outputs": [],
   "source": [
    "historical_data_path = \"data/raw/20201009/historical_data.csv\"\n",
    "vocab_path = \"data/raw/20201009/german_english.csv\"\n",
    "dataset_path = \"data/raw/20201009/dataset.pkl\"\n",
    "\n",
    "train_dataset_path = \"data/raw/20201009/dataset_train.pkl\"\n",
    "valid_dataset_path = \"data/raw/20201009/dataset_valid.pkl\"\n",
    "test_dataset_path = \"data/raw/20201009/dataset_test.pkl\""
   ]
  },
  {
   "cell_type": "code",
   "execution_count": null,
   "metadata": {},
   "outputs": [],
   "source": [
    "from src.data.make_dataset import create_dataset\n",
    "\n",
    "dataset = create_dataset(historical_data_path, vocab_path, dataset_path)"
   ]
  },
  {
   "cell_type": "code",
   "execution_count": null,
   "metadata": {},
   "outputs": [],
   "source": [
    "from collections import Counter\n",
    "\n",
    "Counter(dataset[\"id_session\"])"
   ]
  },
  {
   "cell_type": "code",
   "execution_count": null,
   "metadata": {},
   "outputs": [],
   "source": [
    "from src.data.make_dataset import split_train_valid_test_dataset\n",
    "\n",
    "split_train_valid_test_dataset(\n",
    "    dataset, train_dataset_path, valid_dataset_path, test_dataset_path\n",
    ")"
   ]
  },
  {
   "cell_type": "markdown",
   "metadata": {
    "heading_collapsed": true
   },
   "source": [
    "# Details"
   ]
  },
  {
   "cell_type": "code",
   "execution_count": null,
   "metadata": {
    "hidden": true
   },
   "outputs": [],
   "source": [
    "def create_dataset(historical_data_path, vocab_path, dataset_path):\n",
    "\n",
    "    historical_data = get_historical_data(historical_data_path)\n",
    "    historical_data = create_historical_features(historical_data)\n",
    "\n",
    "    vocab = get_vocab(vocab_path)\n",
    "    vocab = create_vocab_features(vocab)\n",
    "\n",
    "    dataset = merge_feature_datasets(historical_data, vocab)\n",
    "\n",
    "    vardict = get_vardict()\n",
    "    dataset = transform_type(dataset, vardict)\n",
    "\n",
    "    with open(dataset_path, \"wb\") as file:\n",
    "        dill.dump(dataset, file)\n",
    "\n",
    "    print(\"Saved\")"
   ]
  },
  {
   "cell_type": "code",
   "execution_count": null,
   "metadata": {
    "hidden": true
   },
   "outputs": [],
   "source": [
    "# Historical dataset\n",
    "from src.data.get_dataset import get_historical_data\n",
    "from src.data.make_historical_features import create_historical_features\n",
    "\n",
    "historical_data = get_historical_data(\"data/raw/historical_data__large.csv\")\n",
    "historical_data = create_historical_features(historical_data)\n",
    "historical_data"
   ]
  },
  {
   "cell_type": "code",
   "execution_count": null,
   "metadata": {
    "hidden": true
   },
   "outputs": [],
   "source": [
    "# Vocab dataset\n",
    "from src.data.get_dataset import get_vocab\n",
    "from src.data.make_vocab_features import create_vocab_features\n",
    "\n",
    "vocab = get_vocab(\"data/raw/german_english.csv\")\n",
    "vocab = create_vocab_features(vocab)\n",
    "vocab"
   ]
  },
  {
   "cell_type": "code",
   "execution_count": null,
   "metadata": {
    "hidden": true
   },
   "outputs": [],
   "source": [
    "# Dataset\n",
    "from src.data.make_dataset import merge_feature_datasets\n",
    "\n",
    "dataset = merge_feature_datasets(historical_data, vocab)\n",
    "dataset"
   ]
  },
  {
   "cell_type": "code",
   "execution_count": null,
   "metadata": {
    "hidden": true
   },
   "outputs": [],
   "source": [
    "# Vardict\n",
    "from src.data.make_dataset import get_vardict\n",
    "\n",
    "vardict = get_vardict()\n",
    "vardict"
   ]
  },
  {
   "cell_type": "code",
   "execution_count": null,
   "metadata": {
    "hidden": true
   },
   "outputs": [],
   "source": [
    "# Transform datatype\n",
    "from src.data.make_dataset import transform_type\n",
    "\n",
    "dataset = transform_type(dataset, vardict)\n",
    "dataset"
   ]
  },
  {
   "cell_type": "code",
   "execution_count": null,
   "metadata": {
    "hidden": true
   },
   "outputs": [],
   "source": [
    "[x for x in dataset.columns.tolist() if x not in vardict[\"all\"]]"
   ]
  },
  {
   "cell_type": "code",
   "execution_count": null,
   "metadata": {
    "hidden": true
   },
   "outputs": [],
   "source": [
    "dataset[dataset[\"german_word\"] == \"oft\"][\n",
    "    [\"german_word\", \"english_word\"] + [vardict[\"target\"]] + vardict[\"all\"]\n",
    "]"
   ]
  },
  {
   "cell_type": "code",
   "execution_count": null,
   "metadata": {
    "hidden": true
   },
   "outputs": [],
   "source": [
    "historical_data[historical_data[\"german_word\"] == \"oft\"]"
   ]
  },
  {
   "cell_type": "code",
   "execution_count": null,
   "metadata": {
    "hidden": true
   },
   "outputs": [],
   "source": []
  },
  {
   "cell_type": "code",
   "execution_count": null,
   "metadata": {
    "hidden": true
   },
   "outputs": [],
   "source": [
    "# use dill - works the same way as pickle\n",
    "\n",
    "with open('data/interim/{}__Q.pkl'.format('MC_every_visit'), 'wb') as file:\n",
    "    dill.dump(Q, file)"
   ]
  },
  {
   "cell_type": "code",
   "execution_count": null,
   "metadata": {
    "hidden": true
   },
   "outputs": [],
   "source": []
  },
  {
   "cell_type": "code",
   "execution_count": null,
   "metadata": {
    "hidden": true
   },
   "outputs": [],
   "source": []
  },
  {
   "cell_type": "markdown",
   "metadata": {
    "heading_collapsed": true
   },
   "source": [
    "# Historical dataset"
   ]
  },
  {
   "cell_type": "code",
   "execution_count": null,
   "metadata": {
    "hidden": true
   },
   "outputs": [],
   "source": [
    "from src.data.get_dataset import get_historical_data\n",
    "\n",
    "historical_data_test = get_historical_data(\"data/raw/historical_data__feature.csv\")\n",
    "historical_data_test"
   ]
  },
  {
   "cell_type": "markdown",
   "metadata": {
    "hidden": true
   },
   "source": [
    "## Add features"
   ]
  },
  {
   "cell_type": "code",
   "execution_count": null,
   "metadata": {
    "hidden": true
   },
   "outputs": [],
   "source": [
    "from src.data.make_historical_features import create_historical_features\n",
    "\n",
    "historical_data_test = create_historical_features(historical_data_test)\n",
    "historical_data_test"
   ]
  },
  {
   "cell_type": "markdown",
   "metadata": {
    "heading_collapsed": true
   },
   "source": [
    "# Vocab dataset"
   ]
  },
  {
   "cell_type": "code",
   "execution_count": null,
   "metadata": {
    "hidden": true
   },
   "outputs": [],
   "source": [
    "from src.data.get_dataset import get_vocab\n",
    "\n",
    "vocab = get_vocab(\"data/raw/german_english__feature.csv\")\n",
    "vocab"
   ]
  },
  {
   "cell_type": "markdown",
   "metadata": {
    "hidden": true
   },
   "source": [
    "## Add features"
   ]
  },
  {
   "cell_type": "code",
   "execution_count": null,
   "metadata": {
    "hidden": true
   },
   "outputs": [],
   "source": [
    "from src.data.make_vocab_features import create_vocab_features\n",
    "\n",
    "vocab_test = create_vocab_features(vocab)\n",
    "vocab_test"
   ]
  },
  {
   "cell_type": "markdown",
   "metadata": {
    "heading_collapsed": true
   },
   "source": [
    "# Mix datasets"
   ]
  },
  {
   "cell_type": "code",
   "execution_count": null,
   "metadata": {
    "hidden": true
   },
   "outputs": [],
   "source": [
    "dataset = pd.merge(historical_data_test, vocab_test, on=\"id_vocab\")\n",
    "dataset.sort_values(\"datetime\", inplace=True)\n",
    "dataset"
   ]
  },
  {
   "cell_type": "markdown",
   "metadata": {
    "heading_collapsed": true
   },
   "source": [
    "# Variable type transformation"
   ]
  },
  {
   "cell_type": "code",
   "execution_count": null,
   "metadata": {
    "hidden": true
   },
   "outputs": [],
   "source": [
    "# List of feature columns"
   ]
  },
  {
   "cell_type": "code",
   "execution_count": null,
   "metadata": {
    "hidden": true
   },
   "outputs": [],
   "source": [
    "dataset.columns.tolist()"
   ]
  },
  {
   "cell_type": "code",
   "execution_count": null,
   "metadata": {
    "hidden": true
   },
   "outputs": [],
   "source": [
    "vardict = dict()"
   ]
  },
  {
   "cell_type": "markdown",
   "metadata": {
    "heading_collapsed": true,
    "hidden": true
   },
   "source": [
    "## Target"
   ]
  },
  {
   "cell_type": "code",
   "execution_count": null,
   "metadata": {
    "hidden": true
   },
   "outputs": [],
   "source": [
    "vardict[\"target\"] = \"result\""
   ]
  },
  {
   "cell_type": "code",
   "execution_count": null,
   "metadata": {
    "hidden": true
   },
   "outputs": [],
   "source": [
    "dataset[[vardict[\"target\"]]]"
   ]
  },
  {
   "cell_type": "markdown",
   "metadata": {
    "heading_collapsed": true,
    "hidden": true
   },
   "source": [
    "## Numerical"
   ]
  },
  {
   "cell_type": "code",
   "execution_count": null,
   "metadata": {
    "hidden": true
   },
   "outputs": [],
   "source": [
    "vardict[\"numerical\"] = [\n",
    "    \"previous_occurrences_same_language\",\n",
    "    \"previous_successes_same_language\",\n",
    "    \"previous_fails_same_language\",\n",
    "    \"previous_occurrences_any_language\",\n",
    "    \"previous_successes_any_language\",\n",
    "    \"previous_fails_any_language\",\n",
    "    \"levenshtein_distance_guess_answer\",\n",
    "    \"previous_question_time\",\n",
    "    \"write_it_again_german\",\n",
    "    \"write_it_again_english\",\n",
    "    \"levenshtein_distance_german_english\",\n",
    "]"
   ]
  },
  {
   "cell_type": "code",
   "execution_count": null,
   "metadata": {
    "hidden": true
   },
   "outputs": [],
   "source": [
    "for i_num_var in vardict[\"numerical\"]:\n",
    "    dataset[i_num_var] = dataset[i_num_var].astype(float)"
   ]
  },
  {
   "cell_type": "code",
   "execution_count": null,
   "metadata": {
    "hidden": true
   },
   "outputs": [],
   "source": [
    "dataset[[\"german_word\", \"guess\"] + vardict[\"numerical\"]]"
   ]
  },
  {
   "cell_type": "markdown",
   "metadata": {
    "heading_collapsed": true,
    "hidden": true
   },
   "source": [
    "## Difference in time"
   ]
  },
  {
   "cell_type": "code",
   "execution_count": null,
   "metadata": {
    "hidden": true
   },
   "outputs": [],
   "source": [
    "vardict[\"diff_time\"] = [\n",
    "    \"days_since_last_occurrence_same_language\",\n",
    "    \"days_since_last_occurrence_any_language\",\n",
    "    \"days_since_last_success_same_language\",\n",
    "    \"days_since_last_success_any_language\",\n",
    "    \"days_since_first_occur_same_language\",\n",
    "    \"days_since_first_occur_any_language\",\n",
    "]"
   ]
  },
  {
   "cell_type": "code",
   "execution_count": null,
   "metadata": {
    "hidden": true
   },
   "outputs": [],
   "source": [
    "for i_diff_time_var in vardict[\"diff_time\"]:\n",
    "    dataset[i_diff_time_var] = dataset[i_diff_time_var].dt.days.astype(float)"
   ]
  },
  {
   "cell_type": "code",
   "execution_count": null,
   "metadata": {
    "hidden": true
   },
   "outputs": [],
   "source": [
    "dataset[[\"german_word\", \"guess\"] + vardict[\"diff_time\"]]"
   ]
  },
  {
   "cell_type": "markdown",
   "metadata": {
    "heading_collapsed": true,
    "hidden": true
   },
   "source": [
    "## Boolean"
   ]
  },
  {
   "cell_type": "code",
   "execution_count": null,
   "metadata": {
    "hidden": true
   },
   "outputs": [],
   "source": [
    "vardict[\"boolean\"] = [\n",
    "    \"previous_result\",\n",
    "    \"correct_article\",\n",
    "    \"only_missed_uppercase\",\n",
    "    \"write_it_again_not_null\",\n",
    "]"
   ]
  },
  {
   "cell_type": "code",
   "execution_count": null,
   "metadata": {
    "hidden": true
   },
   "outputs": [],
   "source": [
    "for i_boolean_var in vardict[\"boolean\"]:\n",
    "    dataset.loc[~dataset[i_boolean_var].isna(), i_boolean_var] = dataset.loc[\n",
    "        ~dataset[i_boolean_var].isna(), i_boolean_var\n",
    "    ].astype(\"bool\")"
   ]
  },
  {
   "cell_type": "code",
   "execution_count": null,
   "metadata": {
    "hidden": true
   },
   "outputs": [],
   "source": [
    "dataset[[\"german_word\", \"guess\"] + vardict[\"boolean\"]]"
   ]
  },
  {
   "cell_type": "markdown",
   "metadata": {
    "heading_collapsed": true,
    "hidden": true
   },
   "source": [
    "## Categorical"
   ]
  },
  {
   "cell_type": "code",
   "execution_count": null,
   "metadata": {
    "hidden": true
   },
   "outputs": [],
   "source": [
    "vardict[\"categorical\"] = [\n",
    "    \"previous_language_asked\",\n",
    "]"
   ]
  },
  {
   "cell_type": "code",
   "execution_count": null,
   "metadata": {
    "hidden": true
   },
   "outputs": [],
   "source": [
    "for i_categorical_var in vardict[\"categorical\"]:\n",
    "    dataset.loc[~dataset[i_categorical_var].isna(), i_categorical_var] = dataset.loc[\n",
    "        ~dataset[i_categorical_var].isna(), i_categorical_var\n",
    "    ].astype(str)\n",
    "\n",
    "    dataset.loc[dataset[i_categorical_var].isna(), i_categorical_var] = None"
   ]
  },
  {
   "cell_type": "code",
   "execution_count": null,
   "metadata": {
    "hidden": true
   },
   "outputs": [],
   "source": [
    "dataset[[\"german_word\", \"guess\"] + vardict[\"categorical\"]]"
   ]
  },
  {
   "cell_type": "code",
   "execution_count": null,
   "metadata": {
    "hidden": true
   },
   "outputs": [],
   "source": []
  },
  {
   "cell_type": "markdown",
   "metadata": {
    "heading_collapsed": true
   },
   "source": [
    "# Split training - validation - test"
   ]
  },
  {
   "cell_type": "markdown",
   "metadata": {
    "hidden": true
   },
   "source": [
    "We will split by sessions.\n",
    "* 70% training\n",
    "* 20% validation\n",
    "* 10% test"
   ]
  },
  {
   "cell_type": "code",
   "execution_count": null,
   "metadata": {
    "hidden": true
   },
   "outputs": [],
   "source": [
    "sessions = list(set(dataset[\"id_session\"].values))\n",
    "sessions"
   ]
  },
  {
   "cell_type": "code",
   "execution_count": null,
   "metadata": {
    "hidden": true
   },
   "outputs": [],
   "source": [
    "train_valid_sessions, test_sessions = train_test_split(\n",
    "    sessions, shuffle=False, test_size=0.10\n",
    ")\n",
    "\n",
    "train_sessions, valid_sessions = train_test_split(\n",
    "    train_valid_sessions, shuffle=False, test_size=0.18\n",
    ")\n",
    "\n",
    "train_sessions, valid_sessions, test_sessions"
   ]
  },
  {
   "cell_type": "code",
   "execution_count": null,
   "metadata": {
    "hidden": true
   },
   "outputs": [],
   "source": [
    "train_dataset = dataset[dataset[\"id_session\"].isin(train_sessions)]\n",
    "valid_dataset = dataset[dataset[\"id_session\"].isin(valid_sessions)]\n",
    "test_dataset = dataset[dataset[\"id_session\"].isin(test_sessions)]"
   ]
  },
  {
   "cell_type": "code",
   "execution_count": null,
   "metadata": {
    "hidden": true
   },
   "outputs": [],
   "source": [
    "with open(train_dataset_path, \"wb\") as file:\n",
    "    dill.dump(train_dataset, file)\n",
    "\n",
    "with open(valid_dataset_path, \"wb\") as file:\n",
    "    dill.dump(valid_dataset, file)\n",
    "\n",
    "with open(test_dataset_path, \"wb\") as file:\n",
    "    dill.dump(test_dataset, file)"
   ]
  },
  {
   "cell_type": "markdown",
   "metadata": {},
   "source": [
    "# To use for predictions"
   ]
  },
  {
   "cell_type": "code",
   "execution_count": null,
   "metadata": {},
   "outputs": [],
   "source": [
    "historical_data_path = \"data/raw/20201009/historical_data.csv\"\n",
    "vocab_path = \"data/raw/german_english__feature.csv\"\n",
    "\n",
    "dataset_predictions_path = \"data/raw/20201009/dataset_predictions.pkl\""
   ]
  },
  {
   "cell_type": "code",
   "execution_count": null,
   "metadata": {},
   "outputs": [],
   "source": [
    "import src.data.get_dataset as get_dataset\n",
    "import src.data.make_dataset as make_dataset\n",
    "\n",
    "\n",
    "test_data = make_dataset.create_dataset_new_session(\n",
    "    historical_data_path, vocab_path, dataset_predictions_path\n",
    ")"
   ]
  },
  {
   "cell_type": "code",
   "execution_count": null,
   "metadata": {},
   "outputs": [],
   "source": []
  }
 ],
 "metadata": {
  "hide_input": false,
  "kernelspec": {
   "display_name": "vocabulary_learning",
   "language": "python",
   "name": "vocabulary_learning"
  },
  "language_info": {
   "codemirror_mode": {
    "name": "ipython",
    "version": 3
   },
   "file_extension": ".py",
   "mimetype": "text/x-python",
   "name": "python",
   "nbconvert_exporter": "python",
   "pygments_lexer": "ipython3",
   "version": "3.7.5"
  },
  "toc": {
   "base_numbering": 1,
   "nav_menu": {},
   "number_sections": true,
   "sideBar": true,
   "skip_h1_title": false,
   "title_cell": "Table of Contents",
   "title_sidebar": "Contents",
   "toc_cell": false,
   "toc_position": {},
   "toc_section_display": true,
   "toc_window_display": false
  }
 },
 "nbformat": 4,
 "nbformat_minor": 4
}
