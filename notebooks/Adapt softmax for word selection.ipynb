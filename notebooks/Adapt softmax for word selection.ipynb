{
 "cells": [
  {
   "cell_type": "code",
   "execution_count": null,
   "metadata": {},
   "outputs": [],
   "source": [
    "import numpy as np\n",
    "import pandas as pd\n",
    "from scipy.special import softmax"
   ]
  },
  {
   "cell_type": "code",
   "execution_count": null,
   "metadata": {},
   "outputs": [],
   "source": [
    "data_pred = pd.read_csv('../data/official/predictions_next_session.csv')"
   ]
  },
  {
   "cell_type": "code",
   "execution_count": null,
   "metadata": {},
   "outputs": [],
   "source": [
    "data_pred"
   ]
  },
  {
   "cell_type": "markdown",
   "metadata": {},
   "source": [
    "Instead of e, a different base b > 0 can be used; choosing a larger value of b will create a probability distribution that is more concentrated around the positions of the largest input values. Writing b = e β {\\displaystyle b=e^{\\beta }} {\\displaystyle b=e^{\\beta }} or b = e − β {\\displaystyle b=e^{-\\beta }} {\\displaystyle b=e^{-\\beta }}[a] (for real β)[b] yields the expressions"
   ]
  },
  {
   "cell_type": "code",
   "execution_count": null,
   "metadata": {},
   "outputs": [],
   "source": [
    "b = 1"
   ]
  },
  {
   "cell_type": "code",
   "execution_count": null,
   "metadata": {},
   "outputs": [],
   "source": [
    "data_pred['english_proba_softmax_1'] = softmax(1*(1-data_pred['english_proba']))\n",
    "data_pred['english_proba_softmax_2'] = softmax(2*(1-data_pred['english_proba']))\n",
    "data_pred['english_proba_softmax_3'] = softmax(3*(1-data_pred['english_proba']))\n",
    "data_pred['english_proba_softmax_4'] = softmax(4*(1-data_pred['english_proba']))\n",
    "data_pred['english_proba_softmax_5'] = softmax(5*(1-data_pred['english_proba']))\n",
    "data_pred['english_proba_softmax_10'] = softmax(10*(1-data_pred['english_proba']))"
   ]
  },
  {
   "cell_type": "code",
   "execution_count": null,
   "metadata": {},
   "outputs": [],
   "source": [
    "import plotly.graph_objects as go\n",
    "\n",
    "# Create traces\n",
    "fig = go.Figure()\n",
    "\n",
    "fig.add_trace(go.Scatter(\n",
    "    x=data_pred['english_proba'],\n",
    "    y=data_pred['english_proba_softmax_1'],\n",
    "    mode='markers', # ['markers', 'lines']\n",
    "    name='b=1'\n",
    "))\n",
    "\n",
    "fig.add_trace(go.Scatter(\n",
    "    x=data_pred['english_proba'],\n",
    "    y=data_pred['english_proba_softmax_2'],\n",
    "    mode='markers', # ['markers', 'lines']\n",
    "    name='b=2'\n",
    "))\n",
    "\n",
    "fig.add_trace(go.Scatter(\n",
    "    x=data_pred['english_proba'],\n",
    "    y=data_pred['english_proba_softmax_3'],\n",
    "    mode='markers', # ['markers', 'lines']\n",
    "    name='b=3'\n",
    "))\n",
    "\n",
    "fig.add_trace(go.Scatter(\n",
    "    x=data_pred['english_proba'],\n",
    "    y=data_pred['english_proba_softmax_4'],\n",
    "    mode='markers', # ['markers', 'lines']\n",
    "    name='b=4'\n",
    "))\n",
    "\n",
    "fig.add_trace(go.Scatter(\n",
    "    x=data_pred['english_proba'],\n",
    "    y=data_pred['english_proba_softmax_5'],\n",
    "    mode='markers', # ['markers', 'lines']\n",
    "    name='b=5'\n",
    "))\n",
    "\n",
    "fig.add_trace(go.Scatter(\n",
    "    x=data_pred['english_proba'],\n",
    "    y=data_pred['english_proba_softmax_10'],\n",
    "    mode='markers', # ['markers', 'lines']\n",
    "    name='b=10'\n",
    "))\n",
    "\n",
    "fig.update_layout(\n",
    "    title='Probability of selection',\n",
    "    xaxis_title='proba of knowing word',\n",
    "    yaxis_title='proba of selecting word',\n",
    "    legend={'itemsizing': 'constant'}\n",
    ")\n",
    "\n",
    "fig.show()"
   ]
  },
  {
   "cell_type": "code",
   "execution_count": null,
   "metadata": {},
   "outputs": [],
   "source": [
    "list_selected_words_4 = []\n",
    "data_pred_copy = data_pred.copy()\n",
    "\n",
    "for i in range(0,200):\n",
    "\n",
    "    data_pred_copy['english_proba_softmax_1'] = softmax(4*(1-data_pred_copy['english_proba']))\n",
    "\n",
    "    id_vocab = np.random.choice(\n",
    "        data_pred_copy['id_vocab'].tolist(),\n",
    "        p=data_pred_copy[f\"english_proba_softmax_1\"]\n",
    "    )\n",
    "\n",
    "    list_selected_words_4.append(id_vocab)\n",
    "\n",
    "    data_pred_copy = data_pred_copy[\n",
    "        data_pred_copy['id_vocab'] != id_vocab\n",
    "    ]\n",
    "\n",
    "data_pred_4 = data_pred[data_pred['id_vocab'].isin(list_selected_words_4)]"
   ]
  },
  {
   "cell_type": "code",
   "execution_count": null,
   "metadata": {},
   "outputs": [],
   "source": [
    "import plotly.graph_objects as go\n",
    "\n",
    "fig = go.Figure()\n",
    "\n",
    "fig.add_trace(go.Box(\n",
    "    y=data_pred_1['english_proba'],\n",
    "    name='b=1',\n",
    "    boxmean='sd'\n",
    "))\n",
    "\n",
    "fig.add_trace(go.Box(\n",
    "    y=data_pred_2['english_proba'],\n",
    "    name='b=2',\n",
    "    boxmean='sd'\n",
    "))\n",
    "\n",
    "fig.add_trace(go.Box(\n",
    "    y=data_pred_3['english_proba'],\n",
    "    name='b=3',\n",
    "    boxmean='sd'\n",
    "))\n",
    "\n",
    "fig.add_trace(go.Box(\n",
    "    y=data_pred_4['english_proba'],\n",
    "    name='b=4',\n",
    "    boxmean='sd'\n",
    "))\n",
    "\n",
    "fig.add_trace(go.Box(\n",
    "    y=data_pred_5['english_proba'],\n",
    "    name='b=5',\n",
    "    boxmean='sd'\n",
    "))\n",
    "\n",
    "fig.add_trace(go.Box(\n",
    "    y=data_pred_10['english_proba'],\n",
    "    name='b=10',\n",
    "    boxmean='sd'\n",
    "))\n",
    "\n",
    "fig.update_layout(\n",
    "    title='Difference between sell_price and predictions',\n",
    "    xaxis_title='Baseline & Feature',\n",
    "    yaxis_title='underpriced <---> overpriced',\n",
    "    legend={'itemsizing': 'constant'}\n",
    ")\n",
    "\n",
    "fig.show()"
   ]
  },
  {
   "cell_type": "code",
   "execution_count": null,
   "metadata": {},
   "outputs": [],
   "source": []
  }
 ],
 "metadata": {
  "hide_input": false,
  "kernelspec": {
   "display_name": "Python 3",
   "language": "python",
   "name": "python3"
  },
  "language_info": {
   "codemirror_mode": {
    "name": "ipython",
    "version": 3
   },
   "file_extension": ".py",
   "mimetype": "text/x-python",
   "name": "python",
   "nbconvert_exporter": "python",
   "pygments_lexer": "ipython3",
   "version": "3.7.5"
  },
  "toc": {
   "base_numbering": 1,
   "nav_menu": {},
   "number_sections": true,
   "sideBar": true,
   "skip_h1_title": false,
   "title_cell": "Table of Contents",
   "title_sidebar": "Contents",
   "toc_cell": false,
   "toc_position": {},
   "toc_section_display": true,
   "toc_window_display": false
  }
 },
 "nbformat": 4,
 "nbformat_minor": 4
}
