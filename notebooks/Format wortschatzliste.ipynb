{
 "cells": [
  {
   "cell_type": "code",
   "execution_count": null,
   "metadata": {},
   "outputs": [],
   "source": [
    "%load_ext nb_black\n",
    "%load_ext autoreload\n",
    "%autoreload 2\n",
    "\n",
    "import os\n",
    "\n",
    "print(os.getcwd())\n",
    "\n",
    "\n",
    "def update_working_directory():\n",
    "    from pathlib import Path\n",
    "\n",
    "    p = Path(os.getcwd()).parents[0]\n",
    "    os.chdir(p)\n",
    "    print(p)\n",
    "\n",
    "\n",
    "update_working_directory()"
   ]
  },
  {
   "cell_type": "code",
   "execution_count": null,
   "metadata": {},
   "outputs": [],
   "source": [
    "import numpy as np\n",
    "import pandas as pd\n",
    "\n",
    "import PyPDF2\n",
    "import camelot\n",
    "import re"
   ]
  },
  {
   "cell_type": "code",
   "execution_count": null,
   "metadata": {},
   "outputs": [],
   "source": [
    "def get_after_split(x):\n",
    "    x_split = re.split(\"\\n\", x)\n",
    "    if len(x_split) == 1:\n",
    "        return x_split[0]\n",
    "    else:\n",
    "        return \"\".join(x_split[1:])"
   ]
  },
  {
   "cell_type": "code",
   "execution_count": null,
   "metadata": {},
   "outputs": [],
   "source": [
    "def separate_artikel_deutsch(artikel_deutsch):\n",
    "    artikel_deutsch_split = artikel_deutsch.split(\"\\n\")\n",
    "    if len(artikel_deutsch_split) == 1:\n",
    "        return (\"\", artikel_deutsch_split[0])\n",
    "    else:\n",
    "        return (artikel_deutsch_split[0], artikel_deutsch_split[1])"
   ]
  },
  {
   "cell_type": "code",
   "execution_count": null,
   "metadata": {},
   "outputs": [],
   "source": [
    "def separate_plural_englisch(plural_englisch):\n",
    "    plural_englisch_split = plural_englisch.split(\"\\n\")\n",
    "    if len(plural_englisch_split) == 1:\n",
    "        return (\"\", plural_englisch_split[0])\n",
    "    else:\n",
    "        return (plural_englisch_split[0], plural_englisch_split[1])"
   ]
  },
  {
   "cell_type": "markdown",
   "metadata": {},
   "source": [
    "# wortschatzliste_einfach-gut_a1-1_englisch"
   ]
  },
  {
   "cell_type": "code",
   "execution_count": null,
   "metadata": {},
   "outputs": [],
   "source": [
    "pdf_name = \"data/raw/new_vocabulary/wortschatzliste_einfach-gut_a1-1_englisch.pdf\""
   ]
  },
  {
   "cell_type": "markdown",
   "metadata": {},
   "source": [
    "## Get number of pages of pdf document"
   ]
  },
  {
   "cell_type": "code",
   "execution_count": null,
   "metadata": {},
   "outputs": [],
   "source": [
    "# importing required modules\n",
    "import PyPDF2\n",
    "\n",
    "# creating a pdf reader object\n",
    "pdfReader = PyPDF2.PdfFileReader(stream=pdf_name)\n",
    "\n",
    "# printing number of pages in pdf file\n",
    "num_pages = pdfReader.numPages"
   ]
  },
  {
   "cell_type": "code",
   "execution_count": null,
   "metadata": {},
   "outputs": [],
   "source": [
    "print(num_pages)"
   ]
  },
  {
   "cell_type": "markdown",
   "metadata": {},
   "source": [
    "## Get tables"
   ]
  },
  {
   "cell_type": "code",
   "execution_count": null,
   "metadata": {},
   "outputs": [],
   "source": [
    "import camelot"
   ]
  },
  {
   "cell_type": "code",
   "execution_count": null,
   "metadata": {},
   "outputs": [],
   "source": [
    "# Syntax of the camelot.read_pdf function\n",
    "tables = camelot.read_pdf(pdf_name, pages=\"1-{}\".format(num_pages), flavor=\"stream\")"
   ]
  },
  {
   "cell_type": "markdown",
   "metadata": {},
   "source": [
    "## Format all tables"
   ]
  },
  {
   "cell_type": "code",
   "execution_count": null,
   "metadata": {},
   "outputs": [],
   "source": [
    "i = 15\n",
    "table_page1 = tables[i].df\n",
    "table_page1"
   ]
  },
  {
   "cell_type": "code",
   "execution_count": null,
   "metadata": {},
   "outputs": [],
   "source": [
    "deutsch_englisch = pd.DataFrame()"
   ]
  },
  {
   "cell_type": "code",
   "execution_count": null,
   "metadata": {},
   "outputs": [],
   "source": [
    "for i in range(num_pages):\n",
    "    # i = 14\n",
    "    print(i)\n",
    "\n",
    "    table_page1 = tables[i].df\n",
    "\n",
    "    # remove first row\n",
    "    table_page1 = table_page1[1:]\n",
    "\n",
    "    if i == 0:\n",
    "        # 1st row is column names\n",
    "        table_page1 = table_page1[1:]\n",
    "\n",
    "    if i in [0, 1, 3]:\n",
    "        table_page1.columns = [\"artikel\", \"deutsch_plural\", \"englisch\", \"beispiel\"]\n",
    "        # remove example\n",
    "        del table_page1[\"beispiel\"]\n",
    "    if i in [9, 10]:\n",
    "        table_page1.columns = [\"artikel\", \"deutsch_plural\", \"englisch\", \"beispiel\"]\n",
    "        table_page1[\"englisch\"] = table_page1[\"englisch\"].map(get_after_split)\n",
    "        # remove example\n",
    "        del table_page1[\"beispiel\"]\n",
    "    if i in [2, 4, 7, 8, 11, 12, 13, 14]:\n",
    "        table_page1.columns = [\"artikel\", \"deutsch_plural\", \"plural\", \"englisch\"]\n",
    "        # remove plural\n",
    "        del table_page1[\"plural\"]\n",
    "    if i in [5, 6]:\n",
    "        table_page1.columns = [\n",
    "            \"artikel\",\n",
    "            \"deutsch_plural\",\n",
    "            \"plural\",\n",
    "            \"englisch\",\n",
    "            \"beispiel\",\n",
    "        ]\n",
    "        # remove example & plural\n",
    "        del table_page1[\"beispiel\"]\n",
    "        del table_page1[\"plural\"]\n",
    "\n",
    "    # remove row when no word in deutsch and english\n",
    "    table_page1 = table_page1[\n",
    "        (table_page1[\"deutsch_plural\"] != \"\") & (table_page1[\"englisch\"] != \"\")\n",
    "    ]\n",
    "\n",
    "    # merge artikel and deutsch\n",
    "    table_page1[\"deutsch_plural\"] = table_page1[[\"artikel\", \"deutsch_plural\"]].agg(\n",
    "        \" \".join, axis=1\n",
    "    )\n",
    "\n",
    "    # if article, add \"the\" to english\n",
    "    table_page1[\"englisch\"] = table_page1.apply(\n",
    "        lambda x: (\"the \" + x[\"englisch\"]) if (x[\"artikel\"] != \"\") else x[\"englisch\"],\n",
    "        axis=1,\n",
    "    )\n",
    "\n",
    "    # remove artikel column\n",
    "    del table_page1[\"artikel\"]\n",
    "\n",
    "    # if deutsch contains \"(Sie\", add \"to\" to englisch\n",
    "    table_page1[\"is_verb\"] = table_page1[\"deutsch_plural\"].map(\n",
    "        lambda x: (\"(Sie\" in x) or (\"(ich\" in x)\n",
    "    )\n",
    "\n",
    "    table_page1[\"englisch\"] = table_page1.apply(\n",
    "        lambda x: (\"to \" + x[\"englisch\"])\n",
    "        if (x[\"englisch\"][:3] != \"to \") & (x[\"is_verb\"])\n",
    "        else x[\"englisch\"],\n",
    "        axis=1,\n",
    "    )\n",
    "\n",
    "    # in deutsch or englisch, remove everything after the first \"/\" or \"(\" or \"\\n\"\n",
    "    table_page1[\"deutsch\"] = table_page1[\"deutsch_plural\"].map(\n",
    "        lambda x: re.split(\"\\(|/|\\n|,|-\", x)[0]\n",
    "    )\n",
    "    # in deutsch, remove everything after the first \"/\" or \"(\" or \"\\n\"\n",
    "    table_page1[\"englisch\"] = table_page1[\"englisch\"].map(\n",
    "        lambda x: re.split(\"\\(|/|\\n|,|-\", x)[0]\n",
    "    )\n",
    "\n",
    "    # strip extra-space in word\n",
    "    table_page1[\"deutsch\"] = table_page1[\"deutsch\"].map(lambda x: re.sub(\"\\s+\", \" \", x))\n",
    "    table_page1[\"englisch\"] = table_page1[\"englisch\"].map(\n",
    "        lambda x: re.sub(\"\\s+\", \" \", x)\n",
    "    )\n",
    "\n",
    "    # strip space on left and right\n",
    "    table_page1[\"deutsch\"] = table_page1[\"deutsch\"].map(lambda x: x.strip())\n",
    "    table_page1[\"englisch\"] = table_page1[\"englisch\"].map(lambda x: x.strip())\n",
    "\n",
    "    del table_page1[\"deutsch_plural\"]\n",
    "    del table_page1[\"is_verb\"]\n",
    "\n",
    "    # remove row when no word in deutsch or english\n",
    "    table_page1 = table_page1[\n",
    "        (table_page1[\"deutsch\"] != \"\")\n",
    "        & (table_page1[\"englisch\"] != \"\")\n",
    "        & (~table_page1[\"deutsch\"].isna())\n",
    "        & (~table_page1[\"englisch\"].isna())\n",
    "    ]\n",
    "\n",
    "    deutsch_englisch = deutsch_englisch.append(table_page1[[\"deutsch\", \"englisch\"]])"
   ]
  },
  {
   "cell_type": "code",
   "execution_count": null,
   "metadata": {},
   "outputs": [],
   "source": [
    "deutsch_englisch"
   ]
  },
  {
   "cell_type": "code",
   "execution_count": null,
   "metadata": {},
   "outputs": [],
   "source": [
    "deutsch_englisch.to_csv(\n",
    "    \"data/raw/new_vocabulary/wortschatzliste_einfach-gut_a1-1_englisch.csv\", index=False\n",
    ")"
   ]
  },
  {
   "cell_type": "markdown",
   "metadata": {},
   "source": [
    "# wortschatzliste_einfach-gut_a1-2_englisch"
   ]
  },
  {
   "cell_type": "code",
   "execution_count": null,
   "metadata": {},
   "outputs": [],
   "source": [
    "pdf_name = \"data/raw/new_vocabulary/wortschatzliste_einfach-gut_a1-2_englisch.pdf\""
   ]
  },
  {
   "cell_type": "markdown",
   "metadata": {},
   "source": [
    "## Get number of pages of pdf document"
   ]
  },
  {
   "cell_type": "code",
   "execution_count": null,
   "metadata": {},
   "outputs": [],
   "source": [
    "# importing required modules\n",
    "import PyPDF2\n",
    "\n",
    "# creating a pdf reader object\n",
    "pdfReader = PyPDF2.PdfFileReader(stream=pdf_name)\n",
    "\n",
    "# printing number of pages in pdf file\n",
    "num_pages = pdfReader.numPages"
   ]
  },
  {
   "cell_type": "code",
   "execution_count": null,
   "metadata": {},
   "outputs": [],
   "source": [
    "print(num_pages)"
   ]
  },
  {
   "cell_type": "markdown",
   "metadata": {},
   "source": [
    "## Get tables"
   ]
  },
  {
   "cell_type": "code",
   "execution_count": null,
   "metadata": {},
   "outputs": [],
   "source": [
    "import camelot"
   ]
  },
  {
   "cell_type": "code",
   "execution_count": null,
   "metadata": {},
   "outputs": [],
   "source": [
    "# Syntax of the camelot.read_pdf function\n",
    "tables = camelot.read_pdf(pdf_name, pages=\"1-{}\".format(num_pages), flavor=\"stream\")"
   ]
  },
  {
   "cell_type": "markdown",
   "metadata": {},
   "source": [
    "## Format all tables"
   ]
  },
  {
   "cell_type": "code",
   "execution_count": null,
   "metadata": {},
   "outputs": [],
   "source": [
    "i = 13\n",
    "table_page1 = tables[i].df\n",
    "table_page1"
   ]
  },
  {
   "cell_type": "code",
   "execution_count": null,
   "metadata": {},
   "outputs": [],
   "source": [
    "deutsch_englisch = pd.DataFrame()"
   ]
  },
  {
   "cell_type": "code",
   "execution_count": null,
   "metadata": {},
   "outputs": [],
   "source": [
    "for i in range(num_pages):\n",
    "    # i = 14\n",
    "    print(i)\n",
    "\n",
    "    table_page1 = tables[i].df\n",
    "\n",
    "    # remove first row\n",
    "    table_page1 = table_page1[1:]\n",
    "\n",
    "    if i == 0:\n",
    "        # 1st row is column names\n",
    "        table_page1 = table_page1[1:]\n",
    "\n",
    "    if i in []:\n",
    "        table_page1.columns = [\"artikel\", \"deutsch_plural\", \"englisch\", \"beispiel\"]\n",
    "        # remove example\n",
    "        del table_page1[\"beispiel\"]\n",
    "    if i in [10]:\n",
    "        table_page1.columns = [\"artikel\", \"deutsch_plural\", \"englisch\", \"beispiel\"]\n",
    "        table_page1[\"englisch\"] = table_page1[\"englisch\"].map(get_after_split)\n",
    "        # remove example\n",
    "        del table_page1[\"beispiel\"]\n",
    "    if i in [1, 2, 3, 4, 6, 7, 13]:\n",
    "        table_page1.columns = [\"artikel\", \"deutsch_plural\", \"plural\", \"englisch\"]\n",
    "        # remove plural\n",
    "        del table_page1[\"plural\"]\n",
    "    if i in [0, 5, 8, 9, 11, 12]:\n",
    "        table_page1.columns = [\n",
    "            \"artikel\",\n",
    "            \"deutsch_plural\",\n",
    "            \"plural\",\n",
    "            \"englisch\",\n",
    "            \"beispiel\",\n",
    "        ]\n",
    "        # remove example & plural\n",
    "        del table_page1[\"beispiel\"]\n",
    "        del table_page1[\"plural\"]\n",
    "\n",
    "    # remove row when no word in deutsch and english\n",
    "    table_page1 = table_page1[\n",
    "        (table_page1[\"deutsch_plural\"] != \"\") & (table_page1[\"englisch\"] != \"\")\n",
    "    ]\n",
    "\n",
    "    # merge artikel and deutsch\n",
    "    table_page1[\"deutsch_plural\"] = table_page1[[\"artikel\", \"deutsch_plural\"]].agg(\n",
    "        \" \".join, axis=1\n",
    "    )\n",
    "\n",
    "    # if article, add \"the\" to english\n",
    "    table_page1[\"englisch\"] = table_page1.apply(\n",
    "        lambda x: (\"the \" + x[\"englisch\"]) if (x[\"artikel\"] != \"\") else x[\"englisch\"],\n",
    "        axis=1,\n",
    "    )\n",
    "\n",
    "    # remove artikel column\n",
    "    del table_page1[\"artikel\"]\n",
    "\n",
    "    # if deutsch contains \"(Sie\", add \"to\" to englisch\n",
    "    table_page1[\"is_verb\"] = table_page1[\"deutsch_plural\"].map(\n",
    "        lambda x: (\"(Sie\" in x) or (\"(ich\" in x)\n",
    "    )\n",
    "\n",
    "    table_page1[\"englisch\"] = table_page1.apply(\n",
    "        lambda x: (\"to \" + x[\"englisch\"])\n",
    "        if (x[\"englisch\"][:3] != \"to \") & (x[\"is_verb\"])\n",
    "        else x[\"englisch\"],\n",
    "        axis=1,\n",
    "    )\n",
    "\n",
    "    # in deutsch or englisch, remove everything after the first \"/\" or \"(\" or \"\\n\"\n",
    "    table_page1[\"deutsch\"] = table_page1[\"deutsch_plural\"].map(\n",
    "        lambda x: re.split(\"\\(|/|\\n|,|-\", x)[0]\n",
    "    )\n",
    "    # in deutsch, remove everything after the first \"/\" or \"(\" or \"\\n\"\n",
    "    table_page1[\"englisch\"] = table_page1[\"englisch\"].map(\n",
    "        lambda x: re.split(\"\\(|/|\\n|,|-\", x)[0]\n",
    "    )\n",
    "\n",
    "    # strip extra-space in word\n",
    "    table_page1[\"deutsch\"] = table_page1[\"deutsch\"].map(lambda x: re.sub(\"\\s+\", \" \", x))\n",
    "    table_page1[\"englisch\"] = table_page1[\"englisch\"].map(\n",
    "        lambda x: re.sub(\"\\s+\", \" \", x)\n",
    "    )\n",
    "\n",
    "    # strip space on left and right\n",
    "    table_page1[\"deutsch\"] = table_page1[\"deutsch\"].map(lambda x: x.strip())\n",
    "    table_page1[\"englisch\"] = table_page1[\"englisch\"].map(lambda x: x.strip())\n",
    "\n",
    "    del table_page1[\"deutsch_plural\"]\n",
    "    del table_page1[\"is_verb\"]\n",
    "\n",
    "    # remove row when no word in deutsch or english\n",
    "    table_page1 = table_page1[\n",
    "        (table_page1[\"deutsch\"] != \"\")\n",
    "        & (table_page1[\"englisch\"] != \"\")\n",
    "        & (~table_page1[\"deutsch\"].isna())\n",
    "        & (~table_page1[\"englisch\"].isna())\n",
    "    ]\n",
    "\n",
    "    deutsch_englisch = deutsch_englisch.append(table_page1[[\"deutsch\", \"englisch\"]])"
   ]
  },
  {
   "cell_type": "code",
   "execution_count": null,
   "metadata": {},
   "outputs": [],
   "source": [
    "deutsch_englisch"
   ]
  },
  {
   "cell_type": "code",
   "execution_count": null,
   "metadata": {},
   "outputs": [],
   "source": [
    "deutsch_englisch.to_csv(\n",
    "    \"data/raw/new_vocabulary/wortschatzliste_einfach-gut_a1-2_englisch.csv\", index=False\n",
    ")"
   ]
  },
  {
   "cell_type": "markdown",
   "metadata": {},
   "source": [
    "# wortschatzliste_einfach-gut_a2-1_englisch"
   ]
  },
  {
   "cell_type": "code",
   "execution_count": null,
   "metadata": {},
   "outputs": [],
   "source": [
    "pdf_name = \"data/raw/new_vocabulary/wortschatzliste_einfach-gut_a2-1_englisch.pdf\""
   ]
  },
  {
   "cell_type": "markdown",
   "metadata": {},
   "source": [
    "## Get number of pages of pdf document"
   ]
  },
  {
   "cell_type": "code",
   "execution_count": null,
   "metadata": {},
   "outputs": [],
   "source": [
    "# importing required modules\n",
    "import PyPDF2\n",
    "\n",
    "# creating a pdf reader object\n",
    "pdfReader = PyPDF2.PdfFileReader(stream=pdf_name)\n",
    "\n",
    "# printing number of pages in pdf file\n",
    "num_pages = pdfReader.numPages"
   ]
  },
  {
   "cell_type": "code",
   "execution_count": null,
   "metadata": {},
   "outputs": [],
   "source": [
    "print(num_pages)"
   ]
  },
  {
   "cell_type": "markdown",
   "metadata": {},
   "source": [
    "## Get tables"
   ]
  },
  {
   "cell_type": "code",
   "execution_count": null,
   "metadata": {},
   "outputs": [],
   "source": [
    "import camelot"
   ]
  },
  {
   "cell_type": "code",
   "execution_count": null,
   "metadata": {},
   "outputs": [],
   "source": [
    "# Syntax of the camelot.read_pdf function\n",
    "tables = camelot.read_pdf(pdf_name, pages=\"1-{}\".format(num_pages), flavor=\"stream\")"
   ]
  },
  {
   "cell_type": "markdown",
   "metadata": {},
   "source": [
    "## Format all tables"
   ]
  },
  {
   "cell_type": "code",
   "execution_count": null,
   "metadata": {},
   "outputs": [],
   "source": [
    "i = 12\n",
    "table_page1 = tables[i].df\n",
    "table_page1"
   ]
  },
  {
   "cell_type": "code",
   "execution_count": null,
   "metadata": {},
   "outputs": [],
   "source": [
    "deutsch_englisch = pd.DataFrame()"
   ]
  },
  {
   "cell_type": "code",
   "execution_count": null,
   "metadata": {},
   "outputs": [],
   "source": [
    "for i in range(num_pages):\n",
    "    # i = 14\n",
    "    print(i)\n",
    "\n",
    "    table_page1 = tables[i].df\n",
    "\n",
    "    # remove first row\n",
    "    table_page1 = table_page1[1:]\n",
    "\n",
    "    if i == 0:\n",
    "        # 1st row is column names\n",
    "        table_page1 = table_page1[1:]\n",
    "\n",
    "    if i in []:\n",
    "        table_page1.columns = [\"artikel\", \"deutsch_plural\", \"englisch\", \"beispiel\"]\n",
    "        # remove example\n",
    "        del table_page1[\"beispiel\"]\n",
    "    if i in [0]:\n",
    "        table_page1.columns = [\"artikel\", \"deutsch_plural\", \"englisch\", \"beispiel\"]\n",
    "        table_page1[\"englisch\"] = table_page1[\"englisch\"].map(get_after_split)\n",
    "        # remove example\n",
    "        del table_page1[\"beispiel\"]\n",
    "    if i in [1, 6, 7, 8, 9, 10]:\n",
    "        table_page1.columns = [\"artikel\", \"deutsch_plural\", \"plural\", \"englisch\"]\n",
    "        # remove plural\n",
    "        del table_page1[\"plural\"]\n",
    "    if i in [3, 4]:\n",
    "        table_page1.columns = [\n",
    "            \"artikel\",\n",
    "            \"deutsch_plural\",\n",
    "            \"plural\",\n",
    "            \"englisch\",\n",
    "            \"beispiel\",\n",
    "        ]\n",
    "        # remove example & plural\n",
    "        del table_page1[\"beispiel\"]\n",
    "        del table_page1[\"plural\"]\n",
    "    if i in [2, 11]:\n",
    "        table_page1.columns = [\"artikel_deutsch\", \"plural\", \"englisch\"]\n",
    "        table_page1[\"artikel\"], table_page1[\"deutsch_plural\"] = zip(\n",
    "            *table_page1[\"artikel_deutsch\"].map(separate_artikel_deutsch)\n",
    "        )\n",
    "        del table_page1[\"artikel_deutsch\"]\n",
    "        del table_page1[\"plural\"]\n",
    "    if i in [5]:\n",
    "        table_page1.columns = [\"artikel_deutsch\", \"plural\", \"englisch\", \"beispiel\"]\n",
    "        table_page1[\"artikel\"], table_page1[\"deutsch_plural\"] = zip(\n",
    "            *table_page1[\"artikel_deutsch\"].map(separate_artikel_deutsch)\n",
    "        )\n",
    "        del table_page1[\"artikel_deutsch\"]\n",
    "        del table_page1[\"plural\"]\n",
    "        del table_page1[\"beispiel\"]\n",
    "\n",
    "    # remove row when no word in deutsch and english\n",
    "    table_page1 = table_page1[\n",
    "        (table_page1[\"deutsch_plural\"] != \"\") & (table_page1[\"englisch\"] != \"\")\n",
    "    ]\n",
    "\n",
    "    # merge artikel and deutsch\n",
    "    table_page1[\"deutsch_plural\"] = table_page1[[\"artikel\", \"deutsch_plural\"]].agg(\n",
    "        \" \".join, axis=1\n",
    "    )\n",
    "\n",
    "    # if article, add \"the\" to english\n",
    "    table_page1[\"englisch\"] = table_page1.apply(\n",
    "        lambda x: (\"the \" + x[\"englisch\"]) if (x[\"artikel\"] != \"\") else x[\"englisch\"],\n",
    "        axis=1,\n",
    "    )\n",
    "\n",
    "    # remove artikel column\n",
    "    del table_page1[\"artikel\"]\n",
    "\n",
    "    # if deutsch contains \"(Sie\", add \"to\" to englisch\n",
    "    table_page1[\"is_verb\"] = table_page1[\"deutsch_plural\"].map(\n",
    "        lambda x: (\"(Sie\" in x) or (\"(ich\" in x)\n",
    "    )\n",
    "\n",
    "    table_page1[\"englisch\"] = table_page1.apply(\n",
    "        lambda x: (\"to \" + x[\"englisch\"])\n",
    "        if (x[\"englisch\"][:3] != \"to \") & (x[\"is_verb\"])\n",
    "        else x[\"englisch\"],\n",
    "        axis=1,\n",
    "    )\n",
    "\n",
    "    # in deutsch or englisch, remove everything after the first \"/\" or \"(\" or \"\\n\"\n",
    "    table_page1[\"deutsch\"] = table_page1[\"deutsch_plural\"].map(\n",
    "        lambda x: re.split(\"\\(|/|\\n|,|-\", x)[0]\n",
    "    )\n",
    "    # in deutsch, remove everything after the first \"/\" or \"(\" or \"\\n\"\n",
    "    table_page1[\"englisch\"] = table_page1[\"englisch\"].map(\n",
    "        lambda x: re.split(\"\\(|/|\\n|,|-\", x)[0]\n",
    "    )\n",
    "\n",
    "    # strip extra-space in word\n",
    "    table_page1[\"deutsch\"] = table_page1[\"deutsch\"].map(lambda x: re.sub(\"\\s+\", \" \", x))\n",
    "    table_page1[\"englisch\"] = table_page1[\"englisch\"].map(\n",
    "        lambda x: re.sub(\"\\s+\", \" \", x)\n",
    "    )\n",
    "\n",
    "    # strip space on left and right\n",
    "    table_page1[\"deutsch\"] = table_page1[\"deutsch\"].map(lambda x: x.strip())\n",
    "    table_page1[\"englisch\"] = table_page1[\"englisch\"].map(lambda x: x.strip())\n",
    "\n",
    "    del table_page1[\"deutsch_plural\"]\n",
    "    del table_page1[\"is_verb\"]\n",
    "\n",
    "    # remove row when no word in deutsch or english\n",
    "    table_page1 = table_page1[\n",
    "        (table_page1[\"deutsch\"] != \"\")\n",
    "        & (table_page1[\"englisch\"] != \"\")\n",
    "        & (~table_page1[\"deutsch\"].isna())\n",
    "        & (~table_page1[\"englisch\"].isna())\n",
    "    ]\n",
    "\n",
    "    deutsch_englisch = deutsch_englisch.append(table_page1[[\"deutsch\", \"englisch\"]])"
   ]
  },
  {
   "cell_type": "code",
   "execution_count": null,
   "metadata": {},
   "outputs": [],
   "source": [
    "deutsch_englisch"
   ]
  },
  {
   "cell_type": "code",
   "execution_count": null,
   "metadata": {},
   "outputs": [],
   "source": [
    "deutsch_englisch.to_csv(\n",
    "    \"data/raw/new_vocabulary/wortschatzliste_einfach-gut_a2-1_englisch.csv\", index=False\n",
    ")"
   ]
  },
  {
   "cell_type": "markdown",
   "metadata": {},
   "source": [
    "# wortschatzliste_einfach-gut_a2-2_englisch"
   ]
  },
  {
   "cell_type": "code",
   "execution_count": null,
   "metadata": {},
   "outputs": [],
   "source": [
    "pdf_name = \"data/raw/new_vocabulary/wortschatzliste_einfach-gut_a2-2_englisch.pdf\""
   ]
  },
  {
   "cell_type": "markdown",
   "metadata": {},
   "source": [
    "## Get number of pages of pdf document"
   ]
  },
  {
   "cell_type": "code",
   "execution_count": null,
   "metadata": {},
   "outputs": [],
   "source": [
    "# importing required modules\n",
    "import PyPDF2\n",
    "\n",
    "# creating a pdf reader object\n",
    "pdfReader = PyPDF2.PdfFileReader(stream=pdf_name)\n",
    "\n",
    "# printing number of pages in pdf file\n",
    "num_pages = pdfReader.numPages"
   ]
  },
  {
   "cell_type": "code",
   "execution_count": null,
   "metadata": {},
   "outputs": [],
   "source": [
    "print(num_pages)"
   ]
  },
  {
   "cell_type": "markdown",
   "metadata": {},
   "source": [
    "## Get tables"
   ]
  },
  {
   "cell_type": "code",
   "execution_count": null,
   "metadata": {},
   "outputs": [],
   "source": [
    "import camelot"
   ]
  },
  {
   "cell_type": "code",
   "execution_count": null,
   "metadata": {},
   "outputs": [],
   "source": [
    "# Syntax of the camelot.read_pdf function\n",
    "tables = camelot.read_pdf(pdf_name, pages=\"1-{}\".format(num_pages), flavor=\"stream\")"
   ]
  },
  {
   "cell_type": "markdown",
   "metadata": {},
   "source": [
    "## Format all tables"
   ]
  },
  {
   "cell_type": "code",
   "execution_count": null,
   "metadata": {},
   "outputs": [],
   "source": [
    "i = 14\n",
    "table_page1 = tables[i].df\n",
    "table_page1"
   ]
  },
  {
   "cell_type": "code",
   "execution_count": null,
   "metadata": {},
   "outputs": [],
   "source": [
    "deutsch_englisch = pd.DataFrame()"
   ]
  },
  {
   "cell_type": "code",
   "execution_count": null,
   "metadata": {},
   "outputs": [],
   "source": [
    "for i in range(num_pages):\n",
    "    # i = 14\n",
    "    print(i)\n",
    "\n",
    "    table_page1 = tables[i].df\n",
    "\n",
    "    # remove first row\n",
    "    table_page1 = table_page1[1:]\n",
    "\n",
    "    if i == 0:\n",
    "        # 1st row is column names\n",
    "        table_page1 = table_page1[1:]\n",
    "\n",
    "    if i in []:\n",
    "        table_page1.columns = [\"artikel\", \"deutsch_plural\", \"englisch\", \"beispiel\"]\n",
    "        # remove example\n",
    "        del table_page1[\"beispiel\"]\n",
    "    if i in []:\n",
    "        table_page1.columns = [\"artikel\", \"deutsch_plural\", \"englisch\", \"beispiel\"]\n",
    "        table_page1[\"englisch\"] = table_page1[\"englisch\"].map(get_after_split)\n",
    "        # remove example\n",
    "        del table_page1[\"beispiel\"]\n",
    "    if i in [1, 2, 4, 5, 6, 7, 8, 9, 10, 11, 12, 13]:\n",
    "        table_page1.columns = [\"artikel\", \"deutsch_plural\", \"plural\", \"englisch\"]\n",
    "        # remove plural\n",
    "        del table_page1[\"plural\"]\n",
    "    if i in [0]:\n",
    "        table_page1.columns = [\n",
    "            \"artikel\",\n",
    "            \"deutsch_plural\",\n",
    "            \"plural\",\n",
    "            \"englisch\",\n",
    "            \"beispiel\",\n",
    "        ]\n",
    "        # remove example & plural\n",
    "        del table_page1[\"beispiel\"]\n",
    "        del table_page1[\"plural\"]\n",
    "    if i in [3]:\n",
    "        table_page1.columns = [\"artikel_deutsch\", \"plural\", \"englisch\"]\n",
    "        table_page1[\"artikel\"], table_page1[\"deutsch_plural\"] = zip(\n",
    "            *table_page1[\"artikel_deutsch\"].map(separate_artikel_deutsch)\n",
    "        )\n",
    "        del table_page1[\"artikel_deutsch\"]\n",
    "        del table_page1[\"plural\"]\n",
    "    if i in []:\n",
    "        table_page1.columns = [\"artikel_deutsch\", \"plural\", \"englisch\", \"beispiel\"]\n",
    "        table_page1[\"artikel\"], table_page1[\"deutsch_plural\"] = zip(\n",
    "            *table_page1[\"artikel_deutsch\"].map(separate_artikel_deutsch)\n",
    "        )\n",
    "        del table_page1[\"artikel_deutsch\"]\n",
    "        del table_page1[\"plural\"]\n",
    "        del table_page1[\"beispiel\"]\n",
    "\n",
    "    # remove row when no word in deutsch and english\n",
    "    table_page1 = table_page1[\n",
    "        (table_page1[\"deutsch_plural\"] != \"\") & (table_page1[\"englisch\"] != \"\")\n",
    "    ]\n",
    "\n",
    "    # merge artikel and deutsch\n",
    "    table_page1[\"deutsch_plural\"] = table_page1[[\"artikel\", \"deutsch_plural\"]].agg(\n",
    "        \" \".join, axis=1\n",
    "    )\n",
    "\n",
    "    # if article, add \"the\" to english\n",
    "    table_page1[\"englisch\"] = table_page1.apply(\n",
    "        lambda x: (\"the \" + x[\"englisch\"]) if (x[\"artikel\"] != \"\") else x[\"englisch\"],\n",
    "        axis=1,\n",
    "    )\n",
    "\n",
    "    # remove artikel column\n",
    "    del table_page1[\"artikel\"]\n",
    "\n",
    "    # if deutsch contains \"(Sie\", add \"to\" to englisch\n",
    "    table_page1[\"is_verb\"] = table_page1[\"deutsch_plural\"].map(\n",
    "        lambda x: (\"(Sie\" in x) or (\"(ich\" in x)\n",
    "    )\n",
    "\n",
    "    table_page1[\"englisch\"] = table_page1.apply(\n",
    "        lambda x: (\"to \" + x[\"englisch\"])\n",
    "        if (x[\"englisch\"][:3] != \"to \") & (x[\"is_verb\"])\n",
    "        else x[\"englisch\"],\n",
    "        axis=1,\n",
    "    )\n",
    "\n",
    "    # in deutsch or englisch, remove everything after the first \"/\" or \"(\" or \"\\n\"\n",
    "    table_page1[\"deutsch\"] = table_page1[\"deutsch_plural\"].map(\n",
    "        lambda x: re.split(\"\\(|/|\\n|,|-\", x)[0]\n",
    "    )\n",
    "    # in deutsch, remove everything after the first \"/\" or \"(\" or \"\\n\"\n",
    "    table_page1[\"englisch\"] = table_page1[\"englisch\"].map(\n",
    "        lambda x: re.split(\"\\(|/|\\n|,|-\", x)[0]\n",
    "    )\n",
    "\n",
    "    # strip extra-space in word\n",
    "    table_page1[\"deutsch\"] = table_page1[\"deutsch\"].map(lambda x: re.sub(\"\\s+\", \" \", x))\n",
    "    table_page1[\"englisch\"] = table_page1[\"englisch\"].map(\n",
    "        lambda x: re.sub(\"\\s+\", \" \", x)\n",
    "    )\n",
    "\n",
    "    # strip space on left and right\n",
    "    table_page1[\"deutsch\"] = table_page1[\"deutsch\"].map(lambda x: x.strip())\n",
    "    table_page1[\"englisch\"] = table_page1[\"englisch\"].map(lambda x: x.strip())\n",
    "\n",
    "    del table_page1[\"deutsch_plural\"]\n",
    "    del table_page1[\"is_verb\"]\n",
    "\n",
    "    # remove row when no word in deutsch or english\n",
    "    table_page1 = table_page1[\n",
    "        (table_page1[\"deutsch\"] != \"\")\n",
    "        & (table_page1[\"englisch\"] != \"\")\n",
    "        & (~table_page1[\"deutsch\"].isna())\n",
    "        & (~table_page1[\"englisch\"].isna())\n",
    "    ]\n",
    "\n",
    "    deutsch_englisch = deutsch_englisch.append(table_page1[[\"deutsch\", \"englisch\"]])"
   ]
  },
  {
   "cell_type": "code",
   "execution_count": null,
   "metadata": {},
   "outputs": [],
   "source": [
    "deutsch_englisch"
   ]
  },
  {
   "cell_type": "code",
   "execution_count": null,
   "metadata": {},
   "outputs": [],
   "source": [
    "deutsch_englisch.to_csv(\n",
    "    \"data/raw/new_vocabulary/wortschatzliste_einfach-gut_a2-2_englisch.csv\", index=False\n",
    ")"
   ]
  },
  {
   "cell_type": "markdown",
   "metadata": {},
   "source": [
    "# wortschatzliste_einfach-gut_b1-1_englisch"
   ]
  },
  {
   "cell_type": "code",
   "execution_count": null,
   "metadata": {},
   "outputs": [],
   "source": [
    "pdf_name = \"data/raw/new_vocabulary/wortschatzliste_einfach-gut_b1-1_englisch.pdf\""
   ]
  },
  {
   "cell_type": "markdown",
   "metadata": {},
   "source": [
    "## Get number of pages of pdf document"
   ]
  },
  {
   "cell_type": "code",
   "execution_count": null,
   "metadata": {},
   "outputs": [],
   "source": [
    "# importing required modules\n",
    "import PyPDF2\n",
    "\n",
    "# creating a pdf reader object\n",
    "pdfReader = PyPDF2.PdfFileReader(stream=pdf_name)\n",
    "\n",
    "# printing number of pages in pdf file\n",
    "num_pages = pdfReader.numPages"
   ]
  },
  {
   "cell_type": "code",
   "execution_count": null,
   "metadata": {},
   "outputs": [],
   "source": [
    "print(num_pages)"
   ]
  },
  {
   "cell_type": "markdown",
   "metadata": {},
   "source": [
    "## Get tables"
   ]
  },
  {
   "cell_type": "code",
   "execution_count": null,
   "metadata": {},
   "outputs": [],
   "source": [
    "import camelot"
   ]
  },
  {
   "cell_type": "code",
   "execution_count": null,
   "metadata": {},
   "outputs": [],
   "source": [
    "# Syntax of the camelot.read_pdf function\n",
    "tables = camelot.read_pdf(pdf_name, pages=\"1-{}\".format(num_pages), flavor=\"stream\")"
   ]
  },
  {
   "cell_type": "markdown",
   "metadata": {},
   "source": [
    "## Format all tables"
   ]
  },
  {
   "cell_type": "code",
   "execution_count": null,
   "metadata": {},
   "outputs": [],
   "source": [
    "i = 15\n",
    "table_page1 = tables[i].df\n",
    "table_page1"
   ]
  },
  {
   "cell_type": "code",
   "execution_count": null,
   "metadata": {},
   "outputs": [],
   "source": [
    "deutsch_englisch = pd.DataFrame()"
   ]
  },
  {
   "cell_type": "code",
   "execution_count": null,
   "metadata": {},
   "outputs": [],
   "source": [
    "for i in range(num_pages):\n",
    "    # i = 14\n",
    "    print(i)\n",
    "\n",
    "    table_page1 = tables[i].df\n",
    "\n",
    "    # remove first row\n",
    "    table_page1 = table_page1[1:]\n",
    "\n",
    "    if i == 0:\n",
    "        # 1st row is column names\n",
    "        table_page1 = table_page1[1:]\n",
    "\n",
    "    if i in []:\n",
    "        table_page1.columns = [\"artikel\", \"deutsch_plural\", \"englisch\", \"beispiel\"]\n",
    "        # remove example\n",
    "        del table_page1[\"beispiel\"]\n",
    "    if i in []:\n",
    "        table_page1.columns = [\"artikel\", \"deutsch_plural\", \"englisch\", \"beispiel\"]\n",
    "        table_page1[\"englisch\"] = table_page1[\"englisch\"].map(get_after_split)\n",
    "        # remove example\n",
    "        del table_page1[\"beispiel\"]\n",
    "    if i in [1, 2, 3, 4, 5, 6, 7, 8, 9, 11, 12, 13, 14]:\n",
    "        table_page1.columns = [\"artikel\", \"deutsch_plural\", \"plural\", \"englisch\"]\n",
    "        # remove plural\n",
    "        del table_page1[\"plural\"]\n",
    "    if i in [0]:\n",
    "        table_page1.columns = [\n",
    "            \"artikel\",\n",
    "            \"deutsch_plural\",\n",
    "            \"plural\",\n",
    "            \"englisch\",\n",
    "            \"beispiel\",\n",
    "        ]\n",
    "        # remove example & plural\n",
    "        del table_page1[\"beispiel\"]\n",
    "        del table_page1[\"plural\"]\n",
    "    if i in []:\n",
    "        table_page1.columns = [\"artikel_deutsch\", \"plural\", \"englisch\"]\n",
    "        table_page1[\"artikel\"], table_page1[\"deutsch_plural\"] = zip(\n",
    "            *table_page1[\"artikel_deutsch\"].map(separate_artikel_deutsch)\n",
    "        )\n",
    "        del table_page1[\"artikel_deutsch\"]\n",
    "        del table_page1[\"plural\"]\n",
    "    if i in []:\n",
    "        table_page1.columns = [\"artikel_deutsch\", \"plural\", \"englisch\", \"beispiel\"]\n",
    "        table_page1[\"artikel\"], table_page1[\"deutsch_plural\"] = zip(\n",
    "            *table_page1[\"artikel_deutsch\"].map(separate_artikel_deutsch)\n",
    "        )\n",
    "        del table_page1[\"artikel_deutsch\"]\n",
    "        del table_page1[\"plural\"]\n",
    "        del table_page1[\"beispiel\"]\n",
    "    if i in [10]:\n",
    "        table_page1.columns = [\"artikel\", \"deutsch_plural\", \"plural_englisch\"]\n",
    "        table_page1[\"plural\"], table_page1[\"englisch\"] = zip(\n",
    "            *table_page1[\"plural_englisch\"].map(separate_plural_englisch)\n",
    "        )\n",
    "        del table_page1[\"plural_englisch\"]\n",
    "        del table_page1[\"plural\"]\n",
    "\n",
    "    # remove row when no word in deutsch and english\n",
    "    table_page1 = table_page1[\n",
    "        (table_page1[\"deutsch_plural\"] != \"\") & (table_page1[\"englisch\"] != \"\")\n",
    "    ]\n",
    "\n",
    "    # merge artikel and deutsch\n",
    "    table_page1[\"deutsch_plural\"] = table_page1[[\"artikel\", \"deutsch_plural\"]].agg(\n",
    "        \" \".join, axis=1\n",
    "    )\n",
    "\n",
    "    # if article, add \"the\" to english\n",
    "    table_page1[\"englisch\"] = table_page1.apply(\n",
    "        lambda x: (\"the \" + x[\"englisch\"]) if (x[\"artikel\"] != \"\") else x[\"englisch\"],\n",
    "        axis=1,\n",
    "    )\n",
    "\n",
    "    # remove artikel column\n",
    "    del table_page1[\"artikel\"]\n",
    "\n",
    "    # if deutsch contains \"(Sie\", add \"to\" to englisch\n",
    "    table_page1[\"is_verb\"] = table_page1[\"deutsch_plural\"].map(\n",
    "        lambda x: (\"(Sie\" in x) or (\"(ich\" in x)\n",
    "    )\n",
    "\n",
    "    table_page1[\"englisch\"] = table_page1.apply(\n",
    "        lambda x: (\"to \" + x[\"englisch\"])\n",
    "        if (x[\"englisch\"][:3] != \"to \") & (x[\"is_verb\"])\n",
    "        else x[\"englisch\"],\n",
    "        axis=1,\n",
    "    )\n",
    "\n",
    "    # in deutsch or englisch, remove everything after the first \"/\" or \"(\" or \"\\n\"\n",
    "    table_page1[\"deutsch\"] = table_page1[\"deutsch_plural\"].map(\n",
    "        lambda x: re.split(\"\\(|/|\\n|,|-\", x)[0]\n",
    "    )\n",
    "    # in deutsch, remove everything after the first \"/\" or \"(\" or \"\\n\"\n",
    "    table_page1[\"englisch\"] = table_page1[\"englisch\"].map(\n",
    "        lambda x: re.split(\"\\(|/|\\n|,|-\", x)[0]\n",
    "    )\n",
    "\n",
    "    # strip extra-space in word\n",
    "    table_page1[\"deutsch\"] = table_page1[\"deutsch\"].map(lambda x: re.sub(\"\\s+\", \" \", x))\n",
    "    table_page1[\"englisch\"] = table_page1[\"englisch\"].map(\n",
    "        lambda x: re.sub(\"\\s+\", \" \", x)\n",
    "    )\n",
    "\n",
    "    # strip space on left and right\n",
    "    table_page1[\"deutsch\"] = table_page1[\"deutsch\"].map(lambda x: x.strip())\n",
    "    table_page1[\"englisch\"] = table_page1[\"englisch\"].map(lambda x: x.strip())\n",
    "\n",
    "    del table_page1[\"deutsch_plural\"]\n",
    "    del table_page1[\"is_verb\"]\n",
    "\n",
    "    # remove row when no word in deutsch or english\n",
    "    table_page1 = table_page1[\n",
    "        (table_page1[\"deutsch\"] != \"\")\n",
    "        & (table_page1[\"englisch\"] != \"\")\n",
    "        & (~table_page1[\"deutsch\"].isna())\n",
    "        & (~table_page1[\"englisch\"].isna())\n",
    "    ]\n",
    "\n",
    "    deutsch_englisch = deutsch_englisch.append(table_page1[[\"deutsch\", \"englisch\"]])"
   ]
  },
  {
   "cell_type": "code",
   "execution_count": null,
   "metadata": {},
   "outputs": [],
   "source": [
    "deutsch_englisch"
   ]
  },
  {
   "cell_type": "code",
   "execution_count": null,
   "metadata": {},
   "outputs": [],
   "source": [
    "deutsch_englisch.to_csv(\n",
    "    \"data/raw/new_vocabulary/wortschatzliste_einfach-gut_b1-1_englisch.csv\", index=False\n",
    ")"
   ]
  },
  {
   "cell_type": "markdown",
   "metadata": {},
   "source": [
    "# wortschatzliste_einfach-gut_b1-2_englisch"
   ]
  },
  {
   "cell_type": "code",
   "execution_count": null,
   "metadata": {},
   "outputs": [],
   "source": [
    "pdf_name = \"data/raw/new_vocabulary/wortschatzliste_einfach-gut_b1-2_englisch.pdf\""
   ]
  },
  {
   "cell_type": "markdown",
   "metadata": {},
   "source": [
    "## Get number of pages of pdf document"
   ]
  },
  {
   "cell_type": "code",
   "execution_count": null,
   "metadata": {},
   "outputs": [],
   "source": [
    "# importing required modules\n",
    "import PyPDF2\n",
    "\n",
    "# creating a pdf reader object\n",
    "pdfReader = PyPDF2.PdfFileReader(stream=pdf_name)\n",
    "\n",
    "# printing number of pages in pdf file\n",
    "num_pages = pdfReader.numPages"
   ]
  },
  {
   "cell_type": "code",
   "execution_count": null,
   "metadata": {},
   "outputs": [],
   "source": [
    "print(num_pages)"
   ]
  },
  {
   "cell_type": "markdown",
   "metadata": {},
   "source": [
    "## Get tables"
   ]
  },
  {
   "cell_type": "code",
   "execution_count": null,
   "metadata": {},
   "outputs": [],
   "source": [
    "import camelot"
   ]
  },
  {
   "cell_type": "code",
   "execution_count": null,
   "metadata": {},
   "outputs": [],
   "source": [
    "# Syntax of the camelot.read_pdf function\n",
    "tables = camelot.read_pdf(pdf_name, pages=\"1-{}\".format(num_pages), flavor=\"stream\")"
   ]
  },
  {
   "cell_type": "markdown",
   "metadata": {},
   "source": [
    "## Format all tables"
   ]
  },
  {
   "cell_type": "code",
   "execution_count": null,
   "metadata": {},
   "outputs": [],
   "source": [
    "i = 0\n",
    "table_page1 = tables[i].df\n",
    "table_page1"
   ]
  },
  {
   "cell_type": "code",
   "execution_count": null,
   "metadata": {},
   "outputs": [],
   "source": [
    "deutsch_englisch = pd.DataFrame()"
   ]
  },
  {
   "cell_type": "code",
   "execution_count": null,
   "metadata": {},
   "outputs": [],
   "source": [
    "for i in range(num_pages):\n",
    "    # i = 14\n",
    "    print(i)\n",
    "\n",
    "    table_page1 = tables[i].df\n",
    "\n",
    "    # remove first row\n",
    "    table_page1 = table_page1[1:]\n",
    "\n",
    "    if i == 0:\n",
    "        # 1st row is column names\n",
    "        table_page1 = table_page1[1:]\n",
    "\n",
    "    if i in []:\n",
    "        table_page1.columns = [\"artikel\", \"deutsch_plural\", \"englisch\", \"beispiel\"]\n",
    "        # remove example\n",
    "        del table_page1[\"beispiel\"]\n",
    "    if i in []:\n",
    "        table_page1.columns = [\"artikel\", \"deutsch_plural\", \"englisch\", \"beispiel\"]\n",
    "        table_page1[\"englisch\"] = table_page1[\"englisch\"].map(get_after_split)\n",
    "        # remove example\n",
    "        del table_page1[\"beispiel\"]\n",
    "    if i in [1, 2, 4, 5, 6, 7, 8]:\n",
    "        table_page1.columns = [\"artikel\", \"deutsch_plural\", \"plural\", \"englisch\"]\n",
    "        # remove plural\n",
    "        del table_page1[\"plural\"]\n",
    "    if i in []:\n",
    "        table_page1.columns = [\n",
    "            \"artikel\",\n",
    "            \"deutsch_plural\",\n",
    "            \"plural\",\n",
    "            \"englisch\",\n",
    "            \"beispiel\",\n",
    "        ]\n",
    "        # remove example & plural\n",
    "        del table_page1[\"beispiel\"]\n",
    "        del table_page1[\"plural\"]\n",
    "    if i in [3, 9]:\n",
    "        table_page1.columns = [\"artikel_deutsch\", \"plural\", \"englisch\"]\n",
    "        table_page1[\"artikel\"], table_page1[\"deutsch_plural\"] = zip(\n",
    "            *table_page1[\"artikel_deutsch\"].map(separate_artikel_deutsch)\n",
    "        )\n",
    "        del table_page1[\"artikel_deutsch\"]\n",
    "        del table_page1[\"plural\"]\n",
    "    if i in []:\n",
    "        table_page1.columns = [\"artikel_deutsch\", \"plural\", \"englisch\", \"beispiel\"]\n",
    "        table_page1[\"artikel\"], table_page1[\"deutsch_plural\"] = zip(\n",
    "            *table_page1[\"artikel_deutsch\"].map(separate_artikel_deutsch)\n",
    "        )\n",
    "        del table_page1[\"artikel_deutsch\"]\n",
    "        del table_page1[\"plural\"]\n",
    "        del table_page1[\"beispiel\"]\n",
    "    if i in [10]:\n",
    "        table_page1.columns = [\"artikel\", \"deutsch_plural\", \"plural_englisch\"]\n",
    "        table_page1[\"plural\"], table_page1[\"englisch\"] = zip(\n",
    "            *table_page1[\"plural_englisch\"].map(separate_plural_englisch)\n",
    "        )\n",
    "        del table_page1[\"plural_englisch\"]\n",
    "        del table_page1[\"plural\"]\n",
    "    if i in [0]:\n",
    "        table_page1.columns = [\n",
    "            \"artikel\",\n",
    "            \"deutsch_plural\",\n",
    "            \"plural_englisch\",\n",
    "            \"beispiel\",\n",
    "        ]\n",
    "        table_page1[\"plural\"], table_page1[\"englisch\"] = zip(\n",
    "            *table_page1[\"plural_englisch\"].map(separate_plural_englisch)\n",
    "        )\n",
    "        del table_page1[\"plural_englisch\"]\n",
    "        del table_page1[\"plural\"]\n",
    "        del table_page1[\"beispiel\"]\n",
    "\n",
    "    # remove row when no word in deutsch and english\n",
    "    table_page1 = table_page1[\n",
    "        (table_page1[\"deutsch_plural\"] != \"\") & (table_page1[\"englisch\"] != \"\")\n",
    "    ]\n",
    "\n",
    "    # merge artikel and deutsch\n",
    "    table_page1[\"deutsch_plural\"] = table_page1[[\"artikel\", \"deutsch_plural\"]].agg(\n",
    "        \" \".join, axis=1\n",
    "    )\n",
    "\n",
    "    # if article, add \"the\" to english\n",
    "    table_page1[\"englisch\"] = table_page1.apply(\n",
    "        lambda x: (\"the \" + x[\"englisch\"]) if (x[\"artikel\"] != \"\") else x[\"englisch\"],\n",
    "        axis=1,\n",
    "    )\n",
    "\n",
    "    # remove artikel column\n",
    "    del table_page1[\"artikel\"]\n",
    "\n",
    "    # if deutsch contains \"(Sie\", add \"to\" to englisch\n",
    "    table_page1[\"is_verb\"] = table_page1[\"deutsch_plural\"].map(\n",
    "        lambda x: (\"(Sie\" in x) or (\"(ich\" in x)\n",
    "    )\n",
    "\n",
    "    table_page1[\"englisch\"] = table_page1.apply(\n",
    "        lambda x: (\"to \" + x[\"englisch\"])\n",
    "        if (x[\"englisch\"][:3] != \"to \") & (x[\"is_verb\"])\n",
    "        else x[\"englisch\"],\n",
    "        axis=1,\n",
    "    )\n",
    "\n",
    "    # in deutsch or englisch, remove everything after the first \"/\" or \"(\" or \"\\n\"\n",
    "    table_page1[\"deutsch\"] = table_page1[\"deutsch_plural\"].map(\n",
    "        lambda x: re.split(\"\\(|/|\\n|,|-\", x)[0]\n",
    "    )\n",
    "    # in deutsch, remove everything after the first \"/\" or \"(\" or \"\\n\"\n",
    "    table_page1[\"englisch\"] = table_page1[\"englisch\"].map(\n",
    "        lambda x: re.split(\"\\(|/|\\n|,|-\", x)[0]\n",
    "    )\n",
    "\n",
    "    # strip extra-space in word\n",
    "    table_page1[\"deutsch\"] = table_page1[\"deutsch\"].map(lambda x: re.sub(\"\\s+\", \" \", x))\n",
    "    table_page1[\"englisch\"] = table_page1[\"englisch\"].map(\n",
    "        lambda x: re.sub(\"\\s+\", \" \", x)\n",
    "    )\n",
    "\n",
    "    # strip space on left and right\n",
    "    table_page1[\"deutsch\"] = table_page1[\"deutsch\"].map(lambda x: x.strip())\n",
    "    table_page1[\"englisch\"] = table_page1[\"englisch\"].map(lambda x: x.strip())\n",
    "\n",
    "    del table_page1[\"deutsch_plural\"]\n",
    "    del table_page1[\"is_verb\"]\n",
    "\n",
    "    # remove row when no word in deutsch or english\n",
    "    table_page1 = table_page1[\n",
    "        (table_page1[\"deutsch\"] != \"\")\n",
    "        & (table_page1[\"englisch\"] != \"\")\n",
    "        & (~table_page1[\"deutsch\"].isna())\n",
    "        & (~table_page1[\"englisch\"].isna())\n",
    "    ]\n",
    "\n",
    "    deutsch_englisch = deutsch_englisch.append(table_page1[[\"deutsch\", \"englisch\"]])"
   ]
  },
  {
   "cell_type": "code",
   "execution_count": null,
   "metadata": {},
   "outputs": [],
   "source": [
    "deutsch_englisch"
   ]
  },
  {
   "cell_type": "code",
   "execution_count": null,
   "metadata": {},
   "outputs": [],
   "source": [
    "deutsch_englisch.to_csv(\n",
    "    \"data/raw/new_vocabulary/wortschatzliste_einfach-gut_b1-2_englisch.csv\", index=False\n",
    ")"
   ]
  },
  {
   "cell_type": "markdown",
   "metadata": {},
   "source": [
    "# wortschatzliste_einfach-besser_b1-b2_englisch"
   ]
  },
  {
   "cell_type": "code",
   "execution_count": null,
   "metadata": {},
   "outputs": [],
   "source": [
    "pdf_name = \"data/raw/new_vocabulary/wortschatzliste_einfach-besser_b1-b2_englisch.pdf\""
   ]
  },
  {
   "cell_type": "markdown",
   "metadata": {},
   "source": [
    "## Get number of pages of pdf document"
   ]
  },
  {
   "cell_type": "code",
   "execution_count": null,
   "metadata": {},
   "outputs": [],
   "source": [
    "# importing required modules\n",
    "import PyPDF2\n",
    "\n",
    "# creating a pdf reader object\n",
    "pdfReader = PyPDF2.PdfFileReader(stream=pdf_name)\n",
    "\n",
    "# printing number of pages in pdf file\n",
    "num_pages = pdfReader.numPages"
   ]
  },
  {
   "cell_type": "code",
   "execution_count": null,
   "metadata": {},
   "outputs": [],
   "source": [
    "print(num_pages)"
   ]
  },
  {
   "cell_type": "markdown",
   "metadata": {},
   "source": [
    "## Get tables"
   ]
  },
  {
   "cell_type": "code",
   "execution_count": null,
   "metadata": {},
   "outputs": [],
   "source": [
    "import camelot"
   ]
  },
  {
   "cell_type": "code",
   "execution_count": null,
   "metadata": {},
   "outputs": [],
   "source": [
    "# Syntax of the camelot.read_pdf function\n",
    "tables = camelot.read_pdf(pdf_name, pages=\"1-{}\".format(num_pages), flavor=\"stream\")"
   ]
  },
  {
   "cell_type": "markdown",
   "metadata": {},
   "source": [
    "## Format all tables"
   ]
  },
  {
   "cell_type": "code",
   "execution_count": null,
   "metadata": {},
   "outputs": [],
   "source": [
    "i = 44\n",
    "table_page1 = tables[i].df\n",
    "table_page1"
   ]
  },
  {
   "cell_type": "code",
   "execution_count": null,
   "metadata": {},
   "outputs": [],
   "source": [
    "deutsch_englisch = pd.DataFrame()"
   ]
  },
  {
   "cell_type": "code",
   "execution_count": null,
   "metadata": {},
   "outputs": [],
   "source": [
    "for i in range(num_pages):\n",
    "    # i = 14\n",
    "    print(i)\n",
    "\n",
    "    table_page1 = tables[i].df\n",
    "\n",
    "    # remove first row\n",
    "    table_page1 = table_page1[1:]\n",
    "\n",
    "    if i == 0:\n",
    "        # 1st row is column names\n",
    "        table_page1 = table_page1[1:]\n",
    "\n",
    "    if i in []:\n",
    "        table_page1.columns = [\"artikel\", \"deutsch_plural\", \"englisch\", \"beispiel\"]\n",
    "        # remove example\n",
    "        del table_page1[\"beispiel\"]\n",
    "    if i in []:\n",
    "        table_page1.columns = [\"artikel\", \"deutsch_plural\", \"englisch\", \"beispiel\"]\n",
    "        table_page1[\"englisch\"] = table_page1[\"englisch\"].map(get_after_split)\n",
    "        # remove example\n",
    "        del table_page1[\"beispiel\"]\n",
    "    if i in list(range(1, 44)):\n",
    "        table_page1.columns = [\"artikel\", \"deutsch_plural\", \"plural\", \"englisch\"]\n",
    "        # remove plural\n",
    "        del table_page1[\"plural\"]\n",
    "    if i in [0]:\n",
    "        table_page1.columns = [\n",
    "            \"artikel\",\n",
    "            \"deutsch_plural\",\n",
    "            \"plural\",\n",
    "            \"englisch\",\n",
    "            \"beispiel\",\n",
    "        ]\n",
    "        # remove example & plural\n",
    "        del table_page1[\"beispiel\"]\n",
    "        del table_page1[\"plural\"]\n",
    "    if i in []:\n",
    "        table_page1.columns = [\"artikel_deutsch\", \"plural\", \"englisch\"]\n",
    "        table_page1[\"artikel\"], table_page1[\"deutsch_plural\"] = zip(\n",
    "            *table_page1[\"artikel_deutsch\"].map(separate_artikel_deutsch)\n",
    "        )\n",
    "        del table_page1[\"artikel_deutsch\"]\n",
    "        del table_page1[\"plural\"]\n",
    "    if i in []:\n",
    "        table_page1.columns = [\"artikel_deutsch\", \"plural\", \"englisch\", \"beispiel\"]\n",
    "        table_page1[\"artikel\"], table_page1[\"deutsch_plural\"] = zip(\n",
    "            *table_page1[\"artikel_deutsch\"].map(separate_artikel_deutsch)\n",
    "        )\n",
    "        del table_page1[\"artikel_deutsch\"]\n",
    "        del table_page1[\"plural\"]\n",
    "        del table_page1[\"beispiel\"]\n",
    "    if i in []:\n",
    "        table_page1.columns = [\"artikel\", \"deutsch_plural\", \"plural_englisch\"]\n",
    "        table_page1[\"plural\"], table_page1[\"englisch\"] = zip(\n",
    "            *table_page1[\"plural_englisch\"].map(separate_plural_englisch)\n",
    "        )\n",
    "        del table_page1[\"plural_englisch\"]\n",
    "        del table_page1[\"plural\"]\n",
    "    if i in []:\n",
    "        table_page1.columns = [\n",
    "            \"artikel\",\n",
    "            \"deutsch_plural\",\n",
    "            \"plural_englisch\",\n",
    "            \"beispiel\",\n",
    "        ]\n",
    "        table_page1[\"plural\"], table_page1[\"englisch\"] = zip(\n",
    "            *table_page1[\"plural_englisch\"].map(separate_plural_englisch)\n",
    "        )\n",
    "        del table_page1[\"plural_englisch\"]\n",
    "        del table_page1[\"plural\"]\n",
    "        del table_page1[\"beispiel\"]\n",
    "\n",
    "    # remove row when no word in deutsch and english\n",
    "    table_page1 = table_page1[\n",
    "        (table_page1[\"deutsch_plural\"] != \"\") & (table_page1[\"englisch\"] != \"\")\n",
    "    ]\n",
    "\n",
    "    # merge artikel and deutsch\n",
    "    table_page1[\"deutsch_plural\"] = table_page1[[\"artikel\", \"deutsch_plural\"]].agg(\n",
    "        \" \".join, axis=1\n",
    "    )\n",
    "\n",
    "    # if article, add \"the\" to english\n",
    "    table_page1[\"englisch\"] = table_page1.apply(\n",
    "        lambda x: (\"the \" + x[\"englisch\"]) if (x[\"artikel\"] != \"\") else x[\"englisch\"],\n",
    "        axis=1,\n",
    "    )\n",
    "\n",
    "    # remove artikel column\n",
    "    del table_page1[\"artikel\"]\n",
    "\n",
    "    # if deutsch contains \"(Sie\", add \"to\" to englisch\n",
    "    table_page1[\"is_verb\"] = table_page1[\"deutsch_plural\"].map(\n",
    "        lambda x: (\"(Sie\" in x) or (\"(ich\" in x)\n",
    "    )\n",
    "\n",
    "    table_page1[\"englisch\"] = table_page1.apply(\n",
    "        lambda x: (\"to \" + x[\"englisch\"])\n",
    "        if (x[\"englisch\"][:3] != \"to \") & (x[\"is_verb\"])\n",
    "        else x[\"englisch\"],\n",
    "        axis=1,\n",
    "    )\n",
    "\n",
    "    # in deutsch or englisch, remove everything after the first \"/\" or \"(\" or \"\\n\"\n",
    "    table_page1[\"deutsch\"] = table_page1[\"deutsch_plural\"].map(\n",
    "        lambda x: re.split(\"\\(|/|\\n|,|-\", x)[0]\n",
    "    )\n",
    "    # in deutsch, remove everything after the first \"/\" or \"(\" or \"\\n\"\n",
    "    table_page1[\"englisch\"] = table_page1[\"englisch\"].map(\n",
    "        lambda x: re.split(\"\\(|/|\\n|,|-\", x)[0]\n",
    "    )\n",
    "\n",
    "    # strip extra-space in word\n",
    "    table_page1[\"deutsch\"] = table_page1[\"deutsch\"].map(lambda x: re.sub(\"\\s+\", \" \", x))\n",
    "    table_page1[\"englisch\"] = table_page1[\"englisch\"].map(\n",
    "        lambda x: re.sub(\"\\s+\", \" \", x)\n",
    "    )\n",
    "\n",
    "    # strip space on left and right\n",
    "    table_page1[\"deutsch\"] = table_page1[\"deutsch\"].map(lambda x: x.strip())\n",
    "    table_page1[\"englisch\"] = table_page1[\"englisch\"].map(lambda x: x.strip())\n",
    "\n",
    "    del table_page1[\"deutsch_plural\"]\n",
    "    del table_page1[\"is_verb\"]\n",
    "\n",
    "    # remove row when no word in deutsch or english\n",
    "    table_page1 = table_page1[\n",
    "        (table_page1[\"deutsch\"] != \"\")\n",
    "        & (table_page1[\"englisch\"] != \"\")\n",
    "        & (~table_page1[\"deutsch\"].isna())\n",
    "        & (~table_page1[\"englisch\"].isna())\n",
    "    ]\n",
    "\n",
    "    deutsch_englisch = deutsch_englisch.append(table_page1[[\"deutsch\", \"englisch\"]])"
   ]
  },
  {
   "cell_type": "code",
   "execution_count": null,
   "metadata": {},
   "outputs": [],
   "source": [
    "deutsch_englisch"
   ]
  },
  {
   "cell_type": "code",
   "execution_count": null,
   "metadata": {},
   "outputs": [],
   "source": [
    "deutsch_englisch.to_csv(\n",
    "    \"data/raw/new_vocabulary/wortschatzliste_einfach-besser_b1-b2_englisch.csv\",\n",
    "    index=False,\n",
    ")"
   ]
  },
  {
   "cell_type": "code",
   "execution_count": null,
   "metadata": {},
   "outputs": [],
   "source": []
  },
  {
   "cell_type": "code",
   "execution_count": null,
   "metadata": {},
   "outputs": [],
   "source": []
  },
  {
   "cell_type": "code",
   "execution_count": null,
   "metadata": {},
   "outputs": [],
   "source": []
  },
  {
   "cell_type": "code",
   "execution_count": null,
   "metadata": {},
   "outputs": [],
   "source": []
  }
 ],
 "metadata": {
  "hide_input": false,
  "kernelspec": {
   "display_name": "vocabulary_learning",
   "language": "python",
   "name": "vocabulary_learning"
  },
  "language_info": {
   "codemirror_mode": {
    "name": "ipython",
    "version": 3
   },
   "file_extension": ".py",
   "mimetype": "text/x-python",
   "name": "python",
   "nbconvert_exporter": "python",
   "pygments_lexer": "ipython3",
   "version": "3.7.5"
  },
  "toc": {
   "base_numbering": 1,
   "nav_menu": {},
   "number_sections": true,
   "sideBar": true,
   "skip_h1_title": false,
   "title_cell": "Table of Contents",
   "title_sidebar": "Contents",
   "toc_cell": false,
   "toc_position": {},
   "toc_section_display": true,
   "toc_window_display": false
  }
 },
 "nbformat": 4,
 "nbformat_minor": 4
}
