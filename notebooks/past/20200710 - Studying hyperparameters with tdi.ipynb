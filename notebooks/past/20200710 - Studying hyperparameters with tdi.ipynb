{
 "cells": [
  {
   "cell_type": "code",
   "execution_count": null,
   "metadata": {},
   "outputs": [],
   "source": [
    "import os\n",
    "print(os.getcwd())\n",
    "def update_working_directory():\n",
    "    from pathlib import Path\n",
    "    p = Path(os.getcwd()).parents[0]\n",
    "    os.chdir(p)\n",
    "    print(p)\n",
    "update_working_directory()\n",
    "# Set to .../ds-retail"
   ]
  },
  {
   "cell_type": "code",
   "execution_count": null,
   "metadata": {},
   "outputs": [],
   "source": [
    "import ast\n",
    "import glob\n",
    "import pandas as pd\n",
    "import plotly.graph_objects as go\n",
    "import re"
   ]
  },
  {
   "cell_type": "markdown",
   "metadata": {
    "heading_collapsed": true
   },
   "source": [
    "# Getting hyperparameters from the log file"
   ]
  },
  {
   "cell_type": "markdown",
   "metadata": {
    "hidden": true
   },
   "source": [
    "## Batch 1 - 2020/07/10"
   ]
  },
  {
   "cell_type": "markdown",
   "metadata": {
    "hidden": true
   },
   "source": [
    "### Read log file"
   ]
  },
  {
   "cell_type": "code",
   "execution_count": null,
   "metadata": {
    "hidden": true
   },
   "outputs": [],
   "source": [
    "hyperparameters_file = \"hyperparameters/20200710 - Hyperparameter Search.txt\"\n",
    "\n",
    "with open(hyperparameters_file) as f:\n",
    "    hp_content = f.readlines()\n",
    "\n",
    "# you may also want to remove whitespace characters like `\\n` at the end of each line\n",
    "hp_content = [x.strip() for x in hp_content]\n",
    "hp_content = [x for x in hp_content if x != '']\n",
    "\n",
    "#hp_content"
   ]
  },
  {
   "cell_type": "markdown",
   "metadata": {
    "hidden": true
   },
   "source": [
    "### Put everything into a DataFrame"
   ]
  },
  {
   "cell_type": "code",
   "execution_count": null,
   "metadata": {
    "hidden": true
   },
   "outputs": [],
   "source": [
    "hyperparameters_df = pd.DataFrame()"
   ]
  },
  {
   "cell_type": "code",
   "execution_count": null,
   "metadata": {
    "hidden": true
   },
   "outputs": [],
   "source": [
    "def get_hyperparameter(s, hyperparameter, ending):\n",
    "    pat = r\"(?<={}':)(.*)(?={})\".format(hyperparameter, ending)\n",
    "    return re.search(pat, s).group(1).strip()\n",
    "\n",
    "hyperparameters_df['learning_rate'] = [\n",
    "    float(get_hyperparameter(x, hyperparameter = 'learning_rate', ending=\", 'max_depth'\"))\n",
    "    for x in hp_content]\n",
    "hyperparameters_df['max_depth'] = [\n",
    "    int(get_hyperparameter(x, hyperparameter = 'max_depth', ending=\", 'num_leaves'\"))\n",
    "    for x in hp_content]\n",
    "hyperparameters_df['num_leaves'] = [\n",
    "    int(get_hyperparameter(x, hyperparameter = 'num_leaves', ending=\", 'bagging_fraction'\"))\n",
    "    for x in hp_content]\n",
    "hyperparameters_df['bagging_fraction'] = [\n",
    "    float(get_hyperparameter(x, hyperparameter = 'bagging_fraction', ending=\", 'feature_fraction'\"))\n",
    "    for x in hp_content]\n",
    "hyperparameters_df['feature_fraction'] = [\n",
    "    float(get_hyperparameter(x, hyperparameter = 'feature_fraction', ending=\", 'min_split_gain'\"))\n",
    "    for x in hp_content]\n",
    "hyperparameters_df['min_split_gain'] = [\n",
    "    float(get_hyperparameter(x, hyperparameter = 'min_split_gain', ending=\", 'min_child_samples'\"))\n",
    "    for x in hp_content]\n",
    "hyperparameters_df['min_child_samples'] = [\n",
    "    int(get_hyperparameter(x, hyperparameter = 'min_child_samples', ending=\", 'reg_alpha'\"))\n",
    "    for x in hp_content]\n",
    "hyperparameters_df['reg_alpha'] = [\n",
    "    float(get_hyperparameter(x, hyperparameter = 'reg_alpha', ending=\", 'reg_lambda'\"))\n",
    "    for x in hp_content]\n",
    "hyperparameters_df['reg_lambda'] = [\n",
    "    float(get_hyperparameter(x, hyperparameter = 'reg_lambda', ending=\"}\"))\n",
    "    for x in hp_content]\n",
    "\n",
    "#hyperparameters_df"
   ]
  },
  {
   "cell_type": "code",
   "execution_count": null,
   "metadata": {
    "hidden": true
   },
   "outputs": [],
   "source": [
    "def get_score(s):\n",
    "    pat = r\"(?<=value: )(.*)(?= with pa)\"\n",
    "    return re.search(pat, s).group(1).strip()\n",
    "\n",
    "hyperparameters_df['MAE'] = [float(get_score(x)) for x in hp_content]\n",
    "\n",
    "#hyperparameters_df"
   ]
  },
  {
   "cell_type": "code",
   "execution_count": null,
   "metadata": {
    "hidden": true
   },
   "outputs": [],
   "source": [
    "hyperparameters_df['n_trial'] = list(range(1,len(hyperparameters_df)+1))"
   ]
  },
  {
   "cell_type": "markdown",
   "metadata": {
    "hidden": true
   },
   "source": [
    "### Save hyperparameters table - hyperparameters/HP_df.csv"
   ]
  },
  {
   "cell_type": "code",
   "execution_count": null,
   "metadata": {
    "hidden": true
   },
   "outputs": [],
   "source": [
    "hyperparameters_df.to_csv('hyperparameters/20200710_HP_df.csv', index=False)"
   ]
  },
  {
   "cell_type": "markdown",
   "metadata": {
    "hidden": true
   },
   "source": [
    "## Batch 2 - 2020/07/13"
   ]
  },
  {
   "cell_type": "markdown",
   "metadata": {
    "hidden": true
   },
   "source": [
    "### Read log file"
   ]
  },
  {
   "cell_type": "code",
   "execution_count": null,
   "metadata": {
    "hidden": true
   },
   "outputs": [],
   "source": [
    "hyperparameters_file = \"hyperparameters/20200713 - Hyperparameter Search.txt\"\n",
    "\n",
    "with open(hyperparameters_file) as f:\n",
    "    hp_content = f.readlines()\n",
    "\n",
    "# you may also want to remove whitespace characters like `\\n` at the end of each line\n",
    "hp_content = [x.strip() for x in hp_content]\n",
    "hp_content = [x for x in hp_content if x != '']\n",
    "\n",
    "#hp_content"
   ]
  },
  {
   "cell_type": "markdown",
   "metadata": {
    "hidden": true
   },
   "source": [
    "### Put everything into a DataFrame"
   ]
  },
  {
   "cell_type": "code",
   "execution_count": null,
   "metadata": {
    "hidden": true
   },
   "outputs": [],
   "source": [
    "hp_content_params_info = [x for x in hp_content if 'learning_rate' in x]\n",
    "#hp_content_params_info"
   ]
  },
  {
   "cell_type": "code",
   "execution_count": null,
   "metadata": {
    "hidden": true
   },
   "outputs": [],
   "source": [
    "hyperparameters_df = pd.DataFrame()"
   ]
  },
  {
   "cell_type": "code",
   "execution_count": null,
   "metadata": {
    "hidden": true
   },
   "outputs": [],
   "source": [
    "def get_hyperparameter(s, hyperparameter, ending):\n",
    "    pat = r\"(?<={}':)(.*)(?={})\".format(hyperparameter, ending)\n",
    "    return re.search(pat, s).group(1).strip()\n",
    "\n",
    "hyperparameters_df['learning_rate'] = [\n",
    "    float(get_hyperparameter(x, hyperparameter = 'learning_rate', ending=\", 'max_depth'\"))\n",
    "    for x in hp_content_params_info]\n",
    "hyperparameters_df['max_depth'] = [\n",
    "    int(get_hyperparameter(x, hyperparameter = 'max_depth', ending=\", 'num_leaves'\"))\n",
    "    for x in hp_content_params_info]\n",
    "hyperparameters_df['num_leaves'] = [\n",
    "    int(get_hyperparameter(x, hyperparameter = 'num_leaves', ending=\", 'bagging_fraction'\"))\n",
    "    for x in hp_content_params_info]\n",
    "hyperparameters_df['bagging_fraction'] = [\n",
    "    float(get_hyperparameter(x, hyperparameter = 'bagging_fraction', ending=\", 'feature_fraction'\"))\n",
    "    for x in hp_content_params_info]\n",
    "hyperparameters_df['feature_fraction'] = [\n",
    "    float(get_hyperparameter(x, hyperparameter = 'feature_fraction', ending=\", 'min_child_samples'\"))\n",
    "    for x in hp_content_params_info]\n",
    "hyperparameters_df['min_child_samples'] = [\n",
    "    int(get_hyperparameter(x, hyperparameter = 'min_child_samples', ending=\", 'reg_alpha'\"))\n",
    "    for x in hp_content_params_info]\n",
    "hyperparameters_df['reg_alpha'] = [\n",
    "    float(get_hyperparameter(x, hyperparameter = 'reg_alpha', ending=\", 'reg_lambda'\"))\n",
    "    for x in hp_content_params_info]\n",
    "hyperparameters_df['reg_lambda'] = [\n",
    "    float(get_hyperparameter(x, hyperparameter = 'reg_lambda', ending=\"}\"))\n",
    "    for x in hp_content_params_info]\n",
    "\n",
    "#hyperparameters_df"
   ]
  },
  {
   "cell_type": "code",
   "execution_count": null,
   "metadata": {
    "hidden": true
   },
   "outputs": [],
   "source": [
    "hp_content_score_info = hp_content[2::4]\n",
    "#hp_content_score_info"
   ]
  },
  {
   "cell_type": "code",
   "execution_count": null,
   "metadata": {
    "hidden": true
   },
   "outputs": [],
   "source": [
    "hyperparameters_df['MAE'] = [float(x) for x in hp_content_score_info]\n",
    "#hyperparameters_df"
   ]
  },
  {
   "cell_type": "code",
   "execution_count": null,
   "metadata": {
    "hidden": true
   },
   "outputs": [],
   "source": [
    "hp_content_time_info = hp_content[3::4]\n",
    "#hp_content_time_info"
   ]
  },
  {
   "cell_type": "code",
   "execution_count": null,
   "metadata": {
    "hidden": true
   },
   "outputs": [],
   "source": [
    "hyperparameters_df['time_seconds'] = [int(x) for x in hp_content_time_info]\n",
    "#hyperparameters_df"
   ]
  },
  {
   "cell_type": "code",
   "execution_count": null,
   "metadata": {
    "hidden": true
   },
   "outputs": [],
   "source": [
    "hyperparameters_df['n_trial'] = list(range(1,len(hyperparameters_df)+1))"
   ]
  },
  {
   "cell_type": "markdown",
   "metadata": {
    "hidden": true
   },
   "source": [
    "### Save hyperparameters table - hyperparameters/HP_df.csv"
   ]
  },
  {
   "cell_type": "code",
   "execution_count": null,
   "metadata": {
    "hidden": true
   },
   "outputs": [],
   "source": [
    "hyperparameters_df.to_csv('hyperparameters/20200713_HP_df.csv', index=False)"
   ]
  },
  {
   "cell_type": "markdown",
   "metadata": {},
   "source": [
    "# Study"
   ]
  },
  {
   "cell_type": "markdown",
   "metadata": {
    "heading_collapsed": true
   },
   "source": [
    "## Get hyperparameters tables"
   ]
  },
  {
   "cell_type": "code",
   "execution_count": null,
   "metadata": {
    "hidden": true
   },
   "outputs": [],
   "source": [
    "hyperparameters_df_20200710 = pd.read_csv('hyperparameters/20200710_HP_df.csv')\n",
    "hyperparameters_df_20200710"
   ]
  },
  {
   "cell_type": "code",
   "execution_count": null,
   "metadata": {
    "hidden": true
   },
   "outputs": [],
   "source": [
    "hyperparameters_df_20200713 = pd.read_csv('hyperparameters/20200713_HP_df.csv')\n",
    "hyperparameters_df_20200713"
   ]
  },
  {
   "cell_type": "code",
   "execution_count": null,
   "metadata": {
    "hidden": true
   },
   "outputs": [],
   "source": [
    "hyperparameters_df = pd.concat([hyperparameters_df_20200710, hyperparameters_df_20200713], axis=0)\n",
    "hyperparameters_df"
   ]
  },
  {
   "cell_type": "code",
   "execution_count": null,
   "metadata": {
    "hidden": true
   },
   "outputs": [],
   "source": [
    "hyperparameters_df['n_trial_all'] = list(range(1,len(hyperparameters_df)+1))"
   ]
  },
  {
   "cell_type": "code",
   "execution_count": null,
   "metadata": {
    "hidden": true
   },
   "outputs": [],
   "source": [
    "hyperparameters_df_copy = hyperparameters_df.copy()"
   ]
  },
  {
   "cell_type": "markdown",
   "metadata": {
    "heading_collapsed": true
   },
   "source": [
    "## Get absolute best parameters"
   ]
  },
  {
   "cell_type": "code",
   "execution_count": null,
   "metadata": {
    "hidden": true
   },
   "outputs": [],
   "source": [
    "hyperparameters_df = hyperparameters_df_copy.copy()"
   ]
  },
  {
   "cell_type": "code",
   "execution_count": null,
   "metadata": {
    "hidden": true
   },
   "outputs": [],
   "source": [
    "best_hyperparameters = hyperparameters_df.loc[hyperparameters_df['MAE'].idxmin(axis=1)]\n",
    "best_hyperparameters"
   ]
  },
  {
   "cell_type": "markdown",
   "metadata": {
    "heading_collapsed": true
   },
   "source": [
    "## With a groupby (useful for discrete choices)"
   ]
  },
  {
   "cell_type": "code",
   "execution_count": null,
   "metadata": {
    "hidden": true
   },
   "outputs": [],
   "source": [
    "hyperparameters_df.groupby('min_child_samples').agg({\n",
    "    'MAE': ['mean', 'std', 'count']\n",
    "})"
   ]
  },
  {
   "cell_type": "code",
   "execution_count": null,
   "metadata": {
    "hidden": true
   },
   "outputs": [],
   "source": [
    "hyperparameters_df.sort_values('learning_rate', inplace=True)"
   ]
  },
  {
   "cell_type": "code",
   "execution_count": null,
   "metadata": {
    "hidden": true
   },
   "outputs": [],
   "source": [
    "hyperparameters_df"
   ]
  },
  {
   "cell_type": "markdown",
   "metadata": {},
   "source": [
    "## Distribution & Evolution of the hyperparameters"
   ]
  },
  {
   "cell_type": "code",
   "execution_count": null,
   "metadata": {},
   "outputs": [],
   "source": [
    "hyperparameters_df = hyperparameters_df_copy.copy()"
   ]
  },
  {
   "cell_type": "code",
   "execution_count": null,
   "metadata": {},
   "outputs": [],
   "source": [
    "hyperparameters_df = hyperparameters_df[hyperparameters_df['MAE'] < 500]"
   ]
  },
  {
   "cell_type": "code",
   "execution_count": null,
   "metadata": {},
   "outputs": [],
   "source": [
    "hyperparameters_df.sort_values('n_trial_all', inplace=True)"
   ]
  },
  {
   "cell_type": "code",
   "execution_count": null,
   "metadata": {},
   "outputs": [],
   "source": [
    "for variable_to_plot in ['max_depth','num_leaves','bagging_fraction','feature_fraction','min_child_samples','learning_rate','min_split_gain','reg_alpha','reg_lambda']:\n",
    "\n",
    "    #variable_to_plot = 'min_child_samples'\n",
    "\n",
    "    import plotly.graph_objects as go\n",
    "\n",
    "    #hyperparameters_df.sort_values(variable_to_plot, inplace=True)\n",
    "\n",
    "    # Create traces\n",
    "    fig = go.Figure()\n",
    "\n",
    "    fig.add_trace(go.Scatter(\n",
    "        x=hyperparameters_df[variable_to_plot],\n",
    "        y=hyperparameters_df['n_trial_all'],\n",
    "        mode='markers',\n",
    "        marker=dict(\n",
    "            #color=hyperparameters_df['n_trial'], #set color equal to a variable\n",
    "            #colorscale='Viridis', # one of plotly colorscales\n",
    "            #colorbar=dict(\n",
    "            #    title=\"n_trial\"\n",
    "            #),\n",
    "            color=hyperparameters_df['MAE'], #set color equal to a variable\n",
    "            colorscale='Viridis_r', # one of plotly colorscales\n",
    "            colorbar=dict(\n",
    "                title=\"MAE\"\n",
    "            ),\n",
    "            showscale=True\n",
    "        ),\n",
    "        hovertemplate=\n",
    "        \"<b>Trial %{y}</b><br><br>\" +\n",
    "        \"Value: %{x:.5f}<br>\" +\n",
    "        \"MAE: %{marker.color:.3f}<br>\" +\n",
    "        \"<extra></extra>\",\n",
    "        showlegend=False,\n",
    "        name=variable_to_plot\n",
    "    ))\n",
    "    \n",
    "    if variable_to_plot in ['learning_rate','min_split_gain','reg_alpha','reg_lambda']:\n",
    "        fig.update_xaxes(type=\"log\")\n",
    "\n",
    "    \n",
    "    fig.add_trace(go.Scatter(\n",
    "        x=[0, max(hyperparameters_df[variable_to_plot])],\n",
    "        y=[119, 119],\n",
    "        mode='lines',\n",
    "        showlegend=False,\n",
    "        line=dict(color='black', dash='dash')\n",
    "    ))\n",
    "    \n",
    "    fig.add_trace(go.Scatter(\n",
    "        x=[best_hyperparameters[variable_to_plot], best_hyperparameters[variable_to_plot]],\n",
    "        y=[min(hyperparameters_df['n_trial_all']), max(hyperparameters_df['n_trial_all'])],\n",
    "        mode='lines',\n",
    "        showlegend=False,\n",
    "        line=dict(color='#e377c2', dash='dash')\n",
    "    ))\n",
    "\n",
    "    fig.update_layout(\n",
    "        title='Evolution of hyperparameter {} by trial'.format(variable_to_plot),\n",
    "        xaxis_title=variable_to_plot,\n",
    "        yaxis_title='Number trial (the higher, the latest the trial was)',\n",
    "        legend={'itemsizing': 'constant'}\n",
    "    )\n",
    "    \n",
    "    fig.update_layout(annotations=[go.layout.Annotation(\n",
    "            text='Below the line: 1st trial, above, 2nd trial ; only for MAE < 500 ; vertical line: best MAE',\n",
    "            align='center',\n",
    "            showarrow=False,\n",
    "            xref='paper',\n",
    "            yref='paper',\n",
    "            x=0.5,\n",
    "            y=-0.22,\n",
    "            bordercolor='black',\n",
    "            borderwidth=1\n",
    "    )])\n",
    "    \n",
    "    fig.show()"
   ]
  },
  {
   "cell_type": "markdown",
   "metadata": {},
   "source": [
    "## MAE per hyperparameter value"
   ]
  },
  {
   "cell_type": "code",
   "execution_count": null,
   "metadata": {},
   "outputs": [],
   "source": [
    "hyperparameters_df = hyperparameters_df_copy.copy()"
   ]
  },
  {
   "cell_type": "code",
   "execution_count": null,
   "metadata": {},
   "outputs": [],
   "source": [
    "for variable_to_plot in ['max_depth','num_leaves','bagging_fraction','feature_fraction','min_child_samples','learning_rate','min_split_gain','reg_alpha','reg_lambda']:\n",
    "\n",
    "    #variable_to_plot = 'min_child_samples'\n",
    "\n",
    "    import plotly.graph_objects as go\n",
    "\n",
    "    hyperparameters_df.sort_values(variable_to_plot, inplace=True)\n",
    "\n",
    "    # Create traces\n",
    "    fig = go.Figure()\n",
    "\n",
    "    fig.add_trace(go.Scatter(\n",
    "        x=hyperparameters_df[variable_to_plot],\n",
    "        y=hyperparameters_df['MAE'],\n",
    "        mode='markers', # ['markers', 'lines']\n",
    "        marker=dict(\n",
    "            color=hyperparameters_df['n_trial'], #set color equal to a variable\n",
    "            colorscale='Viridis', # one of plotly colorscales\n",
    "            colorbar=dict(\n",
    "                title=\"Number trial\"\n",
    "            ),\n",
    "            showscale=True\n",
    "        ),\n",
    "        name='MAE'\n",
    "    ))\n",
    "    \n",
    "    if variable_to_plot in ['learning_rate','min_split_gain','reg_alpha','reg_lambda']:\n",
    "        fig.update_xaxes(type=\"log\")\n",
    "\n",
    "    fig.update_layout(\n",
    "        title='Evolution of MAE for different {}'.format(variable_to_plot),\n",
    "        xaxis_title=variable_to_plot,\n",
    "        yaxis_title='MAE',\n",
    "        legend={'itemsizing': 'constant'}\n",
    "    )\n",
    "\n",
    "    fig.show()\n"
   ]
  },
  {
   "cell_type": "code",
   "execution_count": null,
   "metadata": {},
   "outputs": [],
   "source": []
  }
 ],
 "metadata": {
  "hide_input": false,
  "kernelspec": {
   "display_name": "Python 3",
   "language": "python",
   "name": "python3"
  },
  "language_info": {
   "codemirror_mode": {
    "name": "ipython",
    "version": 3
   },
   "file_extension": ".py",
   "mimetype": "text/x-python",
   "name": "python",
   "nbconvert_exporter": "python",
   "pygments_lexer": "ipython3",
   "version": "3.7.5"
  },
  "toc": {
   "base_numbering": 1,
   "nav_menu": {},
   "number_sections": true,
   "sideBar": true,
   "skip_h1_title": false,
   "title_cell": "Table of Contents",
   "title_sidebar": "Contents",
   "toc_cell": false,
   "toc_position": {},
   "toc_section_display": true,
   "toc_window_display": false
  },
  "varInspector": {
   "cols": {
    "lenName": "50",
    "lenType": 16,
    "lenVar": 40
   },
   "kernels_config": {
    "python": {
     "delete_cmd_postfix": "",
     "delete_cmd_prefix": "del ",
     "library": "var_list.py",
     "varRefreshCmd": "print(var_dic_list())"
    },
    "r": {
     "delete_cmd_postfix": ") ",
     "delete_cmd_prefix": "rm(",
     "library": "var_list.r",
     "varRefreshCmd": "cat(var_dic_list()) "
    }
   },
   "types_to_exclude": [
    "module",
    "function",
    "builtin_function_or_method",
    "instance",
    "_Feature"
   ],
   "window_display": false
  }
 },
 "nbformat": 4,
 "nbformat_minor": 4
}
