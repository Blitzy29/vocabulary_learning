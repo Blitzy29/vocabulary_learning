{
 "cells": [
  {
   "cell_type": "code",
   "execution_count": 1,
   "metadata": {
    "ExecuteTime": {
     "end_time": "2020-10-16T19:34:11.843233Z",
     "start_time": "2020-10-16T19:34:11.689896Z"
    }
   },
   "outputs": [
    {
     "name": "stdout",
     "output_type": "stream",
     "text": [
      "/Users/admin/Projects/vocabulary_learning/notebooks\n",
      "/Users/admin/Projects/vocabulary_learning\n"
     ]
    },
    {
     "data": {
      "application/javascript": [
       "\n",
       "            setTimeout(function() {\n",
       "                var nbb_cell_id = 1;\n",
       "                var nbb_unformatted_code = \"%load_ext nb_black\\n%load_ext autoreload\\n%autoreload 2\\n\\nimport os\\n\\nprint(os.getcwd())\\n\\n\\ndef update_working_directory():\\n    from pathlib import Path\\n\\n    p = Path(os.getcwd()).parents[0]\\n    os.chdir(p)\\n    print(p)\\n\\n\\nupdate_working_directory()\";\n",
       "                var nbb_formatted_code = \"%load_ext nb_black\\n%load_ext autoreload\\n%autoreload 2\\n\\nimport os\\n\\nprint(os.getcwd())\\n\\n\\ndef update_working_directory():\\n    from pathlib import Path\\n\\n    p = Path(os.getcwd()).parents[0]\\n    os.chdir(p)\\n    print(p)\\n\\n\\nupdate_working_directory()\";\n",
       "                var nbb_cells = Jupyter.notebook.get_cells();\n",
       "                for (var i = 0; i < nbb_cells.length; ++i) {\n",
       "                    if (nbb_cells[i].input_prompt_number == nbb_cell_id) {\n",
       "                        if (nbb_cells[i].get_text() == nbb_unformatted_code) {\n",
       "                             nbb_cells[i].set_text(nbb_formatted_code);\n",
       "                        }\n",
       "                        break;\n",
       "                    }\n",
       "                }\n",
       "            }, 500);\n",
       "            "
      ],
      "text/plain": [
       "<IPython.core.display.Javascript object>"
      ]
     },
     "metadata": {},
     "output_type": "display_data"
    }
   ],
   "source": [
    "%load_ext nb_black\n",
    "%load_ext autoreload\n",
    "%autoreload 2\n",
    "\n",
    "import os\n",
    "\n",
    "print(os.getcwd())\n",
    "\n",
    "\n",
    "def update_working_directory():\n",
    "    from pathlib import Path\n",
    "\n",
    "    p = Path(os.getcwd()).parents[0]\n",
    "    os.chdir(p)\n",
    "    print(p)\n",
    "\n",
    "\n",
    "update_working_directory()"
   ]
  },
  {
   "cell_type": "code",
   "execution_count": 2,
   "metadata": {
    "ExecuteTime": {
     "end_time": "2020-10-16T19:34:12.197293Z",
     "start_time": "2020-10-16T19:34:12.179589Z"
    }
   },
   "outputs": [
    {
     "data": {
      "application/javascript": [
       "\n",
       "            setTimeout(function() {\n",
       "                var nbb_cell_id = 2;\n",
       "                var nbb_unformatted_code = \"path_dataset_train = \\\"data/raw/20201009/dataset_train.pkl\\\"\\npath_dataset_valid = \\\"data/raw/20201009/dataset_valid.pkl\\\"\";\n",
       "                var nbb_formatted_code = \"path_dataset_train = \\\"data/raw/20201009/dataset_train.pkl\\\"\\npath_dataset_valid = \\\"data/raw/20201009/dataset_valid.pkl\\\"\";\n",
       "                var nbb_cells = Jupyter.notebook.get_cells();\n",
       "                for (var i = 0; i < nbb_cells.length; ++i) {\n",
       "                    if (nbb_cells[i].input_prompt_number == nbb_cell_id) {\n",
       "                        if (nbb_cells[i].get_text() == nbb_unformatted_code) {\n",
       "                             nbb_cells[i].set_text(nbb_formatted_code);\n",
       "                        }\n",
       "                        break;\n",
       "                    }\n",
       "                }\n",
       "            }, 500);\n",
       "            "
      ],
      "text/plain": [
       "<IPython.core.display.Javascript object>"
      ]
     },
     "metadata": {},
     "output_type": "display_data"
    }
   ],
   "source": [
    "path_dataset_train = \"data/raw/20201009/dataset_train.pkl\"\n",
    "path_dataset_valid = \"data/raw/20201009/dataset_valid.pkl\""
   ]
  },
  {
   "cell_type": "markdown",
   "metadata": {},
   "source": [
    "# Import"
   ]
  },
  {
   "cell_type": "code",
   "execution_count": 3,
   "metadata": {
    "ExecuteTime": {
     "end_time": "2020-10-16T19:34:16.386115Z",
     "start_time": "2020-10-16T19:34:15.136272Z"
    }
   },
   "outputs": [
    {
     "data": {
      "application/javascript": [
       "\n",
       "            setTimeout(function() {\n",
       "                var nbb_cell_id = 3;\n",
       "                var nbb_unformatted_code = \"import dill\\nimport numpy as np\\nimport pandas as pd\\n\\npd.set_option(\\\"display.max_columns\\\", None)\\n\\nimport plotly.graph_objects as go\\nimport matplotlib.pyplot as plt\\nimport seaborn as sns\\n\\nfrom src.models.logistic_regression import ModelLogisticRegression\\nimport src.models.performance_metrics as performance_metrics\";\n",
       "                var nbb_formatted_code = \"import dill\\nimport numpy as np\\nimport pandas as pd\\n\\npd.set_option(\\\"display.max_columns\\\", None)\\n\\nimport plotly.graph_objects as go\\nimport matplotlib.pyplot as plt\\nimport seaborn as sns\\n\\nfrom src.models.logistic_regression import ModelLogisticRegression\\nimport src.models.performance_metrics as performance_metrics\";\n",
       "                var nbb_cells = Jupyter.notebook.get_cells();\n",
       "                for (var i = 0; i < nbb_cells.length; ++i) {\n",
       "                    if (nbb_cells[i].input_prompt_number == nbb_cell_id) {\n",
       "                        if (nbb_cells[i].get_text() == nbb_unformatted_code) {\n",
       "                             nbb_cells[i].set_text(nbb_formatted_code);\n",
       "                        }\n",
       "                        break;\n",
       "                    }\n",
       "                }\n",
       "            }, 500);\n",
       "            "
      ],
      "text/plain": [
       "<IPython.core.display.Javascript object>"
      ]
     },
     "metadata": {},
     "output_type": "display_data"
    }
   ],
   "source": [
    "import dill\n",
    "import numpy as np\n",
    "import pandas as pd\n",
    "\n",
    "pd.set_option(\"display.max_columns\", None)\n",
    "\n",
    "import plotly.graph_objects as go\n",
    "import matplotlib.pyplot as plt\n",
    "import seaborn as sns\n",
    "\n",
    "from src.models.logistic_regression import ModelLogisticRegression\n",
    "import src.models.performance_metrics as performance_metrics"
   ]
  },
  {
   "cell_type": "markdown",
   "metadata": {
    "heading_collapsed": true
   },
   "source": [
    "# Dataset"
   ]
  },
  {
   "cell_type": "code",
   "execution_count": null,
   "metadata": {
    "ExecuteTime": {
     "end_time": "2020-10-16T18:25:23.093748Z",
     "start_time": "2020-10-16T18:25:23.058586Z"
    },
    "hidden": true
   },
   "outputs": [],
   "source": [
    "with open(path_dataset_train, \"rb\") as input_file:\n",
    "    dataset_train = dill.load(input_file)"
   ]
  },
  {
   "cell_type": "markdown",
   "metadata": {
    "heading_collapsed": true
   },
   "source": [
    "# Overall"
   ]
  },
  {
   "cell_type": "code",
   "execution_count": null,
   "metadata": {
    "ExecuteTime": {
     "end_time": "2020-10-16T18:25:25.935361Z",
     "start_time": "2020-10-16T18:25:25.902574Z"
    },
    "hidden": true
   },
   "outputs": [],
   "source": [
    "model = ModelLogisticRegression()\n",
    "model.version"
   ]
  },
  {
   "cell_type": "code",
   "execution_count": null,
   "metadata": {
    "ExecuteTime": {
     "end_time": "2020-10-14T20:34:53.568611Z",
     "start_time": "2020-10-14T20:34:51.914883Z"
    },
    "hidden": true,
    "scrolled": false
   },
   "outputs": [],
   "source": [
    "dataset_train = model.preprocessing_training(dataset_train)"
   ]
  },
  {
   "cell_type": "code",
   "execution_count": null,
   "metadata": {
    "ExecuteTime": {
     "end_time": "2020-10-14T20:34:53.608291Z",
     "start_time": "2020-10-14T20:34:53.571486Z"
    },
    "hidden": true
   },
   "outputs": [],
   "source": [
    "model.train(dataset_train)"
   ]
  },
  {
   "cell_type": "code",
   "execution_count": null,
   "metadata": {
    "ExecuteTime": {
     "end_time": "2020-10-14T20:34:53.676793Z",
     "start_time": "2020-10-14T20:34:53.611595Z"
    },
    "hidden": true
   },
   "outputs": [],
   "source": [
    "model.plot_coefficients()"
   ]
  },
  {
   "cell_type": "code",
   "execution_count": null,
   "metadata": {
    "ExecuteTime": {
     "end_time": "2020-10-14T20:34:53.713138Z",
     "start_time": "2020-10-14T20:34:53.679051Z"
    },
    "hidden": true
   },
   "outputs": [],
   "source": [
    "with open(f\"models/{model.version}__model.pkl\", \"wb\") as file:\n",
    "    dill.dump(model, file)"
   ]
  },
  {
   "cell_type": "markdown",
   "metadata": {
    "heading_collapsed": true
   },
   "source": [
    "# Data Transformation"
   ]
  },
  {
   "cell_type": "code",
   "execution_count": null,
   "metadata": {
    "ExecuteTime": {
     "end_time": "2020-10-11T17:02:49.839386Z",
     "start_time": "2020-10-11T17:02:49.812626Z"
    },
    "hidden": true
   },
   "outputs": [],
   "source": [
    "vardict.keys()"
   ]
  },
  {
   "cell_type": "markdown",
   "metadata": {
    "ExecuteTime": {
     "end_time": "2020-10-11T13:10:27.839212Z",
     "start_time": "2020-10-11T13:10:27.814691Z"
    },
    "heading_collapsed": true,
    "hidden": true
   },
   "source": [
    "## Target"
   ]
  },
  {
   "cell_type": "code",
   "execution_count": null,
   "metadata": {
    "ExecuteTime": {
     "end_time": "2020-10-12T17:32:33.116599Z",
     "start_time": "2020-10-12T17:32:33.076086Z"
    },
    "hidden": true
   },
   "outputs": [],
   "source": [
    "dataset_train[model.vardict[\"target\"]].describe()"
   ]
  },
  {
   "cell_type": "markdown",
   "metadata": {
    "heading_collapsed": true,
    "hidden": true
   },
   "source": [
    "## Numerical"
   ]
  },
  {
   "cell_type": "code",
   "execution_count": null,
   "metadata": {
    "ExecuteTime": {
     "end_time": "2020-10-11T17:02:52.773417Z",
     "start_time": "2020-10-11T17:02:52.740847Z"
    },
    "hidden": true
   },
   "outputs": [],
   "source": [
    "dataset_train[vardict[\"numerical\"]].isnull().sum()"
   ]
  },
  {
   "cell_type": "code",
   "execution_count": null,
   "metadata": {
    "ExecuteTime": {
     "end_time": "2020-10-11T17:02:53.156675Z",
     "start_time": "2020-10-11T17:02:53.123280Z"
    },
    "hidden": true
   },
   "outputs": [],
   "source": [
    "def data_transform_numerical(dataset, vardict):\n",
    "\n",
    "    dataset[\"previous_levenshtein_distance_guess_answer\"].fillna(-1, inplace=True)\n",
    "    dataset[\"previous_question_time\"].fillna(-1, inplace=True)\n",
    "    dataset[\"previous_write_it_again_german\"].fillna(-1, inplace=True)\n",
    "    dataset[\"previous_write_it_again_english\"].fillna(-1, inplace=True)\n",
    "\n",
    "    return dataset, vardict"
   ]
  },
  {
   "cell_type": "markdown",
   "metadata": {
    "heading_collapsed": true,
    "hidden": true
   },
   "source": [
    "## Diff time"
   ]
  },
  {
   "cell_type": "code",
   "execution_count": null,
   "metadata": {
    "ExecuteTime": {
     "end_time": "2020-10-11T17:02:53.753200Z",
     "start_time": "2020-10-11T17:02:53.723266Z"
    },
    "hidden": true
   },
   "outputs": [],
   "source": [
    "dataset_train[vardict[\"diff_time\"]].isnull().sum()"
   ]
  },
  {
   "cell_type": "code",
   "execution_count": null,
   "metadata": {
    "ExecuteTime": {
     "end_time": "2020-10-11T17:02:53.979346Z",
     "start_time": "2020-10-11T17:02:53.939693Z"
    },
    "hidden": true
   },
   "outputs": [],
   "source": [
    "def data_transform_diff_time(dataset, vardict):\n",
    "\n",
    "    dataset[\"days_since_last_occurrence_same_language\"].fillna(-1, inplace=True)\n",
    "    dataset[\"days_since_last_occurrence_any_language\"].fillna(-1, inplace=True)\n",
    "    dataset[\"days_since_last_success_same_language\"].fillna(-1, inplace=True)\n",
    "    dataset[\"days_since_last_success_any_language\"].fillna(-1, inplace=True)\n",
    "    dataset[\"days_since_first_occur_same_language\"].fillna(-1, inplace=True)\n",
    "    dataset[\"days_since_first_occur_any_language\"].fillna(-1, inplace=True)\n",
    "\n",
    "    return dataset, vardict"
   ]
  },
  {
   "cell_type": "markdown",
   "metadata": {
    "heading_collapsed": true,
    "hidden": true
   },
   "source": [
    "## Boolean"
   ]
  },
  {
   "cell_type": "code",
   "execution_count": null,
   "metadata": {
    "ExecuteTime": {
     "end_time": "2020-10-11T17:02:54.432723Z",
     "start_time": "2020-10-11T17:02:54.386343Z"
    },
    "hidden": true
   },
   "outputs": [],
   "source": [
    "dataset_train[vardict[\"boolean\"]]"
   ]
  },
  {
   "cell_type": "code",
   "execution_count": null,
   "metadata": {
    "ExecuteTime": {
     "end_time": "2020-10-11T17:02:54.663105Z",
     "start_time": "2020-10-11T17:02:54.620372Z"
    },
    "hidden": true
   },
   "outputs": [],
   "source": [
    "def data_transform_boolean(dataset, vardict):\n",
    "\n",
    "    # Transform to dummies\n",
    "\n",
    "    vardict[\"dummy_boolean\"] = []\n",
    "\n",
    "    for i_var_boolean in vardict[\"boolean\"]:\n",
    "\n",
    "        # possible improvement: pandas.get_dummies(drop_first=False)\n",
    "        i_dummy_boolean = pd.get_dummies(\n",
    "            dataset[i_var_boolean],\n",
    "            prefix=i_var_boolean,\n",
    "            prefix_sep=\"__\",\n",
    "            dummy_na=True,\n",
    "        )\n",
    "\n",
    "        del dataset_train[i_var_boolean]\n",
    "\n",
    "        vardict[\"dummy_boolean\"] = (\n",
    "            vardict[\"dummy_boolean\"] + i_dummy_boolean.columns.tolist()\n",
    "        )\n",
    "\n",
    "        dataset = pd.concat([dataset, i_dummy_boolean], axis=1)\n",
    "\n",
    "    dataset[vardict[\"dummy_boolean\"]].describe()\n",
    "\n",
    "    return dataset, vardict"
   ]
  },
  {
   "cell_type": "markdown",
   "metadata": {
    "heading_collapsed": true,
    "hidden": true
   },
   "source": [
    "## Categorical"
   ]
  },
  {
   "cell_type": "code",
   "execution_count": null,
   "metadata": {
    "ExecuteTime": {
     "end_time": "2020-10-12T19:39:30.055307Z",
     "start_time": "2020-10-12T19:39:30.014903Z"
    },
    "hidden": true
   },
   "outputs": [],
   "source": [
    "dataset_train[model.vardict[\"categorical\"]][\"previous_language_asked\"].value_counts()"
   ]
  },
  {
   "cell_type": "code",
   "execution_count": null,
   "metadata": {
    "ExecuteTime": {
     "end_time": "2020-10-11T17:02:55.478496Z",
     "start_time": "2020-10-11T17:02:55.436558Z"
    },
    "hidden": true
   },
   "outputs": [],
   "source": [
    "def data_transform_categorical(dataset, vardict):\n",
    "\n",
    "    # Transform to dummies\n",
    "\n",
    "    vardict[\"dummy_categorical\"] = []\n",
    "\n",
    "    for i_var_categorical in vardict[\"categorical\"]:\n",
    "\n",
    "        # possible improvement: pandas.get_dummies(drop_first=False)\n",
    "        i_dummy_categorical = pd.get_dummies(\n",
    "            dataset[i_var_categorical],\n",
    "            prefix=i_var_categorical,\n",
    "            prefix_sep=\"__\",\n",
    "            dummy_na=True,\n",
    "        )\n",
    "\n",
    "        del dataset[i_var_categorical]\n",
    "\n",
    "        vardict[\"dummy_categorical\"] = (\n",
    "            vardict[\"dummy_categorical\"] + i_dummy_categorical.columns.tolist()\n",
    "        )\n",
    "\n",
    "        dataset = pd.concat([dataset, i_dummy_categorical], axis=1)\n",
    "\n",
    "    return dataset, vardict"
   ]
  },
  {
   "cell_type": "markdown",
   "metadata": {
    "hidden": true
   },
   "source": [
    "## Overall"
   ]
  },
  {
   "cell_type": "code",
   "execution_count": null,
   "metadata": {
    "ExecuteTime": {
     "end_time": "2020-10-11T17:02:56.276405Z",
     "start_time": "2020-10-11T17:02:56.124608Z"
    },
    "hidden": true
   },
   "outputs": [],
   "source": [
    "dataset_train, vardict = data_transform_numerical(dataset_train, vardict)\n",
    "dataset_train, vardict = data_transform_diff_time(dataset_train, vardict)\n",
    "dataset_train, vardict = data_transform_boolean(dataset_train, vardict)\n",
    "dataset_train, vardict = data_transform_categorical(dataset_train, vardict)"
   ]
  },
  {
   "cell_type": "markdown",
   "metadata": {
    "hidden": true
   },
   "source": [
    "### vardict"
   ]
  },
  {
   "cell_type": "code",
   "execution_count": null,
   "metadata": {
    "ExecuteTime": {
     "end_time": "2020-10-11T17:02:59.127547Z",
     "start_time": "2020-10-11T17:02:59.098302Z"
    },
    "hidden": true
   },
   "outputs": [],
   "source": [
    "vardict[\"all\"] = (\n",
    "    vardict[\"numerical\"]\n",
    "    + vardict[\"diff_time\"]\n",
    "    + vardict[\"dummy_boolean\"]\n",
    "    + vardict[\"dummy_categorical\"]\n",
    ")"
   ]
  },
  {
   "cell_type": "markdown",
   "metadata": {
    "heading_collapsed": true
   },
   "source": [
    "# 1st model"
   ]
  },
  {
   "cell_type": "code",
   "execution_count": null,
   "metadata": {
    "ExecuteTime": {
     "end_time": "2020-10-12T19:55:11.203017Z",
     "start_time": "2020-10-12T19:55:11.175542Z"
    },
    "hidden": true
   },
   "outputs": [],
   "source": [
    "model = ModelLogisticRegression()\n",
    "model.version"
   ]
  },
  {
   "cell_type": "code",
   "execution_count": null,
   "metadata": {
    "ExecuteTime": {
     "end_time": "2020-10-12T19:55:12.103179Z",
     "start_time": "2020-10-12T19:55:12.031960Z"
    },
    "hidden": true,
    "scrolled": false
   },
   "outputs": [],
   "source": [
    "dataset_train = model.preprocessing_training(dataset_train)"
   ]
  },
  {
   "cell_type": "code",
   "execution_count": null,
   "metadata": {
    "ExecuteTime": {
     "end_time": "2020-10-12T19:59:19.248437Z",
     "start_time": "2020-10-12T19:59:19.220464Z"
    },
    "hidden": true
   },
   "outputs": [],
   "source": [
    "dataset = dataset_train.copy()"
   ]
  },
  {
   "cell_type": "code",
   "execution_count": null,
   "metadata": {
    "ExecuteTime": {
     "end_time": "2020-10-12T19:59:19.848646Z",
     "start_time": "2020-10-12T19:59:19.820131Z"
    },
    "hidden": true
   },
   "outputs": [],
   "source": [
    "X_train = dataset[model.vardict[\"into_model\"]]\n",
    "y_train = dataset[model.vardict[\"target\"]]"
   ]
  },
  {
   "cell_type": "code",
   "execution_count": null,
   "metadata": {
    "ExecuteTime": {
     "end_time": "2020-10-12T19:59:26.685660Z",
     "start_time": "2020-10-12T19:59:26.659452Z"
    },
    "hidden": true
   },
   "outputs": [],
   "source": [
    "from sklearn.pipeline import Pipeline\n",
    "from sklearn.model_selection import GridSearchCV"
   ]
  },
  {
   "cell_type": "code",
   "execution_count": null,
   "metadata": {
    "ExecuteTime": {
     "end_time": "2020-10-12T19:59:26.715755Z",
     "start_time": "2020-10-12T19:59:26.688080Z"
    },
    "hidden": true
   },
   "outputs": [],
   "source": [
    "from sklearn.linear_model import LogisticRegression\n",
    "\n",
    "logistic_Reg = LogisticRegression(solver=\"liblinear\")"
   ]
  },
  {
   "cell_type": "code",
   "execution_count": null,
   "metadata": {
    "ExecuteTime": {
     "end_time": "2020-10-12T19:59:26.755267Z",
     "start_time": "2020-10-12T19:59:26.718727Z"
    },
    "hidden": true
   },
   "outputs": [],
   "source": [
    "pipe = Pipeline(steps=[(\"logistic_Reg\", logistic_Reg)])"
   ]
  },
  {
   "cell_type": "code",
   "execution_count": null,
   "metadata": {
    "ExecuteTime": {
     "end_time": "2020-10-12T19:59:26.793612Z",
     "start_time": "2020-10-12T19:59:26.758943Z"
    },
    "hidden": true
   },
   "outputs": [],
   "source": [
    "C = np.logspace(-4, 4, 50)\n",
    "penalty = [\"l1\", \"l2\"]"
   ]
  },
  {
   "cell_type": "code",
   "execution_count": null,
   "metadata": {
    "ExecuteTime": {
     "end_time": "2020-10-12T19:59:26.826758Z",
     "start_time": "2020-10-12T19:59:26.795894Z"
    },
    "hidden": true
   },
   "outputs": [],
   "source": [
    "parameters = dict(logistic_Reg__C=C, logistic_Reg__penalty=penalty)"
   ]
  },
  {
   "cell_type": "code",
   "execution_count": null,
   "metadata": {
    "ExecuteTime": {
     "end_time": "2020-10-12T19:59:30.029367Z",
     "start_time": "2020-10-12T19:59:26.829677Z"
    },
    "hidden": true
   },
   "outputs": [],
   "source": [
    "clf_GS = GridSearchCV(pipe, parameters)\n",
    "clf_GS.fit(X_train, y_train)"
   ]
  },
  {
   "cell_type": "code",
   "execution_count": null,
   "metadata": {
    "ExecuteTime": {
     "end_time": "2020-10-12T20:00:16.865092Z",
     "start_time": "2020-10-12T20:00:16.830149Z"
    },
    "hidden": true
   },
   "outputs": [],
   "source": [
    "print(\"Best Penalty:\", clf_GS.best_estimator_.get_params()[\"logistic_Reg__penalty\"])\n",
    "print(\"Best C:\", clf_GS.best_estimator_.get_params()[\"logistic_Reg__C\"])\n",
    "print()\n",
    "print(clf_GS.best_estimator_.get_params()[\"logistic_Reg\"])"
   ]
  },
  {
   "cell_type": "code",
   "execution_count": null,
   "metadata": {
    "hidden": true
   },
   "outputs": [],
   "source": []
  },
  {
   "cell_type": "code",
   "execution_count": null,
   "metadata": {
    "hidden": true
   },
   "outputs": [],
   "source": []
  },
  {
   "cell_type": "code",
   "execution_count": null,
   "metadata": {
    "hidden": true
   },
   "outputs": [],
   "source": []
  },
  {
   "cell_type": "code",
   "execution_count": null,
   "metadata": {
    "ExecuteTime": {
     "end_time": "2020-10-12T18:00:21.679514Z",
     "start_time": "2020-10-12T18:00:21.608980Z"
    },
    "hidden": true
   },
   "outputs": [],
   "source": [
    "os = SMOTE(random_state=0)\n",
    "X_train = dataset[model.vardict[\"all\"]]\n",
    "y_train = dataset[[model.vardict[\"target\"]]]\n",
    "X_train_os, y_train_os_series = os.fit_sample(X_train, y_train)\n",
    "y_train_os = pd.DataFrame()\n",
    "y_train_os[model.vardict[\"target\"]] = y_train_os_series\n",
    "dataset = pd.concat([X_train_os, y_train_os], axis=1)\n"
   ]
  },
  {
   "cell_type": "code",
   "execution_count": null,
   "metadata": {
    "ExecuteTime": {
     "end_time": "2020-10-12T18:00:27.075614Z",
     "start_time": "2020-10-12T18:00:27.041900Z"
    },
    "hidden": true
   },
   "outputs": [],
   "source": [
    "y_train_os_series"
   ]
  },
  {
   "cell_type": "code",
   "execution_count": null,
   "metadata": {
    "ExecuteTime": {
     "end_time": "2020-10-12T17:50:48.740332Z",
     "start_time": "2020-10-12T17:50:48.712583Z"
    },
    "hidden": true
   },
   "outputs": [],
   "source": [
    "from imblearn.over_sampling import SMOTE"
   ]
  },
  {
   "cell_type": "code",
   "execution_count": null,
   "metadata": {
    "ExecuteTime": {
     "end_time": "2020-10-12T17:50:49.110999Z",
     "start_time": "2020-10-12T17:50:49.083780Z"
    },
    "hidden": true
   },
   "outputs": [],
   "source": [
    "os = SMOTE(random_state=0)"
   ]
  },
  {
   "cell_type": "code",
   "execution_count": null,
   "metadata": {
    "ExecuteTime": {
     "end_time": "2020-10-12T17:50:49.737582Z",
     "start_time": "2020-10-12T17:50:49.709786Z"
    },
    "hidden": true
   },
   "outputs": [],
   "source": [
    "len(X_train)"
   ]
  },
  {
   "cell_type": "code",
   "execution_count": null,
   "metadata": {
    "ExecuteTime": {
     "end_time": "2020-10-12T17:53:40.715729Z",
     "start_time": "2020-10-12T17:53:40.682717Z"
    },
    "hidden": true
   },
   "outputs": [],
   "source": [
    "X_train_os, y_train_os = os.fit_sample(X_train, y_train)"
   ]
  },
  {
   "cell_type": "code",
   "execution_count": null,
   "metadata": {
    "ExecuteTime": {
     "end_time": "2020-10-12T17:53:47.869663Z",
     "start_time": "2020-10-12T17:53:47.841094Z"
    },
    "hidden": true
   },
   "outputs": [],
   "source": [
    "y_train_os"
   ]
  },
  {
   "cell_type": "code",
   "execution_count": null,
   "metadata": {
    "ExecuteTime": {
     "end_time": "2020-10-12T17:53:41.359527Z",
     "start_time": "2020-10-12T17:53:41.329232Z"
    },
    "hidden": true
   },
   "outputs": [],
   "source": [
    "dataset_test2 = pd.concat([X_train_os, y_train_os], axis=0)"
   ]
  },
  {
   "cell_type": "code",
   "execution_count": null,
   "metadata": {
    "ExecuteTime": {
     "end_time": "2020-10-12T17:53:41.669710Z",
     "start_time": "2020-10-12T17:53:41.626946Z"
    },
    "hidden": true
   },
   "outputs": [],
   "source": [
    "dataset_test2"
   ]
  },
  {
   "cell_type": "code",
   "execution_count": null,
   "metadata": {
    "ExecuteTime": {
     "end_time": "2020-10-12T17:51:03.494278Z",
     "start_time": "2020-10-12T17:51:03.466682Z"
    },
    "hidden": true
   },
   "outputs": [],
   "source": [
    "len(X_train_os)"
   ]
  },
  {
   "cell_type": "code",
   "execution_count": null,
   "metadata": {
    "ExecuteTime": {
     "end_time": "2020-10-12T17:51:03.767073Z",
     "start_time": "2020-10-12T17:51:03.736845Z"
    },
    "hidden": true
   },
   "outputs": [],
   "source": [
    "y_train_os"
   ]
  },
  {
   "cell_type": "code",
   "execution_count": null,
   "metadata": {
    "ExecuteTime": {
     "end_time": "2020-10-12T17:46:44.244511Z",
     "start_time": "2020-10-12T17:46:44.212831Z"
    },
    "hidden": true
   },
   "outputs": [],
   "source": [
    "os_data_X = pd.DataFrame(data=X_train_os, columns=X_train.columns)\n",
    "os_data_y = pd.DataFrame()\n",
    "os_data_y[\"y\"] = y_train_os"
   ]
  },
  {
   "cell_type": "code",
   "execution_count": null,
   "metadata": {
    "ExecuteTime": {
     "end_time": "2020-10-12T17:46:45.142814Z",
     "start_time": "2020-10-12T17:46:45.109458Z"
    },
    "hidden": true
   },
   "outputs": [],
   "source": [
    "os_data_y"
   ]
  },
  {
   "cell_type": "code",
   "execution_count": null,
   "metadata": {
    "ExecuteTime": {
     "end_time": "2020-10-12T17:46:47.756034Z",
     "start_time": "2020-10-12T17:46:47.706597Z"
    },
    "hidden": true
   },
   "outputs": [],
   "source": [
    "# we can Check the numbers of our data\n",
    "print(\"length of oversampled data is \", len(os_data_X))\n",
    "print(\n",
    "    \"Number of no subscription in oversampled data\", len(os_data_y[os_data_y[\"y\"] == 0])\n",
    ")\n",
    "print(\"Number of subscription\", len(os_data_y[os_data_y[\"y\"] == 1]))\n",
    "print(\n",
    "    \"Proportion of no subscription data in oversampled data is \",\n",
    "    len(os_data_y[os_data_y[\"y\"] == 0]) / len(os_data_X),\n",
    ")\n",
    "print(\n",
    "    \"Proportion of subscription data in oversampled data is \",\n",
    "    len(os_data_y[os_data_y[\"y\"] == 1]) / len(os_data_X),\n",
    ")"
   ]
  },
  {
   "cell_type": "code",
   "execution_count": null,
   "metadata": {
    "hidden": true
   },
   "outputs": [],
   "source": []
  },
  {
   "cell_type": "code",
   "execution_count": null,
   "metadata": {
    "ExecuteTime": {
     "end_time": "2020-10-11T17:03:03.424047Z",
     "start_time": "2020-10-11T17:03:03.347182Z"
    },
    "hidden": true
   },
   "outputs": [],
   "source": [
    "X_train"
   ]
  },
  {
   "cell_type": "code",
   "execution_count": null,
   "metadata": {
    "ExecuteTime": {
     "end_time": "2020-10-11T17:03:03.887392Z",
     "start_time": "2020-10-11T17:03:03.859741Z"
    },
    "hidden": true
   },
   "outputs": [],
   "source": [
    "y_train"
   ]
  },
  {
   "cell_type": "code",
   "execution_count": null,
   "metadata": {
    "ExecuteTime": {
     "end_time": "2020-10-11T17:03:04.371754Z",
     "start_time": "2020-10-11T17:03:04.347071Z"
    },
    "hidden": true
   },
   "outputs": [],
   "source": [
    "model = LogisticRegression(random_state=0)"
   ]
  },
  {
   "cell_type": "code",
   "execution_count": null,
   "metadata": {
    "ExecuteTime": {
     "end_time": "2020-10-11T17:03:05.159876Z",
     "start_time": "2020-10-11T17:03:05.091955Z"
    },
    "hidden": true
   },
   "outputs": [],
   "source": [
    "model.fit(X_train, y_train)"
   ]
  },
  {
   "cell_type": "code",
   "execution_count": null,
   "metadata": {
    "ExecuteTime": {
     "end_time": "2020-10-11T17:03:06.957782Z",
     "start_time": "2020-10-11T17:03:06.922883Z"
    },
    "hidden": true
   },
   "outputs": [],
   "source": [
    "with open(f\"data/processed/{model_name}_model.pkl\", \"wb\") as file:\n",
    "    dill.dump(model, file)\n",
    "\n",
    "with open(f\"data/processed/{model_name}_vardict.pkl\", \"wb\") as file:\n",
    "    dill.dump(vardict, file)"
   ]
  },
  {
   "cell_type": "code",
   "execution_count": null,
   "metadata": {
    "hidden": true
   },
   "outputs": [],
   "source": []
  },
  {
   "cell_type": "markdown",
   "metadata": {
    "heading_collapsed": true
   },
   "source": [
    "# Validation results"
   ]
  },
  {
   "cell_type": "code",
   "execution_count": null,
   "metadata": {
    "ExecuteTime": {
     "end_time": "2020-10-14T20:01:10.612756Z",
     "start_time": "2020-10-14T20:01:10.575150Z"
    },
    "hidden": true
   },
   "outputs": [],
   "source": [
    "with open(path_dataset_valid, \"rb\") as input_file:\n",
    "    dataset_valid = dill.load(input_file)\n",
    "y_valid = dataset_valid[model.vardict[\"target\"]].copy()"
   ]
  },
  {
   "cell_type": "code",
   "execution_count": null,
   "metadata": {
    "ExecuteTime": {
     "end_time": "2020-10-14T20:01:13.413908Z",
     "start_time": "2020-10-14T20:01:13.351568Z"
    },
    "hidden": true
   },
   "outputs": [],
   "source": [
    "dataset_valid = model.preprocessing_inference(dataset_valid)"
   ]
  },
  {
   "cell_type": "code",
   "execution_count": null,
   "metadata": {
    "ExecuteTime": {
     "end_time": "2020-10-14T20:01:15.116451Z",
     "start_time": "2020-10-14T20:01:15.078335Z"
    },
    "hidden": true
   },
   "outputs": [],
   "source": [
    "predictions = model.predict(dataset=dataset_valid, target_present=False)"
   ]
  },
  {
   "cell_type": "code",
   "execution_count": null,
   "metadata": {
    "ExecuteTime": {
     "end_time": "2020-10-14T20:01:19.782164Z",
     "start_time": "2020-10-14T20:01:19.750719Z"
    },
    "hidden": true
   },
   "outputs": [],
   "source": [
    "predictions[\"y_true\"] = y_valid.values.tolist()"
   ]
  },
  {
   "cell_type": "code",
   "execution_count": null,
   "metadata": {
    "ExecuteTime": {
     "end_time": "2020-10-14T20:01:21.480586Z",
     "start_time": "2020-10-14T20:01:21.428585Z"
    },
    "hidden": true
   },
   "outputs": [],
   "source": [
    "predictions"
   ]
  },
  {
   "cell_type": "code",
   "execution_count": null,
   "metadata": {
    "ExecuteTime": {
     "end_time": "2020-10-14T20:01:28.854284Z",
     "start_time": "2020-10-14T20:01:28.806726Z"
    },
    "hidden": true
   },
   "outputs": [],
   "source": [
    "binary_classification_results = performance_metrics.get_binary_classification_results(\n",
    "    predictions, model_name=f\"{model.version}_valid\"\n",
    ")\n",
    "\n",
    "binary_classification_results"
   ]
  },
  {
   "cell_type": "code",
   "execution_count": null,
   "metadata": {
    "ExecuteTime": {
     "end_time": "2020-10-14T20:01:31.816527Z",
     "start_time": "2020-10-14T20:01:31.773343Z"
    },
    "hidden": true
   },
   "outputs": [],
   "source": [
    "regression_results = performance_metrics.get_regression_results(\n",
    "    predictions, model_name=f\"{model.version}_valid\"\n",
    ")\n",
    "\n",
    "regression_results"
   ]
  },
  {
   "cell_type": "code",
   "execution_count": null,
   "metadata": {
    "ExecuteTime": {
     "end_time": "2020-10-14T20:01:33.199874Z",
     "start_time": "2020-10-14T20:01:33.129363Z"
    },
    "hidden": true
   },
   "outputs": [],
   "source": [
    "performance_metrics.plot_roc_auc_curve(predictions, model_name=f\"{model.version}_valid\")"
   ]
  },
  {
   "cell_type": "code",
   "execution_count": null,
   "metadata": {
    "ExecuteTime": {
     "end_time": "2020-10-14T20:01:35.417009Z",
     "start_time": "2020-10-14T20:01:35.351682Z"
    },
    "hidden": true
   },
   "outputs": [],
   "source": [
    "performance_metrics.plot_precision_recall_curve(\n",
    "    predictions, binary_classification_results, model_name=f\"{model.version}_valid\"\n",
    ")"
   ]
  },
  {
   "cell_type": "code",
   "execution_count": null,
   "metadata": {
    "ExecuteTime": {
     "end_time": "2020-10-14T20:03:26.467011Z",
     "start_time": "2020-10-14T20:03:26.390710Z"
    },
    "hidden": true
   },
   "outputs": [],
   "source": [
    "performance_metrics.plot_predictions(predictions, model_name=f\"{model.version}_valid\")"
   ]
  },
  {
   "cell_type": "markdown",
   "metadata": {},
   "source": [
    "# Hyperparameters search"
   ]
  },
  {
   "cell_type": "code",
   "execution_count": 4,
   "metadata": {
    "ExecuteTime": {
     "end_time": "2020-10-16T19:34:39.540692Z",
     "start_time": "2020-10-16T19:34:39.511126Z"
    }
   },
   "outputs": [
    {
     "data": {
      "application/javascript": [
       "\n",
       "            setTimeout(function() {\n",
       "                var nbb_cell_id = 4;\n",
       "                var nbb_unformatted_code = \"from sklearn.pipeline import Pipeline\\nfrom sklearn.model_selection import GridSearchCV\";\n",
       "                var nbb_formatted_code = \"from sklearn.pipeline import Pipeline\\nfrom sklearn.model_selection import GridSearchCV\";\n",
       "                var nbb_cells = Jupyter.notebook.get_cells();\n",
       "                for (var i = 0; i < nbb_cells.length; ++i) {\n",
       "                    if (nbb_cells[i].input_prompt_number == nbb_cell_id) {\n",
       "                        if (nbb_cells[i].get_text() == nbb_unformatted_code) {\n",
       "                             nbb_cells[i].set_text(nbb_formatted_code);\n",
       "                        }\n",
       "                        break;\n",
       "                    }\n",
       "                }\n",
       "            }, 500);\n",
       "            "
      ],
      "text/plain": [
       "<IPython.core.display.Javascript object>"
      ]
     },
     "metadata": {},
     "output_type": "display_data"
    }
   ],
   "source": [
    "from sklearn.pipeline import Pipeline\n",
    "from sklearn.model_selection import GridSearchCV"
   ]
  },
  {
   "cell_type": "code",
   "execution_count": 5,
   "metadata": {
    "ExecuteTime": {
     "end_time": "2020-10-16T19:34:40.431254Z",
     "start_time": "2020-10-16T19:34:40.398952Z"
    }
   },
   "outputs": [
    {
     "data": {
      "application/javascript": [
       "\n",
       "            setTimeout(function() {\n",
       "                var nbb_cell_id = 5;\n",
       "                var nbb_unformatted_code = \"from imblearn.over_sampling import SMOTE\\nfrom sklearn.decomposition import PCA\\nfrom sklearn.feature_selection import RFE\\nfrom sklearn.preprocessing import StandardScaler\\n\\nfrom sklearn.linear_model import LogisticRegression\";\n",
       "                var nbb_formatted_code = \"from imblearn.over_sampling import SMOTE\\nfrom sklearn.decomposition import PCA\\nfrom sklearn.feature_selection import RFE\\nfrom sklearn.preprocessing import StandardScaler\\n\\nfrom sklearn.linear_model import LogisticRegression\";\n",
       "                var nbb_cells = Jupyter.notebook.get_cells();\n",
       "                for (var i = 0; i < nbb_cells.length; ++i) {\n",
       "                    if (nbb_cells[i].input_prompt_number == nbb_cell_id) {\n",
       "                        if (nbb_cells[i].get_text() == nbb_unformatted_code) {\n",
       "                             nbb_cells[i].set_text(nbb_formatted_code);\n",
       "                        }\n",
       "                        break;\n",
       "                    }\n",
       "                }\n",
       "            }, 500);\n",
       "            "
      ],
      "text/plain": [
       "<IPython.core.display.Javascript object>"
      ]
     },
     "metadata": {},
     "output_type": "display_data"
    }
   ],
   "source": [
    "from imblearn.over_sampling import SMOTE\n",
    "from sklearn.decomposition import PCA\n",
    "from sklearn.feature_selection import RFE\n",
    "from sklearn.preprocessing import StandardScaler\n",
    "\n",
    "from sklearn.linear_model import LogisticRegression"
   ]
  },
  {
   "cell_type": "code",
   "execution_count": 6,
   "metadata": {
    "ExecuteTime": {
     "end_time": "2020-10-16T19:34:42.151356Z",
     "start_time": "2020-10-16T19:34:42.118220Z"
    }
   },
   "outputs": [
    {
     "data": {
      "application/javascript": [
       "\n",
       "            setTimeout(function() {\n",
       "                var nbb_cell_id = 6;\n",
       "                var nbb_unformatted_code = \"with open(path_dataset_train, \\\"rb\\\") as input_file:\\n    dataset_train = dill.load(input_file)\";\n",
       "                var nbb_formatted_code = \"with open(path_dataset_train, \\\"rb\\\") as input_file:\\n    dataset_train = dill.load(input_file)\";\n",
       "                var nbb_cells = Jupyter.notebook.get_cells();\n",
       "                for (var i = 0; i < nbb_cells.length; ++i) {\n",
       "                    if (nbb_cells[i].input_prompt_number == nbb_cell_id) {\n",
       "                        if (nbb_cells[i].get_text() == nbb_unformatted_code) {\n",
       "                             nbb_cells[i].set_text(nbb_formatted_code);\n",
       "                        }\n",
       "                        break;\n",
       "                    }\n",
       "                }\n",
       "            }, 500);\n",
       "            "
      ],
      "text/plain": [
       "<IPython.core.display.Javascript object>"
      ]
     },
     "metadata": {},
     "output_type": "display_data"
    }
   ],
   "source": [
    "with open(path_dataset_train, \"rb\") as input_file:\n",
    "    dataset_train = dill.load(input_file)"
   ]
  },
  {
   "cell_type": "code",
   "execution_count": 7,
   "metadata": {
    "ExecuteTime": {
     "end_time": "2020-10-16T19:35:06.493009Z",
     "start_time": "2020-10-16T19:35:06.462002Z"
    }
   },
   "outputs": [
    {
     "data": {
      "text/plain": [
       "'logistic_regression_mle__20201016'"
      ]
     },
     "execution_count": 7,
     "metadata": {},
     "output_type": "execute_result"
    },
    {
     "data": {
      "application/javascript": [
       "\n",
       "            setTimeout(function() {\n",
       "                var nbb_cell_id = 7;\n",
       "                var nbb_unformatted_code = \"model = ModelLogisticRegression()\\nmodel.version\";\n",
       "                var nbb_formatted_code = \"model = ModelLogisticRegression()\\nmodel.version\";\n",
       "                var nbb_cells = Jupyter.notebook.get_cells();\n",
       "                for (var i = 0; i < nbb_cells.length; ++i) {\n",
       "                    if (nbb_cells[i].input_prompt_number == nbb_cell_id) {\n",
       "                        if (nbb_cells[i].get_text() == nbb_unformatted_code) {\n",
       "                             nbb_cells[i].set_text(nbb_formatted_code);\n",
       "                        }\n",
       "                        break;\n",
       "                    }\n",
       "                }\n",
       "            }, 500);\n",
       "            "
      ],
      "text/plain": [
       "<IPython.core.display.Javascript object>"
      ]
     },
     "metadata": {},
     "output_type": "display_data"
    }
   ],
   "source": [
    "model = ModelLogisticRegression()\n",
    "model.version"
   ]
  },
  {
   "cell_type": "code",
   "execution_count": 67,
   "metadata": {
    "ExecuteTime": {
     "end_time": "2020-10-16T21:40:06.273559Z",
     "start_time": "2020-10-16T21:40:06.239332Z"
    }
   },
   "outputs": [
    {
     "data": {
      "application/javascript": [
       "\n",
       "            setTimeout(function() {\n",
       "                var nbb_cell_id = 67;\n",
       "                var nbb_unformatted_code = \"scaler = StandardScaler()\\ndimension_reduction = PCA()\\nmodel_logistic_regression = LogisticRegression()\\nfeature_selection = RFE(estimator=LogisticRegression())\";\n",
       "                var nbb_formatted_code = \"scaler = StandardScaler()\\ndimension_reduction = PCA()\\nmodel_logistic_regression = LogisticRegression()\\nfeature_selection = RFE(estimator=LogisticRegression())\";\n",
       "                var nbb_cells = Jupyter.notebook.get_cells();\n",
       "                for (var i = 0; i < nbb_cells.length; ++i) {\n",
       "                    if (nbb_cells[i].input_prompt_number == nbb_cell_id) {\n",
       "                        if (nbb_cells[i].get_text() == nbb_unformatted_code) {\n",
       "                             nbb_cells[i].set_text(nbb_formatted_code);\n",
       "                        }\n",
       "                        break;\n",
       "                    }\n",
       "                }\n",
       "            }, 500);\n",
       "            "
      ],
      "text/plain": [
       "<IPython.core.display.Javascript object>"
      ]
     },
     "metadata": {},
     "output_type": "display_data"
    }
   ],
   "source": [
    "scaler = StandardScaler()\n",
    "dimension_reduction = PCA()\n",
    "model_logistic_regression = LogisticRegression()\n",
    "feature_selection = RFE(estimator=LogisticRegression())"
   ]
  },
  {
   "cell_type": "markdown",
   "metadata": {},
   "source": [
    "## 1st part preprocessing - fix"
   ]
  },
  {
   "cell_type": "code",
   "execution_count": 9,
   "metadata": {
    "ExecuteTime": {
     "end_time": "2020-10-16T19:35:10.933794Z",
     "start_time": "2020-10-16T19:35:10.871865Z"
    }
   },
   "outputs": [
    {
     "data": {
      "application/javascript": [
       "\n",
       "            setTimeout(function() {\n",
       "                var nbb_cell_id = 9;\n",
       "                var nbb_unformatted_code = \"dataset_train = model.preprocessing_training_numerical(dataset_train)\\ndataset_train = model.preprocessing_training_diff_time(dataset_train)\\ndataset_train = model.preprocessing_training_boolean(dataset_train)\\ndataset_train = model.preprocessing_training_categorical(dataset_train)\\n\\nmodel.vardict[\\\"preprocessed\\\"] = (\\n        model.vardict[\\\"numerical\\\"]\\n        + model.vardict[\\\"diff_time\\\"]\\n        + model.vardict[\\\"dummy_boolean\\\"]\\n        + model.vardict[\\\"dummy_categorical\\\"]\\n)\\n\\nX_train = dataset_train[model.vardict[\\\"preprocessed\\\"]]\\ny_train = dataset_train[[model.vardict[\\\"target\\\"]]]\";\n",
       "                var nbb_formatted_code = \"dataset_train = model.preprocessing_training_numerical(dataset_train)\\ndataset_train = model.preprocessing_training_diff_time(dataset_train)\\ndataset_train = model.preprocessing_training_boolean(dataset_train)\\ndataset_train = model.preprocessing_training_categorical(dataset_train)\\n\\nmodel.vardict[\\\"preprocessed\\\"] = (\\n    model.vardict[\\\"numerical\\\"]\\n    + model.vardict[\\\"diff_time\\\"]\\n    + model.vardict[\\\"dummy_boolean\\\"]\\n    + model.vardict[\\\"dummy_categorical\\\"]\\n)\\n\\nX_train = dataset_train[model.vardict[\\\"preprocessed\\\"]]\\ny_train = dataset_train[[model.vardict[\\\"target\\\"]]]\";\n",
       "                var nbb_cells = Jupyter.notebook.get_cells();\n",
       "                for (var i = 0; i < nbb_cells.length; ++i) {\n",
       "                    if (nbb_cells[i].input_prompt_number == nbb_cell_id) {\n",
       "                        if (nbb_cells[i].get_text() == nbb_unformatted_code) {\n",
       "                             nbb_cells[i].set_text(nbb_formatted_code);\n",
       "                        }\n",
       "                        break;\n",
       "                    }\n",
       "                }\n",
       "            }, 500);\n",
       "            "
      ],
      "text/plain": [
       "<IPython.core.display.Javascript object>"
      ]
     },
     "metadata": {},
     "output_type": "display_data"
    }
   ],
   "source": [
    "dataset_train = model.preprocessing_training_numerical(dataset_train)\n",
    "dataset_train = model.preprocessing_training_diff_time(dataset_train)\n",
    "dataset_train = model.preprocessing_training_boolean(dataset_train)\n",
    "dataset_train = model.preprocessing_training_categorical(dataset_train)\n",
    "\n",
    "model.vardict[\"preprocessed\"] = (\n",
    "        model.vardict[\"numerical\"]\n",
    "        + model.vardict[\"diff_time\"]\n",
    "        + model.vardict[\"dummy_boolean\"]\n",
    "        + model.vardict[\"dummy_categorical\"]\n",
    ")\n",
    "\n",
    "# SMOTE\n",
    "# dataset_train = model.apply_sampling(dataset_train)\n",
    "\n",
    "\n",
    "X_train = dataset_train[model.vardict[\"preprocessed\"]]\n",
    "y_train = dataset_train[[model.vardict[\"target\"]]]\n"
   ]
  },
  {
   "cell_type": "markdown",
   "metadata": {},
   "source": [
    "## pipeline"
   ]
  },
  {
   "cell_type": "code",
   "execution_count": 11,
   "metadata": {
    "ExecuteTime": {
     "end_time": "2020-10-16T19:35:38.081138Z",
     "start_time": "2020-10-16T19:35:38.048024Z"
    }
   },
   "outputs": [
    {
     "data": {
      "application/javascript": [
       "\n",
       "            setTimeout(function() {\n",
       "                var nbb_cell_id = 11;\n",
       "                var nbb_unformatted_code = \"pipe = Pipeline(\\n    steps=[\\n        (\\\"std_slc\\\", scaler),\\n        (\\\"pca\\\", dimension_reduction),\\n        (\\\"logistic_Reg\\\", model_logistic_regression),\\n    ]\\n)\";\n",
       "                var nbb_formatted_code = \"pipe = Pipeline(\\n    steps=[\\n        (\\\"std_slc\\\", scaler),\\n        (\\\"pca\\\", dimension_reduction),\\n        (\\\"logistic_Reg\\\", model_logistic_regression),\\n    ]\\n)\";\n",
       "                var nbb_cells = Jupyter.notebook.get_cells();\n",
       "                for (var i = 0; i < nbb_cells.length; ++i) {\n",
       "                    if (nbb_cells[i].input_prompt_number == nbb_cell_id) {\n",
       "                        if (nbb_cells[i].get_text() == nbb_unformatted_code) {\n",
       "                             nbb_cells[i].set_text(nbb_formatted_code);\n",
       "                        }\n",
       "                        break;\n",
       "                    }\n",
       "                }\n",
       "            }, 500);\n",
       "            "
      ],
      "text/plain": [
       "<IPython.core.display.Javascript object>"
      ]
     },
     "metadata": {},
     "output_type": "display_data"
    }
   ],
   "source": [
    "pipe = Pipeline(\n",
    "    steps=[\n",
    "        (\"std_slc\", scaler),\n",
    "        (\"pca\", dimension_reduction),\n",
    "        (\"feat_select\", feature_selection),\n",
    "        (\"logistic_Reg\", model_logistic_regression),\n",
    "    ]\n",
    ")"
   ]
  },
  {
   "cell_type": "markdown",
   "metadata": {},
   "source": [
    "## Grid"
   ]
  },
  {
   "cell_type": "code",
   "execution_count": 72,
   "metadata": {
    "ExecuteTime": {
     "end_time": "2020-10-16T21:46:57.097805Z",
     "start_time": "2020-10-16T21:46:57.058453Z"
    }
   },
   "outputs": [
    {
     "data": {
      "application/javascript": [
       "\n",
       "            setTimeout(function() {\n",
       "                var nbb_cell_id = 72;\n",
       "                var nbb_unformatted_code = \"param_grid = {\\n    \\\"pca__n_components\\\": list(range(1, X_train.shape[1] + 1, 1)),\\n    \\\"logistic_Reg__penalty\\\": [\\\"l1\\\", \\\"l2\\\"],\\n    \\\"logistic_Reg__C\\\": np.logspace(-4, 4, 20),\\n    \\\"logistic_Reg__solver\\\": [\\\"liblinear\\\"],\\n}\";\n",
       "                var nbb_formatted_code = \"param_grid = {\\n    \\\"pca__n_components\\\": list(range(1, X_train.shape[1] + 1, 1)),\\n    \\\"logistic_Reg__penalty\\\": [\\\"l1\\\", \\\"l2\\\"],\\n    \\\"logistic_Reg__C\\\": np.logspace(-4, 4, 20),\\n    \\\"logistic_Reg__solver\\\": [\\\"liblinear\\\"],\\n}\";\n",
       "                var nbb_cells = Jupyter.notebook.get_cells();\n",
       "                for (var i = 0; i < nbb_cells.length; ++i) {\n",
       "                    if (nbb_cells[i].input_prompt_number == nbb_cell_id) {\n",
       "                        if (nbb_cells[i].get_text() == nbb_unformatted_code) {\n",
       "                             nbb_cells[i].set_text(nbb_formatted_code);\n",
       "                        }\n",
       "                        break;\n",
       "                    }\n",
       "                }\n",
       "            }, 500);\n",
       "            "
      ],
      "text/plain": [
       "<IPython.core.display.Javascript object>"
      ]
     },
     "metadata": {},
     "output_type": "display_data"
    }
   ],
   "source": [
    "param_grid = {\n",
    "    \"pca__n_components\": list(range(1, X_train.shape[1] + 1, 1)),\n",
    "    \"logistic_Reg__penalty\": [\"l1\", \"l2\"],\n",
    "    \"logistic_Reg__C\": np.logspace(-4, 4, 20),\n",
    "    \"logistic_Reg__solver\": [\"liblinear\"],\n",
    "}"
   ]
  },
  {
   "cell_type": "markdown",
   "metadata": {},
   "source": [
    "## Create grid search object"
   ]
  },
  {
   "cell_type": "code",
   "execution_count": 73,
   "metadata": {
    "ExecuteTime": {
     "end_time": "2020-10-16T21:46:57.842619Z",
     "start_time": "2020-10-16T21:46:57.809107Z"
    }
   },
   "outputs": [
    {
     "data": {
      "application/javascript": [
       "\n",
       "            setTimeout(function() {\n",
       "                var nbb_cell_id = 73;\n",
       "                var nbb_unformatted_code = \"clf = GridSearchCV(pipe, param_grid=param_grid, cv=5, verbose=True, n_jobs=2)\";\n",
       "                var nbb_formatted_code = \"clf = GridSearchCV(pipe, param_grid=param_grid, cv=5, verbose=True, n_jobs=2)\";\n",
       "                var nbb_cells = Jupyter.notebook.get_cells();\n",
       "                for (var i = 0; i < nbb_cells.length; ++i) {\n",
       "                    if (nbb_cells[i].input_prompt_number == nbb_cell_id) {\n",
       "                        if (nbb_cells[i].get_text() == nbb_unformatted_code) {\n",
       "                             nbb_cells[i].set_text(nbb_formatted_code);\n",
       "                        }\n",
       "                        break;\n",
       "                    }\n",
       "                }\n",
       "            }, 500);\n",
       "            "
      ],
      "text/plain": [
       "<IPython.core.display.Javascript object>"
      ]
     },
     "metadata": {},
     "output_type": "display_data"
    }
   ],
   "source": [
    "clf = GridSearchCV(pipe, param_grid=param_grid, cv=5, verbose=True, n_jobs=2)"
   ]
  },
  {
   "cell_type": "markdown",
   "metadata": {},
   "source": [
    "## Fit on data"
   ]
  },
  {
   "cell_type": "code",
   "execution_count": 74,
   "metadata": {
    "ExecuteTime": {
     "end_time": "2020-10-16T21:47:08.526123Z",
     "start_time": "2020-10-16T21:46:58.539079Z"
    }
   },
   "outputs": [
    {
     "name": "stdout",
     "output_type": "stream",
     "text": [
      "Fitting 5 folds for each of 360 candidates, totalling 1800 fits\n"
     ]
    },
    {
     "name": "stderr",
     "output_type": "stream",
     "text": [
      "[Parallel(n_jobs=2)]: Using backend LokyBackend with 2 concurrent workers.\n",
      "[Parallel(n_jobs=2)]: Done 360 tasks      | elapsed:    2.8s\n",
      "[Parallel(n_jobs=2)]: Done 1800 out of 1800 | elapsed:    9.9s finished\n",
      "/Users/admin/Projects/vocabulary_learning/.venv/lib/python3.7/site-packages/sklearn/utils/validation.py:72: DataConversionWarning:\n",
      "\n",
      "A column-vector y was passed when a 1d array was expected. Please change the shape of y to (n_samples, ), for example using ravel().\n",
      "\n"
     ]
    },
    {
     "data": {
      "application/javascript": [
       "\n",
       "            setTimeout(function() {\n",
       "                var nbb_cell_id = 74;\n",
       "                var nbb_unformatted_code = \"best_clf = clf.fit(X_train, y_train)\";\n",
       "                var nbb_formatted_code = \"best_clf = clf.fit(X_train, y_train)\";\n",
       "                var nbb_cells = Jupyter.notebook.get_cells();\n",
       "                for (var i = 0; i < nbb_cells.length; ++i) {\n",
       "                    if (nbb_cells[i].input_prompt_number == nbb_cell_id) {\n",
       "                        if (nbb_cells[i].get_text() == nbb_unformatted_code) {\n",
       "                             nbb_cells[i].set_text(nbb_formatted_code);\n",
       "                        }\n",
       "                        break;\n",
       "                    }\n",
       "                }\n",
       "            }, 500);\n",
       "            "
      ],
      "text/plain": [
       "<IPython.core.display.Javascript object>"
      ]
     },
     "metadata": {},
     "output_type": "display_data"
    }
   ],
   "source": [
    "best_clf = clf.fit(X_train, y_train)"
   ]
  },
  {
   "cell_type": "code",
   "execution_count": 75,
   "metadata": {
    "ExecuteTime": {
     "end_time": "2020-10-17T15:29:34.907407Z",
     "start_time": "2020-10-17T15:29:34.601876Z"
    }
   },
   "outputs": [
    {
     "name": "stdout",
     "output_type": "stream",
     "text": [
      "----- Best parameters -----\n",
      "pca__n_components - 5\n",
      "logistic_Reg__penalty - l2\n",
      "logistic_Reg__C - 0.03359818286283781\n",
      "logistic_Reg__solver - liblinear\n"
     ]
    },
    {
     "data": {
      "application/javascript": [
       "\n",
       "            setTimeout(function() {\n",
       "                var nbb_cell_id = 75;\n",
       "                var nbb_unformatted_code = \"print(\\\"----- Best parameters -----\\\")\\nfor i_parameter in list(param_grid.keys()):\\n    print(\\\"{} - {}\\\".format(i_parameter, clf.best_params_[i_parameter]))\";\n",
       "                var nbb_formatted_code = \"print(\\\"----- Best parameters -----\\\")\\nfor i_parameter in list(param_grid.keys()):\\n    print(\\\"{} - {}\\\".format(i_parameter, clf.best_params_[i_parameter]))\";\n",
       "                var nbb_cells = Jupyter.notebook.get_cells();\n",
       "                for (var i = 0; i < nbb_cells.length; ++i) {\n",
       "                    if (nbb_cells[i].input_prompt_number == nbb_cell_id) {\n",
       "                        if (nbb_cells[i].get_text() == nbb_unformatted_code) {\n",
       "                             nbb_cells[i].set_text(nbb_formatted_code);\n",
       "                        }\n",
       "                        break;\n",
       "                    }\n",
       "                }\n",
       "            }, 500);\n",
       "            "
      ],
      "text/plain": [
       "<IPython.core.display.Javascript object>"
      ]
     },
     "metadata": {},
     "output_type": "display_data"
    }
   ],
   "source": [
    "print(\"----- Best parameters -----\")\n",
    "for i_parameter in list(param_grid.keys()):\n",
    "    print(\"{} - {}\".format(i_parameter, clf.best_params_[i_parameter]))"
   ]
  },
  {
   "cell_type": "code",
   "execution_count": 76,
   "metadata": {
    "ExecuteTime": {
     "end_time": "2020-10-17T15:29:38.995395Z",
     "start_time": "2020-10-17T15:29:38.898796Z"
    }
   },
   "outputs": [
    {
     "data": {
      "text/html": [
       "<div>\n",
       "<style scoped>\n",
       "    .dataframe tbody tr th:only-of-type {\n",
       "        vertical-align: middle;\n",
       "    }\n",
       "\n",
       "    .dataframe tbody tr th {\n",
       "        vertical-align: top;\n",
       "    }\n",
       "\n",
       "    .dataframe thead th {\n",
       "        text-align: right;\n",
       "    }\n",
       "</style>\n",
       "<table border=\"1\" class=\"dataframe\">\n",
       "  <thead>\n",
       "    <tr style=\"text-align: right;\">\n",
       "      <th></th>\n",
       "      <th>mean_fit_time</th>\n",
       "      <th>std_fit_time</th>\n",
       "      <th>mean_score_time</th>\n",
       "      <th>std_score_time</th>\n",
       "      <th>param_logistic_Reg__C</th>\n",
       "      <th>param_logistic_Reg__penalty</th>\n",
       "      <th>param_logistic_Reg__solver</th>\n",
       "      <th>param_pca__n_components</th>\n",
       "      <th>params</th>\n",
       "      <th>split0_test_score</th>\n",
       "      <th>split1_test_score</th>\n",
       "      <th>split2_test_score</th>\n",
       "      <th>split3_test_score</th>\n",
       "      <th>split4_test_score</th>\n",
       "      <th>mean_test_score</th>\n",
       "      <th>std_test_score</th>\n",
       "      <th>rank_test_score</th>\n",
       "      <th>rank_test_score_inverse</th>\n",
       "    </tr>\n",
       "  </thead>\n",
       "  <tbody>\n",
       "    <tr>\n",
       "      <th>0</th>\n",
       "      <td>0.017385</td>\n",
       "      <td>0.013253</td>\n",
       "      <td>0.002783</td>\n",
       "      <td>0.000267</td>\n",
       "      <td>0.0001</td>\n",
       "      <td>l1</td>\n",
       "      <td>liblinear</td>\n",
       "      <td>1</td>\n",
       "      <td>{'logistic_Reg__C': 0.0001, 'logistic_Reg__pen...</td>\n",
       "      <td>0.629630</td>\n",
       "      <td>0.629630</td>\n",
       "      <td>0.629630</td>\n",
       "      <td>0.653846</td>\n",
       "      <td>0.653846</td>\n",
       "      <td>0.639316</td>\n",
       "      <td>0.011864</td>\n",
       "      <td>298</td>\n",
       "      <td>0</td>\n",
       "    </tr>\n",
       "    <tr>\n",
       "      <th>36</th>\n",
       "      <td>0.006721</td>\n",
       "      <td>0.000459</td>\n",
       "      <td>0.002576</td>\n",
       "      <td>0.000195</td>\n",
       "      <td>0.000695193</td>\n",
       "      <td>l1</td>\n",
       "      <td>liblinear</td>\n",
       "      <td>1</td>\n",
       "      <td>{'logistic_Reg__C': 0.0006951927961775605, 'lo...</td>\n",
       "      <td>0.629630</td>\n",
       "      <td>0.629630</td>\n",
       "      <td>0.629630</td>\n",
       "      <td>0.653846</td>\n",
       "      <td>0.653846</td>\n",
       "      <td>0.639316</td>\n",
       "      <td>0.011864</td>\n",
       "      <td>298</td>\n",
       "      <td>0</td>\n",
       "    </tr>\n",
       "    <tr>\n",
       "      <th>37</th>\n",
       "      <td>0.006234</td>\n",
       "      <td>0.000119</td>\n",
       "      <td>0.002396</td>\n",
       "      <td>0.000039</td>\n",
       "      <td>0.000695193</td>\n",
       "      <td>l1</td>\n",
       "      <td>liblinear</td>\n",
       "      <td>2</td>\n",
       "      <td>{'logistic_Reg__C': 0.0006951927961775605, 'lo...</td>\n",
       "      <td>0.629630</td>\n",
       "      <td>0.629630</td>\n",
       "      <td>0.629630</td>\n",
       "      <td>0.653846</td>\n",
       "      <td>0.653846</td>\n",
       "      <td>0.639316</td>\n",
       "      <td>0.011864</td>\n",
       "      <td>298</td>\n",
       "      <td>0</td>\n",
       "    </tr>\n",
       "    <tr>\n",
       "      <th>38</th>\n",
       "      <td>0.006584</td>\n",
       "      <td>0.000721</td>\n",
       "      <td>0.002447</td>\n",
       "      <td>0.000263</td>\n",
       "      <td>0.000695193</td>\n",
       "      <td>l1</td>\n",
       "      <td>liblinear</td>\n",
       "      <td>3</td>\n",
       "      <td>{'logistic_Reg__C': 0.0006951927961775605, 'lo...</td>\n",
       "      <td>0.629630</td>\n",
       "      <td>0.629630</td>\n",
       "      <td>0.629630</td>\n",
       "      <td>0.653846</td>\n",
       "      <td>0.653846</td>\n",
       "      <td>0.639316</td>\n",
       "      <td>0.011864</td>\n",
       "      <td>298</td>\n",
       "      <td>0</td>\n",
       "    </tr>\n",
       "    <tr>\n",
       "      <th>39</th>\n",
       "      <td>0.006911</td>\n",
       "      <td>0.000769</td>\n",
       "      <td>0.002474</td>\n",
       "      <td>0.000196</td>\n",
       "      <td>0.000695193</td>\n",
       "      <td>l1</td>\n",
       "      <td>liblinear</td>\n",
       "      <td>4</td>\n",
       "      <td>{'logistic_Reg__C': 0.0006951927961775605, 'lo...</td>\n",
       "      <td>0.629630</td>\n",
       "      <td>0.629630</td>\n",
       "      <td>0.629630</td>\n",
       "      <td>0.653846</td>\n",
       "      <td>0.653846</td>\n",
       "      <td>0.639316</td>\n",
       "      <td>0.011864</td>\n",
       "      <td>298</td>\n",
       "      <td>0</td>\n",
       "    </tr>\n",
       "    <tr>\n",
       "      <th>...</th>\n",
       "      <td>...</td>\n",
       "      <td>...</td>\n",
       "      <td>...</td>\n",
       "      <td>...</td>\n",
       "      <td>...</td>\n",
       "      <td>...</td>\n",
       "      <td>...</td>\n",
       "      <td>...</td>\n",
       "      <td>...</td>\n",
       "      <td>...</td>\n",
       "      <td>...</td>\n",
       "      <td>...</td>\n",
       "      <td>...</td>\n",
       "      <td>...</td>\n",
       "      <td>...</td>\n",
       "      <td>...</td>\n",
       "      <td>...</td>\n",
       "      <td>...</td>\n",
       "    </tr>\n",
       "    <tr>\n",
       "      <th>121</th>\n",
       "      <td>0.005982</td>\n",
       "      <td>0.000190</td>\n",
       "      <td>0.002388</td>\n",
       "      <td>0.000108</td>\n",
       "      <td>0.0335982</td>\n",
       "      <td>l2</td>\n",
       "      <td>liblinear</td>\n",
       "      <td>5</td>\n",
       "      <td>{'logistic_Reg__C': 0.03359818286283781, 'logi...</td>\n",
       "      <td>0.703704</td>\n",
       "      <td>0.592593</td>\n",
       "      <td>0.814815</td>\n",
       "      <td>0.769231</td>\n",
       "      <td>0.807692</td>\n",
       "      <td>0.737607</td>\n",
       "      <td>0.082525</td>\n",
       "      <td>1</td>\n",
       "      <td>297</td>\n",
       "    </tr>\n",
       "    <tr>\n",
       "      <th>122</th>\n",
       "      <td>0.005976</td>\n",
       "      <td>0.000020</td>\n",
       "      <td>0.002371</td>\n",
       "      <td>0.000023</td>\n",
       "      <td>0.0335982</td>\n",
       "      <td>l2</td>\n",
       "      <td>liblinear</td>\n",
       "      <td>6</td>\n",
       "      <td>{'logistic_Reg__C': 0.03359818286283781, 'logi...</td>\n",
       "      <td>0.703704</td>\n",
       "      <td>0.592593</td>\n",
       "      <td>0.814815</td>\n",
       "      <td>0.769231</td>\n",
       "      <td>0.807692</td>\n",
       "      <td>0.737607</td>\n",
       "      <td>0.082525</td>\n",
       "      <td>1</td>\n",
       "      <td>297</td>\n",
       "    </tr>\n",
       "    <tr>\n",
       "      <th>123</th>\n",
       "      <td>0.007047</td>\n",
       "      <td>0.001084</td>\n",
       "      <td>0.003121</td>\n",
       "      <td>0.000638</td>\n",
       "      <td>0.0335982</td>\n",
       "      <td>l2</td>\n",
       "      <td>liblinear</td>\n",
       "      <td>7</td>\n",
       "      <td>{'logistic_Reg__C': 0.03359818286283781, 'logi...</td>\n",
       "      <td>0.703704</td>\n",
       "      <td>0.592593</td>\n",
       "      <td>0.814815</td>\n",
       "      <td>0.769231</td>\n",
       "      <td>0.807692</td>\n",
       "      <td>0.737607</td>\n",
       "      <td>0.082525</td>\n",
       "      <td>1</td>\n",
       "      <td>297</td>\n",
       "    </tr>\n",
       "    <tr>\n",
       "      <th>124</th>\n",
       "      <td>0.006529</td>\n",
       "      <td>0.000372</td>\n",
       "      <td>0.002566</td>\n",
       "      <td>0.000167</td>\n",
       "      <td>0.0335982</td>\n",
       "      <td>l2</td>\n",
       "      <td>liblinear</td>\n",
       "      <td>8</td>\n",
       "      <td>{'logistic_Reg__C': 0.03359818286283781, 'logi...</td>\n",
       "      <td>0.703704</td>\n",
       "      <td>0.592593</td>\n",
       "      <td>0.814815</td>\n",
       "      <td>0.769231</td>\n",
       "      <td>0.807692</td>\n",
       "      <td>0.737607</td>\n",
       "      <td>0.082525</td>\n",
       "      <td>1</td>\n",
       "      <td>297</td>\n",
       "    </tr>\n",
       "    <tr>\n",
       "      <th>125</th>\n",
       "      <td>0.006511</td>\n",
       "      <td>0.000222</td>\n",
       "      <td>0.002480</td>\n",
       "      <td>0.000102</td>\n",
       "      <td>0.0335982</td>\n",
       "      <td>l2</td>\n",
       "      <td>liblinear</td>\n",
       "      <td>9</td>\n",
       "      <td>{'logistic_Reg__C': 0.03359818286283781, 'logi...</td>\n",
       "      <td>0.703704</td>\n",
       "      <td>0.592593</td>\n",
       "      <td>0.814815</td>\n",
       "      <td>0.769231</td>\n",
       "      <td>0.807692</td>\n",
       "      <td>0.737607</td>\n",
       "      <td>0.082525</td>\n",
       "      <td>1</td>\n",
       "      <td>297</td>\n",
       "    </tr>\n",
       "  </tbody>\n",
       "</table>\n",
       "<p>360 rows × 18 columns</p>\n",
       "</div>"
      ],
      "text/plain": [
       "     mean_fit_time  std_fit_time  mean_score_time  std_score_time  \\\n",
       "0         0.017385      0.013253         0.002783        0.000267   \n",
       "36        0.006721      0.000459         0.002576        0.000195   \n",
       "37        0.006234      0.000119         0.002396        0.000039   \n",
       "38        0.006584      0.000721         0.002447        0.000263   \n",
       "39        0.006911      0.000769         0.002474        0.000196   \n",
       "..             ...           ...              ...             ...   \n",
       "121       0.005982      0.000190         0.002388        0.000108   \n",
       "122       0.005976      0.000020         0.002371        0.000023   \n",
       "123       0.007047      0.001084         0.003121        0.000638   \n",
       "124       0.006529      0.000372         0.002566        0.000167   \n",
       "125       0.006511      0.000222         0.002480        0.000102   \n",
       "\n",
       "    param_logistic_Reg__C param_logistic_Reg__penalty  \\\n",
       "0                  0.0001                          l1   \n",
       "36            0.000695193                          l1   \n",
       "37            0.000695193                          l1   \n",
       "38            0.000695193                          l1   \n",
       "39            0.000695193                          l1   \n",
       "..                    ...                         ...   \n",
       "121             0.0335982                          l2   \n",
       "122             0.0335982                          l2   \n",
       "123             0.0335982                          l2   \n",
       "124             0.0335982                          l2   \n",
       "125             0.0335982                          l2   \n",
       "\n",
       "    param_logistic_Reg__solver param_pca__n_components  \\\n",
       "0                    liblinear                       1   \n",
       "36                   liblinear                       1   \n",
       "37                   liblinear                       2   \n",
       "38                   liblinear                       3   \n",
       "39                   liblinear                       4   \n",
       "..                         ...                     ...   \n",
       "121                  liblinear                       5   \n",
       "122                  liblinear                       6   \n",
       "123                  liblinear                       7   \n",
       "124                  liblinear                       8   \n",
       "125                  liblinear                       9   \n",
       "\n",
       "                                                params  split0_test_score  \\\n",
       "0    {'logistic_Reg__C': 0.0001, 'logistic_Reg__pen...           0.629630   \n",
       "36   {'logistic_Reg__C': 0.0006951927961775605, 'lo...           0.629630   \n",
       "37   {'logistic_Reg__C': 0.0006951927961775605, 'lo...           0.629630   \n",
       "38   {'logistic_Reg__C': 0.0006951927961775605, 'lo...           0.629630   \n",
       "39   {'logistic_Reg__C': 0.0006951927961775605, 'lo...           0.629630   \n",
       "..                                                 ...                ...   \n",
       "121  {'logistic_Reg__C': 0.03359818286283781, 'logi...           0.703704   \n",
       "122  {'logistic_Reg__C': 0.03359818286283781, 'logi...           0.703704   \n",
       "123  {'logistic_Reg__C': 0.03359818286283781, 'logi...           0.703704   \n",
       "124  {'logistic_Reg__C': 0.03359818286283781, 'logi...           0.703704   \n",
       "125  {'logistic_Reg__C': 0.03359818286283781, 'logi...           0.703704   \n",
       "\n",
       "     split1_test_score  split2_test_score  split3_test_score  \\\n",
       "0             0.629630           0.629630           0.653846   \n",
       "36            0.629630           0.629630           0.653846   \n",
       "37            0.629630           0.629630           0.653846   \n",
       "38            0.629630           0.629630           0.653846   \n",
       "39            0.629630           0.629630           0.653846   \n",
       "..                 ...                ...                ...   \n",
       "121           0.592593           0.814815           0.769231   \n",
       "122           0.592593           0.814815           0.769231   \n",
       "123           0.592593           0.814815           0.769231   \n",
       "124           0.592593           0.814815           0.769231   \n",
       "125           0.592593           0.814815           0.769231   \n",
       "\n",
       "     split4_test_score  mean_test_score  std_test_score  rank_test_score  \\\n",
       "0             0.653846         0.639316        0.011864              298   \n",
       "36            0.653846         0.639316        0.011864              298   \n",
       "37            0.653846         0.639316        0.011864              298   \n",
       "38            0.653846         0.639316        0.011864              298   \n",
       "39            0.653846         0.639316        0.011864              298   \n",
       "..                 ...              ...             ...              ...   \n",
       "121           0.807692         0.737607        0.082525                1   \n",
       "122           0.807692         0.737607        0.082525                1   \n",
       "123           0.807692         0.737607        0.082525                1   \n",
       "124           0.807692         0.737607        0.082525                1   \n",
       "125           0.807692         0.737607        0.082525                1   \n",
       "\n",
       "     rank_test_score_inverse  \n",
       "0                          0  \n",
       "36                         0  \n",
       "37                         0  \n",
       "38                         0  \n",
       "39                         0  \n",
       "..                       ...  \n",
       "121                      297  \n",
       "122                      297  \n",
       "123                      297  \n",
       "124                      297  \n",
       "125                      297  \n",
       "\n",
       "[360 rows x 18 columns]"
      ]
     },
     "execution_count": 76,
     "metadata": {},
     "output_type": "execute_result"
    },
    {
     "data": {
      "application/javascript": [
       "\n",
       "            setTimeout(function() {\n",
       "                var nbb_cell_id = 76;\n",
       "                var nbb_unformatted_code = \"hyperparameters_df = pd.DataFrame.from_dict(clf.cv_results_)\\nhyperparameters_df[\\\"rank_test_score_inverse\\\"] = (\\n    max(hyperparameters_df[\\\"rank_test_score\\\"]) - hyperparameters_df[\\\"rank_test_score\\\"]\\n)\\nhyperparameters_df.sort_values(\\\"rank_test_score_inverse\\\", inplace=True)\\nhyperparameters_df\";\n",
       "                var nbb_formatted_code = \"hyperparameters_df = pd.DataFrame.from_dict(clf.cv_results_)\\nhyperparameters_df[\\\"rank_test_score_inverse\\\"] = (\\n    max(hyperparameters_df[\\\"rank_test_score\\\"]) - hyperparameters_df[\\\"rank_test_score\\\"]\\n)\\nhyperparameters_df.sort_values(\\\"rank_test_score_inverse\\\", inplace=True)\\nhyperparameters_df\";\n",
       "                var nbb_cells = Jupyter.notebook.get_cells();\n",
       "                for (var i = 0; i < nbb_cells.length; ++i) {\n",
       "                    if (nbb_cells[i].input_prompt_number == nbb_cell_id) {\n",
       "                        if (nbb_cells[i].get_text() == nbb_unformatted_code) {\n",
       "                             nbb_cells[i].set_text(nbb_formatted_code);\n",
       "                        }\n",
       "                        break;\n",
       "                    }\n",
       "                }\n",
       "            }, 500);\n",
       "            "
      ],
      "text/plain": [
       "<IPython.core.display.Javascript object>"
      ]
     },
     "metadata": {},
     "output_type": "display_data"
    }
   ],
   "source": [
    "hyperparameters_df = pd.DataFrame.from_dict(clf.cv_results_)\n",
    "hyperparameters_df[\"rank_test_score_inverse\"] = (\n",
    "    max(hyperparameters_df[\"rank_test_score\"]) - hyperparameters_df[\"rank_test_score\"]\n",
    ")\n",
    "hyperparameters_df.sort_values(\"rank_test_score_inverse\", inplace=True)\n",
    "hyperparameters_df"
   ]
  },
  {
   "cell_type": "code",
   "execution_count": 77,
   "metadata": {
    "ExecuteTime": {
     "end_time": "2020-10-17T15:29:41.260708Z",
     "start_time": "2020-10-17T15:29:41.078991Z"
    },
    "scrolled": false
   },
   "outputs": [
    {
     "data": {
      "application/vnd.plotly.v1+json": {
       "config": {
        "plotlyServerURL": "https://plot.ly"
       },
       "data": [
        {
         "hovertemplate": "<b>Trial %{y}</b><br><br>Value: %{x:.5f}<br>MAE: %{marker.color:.3f}<br><extra></extra>",
         "marker": {
          "color": [
           0.6393162393162393,
           0.6393162393162393,
           0.6393162393162393,
           0.6393162393162393,
           0.6393162393162393,
           0.6393162393162393,
           0.6393162393162393,
           0.6393162393162393,
           0.6393162393162393,
           0.6393162393162393,
           0.6393162393162393,
           0.6393162393162393,
           0.6393162393162393,
           0.6393162393162393,
           0.6393162393162393,
           0.6393162393162393,
           0.6393162393162393,
           0.6393162393162393,
           0.6393162393162393,
           0.6393162393162393,
           0.6393162393162393,
           0.6393162393162393,
           0.6393162393162393,
           0.6393162393162393,
           0.6393162393162393,
           0.6393162393162393,
           0.6393162393162393,
           0.6393162393162393,
           0.6393162393162393,
           0.6393162393162393,
           0.6393162393162393,
           0.6393162393162393,
           0.6393162393162393,
           0.6393162393162393,
           0.6393162393162393,
           0.6393162393162393,
           0.6393162393162393,
           0.6393162393162393,
           0.6393162393162393,
           0.6393162393162393,
           0.6393162393162393,
           0.6393162393162393,
           0.6393162393162393,
           0.6393162393162393,
           0.6393162393162393,
           0.6393162393162393,
           0.6393162393162393,
           0.6393162393162393,
           0.6393162393162393,
           0.6393162393162393,
           0.6393162393162393,
           0.6393162393162393,
           0.6393162393162393,
           0.6393162393162393,
           0.6393162393162393,
           0.6393162393162393,
           0.6393162393162393,
           0.6393162393162393,
           0.6393162393162393,
           0.6393162393162393,
           0.6393162393162393,
           0.6393162393162393,
           0.6393162393162393,
           0.6541310541310541,
           0.6541310541310541,
           0.6626780626780627,
           0.6626780626780627,
           0.6626780626780627,
           0.6626780626780627,
           0.6626780626780627,
           0.6695156695156695,
           0.6695156695156695,
           0.6695156695156695,
           0.6695156695156695,
           0.6695156695156695,
           0.6695156695156695,
           0.6695156695156695,
           0.6772079772079772,
           0.6772079772079772,
           0.6772079772079772,
           0.6772079772079772,
           0.6772079772079772,
           0.6772079772079772,
           0.6772079772079772,
           0.6772079772079772,
           0.6772079772079772,
           0.6772079772079772,
           0.6772079772079772,
           0.6772079772079772,
           0.6772079772079772,
           0.6772079772079772,
           0.6772079772079772,
           0.6772079772079772,
           0.6772079772079772,
           0.6772079772079772,
           0.6772079772079772,
           0.6772079772079772,
           0.6772079772079772,
           0.6772079772079772,
           0.6772079772079772,
           0.6772079772079772,
           0.6772079772079772,
           0.6772079772079772,
           0.6772079772079772,
           0.6772079772079772,
           0.6772079772079772,
           0.6772079772079772,
           0.6772079772079772,
           0.6772079772079772,
           0.6772079772079772,
           0.6772079772079772,
           0.6772079772079772,
           0.6772079772079772,
           0.6772079772079772,
           0.6772079772079772,
           0.6772079772079772,
           0.6772079772079772,
           0.6772079772079772,
           0.6772079772079772,
           0.6772079772079772,
           0.6772079772079772,
           0.6772079772079772,
           0.6772079772079772,
           0.6772079772079772,
           0.6772079772079772,
           0.6772079772079772,
           0.6772079772079772,
           0.6772079772079772,
           0.6772079772079772,
           0.6772079772079772,
           0.6772079772079772,
           0.6772079772079772,
           0.6772079772079772,
           0.6772079772079772,
           0.6849002849002849,
           0.6849002849002849,
           0.6920227920227919,
           0.6920227920227922,
           0.6925925925925925,
           0.6925925925925925,
           0.6925925925925925,
           0.6925925925925925,
           0.6994301994301994,
           0.6994301994301994,
           0.6994301994301994,
           0.6994301994301994,
           0.6994301994301994,
           0.6994301994301994,
           0.6994301994301994,
           0.6994301994301994,
           0.6994301994301994,
           0.6994301994301994,
           0.6994301994301994,
           0.6994301994301994,
           0.6994301994301994,
           0.6994301994301994,
           0.6994301994301994,
           0.6994301994301994,
           0.6994301994301994,
           0.6994301994301994,
           0.6994301994301994,
           0.6997150997150997,
           0.7068376068376068,
           0.7068376068376068,
           0.7068376068376068,
           0.7074074074074074,
           0.7074074074074075,
           0.7074074074074075,
           0.7074074074074075,
           0.7074074074074075,
           0.7074074074074075,
           0.7074074074074075,
           0.7145299145299144,
           0.7145299145299144,
           0.7148148148148148,
           0.7148148148148148,
           0.7148148148148148,
           0.7148148148148148,
           0.7148148148148148,
           0.7148148148148148,
           0.7148148148148148,
           0.7148148148148149,
           0.7150997150997151,
           0.7150997150997151,
           0.7150997150997151,
           0.7150997150997151,
           0.7150997150997151,
           0.7150997150997151,
           0.7150997150997151,
           0.7150997150997151,
           0.7150997150997151,
           0.7150997150997151,
           0.7150997150997151,
           0.7150997150997151,
           0.7150997150997151,
           0.7150997150997151,
           0.7150997150997151,
           0.7150997150997151,
           0.7150997150997151,
           0.7150997150997151,
           0.7150997150997151,
           0.7150997150997151,
           0.7225071225071225,
           0.7225071225071225,
           0.7225071225071225,
           0.7225071225071225,
           0.7225071225071225,
           0.7225071225071226,
           0.7225071225071226,
           0.7225071225071226,
           0.7299145299145298,
           0.7299145299145298,
           0.7299145299145298,
           0.7299145299145298,
           0.7299145299145298,
           0.7301994301994302,
           0.7301994301994302,
           0.7301994301994302,
           0.7301994301994302,
           0.7301994301994302,
           0.7301994301994302,
           0.7301994301994302,
           0.7301994301994302,
           0.7301994301994302,
           0.7301994301994302,
           0.7301994301994302,
           0.7301994301994302,
           0.7301994301994302,
           0.7301994301994302,
           0.7301994301994302,
           0.7301994301994302,
           0.7301994301994302,
           0.7301994301994302,
           0.7301994301994302,
           0.7301994301994302,
           0.7301994301994302,
           0.7301994301994302,
           0.7301994301994302,
           0.7301994301994302,
           0.7301994301994302,
           0.7301994301994302,
           0.7301994301994302,
           0.7301994301994302,
           0.7301994301994302,
           0.7301994301994302,
           0.7301994301994302,
           0.7301994301994302,
           0.7301994301994302,
           0.7301994301994302,
           0.7301994301994302,
           0.7301994301994302,
           0.7301994301994302,
           0.7301994301994302,
           0.7301994301994302,
           0.7301994301994302,
           0.7301994301994302,
           0.7301994301994302,
           0.7301994301994302,
           0.7301994301994302,
           0.7301994301994302,
           0.7301994301994302,
           0.7301994301994302,
           0.7301994301994302,
           0.7301994301994302,
           0.7301994301994302,
           0.7301994301994302,
           0.7301994301994302,
           0.7301994301994302,
           0.7301994301994302,
           0.7301994301994302,
           0.7301994301994302,
           0.7301994301994302,
           0.7301994301994302,
           0.7301994301994302,
           0.7301994301994302,
           0.7301994301994302,
           0.7301994301994302,
           0.7301994301994302,
           0.7301994301994302,
           0.7301994301994302,
           0.7301994301994302,
           0.7301994301994302,
           0.7301994301994302,
           0.7301994301994302,
           0.7301994301994302,
           0.7301994301994302,
           0.7301994301994302,
           0.7301994301994302,
           0.7301994301994302,
           0.7301994301994302,
           0.7301994301994302,
           0.7301994301994302,
           0.7301994301994302,
           0.7301994301994302,
           0.7301994301994302,
           0.7301994301994302,
           0.7301994301994302,
           0.7301994301994302,
           0.7301994301994302,
           0.7301994301994302,
           0.7301994301994302,
           0.7301994301994302,
           0.7301994301994302,
           0.7301994301994302,
           0.7301994301994302,
           0.7301994301994302,
           0.7301994301994302,
           0.7301994301994302,
           0.7301994301994302,
           0.7301994301994302,
           0.7301994301994302,
           0.7301994301994302,
           0.7301994301994302,
           0.7301994301994302,
           0.7301994301994302,
           0.7301994301994302,
           0.7301994301994302,
           0.7301994301994302,
           0.7301994301994302,
           0.7301994301994302,
           0.7301994301994302,
           0.7301994301994302,
           0.7301994301994302,
           0.7301994301994302,
           0.7301994301994302,
           0.7301994301994302,
           0.7301994301994302,
           0.7301994301994302,
           0.7301994301994302,
           0.7301994301994302,
           0.7301994301994302,
           0.7301994301994302,
           0.7301994301994302,
           0.7301994301994302,
           0.7301994301994302,
           0.7373219373219373,
           0.7373219373219373,
           0.7373219373219373,
           0.7373219373219373,
           0.7373219373219373,
           0.7373219373219373,
           0.7373219373219373,
           0.7373219373219373,
           0.7373219373219373,
           0.7373219373219373,
           0.7373219373219373,
           0.7373219373219373,
           0.7373219373219373,
           0.7373219373219373,
           0.7373219373219373,
           0.7376068376068374,
           0.7376068376068374,
           0.7376068376068374,
           0.7376068376068374,
           0.7376068376068374,
           0.7376068376068377,
           0.7376068376068377,
           0.7376068376068377,
           0.7376068376068377,
           0.7376068376068377
          ],
          "colorbar": {
           "title": {
            "text": "mean_test_score"
           }
          },
          "colorscale": [
           [
            0,
            "#fde725"
           ],
           [
            0.1111111111111111,
            "#b5de2b"
           ],
           [
            0.2222222222222222,
            "#6ece58"
           ],
           [
            0.3333333333333333,
            "#35b779"
           ],
           [
            0.4444444444444444,
            "#1f9e89"
           ],
           [
            0.5555555555555556,
            "#26828e"
           ],
           [
            0.6666666666666666,
            "#31688e"
           ],
           [
            0.7777777777777778,
            "#3e4989"
           ],
           [
            0.8888888888888888,
            "#482878"
           ],
           [
            1,
            "#440154"
           ]
          ],
          "showscale": true
         },
         "mode": "markers",
         "name": "param_pca__n_components",
         "showlegend": false,
         "type": "scatter",
         "x": [
          1,
          1,
          2,
          3,
          4,
          5,
          6,
          7,
          8,
          9,
          6,
          5,
          4,
          3,
          2,
          1,
          9,
          8,
          3,
          4,
          5,
          6,
          9,
          8,
          7,
          7,
          5,
          4,
          3,
          2,
          1,
          7,
          6,
          2,
          8,
          1,
          2,
          3,
          4,
          5,
          6,
          7,
          8,
          9,
          9,
          9,
          7,
          1,
          8,
          3,
          2,
          3,
          4,
          5,
          6,
          9,
          8,
          7,
          1,
          6,
          5,
          4,
          2,
          2,
          1,
          8,
          6,
          5,
          9,
          7,
          2,
          2,
          2,
          2,
          2,
          2,
          2,
          2,
          1,
          1,
          1,
          2,
          1,
          2,
          1,
          2,
          2,
          1,
          2,
          1,
          1,
          1,
          2,
          1,
          2,
          1,
          2,
          1,
          1,
          1,
          2,
          2,
          2,
          1,
          1,
          2,
          1,
          2,
          2,
          1,
          1,
          1,
          2,
          2,
          1,
          2,
          1,
          1,
          1,
          1,
          1,
          2,
          2,
          1,
          1,
          1,
          2,
          1,
          1,
          1,
          2,
          2,
          2,
          2,
          3,
          3,
          3,
          4,
          3,
          3,
          3,
          3,
          3,
          3,
          3,
          3,
          3,
          3,
          3,
          3,
          3,
          3,
          3,
          3,
          3,
          3,
          3,
          3,
          3,
          3,
          3,
          3,
          3,
          3,
          3,
          3,
          4,
          4,
          4,
          4,
          4,
          4,
          3,
          3,
          4,
          5,
          4,
          9,
          8,
          7,
          6,
          4,
          4,
          4,
          4,
          4,
          4,
          4,
          4,
          4,
          4,
          4,
          4,
          4,
          4,
          4,
          4,
          4,
          4,
          4,
          4,
          4,
          5,
          6,
          7,
          8,
          9,
          4,
          4,
          4,
          8,
          9,
          6,
          5,
          7,
          9,
          8,
          5,
          8,
          7,
          9,
          8,
          7,
          6,
          5,
          6,
          9,
          7,
          6,
          8,
          9,
          7,
          6,
          5,
          5,
          9,
          8,
          7,
          6,
          5,
          6,
          7,
          8,
          9,
          7,
          6,
          5,
          9,
          7,
          8,
          9,
          5,
          6,
          7,
          8,
          5,
          9,
          6,
          7,
          8,
          9,
          5,
          6,
          8,
          5,
          7,
          9,
          5,
          9,
          8,
          7,
          6,
          5,
          9,
          8,
          7,
          6,
          5,
          6,
          8,
          7,
          6,
          5,
          5,
          8,
          7,
          6,
          5,
          9,
          8,
          7,
          6,
          5,
          9,
          8,
          7,
          6,
          5,
          9,
          6,
          8,
          8,
          9,
          8,
          7,
          6,
          5,
          9,
          8,
          7,
          6,
          5,
          9,
          8,
          7,
          6,
          5,
          7,
          8,
          9,
          9,
          5,
          6,
          7,
          8,
          9,
          9,
          6,
          7,
          8,
          9,
          5,
          6,
          5,
          7,
          8,
          7,
          6,
          5,
          8,
          9,
          7,
          6,
          5,
          9,
          5,
          9,
          7,
          8,
          6,
          5,
          6,
          7,
          8,
          9,
          5,
          6,
          7,
          8,
          9
         ],
         "y": [
          0,
          0,
          0,
          0,
          0,
          0,
          0,
          0,
          0,
          0,
          0,
          0,
          0,
          0,
          0,
          0,
          0,
          0,
          0,
          0,
          0,
          0,
          0,
          0,
          0,
          0,
          0,
          0,
          0,
          0,
          0,
          0,
          0,
          0,
          0,
          0,
          0,
          0,
          0,
          0,
          0,
          0,
          0,
          0,
          0,
          0,
          0,
          0,
          0,
          0,
          0,
          0,
          0,
          0,
          0,
          0,
          0,
          0,
          0,
          0,
          0,
          0,
          0,
          2,
          2,
          7,
          7,
          7,
          7,
          7,
          14,
          14,
          14,
          14,
          14,
          14,
          14,
          71,
          71,
          71,
          71,
          71,
          71,
          71,
          71,
          71,
          71,
          71,
          71,
          71,
          71,
          71,
          71,
          71,
          71,
          71,
          71,
          71,
          71,
          71,
          71,
          71,
          71,
          71,
          71,
          71,
          71,
          71,
          71,
          71,
          71,
          71,
          71,
          71,
          71,
          71,
          71,
          71,
          71,
          71,
          71,
          71,
          71,
          71,
          71,
          71,
          71,
          71,
          71,
          71,
          71,
          71,
          71,
          71,
          73,
          73,
          74,
          75,
          79,
          79,
          79,
          79,
          98,
          98,
          98,
          98,
          98,
          98,
          98,
          98,
          98,
          98,
          98,
          98,
          98,
          98,
          98,
          98,
          98,
          98,
          98,
          99,
          102,
          102,
          102,
          103,
          109,
          109,
          109,
          109,
          109,
          109,
          111,
          111,
          118,
          118,
          118,
          118,
          118,
          118,
          118,
          119,
          139,
          139,
          139,
          139,
          139,
          139,
          139,
          139,
          139,
          139,
          139,
          139,
          139,
          139,
          139,
          139,
          139,
          139,
          139,
          139,
          144,
          144,
          144,
          144,
          144,
          147,
          147,
          147,
          152,
          152,
          152,
          152,
          152,
          272,
          272,
          272,
          272,
          272,
          272,
          272,
          272,
          272,
          272,
          272,
          272,
          272,
          272,
          272,
          272,
          272,
          272,
          272,
          272,
          272,
          272,
          272,
          272,
          272,
          272,
          272,
          272,
          272,
          272,
          272,
          272,
          272,
          272,
          272,
          272,
          272,
          272,
          272,
          272,
          272,
          272,
          272,
          272,
          272,
          272,
          272,
          272,
          272,
          272,
          272,
          272,
          272,
          272,
          272,
          272,
          272,
          272,
          272,
          272,
          272,
          272,
          272,
          272,
          272,
          272,
          272,
          272,
          272,
          272,
          272,
          272,
          272,
          272,
          272,
          272,
          272,
          272,
          272,
          272,
          272,
          272,
          272,
          272,
          272,
          272,
          272,
          272,
          272,
          272,
          272,
          272,
          272,
          272,
          272,
          272,
          272,
          272,
          272,
          272,
          272,
          272,
          272,
          272,
          272,
          272,
          272,
          272,
          272,
          272,
          272,
          272,
          272,
          272,
          272,
          272,
          272,
          272,
          272,
          272,
          287,
          287,
          287,
          287,
          287,
          287,
          287,
          287,
          287,
          287,
          287,
          287,
          287,
          287,
          287,
          292,
          292,
          292,
          292,
          292,
          297,
          297,
          297,
          297,
          297
         ]
        },
        {
         "line": {
          "color": "#e377c2",
          "dash": "dash"
         },
         "mode": "lines",
         "showlegend": false,
         "type": "scatter",
         "x": [
          5,
          5
         ],
         "y": [
          0,
          297
         ]
        }
       ],
       "layout": {
        "annotations": [
         {
          "align": "center",
          "bordercolor": "black",
          "borderwidth": 1,
          "showarrow": false,
          "text": "Vertical line: best score",
          "x": 0.5,
          "xref": "paper",
          "y": -0.22,
          "yref": "paper"
         }
        ],
        "legend": {
         "itemsizing": "constant"
        },
        "template": {
         "data": {
          "bar": [
           {
            "error_x": {
             "color": "#2a3f5f"
            },
            "error_y": {
             "color": "#2a3f5f"
            },
            "marker": {
             "line": {
              "color": "#E5ECF6",
              "width": 0.5
             }
            },
            "type": "bar"
           }
          ],
          "barpolar": [
           {
            "marker": {
             "line": {
              "color": "#E5ECF6",
              "width": 0.5
             }
            },
            "type": "barpolar"
           }
          ],
          "carpet": [
           {
            "aaxis": {
             "endlinecolor": "#2a3f5f",
             "gridcolor": "white",
             "linecolor": "white",
             "minorgridcolor": "white",
             "startlinecolor": "#2a3f5f"
            },
            "baxis": {
             "endlinecolor": "#2a3f5f",
             "gridcolor": "white",
             "linecolor": "white",
             "minorgridcolor": "white",
             "startlinecolor": "#2a3f5f"
            },
            "type": "carpet"
           }
          ],
          "choropleth": [
           {
            "colorbar": {
             "outlinewidth": 0,
             "ticks": ""
            },
            "type": "choropleth"
           }
          ],
          "contour": [
           {
            "colorbar": {
             "outlinewidth": 0,
             "ticks": ""
            },
            "colorscale": [
             [
              0,
              "#0d0887"
             ],
             [
              0.1111111111111111,
              "#46039f"
             ],
             [
              0.2222222222222222,
              "#7201a8"
             ],
             [
              0.3333333333333333,
              "#9c179e"
             ],
             [
              0.4444444444444444,
              "#bd3786"
             ],
             [
              0.5555555555555556,
              "#d8576b"
             ],
             [
              0.6666666666666666,
              "#ed7953"
             ],
             [
              0.7777777777777778,
              "#fb9f3a"
             ],
             [
              0.8888888888888888,
              "#fdca26"
             ],
             [
              1,
              "#f0f921"
             ]
            ],
            "type": "contour"
           }
          ],
          "contourcarpet": [
           {
            "colorbar": {
             "outlinewidth": 0,
             "ticks": ""
            },
            "type": "contourcarpet"
           }
          ],
          "heatmap": [
           {
            "colorbar": {
             "outlinewidth": 0,
             "ticks": ""
            },
            "colorscale": [
             [
              0,
              "#0d0887"
             ],
             [
              0.1111111111111111,
              "#46039f"
             ],
             [
              0.2222222222222222,
              "#7201a8"
             ],
             [
              0.3333333333333333,
              "#9c179e"
             ],
             [
              0.4444444444444444,
              "#bd3786"
             ],
             [
              0.5555555555555556,
              "#d8576b"
             ],
             [
              0.6666666666666666,
              "#ed7953"
             ],
             [
              0.7777777777777778,
              "#fb9f3a"
             ],
             [
              0.8888888888888888,
              "#fdca26"
             ],
             [
              1,
              "#f0f921"
             ]
            ],
            "type": "heatmap"
           }
          ],
          "heatmapgl": [
           {
            "colorbar": {
             "outlinewidth": 0,
             "ticks": ""
            },
            "colorscale": [
             [
              0,
              "#0d0887"
             ],
             [
              0.1111111111111111,
              "#46039f"
             ],
             [
              0.2222222222222222,
              "#7201a8"
             ],
             [
              0.3333333333333333,
              "#9c179e"
             ],
             [
              0.4444444444444444,
              "#bd3786"
             ],
             [
              0.5555555555555556,
              "#d8576b"
             ],
             [
              0.6666666666666666,
              "#ed7953"
             ],
             [
              0.7777777777777778,
              "#fb9f3a"
             ],
             [
              0.8888888888888888,
              "#fdca26"
             ],
             [
              1,
              "#f0f921"
             ]
            ],
            "type": "heatmapgl"
           }
          ],
          "histogram": [
           {
            "marker": {
             "colorbar": {
              "outlinewidth": 0,
              "ticks": ""
             }
            },
            "type": "histogram"
           }
          ],
          "histogram2d": [
           {
            "colorbar": {
             "outlinewidth": 0,
             "ticks": ""
            },
            "colorscale": [
             [
              0,
              "#0d0887"
             ],
             [
              0.1111111111111111,
              "#46039f"
             ],
             [
              0.2222222222222222,
              "#7201a8"
             ],
             [
              0.3333333333333333,
              "#9c179e"
             ],
             [
              0.4444444444444444,
              "#bd3786"
             ],
             [
              0.5555555555555556,
              "#d8576b"
             ],
             [
              0.6666666666666666,
              "#ed7953"
             ],
             [
              0.7777777777777778,
              "#fb9f3a"
             ],
             [
              0.8888888888888888,
              "#fdca26"
             ],
             [
              1,
              "#f0f921"
             ]
            ],
            "type": "histogram2d"
           }
          ],
          "histogram2dcontour": [
           {
            "colorbar": {
             "outlinewidth": 0,
             "ticks": ""
            },
            "colorscale": [
             [
              0,
              "#0d0887"
             ],
             [
              0.1111111111111111,
              "#46039f"
             ],
             [
              0.2222222222222222,
              "#7201a8"
             ],
             [
              0.3333333333333333,
              "#9c179e"
             ],
             [
              0.4444444444444444,
              "#bd3786"
             ],
             [
              0.5555555555555556,
              "#d8576b"
             ],
             [
              0.6666666666666666,
              "#ed7953"
             ],
             [
              0.7777777777777778,
              "#fb9f3a"
             ],
             [
              0.8888888888888888,
              "#fdca26"
             ],
             [
              1,
              "#f0f921"
             ]
            ],
            "type": "histogram2dcontour"
           }
          ],
          "mesh3d": [
           {
            "colorbar": {
             "outlinewidth": 0,
             "ticks": ""
            },
            "type": "mesh3d"
           }
          ],
          "parcoords": [
           {
            "line": {
             "colorbar": {
              "outlinewidth": 0,
              "ticks": ""
             }
            },
            "type": "parcoords"
           }
          ],
          "pie": [
           {
            "automargin": true,
            "type": "pie"
           }
          ],
          "scatter": [
           {
            "marker": {
             "colorbar": {
              "outlinewidth": 0,
              "ticks": ""
             }
            },
            "type": "scatter"
           }
          ],
          "scatter3d": [
           {
            "line": {
             "colorbar": {
              "outlinewidth": 0,
              "ticks": ""
             }
            },
            "marker": {
             "colorbar": {
              "outlinewidth": 0,
              "ticks": ""
             }
            },
            "type": "scatter3d"
           }
          ],
          "scattercarpet": [
           {
            "marker": {
             "colorbar": {
              "outlinewidth": 0,
              "ticks": ""
             }
            },
            "type": "scattercarpet"
           }
          ],
          "scattergeo": [
           {
            "marker": {
             "colorbar": {
              "outlinewidth": 0,
              "ticks": ""
             }
            },
            "type": "scattergeo"
           }
          ],
          "scattergl": [
           {
            "marker": {
             "colorbar": {
              "outlinewidth": 0,
              "ticks": ""
             }
            },
            "type": "scattergl"
           }
          ],
          "scattermapbox": [
           {
            "marker": {
             "colorbar": {
              "outlinewidth": 0,
              "ticks": ""
             }
            },
            "type": "scattermapbox"
           }
          ],
          "scatterpolar": [
           {
            "marker": {
             "colorbar": {
              "outlinewidth": 0,
              "ticks": ""
             }
            },
            "type": "scatterpolar"
           }
          ],
          "scatterpolargl": [
           {
            "marker": {
             "colorbar": {
              "outlinewidth": 0,
              "ticks": ""
             }
            },
            "type": "scatterpolargl"
           }
          ],
          "scatterternary": [
           {
            "marker": {
             "colorbar": {
              "outlinewidth": 0,
              "ticks": ""
             }
            },
            "type": "scatterternary"
           }
          ],
          "surface": [
           {
            "colorbar": {
             "outlinewidth": 0,
             "ticks": ""
            },
            "colorscale": [
             [
              0,
              "#0d0887"
             ],
             [
              0.1111111111111111,
              "#46039f"
             ],
             [
              0.2222222222222222,
              "#7201a8"
             ],
             [
              0.3333333333333333,
              "#9c179e"
             ],
             [
              0.4444444444444444,
              "#bd3786"
             ],
             [
              0.5555555555555556,
              "#d8576b"
             ],
             [
              0.6666666666666666,
              "#ed7953"
             ],
             [
              0.7777777777777778,
              "#fb9f3a"
             ],
             [
              0.8888888888888888,
              "#fdca26"
             ],
             [
              1,
              "#f0f921"
             ]
            ],
            "type": "surface"
           }
          ],
          "table": [
           {
            "cells": {
             "fill": {
              "color": "#EBF0F8"
             },
             "line": {
              "color": "white"
             }
            },
            "header": {
             "fill": {
              "color": "#C8D4E3"
             },
             "line": {
              "color": "white"
             }
            },
            "type": "table"
           }
          ]
         },
         "layout": {
          "annotationdefaults": {
           "arrowcolor": "#2a3f5f",
           "arrowhead": 0,
           "arrowwidth": 1
          },
          "coloraxis": {
           "colorbar": {
            "outlinewidth": 0,
            "ticks": ""
           }
          },
          "colorscale": {
           "diverging": [
            [
             0,
             "#8e0152"
            ],
            [
             0.1,
             "#c51b7d"
            ],
            [
             0.2,
             "#de77ae"
            ],
            [
             0.3,
             "#f1b6da"
            ],
            [
             0.4,
             "#fde0ef"
            ],
            [
             0.5,
             "#f7f7f7"
            ],
            [
             0.6,
             "#e6f5d0"
            ],
            [
             0.7,
             "#b8e186"
            ],
            [
             0.8,
             "#7fbc41"
            ],
            [
             0.9,
             "#4d9221"
            ],
            [
             1,
             "#276419"
            ]
           ],
           "sequential": [
            [
             0,
             "#0d0887"
            ],
            [
             0.1111111111111111,
             "#46039f"
            ],
            [
             0.2222222222222222,
             "#7201a8"
            ],
            [
             0.3333333333333333,
             "#9c179e"
            ],
            [
             0.4444444444444444,
             "#bd3786"
            ],
            [
             0.5555555555555556,
             "#d8576b"
            ],
            [
             0.6666666666666666,
             "#ed7953"
            ],
            [
             0.7777777777777778,
             "#fb9f3a"
            ],
            [
             0.8888888888888888,
             "#fdca26"
            ],
            [
             1,
             "#f0f921"
            ]
           ],
           "sequentialminus": [
            [
             0,
             "#0d0887"
            ],
            [
             0.1111111111111111,
             "#46039f"
            ],
            [
             0.2222222222222222,
             "#7201a8"
            ],
            [
             0.3333333333333333,
             "#9c179e"
            ],
            [
             0.4444444444444444,
             "#bd3786"
            ],
            [
             0.5555555555555556,
             "#d8576b"
            ],
            [
             0.6666666666666666,
             "#ed7953"
            ],
            [
             0.7777777777777778,
             "#fb9f3a"
            ],
            [
             0.8888888888888888,
             "#fdca26"
            ],
            [
             1,
             "#f0f921"
            ]
           ]
          },
          "colorway": [
           "#636efa",
           "#EF553B",
           "#00cc96",
           "#ab63fa",
           "#FFA15A",
           "#19d3f3",
           "#FF6692",
           "#B6E880",
           "#FF97FF",
           "#FECB52"
          ],
          "font": {
           "color": "#2a3f5f"
          },
          "geo": {
           "bgcolor": "white",
           "lakecolor": "white",
           "landcolor": "#E5ECF6",
           "showlakes": true,
           "showland": true,
           "subunitcolor": "white"
          },
          "hoverlabel": {
           "align": "left"
          },
          "hovermode": "closest",
          "mapbox": {
           "style": "light"
          },
          "paper_bgcolor": "white",
          "plot_bgcolor": "#E5ECF6",
          "polar": {
           "angularaxis": {
            "gridcolor": "white",
            "linecolor": "white",
            "ticks": ""
           },
           "bgcolor": "#E5ECF6",
           "radialaxis": {
            "gridcolor": "white",
            "linecolor": "white",
            "ticks": ""
           }
          },
          "scene": {
           "xaxis": {
            "backgroundcolor": "#E5ECF6",
            "gridcolor": "white",
            "gridwidth": 2,
            "linecolor": "white",
            "showbackground": true,
            "ticks": "",
            "zerolinecolor": "white"
           },
           "yaxis": {
            "backgroundcolor": "#E5ECF6",
            "gridcolor": "white",
            "gridwidth": 2,
            "linecolor": "white",
            "showbackground": true,
            "ticks": "",
            "zerolinecolor": "white"
           },
           "zaxis": {
            "backgroundcolor": "#E5ECF6",
            "gridcolor": "white",
            "gridwidth": 2,
            "linecolor": "white",
            "showbackground": true,
            "ticks": "",
            "zerolinecolor": "white"
           }
          },
          "shapedefaults": {
           "line": {
            "color": "#2a3f5f"
           }
          },
          "ternary": {
           "aaxis": {
            "gridcolor": "white",
            "linecolor": "white",
            "ticks": ""
           },
           "baxis": {
            "gridcolor": "white",
            "linecolor": "white",
            "ticks": ""
           },
           "bgcolor": "#E5ECF6",
           "caxis": {
            "gridcolor": "white",
            "linecolor": "white",
            "ticks": ""
           }
          },
          "title": {
           "x": 0.05
          },
          "xaxis": {
           "automargin": true,
           "gridcolor": "white",
           "linecolor": "white",
           "ticks": "",
           "title": {
            "standoff": 15
           },
           "zerolinecolor": "white",
           "zerolinewidth": 2
          },
          "yaxis": {
           "automargin": true,
           "gridcolor": "white",
           "linecolor": "white",
           "ticks": "",
           "title": {
            "standoff": 15
           },
           "zerolinecolor": "white",
           "zerolinewidth": 2
          }
         }
        },
        "title": {
         "text": "Evolution of hyperparameter param_pca__n_components by trial"
        },
        "xaxis": {
         "title": {
          "text": "param_pca__n_components"
         }
        },
        "yaxis": {
         "title": {
          "text": "Rank number (the higher, the better ranked)"
         }
        }
       }
      },
      "text/html": [
       "<div>                            <div id=\"545470c7-9e44-430a-8a54-b2ebbd55dfea\" class=\"plotly-graph-div\" style=\"height:525px; width:100%;\"></div>            <script type=\"text/javascript\">                require([\"plotly\"], function(Plotly) {                    window.PLOTLYENV=window.PLOTLYENV || {};                                    if (document.getElementById(\"545470c7-9e44-430a-8a54-b2ebbd55dfea\")) {                    Plotly.newPlot(                        \"545470c7-9e44-430a-8a54-b2ebbd55dfea\",                        [{\"hovertemplate\": \"<b>Trial %{y}</b><br><br>Value: %{x:.5f}<br>MAE: %{marker.color:.3f}<br><extra></extra>\", \"marker\": {\"color\": [0.6393162393162393, 0.6393162393162393, 0.6393162393162393, 0.6393162393162393, 0.6393162393162393, 0.6393162393162393, 0.6393162393162393, 0.6393162393162393, 0.6393162393162393, 0.6393162393162393, 0.6393162393162393, 0.6393162393162393, 0.6393162393162393, 0.6393162393162393, 0.6393162393162393, 0.6393162393162393, 0.6393162393162393, 0.6393162393162393, 0.6393162393162393, 0.6393162393162393, 0.6393162393162393, 0.6393162393162393, 0.6393162393162393, 0.6393162393162393, 0.6393162393162393, 0.6393162393162393, 0.6393162393162393, 0.6393162393162393, 0.6393162393162393, 0.6393162393162393, 0.6393162393162393, 0.6393162393162393, 0.6393162393162393, 0.6393162393162393, 0.6393162393162393, 0.6393162393162393, 0.6393162393162393, 0.6393162393162393, 0.6393162393162393, 0.6393162393162393, 0.6393162393162393, 0.6393162393162393, 0.6393162393162393, 0.6393162393162393, 0.6393162393162393, 0.6393162393162393, 0.6393162393162393, 0.6393162393162393, 0.6393162393162393, 0.6393162393162393, 0.6393162393162393, 0.6393162393162393, 0.6393162393162393, 0.6393162393162393, 0.6393162393162393, 0.6393162393162393, 0.6393162393162393, 0.6393162393162393, 0.6393162393162393, 0.6393162393162393, 0.6393162393162393, 0.6393162393162393, 0.6393162393162393, 0.6541310541310541, 0.6541310541310541, 0.6626780626780627, 0.6626780626780627, 0.6626780626780627, 0.6626780626780627, 0.6626780626780627, 0.6695156695156695, 0.6695156695156695, 0.6695156695156695, 0.6695156695156695, 0.6695156695156695, 0.6695156695156695, 0.6695156695156695, 0.6772079772079772, 0.6772079772079772, 0.6772079772079772, 0.6772079772079772, 0.6772079772079772, 0.6772079772079772, 0.6772079772079772, 0.6772079772079772, 0.6772079772079772, 0.6772079772079772, 0.6772079772079772, 0.6772079772079772, 0.6772079772079772, 0.6772079772079772, 0.6772079772079772, 0.6772079772079772, 0.6772079772079772, 0.6772079772079772, 0.6772079772079772, 0.6772079772079772, 0.6772079772079772, 0.6772079772079772, 0.6772079772079772, 0.6772079772079772, 0.6772079772079772, 0.6772079772079772, 0.6772079772079772, 0.6772079772079772, 0.6772079772079772, 0.6772079772079772, 0.6772079772079772, 0.6772079772079772, 0.6772079772079772, 0.6772079772079772, 0.6772079772079772, 0.6772079772079772, 0.6772079772079772, 0.6772079772079772, 0.6772079772079772, 0.6772079772079772, 0.6772079772079772, 0.6772079772079772, 0.6772079772079772, 0.6772079772079772, 0.6772079772079772, 0.6772079772079772, 0.6772079772079772, 0.6772079772079772, 0.6772079772079772, 0.6772079772079772, 0.6772079772079772, 0.6772079772079772, 0.6772079772079772, 0.6772079772079772, 0.6772079772079772, 0.6772079772079772, 0.6772079772079772, 0.6849002849002849, 0.6849002849002849, 0.6920227920227919, 0.6920227920227922, 0.6925925925925925, 0.6925925925925925, 0.6925925925925925, 0.6925925925925925, 0.6994301994301994, 0.6994301994301994, 0.6994301994301994, 0.6994301994301994, 0.6994301994301994, 0.6994301994301994, 0.6994301994301994, 0.6994301994301994, 0.6994301994301994, 0.6994301994301994, 0.6994301994301994, 0.6994301994301994, 0.6994301994301994, 0.6994301994301994, 0.6994301994301994, 0.6994301994301994, 0.6994301994301994, 0.6994301994301994, 0.6994301994301994, 0.6997150997150997, 0.7068376068376068, 0.7068376068376068, 0.7068376068376068, 0.7074074074074074, 0.7074074074074075, 0.7074074074074075, 0.7074074074074075, 0.7074074074074075, 0.7074074074074075, 0.7074074074074075, 0.7145299145299144, 0.7145299145299144, 0.7148148148148148, 0.7148148148148148, 0.7148148148148148, 0.7148148148148148, 0.7148148148148148, 0.7148148148148148, 0.7148148148148148, 0.7148148148148149, 0.7150997150997151, 0.7150997150997151, 0.7150997150997151, 0.7150997150997151, 0.7150997150997151, 0.7150997150997151, 0.7150997150997151, 0.7150997150997151, 0.7150997150997151, 0.7150997150997151, 0.7150997150997151, 0.7150997150997151, 0.7150997150997151, 0.7150997150997151, 0.7150997150997151, 0.7150997150997151, 0.7150997150997151, 0.7150997150997151, 0.7150997150997151, 0.7150997150997151, 0.7225071225071225, 0.7225071225071225, 0.7225071225071225, 0.7225071225071225, 0.7225071225071225, 0.7225071225071226, 0.7225071225071226, 0.7225071225071226, 0.7299145299145298, 0.7299145299145298, 0.7299145299145298, 0.7299145299145298, 0.7299145299145298, 0.7301994301994302, 0.7301994301994302, 0.7301994301994302, 0.7301994301994302, 0.7301994301994302, 0.7301994301994302, 0.7301994301994302, 0.7301994301994302, 0.7301994301994302, 0.7301994301994302, 0.7301994301994302, 0.7301994301994302, 0.7301994301994302, 0.7301994301994302, 0.7301994301994302, 0.7301994301994302, 0.7301994301994302, 0.7301994301994302, 0.7301994301994302, 0.7301994301994302, 0.7301994301994302, 0.7301994301994302, 0.7301994301994302, 0.7301994301994302, 0.7301994301994302, 0.7301994301994302, 0.7301994301994302, 0.7301994301994302, 0.7301994301994302, 0.7301994301994302, 0.7301994301994302, 0.7301994301994302, 0.7301994301994302, 0.7301994301994302, 0.7301994301994302, 0.7301994301994302, 0.7301994301994302, 0.7301994301994302, 0.7301994301994302, 0.7301994301994302, 0.7301994301994302, 0.7301994301994302, 0.7301994301994302, 0.7301994301994302, 0.7301994301994302, 0.7301994301994302, 0.7301994301994302, 0.7301994301994302, 0.7301994301994302, 0.7301994301994302, 0.7301994301994302, 0.7301994301994302, 0.7301994301994302, 0.7301994301994302, 0.7301994301994302, 0.7301994301994302, 0.7301994301994302, 0.7301994301994302, 0.7301994301994302, 0.7301994301994302, 0.7301994301994302, 0.7301994301994302, 0.7301994301994302, 0.7301994301994302, 0.7301994301994302, 0.7301994301994302, 0.7301994301994302, 0.7301994301994302, 0.7301994301994302, 0.7301994301994302, 0.7301994301994302, 0.7301994301994302, 0.7301994301994302, 0.7301994301994302, 0.7301994301994302, 0.7301994301994302, 0.7301994301994302, 0.7301994301994302, 0.7301994301994302, 0.7301994301994302, 0.7301994301994302, 0.7301994301994302, 0.7301994301994302, 0.7301994301994302, 0.7301994301994302, 0.7301994301994302, 0.7301994301994302, 0.7301994301994302, 0.7301994301994302, 0.7301994301994302, 0.7301994301994302, 0.7301994301994302, 0.7301994301994302, 0.7301994301994302, 0.7301994301994302, 0.7301994301994302, 0.7301994301994302, 0.7301994301994302, 0.7301994301994302, 0.7301994301994302, 0.7301994301994302, 0.7301994301994302, 0.7301994301994302, 0.7301994301994302, 0.7301994301994302, 0.7301994301994302, 0.7301994301994302, 0.7301994301994302, 0.7301994301994302, 0.7301994301994302, 0.7301994301994302, 0.7301994301994302, 0.7301994301994302, 0.7301994301994302, 0.7301994301994302, 0.7301994301994302, 0.7301994301994302, 0.7301994301994302, 0.7301994301994302, 0.7301994301994302, 0.7373219373219373, 0.7373219373219373, 0.7373219373219373, 0.7373219373219373, 0.7373219373219373, 0.7373219373219373, 0.7373219373219373, 0.7373219373219373, 0.7373219373219373, 0.7373219373219373, 0.7373219373219373, 0.7373219373219373, 0.7373219373219373, 0.7373219373219373, 0.7373219373219373, 0.7376068376068374, 0.7376068376068374, 0.7376068376068374, 0.7376068376068374, 0.7376068376068374, 0.7376068376068377, 0.7376068376068377, 0.7376068376068377, 0.7376068376068377, 0.7376068376068377], \"colorbar\": {\"title\": {\"text\": \"mean_test_score\"}}, \"colorscale\": [[0.0, \"#fde725\"], [0.1111111111111111, \"#b5de2b\"], [0.2222222222222222, \"#6ece58\"], [0.3333333333333333, \"#35b779\"], [0.4444444444444444, \"#1f9e89\"], [0.5555555555555556, \"#26828e\"], [0.6666666666666666, \"#31688e\"], [0.7777777777777778, \"#3e4989\"], [0.8888888888888888, \"#482878\"], [1.0, \"#440154\"]], \"showscale\": true}, \"mode\": \"markers\", \"name\": \"param_pca__n_components\", \"showlegend\": false, \"type\": \"scatter\", \"x\": [1, 1, 2, 3, 4, 5, 6, 7, 8, 9, 6, 5, 4, 3, 2, 1, 9, 8, 3, 4, 5, 6, 9, 8, 7, 7, 5, 4, 3, 2, 1, 7, 6, 2, 8, 1, 2, 3, 4, 5, 6, 7, 8, 9, 9, 9, 7, 1, 8, 3, 2, 3, 4, 5, 6, 9, 8, 7, 1, 6, 5, 4, 2, 2, 1, 8, 6, 5, 9, 7, 2, 2, 2, 2, 2, 2, 2, 2, 1, 1, 1, 2, 1, 2, 1, 2, 2, 1, 2, 1, 1, 1, 2, 1, 2, 1, 2, 1, 1, 1, 2, 2, 2, 1, 1, 2, 1, 2, 2, 1, 1, 1, 2, 2, 1, 2, 1, 1, 1, 1, 1, 2, 2, 1, 1, 1, 2, 1, 1, 1, 2, 2, 2, 2, 3, 3, 3, 4, 3, 3, 3, 3, 3, 3, 3, 3, 3, 3, 3, 3, 3, 3, 3, 3, 3, 3, 3, 3, 3, 3, 3, 3, 3, 3, 3, 3, 4, 4, 4, 4, 4, 4, 3, 3, 4, 5, 4, 9, 8, 7, 6, 4, 4, 4, 4, 4, 4, 4, 4, 4, 4, 4, 4, 4, 4, 4, 4, 4, 4, 4, 4, 4, 5, 6, 7, 8, 9, 4, 4, 4, 8, 9, 6, 5, 7, 9, 8, 5, 8, 7, 9, 8, 7, 6, 5, 6, 9, 7, 6, 8, 9, 7, 6, 5, 5, 9, 8, 7, 6, 5, 6, 7, 8, 9, 7, 6, 5, 9, 7, 8, 9, 5, 6, 7, 8, 5, 9, 6, 7, 8, 9, 5, 6, 8, 5, 7, 9, 5, 9, 8, 7, 6, 5, 9, 8, 7, 6, 5, 6, 8, 7, 6, 5, 5, 8, 7, 6, 5, 9, 8, 7, 6, 5, 9, 8, 7, 6, 5, 9, 6, 8, 8, 9, 8, 7, 6, 5, 9, 8, 7, 6, 5, 9, 8, 7, 6, 5, 7, 8, 9, 9, 5, 6, 7, 8, 9, 9, 6, 7, 8, 9, 5, 6, 5, 7, 8, 7, 6, 5, 8, 9, 7, 6, 5, 9, 5, 9, 7, 8, 6, 5, 6, 7, 8, 9, 5, 6, 7, 8, 9], \"y\": [0, 0, 0, 0, 0, 0, 0, 0, 0, 0, 0, 0, 0, 0, 0, 0, 0, 0, 0, 0, 0, 0, 0, 0, 0, 0, 0, 0, 0, 0, 0, 0, 0, 0, 0, 0, 0, 0, 0, 0, 0, 0, 0, 0, 0, 0, 0, 0, 0, 0, 0, 0, 0, 0, 0, 0, 0, 0, 0, 0, 0, 0, 0, 2, 2, 7, 7, 7, 7, 7, 14, 14, 14, 14, 14, 14, 14, 71, 71, 71, 71, 71, 71, 71, 71, 71, 71, 71, 71, 71, 71, 71, 71, 71, 71, 71, 71, 71, 71, 71, 71, 71, 71, 71, 71, 71, 71, 71, 71, 71, 71, 71, 71, 71, 71, 71, 71, 71, 71, 71, 71, 71, 71, 71, 71, 71, 71, 71, 71, 71, 71, 71, 71, 71, 73, 73, 74, 75, 79, 79, 79, 79, 98, 98, 98, 98, 98, 98, 98, 98, 98, 98, 98, 98, 98, 98, 98, 98, 98, 98, 98, 99, 102, 102, 102, 103, 109, 109, 109, 109, 109, 109, 111, 111, 118, 118, 118, 118, 118, 118, 118, 119, 139, 139, 139, 139, 139, 139, 139, 139, 139, 139, 139, 139, 139, 139, 139, 139, 139, 139, 139, 139, 144, 144, 144, 144, 144, 147, 147, 147, 152, 152, 152, 152, 152, 272, 272, 272, 272, 272, 272, 272, 272, 272, 272, 272, 272, 272, 272, 272, 272, 272, 272, 272, 272, 272, 272, 272, 272, 272, 272, 272, 272, 272, 272, 272, 272, 272, 272, 272, 272, 272, 272, 272, 272, 272, 272, 272, 272, 272, 272, 272, 272, 272, 272, 272, 272, 272, 272, 272, 272, 272, 272, 272, 272, 272, 272, 272, 272, 272, 272, 272, 272, 272, 272, 272, 272, 272, 272, 272, 272, 272, 272, 272, 272, 272, 272, 272, 272, 272, 272, 272, 272, 272, 272, 272, 272, 272, 272, 272, 272, 272, 272, 272, 272, 272, 272, 272, 272, 272, 272, 272, 272, 272, 272, 272, 272, 272, 272, 272, 272, 272, 272, 272, 272, 287, 287, 287, 287, 287, 287, 287, 287, 287, 287, 287, 287, 287, 287, 287, 292, 292, 292, 292, 292, 297, 297, 297, 297, 297]}, {\"line\": {\"color\": \"#e377c2\", \"dash\": \"dash\"}, \"mode\": \"lines\", \"showlegend\": false, \"type\": \"scatter\", \"x\": [5, 5], \"y\": [0, 297]}],                        {\"annotations\": [{\"align\": \"center\", \"bordercolor\": \"black\", \"borderwidth\": 1, \"showarrow\": false, \"text\": \"Vertical line: best score\", \"x\": 0.5, \"xref\": \"paper\", \"y\": -0.22, \"yref\": \"paper\"}], \"legend\": {\"itemsizing\": \"constant\"}, \"template\": {\"data\": {\"bar\": [{\"error_x\": {\"color\": \"#2a3f5f\"}, \"error_y\": {\"color\": \"#2a3f5f\"}, \"marker\": {\"line\": {\"color\": \"#E5ECF6\", \"width\": 0.5}}, \"type\": \"bar\"}], \"barpolar\": [{\"marker\": {\"line\": {\"color\": \"#E5ECF6\", \"width\": 0.5}}, \"type\": \"barpolar\"}], \"carpet\": [{\"aaxis\": {\"endlinecolor\": \"#2a3f5f\", \"gridcolor\": \"white\", \"linecolor\": \"white\", \"minorgridcolor\": \"white\", \"startlinecolor\": \"#2a3f5f\"}, \"baxis\": {\"endlinecolor\": \"#2a3f5f\", \"gridcolor\": \"white\", \"linecolor\": \"white\", \"minorgridcolor\": \"white\", \"startlinecolor\": \"#2a3f5f\"}, \"type\": \"carpet\"}], \"choropleth\": [{\"colorbar\": {\"outlinewidth\": 0, \"ticks\": \"\"}, \"type\": \"choropleth\"}], \"contour\": [{\"colorbar\": {\"outlinewidth\": 0, \"ticks\": \"\"}, \"colorscale\": [[0.0, \"#0d0887\"], [0.1111111111111111, \"#46039f\"], [0.2222222222222222, \"#7201a8\"], [0.3333333333333333, \"#9c179e\"], [0.4444444444444444, \"#bd3786\"], [0.5555555555555556, \"#d8576b\"], [0.6666666666666666, \"#ed7953\"], [0.7777777777777778, \"#fb9f3a\"], [0.8888888888888888, \"#fdca26\"], [1.0, \"#f0f921\"]], \"type\": \"contour\"}], \"contourcarpet\": [{\"colorbar\": {\"outlinewidth\": 0, \"ticks\": \"\"}, \"type\": \"contourcarpet\"}], \"heatmap\": [{\"colorbar\": {\"outlinewidth\": 0, \"ticks\": \"\"}, \"colorscale\": [[0.0, \"#0d0887\"], [0.1111111111111111, \"#46039f\"], [0.2222222222222222, \"#7201a8\"], [0.3333333333333333, \"#9c179e\"], [0.4444444444444444, \"#bd3786\"], [0.5555555555555556, \"#d8576b\"], [0.6666666666666666, \"#ed7953\"], [0.7777777777777778, \"#fb9f3a\"], [0.8888888888888888, \"#fdca26\"], [1.0, \"#f0f921\"]], \"type\": \"heatmap\"}], \"heatmapgl\": [{\"colorbar\": {\"outlinewidth\": 0, \"ticks\": \"\"}, \"colorscale\": [[0.0, \"#0d0887\"], [0.1111111111111111, \"#46039f\"], [0.2222222222222222, \"#7201a8\"], [0.3333333333333333, \"#9c179e\"], [0.4444444444444444, \"#bd3786\"], [0.5555555555555556, \"#d8576b\"], [0.6666666666666666, \"#ed7953\"], [0.7777777777777778, \"#fb9f3a\"], [0.8888888888888888, \"#fdca26\"], [1.0, \"#f0f921\"]], \"type\": \"heatmapgl\"}], \"histogram\": [{\"marker\": {\"colorbar\": {\"outlinewidth\": 0, \"ticks\": \"\"}}, \"type\": \"histogram\"}], \"histogram2d\": [{\"colorbar\": {\"outlinewidth\": 0, \"ticks\": \"\"}, \"colorscale\": [[0.0, \"#0d0887\"], [0.1111111111111111, \"#46039f\"], [0.2222222222222222, \"#7201a8\"], [0.3333333333333333, \"#9c179e\"], [0.4444444444444444, \"#bd3786\"], [0.5555555555555556, \"#d8576b\"], [0.6666666666666666, \"#ed7953\"], [0.7777777777777778, \"#fb9f3a\"], [0.8888888888888888, \"#fdca26\"], [1.0, \"#f0f921\"]], \"type\": \"histogram2d\"}], \"histogram2dcontour\": [{\"colorbar\": {\"outlinewidth\": 0, \"ticks\": \"\"}, \"colorscale\": [[0.0, \"#0d0887\"], [0.1111111111111111, \"#46039f\"], [0.2222222222222222, \"#7201a8\"], [0.3333333333333333, \"#9c179e\"], [0.4444444444444444, \"#bd3786\"], [0.5555555555555556, \"#d8576b\"], [0.6666666666666666, \"#ed7953\"], [0.7777777777777778, \"#fb9f3a\"], [0.8888888888888888, \"#fdca26\"], [1.0, \"#f0f921\"]], \"type\": \"histogram2dcontour\"}], \"mesh3d\": [{\"colorbar\": {\"outlinewidth\": 0, \"ticks\": \"\"}, \"type\": \"mesh3d\"}], \"parcoords\": [{\"line\": {\"colorbar\": {\"outlinewidth\": 0, \"ticks\": \"\"}}, \"type\": \"parcoords\"}], \"pie\": [{\"automargin\": true, \"type\": \"pie\"}], \"scatter\": [{\"marker\": {\"colorbar\": {\"outlinewidth\": 0, \"ticks\": \"\"}}, \"type\": \"scatter\"}], \"scatter3d\": [{\"line\": {\"colorbar\": {\"outlinewidth\": 0, \"ticks\": \"\"}}, \"marker\": {\"colorbar\": {\"outlinewidth\": 0, \"ticks\": \"\"}}, \"type\": \"scatter3d\"}], \"scattercarpet\": [{\"marker\": {\"colorbar\": {\"outlinewidth\": 0, \"ticks\": \"\"}}, \"type\": \"scattercarpet\"}], \"scattergeo\": [{\"marker\": {\"colorbar\": {\"outlinewidth\": 0, \"ticks\": \"\"}}, \"type\": \"scattergeo\"}], \"scattergl\": [{\"marker\": {\"colorbar\": {\"outlinewidth\": 0, \"ticks\": \"\"}}, \"type\": \"scattergl\"}], \"scattermapbox\": [{\"marker\": {\"colorbar\": {\"outlinewidth\": 0, \"ticks\": \"\"}}, \"type\": \"scattermapbox\"}], \"scatterpolar\": [{\"marker\": {\"colorbar\": {\"outlinewidth\": 0, \"ticks\": \"\"}}, \"type\": \"scatterpolar\"}], \"scatterpolargl\": [{\"marker\": {\"colorbar\": {\"outlinewidth\": 0, \"ticks\": \"\"}}, \"type\": \"scatterpolargl\"}], \"scatterternary\": [{\"marker\": {\"colorbar\": {\"outlinewidth\": 0, \"ticks\": \"\"}}, \"type\": \"scatterternary\"}], \"surface\": [{\"colorbar\": {\"outlinewidth\": 0, \"ticks\": \"\"}, \"colorscale\": [[0.0, \"#0d0887\"], [0.1111111111111111, \"#46039f\"], [0.2222222222222222, \"#7201a8\"], [0.3333333333333333, \"#9c179e\"], [0.4444444444444444, \"#bd3786\"], [0.5555555555555556, \"#d8576b\"], [0.6666666666666666, \"#ed7953\"], [0.7777777777777778, \"#fb9f3a\"], [0.8888888888888888, \"#fdca26\"], [1.0, \"#f0f921\"]], \"type\": \"surface\"}], \"table\": [{\"cells\": {\"fill\": {\"color\": \"#EBF0F8\"}, \"line\": {\"color\": \"white\"}}, \"header\": {\"fill\": {\"color\": \"#C8D4E3\"}, \"line\": {\"color\": \"white\"}}, \"type\": \"table\"}]}, \"layout\": {\"annotationdefaults\": {\"arrowcolor\": \"#2a3f5f\", \"arrowhead\": 0, \"arrowwidth\": 1}, \"coloraxis\": {\"colorbar\": {\"outlinewidth\": 0, \"ticks\": \"\"}}, \"colorscale\": {\"diverging\": [[0, \"#8e0152\"], [0.1, \"#c51b7d\"], [0.2, \"#de77ae\"], [0.3, \"#f1b6da\"], [0.4, \"#fde0ef\"], [0.5, \"#f7f7f7\"], [0.6, \"#e6f5d0\"], [0.7, \"#b8e186\"], [0.8, \"#7fbc41\"], [0.9, \"#4d9221\"], [1, \"#276419\"]], \"sequential\": [[0.0, \"#0d0887\"], [0.1111111111111111, \"#46039f\"], [0.2222222222222222, \"#7201a8\"], [0.3333333333333333, \"#9c179e\"], [0.4444444444444444, \"#bd3786\"], [0.5555555555555556, \"#d8576b\"], [0.6666666666666666, \"#ed7953\"], [0.7777777777777778, \"#fb9f3a\"], [0.8888888888888888, \"#fdca26\"], [1.0, \"#f0f921\"]], \"sequentialminus\": [[0.0, \"#0d0887\"], [0.1111111111111111, \"#46039f\"], [0.2222222222222222, \"#7201a8\"], [0.3333333333333333, \"#9c179e\"], [0.4444444444444444, \"#bd3786\"], [0.5555555555555556, \"#d8576b\"], [0.6666666666666666, \"#ed7953\"], [0.7777777777777778, \"#fb9f3a\"], [0.8888888888888888, \"#fdca26\"], [1.0, \"#f0f921\"]]}, \"colorway\": [\"#636efa\", \"#EF553B\", \"#00cc96\", \"#ab63fa\", \"#FFA15A\", \"#19d3f3\", \"#FF6692\", \"#B6E880\", \"#FF97FF\", \"#FECB52\"], \"font\": {\"color\": \"#2a3f5f\"}, \"geo\": {\"bgcolor\": \"white\", \"lakecolor\": \"white\", \"landcolor\": \"#E5ECF6\", \"showlakes\": true, \"showland\": true, \"subunitcolor\": \"white\"}, \"hoverlabel\": {\"align\": \"left\"}, \"hovermode\": \"closest\", \"mapbox\": {\"style\": \"light\"}, \"paper_bgcolor\": \"white\", \"plot_bgcolor\": \"#E5ECF6\", \"polar\": {\"angularaxis\": {\"gridcolor\": \"white\", \"linecolor\": \"white\", \"ticks\": \"\"}, \"bgcolor\": \"#E5ECF6\", \"radialaxis\": {\"gridcolor\": \"white\", \"linecolor\": \"white\", \"ticks\": \"\"}}, \"scene\": {\"xaxis\": {\"backgroundcolor\": \"#E5ECF6\", \"gridcolor\": \"white\", \"gridwidth\": 2, \"linecolor\": \"white\", \"showbackground\": true, \"ticks\": \"\", \"zerolinecolor\": \"white\"}, \"yaxis\": {\"backgroundcolor\": \"#E5ECF6\", \"gridcolor\": \"white\", \"gridwidth\": 2, \"linecolor\": \"white\", \"showbackground\": true, \"ticks\": \"\", \"zerolinecolor\": \"white\"}, \"zaxis\": {\"backgroundcolor\": \"#E5ECF6\", \"gridcolor\": \"white\", \"gridwidth\": 2, \"linecolor\": \"white\", \"showbackground\": true, \"ticks\": \"\", \"zerolinecolor\": \"white\"}}, \"shapedefaults\": {\"line\": {\"color\": \"#2a3f5f\"}}, \"ternary\": {\"aaxis\": {\"gridcolor\": \"white\", \"linecolor\": \"white\", \"ticks\": \"\"}, \"baxis\": {\"gridcolor\": \"white\", \"linecolor\": \"white\", \"ticks\": \"\"}, \"bgcolor\": \"#E5ECF6\", \"caxis\": {\"gridcolor\": \"white\", \"linecolor\": \"white\", \"ticks\": \"\"}}, \"title\": {\"x\": 0.05}, \"xaxis\": {\"automargin\": true, \"gridcolor\": \"white\", \"linecolor\": \"white\", \"ticks\": \"\", \"title\": {\"standoff\": 15}, \"zerolinecolor\": \"white\", \"zerolinewidth\": 2}, \"yaxis\": {\"automargin\": true, \"gridcolor\": \"white\", \"linecolor\": \"white\", \"ticks\": \"\", \"title\": {\"standoff\": 15}, \"zerolinecolor\": \"white\", \"zerolinewidth\": 2}}}, \"title\": {\"text\": \"Evolution of hyperparameter param_pca__n_components by trial\"}, \"xaxis\": {\"title\": {\"text\": \"param_pca__n_components\"}}, \"yaxis\": {\"title\": {\"text\": \"Rank number (the higher, the better ranked)\"}}},                        {\"responsive\": true}                    ).then(function(){\n",
       "                            \n",
       "var gd = document.getElementById('545470c7-9e44-430a-8a54-b2ebbd55dfea');\n",
       "var x = new MutationObserver(function (mutations, observer) {{\n",
       "        var display = window.getComputedStyle(gd).display;\n",
       "        if (!display || display === 'none') {{\n",
       "            console.log([gd, 'removed!']);\n",
       "            Plotly.purge(gd);\n",
       "            observer.disconnect();\n",
       "        }}\n",
       "}});\n",
       "\n",
       "// Listen for the removal of the full notebook cells\n",
       "var notebookContainer = gd.closest('#notebook-container');\n",
       "if (notebookContainer) {{\n",
       "    x.observe(notebookContainer, {childList: true});\n",
       "}}\n",
       "\n",
       "// Listen for the clearing of the current output cell\n",
       "var outputEl = gd.closest('.output');\n",
       "if (outputEl) {{\n",
       "    x.observe(outputEl, {childList: true});\n",
       "}}\n",
       "\n",
       "                        })                };                });            </script>        </div>"
      ]
     },
     "metadata": {},
     "output_type": "display_data"
    },
    {
     "data": {
      "application/vnd.plotly.v1+json": {
       "config": {
        "plotlyServerURL": "https://plot.ly"
       },
       "data": [
        {
         "hovertemplate": "<b>Trial %{y}</b><br><br>Value: %{x:.5f}<br>MAE: %{marker.color:.3f}<br><extra></extra>",
         "marker": {
          "color": [
           0.6393162393162393,
           0.6393162393162393,
           0.6393162393162393,
           0.6393162393162393,
           0.6393162393162393,
           0.6393162393162393,
           0.6393162393162393,
           0.6393162393162393,
           0.6393162393162393,
           0.6393162393162393,
           0.6393162393162393,
           0.6393162393162393,
           0.6393162393162393,
           0.6393162393162393,
           0.6393162393162393,
           0.6393162393162393,
           0.6393162393162393,
           0.6393162393162393,
           0.6393162393162393,
           0.6393162393162393,
           0.6393162393162393,
           0.6393162393162393,
           0.6393162393162393,
           0.6393162393162393,
           0.6393162393162393,
           0.6393162393162393,
           0.6393162393162393,
           0.6393162393162393,
           0.6393162393162393,
           0.6393162393162393,
           0.6393162393162393,
           0.6393162393162393,
           0.6393162393162393,
           0.6393162393162393,
           0.6393162393162393,
           0.6393162393162393,
           0.6393162393162393,
           0.6393162393162393,
           0.6393162393162393,
           0.6393162393162393,
           0.6393162393162393,
           0.6393162393162393,
           0.6393162393162393,
           0.6393162393162393,
           0.6393162393162393,
           0.6393162393162393,
           0.6393162393162393,
           0.6393162393162393,
           0.6393162393162393,
           0.6393162393162393,
           0.6393162393162393,
           0.6393162393162393,
           0.6393162393162393,
           0.6393162393162393,
           0.6393162393162393,
           0.6393162393162393,
           0.6393162393162393,
           0.6393162393162393,
           0.6393162393162393,
           0.6393162393162393,
           0.6393162393162393,
           0.6393162393162393,
           0.6393162393162393,
           0.6541310541310541,
           0.6541310541310541,
           0.6626780626780627,
           0.6626780626780627,
           0.6626780626780627,
           0.6626780626780627,
           0.6626780626780627,
           0.6695156695156695,
           0.6695156695156695,
           0.6695156695156695,
           0.6695156695156695,
           0.6695156695156695,
           0.6695156695156695,
           0.6695156695156695,
           0.6772079772079772,
           0.6772079772079772,
           0.6772079772079772,
           0.6772079772079772,
           0.6772079772079772,
           0.6772079772079772,
           0.6772079772079772,
           0.6772079772079772,
           0.6772079772079772,
           0.6772079772079772,
           0.6772079772079772,
           0.6772079772079772,
           0.6772079772079772,
           0.6772079772079772,
           0.6772079772079772,
           0.6772079772079772,
           0.6772079772079772,
           0.6772079772079772,
           0.6772079772079772,
           0.6772079772079772,
           0.6772079772079772,
           0.6772079772079772,
           0.6772079772079772,
           0.6772079772079772,
           0.6772079772079772,
           0.6772079772079772,
           0.6772079772079772,
           0.6772079772079772,
           0.6772079772079772,
           0.6772079772079772,
           0.6772079772079772,
           0.6772079772079772,
           0.6772079772079772,
           0.6772079772079772,
           0.6772079772079772,
           0.6772079772079772,
           0.6772079772079772,
           0.6772079772079772,
           0.6772079772079772,
           0.6772079772079772,
           0.6772079772079772,
           0.6772079772079772,
           0.6772079772079772,
           0.6772079772079772,
           0.6772079772079772,
           0.6772079772079772,
           0.6772079772079772,
           0.6772079772079772,
           0.6772079772079772,
           0.6772079772079772,
           0.6772079772079772,
           0.6772079772079772,
           0.6772079772079772,
           0.6772079772079772,
           0.6772079772079772,
           0.6772079772079772,
           0.6772079772079772,
           0.6849002849002849,
           0.6849002849002849,
           0.6920227920227919,
           0.6920227920227922,
           0.6925925925925925,
           0.6925925925925925,
           0.6925925925925925,
           0.6925925925925925,
           0.6994301994301994,
           0.6994301994301994,
           0.6994301994301994,
           0.6994301994301994,
           0.6994301994301994,
           0.6994301994301994,
           0.6994301994301994,
           0.6994301994301994,
           0.6994301994301994,
           0.6994301994301994,
           0.6994301994301994,
           0.6994301994301994,
           0.6994301994301994,
           0.6994301994301994,
           0.6994301994301994,
           0.6994301994301994,
           0.6994301994301994,
           0.6994301994301994,
           0.6994301994301994,
           0.6997150997150997,
           0.7068376068376068,
           0.7068376068376068,
           0.7068376068376068,
           0.7074074074074074,
           0.7074074074074075,
           0.7074074074074075,
           0.7074074074074075,
           0.7074074074074075,
           0.7074074074074075,
           0.7074074074074075,
           0.7145299145299144,
           0.7145299145299144,
           0.7148148148148148,
           0.7148148148148148,
           0.7148148148148148,
           0.7148148148148148,
           0.7148148148148148,
           0.7148148148148148,
           0.7148148148148148,
           0.7148148148148149,
           0.7150997150997151,
           0.7150997150997151,
           0.7150997150997151,
           0.7150997150997151,
           0.7150997150997151,
           0.7150997150997151,
           0.7150997150997151,
           0.7150997150997151,
           0.7150997150997151,
           0.7150997150997151,
           0.7150997150997151,
           0.7150997150997151,
           0.7150997150997151,
           0.7150997150997151,
           0.7150997150997151,
           0.7150997150997151,
           0.7150997150997151,
           0.7150997150997151,
           0.7150997150997151,
           0.7150997150997151,
           0.7225071225071225,
           0.7225071225071225,
           0.7225071225071225,
           0.7225071225071225,
           0.7225071225071225,
           0.7225071225071226,
           0.7225071225071226,
           0.7225071225071226,
           0.7299145299145298,
           0.7299145299145298,
           0.7299145299145298,
           0.7299145299145298,
           0.7299145299145298,
           0.7301994301994302,
           0.7301994301994302,
           0.7301994301994302,
           0.7301994301994302,
           0.7301994301994302,
           0.7301994301994302,
           0.7301994301994302,
           0.7301994301994302,
           0.7301994301994302,
           0.7301994301994302,
           0.7301994301994302,
           0.7301994301994302,
           0.7301994301994302,
           0.7301994301994302,
           0.7301994301994302,
           0.7301994301994302,
           0.7301994301994302,
           0.7301994301994302,
           0.7301994301994302,
           0.7301994301994302,
           0.7301994301994302,
           0.7301994301994302,
           0.7301994301994302,
           0.7301994301994302,
           0.7301994301994302,
           0.7301994301994302,
           0.7301994301994302,
           0.7301994301994302,
           0.7301994301994302,
           0.7301994301994302,
           0.7301994301994302,
           0.7301994301994302,
           0.7301994301994302,
           0.7301994301994302,
           0.7301994301994302,
           0.7301994301994302,
           0.7301994301994302,
           0.7301994301994302,
           0.7301994301994302,
           0.7301994301994302,
           0.7301994301994302,
           0.7301994301994302,
           0.7301994301994302,
           0.7301994301994302,
           0.7301994301994302,
           0.7301994301994302,
           0.7301994301994302,
           0.7301994301994302,
           0.7301994301994302,
           0.7301994301994302,
           0.7301994301994302,
           0.7301994301994302,
           0.7301994301994302,
           0.7301994301994302,
           0.7301994301994302,
           0.7301994301994302,
           0.7301994301994302,
           0.7301994301994302,
           0.7301994301994302,
           0.7301994301994302,
           0.7301994301994302,
           0.7301994301994302,
           0.7301994301994302,
           0.7301994301994302,
           0.7301994301994302,
           0.7301994301994302,
           0.7301994301994302,
           0.7301994301994302,
           0.7301994301994302,
           0.7301994301994302,
           0.7301994301994302,
           0.7301994301994302,
           0.7301994301994302,
           0.7301994301994302,
           0.7301994301994302,
           0.7301994301994302,
           0.7301994301994302,
           0.7301994301994302,
           0.7301994301994302,
           0.7301994301994302,
           0.7301994301994302,
           0.7301994301994302,
           0.7301994301994302,
           0.7301994301994302,
           0.7301994301994302,
           0.7301994301994302,
           0.7301994301994302,
           0.7301994301994302,
           0.7301994301994302,
           0.7301994301994302,
           0.7301994301994302,
           0.7301994301994302,
           0.7301994301994302,
           0.7301994301994302,
           0.7301994301994302,
           0.7301994301994302,
           0.7301994301994302,
           0.7301994301994302,
           0.7301994301994302,
           0.7301994301994302,
           0.7301994301994302,
           0.7301994301994302,
           0.7301994301994302,
           0.7301994301994302,
           0.7301994301994302,
           0.7301994301994302,
           0.7301994301994302,
           0.7301994301994302,
           0.7301994301994302,
           0.7301994301994302,
           0.7301994301994302,
           0.7301994301994302,
           0.7301994301994302,
           0.7301994301994302,
           0.7301994301994302,
           0.7301994301994302,
           0.7301994301994302,
           0.7301994301994302,
           0.7301994301994302,
           0.7301994301994302,
           0.7373219373219373,
           0.7373219373219373,
           0.7373219373219373,
           0.7373219373219373,
           0.7373219373219373,
           0.7373219373219373,
           0.7373219373219373,
           0.7373219373219373,
           0.7373219373219373,
           0.7373219373219373,
           0.7373219373219373,
           0.7373219373219373,
           0.7373219373219373,
           0.7373219373219373,
           0.7373219373219373,
           0.7376068376068374,
           0.7376068376068374,
           0.7376068376068374,
           0.7376068376068374,
           0.7376068376068374,
           0.7376068376068377,
           0.7376068376068377,
           0.7376068376068377,
           0.7376068376068377,
           0.7376068376068377
          ],
          "colorbar": {
           "title": {
            "text": "mean_test_score"
           }
          },
          "colorscale": [
           [
            0,
            "#fde725"
           ],
           [
            0.1111111111111111,
            "#b5de2b"
           ],
           [
            0.2222222222222222,
            "#6ece58"
           ],
           [
            0.3333333333333333,
            "#35b779"
           ],
           [
            0.4444444444444444,
            "#1f9e89"
           ],
           [
            0.5555555555555556,
            "#26828e"
           ],
           [
            0.6666666666666666,
            "#31688e"
           ],
           [
            0.7777777777777778,
            "#3e4989"
           ],
           [
            0.8888888888888888,
            "#482878"
           ],
           [
            1,
            "#440154"
           ]
          ],
          "showscale": true
         },
         "mode": "markers",
         "name": "param_logistic_Reg__penalty",
         "showlegend": false,
         "type": "scatter",
         "x": [
          "l1",
          "l1",
          "l1",
          "l1",
          "l1",
          "l1",
          "l1",
          "l1",
          "l1",
          "l1",
          "l1",
          "l1",
          "l1",
          "l1",
          "l1",
          "l1",
          "l1",
          "l1",
          "l1",
          "l1",
          "l1",
          "l1",
          "l1",
          "l1",
          "l1",
          "l1",
          "l1",
          "l1",
          "l1",
          "l1",
          "l1",
          "l1",
          "l1",
          "l1",
          "l1",
          "l1",
          "l1",
          "l1",
          "l1",
          "l1",
          "l1",
          "l1",
          "l1",
          "l1",
          "l1",
          "l1",
          "l1",
          "l1",
          "l1",
          "l1",
          "l1",
          "l1",
          "l1",
          "l1",
          "l1",
          "l1",
          "l1",
          "l1",
          "l1",
          "l1",
          "l1",
          "l1",
          "l1",
          "l1",
          "l1",
          "l1",
          "l1",
          "l1",
          "l1",
          "l1",
          "l2",
          "l2",
          "l2",
          "l2",
          "l2",
          "l2",
          "l2",
          "l2",
          "l1",
          "l1",
          "l1",
          "l2",
          "l2",
          "l1",
          "l2",
          "l2",
          "l1",
          "l1",
          "l1",
          "l2",
          "l2",
          "l1",
          "l2",
          "l2",
          "l2",
          "l2",
          "l2",
          "l2",
          "l2",
          "l2",
          "l2",
          "l2",
          "l1",
          "l1",
          "l1",
          "l1",
          "l1",
          "l1",
          "l2",
          "l2",
          "l2",
          "l2",
          "l1",
          "l1",
          "l1",
          "l2",
          "l1",
          "l1",
          "l2",
          "l2",
          "l2",
          "l1",
          "l2",
          "l2",
          "l2",
          "l2",
          "l1",
          "l2",
          "l2",
          "l1",
          "l1",
          "l1",
          "l2",
          "l2",
          "l2",
          "l2",
          "l1",
          "l1",
          "l2",
          "l2",
          "l2",
          "l2",
          "l2",
          "l1",
          "l2",
          "l2",
          "l1",
          "l1",
          "l2",
          "l2",
          "l2",
          "l1",
          "l2",
          "l2",
          "l1",
          "l1",
          "l1",
          "l2",
          "l1",
          "l1",
          "l1",
          "l2",
          "l2",
          "l2",
          "l2",
          "l2",
          "l2",
          "l2",
          "l2",
          "l2",
          "l2",
          "l2",
          "l1",
          "l1",
          "l1",
          "l1",
          "l1",
          "l1",
          "l1",
          "l1",
          "l1",
          "l2",
          "l2",
          "l2",
          "l2",
          "l2",
          "l1",
          "l2",
          "l2",
          "l2",
          "l2",
          "l1",
          "l2",
          "l1",
          "l1",
          "l1",
          "l2",
          "l1",
          "l1",
          "l1",
          "l1",
          "l2",
          "l2",
          "l2",
          "l2",
          "l2",
          "l2",
          "l1",
          "l2",
          "l2",
          "l2",
          "l2",
          "l2",
          "l2",
          "l2",
          "l1",
          "l2",
          "l2",
          "l1",
          "l1",
          "l2",
          "l2",
          "l2",
          "l1",
          "l1",
          "l2",
          "l2",
          "l2",
          "l1",
          "l1",
          "l1",
          "l2",
          "l2",
          "l2",
          "l2",
          "l1",
          "l1",
          "l1",
          "l1",
          "l1",
          "l2",
          "l2",
          "l2",
          "l2",
          "l1",
          "l1",
          "l1",
          "l2",
          "l1",
          "l1",
          "l1",
          "l2",
          "l2",
          "l2",
          "l2",
          "l1",
          "l2",
          "l1",
          "l1",
          "l1",
          "l1",
          "l2",
          "l2",
          "l2",
          "l1",
          "l2",
          "l2",
          "l2",
          "l2",
          "l2",
          "l2",
          "l2",
          "l2",
          "l1",
          "l1",
          "l1",
          "l1",
          "l1",
          "l2",
          "l2",
          "l2",
          "l2",
          "l1",
          "l2",
          "l1",
          "l1",
          "l1",
          "l1",
          "l2",
          "l2",
          "l2",
          "l2",
          "l2",
          "l2",
          "l2",
          "l2",
          "l2",
          "l2",
          "l1",
          "l1",
          "l2",
          "l1",
          "l1",
          "l1",
          "l1",
          "l1",
          "l1",
          "l2",
          "l2",
          "l2",
          "l2",
          "l2",
          "l1",
          "l1",
          "l1",
          "l1",
          "l1",
          "l1",
          "l2",
          "l2",
          "l1",
          "l2",
          "l2",
          "l2",
          "l2",
          "l2",
          "l2",
          "l1",
          "l1",
          "l1",
          "l1",
          "l2",
          "l2",
          "l1",
          "l2",
          "l2",
          "l2",
          "l2",
          "l2",
          "l2",
          "l2",
          "l2",
          "l2",
          "l2",
          "l2",
          "l2",
          "l2",
          "l2",
          "l2",
          "l2",
          "l2",
          "l2",
          "l2",
          "l2",
          "l2",
          "l2",
          "l2",
          "l2",
          "l2",
          "l2"
         ],
         "y": [
          0,
          0,
          0,
          0,
          0,
          0,
          0,
          0,
          0,
          0,
          0,
          0,
          0,
          0,
          0,
          0,
          0,
          0,
          0,
          0,
          0,
          0,
          0,
          0,
          0,
          0,
          0,
          0,
          0,
          0,
          0,
          0,
          0,
          0,
          0,
          0,
          0,
          0,
          0,
          0,
          0,
          0,
          0,
          0,
          0,
          0,
          0,
          0,
          0,
          0,
          0,
          0,
          0,
          0,
          0,
          0,
          0,
          0,
          0,
          0,
          0,
          0,
          0,
          2,
          2,
          7,
          7,
          7,
          7,
          7,
          14,
          14,
          14,
          14,
          14,
          14,
          14,
          71,
          71,
          71,
          71,
          71,
          71,
          71,
          71,
          71,
          71,
          71,
          71,
          71,
          71,
          71,
          71,
          71,
          71,
          71,
          71,
          71,
          71,
          71,
          71,
          71,
          71,
          71,
          71,
          71,
          71,
          71,
          71,
          71,
          71,
          71,
          71,
          71,
          71,
          71,
          71,
          71,
          71,
          71,
          71,
          71,
          71,
          71,
          71,
          71,
          71,
          71,
          71,
          71,
          71,
          71,
          71,
          71,
          73,
          73,
          74,
          75,
          79,
          79,
          79,
          79,
          98,
          98,
          98,
          98,
          98,
          98,
          98,
          98,
          98,
          98,
          98,
          98,
          98,
          98,
          98,
          98,
          98,
          98,
          98,
          99,
          102,
          102,
          102,
          103,
          109,
          109,
          109,
          109,
          109,
          109,
          111,
          111,
          118,
          118,
          118,
          118,
          118,
          118,
          118,
          119,
          139,
          139,
          139,
          139,
          139,
          139,
          139,
          139,
          139,
          139,
          139,
          139,
          139,
          139,
          139,
          139,
          139,
          139,
          139,
          139,
          144,
          144,
          144,
          144,
          144,
          147,
          147,
          147,
          152,
          152,
          152,
          152,
          152,
          272,
          272,
          272,
          272,
          272,
          272,
          272,
          272,
          272,
          272,
          272,
          272,
          272,
          272,
          272,
          272,
          272,
          272,
          272,
          272,
          272,
          272,
          272,
          272,
          272,
          272,
          272,
          272,
          272,
          272,
          272,
          272,
          272,
          272,
          272,
          272,
          272,
          272,
          272,
          272,
          272,
          272,
          272,
          272,
          272,
          272,
          272,
          272,
          272,
          272,
          272,
          272,
          272,
          272,
          272,
          272,
          272,
          272,
          272,
          272,
          272,
          272,
          272,
          272,
          272,
          272,
          272,
          272,
          272,
          272,
          272,
          272,
          272,
          272,
          272,
          272,
          272,
          272,
          272,
          272,
          272,
          272,
          272,
          272,
          272,
          272,
          272,
          272,
          272,
          272,
          272,
          272,
          272,
          272,
          272,
          272,
          272,
          272,
          272,
          272,
          272,
          272,
          272,
          272,
          272,
          272,
          272,
          272,
          272,
          272,
          272,
          272,
          272,
          272,
          272,
          272,
          272,
          272,
          272,
          272,
          287,
          287,
          287,
          287,
          287,
          287,
          287,
          287,
          287,
          287,
          287,
          287,
          287,
          287,
          287,
          292,
          292,
          292,
          292,
          292,
          297,
          297,
          297,
          297,
          297
         ]
        },
        {
         "line": {
          "color": "#e377c2",
          "dash": "dash"
         },
         "mode": "lines",
         "showlegend": false,
         "type": "scatter",
         "x": [
          "l2",
          "l2"
         ],
         "y": [
          0,
          297
         ]
        }
       ],
       "layout": {
        "annotations": [
         {
          "align": "center",
          "bordercolor": "black",
          "borderwidth": 1,
          "showarrow": false,
          "text": "Vertical line: best score",
          "x": 0.5,
          "xref": "paper",
          "y": -0.22,
          "yref": "paper"
         }
        ],
        "legend": {
         "itemsizing": "constant"
        },
        "template": {
         "data": {
          "bar": [
           {
            "error_x": {
             "color": "#2a3f5f"
            },
            "error_y": {
             "color": "#2a3f5f"
            },
            "marker": {
             "line": {
              "color": "#E5ECF6",
              "width": 0.5
             }
            },
            "type": "bar"
           }
          ],
          "barpolar": [
           {
            "marker": {
             "line": {
              "color": "#E5ECF6",
              "width": 0.5
             }
            },
            "type": "barpolar"
           }
          ],
          "carpet": [
           {
            "aaxis": {
             "endlinecolor": "#2a3f5f",
             "gridcolor": "white",
             "linecolor": "white",
             "minorgridcolor": "white",
             "startlinecolor": "#2a3f5f"
            },
            "baxis": {
             "endlinecolor": "#2a3f5f",
             "gridcolor": "white",
             "linecolor": "white",
             "minorgridcolor": "white",
             "startlinecolor": "#2a3f5f"
            },
            "type": "carpet"
           }
          ],
          "choropleth": [
           {
            "colorbar": {
             "outlinewidth": 0,
             "ticks": ""
            },
            "type": "choropleth"
           }
          ],
          "contour": [
           {
            "colorbar": {
             "outlinewidth": 0,
             "ticks": ""
            },
            "colorscale": [
             [
              0,
              "#0d0887"
             ],
             [
              0.1111111111111111,
              "#46039f"
             ],
             [
              0.2222222222222222,
              "#7201a8"
             ],
             [
              0.3333333333333333,
              "#9c179e"
             ],
             [
              0.4444444444444444,
              "#bd3786"
             ],
             [
              0.5555555555555556,
              "#d8576b"
             ],
             [
              0.6666666666666666,
              "#ed7953"
             ],
             [
              0.7777777777777778,
              "#fb9f3a"
             ],
             [
              0.8888888888888888,
              "#fdca26"
             ],
             [
              1,
              "#f0f921"
             ]
            ],
            "type": "contour"
           }
          ],
          "contourcarpet": [
           {
            "colorbar": {
             "outlinewidth": 0,
             "ticks": ""
            },
            "type": "contourcarpet"
           }
          ],
          "heatmap": [
           {
            "colorbar": {
             "outlinewidth": 0,
             "ticks": ""
            },
            "colorscale": [
             [
              0,
              "#0d0887"
             ],
             [
              0.1111111111111111,
              "#46039f"
             ],
             [
              0.2222222222222222,
              "#7201a8"
             ],
             [
              0.3333333333333333,
              "#9c179e"
             ],
             [
              0.4444444444444444,
              "#bd3786"
             ],
             [
              0.5555555555555556,
              "#d8576b"
             ],
             [
              0.6666666666666666,
              "#ed7953"
             ],
             [
              0.7777777777777778,
              "#fb9f3a"
             ],
             [
              0.8888888888888888,
              "#fdca26"
             ],
             [
              1,
              "#f0f921"
             ]
            ],
            "type": "heatmap"
           }
          ],
          "heatmapgl": [
           {
            "colorbar": {
             "outlinewidth": 0,
             "ticks": ""
            },
            "colorscale": [
             [
              0,
              "#0d0887"
             ],
             [
              0.1111111111111111,
              "#46039f"
             ],
             [
              0.2222222222222222,
              "#7201a8"
             ],
             [
              0.3333333333333333,
              "#9c179e"
             ],
             [
              0.4444444444444444,
              "#bd3786"
             ],
             [
              0.5555555555555556,
              "#d8576b"
             ],
             [
              0.6666666666666666,
              "#ed7953"
             ],
             [
              0.7777777777777778,
              "#fb9f3a"
             ],
             [
              0.8888888888888888,
              "#fdca26"
             ],
             [
              1,
              "#f0f921"
             ]
            ],
            "type": "heatmapgl"
           }
          ],
          "histogram": [
           {
            "marker": {
             "colorbar": {
              "outlinewidth": 0,
              "ticks": ""
             }
            },
            "type": "histogram"
           }
          ],
          "histogram2d": [
           {
            "colorbar": {
             "outlinewidth": 0,
             "ticks": ""
            },
            "colorscale": [
             [
              0,
              "#0d0887"
             ],
             [
              0.1111111111111111,
              "#46039f"
             ],
             [
              0.2222222222222222,
              "#7201a8"
             ],
             [
              0.3333333333333333,
              "#9c179e"
             ],
             [
              0.4444444444444444,
              "#bd3786"
             ],
             [
              0.5555555555555556,
              "#d8576b"
             ],
             [
              0.6666666666666666,
              "#ed7953"
             ],
             [
              0.7777777777777778,
              "#fb9f3a"
             ],
             [
              0.8888888888888888,
              "#fdca26"
             ],
             [
              1,
              "#f0f921"
             ]
            ],
            "type": "histogram2d"
           }
          ],
          "histogram2dcontour": [
           {
            "colorbar": {
             "outlinewidth": 0,
             "ticks": ""
            },
            "colorscale": [
             [
              0,
              "#0d0887"
             ],
             [
              0.1111111111111111,
              "#46039f"
             ],
             [
              0.2222222222222222,
              "#7201a8"
             ],
             [
              0.3333333333333333,
              "#9c179e"
             ],
             [
              0.4444444444444444,
              "#bd3786"
             ],
             [
              0.5555555555555556,
              "#d8576b"
             ],
             [
              0.6666666666666666,
              "#ed7953"
             ],
             [
              0.7777777777777778,
              "#fb9f3a"
             ],
             [
              0.8888888888888888,
              "#fdca26"
             ],
             [
              1,
              "#f0f921"
             ]
            ],
            "type": "histogram2dcontour"
           }
          ],
          "mesh3d": [
           {
            "colorbar": {
             "outlinewidth": 0,
             "ticks": ""
            },
            "type": "mesh3d"
           }
          ],
          "parcoords": [
           {
            "line": {
             "colorbar": {
              "outlinewidth": 0,
              "ticks": ""
             }
            },
            "type": "parcoords"
           }
          ],
          "pie": [
           {
            "automargin": true,
            "type": "pie"
           }
          ],
          "scatter": [
           {
            "marker": {
             "colorbar": {
              "outlinewidth": 0,
              "ticks": ""
             }
            },
            "type": "scatter"
           }
          ],
          "scatter3d": [
           {
            "line": {
             "colorbar": {
              "outlinewidth": 0,
              "ticks": ""
             }
            },
            "marker": {
             "colorbar": {
              "outlinewidth": 0,
              "ticks": ""
             }
            },
            "type": "scatter3d"
           }
          ],
          "scattercarpet": [
           {
            "marker": {
             "colorbar": {
              "outlinewidth": 0,
              "ticks": ""
             }
            },
            "type": "scattercarpet"
           }
          ],
          "scattergeo": [
           {
            "marker": {
             "colorbar": {
              "outlinewidth": 0,
              "ticks": ""
             }
            },
            "type": "scattergeo"
           }
          ],
          "scattergl": [
           {
            "marker": {
             "colorbar": {
              "outlinewidth": 0,
              "ticks": ""
             }
            },
            "type": "scattergl"
           }
          ],
          "scattermapbox": [
           {
            "marker": {
             "colorbar": {
              "outlinewidth": 0,
              "ticks": ""
             }
            },
            "type": "scattermapbox"
           }
          ],
          "scatterpolar": [
           {
            "marker": {
             "colorbar": {
              "outlinewidth": 0,
              "ticks": ""
             }
            },
            "type": "scatterpolar"
           }
          ],
          "scatterpolargl": [
           {
            "marker": {
             "colorbar": {
              "outlinewidth": 0,
              "ticks": ""
             }
            },
            "type": "scatterpolargl"
           }
          ],
          "scatterternary": [
           {
            "marker": {
             "colorbar": {
              "outlinewidth": 0,
              "ticks": ""
             }
            },
            "type": "scatterternary"
           }
          ],
          "surface": [
           {
            "colorbar": {
             "outlinewidth": 0,
             "ticks": ""
            },
            "colorscale": [
             [
              0,
              "#0d0887"
             ],
             [
              0.1111111111111111,
              "#46039f"
             ],
             [
              0.2222222222222222,
              "#7201a8"
             ],
             [
              0.3333333333333333,
              "#9c179e"
             ],
             [
              0.4444444444444444,
              "#bd3786"
             ],
             [
              0.5555555555555556,
              "#d8576b"
             ],
             [
              0.6666666666666666,
              "#ed7953"
             ],
             [
              0.7777777777777778,
              "#fb9f3a"
             ],
             [
              0.8888888888888888,
              "#fdca26"
             ],
             [
              1,
              "#f0f921"
             ]
            ],
            "type": "surface"
           }
          ],
          "table": [
           {
            "cells": {
             "fill": {
              "color": "#EBF0F8"
             },
             "line": {
              "color": "white"
             }
            },
            "header": {
             "fill": {
              "color": "#C8D4E3"
             },
             "line": {
              "color": "white"
             }
            },
            "type": "table"
           }
          ]
         },
         "layout": {
          "annotationdefaults": {
           "arrowcolor": "#2a3f5f",
           "arrowhead": 0,
           "arrowwidth": 1
          },
          "coloraxis": {
           "colorbar": {
            "outlinewidth": 0,
            "ticks": ""
           }
          },
          "colorscale": {
           "diverging": [
            [
             0,
             "#8e0152"
            ],
            [
             0.1,
             "#c51b7d"
            ],
            [
             0.2,
             "#de77ae"
            ],
            [
             0.3,
             "#f1b6da"
            ],
            [
             0.4,
             "#fde0ef"
            ],
            [
             0.5,
             "#f7f7f7"
            ],
            [
             0.6,
             "#e6f5d0"
            ],
            [
             0.7,
             "#b8e186"
            ],
            [
             0.8,
             "#7fbc41"
            ],
            [
             0.9,
             "#4d9221"
            ],
            [
             1,
             "#276419"
            ]
           ],
           "sequential": [
            [
             0,
             "#0d0887"
            ],
            [
             0.1111111111111111,
             "#46039f"
            ],
            [
             0.2222222222222222,
             "#7201a8"
            ],
            [
             0.3333333333333333,
             "#9c179e"
            ],
            [
             0.4444444444444444,
             "#bd3786"
            ],
            [
             0.5555555555555556,
             "#d8576b"
            ],
            [
             0.6666666666666666,
             "#ed7953"
            ],
            [
             0.7777777777777778,
             "#fb9f3a"
            ],
            [
             0.8888888888888888,
             "#fdca26"
            ],
            [
             1,
             "#f0f921"
            ]
           ],
           "sequentialminus": [
            [
             0,
             "#0d0887"
            ],
            [
             0.1111111111111111,
             "#46039f"
            ],
            [
             0.2222222222222222,
             "#7201a8"
            ],
            [
             0.3333333333333333,
             "#9c179e"
            ],
            [
             0.4444444444444444,
             "#bd3786"
            ],
            [
             0.5555555555555556,
             "#d8576b"
            ],
            [
             0.6666666666666666,
             "#ed7953"
            ],
            [
             0.7777777777777778,
             "#fb9f3a"
            ],
            [
             0.8888888888888888,
             "#fdca26"
            ],
            [
             1,
             "#f0f921"
            ]
           ]
          },
          "colorway": [
           "#636efa",
           "#EF553B",
           "#00cc96",
           "#ab63fa",
           "#FFA15A",
           "#19d3f3",
           "#FF6692",
           "#B6E880",
           "#FF97FF",
           "#FECB52"
          ],
          "font": {
           "color": "#2a3f5f"
          },
          "geo": {
           "bgcolor": "white",
           "lakecolor": "white",
           "landcolor": "#E5ECF6",
           "showlakes": true,
           "showland": true,
           "subunitcolor": "white"
          },
          "hoverlabel": {
           "align": "left"
          },
          "hovermode": "closest",
          "mapbox": {
           "style": "light"
          },
          "paper_bgcolor": "white",
          "plot_bgcolor": "#E5ECF6",
          "polar": {
           "angularaxis": {
            "gridcolor": "white",
            "linecolor": "white",
            "ticks": ""
           },
           "bgcolor": "#E5ECF6",
           "radialaxis": {
            "gridcolor": "white",
            "linecolor": "white",
            "ticks": ""
           }
          },
          "scene": {
           "xaxis": {
            "backgroundcolor": "#E5ECF6",
            "gridcolor": "white",
            "gridwidth": 2,
            "linecolor": "white",
            "showbackground": true,
            "ticks": "",
            "zerolinecolor": "white"
           },
           "yaxis": {
            "backgroundcolor": "#E5ECF6",
            "gridcolor": "white",
            "gridwidth": 2,
            "linecolor": "white",
            "showbackground": true,
            "ticks": "",
            "zerolinecolor": "white"
           },
           "zaxis": {
            "backgroundcolor": "#E5ECF6",
            "gridcolor": "white",
            "gridwidth": 2,
            "linecolor": "white",
            "showbackground": true,
            "ticks": "",
            "zerolinecolor": "white"
           }
          },
          "shapedefaults": {
           "line": {
            "color": "#2a3f5f"
           }
          },
          "ternary": {
           "aaxis": {
            "gridcolor": "white",
            "linecolor": "white",
            "ticks": ""
           },
           "baxis": {
            "gridcolor": "white",
            "linecolor": "white",
            "ticks": ""
           },
           "bgcolor": "#E5ECF6",
           "caxis": {
            "gridcolor": "white",
            "linecolor": "white",
            "ticks": ""
           }
          },
          "title": {
           "x": 0.05
          },
          "xaxis": {
           "automargin": true,
           "gridcolor": "white",
           "linecolor": "white",
           "ticks": "",
           "title": {
            "standoff": 15
           },
           "zerolinecolor": "white",
           "zerolinewidth": 2
          },
          "yaxis": {
           "automargin": true,
           "gridcolor": "white",
           "linecolor": "white",
           "ticks": "",
           "title": {
            "standoff": 15
           },
           "zerolinecolor": "white",
           "zerolinewidth": 2
          }
         }
        },
        "title": {
         "text": "Evolution of hyperparameter param_logistic_Reg__penalty by trial"
        },
        "xaxis": {
         "title": {
          "text": "param_logistic_Reg__penalty"
         }
        },
        "yaxis": {
         "title": {
          "text": "Rank number (the higher, the better ranked)"
         }
        }
       }
      },
      "text/html": [
       "<div>                            <div id=\"56da6a15-5289-422c-a40d-7359ea4a4c46\" class=\"plotly-graph-div\" style=\"height:525px; width:100%;\"></div>            <script type=\"text/javascript\">                require([\"plotly\"], function(Plotly) {                    window.PLOTLYENV=window.PLOTLYENV || {};                                    if (document.getElementById(\"56da6a15-5289-422c-a40d-7359ea4a4c46\")) {                    Plotly.newPlot(                        \"56da6a15-5289-422c-a40d-7359ea4a4c46\",                        [{\"hovertemplate\": \"<b>Trial %{y}</b><br><br>Value: %{x:.5f}<br>MAE: %{marker.color:.3f}<br><extra></extra>\", \"marker\": {\"color\": [0.6393162393162393, 0.6393162393162393, 0.6393162393162393, 0.6393162393162393, 0.6393162393162393, 0.6393162393162393, 0.6393162393162393, 0.6393162393162393, 0.6393162393162393, 0.6393162393162393, 0.6393162393162393, 0.6393162393162393, 0.6393162393162393, 0.6393162393162393, 0.6393162393162393, 0.6393162393162393, 0.6393162393162393, 0.6393162393162393, 0.6393162393162393, 0.6393162393162393, 0.6393162393162393, 0.6393162393162393, 0.6393162393162393, 0.6393162393162393, 0.6393162393162393, 0.6393162393162393, 0.6393162393162393, 0.6393162393162393, 0.6393162393162393, 0.6393162393162393, 0.6393162393162393, 0.6393162393162393, 0.6393162393162393, 0.6393162393162393, 0.6393162393162393, 0.6393162393162393, 0.6393162393162393, 0.6393162393162393, 0.6393162393162393, 0.6393162393162393, 0.6393162393162393, 0.6393162393162393, 0.6393162393162393, 0.6393162393162393, 0.6393162393162393, 0.6393162393162393, 0.6393162393162393, 0.6393162393162393, 0.6393162393162393, 0.6393162393162393, 0.6393162393162393, 0.6393162393162393, 0.6393162393162393, 0.6393162393162393, 0.6393162393162393, 0.6393162393162393, 0.6393162393162393, 0.6393162393162393, 0.6393162393162393, 0.6393162393162393, 0.6393162393162393, 0.6393162393162393, 0.6393162393162393, 0.6541310541310541, 0.6541310541310541, 0.6626780626780627, 0.6626780626780627, 0.6626780626780627, 0.6626780626780627, 0.6626780626780627, 0.6695156695156695, 0.6695156695156695, 0.6695156695156695, 0.6695156695156695, 0.6695156695156695, 0.6695156695156695, 0.6695156695156695, 0.6772079772079772, 0.6772079772079772, 0.6772079772079772, 0.6772079772079772, 0.6772079772079772, 0.6772079772079772, 0.6772079772079772, 0.6772079772079772, 0.6772079772079772, 0.6772079772079772, 0.6772079772079772, 0.6772079772079772, 0.6772079772079772, 0.6772079772079772, 0.6772079772079772, 0.6772079772079772, 0.6772079772079772, 0.6772079772079772, 0.6772079772079772, 0.6772079772079772, 0.6772079772079772, 0.6772079772079772, 0.6772079772079772, 0.6772079772079772, 0.6772079772079772, 0.6772079772079772, 0.6772079772079772, 0.6772079772079772, 0.6772079772079772, 0.6772079772079772, 0.6772079772079772, 0.6772079772079772, 0.6772079772079772, 0.6772079772079772, 0.6772079772079772, 0.6772079772079772, 0.6772079772079772, 0.6772079772079772, 0.6772079772079772, 0.6772079772079772, 0.6772079772079772, 0.6772079772079772, 0.6772079772079772, 0.6772079772079772, 0.6772079772079772, 0.6772079772079772, 0.6772079772079772, 0.6772079772079772, 0.6772079772079772, 0.6772079772079772, 0.6772079772079772, 0.6772079772079772, 0.6772079772079772, 0.6772079772079772, 0.6772079772079772, 0.6772079772079772, 0.6772079772079772, 0.6849002849002849, 0.6849002849002849, 0.6920227920227919, 0.6920227920227922, 0.6925925925925925, 0.6925925925925925, 0.6925925925925925, 0.6925925925925925, 0.6994301994301994, 0.6994301994301994, 0.6994301994301994, 0.6994301994301994, 0.6994301994301994, 0.6994301994301994, 0.6994301994301994, 0.6994301994301994, 0.6994301994301994, 0.6994301994301994, 0.6994301994301994, 0.6994301994301994, 0.6994301994301994, 0.6994301994301994, 0.6994301994301994, 0.6994301994301994, 0.6994301994301994, 0.6994301994301994, 0.6994301994301994, 0.6997150997150997, 0.7068376068376068, 0.7068376068376068, 0.7068376068376068, 0.7074074074074074, 0.7074074074074075, 0.7074074074074075, 0.7074074074074075, 0.7074074074074075, 0.7074074074074075, 0.7074074074074075, 0.7145299145299144, 0.7145299145299144, 0.7148148148148148, 0.7148148148148148, 0.7148148148148148, 0.7148148148148148, 0.7148148148148148, 0.7148148148148148, 0.7148148148148148, 0.7148148148148149, 0.7150997150997151, 0.7150997150997151, 0.7150997150997151, 0.7150997150997151, 0.7150997150997151, 0.7150997150997151, 0.7150997150997151, 0.7150997150997151, 0.7150997150997151, 0.7150997150997151, 0.7150997150997151, 0.7150997150997151, 0.7150997150997151, 0.7150997150997151, 0.7150997150997151, 0.7150997150997151, 0.7150997150997151, 0.7150997150997151, 0.7150997150997151, 0.7150997150997151, 0.7225071225071225, 0.7225071225071225, 0.7225071225071225, 0.7225071225071225, 0.7225071225071225, 0.7225071225071226, 0.7225071225071226, 0.7225071225071226, 0.7299145299145298, 0.7299145299145298, 0.7299145299145298, 0.7299145299145298, 0.7299145299145298, 0.7301994301994302, 0.7301994301994302, 0.7301994301994302, 0.7301994301994302, 0.7301994301994302, 0.7301994301994302, 0.7301994301994302, 0.7301994301994302, 0.7301994301994302, 0.7301994301994302, 0.7301994301994302, 0.7301994301994302, 0.7301994301994302, 0.7301994301994302, 0.7301994301994302, 0.7301994301994302, 0.7301994301994302, 0.7301994301994302, 0.7301994301994302, 0.7301994301994302, 0.7301994301994302, 0.7301994301994302, 0.7301994301994302, 0.7301994301994302, 0.7301994301994302, 0.7301994301994302, 0.7301994301994302, 0.7301994301994302, 0.7301994301994302, 0.7301994301994302, 0.7301994301994302, 0.7301994301994302, 0.7301994301994302, 0.7301994301994302, 0.7301994301994302, 0.7301994301994302, 0.7301994301994302, 0.7301994301994302, 0.7301994301994302, 0.7301994301994302, 0.7301994301994302, 0.7301994301994302, 0.7301994301994302, 0.7301994301994302, 0.7301994301994302, 0.7301994301994302, 0.7301994301994302, 0.7301994301994302, 0.7301994301994302, 0.7301994301994302, 0.7301994301994302, 0.7301994301994302, 0.7301994301994302, 0.7301994301994302, 0.7301994301994302, 0.7301994301994302, 0.7301994301994302, 0.7301994301994302, 0.7301994301994302, 0.7301994301994302, 0.7301994301994302, 0.7301994301994302, 0.7301994301994302, 0.7301994301994302, 0.7301994301994302, 0.7301994301994302, 0.7301994301994302, 0.7301994301994302, 0.7301994301994302, 0.7301994301994302, 0.7301994301994302, 0.7301994301994302, 0.7301994301994302, 0.7301994301994302, 0.7301994301994302, 0.7301994301994302, 0.7301994301994302, 0.7301994301994302, 0.7301994301994302, 0.7301994301994302, 0.7301994301994302, 0.7301994301994302, 0.7301994301994302, 0.7301994301994302, 0.7301994301994302, 0.7301994301994302, 0.7301994301994302, 0.7301994301994302, 0.7301994301994302, 0.7301994301994302, 0.7301994301994302, 0.7301994301994302, 0.7301994301994302, 0.7301994301994302, 0.7301994301994302, 0.7301994301994302, 0.7301994301994302, 0.7301994301994302, 0.7301994301994302, 0.7301994301994302, 0.7301994301994302, 0.7301994301994302, 0.7301994301994302, 0.7301994301994302, 0.7301994301994302, 0.7301994301994302, 0.7301994301994302, 0.7301994301994302, 0.7301994301994302, 0.7301994301994302, 0.7301994301994302, 0.7301994301994302, 0.7301994301994302, 0.7301994301994302, 0.7301994301994302, 0.7301994301994302, 0.7301994301994302, 0.7301994301994302, 0.7301994301994302, 0.7301994301994302, 0.7373219373219373, 0.7373219373219373, 0.7373219373219373, 0.7373219373219373, 0.7373219373219373, 0.7373219373219373, 0.7373219373219373, 0.7373219373219373, 0.7373219373219373, 0.7373219373219373, 0.7373219373219373, 0.7373219373219373, 0.7373219373219373, 0.7373219373219373, 0.7373219373219373, 0.7376068376068374, 0.7376068376068374, 0.7376068376068374, 0.7376068376068374, 0.7376068376068374, 0.7376068376068377, 0.7376068376068377, 0.7376068376068377, 0.7376068376068377, 0.7376068376068377], \"colorbar\": {\"title\": {\"text\": \"mean_test_score\"}}, \"colorscale\": [[0.0, \"#fde725\"], [0.1111111111111111, \"#b5de2b\"], [0.2222222222222222, \"#6ece58\"], [0.3333333333333333, \"#35b779\"], [0.4444444444444444, \"#1f9e89\"], [0.5555555555555556, \"#26828e\"], [0.6666666666666666, \"#31688e\"], [0.7777777777777778, \"#3e4989\"], [0.8888888888888888, \"#482878\"], [1.0, \"#440154\"]], \"showscale\": true}, \"mode\": \"markers\", \"name\": \"param_logistic_Reg__penalty\", \"showlegend\": false, \"type\": \"scatter\", \"x\": [\"l1\", \"l1\", \"l1\", \"l1\", \"l1\", \"l1\", \"l1\", \"l1\", \"l1\", \"l1\", \"l1\", \"l1\", \"l1\", \"l1\", \"l1\", \"l1\", \"l1\", \"l1\", \"l1\", \"l1\", \"l1\", \"l1\", \"l1\", \"l1\", \"l1\", \"l1\", \"l1\", \"l1\", \"l1\", \"l1\", \"l1\", \"l1\", \"l1\", \"l1\", \"l1\", \"l1\", \"l1\", \"l1\", \"l1\", \"l1\", \"l1\", \"l1\", \"l1\", \"l1\", \"l1\", \"l1\", \"l1\", \"l1\", \"l1\", \"l1\", \"l1\", \"l1\", \"l1\", \"l1\", \"l1\", \"l1\", \"l1\", \"l1\", \"l1\", \"l1\", \"l1\", \"l1\", \"l1\", \"l1\", \"l1\", \"l1\", \"l1\", \"l1\", \"l1\", \"l1\", \"l2\", \"l2\", \"l2\", \"l2\", \"l2\", \"l2\", \"l2\", \"l2\", \"l1\", \"l1\", \"l1\", \"l2\", \"l2\", \"l1\", \"l2\", \"l2\", \"l1\", \"l1\", \"l1\", \"l2\", \"l2\", \"l1\", \"l2\", \"l2\", \"l2\", \"l2\", \"l2\", \"l2\", \"l2\", \"l2\", \"l2\", \"l2\", \"l1\", \"l1\", \"l1\", \"l1\", \"l1\", \"l1\", \"l2\", \"l2\", \"l2\", \"l2\", \"l1\", \"l1\", \"l1\", \"l2\", \"l1\", \"l1\", \"l2\", \"l2\", \"l2\", \"l1\", \"l2\", \"l2\", \"l2\", \"l2\", \"l1\", \"l2\", \"l2\", \"l1\", \"l1\", \"l1\", \"l2\", \"l2\", \"l2\", \"l2\", \"l1\", \"l1\", \"l2\", \"l2\", \"l2\", \"l2\", \"l2\", \"l1\", \"l2\", \"l2\", \"l1\", \"l1\", \"l2\", \"l2\", \"l2\", \"l1\", \"l2\", \"l2\", \"l1\", \"l1\", \"l1\", \"l2\", \"l1\", \"l1\", \"l1\", \"l2\", \"l2\", \"l2\", \"l2\", \"l2\", \"l2\", \"l2\", \"l2\", \"l2\", \"l2\", \"l2\", \"l1\", \"l1\", \"l1\", \"l1\", \"l1\", \"l1\", \"l1\", \"l1\", \"l1\", \"l2\", \"l2\", \"l2\", \"l2\", \"l2\", \"l1\", \"l2\", \"l2\", \"l2\", \"l2\", \"l1\", \"l2\", \"l1\", \"l1\", \"l1\", \"l2\", \"l1\", \"l1\", \"l1\", \"l1\", \"l2\", \"l2\", \"l2\", \"l2\", \"l2\", \"l2\", \"l1\", \"l2\", \"l2\", \"l2\", \"l2\", \"l2\", \"l2\", \"l2\", \"l1\", \"l2\", \"l2\", \"l1\", \"l1\", \"l2\", \"l2\", \"l2\", \"l1\", \"l1\", \"l2\", \"l2\", \"l2\", \"l1\", \"l1\", \"l1\", \"l2\", \"l2\", \"l2\", \"l2\", \"l1\", \"l1\", \"l1\", \"l1\", \"l1\", \"l2\", \"l2\", \"l2\", \"l2\", \"l1\", \"l1\", \"l1\", \"l2\", \"l1\", \"l1\", \"l1\", \"l2\", \"l2\", \"l2\", \"l2\", \"l1\", \"l2\", \"l1\", \"l1\", \"l1\", \"l1\", \"l2\", \"l2\", \"l2\", \"l1\", \"l2\", \"l2\", \"l2\", \"l2\", \"l2\", \"l2\", \"l2\", \"l2\", \"l1\", \"l1\", \"l1\", \"l1\", \"l1\", \"l2\", \"l2\", \"l2\", \"l2\", \"l1\", \"l2\", \"l1\", \"l1\", \"l1\", \"l1\", \"l2\", \"l2\", \"l2\", \"l2\", \"l2\", \"l2\", \"l2\", \"l2\", \"l2\", \"l2\", \"l1\", \"l1\", \"l2\", \"l1\", \"l1\", \"l1\", \"l1\", \"l1\", \"l1\", \"l2\", \"l2\", \"l2\", \"l2\", \"l2\", \"l1\", \"l1\", \"l1\", \"l1\", \"l1\", \"l1\", \"l2\", \"l2\", \"l1\", \"l2\", \"l2\", \"l2\", \"l2\", \"l2\", \"l2\", \"l1\", \"l1\", \"l1\", \"l1\", \"l2\", \"l2\", \"l1\", \"l2\", \"l2\", \"l2\", \"l2\", \"l2\", \"l2\", \"l2\", \"l2\", \"l2\", \"l2\", \"l2\", \"l2\", \"l2\", \"l2\", \"l2\", \"l2\", \"l2\", \"l2\", \"l2\", \"l2\", \"l2\", \"l2\", \"l2\", \"l2\", \"l2\", \"l2\"], \"y\": [0, 0, 0, 0, 0, 0, 0, 0, 0, 0, 0, 0, 0, 0, 0, 0, 0, 0, 0, 0, 0, 0, 0, 0, 0, 0, 0, 0, 0, 0, 0, 0, 0, 0, 0, 0, 0, 0, 0, 0, 0, 0, 0, 0, 0, 0, 0, 0, 0, 0, 0, 0, 0, 0, 0, 0, 0, 0, 0, 0, 0, 0, 0, 2, 2, 7, 7, 7, 7, 7, 14, 14, 14, 14, 14, 14, 14, 71, 71, 71, 71, 71, 71, 71, 71, 71, 71, 71, 71, 71, 71, 71, 71, 71, 71, 71, 71, 71, 71, 71, 71, 71, 71, 71, 71, 71, 71, 71, 71, 71, 71, 71, 71, 71, 71, 71, 71, 71, 71, 71, 71, 71, 71, 71, 71, 71, 71, 71, 71, 71, 71, 71, 71, 71, 73, 73, 74, 75, 79, 79, 79, 79, 98, 98, 98, 98, 98, 98, 98, 98, 98, 98, 98, 98, 98, 98, 98, 98, 98, 98, 98, 99, 102, 102, 102, 103, 109, 109, 109, 109, 109, 109, 111, 111, 118, 118, 118, 118, 118, 118, 118, 119, 139, 139, 139, 139, 139, 139, 139, 139, 139, 139, 139, 139, 139, 139, 139, 139, 139, 139, 139, 139, 144, 144, 144, 144, 144, 147, 147, 147, 152, 152, 152, 152, 152, 272, 272, 272, 272, 272, 272, 272, 272, 272, 272, 272, 272, 272, 272, 272, 272, 272, 272, 272, 272, 272, 272, 272, 272, 272, 272, 272, 272, 272, 272, 272, 272, 272, 272, 272, 272, 272, 272, 272, 272, 272, 272, 272, 272, 272, 272, 272, 272, 272, 272, 272, 272, 272, 272, 272, 272, 272, 272, 272, 272, 272, 272, 272, 272, 272, 272, 272, 272, 272, 272, 272, 272, 272, 272, 272, 272, 272, 272, 272, 272, 272, 272, 272, 272, 272, 272, 272, 272, 272, 272, 272, 272, 272, 272, 272, 272, 272, 272, 272, 272, 272, 272, 272, 272, 272, 272, 272, 272, 272, 272, 272, 272, 272, 272, 272, 272, 272, 272, 272, 272, 287, 287, 287, 287, 287, 287, 287, 287, 287, 287, 287, 287, 287, 287, 287, 292, 292, 292, 292, 292, 297, 297, 297, 297, 297]}, {\"line\": {\"color\": \"#e377c2\", \"dash\": \"dash\"}, \"mode\": \"lines\", \"showlegend\": false, \"type\": \"scatter\", \"x\": [\"l2\", \"l2\"], \"y\": [0, 297]}],                        {\"annotations\": [{\"align\": \"center\", \"bordercolor\": \"black\", \"borderwidth\": 1, \"showarrow\": false, \"text\": \"Vertical line: best score\", \"x\": 0.5, \"xref\": \"paper\", \"y\": -0.22, \"yref\": \"paper\"}], \"legend\": {\"itemsizing\": \"constant\"}, \"template\": {\"data\": {\"bar\": [{\"error_x\": {\"color\": \"#2a3f5f\"}, \"error_y\": {\"color\": \"#2a3f5f\"}, \"marker\": {\"line\": {\"color\": \"#E5ECF6\", \"width\": 0.5}}, \"type\": \"bar\"}], \"barpolar\": [{\"marker\": {\"line\": {\"color\": \"#E5ECF6\", \"width\": 0.5}}, \"type\": \"barpolar\"}], \"carpet\": [{\"aaxis\": {\"endlinecolor\": \"#2a3f5f\", \"gridcolor\": \"white\", \"linecolor\": \"white\", \"minorgridcolor\": \"white\", \"startlinecolor\": \"#2a3f5f\"}, \"baxis\": {\"endlinecolor\": \"#2a3f5f\", \"gridcolor\": \"white\", \"linecolor\": \"white\", \"minorgridcolor\": \"white\", \"startlinecolor\": \"#2a3f5f\"}, \"type\": \"carpet\"}], \"choropleth\": [{\"colorbar\": {\"outlinewidth\": 0, \"ticks\": \"\"}, \"type\": \"choropleth\"}], \"contour\": [{\"colorbar\": {\"outlinewidth\": 0, \"ticks\": \"\"}, \"colorscale\": [[0.0, \"#0d0887\"], [0.1111111111111111, \"#46039f\"], [0.2222222222222222, \"#7201a8\"], [0.3333333333333333, \"#9c179e\"], [0.4444444444444444, \"#bd3786\"], [0.5555555555555556, \"#d8576b\"], [0.6666666666666666, \"#ed7953\"], [0.7777777777777778, \"#fb9f3a\"], [0.8888888888888888, \"#fdca26\"], [1.0, \"#f0f921\"]], \"type\": \"contour\"}], \"contourcarpet\": [{\"colorbar\": {\"outlinewidth\": 0, \"ticks\": \"\"}, \"type\": \"contourcarpet\"}], \"heatmap\": [{\"colorbar\": {\"outlinewidth\": 0, \"ticks\": \"\"}, \"colorscale\": [[0.0, \"#0d0887\"], [0.1111111111111111, \"#46039f\"], [0.2222222222222222, \"#7201a8\"], [0.3333333333333333, \"#9c179e\"], [0.4444444444444444, \"#bd3786\"], [0.5555555555555556, \"#d8576b\"], [0.6666666666666666, \"#ed7953\"], [0.7777777777777778, \"#fb9f3a\"], [0.8888888888888888, \"#fdca26\"], [1.0, \"#f0f921\"]], \"type\": \"heatmap\"}], \"heatmapgl\": [{\"colorbar\": {\"outlinewidth\": 0, \"ticks\": \"\"}, \"colorscale\": [[0.0, \"#0d0887\"], [0.1111111111111111, \"#46039f\"], [0.2222222222222222, \"#7201a8\"], [0.3333333333333333, \"#9c179e\"], [0.4444444444444444, \"#bd3786\"], [0.5555555555555556, \"#d8576b\"], [0.6666666666666666, \"#ed7953\"], [0.7777777777777778, \"#fb9f3a\"], [0.8888888888888888, \"#fdca26\"], [1.0, \"#f0f921\"]], \"type\": \"heatmapgl\"}], \"histogram\": [{\"marker\": {\"colorbar\": {\"outlinewidth\": 0, \"ticks\": \"\"}}, \"type\": \"histogram\"}], \"histogram2d\": [{\"colorbar\": {\"outlinewidth\": 0, \"ticks\": \"\"}, \"colorscale\": [[0.0, \"#0d0887\"], [0.1111111111111111, \"#46039f\"], [0.2222222222222222, \"#7201a8\"], [0.3333333333333333, \"#9c179e\"], [0.4444444444444444, \"#bd3786\"], [0.5555555555555556, \"#d8576b\"], [0.6666666666666666, \"#ed7953\"], [0.7777777777777778, \"#fb9f3a\"], [0.8888888888888888, \"#fdca26\"], [1.0, \"#f0f921\"]], \"type\": \"histogram2d\"}], \"histogram2dcontour\": [{\"colorbar\": {\"outlinewidth\": 0, \"ticks\": \"\"}, \"colorscale\": [[0.0, \"#0d0887\"], [0.1111111111111111, \"#46039f\"], [0.2222222222222222, \"#7201a8\"], [0.3333333333333333, \"#9c179e\"], [0.4444444444444444, \"#bd3786\"], [0.5555555555555556, \"#d8576b\"], [0.6666666666666666, \"#ed7953\"], [0.7777777777777778, \"#fb9f3a\"], [0.8888888888888888, \"#fdca26\"], [1.0, \"#f0f921\"]], \"type\": \"histogram2dcontour\"}], \"mesh3d\": [{\"colorbar\": {\"outlinewidth\": 0, \"ticks\": \"\"}, \"type\": \"mesh3d\"}], \"parcoords\": [{\"line\": {\"colorbar\": {\"outlinewidth\": 0, \"ticks\": \"\"}}, \"type\": \"parcoords\"}], \"pie\": [{\"automargin\": true, \"type\": \"pie\"}], \"scatter\": [{\"marker\": {\"colorbar\": {\"outlinewidth\": 0, \"ticks\": \"\"}}, \"type\": \"scatter\"}], \"scatter3d\": [{\"line\": {\"colorbar\": {\"outlinewidth\": 0, \"ticks\": \"\"}}, \"marker\": {\"colorbar\": {\"outlinewidth\": 0, \"ticks\": \"\"}}, \"type\": \"scatter3d\"}], \"scattercarpet\": [{\"marker\": {\"colorbar\": {\"outlinewidth\": 0, \"ticks\": \"\"}}, \"type\": \"scattercarpet\"}], \"scattergeo\": [{\"marker\": {\"colorbar\": {\"outlinewidth\": 0, \"ticks\": \"\"}}, \"type\": \"scattergeo\"}], \"scattergl\": [{\"marker\": {\"colorbar\": {\"outlinewidth\": 0, \"ticks\": \"\"}}, \"type\": \"scattergl\"}], \"scattermapbox\": [{\"marker\": {\"colorbar\": {\"outlinewidth\": 0, \"ticks\": \"\"}}, \"type\": \"scattermapbox\"}], \"scatterpolar\": [{\"marker\": {\"colorbar\": {\"outlinewidth\": 0, \"ticks\": \"\"}}, \"type\": \"scatterpolar\"}], \"scatterpolargl\": [{\"marker\": {\"colorbar\": {\"outlinewidth\": 0, \"ticks\": \"\"}}, \"type\": \"scatterpolargl\"}], \"scatterternary\": [{\"marker\": {\"colorbar\": {\"outlinewidth\": 0, \"ticks\": \"\"}}, \"type\": \"scatterternary\"}], \"surface\": [{\"colorbar\": {\"outlinewidth\": 0, \"ticks\": \"\"}, \"colorscale\": [[0.0, \"#0d0887\"], [0.1111111111111111, \"#46039f\"], [0.2222222222222222, \"#7201a8\"], [0.3333333333333333, \"#9c179e\"], [0.4444444444444444, \"#bd3786\"], [0.5555555555555556, \"#d8576b\"], [0.6666666666666666, \"#ed7953\"], [0.7777777777777778, \"#fb9f3a\"], [0.8888888888888888, \"#fdca26\"], [1.0, \"#f0f921\"]], \"type\": \"surface\"}], \"table\": [{\"cells\": {\"fill\": {\"color\": \"#EBF0F8\"}, \"line\": {\"color\": \"white\"}}, \"header\": {\"fill\": {\"color\": \"#C8D4E3\"}, \"line\": {\"color\": \"white\"}}, \"type\": \"table\"}]}, \"layout\": {\"annotationdefaults\": {\"arrowcolor\": \"#2a3f5f\", \"arrowhead\": 0, \"arrowwidth\": 1}, \"coloraxis\": {\"colorbar\": {\"outlinewidth\": 0, \"ticks\": \"\"}}, \"colorscale\": {\"diverging\": [[0, \"#8e0152\"], [0.1, \"#c51b7d\"], [0.2, \"#de77ae\"], [0.3, \"#f1b6da\"], [0.4, \"#fde0ef\"], [0.5, \"#f7f7f7\"], [0.6, \"#e6f5d0\"], [0.7, \"#b8e186\"], [0.8, \"#7fbc41\"], [0.9, \"#4d9221\"], [1, \"#276419\"]], \"sequential\": [[0.0, \"#0d0887\"], [0.1111111111111111, \"#46039f\"], [0.2222222222222222, \"#7201a8\"], [0.3333333333333333, \"#9c179e\"], [0.4444444444444444, \"#bd3786\"], [0.5555555555555556, \"#d8576b\"], [0.6666666666666666, \"#ed7953\"], [0.7777777777777778, \"#fb9f3a\"], [0.8888888888888888, \"#fdca26\"], [1.0, \"#f0f921\"]], \"sequentialminus\": [[0.0, \"#0d0887\"], [0.1111111111111111, \"#46039f\"], [0.2222222222222222, \"#7201a8\"], [0.3333333333333333, \"#9c179e\"], [0.4444444444444444, \"#bd3786\"], [0.5555555555555556, \"#d8576b\"], [0.6666666666666666, \"#ed7953\"], [0.7777777777777778, \"#fb9f3a\"], [0.8888888888888888, \"#fdca26\"], [1.0, \"#f0f921\"]]}, \"colorway\": [\"#636efa\", \"#EF553B\", \"#00cc96\", \"#ab63fa\", \"#FFA15A\", \"#19d3f3\", \"#FF6692\", \"#B6E880\", \"#FF97FF\", \"#FECB52\"], \"font\": {\"color\": \"#2a3f5f\"}, \"geo\": {\"bgcolor\": \"white\", \"lakecolor\": \"white\", \"landcolor\": \"#E5ECF6\", \"showlakes\": true, \"showland\": true, \"subunitcolor\": \"white\"}, \"hoverlabel\": {\"align\": \"left\"}, \"hovermode\": \"closest\", \"mapbox\": {\"style\": \"light\"}, \"paper_bgcolor\": \"white\", \"plot_bgcolor\": \"#E5ECF6\", \"polar\": {\"angularaxis\": {\"gridcolor\": \"white\", \"linecolor\": \"white\", \"ticks\": \"\"}, \"bgcolor\": \"#E5ECF6\", \"radialaxis\": {\"gridcolor\": \"white\", \"linecolor\": \"white\", \"ticks\": \"\"}}, \"scene\": {\"xaxis\": {\"backgroundcolor\": \"#E5ECF6\", \"gridcolor\": \"white\", \"gridwidth\": 2, \"linecolor\": \"white\", \"showbackground\": true, \"ticks\": \"\", \"zerolinecolor\": \"white\"}, \"yaxis\": {\"backgroundcolor\": \"#E5ECF6\", \"gridcolor\": \"white\", \"gridwidth\": 2, \"linecolor\": \"white\", \"showbackground\": true, \"ticks\": \"\", \"zerolinecolor\": \"white\"}, \"zaxis\": {\"backgroundcolor\": \"#E5ECF6\", \"gridcolor\": \"white\", \"gridwidth\": 2, \"linecolor\": \"white\", \"showbackground\": true, \"ticks\": \"\", \"zerolinecolor\": \"white\"}}, \"shapedefaults\": {\"line\": {\"color\": \"#2a3f5f\"}}, \"ternary\": {\"aaxis\": {\"gridcolor\": \"white\", \"linecolor\": \"white\", \"ticks\": \"\"}, \"baxis\": {\"gridcolor\": \"white\", \"linecolor\": \"white\", \"ticks\": \"\"}, \"bgcolor\": \"#E5ECF6\", \"caxis\": {\"gridcolor\": \"white\", \"linecolor\": \"white\", \"ticks\": \"\"}}, \"title\": {\"x\": 0.05}, \"xaxis\": {\"automargin\": true, \"gridcolor\": \"white\", \"linecolor\": \"white\", \"ticks\": \"\", \"title\": {\"standoff\": 15}, \"zerolinecolor\": \"white\", \"zerolinewidth\": 2}, \"yaxis\": {\"automargin\": true, \"gridcolor\": \"white\", \"linecolor\": \"white\", \"ticks\": \"\", \"title\": {\"standoff\": 15}, \"zerolinecolor\": \"white\", \"zerolinewidth\": 2}}}, \"title\": {\"text\": \"Evolution of hyperparameter param_logistic_Reg__penalty by trial\"}, \"xaxis\": {\"title\": {\"text\": \"param_logistic_Reg__penalty\"}}, \"yaxis\": {\"title\": {\"text\": \"Rank number (the higher, the better ranked)\"}}},                        {\"responsive\": true}                    ).then(function(){\n",
       "                            \n",
       "var gd = document.getElementById('56da6a15-5289-422c-a40d-7359ea4a4c46');\n",
       "var x = new MutationObserver(function (mutations, observer) {{\n",
       "        var display = window.getComputedStyle(gd).display;\n",
       "        if (!display || display === 'none') {{\n",
       "            console.log([gd, 'removed!']);\n",
       "            Plotly.purge(gd);\n",
       "            observer.disconnect();\n",
       "        }}\n",
       "}});\n",
       "\n",
       "// Listen for the removal of the full notebook cells\n",
       "var notebookContainer = gd.closest('#notebook-container');\n",
       "if (notebookContainer) {{\n",
       "    x.observe(notebookContainer, {childList: true});\n",
       "}}\n",
       "\n",
       "// Listen for the clearing of the current output cell\n",
       "var outputEl = gd.closest('.output');\n",
       "if (outputEl) {{\n",
       "    x.observe(outputEl, {childList: true});\n",
       "}}\n",
       "\n",
       "                        })                };                });            </script>        </div>"
      ]
     },
     "metadata": {},
     "output_type": "display_data"
    },
    {
     "data": {
      "application/vnd.plotly.v1+json": {
       "config": {
        "plotlyServerURL": "https://plot.ly"
       },
       "data": [
        {
         "hovertemplate": "<b>Trial %{y}</b><br><br>Value: %{x:.5f}<br>MAE: %{marker.color:.3f}<br><extra></extra>",
         "marker": {
          "color": [
           0.6393162393162393,
           0.6393162393162393,
           0.6393162393162393,
           0.6393162393162393,
           0.6393162393162393,
           0.6393162393162393,
           0.6393162393162393,
           0.6393162393162393,
           0.6393162393162393,
           0.6393162393162393,
           0.6393162393162393,
           0.6393162393162393,
           0.6393162393162393,
           0.6393162393162393,
           0.6393162393162393,
           0.6393162393162393,
           0.6393162393162393,
           0.6393162393162393,
           0.6393162393162393,
           0.6393162393162393,
           0.6393162393162393,
           0.6393162393162393,
           0.6393162393162393,
           0.6393162393162393,
           0.6393162393162393,
           0.6393162393162393,
           0.6393162393162393,
           0.6393162393162393,
           0.6393162393162393,
           0.6393162393162393,
           0.6393162393162393,
           0.6393162393162393,
           0.6393162393162393,
           0.6393162393162393,
           0.6393162393162393,
           0.6393162393162393,
           0.6393162393162393,
           0.6393162393162393,
           0.6393162393162393,
           0.6393162393162393,
           0.6393162393162393,
           0.6393162393162393,
           0.6393162393162393,
           0.6393162393162393,
           0.6393162393162393,
           0.6393162393162393,
           0.6393162393162393,
           0.6393162393162393,
           0.6393162393162393,
           0.6393162393162393,
           0.6393162393162393,
           0.6393162393162393,
           0.6393162393162393,
           0.6393162393162393,
           0.6393162393162393,
           0.6393162393162393,
           0.6393162393162393,
           0.6393162393162393,
           0.6393162393162393,
           0.6393162393162393,
           0.6393162393162393,
           0.6393162393162393,
           0.6393162393162393,
           0.6541310541310541,
           0.6541310541310541,
           0.6626780626780627,
           0.6626780626780627,
           0.6626780626780627,
           0.6626780626780627,
           0.6626780626780627,
           0.6695156695156695,
           0.6695156695156695,
           0.6695156695156695,
           0.6695156695156695,
           0.6695156695156695,
           0.6695156695156695,
           0.6695156695156695,
           0.6772079772079772,
           0.6772079772079772,
           0.6772079772079772,
           0.6772079772079772,
           0.6772079772079772,
           0.6772079772079772,
           0.6772079772079772,
           0.6772079772079772,
           0.6772079772079772,
           0.6772079772079772,
           0.6772079772079772,
           0.6772079772079772,
           0.6772079772079772,
           0.6772079772079772,
           0.6772079772079772,
           0.6772079772079772,
           0.6772079772079772,
           0.6772079772079772,
           0.6772079772079772,
           0.6772079772079772,
           0.6772079772079772,
           0.6772079772079772,
           0.6772079772079772,
           0.6772079772079772,
           0.6772079772079772,
           0.6772079772079772,
           0.6772079772079772,
           0.6772079772079772,
           0.6772079772079772,
           0.6772079772079772,
           0.6772079772079772,
           0.6772079772079772,
           0.6772079772079772,
           0.6772079772079772,
           0.6772079772079772,
           0.6772079772079772,
           0.6772079772079772,
           0.6772079772079772,
           0.6772079772079772,
           0.6772079772079772,
           0.6772079772079772,
           0.6772079772079772,
           0.6772079772079772,
           0.6772079772079772,
           0.6772079772079772,
           0.6772079772079772,
           0.6772079772079772,
           0.6772079772079772,
           0.6772079772079772,
           0.6772079772079772,
           0.6772079772079772,
           0.6772079772079772,
           0.6772079772079772,
           0.6772079772079772,
           0.6772079772079772,
           0.6772079772079772,
           0.6772079772079772,
           0.6849002849002849,
           0.6849002849002849,
           0.6920227920227919,
           0.6920227920227922,
           0.6925925925925925,
           0.6925925925925925,
           0.6925925925925925,
           0.6925925925925925,
           0.6994301994301994,
           0.6994301994301994,
           0.6994301994301994,
           0.6994301994301994,
           0.6994301994301994,
           0.6994301994301994,
           0.6994301994301994,
           0.6994301994301994,
           0.6994301994301994,
           0.6994301994301994,
           0.6994301994301994,
           0.6994301994301994,
           0.6994301994301994,
           0.6994301994301994,
           0.6994301994301994,
           0.6994301994301994,
           0.6994301994301994,
           0.6994301994301994,
           0.6994301994301994,
           0.6997150997150997,
           0.7068376068376068,
           0.7068376068376068,
           0.7068376068376068,
           0.7074074074074074,
           0.7074074074074075,
           0.7074074074074075,
           0.7074074074074075,
           0.7074074074074075,
           0.7074074074074075,
           0.7074074074074075,
           0.7145299145299144,
           0.7145299145299144,
           0.7148148148148148,
           0.7148148148148148,
           0.7148148148148148,
           0.7148148148148148,
           0.7148148148148148,
           0.7148148148148148,
           0.7148148148148148,
           0.7148148148148149,
           0.7150997150997151,
           0.7150997150997151,
           0.7150997150997151,
           0.7150997150997151,
           0.7150997150997151,
           0.7150997150997151,
           0.7150997150997151,
           0.7150997150997151,
           0.7150997150997151,
           0.7150997150997151,
           0.7150997150997151,
           0.7150997150997151,
           0.7150997150997151,
           0.7150997150997151,
           0.7150997150997151,
           0.7150997150997151,
           0.7150997150997151,
           0.7150997150997151,
           0.7150997150997151,
           0.7150997150997151,
           0.7225071225071225,
           0.7225071225071225,
           0.7225071225071225,
           0.7225071225071225,
           0.7225071225071225,
           0.7225071225071226,
           0.7225071225071226,
           0.7225071225071226,
           0.7299145299145298,
           0.7299145299145298,
           0.7299145299145298,
           0.7299145299145298,
           0.7299145299145298,
           0.7301994301994302,
           0.7301994301994302,
           0.7301994301994302,
           0.7301994301994302,
           0.7301994301994302,
           0.7301994301994302,
           0.7301994301994302,
           0.7301994301994302,
           0.7301994301994302,
           0.7301994301994302,
           0.7301994301994302,
           0.7301994301994302,
           0.7301994301994302,
           0.7301994301994302,
           0.7301994301994302,
           0.7301994301994302,
           0.7301994301994302,
           0.7301994301994302,
           0.7301994301994302,
           0.7301994301994302,
           0.7301994301994302,
           0.7301994301994302,
           0.7301994301994302,
           0.7301994301994302,
           0.7301994301994302,
           0.7301994301994302,
           0.7301994301994302,
           0.7301994301994302,
           0.7301994301994302,
           0.7301994301994302,
           0.7301994301994302,
           0.7301994301994302,
           0.7301994301994302,
           0.7301994301994302,
           0.7301994301994302,
           0.7301994301994302,
           0.7301994301994302,
           0.7301994301994302,
           0.7301994301994302,
           0.7301994301994302,
           0.7301994301994302,
           0.7301994301994302,
           0.7301994301994302,
           0.7301994301994302,
           0.7301994301994302,
           0.7301994301994302,
           0.7301994301994302,
           0.7301994301994302,
           0.7301994301994302,
           0.7301994301994302,
           0.7301994301994302,
           0.7301994301994302,
           0.7301994301994302,
           0.7301994301994302,
           0.7301994301994302,
           0.7301994301994302,
           0.7301994301994302,
           0.7301994301994302,
           0.7301994301994302,
           0.7301994301994302,
           0.7301994301994302,
           0.7301994301994302,
           0.7301994301994302,
           0.7301994301994302,
           0.7301994301994302,
           0.7301994301994302,
           0.7301994301994302,
           0.7301994301994302,
           0.7301994301994302,
           0.7301994301994302,
           0.7301994301994302,
           0.7301994301994302,
           0.7301994301994302,
           0.7301994301994302,
           0.7301994301994302,
           0.7301994301994302,
           0.7301994301994302,
           0.7301994301994302,
           0.7301994301994302,
           0.7301994301994302,
           0.7301994301994302,
           0.7301994301994302,
           0.7301994301994302,
           0.7301994301994302,
           0.7301994301994302,
           0.7301994301994302,
           0.7301994301994302,
           0.7301994301994302,
           0.7301994301994302,
           0.7301994301994302,
           0.7301994301994302,
           0.7301994301994302,
           0.7301994301994302,
           0.7301994301994302,
           0.7301994301994302,
           0.7301994301994302,
           0.7301994301994302,
           0.7301994301994302,
           0.7301994301994302,
           0.7301994301994302,
           0.7301994301994302,
           0.7301994301994302,
           0.7301994301994302,
           0.7301994301994302,
           0.7301994301994302,
           0.7301994301994302,
           0.7301994301994302,
           0.7301994301994302,
           0.7301994301994302,
           0.7301994301994302,
           0.7301994301994302,
           0.7301994301994302,
           0.7301994301994302,
           0.7301994301994302,
           0.7301994301994302,
           0.7301994301994302,
           0.7301994301994302,
           0.7301994301994302,
           0.7301994301994302,
           0.7301994301994302,
           0.7373219373219373,
           0.7373219373219373,
           0.7373219373219373,
           0.7373219373219373,
           0.7373219373219373,
           0.7373219373219373,
           0.7373219373219373,
           0.7373219373219373,
           0.7373219373219373,
           0.7373219373219373,
           0.7373219373219373,
           0.7373219373219373,
           0.7373219373219373,
           0.7373219373219373,
           0.7373219373219373,
           0.7376068376068374,
           0.7376068376068374,
           0.7376068376068374,
           0.7376068376068374,
           0.7376068376068374,
           0.7376068376068377,
           0.7376068376068377,
           0.7376068376068377,
           0.7376068376068377,
           0.7376068376068377
          ],
          "colorbar": {
           "title": {
            "text": "mean_test_score"
           }
          },
          "colorscale": [
           [
            0,
            "#fde725"
           ],
           [
            0.1111111111111111,
            "#b5de2b"
           ],
           [
            0.2222222222222222,
            "#6ece58"
           ],
           [
            0.3333333333333333,
            "#35b779"
           ],
           [
            0.4444444444444444,
            "#1f9e89"
           ],
           [
            0.5555555555555556,
            "#26828e"
           ],
           [
            0.6666666666666666,
            "#31688e"
           ],
           [
            0.7777777777777778,
            "#3e4989"
           ],
           [
            0.8888888888888888,
            "#482878"
           ],
           [
            1,
            "#440154"
           ]
          ],
          "showscale": true
         },
         "mode": "markers",
         "name": "param_logistic_Reg__C",
         "showlegend": false,
         "type": "scatter",
         "x": [
          0.0001,
          0.0006951927961775605,
          0.0006951927961775605,
          0.0006951927961775605,
          0.0006951927961775605,
          0.0006951927961775605,
          0.0006951927961775605,
          0.0006951927961775605,
          0.0006951927961775605,
          0.0006951927961775605,
          0.012742749857031334,
          0.012742749857031334,
          0.012742749857031334,
          0.012742749857031334,
          0.012742749857031334,
          0.012742749857031334,
          0.004832930238571752,
          0.004832930238571752,
          0.004832930238571752,
          0.004832930238571752,
          0.004832930238571752,
          0.004832930238571752,
          0.0018329807108324356,
          0.0018329807108324356,
          0.012742749857031334,
          0.0018329807108324356,
          0.0018329807108324356,
          0.0018329807108324356,
          0.0018329807108324356,
          0.0018329807108324356,
          0.0018329807108324356,
          0.004832930238571752,
          0.0018329807108324356,
          0.004832930238571752,
          0.012742749857031334,
          0.03359818286283781,
          0.0001,
          0.0001,
          0.0001,
          0.0001,
          0.0001,
          0.0001,
          0.0001,
          0.0001,
          0.03359818286283781,
          0.012742749857031334,
          0.03359818286283781,
          0.00026366508987303583,
          0.03359818286283781,
          0.00026366508987303583,
          0.03359818286283781,
          0.03359818286283781,
          0.03359818286283781,
          0.03359818286283781,
          0.03359818286283781,
          0.00026366508987303583,
          0.00026366508987303583,
          0.00026366508987303583,
          0.004832930238571752,
          0.00026366508987303583,
          0.00026366508987303583,
          0.00026366508987303583,
          0.00026366508987303583,
          0.08858667904100823,
          0.08858667904100823,
          0.08858667904100823,
          0.08858667904100823,
          0.08858667904100823,
          0.08858667904100823,
          0.08858667904100823,
          0.00026366508987303583,
          0.0006951927961775605,
          0.012742749857031334,
          0.004832930238571752,
          0.0018329807108324356,
          0.0001,
          0.03359818286283781,
          3792.690190732246,
          78.47599703514607,
          4.281332398719396,
          29.763514416313132,
          1.623776739188721,
          0.0001,
          78.47599703514607,
          0.08858667904100823,
          0.08858667904100823,
          29.763514416313132,
          1438.44988828766,
          1438.44988828766,
          0.03359818286283781,
          3792.690190732246,
          0.23357214690901212,
          11.288378916846883,
          1.623776739188721,
          0.615848211066026,
          0.615848211066026,
          1438.44988828766,
          1438.44988828766,
          29.763514416313132,
          206.913808111479,
          29.763514416313132,
          206.913808111479,
          0.615848211066026,
          0.615848211066026,
          3792.690190732246,
          3792.690190732246,
          1.623776739188721,
          1.623776739188721,
          0.23357214690901212,
          0.23357214690901212,
          11.288378916846883,
          0.00026366508987303583,
          0.23357214690901212,
          4.281332398719396,
          206.913808111479,
          78.47599703514607,
          10000,
          11.288378916846883,
          0.012742749857031334,
          545.5594781168514,
          0.004832930238571752,
          206.913808111479,
          4.281332398719396,
          4.281332398719396,
          0.0006951927961775605,
          78.47599703514607,
          10000,
          10000,
          0.0018329807108324356,
          545.5594781168514,
          545.5594781168514,
          11.288378916846883,
          10000,
          545.5594781168514,
          0.004832930238571752,
          0.012742749857031334,
          1.623776739188721,
          0.08858667904100823,
          0.0018329807108324356,
          0.0006951927961775605,
          0.00026366508987303583,
          0.0001,
          10000,
          3792.690190732246,
          29.763514416313132,
          11.288378916846883,
          10000,
          545.5594781168514,
          78.47599703514607,
          206.913808111479,
          1438.44988828766,
          0.08858667904100823,
          3792.690190732246,
          4.281332398719396,
          1438.44988828766,
          206.913808111479,
          78.47599703514607,
          545.5594781168514,
          11.288378916846883,
          29.763514416313132,
          4.281332398719396,
          0.03359818286283781,
          0.23357214690901212,
          0.615848211066026,
          1.623776739188721,
          0.08858667904100823,
          0.00026366508987303583,
          0.0018329807108324356,
          0.0006951927961775605,
          0.0001,
          0.012742749857031334,
          0.004832930238571752,
          0.23357214690901212,
          0.615848211066026,
          1.623776739188721,
          0.23357214690901212,
          0.615848211066026,
          0.23357214690901212,
          0.23357214690901212,
          0.23357214690901212,
          0.23357214690901212,
          0.03359818286283781,
          1438.44988828766,
          545.5594781168514,
          0.615848211066026,
          3792.690190732246,
          206.913808111479,
          78.47599703514607,
          4.281332398719396,
          11.288378916846883,
          1.623776739188721,
          78.47599703514607,
          29.763514416313132,
          0.23357214690901212,
          1438.44988828766,
          29.763514416313132,
          206.913808111479,
          11.288378916846883,
          3792.690190732246,
          10000,
          545.5594781168514,
          10000,
          0.012742749857031334,
          0.012742749857031334,
          0.012742749857031334,
          0.012742749857031334,
          0.012742749857031334,
          4.281332398719396,
          0.08858667904100823,
          0.23357214690901212,
          0.0018329807108324356,
          0.0018329807108324356,
          0.0018329807108324356,
          0.0018329807108324356,
          0.0018329807108324356,
          206.913808111479,
          78.47599703514607,
          206.913808111479,
          206.913808111479,
          206.913808111479,
          206.913808111479,
          206.913808111479,
          206.913808111479,
          206.913808111479,
          206.913808111479,
          206.913808111479,
          78.47599703514607,
          1438.44988828766,
          545.5594781168514,
          3792.690190732246,
          3792.690190732246,
          10000,
          10000,
          3792.690190732246,
          10000,
          10000,
          10000,
          10000,
          10000,
          10000,
          3792.690190732246,
          3792.690190732246,
          3792.690190732246,
          3792.690190732246,
          3792.690190732246,
          3792.690190732246,
          3792.690190732246,
          1438.44988828766,
          545.5594781168514,
          545.5594781168514,
          545.5594781168514,
          545.5594781168514,
          545.5594781168514,
          545.5594781168514,
          545.5594781168514,
          545.5594781168514,
          545.5594781168514,
          1438.44988828766,
          1438.44988828766,
          1438.44988828766,
          1438.44988828766,
          1438.44988828766,
          1438.44988828766,
          1438.44988828766,
          1438.44988828766,
          78.47599703514607,
          0.615848211066026,
          78.47599703514607,
          1.623776739188721,
          1.623776739188721,
          1.623776739188721,
          1.623776739188721,
          1.623776739188721,
          1.623776739188721,
          1.623776739188721,
          1.623776739188721,
          1.623776739188721,
          1.623776739188721,
          78.47599703514607,
          0.615848211066026,
          0.615848211066026,
          0.615848211066026,
          4.281332398719396,
          0.615848211066026,
          0.615848211066026,
          0.615848211066026,
          0.615848211066026,
          0.615848211066026,
          0.23357214690901212,
          0.23357214690901212,
          0.23357214690901212,
          0.23357214690901212,
          0.23357214690901212,
          0.08858667904100823,
          0.08858667904100823,
          0.08858667904100823,
          0.08858667904100823,
          0.08858667904100823,
          0.615848211066026,
          4.281332398719396,
          10000,
          4.281332398719396,
          78.47599703514607,
          78.47599703514607,
          4.281332398719396,
          78.47599703514607,
          78.47599703514607,
          29.763514416313132,
          29.763514416313132,
          29.763514416313132,
          29.763514416313132,
          29.763514416313132,
          29.763514416313132,
          29.763514416313132,
          29.763514416313132,
          29.763514416313132,
          29.763514416313132,
          78.47599703514607,
          11.288378916846883,
          11.288378916846883,
          4.281332398719396,
          4.281332398719396,
          4.281332398719396,
          4.281332398719396,
          4.281332398719396,
          4.281332398719396,
          10000,
          11.288378916846883,
          11.288378916846883,
          11.288378916846883,
          11.288378916846883,
          11.288378916846883,
          11.288378916846883,
          11.288378916846883,
          11.288378916846883,
          0.00026366508987303583,
          0.00026366508987303583,
          0.00026366508987303583,
          0.00026366508987303583,
          0.0001,
          0.00026366508987303583,
          0.0001,
          0.0001,
          0.0001,
          0.0001,
          0.0006951927961775605,
          0.0006951927961775605,
          0.0006951927961775605,
          0.0006951927961775605,
          0.0006951927961775605,
          0.004832930238571752,
          0.004832930238571752,
          0.004832930238571752,
          0.004832930238571752,
          0.004832930238571752,
          0.03359818286283781,
          0.03359818286283781,
          0.03359818286283781,
          0.03359818286283781,
          0.03359818286283781
         ],
         "y": [
          0,
          0,
          0,
          0,
          0,
          0,
          0,
          0,
          0,
          0,
          0,
          0,
          0,
          0,
          0,
          0,
          0,
          0,
          0,
          0,
          0,
          0,
          0,
          0,
          0,
          0,
          0,
          0,
          0,
          0,
          0,
          0,
          0,
          0,
          0,
          0,
          0,
          0,
          0,
          0,
          0,
          0,
          0,
          0,
          0,
          0,
          0,
          0,
          0,
          0,
          0,
          0,
          0,
          0,
          0,
          0,
          0,
          0,
          0,
          0,
          0,
          0,
          0,
          2,
          2,
          7,
          7,
          7,
          7,
          7,
          14,
          14,
          14,
          14,
          14,
          14,
          14,
          71,
          71,
          71,
          71,
          71,
          71,
          71,
          71,
          71,
          71,
          71,
          71,
          71,
          71,
          71,
          71,
          71,
          71,
          71,
          71,
          71,
          71,
          71,
          71,
          71,
          71,
          71,
          71,
          71,
          71,
          71,
          71,
          71,
          71,
          71,
          71,
          71,
          71,
          71,
          71,
          71,
          71,
          71,
          71,
          71,
          71,
          71,
          71,
          71,
          71,
          71,
          71,
          71,
          71,
          71,
          71,
          71,
          73,
          73,
          74,
          75,
          79,
          79,
          79,
          79,
          98,
          98,
          98,
          98,
          98,
          98,
          98,
          98,
          98,
          98,
          98,
          98,
          98,
          98,
          98,
          98,
          98,
          98,
          98,
          99,
          102,
          102,
          102,
          103,
          109,
          109,
          109,
          109,
          109,
          109,
          111,
          111,
          118,
          118,
          118,
          118,
          118,
          118,
          118,
          119,
          139,
          139,
          139,
          139,
          139,
          139,
          139,
          139,
          139,
          139,
          139,
          139,
          139,
          139,
          139,
          139,
          139,
          139,
          139,
          139,
          144,
          144,
          144,
          144,
          144,
          147,
          147,
          147,
          152,
          152,
          152,
          152,
          152,
          272,
          272,
          272,
          272,
          272,
          272,
          272,
          272,
          272,
          272,
          272,
          272,
          272,
          272,
          272,
          272,
          272,
          272,
          272,
          272,
          272,
          272,
          272,
          272,
          272,
          272,
          272,
          272,
          272,
          272,
          272,
          272,
          272,
          272,
          272,
          272,
          272,
          272,
          272,
          272,
          272,
          272,
          272,
          272,
          272,
          272,
          272,
          272,
          272,
          272,
          272,
          272,
          272,
          272,
          272,
          272,
          272,
          272,
          272,
          272,
          272,
          272,
          272,
          272,
          272,
          272,
          272,
          272,
          272,
          272,
          272,
          272,
          272,
          272,
          272,
          272,
          272,
          272,
          272,
          272,
          272,
          272,
          272,
          272,
          272,
          272,
          272,
          272,
          272,
          272,
          272,
          272,
          272,
          272,
          272,
          272,
          272,
          272,
          272,
          272,
          272,
          272,
          272,
          272,
          272,
          272,
          272,
          272,
          272,
          272,
          272,
          272,
          272,
          272,
          272,
          272,
          272,
          272,
          272,
          272,
          287,
          287,
          287,
          287,
          287,
          287,
          287,
          287,
          287,
          287,
          287,
          287,
          287,
          287,
          287,
          292,
          292,
          292,
          292,
          292,
          297,
          297,
          297,
          297,
          297
         ]
        },
        {
         "line": {
          "color": "#e377c2",
          "dash": "dash"
         },
         "mode": "lines",
         "showlegend": false,
         "type": "scatter",
         "x": [
          0.03359818286283781,
          0.03359818286283781
         ],
         "y": [
          0,
          297
         ]
        }
       ],
       "layout": {
        "annotations": [
         {
          "align": "center",
          "bordercolor": "black",
          "borderwidth": 1,
          "showarrow": false,
          "text": "Vertical line: best score",
          "x": 0.5,
          "xref": "paper",
          "y": -0.22,
          "yref": "paper"
         }
        ],
        "legend": {
         "itemsizing": "constant"
        },
        "template": {
         "data": {
          "bar": [
           {
            "error_x": {
             "color": "#2a3f5f"
            },
            "error_y": {
             "color": "#2a3f5f"
            },
            "marker": {
             "line": {
              "color": "#E5ECF6",
              "width": 0.5
             }
            },
            "type": "bar"
           }
          ],
          "barpolar": [
           {
            "marker": {
             "line": {
              "color": "#E5ECF6",
              "width": 0.5
             }
            },
            "type": "barpolar"
           }
          ],
          "carpet": [
           {
            "aaxis": {
             "endlinecolor": "#2a3f5f",
             "gridcolor": "white",
             "linecolor": "white",
             "minorgridcolor": "white",
             "startlinecolor": "#2a3f5f"
            },
            "baxis": {
             "endlinecolor": "#2a3f5f",
             "gridcolor": "white",
             "linecolor": "white",
             "minorgridcolor": "white",
             "startlinecolor": "#2a3f5f"
            },
            "type": "carpet"
           }
          ],
          "choropleth": [
           {
            "colorbar": {
             "outlinewidth": 0,
             "ticks": ""
            },
            "type": "choropleth"
           }
          ],
          "contour": [
           {
            "colorbar": {
             "outlinewidth": 0,
             "ticks": ""
            },
            "colorscale": [
             [
              0,
              "#0d0887"
             ],
             [
              0.1111111111111111,
              "#46039f"
             ],
             [
              0.2222222222222222,
              "#7201a8"
             ],
             [
              0.3333333333333333,
              "#9c179e"
             ],
             [
              0.4444444444444444,
              "#bd3786"
             ],
             [
              0.5555555555555556,
              "#d8576b"
             ],
             [
              0.6666666666666666,
              "#ed7953"
             ],
             [
              0.7777777777777778,
              "#fb9f3a"
             ],
             [
              0.8888888888888888,
              "#fdca26"
             ],
             [
              1,
              "#f0f921"
             ]
            ],
            "type": "contour"
           }
          ],
          "contourcarpet": [
           {
            "colorbar": {
             "outlinewidth": 0,
             "ticks": ""
            },
            "type": "contourcarpet"
           }
          ],
          "heatmap": [
           {
            "colorbar": {
             "outlinewidth": 0,
             "ticks": ""
            },
            "colorscale": [
             [
              0,
              "#0d0887"
             ],
             [
              0.1111111111111111,
              "#46039f"
             ],
             [
              0.2222222222222222,
              "#7201a8"
             ],
             [
              0.3333333333333333,
              "#9c179e"
             ],
             [
              0.4444444444444444,
              "#bd3786"
             ],
             [
              0.5555555555555556,
              "#d8576b"
             ],
             [
              0.6666666666666666,
              "#ed7953"
             ],
             [
              0.7777777777777778,
              "#fb9f3a"
             ],
             [
              0.8888888888888888,
              "#fdca26"
             ],
             [
              1,
              "#f0f921"
             ]
            ],
            "type": "heatmap"
           }
          ],
          "heatmapgl": [
           {
            "colorbar": {
             "outlinewidth": 0,
             "ticks": ""
            },
            "colorscale": [
             [
              0,
              "#0d0887"
             ],
             [
              0.1111111111111111,
              "#46039f"
             ],
             [
              0.2222222222222222,
              "#7201a8"
             ],
             [
              0.3333333333333333,
              "#9c179e"
             ],
             [
              0.4444444444444444,
              "#bd3786"
             ],
             [
              0.5555555555555556,
              "#d8576b"
             ],
             [
              0.6666666666666666,
              "#ed7953"
             ],
             [
              0.7777777777777778,
              "#fb9f3a"
             ],
             [
              0.8888888888888888,
              "#fdca26"
             ],
             [
              1,
              "#f0f921"
             ]
            ],
            "type": "heatmapgl"
           }
          ],
          "histogram": [
           {
            "marker": {
             "colorbar": {
              "outlinewidth": 0,
              "ticks": ""
             }
            },
            "type": "histogram"
           }
          ],
          "histogram2d": [
           {
            "colorbar": {
             "outlinewidth": 0,
             "ticks": ""
            },
            "colorscale": [
             [
              0,
              "#0d0887"
             ],
             [
              0.1111111111111111,
              "#46039f"
             ],
             [
              0.2222222222222222,
              "#7201a8"
             ],
             [
              0.3333333333333333,
              "#9c179e"
             ],
             [
              0.4444444444444444,
              "#bd3786"
             ],
             [
              0.5555555555555556,
              "#d8576b"
             ],
             [
              0.6666666666666666,
              "#ed7953"
             ],
             [
              0.7777777777777778,
              "#fb9f3a"
             ],
             [
              0.8888888888888888,
              "#fdca26"
             ],
             [
              1,
              "#f0f921"
             ]
            ],
            "type": "histogram2d"
           }
          ],
          "histogram2dcontour": [
           {
            "colorbar": {
             "outlinewidth": 0,
             "ticks": ""
            },
            "colorscale": [
             [
              0,
              "#0d0887"
             ],
             [
              0.1111111111111111,
              "#46039f"
             ],
             [
              0.2222222222222222,
              "#7201a8"
             ],
             [
              0.3333333333333333,
              "#9c179e"
             ],
             [
              0.4444444444444444,
              "#bd3786"
             ],
             [
              0.5555555555555556,
              "#d8576b"
             ],
             [
              0.6666666666666666,
              "#ed7953"
             ],
             [
              0.7777777777777778,
              "#fb9f3a"
             ],
             [
              0.8888888888888888,
              "#fdca26"
             ],
             [
              1,
              "#f0f921"
             ]
            ],
            "type": "histogram2dcontour"
           }
          ],
          "mesh3d": [
           {
            "colorbar": {
             "outlinewidth": 0,
             "ticks": ""
            },
            "type": "mesh3d"
           }
          ],
          "parcoords": [
           {
            "line": {
             "colorbar": {
              "outlinewidth": 0,
              "ticks": ""
             }
            },
            "type": "parcoords"
           }
          ],
          "pie": [
           {
            "automargin": true,
            "type": "pie"
           }
          ],
          "scatter": [
           {
            "marker": {
             "colorbar": {
              "outlinewidth": 0,
              "ticks": ""
             }
            },
            "type": "scatter"
           }
          ],
          "scatter3d": [
           {
            "line": {
             "colorbar": {
              "outlinewidth": 0,
              "ticks": ""
             }
            },
            "marker": {
             "colorbar": {
              "outlinewidth": 0,
              "ticks": ""
             }
            },
            "type": "scatter3d"
           }
          ],
          "scattercarpet": [
           {
            "marker": {
             "colorbar": {
              "outlinewidth": 0,
              "ticks": ""
             }
            },
            "type": "scattercarpet"
           }
          ],
          "scattergeo": [
           {
            "marker": {
             "colorbar": {
              "outlinewidth": 0,
              "ticks": ""
             }
            },
            "type": "scattergeo"
           }
          ],
          "scattergl": [
           {
            "marker": {
             "colorbar": {
              "outlinewidth": 0,
              "ticks": ""
             }
            },
            "type": "scattergl"
           }
          ],
          "scattermapbox": [
           {
            "marker": {
             "colorbar": {
              "outlinewidth": 0,
              "ticks": ""
             }
            },
            "type": "scattermapbox"
           }
          ],
          "scatterpolar": [
           {
            "marker": {
             "colorbar": {
              "outlinewidth": 0,
              "ticks": ""
             }
            },
            "type": "scatterpolar"
           }
          ],
          "scatterpolargl": [
           {
            "marker": {
             "colorbar": {
              "outlinewidth": 0,
              "ticks": ""
             }
            },
            "type": "scatterpolargl"
           }
          ],
          "scatterternary": [
           {
            "marker": {
             "colorbar": {
              "outlinewidth": 0,
              "ticks": ""
             }
            },
            "type": "scatterternary"
           }
          ],
          "surface": [
           {
            "colorbar": {
             "outlinewidth": 0,
             "ticks": ""
            },
            "colorscale": [
             [
              0,
              "#0d0887"
             ],
             [
              0.1111111111111111,
              "#46039f"
             ],
             [
              0.2222222222222222,
              "#7201a8"
             ],
             [
              0.3333333333333333,
              "#9c179e"
             ],
             [
              0.4444444444444444,
              "#bd3786"
             ],
             [
              0.5555555555555556,
              "#d8576b"
             ],
             [
              0.6666666666666666,
              "#ed7953"
             ],
             [
              0.7777777777777778,
              "#fb9f3a"
             ],
             [
              0.8888888888888888,
              "#fdca26"
             ],
             [
              1,
              "#f0f921"
             ]
            ],
            "type": "surface"
           }
          ],
          "table": [
           {
            "cells": {
             "fill": {
              "color": "#EBF0F8"
             },
             "line": {
              "color": "white"
             }
            },
            "header": {
             "fill": {
              "color": "#C8D4E3"
             },
             "line": {
              "color": "white"
             }
            },
            "type": "table"
           }
          ]
         },
         "layout": {
          "annotationdefaults": {
           "arrowcolor": "#2a3f5f",
           "arrowhead": 0,
           "arrowwidth": 1
          },
          "coloraxis": {
           "colorbar": {
            "outlinewidth": 0,
            "ticks": ""
           }
          },
          "colorscale": {
           "diverging": [
            [
             0,
             "#8e0152"
            ],
            [
             0.1,
             "#c51b7d"
            ],
            [
             0.2,
             "#de77ae"
            ],
            [
             0.3,
             "#f1b6da"
            ],
            [
             0.4,
             "#fde0ef"
            ],
            [
             0.5,
             "#f7f7f7"
            ],
            [
             0.6,
             "#e6f5d0"
            ],
            [
             0.7,
             "#b8e186"
            ],
            [
             0.8,
             "#7fbc41"
            ],
            [
             0.9,
             "#4d9221"
            ],
            [
             1,
             "#276419"
            ]
           ],
           "sequential": [
            [
             0,
             "#0d0887"
            ],
            [
             0.1111111111111111,
             "#46039f"
            ],
            [
             0.2222222222222222,
             "#7201a8"
            ],
            [
             0.3333333333333333,
             "#9c179e"
            ],
            [
             0.4444444444444444,
             "#bd3786"
            ],
            [
             0.5555555555555556,
             "#d8576b"
            ],
            [
             0.6666666666666666,
             "#ed7953"
            ],
            [
             0.7777777777777778,
             "#fb9f3a"
            ],
            [
             0.8888888888888888,
             "#fdca26"
            ],
            [
             1,
             "#f0f921"
            ]
           ],
           "sequentialminus": [
            [
             0,
             "#0d0887"
            ],
            [
             0.1111111111111111,
             "#46039f"
            ],
            [
             0.2222222222222222,
             "#7201a8"
            ],
            [
             0.3333333333333333,
             "#9c179e"
            ],
            [
             0.4444444444444444,
             "#bd3786"
            ],
            [
             0.5555555555555556,
             "#d8576b"
            ],
            [
             0.6666666666666666,
             "#ed7953"
            ],
            [
             0.7777777777777778,
             "#fb9f3a"
            ],
            [
             0.8888888888888888,
             "#fdca26"
            ],
            [
             1,
             "#f0f921"
            ]
           ]
          },
          "colorway": [
           "#636efa",
           "#EF553B",
           "#00cc96",
           "#ab63fa",
           "#FFA15A",
           "#19d3f3",
           "#FF6692",
           "#B6E880",
           "#FF97FF",
           "#FECB52"
          ],
          "font": {
           "color": "#2a3f5f"
          },
          "geo": {
           "bgcolor": "white",
           "lakecolor": "white",
           "landcolor": "#E5ECF6",
           "showlakes": true,
           "showland": true,
           "subunitcolor": "white"
          },
          "hoverlabel": {
           "align": "left"
          },
          "hovermode": "closest",
          "mapbox": {
           "style": "light"
          },
          "paper_bgcolor": "white",
          "plot_bgcolor": "#E5ECF6",
          "polar": {
           "angularaxis": {
            "gridcolor": "white",
            "linecolor": "white",
            "ticks": ""
           },
           "bgcolor": "#E5ECF6",
           "radialaxis": {
            "gridcolor": "white",
            "linecolor": "white",
            "ticks": ""
           }
          },
          "scene": {
           "xaxis": {
            "backgroundcolor": "#E5ECF6",
            "gridcolor": "white",
            "gridwidth": 2,
            "linecolor": "white",
            "showbackground": true,
            "ticks": "",
            "zerolinecolor": "white"
           },
           "yaxis": {
            "backgroundcolor": "#E5ECF6",
            "gridcolor": "white",
            "gridwidth": 2,
            "linecolor": "white",
            "showbackground": true,
            "ticks": "",
            "zerolinecolor": "white"
           },
           "zaxis": {
            "backgroundcolor": "#E5ECF6",
            "gridcolor": "white",
            "gridwidth": 2,
            "linecolor": "white",
            "showbackground": true,
            "ticks": "",
            "zerolinecolor": "white"
           }
          },
          "shapedefaults": {
           "line": {
            "color": "#2a3f5f"
           }
          },
          "ternary": {
           "aaxis": {
            "gridcolor": "white",
            "linecolor": "white",
            "ticks": ""
           },
           "baxis": {
            "gridcolor": "white",
            "linecolor": "white",
            "ticks": ""
           },
           "bgcolor": "#E5ECF6",
           "caxis": {
            "gridcolor": "white",
            "linecolor": "white",
            "ticks": ""
           }
          },
          "title": {
           "x": 0.05
          },
          "xaxis": {
           "automargin": true,
           "gridcolor": "white",
           "linecolor": "white",
           "ticks": "",
           "title": {
            "standoff": 15
           },
           "zerolinecolor": "white",
           "zerolinewidth": 2
          },
          "yaxis": {
           "automargin": true,
           "gridcolor": "white",
           "linecolor": "white",
           "ticks": "",
           "title": {
            "standoff": 15
           },
           "zerolinecolor": "white",
           "zerolinewidth": 2
          }
         }
        },
        "title": {
         "text": "Evolution of hyperparameter param_logistic_Reg__C by trial"
        },
        "xaxis": {
         "title": {
          "text": "param_logistic_Reg__C"
         },
         "type": "log"
        },
        "yaxis": {
         "title": {
          "text": "Rank number (the higher, the better ranked)"
         }
        }
       }
      },
      "text/html": [
       "<div>                            <div id=\"a13bb104-bac7-42b8-a4bf-deb5d83a664a\" class=\"plotly-graph-div\" style=\"height:525px; width:100%;\"></div>            <script type=\"text/javascript\">                require([\"plotly\"], function(Plotly) {                    window.PLOTLYENV=window.PLOTLYENV || {};                                    if (document.getElementById(\"a13bb104-bac7-42b8-a4bf-deb5d83a664a\")) {                    Plotly.newPlot(                        \"a13bb104-bac7-42b8-a4bf-deb5d83a664a\",                        [{\"hovertemplate\": \"<b>Trial %{y}</b><br><br>Value: %{x:.5f}<br>MAE: %{marker.color:.3f}<br><extra></extra>\", \"marker\": {\"color\": [0.6393162393162393, 0.6393162393162393, 0.6393162393162393, 0.6393162393162393, 0.6393162393162393, 0.6393162393162393, 0.6393162393162393, 0.6393162393162393, 0.6393162393162393, 0.6393162393162393, 0.6393162393162393, 0.6393162393162393, 0.6393162393162393, 0.6393162393162393, 0.6393162393162393, 0.6393162393162393, 0.6393162393162393, 0.6393162393162393, 0.6393162393162393, 0.6393162393162393, 0.6393162393162393, 0.6393162393162393, 0.6393162393162393, 0.6393162393162393, 0.6393162393162393, 0.6393162393162393, 0.6393162393162393, 0.6393162393162393, 0.6393162393162393, 0.6393162393162393, 0.6393162393162393, 0.6393162393162393, 0.6393162393162393, 0.6393162393162393, 0.6393162393162393, 0.6393162393162393, 0.6393162393162393, 0.6393162393162393, 0.6393162393162393, 0.6393162393162393, 0.6393162393162393, 0.6393162393162393, 0.6393162393162393, 0.6393162393162393, 0.6393162393162393, 0.6393162393162393, 0.6393162393162393, 0.6393162393162393, 0.6393162393162393, 0.6393162393162393, 0.6393162393162393, 0.6393162393162393, 0.6393162393162393, 0.6393162393162393, 0.6393162393162393, 0.6393162393162393, 0.6393162393162393, 0.6393162393162393, 0.6393162393162393, 0.6393162393162393, 0.6393162393162393, 0.6393162393162393, 0.6393162393162393, 0.6541310541310541, 0.6541310541310541, 0.6626780626780627, 0.6626780626780627, 0.6626780626780627, 0.6626780626780627, 0.6626780626780627, 0.6695156695156695, 0.6695156695156695, 0.6695156695156695, 0.6695156695156695, 0.6695156695156695, 0.6695156695156695, 0.6695156695156695, 0.6772079772079772, 0.6772079772079772, 0.6772079772079772, 0.6772079772079772, 0.6772079772079772, 0.6772079772079772, 0.6772079772079772, 0.6772079772079772, 0.6772079772079772, 0.6772079772079772, 0.6772079772079772, 0.6772079772079772, 0.6772079772079772, 0.6772079772079772, 0.6772079772079772, 0.6772079772079772, 0.6772079772079772, 0.6772079772079772, 0.6772079772079772, 0.6772079772079772, 0.6772079772079772, 0.6772079772079772, 0.6772079772079772, 0.6772079772079772, 0.6772079772079772, 0.6772079772079772, 0.6772079772079772, 0.6772079772079772, 0.6772079772079772, 0.6772079772079772, 0.6772079772079772, 0.6772079772079772, 0.6772079772079772, 0.6772079772079772, 0.6772079772079772, 0.6772079772079772, 0.6772079772079772, 0.6772079772079772, 0.6772079772079772, 0.6772079772079772, 0.6772079772079772, 0.6772079772079772, 0.6772079772079772, 0.6772079772079772, 0.6772079772079772, 0.6772079772079772, 0.6772079772079772, 0.6772079772079772, 0.6772079772079772, 0.6772079772079772, 0.6772079772079772, 0.6772079772079772, 0.6772079772079772, 0.6772079772079772, 0.6772079772079772, 0.6772079772079772, 0.6772079772079772, 0.6849002849002849, 0.6849002849002849, 0.6920227920227919, 0.6920227920227922, 0.6925925925925925, 0.6925925925925925, 0.6925925925925925, 0.6925925925925925, 0.6994301994301994, 0.6994301994301994, 0.6994301994301994, 0.6994301994301994, 0.6994301994301994, 0.6994301994301994, 0.6994301994301994, 0.6994301994301994, 0.6994301994301994, 0.6994301994301994, 0.6994301994301994, 0.6994301994301994, 0.6994301994301994, 0.6994301994301994, 0.6994301994301994, 0.6994301994301994, 0.6994301994301994, 0.6994301994301994, 0.6994301994301994, 0.6997150997150997, 0.7068376068376068, 0.7068376068376068, 0.7068376068376068, 0.7074074074074074, 0.7074074074074075, 0.7074074074074075, 0.7074074074074075, 0.7074074074074075, 0.7074074074074075, 0.7074074074074075, 0.7145299145299144, 0.7145299145299144, 0.7148148148148148, 0.7148148148148148, 0.7148148148148148, 0.7148148148148148, 0.7148148148148148, 0.7148148148148148, 0.7148148148148148, 0.7148148148148149, 0.7150997150997151, 0.7150997150997151, 0.7150997150997151, 0.7150997150997151, 0.7150997150997151, 0.7150997150997151, 0.7150997150997151, 0.7150997150997151, 0.7150997150997151, 0.7150997150997151, 0.7150997150997151, 0.7150997150997151, 0.7150997150997151, 0.7150997150997151, 0.7150997150997151, 0.7150997150997151, 0.7150997150997151, 0.7150997150997151, 0.7150997150997151, 0.7150997150997151, 0.7225071225071225, 0.7225071225071225, 0.7225071225071225, 0.7225071225071225, 0.7225071225071225, 0.7225071225071226, 0.7225071225071226, 0.7225071225071226, 0.7299145299145298, 0.7299145299145298, 0.7299145299145298, 0.7299145299145298, 0.7299145299145298, 0.7301994301994302, 0.7301994301994302, 0.7301994301994302, 0.7301994301994302, 0.7301994301994302, 0.7301994301994302, 0.7301994301994302, 0.7301994301994302, 0.7301994301994302, 0.7301994301994302, 0.7301994301994302, 0.7301994301994302, 0.7301994301994302, 0.7301994301994302, 0.7301994301994302, 0.7301994301994302, 0.7301994301994302, 0.7301994301994302, 0.7301994301994302, 0.7301994301994302, 0.7301994301994302, 0.7301994301994302, 0.7301994301994302, 0.7301994301994302, 0.7301994301994302, 0.7301994301994302, 0.7301994301994302, 0.7301994301994302, 0.7301994301994302, 0.7301994301994302, 0.7301994301994302, 0.7301994301994302, 0.7301994301994302, 0.7301994301994302, 0.7301994301994302, 0.7301994301994302, 0.7301994301994302, 0.7301994301994302, 0.7301994301994302, 0.7301994301994302, 0.7301994301994302, 0.7301994301994302, 0.7301994301994302, 0.7301994301994302, 0.7301994301994302, 0.7301994301994302, 0.7301994301994302, 0.7301994301994302, 0.7301994301994302, 0.7301994301994302, 0.7301994301994302, 0.7301994301994302, 0.7301994301994302, 0.7301994301994302, 0.7301994301994302, 0.7301994301994302, 0.7301994301994302, 0.7301994301994302, 0.7301994301994302, 0.7301994301994302, 0.7301994301994302, 0.7301994301994302, 0.7301994301994302, 0.7301994301994302, 0.7301994301994302, 0.7301994301994302, 0.7301994301994302, 0.7301994301994302, 0.7301994301994302, 0.7301994301994302, 0.7301994301994302, 0.7301994301994302, 0.7301994301994302, 0.7301994301994302, 0.7301994301994302, 0.7301994301994302, 0.7301994301994302, 0.7301994301994302, 0.7301994301994302, 0.7301994301994302, 0.7301994301994302, 0.7301994301994302, 0.7301994301994302, 0.7301994301994302, 0.7301994301994302, 0.7301994301994302, 0.7301994301994302, 0.7301994301994302, 0.7301994301994302, 0.7301994301994302, 0.7301994301994302, 0.7301994301994302, 0.7301994301994302, 0.7301994301994302, 0.7301994301994302, 0.7301994301994302, 0.7301994301994302, 0.7301994301994302, 0.7301994301994302, 0.7301994301994302, 0.7301994301994302, 0.7301994301994302, 0.7301994301994302, 0.7301994301994302, 0.7301994301994302, 0.7301994301994302, 0.7301994301994302, 0.7301994301994302, 0.7301994301994302, 0.7301994301994302, 0.7301994301994302, 0.7301994301994302, 0.7301994301994302, 0.7301994301994302, 0.7301994301994302, 0.7301994301994302, 0.7301994301994302, 0.7301994301994302, 0.7301994301994302, 0.7301994301994302, 0.7373219373219373, 0.7373219373219373, 0.7373219373219373, 0.7373219373219373, 0.7373219373219373, 0.7373219373219373, 0.7373219373219373, 0.7373219373219373, 0.7373219373219373, 0.7373219373219373, 0.7373219373219373, 0.7373219373219373, 0.7373219373219373, 0.7373219373219373, 0.7373219373219373, 0.7376068376068374, 0.7376068376068374, 0.7376068376068374, 0.7376068376068374, 0.7376068376068374, 0.7376068376068377, 0.7376068376068377, 0.7376068376068377, 0.7376068376068377, 0.7376068376068377], \"colorbar\": {\"title\": {\"text\": \"mean_test_score\"}}, \"colorscale\": [[0.0, \"#fde725\"], [0.1111111111111111, \"#b5de2b\"], [0.2222222222222222, \"#6ece58\"], [0.3333333333333333, \"#35b779\"], [0.4444444444444444, \"#1f9e89\"], [0.5555555555555556, \"#26828e\"], [0.6666666666666666, \"#31688e\"], [0.7777777777777778, \"#3e4989\"], [0.8888888888888888, \"#482878\"], [1.0, \"#440154\"]], \"showscale\": true}, \"mode\": \"markers\", \"name\": \"param_logistic_Reg__C\", \"showlegend\": false, \"type\": \"scatter\", \"x\": [0.0001, 0.0006951927961775605, 0.0006951927961775605, 0.0006951927961775605, 0.0006951927961775605, 0.0006951927961775605, 0.0006951927961775605, 0.0006951927961775605, 0.0006951927961775605, 0.0006951927961775605, 0.012742749857031334, 0.012742749857031334, 0.012742749857031334, 0.012742749857031334, 0.012742749857031334, 0.012742749857031334, 0.004832930238571752, 0.004832930238571752, 0.004832930238571752, 0.004832930238571752, 0.004832930238571752, 0.004832930238571752, 0.0018329807108324356, 0.0018329807108324356, 0.012742749857031334, 0.0018329807108324356, 0.0018329807108324356, 0.0018329807108324356, 0.0018329807108324356, 0.0018329807108324356, 0.0018329807108324356, 0.004832930238571752, 0.0018329807108324356, 0.004832930238571752, 0.012742749857031334, 0.03359818286283781, 0.0001, 0.0001, 0.0001, 0.0001, 0.0001, 0.0001, 0.0001, 0.0001, 0.03359818286283781, 0.012742749857031334, 0.03359818286283781, 0.00026366508987303583, 0.03359818286283781, 0.00026366508987303583, 0.03359818286283781, 0.03359818286283781, 0.03359818286283781, 0.03359818286283781, 0.03359818286283781, 0.00026366508987303583, 0.00026366508987303583, 0.00026366508987303583, 0.004832930238571752, 0.00026366508987303583, 0.00026366508987303583, 0.00026366508987303583, 0.00026366508987303583, 0.08858667904100823, 0.08858667904100823, 0.08858667904100823, 0.08858667904100823, 0.08858667904100823, 0.08858667904100823, 0.08858667904100823, 0.00026366508987303583, 0.0006951927961775605, 0.012742749857031334, 0.004832930238571752, 0.0018329807108324356, 0.0001, 0.03359818286283781, 3792.690190732246, 78.47599703514607, 4.281332398719396, 29.763514416313132, 1.623776739188721, 0.0001, 78.47599703514607, 0.08858667904100823, 0.08858667904100823, 29.763514416313132, 1438.44988828766, 1438.44988828766, 0.03359818286283781, 3792.690190732246, 0.23357214690901212, 11.288378916846883, 1.623776739188721, 0.615848211066026, 0.615848211066026, 1438.44988828766, 1438.44988828766, 29.763514416313132, 206.913808111479, 29.763514416313132, 206.913808111479, 0.615848211066026, 0.615848211066026, 3792.690190732246, 3792.690190732246, 1.623776739188721, 1.623776739188721, 0.23357214690901212, 0.23357214690901212, 11.288378916846883, 0.00026366508987303583, 0.23357214690901212, 4.281332398719396, 206.913808111479, 78.47599703514607, 10000.0, 11.288378916846883, 0.012742749857031334, 545.5594781168514, 0.004832930238571752, 206.913808111479, 4.281332398719396, 4.281332398719396, 0.0006951927961775605, 78.47599703514607, 10000.0, 10000.0, 0.0018329807108324356, 545.5594781168514, 545.5594781168514, 11.288378916846883, 10000.0, 545.5594781168514, 0.004832930238571752, 0.012742749857031334, 1.623776739188721, 0.08858667904100823, 0.0018329807108324356, 0.0006951927961775605, 0.00026366508987303583, 0.0001, 10000.0, 3792.690190732246, 29.763514416313132, 11.288378916846883, 10000.0, 545.5594781168514, 78.47599703514607, 206.913808111479, 1438.44988828766, 0.08858667904100823, 3792.690190732246, 4.281332398719396, 1438.44988828766, 206.913808111479, 78.47599703514607, 545.5594781168514, 11.288378916846883, 29.763514416313132, 4.281332398719396, 0.03359818286283781, 0.23357214690901212, 0.615848211066026, 1.623776739188721, 0.08858667904100823, 0.00026366508987303583, 0.0018329807108324356, 0.0006951927961775605, 0.0001, 0.012742749857031334, 0.004832930238571752, 0.23357214690901212, 0.615848211066026, 1.623776739188721, 0.23357214690901212, 0.615848211066026, 0.23357214690901212, 0.23357214690901212, 0.23357214690901212, 0.23357214690901212, 0.03359818286283781, 1438.44988828766, 545.5594781168514, 0.615848211066026, 3792.690190732246, 206.913808111479, 78.47599703514607, 4.281332398719396, 11.288378916846883, 1.623776739188721, 78.47599703514607, 29.763514416313132, 0.23357214690901212, 1438.44988828766, 29.763514416313132, 206.913808111479, 11.288378916846883, 3792.690190732246, 10000.0, 545.5594781168514, 10000.0, 0.012742749857031334, 0.012742749857031334, 0.012742749857031334, 0.012742749857031334, 0.012742749857031334, 4.281332398719396, 0.08858667904100823, 0.23357214690901212, 0.0018329807108324356, 0.0018329807108324356, 0.0018329807108324356, 0.0018329807108324356, 0.0018329807108324356, 206.913808111479, 78.47599703514607, 206.913808111479, 206.913808111479, 206.913808111479, 206.913808111479, 206.913808111479, 206.913808111479, 206.913808111479, 206.913808111479, 206.913808111479, 78.47599703514607, 1438.44988828766, 545.5594781168514, 3792.690190732246, 3792.690190732246, 10000.0, 10000.0, 3792.690190732246, 10000.0, 10000.0, 10000.0, 10000.0, 10000.0, 10000.0, 3792.690190732246, 3792.690190732246, 3792.690190732246, 3792.690190732246, 3792.690190732246, 3792.690190732246, 3792.690190732246, 1438.44988828766, 545.5594781168514, 545.5594781168514, 545.5594781168514, 545.5594781168514, 545.5594781168514, 545.5594781168514, 545.5594781168514, 545.5594781168514, 545.5594781168514, 1438.44988828766, 1438.44988828766, 1438.44988828766, 1438.44988828766, 1438.44988828766, 1438.44988828766, 1438.44988828766, 1438.44988828766, 78.47599703514607, 0.615848211066026, 78.47599703514607, 1.623776739188721, 1.623776739188721, 1.623776739188721, 1.623776739188721, 1.623776739188721, 1.623776739188721, 1.623776739188721, 1.623776739188721, 1.623776739188721, 1.623776739188721, 78.47599703514607, 0.615848211066026, 0.615848211066026, 0.615848211066026, 4.281332398719396, 0.615848211066026, 0.615848211066026, 0.615848211066026, 0.615848211066026, 0.615848211066026, 0.23357214690901212, 0.23357214690901212, 0.23357214690901212, 0.23357214690901212, 0.23357214690901212, 0.08858667904100823, 0.08858667904100823, 0.08858667904100823, 0.08858667904100823, 0.08858667904100823, 0.615848211066026, 4.281332398719396, 10000.0, 4.281332398719396, 78.47599703514607, 78.47599703514607, 4.281332398719396, 78.47599703514607, 78.47599703514607, 29.763514416313132, 29.763514416313132, 29.763514416313132, 29.763514416313132, 29.763514416313132, 29.763514416313132, 29.763514416313132, 29.763514416313132, 29.763514416313132, 29.763514416313132, 78.47599703514607, 11.288378916846883, 11.288378916846883, 4.281332398719396, 4.281332398719396, 4.281332398719396, 4.281332398719396, 4.281332398719396, 4.281332398719396, 10000.0, 11.288378916846883, 11.288378916846883, 11.288378916846883, 11.288378916846883, 11.288378916846883, 11.288378916846883, 11.288378916846883, 11.288378916846883, 0.00026366508987303583, 0.00026366508987303583, 0.00026366508987303583, 0.00026366508987303583, 0.0001, 0.00026366508987303583, 0.0001, 0.0001, 0.0001, 0.0001, 0.0006951927961775605, 0.0006951927961775605, 0.0006951927961775605, 0.0006951927961775605, 0.0006951927961775605, 0.004832930238571752, 0.004832930238571752, 0.004832930238571752, 0.004832930238571752, 0.004832930238571752, 0.03359818286283781, 0.03359818286283781, 0.03359818286283781, 0.03359818286283781, 0.03359818286283781], \"y\": [0, 0, 0, 0, 0, 0, 0, 0, 0, 0, 0, 0, 0, 0, 0, 0, 0, 0, 0, 0, 0, 0, 0, 0, 0, 0, 0, 0, 0, 0, 0, 0, 0, 0, 0, 0, 0, 0, 0, 0, 0, 0, 0, 0, 0, 0, 0, 0, 0, 0, 0, 0, 0, 0, 0, 0, 0, 0, 0, 0, 0, 0, 0, 2, 2, 7, 7, 7, 7, 7, 14, 14, 14, 14, 14, 14, 14, 71, 71, 71, 71, 71, 71, 71, 71, 71, 71, 71, 71, 71, 71, 71, 71, 71, 71, 71, 71, 71, 71, 71, 71, 71, 71, 71, 71, 71, 71, 71, 71, 71, 71, 71, 71, 71, 71, 71, 71, 71, 71, 71, 71, 71, 71, 71, 71, 71, 71, 71, 71, 71, 71, 71, 71, 71, 73, 73, 74, 75, 79, 79, 79, 79, 98, 98, 98, 98, 98, 98, 98, 98, 98, 98, 98, 98, 98, 98, 98, 98, 98, 98, 98, 99, 102, 102, 102, 103, 109, 109, 109, 109, 109, 109, 111, 111, 118, 118, 118, 118, 118, 118, 118, 119, 139, 139, 139, 139, 139, 139, 139, 139, 139, 139, 139, 139, 139, 139, 139, 139, 139, 139, 139, 139, 144, 144, 144, 144, 144, 147, 147, 147, 152, 152, 152, 152, 152, 272, 272, 272, 272, 272, 272, 272, 272, 272, 272, 272, 272, 272, 272, 272, 272, 272, 272, 272, 272, 272, 272, 272, 272, 272, 272, 272, 272, 272, 272, 272, 272, 272, 272, 272, 272, 272, 272, 272, 272, 272, 272, 272, 272, 272, 272, 272, 272, 272, 272, 272, 272, 272, 272, 272, 272, 272, 272, 272, 272, 272, 272, 272, 272, 272, 272, 272, 272, 272, 272, 272, 272, 272, 272, 272, 272, 272, 272, 272, 272, 272, 272, 272, 272, 272, 272, 272, 272, 272, 272, 272, 272, 272, 272, 272, 272, 272, 272, 272, 272, 272, 272, 272, 272, 272, 272, 272, 272, 272, 272, 272, 272, 272, 272, 272, 272, 272, 272, 272, 272, 287, 287, 287, 287, 287, 287, 287, 287, 287, 287, 287, 287, 287, 287, 287, 292, 292, 292, 292, 292, 297, 297, 297, 297, 297]}, {\"line\": {\"color\": \"#e377c2\", \"dash\": \"dash\"}, \"mode\": \"lines\", \"showlegend\": false, \"type\": \"scatter\", \"x\": [0.03359818286283781, 0.03359818286283781], \"y\": [0, 297]}],                        {\"annotations\": [{\"align\": \"center\", \"bordercolor\": \"black\", \"borderwidth\": 1, \"showarrow\": false, \"text\": \"Vertical line: best score\", \"x\": 0.5, \"xref\": \"paper\", \"y\": -0.22, \"yref\": \"paper\"}], \"legend\": {\"itemsizing\": \"constant\"}, \"template\": {\"data\": {\"bar\": [{\"error_x\": {\"color\": \"#2a3f5f\"}, \"error_y\": {\"color\": \"#2a3f5f\"}, \"marker\": {\"line\": {\"color\": \"#E5ECF6\", \"width\": 0.5}}, \"type\": \"bar\"}], \"barpolar\": [{\"marker\": {\"line\": {\"color\": \"#E5ECF6\", \"width\": 0.5}}, \"type\": \"barpolar\"}], \"carpet\": [{\"aaxis\": {\"endlinecolor\": \"#2a3f5f\", \"gridcolor\": \"white\", \"linecolor\": \"white\", \"minorgridcolor\": \"white\", \"startlinecolor\": \"#2a3f5f\"}, \"baxis\": {\"endlinecolor\": \"#2a3f5f\", \"gridcolor\": \"white\", \"linecolor\": \"white\", \"minorgridcolor\": \"white\", \"startlinecolor\": \"#2a3f5f\"}, \"type\": \"carpet\"}], \"choropleth\": [{\"colorbar\": {\"outlinewidth\": 0, \"ticks\": \"\"}, \"type\": \"choropleth\"}], \"contour\": [{\"colorbar\": {\"outlinewidth\": 0, \"ticks\": \"\"}, \"colorscale\": [[0.0, \"#0d0887\"], [0.1111111111111111, \"#46039f\"], [0.2222222222222222, \"#7201a8\"], [0.3333333333333333, \"#9c179e\"], [0.4444444444444444, \"#bd3786\"], [0.5555555555555556, \"#d8576b\"], [0.6666666666666666, \"#ed7953\"], [0.7777777777777778, \"#fb9f3a\"], [0.8888888888888888, \"#fdca26\"], [1.0, \"#f0f921\"]], \"type\": \"contour\"}], \"contourcarpet\": [{\"colorbar\": {\"outlinewidth\": 0, \"ticks\": \"\"}, \"type\": \"contourcarpet\"}], \"heatmap\": [{\"colorbar\": {\"outlinewidth\": 0, \"ticks\": \"\"}, \"colorscale\": [[0.0, \"#0d0887\"], [0.1111111111111111, \"#46039f\"], [0.2222222222222222, \"#7201a8\"], [0.3333333333333333, \"#9c179e\"], [0.4444444444444444, \"#bd3786\"], [0.5555555555555556, \"#d8576b\"], [0.6666666666666666, \"#ed7953\"], [0.7777777777777778, \"#fb9f3a\"], [0.8888888888888888, \"#fdca26\"], [1.0, \"#f0f921\"]], \"type\": \"heatmap\"}], \"heatmapgl\": [{\"colorbar\": {\"outlinewidth\": 0, \"ticks\": \"\"}, \"colorscale\": [[0.0, \"#0d0887\"], [0.1111111111111111, \"#46039f\"], [0.2222222222222222, \"#7201a8\"], [0.3333333333333333, \"#9c179e\"], [0.4444444444444444, \"#bd3786\"], [0.5555555555555556, \"#d8576b\"], [0.6666666666666666, \"#ed7953\"], [0.7777777777777778, \"#fb9f3a\"], [0.8888888888888888, \"#fdca26\"], [1.0, \"#f0f921\"]], \"type\": \"heatmapgl\"}], \"histogram\": [{\"marker\": {\"colorbar\": {\"outlinewidth\": 0, \"ticks\": \"\"}}, \"type\": \"histogram\"}], \"histogram2d\": [{\"colorbar\": {\"outlinewidth\": 0, \"ticks\": \"\"}, \"colorscale\": [[0.0, \"#0d0887\"], [0.1111111111111111, \"#46039f\"], [0.2222222222222222, \"#7201a8\"], [0.3333333333333333, \"#9c179e\"], [0.4444444444444444, \"#bd3786\"], [0.5555555555555556, \"#d8576b\"], [0.6666666666666666, \"#ed7953\"], [0.7777777777777778, \"#fb9f3a\"], [0.8888888888888888, \"#fdca26\"], [1.0, \"#f0f921\"]], \"type\": \"histogram2d\"}], \"histogram2dcontour\": [{\"colorbar\": {\"outlinewidth\": 0, \"ticks\": \"\"}, \"colorscale\": [[0.0, \"#0d0887\"], [0.1111111111111111, \"#46039f\"], [0.2222222222222222, \"#7201a8\"], [0.3333333333333333, \"#9c179e\"], [0.4444444444444444, \"#bd3786\"], [0.5555555555555556, \"#d8576b\"], [0.6666666666666666, \"#ed7953\"], [0.7777777777777778, \"#fb9f3a\"], [0.8888888888888888, \"#fdca26\"], [1.0, \"#f0f921\"]], \"type\": \"histogram2dcontour\"}], \"mesh3d\": [{\"colorbar\": {\"outlinewidth\": 0, \"ticks\": \"\"}, \"type\": \"mesh3d\"}], \"parcoords\": [{\"line\": {\"colorbar\": {\"outlinewidth\": 0, \"ticks\": \"\"}}, \"type\": \"parcoords\"}], \"pie\": [{\"automargin\": true, \"type\": \"pie\"}], \"scatter\": [{\"marker\": {\"colorbar\": {\"outlinewidth\": 0, \"ticks\": \"\"}}, \"type\": \"scatter\"}], \"scatter3d\": [{\"line\": {\"colorbar\": {\"outlinewidth\": 0, \"ticks\": \"\"}}, \"marker\": {\"colorbar\": {\"outlinewidth\": 0, \"ticks\": \"\"}}, \"type\": \"scatter3d\"}], \"scattercarpet\": [{\"marker\": {\"colorbar\": {\"outlinewidth\": 0, \"ticks\": \"\"}}, \"type\": \"scattercarpet\"}], \"scattergeo\": [{\"marker\": {\"colorbar\": {\"outlinewidth\": 0, \"ticks\": \"\"}}, \"type\": \"scattergeo\"}], \"scattergl\": [{\"marker\": {\"colorbar\": {\"outlinewidth\": 0, \"ticks\": \"\"}}, \"type\": \"scattergl\"}], \"scattermapbox\": [{\"marker\": {\"colorbar\": {\"outlinewidth\": 0, \"ticks\": \"\"}}, \"type\": \"scattermapbox\"}], \"scatterpolar\": [{\"marker\": {\"colorbar\": {\"outlinewidth\": 0, \"ticks\": \"\"}}, \"type\": \"scatterpolar\"}], \"scatterpolargl\": [{\"marker\": {\"colorbar\": {\"outlinewidth\": 0, \"ticks\": \"\"}}, \"type\": \"scatterpolargl\"}], \"scatterternary\": [{\"marker\": {\"colorbar\": {\"outlinewidth\": 0, \"ticks\": \"\"}}, \"type\": \"scatterternary\"}], \"surface\": [{\"colorbar\": {\"outlinewidth\": 0, \"ticks\": \"\"}, \"colorscale\": [[0.0, \"#0d0887\"], [0.1111111111111111, \"#46039f\"], [0.2222222222222222, \"#7201a8\"], [0.3333333333333333, \"#9c179e\"], [0.4444444444444444, \"#bd3786\"], [0.5555555555555556, \"#d8576b\"], [0.6666666666666666, \"#ed7953\"], [0.7777777777777778, \"#fb9f3a\"], [0.8888888888888888, \"#fdca26\"], [1.0, \"#f0f921\"]], \"type\": \"surface\"}], \"table\": [{\"cells\": {\"fill\": {\"color\": \"#EBF0F8\"}, \"line\": {\"color\": \"white\"}}, \"header\": {\"fill\": {\"color\": \"#C8D4E3\"}, \"line\": {\"color\": \"white\"}}, \"type\": \"table\"}]}, \"layout\": {\"annotationdefaults\": {\"arrowcolor\": \"#2a3f5f\", \"arrowhead\": 0, \"arrowwidth\": 1}, \"coloraxis\": {\"colorbar\": {\"outlinewidth\": 0, \"ticks\": \"\"}}, \"colorscale\": {\"diverging\": [[0, \"#8e0152\"], [0.1, \"#c51b7d\"], [0.2, \"#de77ae\"], [0.3, \"#f1b6da\"], [0.4, \"#fde0ef\"], [0.5, \"#f7f7f7\"], [0.6, \"#e6f5d0\"], [0.7, \"#b8e186\"], [0.8, \"#7fbc41\"], [0.9, \"#4d9221\"], [1, \"#276419\"]], \"sequential\": [[0.0, \"#0d0887\"], [0.1111111111111111, \"#46039f\"], [0.2222222222222222, \"#7201a8\"], [0.3333333333333333, \"#9c179e\"], [0.4444444444444444, \"#bd3786\"], [0.5555555555555556, \"#d8576b\"], [0.6666666666666666, \"#ed7953\"], [0.7777777777777778, \"#fb9f3a\"], [0.8888888888888888, \"#fdca26\"], [1.0, \"#f0f921\"]], \"sequentialminus\": [[0.0, \"#0d0887\"], [0.1111111111111111, \"#46039f\"], [0.2222222222222222, \"#7201a8\"], [0.3333333333333333, \"#9c179e\"], [0.4444444444444444, \"#bd3786\"], [0.5555555555555556, \"#d8576b\"], [0.6666666666666666, \"#ed7953\"], [0.7777777777777778, \"#fb9f3a\"], [0.8888888888888888, \"#fdca26\"], [1.0, \"#f0f921\"]]}, \"colorway\": [\"#636efa\", \"#EF553B\", \"#00cc96\", \"#ab63fa\", \"#FFA15A\", \"#19d3f3\", \"#FF6692\", \"#B6E880\", \"#FF97FF\", \"#FECB52\"], \"font\": {\"color\": \"#2a3f5f\"}, \"geo\": {\"bgcolor\": \"white\", \"lakecolor\": \"white\", \"landcolor\": \"#E5ECF6\", \"showlakes\": true, \"showland\": true, \"subunitcolor\": \"white\"}, \"hoverlabel\": {\"align\": \"left\"}, \"hovermode\": \"closest\", \"mapbox\": {\"style\": \"light\"}, \"paper_bgcolor\": \"white\", \"plot_bgcolor\": \"#E5ECF6\", \"polar\": {\"angularaxis\": {\"gridcolor\": \"white\", \"linecolor\": \"white\", \"ticks\": \"\"}, \"bgcolor\": \"#E5ECF6\", \"radialaxis\": {\"gridcolor\": \"white\", \"linecolor\": \"white\", \"ticks\": \"\"}}, \"scene\": {\"xaxis\": {\"backgroundcolor\": \"#E5ECF6\", \"gridcolor\": \"white\", \"gridwidth\": 2, \"linecolor\": \"white\", \"showbackground\": true, \"ticks\": \"\", \"zerolinecolor\": \"white\"}, \"yaxis\": {\"backgroundcolor\": \"#E5ECF6\", \"gridcolor\": \"white\", \"gridwidth\": 2, \"linecolor\": \"white\", \"showbackground\": true, \"ticks\": \"\", \"zerolinecolor\": \"white\"}, \"zaxis\": {\"backgroundcolor\": \"#E5ECF6\", \"gridcolor\": \"white\", \"gridwidth\": 2, \"linecolor\": \"white\", \"showbackground\": true, \"ticks\": \"\", \"zerolinecolor\": \"white\"}}, \"shapedefaults\": {\"line\": {\"color\": \"#2a3f5f\"}}, \"ternary\": {\"aaxis\": {\"gridcolor\": \"white\", \"linecolor\": \"white\", \"ticks\": \"\"}, \"baxis\": {\"gridcolor\": \"white\", \"linecolor\": \"white\", \"ticks\": \"\"}, \"bgcolor\": \"#E5ECF6\", \"caxis\": {\"gridcolor\": \"white\", \"linecolor\": \"white\", \"ticks\": \"\"}}, \"title\": {\"x\": 0.05}, \"xaxis\": {\"automargin\": true, \"gridcolor\": \"white\", \"linecolor\": \"white\", \"ticks\": \"\", \"title\": {\"standoff\": 15}, \"zerolinecolor\": \"white\", \"zerolinewidth\": 2}, \"yaxis\": {\"automargin\": true, \"gridcolor\": \"white\", \"linecolor\": \"white\", \"ticks\": \"\", \"title\": {\"standoff\": 15}, \"zerolinecolor\": \"white\", \"zerolinewidth\": 2}}}, \"title\": {\"text\": \"Evolution of hyperparameter param_logistic_Reg__C by trial\"}, \"xaxis\": {\"title\": {\"text\": \"param_logistic_Reg__C\"}, \"type\": \"log\"}, \"yaxis\": {\"title\": {\"text\": \"Rank number (the higher, the better ranked)\"}}},                        {\"responsive\": true}                    ).then(function(){\n",
       "                            \n",
       "var gd = document.getElementById('a13bb104-bac7-42b8-a4bf-deb5d83a664a');\n",
       "var x = new MutationObserver(function (mutations, observer) {{\n",
       "        var display = window.getComputedStyle(gd).display;\n",
       "        if (!display || display === 'none') {{\n",
       "            console.log([gd, 'removed!']);\n",
       "            Plotly.purge(gd);\n",
       "            observer.disconnect();\n",
       "        }}\n",
       "}});\n",
       "\n",
       "// Listen for the removal of the full notebook cells\n",
       "var notebookContainer = gd.closest('#notebook-container');\n",
       "if (notebookContainer) {{\n",
       "    x.observe(notebookContainer, {childList: true});\n",
       "}}\n",
       "\n",
       "// Listen for the clearing of the current output cell\n",
       "var outputEl = gd.closest('.output');\n",
       "if (outputEl) {{\n",
       "    x.observe(outputEl, {childList: true});\n",
       "}}\n",
       "\n",
       "                        })                };                });            </script>        </div>"
      ]
     },
     "metadata": {},
     "output_type": "display_data"
    },
    {
     "data": {
      "application/vnd.plotly.v1+json": {
       "config": {
        "plotlyServerURL": "https://plot.ly"
       },
       "data": [
        {
         "hovertemplate": "<b>Trial %{y}</b><br><br>Value: %{x:.5f}<br>MAE: %{marker.color:.3f}<br><extra></extra>",
         "marker": {
          "color": [
           0.6393162393162393,
           0.6393162393162393,
           0.6393162393162393,
           0.6393162393162393,
           0.6393162393162393,
           0.6393162393162393,
           0.6393162393162393,
           0.6393162393162393,
           0.6393162393162393,
           0.6393162393162393,
           0.6393162393162393,
           0.6393162393162393,
           0.6393162393162393,
           0.6393162393162393,
           0.6393162393162393,
           0.6393162393162393,
           0.6393162393162393,
           0.6393162393162393,
           0.6393162393162393,
           0.6393162393162393,
           0.6393162393162393,
           0.6393162393162393,
           0.6393162393162393,
           0.6393162393162393,
           0.6393162393162393,
           0.6393162393162393,
           0.6393162393162393,
           0.6393162393162393,
           0.6393162393162393,
           0.6393162393162393,
           0.6393162393162393,
           0.6393162393162393,
           0.6393162393162393,
           0.6393162393162393,
           0.6393162393162393,
           0.6393162393162393,
           0.6393162393162393,
           0.6393162393162393,
           0.6393162393162393,
           0.6393162393162393,
           0.6393162393162393,
           0.6393162393162393,
           0.6393162393162393,
           0.6393162393162393,
           0.6393162393162393,
           0.6393162393162393,
           0.6393162393162393,
           0.6393162393162393,
           0.6393162393162393,
           0.6393162393162393,
           0.6393162393162393,
           0.6393162393162393,
           0.6393162393162393,
           0.6393162393162393,
           0.6393162393162393,
           0.6393162393162393,
           0.6393162393162393,
           0.6393162393162393,
           0.6393162393162393,
           0.6393162393162393,
           0.6393162393162393,
           0.6393162393162393,
           0.6393162393162393,
           0.6541310541310541,
           0.6541310541310541,
           0.6626780626780627,
           0.6626780626780627,
           0.6626780626780627,
           0.6626780626780627,
           0.6626780626780627,
           0.6695156695156695,
           0.6695156695156695,
           0.6695156695156695,
           0.6695156695156695,
           0.6695156695156695,
           0.6695156695156695,
           0.6695156695156695,
           0.6772079772079772,
           0.6772079772079772,
           0.6772079772079772,
           0.6772079772079772,
           0.6772079772079772,
           0.6772079772079772,
           0.6772079772079772,
           0.6772079772079772,
           0.6772079772079772,
           0.6772079772079772,
           0.6772079772079772,
           0.6772079772079772,
           0.6772079772079772,
           0.6772079772079772,
           0.6772079772079772,
           0.6772079772079772,
           0.6772079772079772,
           0.6772079772079772,
           0.6772079772079772,
           0.6772079772079772,
           0.6772079772079772,
           0.6772079772079772,
           0.6772079772079772,
           0.6772079772079772,
           0.6772079772079772,
           0.6772079772079772,
           0.6772079772079772,
           0.6772079772079772,
           0.6772079772079772,
           0.6772079772079772,
           0.6772079772079772,
           0.6772079772079772,
           0.6772079772079772,
           0.6772079772079772,
           0.6772079772079772,
           0.6772079772079772,
           0.6772079772079772,
           0.6772079772079772,
           0.6772079772079772,
           0.6772079772079772,
           0.6772079772079772,
           0.6772079772079772,
           0.6772079772079772,
           0.6772079772079772,
           0.6772079772079772,
           0.6772079772079772,
           0.6772079772079772,
           0.6772079772079772,
           0.6772079772079772,
           0.6772079772079772,
           0.6772079772079772,
           0.6772079772079772,
           0.6772079772079772,
           0.6772079772079772,
           0.6772079772079772,
           0.6772079772079772,
           0.6772079772079772,
           0.6849002849002849,
           0.6849002849002849,
           0.6920227920227919,
           0.6920227920227922,
           0.6925925925925925,
           0.6925925925925925,
           0.6925925925925925,
           0.6925925925925925,
           0.6994301994301994,
           0.6994301994301994,
           0.6994301994301994,
           0.6994301994301994,
           0.6994301994301994,
           0.6994301994301994,
           0.6994301994301994,
           0.6994301994301994,
           0.6994301994301994,
           0.6994301994301994,
           0.6994301994301994,
           0.6994301994301994,
           0.6994301994301994,
           0.6994301994301994,
           0.6994301994301994,
           0.6994301994301994,
           0.6994301994301994,
           0.6994301994301994,
           0.6994301994301994,
           0.6997150997150997,
           0.7068376068376068,
           0.7068376068376068,
           0.7068376068376068,
           0.7074074074074074,
           0.7074074074074075,
           0.7074074074074075,
           0.7074074074074075,
           0.7074074074074075,
           0.7074074074074075,
           0.7074074074074075,
           0.7145299145299144,
           0.7145299145299144,
           0.7148148148148148,
           0.7148148148148148,
           0.7148148148148148,
           0.7148148148148148,
           0.7148148148148148,
           0.7148148148148148,
           0.7148148148148148,
           0.7148148148148149,
           0.7150997150997151,
           0.7150997150997151,
           0.7150997150997151,
           0.7150997150997151,
           0.7150997150997151,
           0.7150997150997151,
           0.7150997150997151,
           0.7150997150997151,
           0.7150997150997151,
           0.7150997150997151,
           0.7150997150997151,
           0.7150997150997151,
           0.7150997150997151,
           0.7150997150997151,
           0.7150997150997151,
           0.7150997150997151,
           0.7150997150997151,
           0.7150997150997151,
           0.7150997150997151,
           0.7150997150997151,
           0.7225071225071225,
           0.7225071225071225,
           0.7225071225071225,
           0.7225071225071225,
           0.7225071225071225,
           0.7225071225071226,
           0.7225071225071226,
           0.7225071225071226,
           0.7299145299145298,
           0.7299145299145298,
           0.7299145299145298,
           0.7299145299145298,
           0.7299145299145298,
           0.7301994301994302,
           0.7301994301994302,
           0.7301994301994302,
           0.7301994301994302,
           0.7301994301994302,
           0.7301994301994302,
           0.7301994301994302,
           0.7301994301994302,
           0.7301994301994302,
           0.7301994301994302,
           0.7301994301994302,
           0.7301994301994302,
           0.7301994301994302,
           0.7301994301994302,
           0.7301994301994302,
           0.7301994301994302,
           0.7301994301994302,
           0.7301994301994302,
           0.7301994301994302,
           0.7301994301994302,
           0.7301994301994302,
           0.7301994301994302,
           0.7301994301994302,
           0.7301994301994302,
           0.7301994301994302,
           0.7301994301994302,
           0.7301994301994302,
           0.7301994301994302,
           0.7301994301994302,
           0.7301994301994302,
           0.7301994301994302,
           0.7301994301994302,
           0.7301994301994302,
           0.7301994301994302,
           0.7301994301994302,
           0.7301994301994302,
           0.7301994301994302,
           0.7301994301994302,
           0.7301994301994302,
           0.7301994301994302,
           0.7301994301994302,
           0.7301994301994302,
           0.7301994301994302,
           0.7301994301994302,
           0.7301994301994302,
           0.7301994301994302,
           0.7301994301994302,
           0.7301994301994302,
           0.7301994301994302,
           0.7301994301994302,
           0.7301994301994302,
           0.7301994301994302,
           0.7301994301994302,
           0.7301994301994302,
           0.7301994301994302,
           0.7301994301994302,
           0.7301994301994302,
           0.7301994301994302,
           0.7301994301994302,
           0.7301994301994302,
           0.7301994301994302,
           0.7301994301994302,
           0.7301994301994302,
           0.7301994301994302,
           0.7301994301994302,
           0.7301994301994302,
           0.7301994301994302,
           0.7301994301994302,
           0.7301994301994302,
           0.7301994301994302,
           0.7301994301994302,
           0.7301994301994302,
           0.7301994301994302,
           0.7301994301994302,
           0.7301994301994302,
           0.7301994301994302,
           0.7301994301994302,
           0.7301994301994302,
           0.7301994301994302,
           0.7301994301994302,
           0.7301994301994302,
           0.7301994301994302,
           0.7301994301994302,
           0.7301994301994302,
           0.7301994301994302,
           0.7301994301994302,
           0.7301994301994302,
           0.7301994301994302,
           0.7301994301994302,
           0.7301994301994302,
           0.7301994301994302,
           0.7301994301994302,
           0.7301994301994302,
           0.7301994301994302,
           0.7301994301994302,
           0.7301994301994302,
           0.7301994301994302,
           0.7301994301994302,
           0.7301994301994302,
           0.7301994301994302,
           0.7301994301994302,
           0.7301994301994302,
           0.7301994301994302,
           0.7301994301994302,
           0.7301994301994302,
           0.7301994301994302,
           0.7301994301994302,
           0.7301994301994302,
           0.7301994301994302,
           0.7301994301994302,
           0.7301994301994302,
           0.7301994301994302,
           0.7301994301994302,
           0.7301994301994302,
           0.7301994301994302,
           0.7301994301994302,
           0.7301994301994302,
           0.7301994301994302,
           0.7301994301994302,
           0.7301994301994302,
           0.7373219373219373,
           0.7373219373219373,
           0.7373219373219373,
           0.7373219373219373,
           0.7373219373219373,
           0.7373219373219373,
           0.7373219373219373,
           0.7373219373219373,
           0.7373219373219373,
           0.7373219373219373,
           0.7373219373219373,
           0.7373219373219373,
           0.7373219373219373,
           0.7373219373219373,
           0.7373219373219373,
           0.7376068376068374,
           0.7376068376068374,
           0.7376068376068374,
           0.7376068376068374,
           0.7376068376068374,
           0.7376068376068377,
           0.7376068376068377,
           0.7376068376068377,
           0.7376068376068377,
           0.7376068376068377
          ],
          "colorbar": {
           "title": {
            "text": "mean_test_score"
           }
          },
          "colorscale": [
           [
            0,
            "#fde725"
           ],
           [
            0.1111111111111111,
            "#b5de2b"
           ],
           [
            0.2222222222222222,
            "#6ece58"
           ],
           [
            0.3333333333333333,
            "#35b779"
           ],
           [
            0.4444444444444444,
            "#1f9e89"
           ],
           [
            0.5555555555555556,
            "#26828e"
           ],
           [
            0.6666666666666666,
            "#31688e"
           ],
           [
            0.7777777777777778,
            "#3e4989"
           ],
           [
            0.8888888888888888,
            "#482878"
           ],
           [
            1,
            "#440154"
           ]
          ],
          "showscale": true
         },
         "mode": "markers",
         "name": "param_logistic_Reg__solver",
         "showlegend": false,
         "type": "scatter",
         "x": [
          "liblinear",
          "liblinear",
          "liblinear",
          "liblinear",
          "liblinear",
          "liblinear",
          "liblinear",
          "liblinear",
          "liblinear",
          "liblinear",
          "liblinear",
          "liblinear",
          "liblinear",
          "liblinear",
          "liblinear",
          "liblinear",
          "liblinear",
          "liblinear",
          "liblinear",
          "liblinear",
          "liblinear",
          "liblinear",
          "liblinear",
          "liblinear",
          "liblinear",
          "liblinear",
          "liblinear",
          "liblinear",
          "liblinear",
          "liblinear",
          "liblinear",
          "liblinear",
          "liblinear",
          "liblinear",
          "liblinear",
          "liblinear",
          "liblinear",
          "liblinear",
          "liblinear",
          "liblinear",
          "liblinear",
          "liblinear",
          "liblinear",
          "liblinear",
          "liblinear",
          "liblinear",
          "liblinear",
          "liblinear",
          "liblinear",
          "liblinear",
          "liblinear",
          "liblinear",
          "liblinear",
          "liblinear",
          "liblinear",
          "liblinear",
          "liblinear",
          "liblinear",
          "liblinear",
          "liblinear",
          "liblinear",
          "liblinear",
          "liblinear",
          "liblinear",
          "liblinear",
          "liblinear",
          "liblinear",
          "liblinear",
          "liblinear",
          "liblinear",
          "liblinear",
          "liblinear",
          "liblinear",
          "liblinear",
          "liblinear",
          "liblinear",
          "liblinear",
          "liblinear",
          "liblinear",
          "liblinear",
          "liblinear",
          "liblinear",
          "liblinear",
          "liblinear",
          "liblinear",
          "liblinear",
          "liblinear",
          "liblinear",
          "liblinear",
          "liblinear",
          "liblinear",
          "liblinear",
          "liblinear",
          "liblinear",
          "liblinear",
          "liblinear",
          "liblinear",
          "liblinear",
          "liblinear",
          "liblinear",
          "liblinear",
          "liblinear",
          "liblinear",
          "liblinear",
          "liblinear",
          "liblinear",
          "liblinear",
          "liblinear",
          "liblinear",
          "liblinear",
          "liblinear",
          "liblinear",
          "liblinear",
          "liblinear",
          "liblinear",
          "liblinear",
          "liblinear",
          "liblinear",
          "liblinear",
          "liblinear",
          "liblinear",
          "liblinear",
          "liblinear",
          "liblinear",
          "liblinear",
          "liblinear",
          "liblinear",
          "liblinear",
          "liblinear",
          "liblinear",
          "liblinear",
          "liblinear",
          "liblinear",
          "liblinear",
          "liblinear",
          "liblinear",
          "liblinear",
          "liblinear",
          "liblinear",
          "liblinear",
          "liblinear",
          "liblinear",
          "liblinear",
          "liblinear",
          "liblinear",
          "liblinear",
          "liblinear",
          "liblinear",
          "liblinear",
          "liblinear",
          "liblinear",
          "liblinear",
          "liblinear",
          "liblinear",
          "liblinear",
          "liblinear",
          "liblinear",
          "liblinear",
          "liblinear",
          "liblinear",
          "liblinear",
          "liblinear",
          "liblinear",
          "liblinear",
          "liblinear",
          "liblinear",
          "liblinear",
          "liblinear",
          "liblinear",
          "liblinear",
          "liblinear",
          "liblinear",
          "liblinear",
          "liblinear",
          "liblinear",
          "liblinear",
          "liblinear",
          "liblinear",
          "liblinear",
          "liblinear",
          "liblinear",
          "liblinear",
          "liblinear",
          "liblinear",
          "liblinear",
          "liblinear",
          "liblinear",
          "liblinear",
          "liblinear",
          "liblinear",
          "liblinear",
          "liblinear",
          "liblinear",
          "liblinear",
          "liblinear",
          "liblinear",
          "liblinear",
          "liblinear",
          "liblinear",
          "liblinear",
          "liblinear",
          "liblinear",
          "liblinear",
          "liblinear",
          "liblinear",
          "liblinear",
          "liblinear",
          "liblinear",
          "liblinear",
          "liblinear",
          "liblinear",
          "liblinear",
          "liblinear",
          "liblinear",
          "liblinear",
          "liblinear",
          "liblinear",
          "liblinear",
          "liblinear",
          "liblinear",
          "liblinear",
          "liblinear",
          "liblinear",
          "liblinear",
          "liblinear",
          "liblinear",
          "liblinear",
          "liblinear",
          "liblinear",
          "liblinear",
          "liblinear",
          "liblinear",
          "liblinear",
          "liblinear",
          "liblinear",
          "liblinear",
          "liblinear",
          "liblinear",
          "liblinear",
          "liblinear",
          "liblinear",
          "liblinear",
          "liblinear",
          "liblinear",
          "liblinear",
          "liblinear",
          "liblinear",
          "liblinear",
          "liblinear",
          "liblinear",
          "liblinear",
          "liblinear",
          "liblinear",
          "liblinear",
          "liblinear",
          "liblinear",
          "liblinear",
          "liblinear",
          "liblinear",
          "liblinear",
          "liblinear",
          "liblinear",
          "liblinear",
          "liblinear",
          "liblinear",
          "liblinear",
          "liblinear",
          "liblinear",
          "liblinear",
          "liblinear",
          "liblinear",
          "liblinear",
          "liblinear",
          "liblinear",
          "liblinear",
          "liblinear",
          "liblinear",
          "liblinear",
          "liblinear",
          "liblinear",
          "liblinear",
          "liblinear",
          "liblinear",
          "liblinear",
          "liblinear",
          "liblinear",
          "liblinear",
          "liblinear",
          "liblinear",
          "liblinear",
          "liblinear",
          "liblinear",
          "liblinear",
          "liblinear",
          "liblinear",
          "liblinear",
          "liblinear",
          "liblinear",
          "liblinear",
          "liblinear",
          "liblinear",
          "liblinear",
          "liblinear",
          "liblinear",
          "liblinear",
          "liblinear",
          "liblinear",
          "liblinear",
          "liblinear",
          "liblinear",
          "liblinear",
          "liblinear",
          "liblinear",
          "liblinear",
          "liblinear",
          "liblinear",
          "liblinear",
          "liblinear",
          "liblinear",
          "liblinear",
          "liblinear",
          "liblinear",
          "liblinear",
          "liblinear",
          "liblinear",
          "liblinear",
          "liblinear",
          "liblinear",
          "liblinear",
          "liblinear",
          "liblinear",
          "liblinear",
          "liblinear",
          "liblinear",
          "liblinear",
          "liblinear",
          "liblinear",
          "liblinear",
          "liblinear",
          "liblinear",
          "liblinear",
          "liblinear",
          "liblinear",
          "liblinear",
          "liblinear",
          "liblinear",
          "liblinear",
          "liblinear",
          "liblinear",
          "liblinear",
          "liblinear",
          "liblinear",
          "liblinear",
          "liblinear",
          "liblinear",
          "liblinear",
          "liblinear",
          "liblinear",
          "liblinear",
          "liblinear"
         ],
         "y": [
          0,
          0,
          0,
          0,
          0,
          0,
          0,
          0,
          0,
          0,
          0,
          0,
          0,
          0,
          0,
          0,
          0,
          0,
          0,
          0,
          0,
          0,
          0,
          0,
          0,
          0,
          0,
          0,
          0,
          0,
          0,
          0,
          0,
          0,
          0,
          0,
          0,
          0,
          0,
          0,
          0,
          0,
          0,
          0,
          0,
          0,
          0,
          0,
          0,
          0,
          0,
          0,
          0,
          0,
          0,
          0,
          0,
          0,
          0,
          0,
          0,
          0,
          0,
          2,
          2,
          7,
          7,
          7,
          7,
          7,
          14,
          14,
          14,
          14,
          14,
          14,
          14,
          71,
          71,
          71,
          71,
          71,
          71,
          71,
          71,
          71,
          71,
          71,
          71,
          71,
          71,
          71,
          71,
          71,
          71,
          71,
          71,
          71,
          71,
          71,
          71,
          71,
          71,
          71,
          71,
          71,
          71,
          71,
          71,
          71,
          71,
          71,
          71,
          71,
          71,
          71,
          71,
          71,
          71,
          71,
          71,
          71,
          71,
          71,
          71,
          71,
          71,
          71,
          71,
          71,
          71,
          71,
          71,
          71,
          73,
          73,
          74,
          75,
          79,
          79,
          79,
          79,
          98,
          98,
          98,
          98,
          98,
          98,
          98,
          98,
          98,
          98,
          98,
          98,
          98,
          98,
          98,
          98,
          98,
          98,
          98,
          99,
          102,
          102,
          102,
          103,
          109,
          109,
          109,
          109,
          109,
          109,
          111,
          111,
          118,
          118,
          118,
          118,
          118,
          118,
          118,
          119,
          139,
          139,
          139,
          139,
          139,
          139,
          139,
          139,
          139,
          139,
          139,
          139,
          139,
          139,
          139,
          139,
          139,
          139,
          139,
          139,
          144,
          144,
          144,
          144,
          144,
          147,
          147,
          147,
          152,
          152,
          152,
          152,
          152,
          272,
          272,
          272,
          272,
          272,
          272,
          272,
          272,
          272,
          272,
          272,
          272,
          272,
          272,
          272,
          272,
          272,
          272,
          272,
          272,
          272,
          272,
          272,
          272,
          272,
          272,
          272,
          272,
          272,
          272,
          272,
          272,
          272,
          272,
          272,
          272,
          272,
          272,
          272,
          272,
          272,
          272,
          272,
          272,
          272,
          272,
          272,
          272,
          272,
          272,
          272,
          272,
          272,
          272,
          272,
          272,
          272,
          272,
          272,
          272,
          272,
          272,
          272,
          272,
          272,
          272,
          272,
          272,
          272,
          272,
          272,
          272,
          272,
          272,
          272,
          272,
          272,
          272,
          272,
          272,
          272,
          272,
          272,
          272,
          272,
          272,
          272,
          272,
          272,
          272,
          272,
          272,
          272,
          272,
          272,
          272,
          272,
          272,
          272,
          272,
          272,
          272,
          272,
          272,
          272,
          272,
          272,
          272,
          272,
          272,
          272,
          272,
          272,
          272,
          272,
          272,
          272,
          272,
          272,
          272,
          287,
          287,
          287,
          287,
          287,
          287,
          287,
          287,
          287,
          287,
          287,
          287,
          287,
          287,
          287,
          292,
          292,
          292,
          292,
          292,
          297,
          297,
          297,
          297,
          297
         ]
        },
        {
         "line": {
          "color": "#e377c2",
          "dash": "dash"
         },
         "mode": "lines",
         "showlegend": false,
         "type": "scatter",
         "x": [
          "liblinear",
          "liblinear"
         ],
         "y": [
          0,
          297
         ]
        }
       ],
       "layout": {
        "annotations": [
         {
          "align": "center",
          "bordercolor": "black",
          "borderwidth": 1,
          "showarrow": false,
          "text": "Vertical line: best score",
          "x": 0.5,
          "xref": "paper",
          "y": -0.22,
          "yref": "paper"
         }
        ],
        "legend": {
         "itemsizing": "constant"
        },
        "template": {
         "data": {
          "bar": [
           {
            "error_x": {
             "color": "#2a3f5f"
            },
            "error_y": {
             "color": "#2a3f5f"
            },
            "marker": {
             "line": {
              "color": "#E5ECF6",
              "width": 0.5
             }
            },
            "type": "bar"
           }
          ],
          "barpolar": [
           {
            "marker": {
             "line": {
              "color": "#E5ECF6",
              "width": 0.5
             }
            },
            "type": "barpolar"
           }
          ],
          "carpet": [
           {
            "aaxis": {
             "endlinecolor": "#2a3f5f",
             "gridcolor": "white",
             "linecolor": "white",
             "minorgridcolor": "white",
             "startlinecolor": "#2a3f5f"
            },
            "baxis": {
             "endlinecolor": "#2a3f5f",
             "gridcolor": "white",
             "linecolor": "white",
             "minorgridcolor": "white",
             "startlinecolor": "#2a3f5f"
            },
            "type": "carpet"
           }
          ],
          "choropleth": [
           {
            "colorbar": {
             "outlinewidth": 0,
             "ticks": ""
            },
            "type": "choropleth"
           }
          ],
          "contour": [
           {
            "colorbar": {
             "outlinewidth": 0,
             "ticks": ""
            },
            "colorscale": [
             [
              0,
              "#0d0887"
             ],
             [
              0.1111111111111111,
              "#46039f"
             ],
             [
              0.2222222222222222,
              "#7201a8"
             ],
             [
              0.3333333333333333,
              "#9c179e"
             ],
             [
              0.4444444444444444,
              "#bd3786"
             ],
             [
              0.5555555555555556,
              "#d8576b"
             ],
             [
              0.6666666666666666,
              "#ed7953"
             ],
             [
              0.7777777777777778,
              "#fb9f3a"
             ],
             [
              0.8888888888888888,
              "#fdca26"
             ],
             [
              1,
              "#f0f921"
             ]
            ],
            "type": "contour"
           }
          ],
          "contourcarpet": [
           {
            "colorbar": {
             "outlinewidth": 0,
             "ticks": ""
            },
            "type": "contourcarpet"
           }
          ],
          "heatmap": [
           {
            "colorbar": {
             "outlinewidth": 0,
             "ticks": ""
            },
            "colorscale": [
             [
              0,
              "#0d0887"
             ],
             [
              0.1111111111111111,
              "#46039f"
             ],
             [
              0.2222222222222222,
              "#7201a8"
             ],
             [
              0.3333333333333333,
              "#9c179e"
             ],
             [
              0.4444444444444444,
              "#bd3786"
             ],
             [
              0.5555555555555556,
              "#d8576b"
             ],
             [
              0.6666666666666666,
              "#ed7953"
             ],
             [
              0.7777777777777778,
              "#fb9f3a"
             ],
             [
              0.8888888888888888,
              "#fdca26"
             ],
             [
              1,
              "#f0f921"
             ]
            ],
            "type": "heatmap"
           }
          ],
          "heatmapgl": [
           {
            "colorbar": {
             "outlinewidth": 0,
             "ticks": ""
            },
            "colorscale": [
             [
              0,
              "#0d0887"
             ],
             [
              0.1111111111111111,
              "#46039f"
             ],
             [
              0.2222222222222222,
              "#7201a8"
             ],
             [
              0.3333333333333333,
              "#9c179e"
             ],
             [
              0.4444444444444444,
              "#bd3786"
             ],
             [
              0.5555555555555556,
              "#d8576b"
             ],
             [
              0.6666666666666666,
              "#ed7953"
             ],
             [
              0.7777777777777778,
              "#fb9f3a"
             ],
             [
              0.8888888888888888,
              "#fdca26"
             ],
             [
              1,
              "#f0f921"
             ]
            ],
            "type": "heatmapgl"
           }
          ],
          "histogram": [
           {
            "marker": {
             "colorbar": {
              "outlinewidth": 0,
              "ticks": ""
             }
            },
            "type": "histogram"
           }
          ],
          "histogram2d": [
           {
            "colorbar": {
             "outlinewidth": 0,
             "ticks": ""
            },
            "colorscale": [
             [
              0,
              "#0d0887"
             ],
             [
              0.1111111111111111,
              "#46039f"
             ],
             [
              0.2222222222222222,
              "#7201a8"
             ],
             [
              0.3333333333333333,
              "#9c179e"
             ],
             [
              0.4444444444444444,
              "#bd3786"
             ],
             [
              0.5555555555555556,
              "#d8576b"
             ],
             [
              0.6666666666666666,
              "#ed7953"
             ],
             [
              0.7777777777777778,
              "#fb9f3a"
             ],
             [
              0.8888888888888888,
              "#fdca26"
             ],
             [
              1,
              "#f0f921"
             ]
            ],
            "type": "histogram2d"
           }
          ],
          "histogram2dcontour": [
           {
            "colorbar": {
             "outlinewidth": 0,
             "ticks": ""
            },
            "colorscale": [
             [
              0,
              "#0d0887"
             ],
             [
              0.1111111111111111,
              "#46039f"
             ],
             [
              0.2222222222222222,
              "#7201a8"
             ],
             [
              0.3333333333333333,
              "#9c179e"
             ],
             [
              0.4444444444444444,
              "#bd3786"
             ],
             [
              0.5555555555555556,
              "#d8576b"
             ],
             [
              0.6666666666666666,
              "#ed7953"
             ],
             [
              0.7777777777777778,
              "#fb9f3a"
             ],
             [
              0.8888888888888888,
              "#fdca26"
             ],
             [
              1,
              "#f0f921"
             ]
            ],
            "type": "histogram2dcontour"
           }
          ],
          "mesh3d": [
           {
            "colorbar": {
             "outlinewidth": 0,
             "ticks": ""
            },
            "type": "mesh3d"
           }
          ],
          "parcoords": [
           {
            "line": {
             "colorbar": {
              "outlinewidth": 0,
              "ticks": ""
             }
            },
            "type": "parcoords"
           }
          ],
          "pie": [
           {
            "automargin": true,
            "type": "pie"
           }
          ],
          "scatter": [
           {
            "marker": {
             "colorbar": {
              "outlinewidth": 0,
              "ticks": ""
             }
            },
            "type": "scatter"
           }
          ],
          "scatter3d": [
           {
            "line": {
             "colorbar": {
              "outlinewidth": 0,
              "ticks": ""
             }
            },
            "marker": {
             "colorbar": {
              "outlinewidth": 0,
              "ticks": ""
             }
            },
            "type": "scatter3d"
           }
          ],
          "scattercarpet": [
           {
            "marker": {
             "colorbar": {
              "outlinewidth": 0,
              "ticks": ""
             }
            },
            "type": "scattercarpet"
           }
          ],
          "scattergeo": [
           {
            "marker": {
             "colorbar": {
              "outlinewidth": 0,
              "ticks": ""
             }
            },
            "type": "scattergeo"
           }
          ],
          "scattergl": [
           {
            "marker": {
             "colorbar": {
              "outlinewidth": 0,
              "ticks": ""
             }
            },
            "type": "scattergl"
           }
          ],
          "scattermapbox": [
           {
            "marker": {
             "colorbar": {
              "outlinewidth": 0,
              "ticks": ""
             }
            },
            "type": "scattermapbox"
           }
          ],
          "scatterpolar": [
           {
            "marker": {
             "colorbar": {
              "outlinewidth": 0,
              "ticks": ""
             }
            },
            "type": "scatterpolar"
           }
          ],
          "scatterpolargl": [
           {
            "marker": {
             "colorbar": {
              "outlinewidth": 0,
              "ticks": ""
             }
            },
            "type": "scatterpolargl"
           }
          ],
          "scatterternary": [
           {
            "marker": {
             "colorbar": {
              "outlinewidth": 0,
              "ticks": ""
             }
            },
            "type": "scatterternary"
           }
          ],
          "surface": [
           {
            "colorbar": {
             "outlinewidth": 0,
             "ticks": ""
            },
            "colorscale": [
             [
              0,
              "#0d0887"
             ],
             [
              0.1111111111111111,
              "#46039f"
             ],
             [
              0.2222222222222222,
              "#7201a8"
             ],
             [
              0.3333333333333333,
              "#9c179e"
             ],
             [
              0.4444444444444444,
              "#bd3786"
             ],
             [
              0.5555555555555556,
              "#d8576b"
             ],
             [
              0.6666666666666666,
              "#ed7953"
             ],
             [
              0.7777777777777778,
              "#fb9f3a"
             ],
             [
              0.8888888888888888,
              "#fdca26"
             ],
             [
              1,
              "#f0f921"
             ]
            ],
            "type": "surface"
           }
          ],
          "table": [
           {
            "cells": {
             "fill": {
              "color": "#EBF0F8"
             },
             "line": {
              "color": "white"
             }
            },
            "header": {
             "fill": {
              "color": "#C8D4E3"
             },
             "line": {
              "color": "white"
             }
            },
            "type": "table"
           }
          ]
         },
         "layout": {
          "annotationdefaults": {
           "arrowcolor": "#2a3f5f",
           "arrowhead": 0,
           "arrowwidth": 1
          },
          "coloraxis": {
           "colorbar": {
            "outlinewidth": 0,
            "ticks": ""
           }
          },
          "colorscale": {
           "diverging": [
            [
             0,
             "#8e0152"
            ],
            [
             0.1,
             "#c51b7d"
            ],
            [
             0.2,
             "#de77ae"
            ],
            [
             0.3,
             "#f1b6da"
            ],
            [
             0.4,
             "#fde0ef"
            ],
            [
             0.5,
             "#f7f7f7"
            ],
            [
             0.6,
             "#e6f5d0"
            ],
            [
             0.7,
             "#b8e186"
            ],
            [
             0.8,
             "#7fbc41"
            ],
            [
             0.9,
             "#4d9221"
            ],
            [
             1,
             "#276419"
            ]
           ],
           "sequential": [
            [
             0,
             "#0d0887"
            ],
            [
             0.1111111111111111,
             "#46039f"
            ],
            [
             0.2222222222222222,
             "#7201a8"
            ],
            [
             0.3333333333333333,
             "#9c179e"
            ],
            [
             0.4444444444444444,
             "#bd3786"
            ],
            [
             0.5555555555555556,
             "#d8576b"
            ],
            [
             0.6666666666666666,
             "#ed7953"
            ],
            [
             0.7777777777777778,
             "#fb9f3a"
            ],
            [
             0.8888888888888888,
             "#fdca26"
            ],
            [
             1,
             "#f0f921"
            ]
           ],
           "sequentialminus": [
            [
             0,
             "#0d0887"
            ],
            [
             0.1111111111111111,
             "#46039f"
            ],
            [
             0.2222222222222222,
             "#7201a8"
            ],
            [
             0.3333333333333333,
             "#9c179e"
            ],
            [
             0.4444444444444444,
             "#bd3786"
            ],
            [
             0.5555555555555556,
             "#d8576b"
            ],
            [
             0.6666666666666666,
             "#ed7953"
            ],
            [
             0.7777777777777778,
             "#fb9f3a"
            ],
            [
             0.8888888888888888,
             "#fdca26"
            ],
            [
             1,
             "#f0f921"
            ]
           ]
          },
          "colorway": [
           "#636efa",
           "#EF553B",
           "#00cc96",
           "#ab63fa",
           "#FFA15A",
           "#19d3f3",
           "#FF6692",
           "#B6E880",
           "#FF97FF",
           "#FECB52"
          ],
          "font": {
           "color": "#2a3f5f"
          },
          "geo": {
           "bgcolor": "white",
           "lakecolor": "white",
           "landcolor": "#E5ECF6",
           "showlakes": true,
           "showland": true,
           "subunitcolor": "white"
          },
          "hoverlabel": {
           "align": "left"
          },
          "hovermode": "closest",
          "mapbox": {
           "style": "light"
          },
          "paper_bgcolor": "white",
          "plot_bgcolor": "#E5ECF6",
          "polar": {
           "angularaxis": {
            "gridcolor": "white",
            "linecolor": "white",
            "ticks": ""
           },
           "bgcolor": "#E5ECF6",
           "radialaxis": {
            "gridcolor": "white",
            "linecolor": "white",
            "ticks": ""
           }
          },
          "scene": {
           "xaxis": {
            "backgroundcolor": "#E5ECF6",
            "gridcolor": "white",
            "gridwidth": 2,
            "linecolor": "white",
            "showbackground": true,
            "ticks": "",
            "zerolinecolor": "white"
           },
           "yaxis": {
            "backgroundcolor": "#E5ECF6",
            "gridcolor": "white",
            "gridwidth": 2,
            "linecolor": "white",
            "showbackground": true,
            "ticks": "",
            "zerolinecolor": "white"
           },
           "zaxis": {
            "backgroundcolor": "#E5ECF6",
            "gridcolor": "white",
            "gridwidth": 2,
            "linecolor": "white",
            "showbackground": true,
            "ticks": "",
            "zerolinecolor": "white"
           }
          },
          "shapedefaults": {
           "line": {
            "color": "#2a3f5f"
           }
          },
          "ternary": {
           "aaxis": {
            "gridcolor": "white",
            "linecolor": "white",
            "ticks": ""
           },
           "baxis": {
            "gridcolor": "white",
            "linecolor": "white",
            "ticks": ""
           },
           "bgcolor": "#E5ECF6",
           "caxis": {
            "gridcolor": "white",
            "linecolor": "white",
            "ticks": ""
           }
          },
          "title": {
           "x": 0.05
          },
          "xaxis": {
           "automargin": true,
           "gridcolor": "white",
           "linecolor": "white",
           "ticks": "",
           "title": {
            "standoff": 15
           },
           "zerolinecolor": "white",
           "zerolinewidth": 2
          },
          "yaxis": {
           "automargin": true,
           "gridcolor": "white",
           "linecolor": "white",
           "ticks": "",
           "title": {
            "standoff": 15
           },
           "zerolinecolor": "white",
           "zerolinewidth": 2
          }
         }
        },
        "title": {
         "text": "Evolution of hyperparameter param_logistic_Reg__solver by trial"
        },
        "xaxis": {
         "title": {
          "text": "param_logistic_Reg__solver"
         }
        },
        "yaxis": {
         "title": {
          "text": "Rank number (the higher, the better ranked)"
         }
        }
       }
      },
      "text/html": [
       "<div>                            <div id=\"8f6bb0ea-04b1-43b9-babe-da0d77584723\" class=\"plotly-graph-div\" style=\"height:525px; width:100%;\"></div>            <script type=\"text/javascript\">                require([\"plotly\"], function(Plotly) {                    window.PLOTLYENV=window.PLOTLYENV || {};                                    if (document.getElementById(\"8f6bb0ea-04b1-43b9-babe-da0d77584723\")) {                    Plotly.newPlot(                        \"8f6bb0ea-04b1-43b9-babe-da0d77584723\",                        [{\"hovertemplate\": \"<b>Trial %{y}</b><br><br>Value: %{x:.5f}<br>MAE: %{marker.color:.3f}<br><extra></extra>\", \"marker\": {\"color\": [0.6393162393162393, 0.6393162393162393, 0.6393162393162393, 0.6393162393162393, 0.6393162393162393, 0.6393162393162393, 0.6393162393162393, 0.6393162393162393, 0.6393162393162393, 0.6393162393162393, 0.6393162393162393, 0.6393162393162393, 0.6393162393162393, 0.6393162393162393, 0.6393162393162393, 0.6393162393162393, 0.6393162393162393, 0.6393162393162393, 0.6393162393162393, 0.6393162393162393, 0.6393162393162393, 0.6393162393162393, 0.6393162393162393, 0.6393162393162393, 0.6393162393162393, 0.6393162393162393, 0.6393162393162393, 0.6393162393162393, 0.6393162393162393, 0.6393162393162393, 0.6393162393162393, 0.6393162393162393, 0.6393162393162393, 0.6393162393162393, 0.6393162393162393, 0.6393162393162393, 0.6393162393162393, 0.6393162393162393, 0.6393162393162393, 0.6393162393162393, 0.6393162393162393, 0.6393162393162393, 0.6393162393162393, 0.6393162393162393, 0.6393162393162393, 0.6393162393162393, 0.6393162393162393, 0.6393162393162393, 0.6393162393162393, 0.6393162393162393, 0.6393162393162393, 0.6393162393162393, 0.6393162393162393, 0.6393162393162393, 0.6393162393162393, 0.6393162393162393, 0.6393162393162393, 0.6393162393162393, 0.6393162393162393, 0.6393162393162393, 0.6393162393162393, 0.6393162393162393, 0.6393162393162393, 0.6541310541310541, 0.6541310541310541, 0.6626780626780627, 0.6626780626780627, 0.6626780626780627, 0.6626780626780627, 0.6626780626780627, 0.6695156695156695, 0.6695156695156695, 0.6695156695156695, 0.6695156695156695, 0.6695156695156695, 0.6695156695156695, 0.6695156695156695, 0.6772079772079772, 0.6772079772079772, 0.6772079772079772, 0.6772079772079772, 0.6772079772079772, 0.6772079772079772, 0.6772079772079772, 0.6772079772079772, 0.6772079772079772, 0.6772079772079772, 0.6772079772079772, 0.6772079772079772, 0.6772079772079772, 0.6772079772079772, 0.6772079772079772, 0.6772079772079772, 0.6772079772079772, 0.6772079772079772, 0.6772079772079772, 0.6772079772079772, 0.6772079772079772, 0.6772079772079772, 0.6772079772079772, 0.6772079772079772, 0.6772079772079772, 0.6772079772079772, 0.6772079772079772, 0.6772079772079772, 0.6772079772079772, 0.6772079772079772, 0.6772079772079772, 0.6772079772079772, 0.6772079772079772, 0.6772079772079772, 0.6772079772079772, 0.6772079772079772, 0.6772079772079772, 0.6772079772079772, 0.6772079772079772, 0.6772079772079772, 0.6772079772079772, 0.6772079772079772, 0.6772079772079772, 0.6772079772079772, 0.6772079772079772, 0.6772079772079772, 0.6772079772079772, 0.6772079772079772, 0.6772079772079772, 0.6772079772079772, 0.6772079772079772, 0.6772079772079772, 0.6772079772079772, 0.6772079772079772, 0.6772079772079772, 0.6772079772079772, 0.6772079772079772, 0.6849002849002849, 0.6849002849002849, 0.6920227920227919, 0.6920227920227922, 0.6925925925925925, 0.6925925925925925, 0.6925925925925925, 0.6925925925925925, 0.6994301994301994, 0.6994301994301994, 0.6994301994301994, 0.6994301994301994, 0.6994301994301994, 0.6994301994301994, 0.6994301994301994, 0.6994301994301994, 0.6994301994301994, 0.6994301994301994, 0.6994301994301994, 0.6994301994301994, 0.6994301994301994, 0.6994301994301994, 0.6994301994301994, 0.6994301994301994, 0.6994301994301994, 0.6994301994301994, 0.6994301994301994, 0.6997150997150997, 0.7068376068376068, 0.7068376068376068, 0.7068376068376068, 0.7074074074074074, 0.7074074074074075, 0.7074074074074075, 0.7074074074074075, 0.7074074074074075, 0.7074074074074075, 0.7074074074074075, 0.7145299145299144, 0.7145299145299144, 0.7148148148148148, 0.7148148148148148, 0.7148148148148148, 0.7148148148148148, 0.7148148148148148, 0.7148148148148148, 0.7148148148148148, 0.7148148148148149, 0.7150997150997151, 0.7150997150997151, 0.7150997150997151, 0.7150997150997151, 0.7150997150997151, 0.7150997150997151, 0.7150997150997151, 0.7150997150997151, 0.7150997150997151, 0.7150997150997151, 0.7150997150997151, 0.7150997150997151, 0.7150997150997151, 0.7150997150997151, 0.7150997150997151, 0.7150997150997151, 0.7150997150997151, 0.7150997150997151, 0.7150997150997151, 0.7150997150997151, 0.7225071225071225, 0.7225071225071225, 0.7225071225071225, 0.7225071225071225, 0.7225071225071225, 0.7225071225071226, 0.7225071225071226, 0.7225071225071226, 0.7299145299145298, 0.7299145299145298, 0.7299145299145298, 0.7299145299145298, 0.7299145299145298, 0.7301994301994302, 0.7301994301994302, 0.7301994301994302, 0.7301994301994302, 0.7301994301994302, 0.7301994301994302, 0.7301994301994302, 0.7301994301994302, 0.7301994301994302, 0.7301994301994302, 0.7301994301994302, 0.7301994301994302, 0.7301994301994302, 0.7301994301994302, 0.7301994301994302, 0.7301994301994302, 0.7301994301994302, 0.7301994301994302, 0.7301994301994302, 0.7301994301994302, 0.7301994301994302, 0.7301994301994302, 0.7301994301994302, 0.7301994301994302, 0.7301994301994302, 0.7301994301994302, 0.7301994301994302, 0.7301994301994302, 0.7301994301994302, 0.7301994301994302, 0.7301994301994302, 0.7301994301994302, 0.7301994301994302, 0.7301994301994302, 0.7301994301994302, 0.7301994301994302, 0.7301994301994302, 0.7301994301994302, 0.7301994301994302, 0.7301994301994302, 0.7301994301994302, 0.7301994301994302, 0.7301994301994302, 0.7301994301994302, 0.7301994301994302, 0.7301994301994302, 0.7301994301994302, 0.7301994301994302, 0.7301994301994302, 0.7301994301994302, 0.7301994301994302, 0.7301994301994302, 0.7301994301994302, 0.7301994301994302, 0.7301994301994302, 0.7301994301994302, 0.7301994301994302, 0.7301994301994302, 0.7301994301994302, 0.7301994301994302, 0.7301994301994302, 0.7301994301994302, 0.7301994301994302, 0.7301994301994302, 0.7301994301994302, 0.7301994301994302, 0.7301994301994302, 0.7301994301994302, 0.7301994301994302, 0.7301994301994302, 0.7301994301994302, 0.7301994301994302, 0.7301994301994302, 0.7301994301994302, 0.7301994301994302, 0.7301994301994302, 0.7301994301994302, 0.7301994301994302, 0.7301994301994302, 0.7301994301994302, 0.7301994301994302, 0.7301994301994302, 0.7301994301994302, 0.7301994301994302, 0.7301994301994302, 0.7301994301994302, 0.7301994301994302, 0.7301994301994302, 0.7301994301994302, 0.7301994301994302, 0.7301994301994302, 0.7301994301994302, 0.7301994301994302, 0.7301994301994302, 0.7301994301994302, 0.7301994301994302, 0.7301994301994302, 0.7301994301994302, 0.7301994301994302, 0.7301994301994302, 0.7301994301994302, 0.7301994301994302, 0.7301994301994302, 0.7301994301994302, 0.7301994301994302, 0.7301994301994302, 0.7301994301994302, 0.7301994301994302, 0.7301994301994302, 0.7301994301994302, 0.7301994301994302, 0.7301994301994302, 0.7301994301994302, 0.7301994301994302, 0.7301994301994302, 0.7301994301994302, 0.7301994301994302, 0.7301994301994302, 0.7301994301994302, 0.7301994301994302, 0.7373219373219373, 0.7373219373219373, 0.7373219373219373, 0.7373219373219373, 0.7373219373219373, 0.7373219373219373, 0.7373219373219373, 0.7373219373219373, 0.7373219373219373, 0.7373219373219373, 0.7373219373219373, 0.7373219373219373, 0.7373219373219373, 0.7373219373219373, 0.7373219373219373, 0.7376068376068374, 0.7376068376068374, 0.7376068376068374, 0.7376068376068374, 0.7376068376068374, 0.7376068376068377, 0.7376068376068377, 0.7376068376068377, 0.7376068376068377, 0.7376068376068377], \"colorbar\": {\"title\": {\"text\": \"mean_test_score\"}}, \"colorscale\": [[0.0, \"#fde725\"], [0.1111111111111111, \"#b5de2b\"], [0.2222222222222222, \"#6ece58\"], [0.3333333333333333, \"#35b779\"], [0.4444444444444444, \"#1f9e89\"], [0.5555555555555556, \"#26828e\"], [0.6666666666666666, \"#31688e\"], [0.7777777777777778, \"#3e4989\"], [0.8888888888888888, \"#482878\"], [1.0, \"#440154\"]], \"showscale\": true}, \"mode\": \"markers\", \"name\": \"param_logistic_Reg__solver\", \"showlegend\": false, \"type\": \"scatter\", \"x\": [\"liblinear\", \"liblinear\", \"liblinear\", \"liblinear\", \"liblinear\", \"liblinear\", \"liblinear\", \"liblinear\", \"liblinear\", \"liblinear\", \"liblinear\", \"liblinear\", \"liblinear\", \"liblinear\", \"liblinear\", \"liblinear\", \"liblinear\", \"liblinear\", \"liblinear\", \"liblinear\", \"liblinear\", \"liblinear\", \"liblinear\", \"liblinear\", \"liblinear\", \"liblinear\", \"liblinear\", \"liblinear\", \"liblinear\", \"liblinear\", \"liblinear\", \"liblinear\", \"liblinear\", \"liblinear\", \"liblinear\", \"liblinear\", \"liblinear\", \"liblinear\", \"liblinear\", \"liblinear\", \"liblinear\", \"liblinear\", \"liblinear\", \"liblinear\", \"liblinear\", \"liblinear\", \"liblinear\", \"liblinear\", \"liblinear\", \"liblinear\", \"liblinear\", \"liblinear\", \"liblinear\", \"liblinear\", \"liblinear\", \"liblinear\", \"liblinear\", \"liblinear\", \"liblinear\", \"liblinear\", \"liblinear\", \"liblinear\", \"liblinear\", \"liblinear\", \"liblinear\", \"liblinear\", \"liblinear\", \"liblinear\", \"liblinear\", \"liblinear\", \"liblinear\", \"liblinear\", \"liblinear\", \"liblinear\", \"liblinear\", \"liblinear\", \"liblinear\", \"liblinear\", \"liblinear\", \"liblinear\", \"liblinear\", \"liblinear\", \"liblinear\", \"liblinear\", \"liblinear\", \"liblinear\", \"liblinear\", \"liblinear\", \"liblinear\", \"liblinear\", \"liblinear\", \"liblinear\", \"liblinear\", \"liblinear\", \"liblinear\", \"liblinear\", \"liblinear\", \"liblinear\", \"liblinear\", \"liblinear\", \"liblinear\", \"liblinear\", \"liblinear\", \"liblinear\", \"liblinear\", \"liblinear\", \"liblinear\", \"liblinear\", \"liblinear\", \"liblinear\", \"liblinear\", \"liblinear\", \"liblinear\", \"liblinear\", \"liblinear\", \"liblinear\", \"liblinear\", \"liblinear\", \"liblinear\", \"liblinear\", \"liblinear\", \"liblinear\", \"liblinear\", \"liblinear\", \"liblinear\", \"liblinear\", \"liblinear\", \"liblinear\", \"liblinear\", \"liblinear\", \"liblinear\", \"liblinear\", \"liblinear\", \"liblinear\", \"liblinear\", \"liblinear\", \"liblinear\", \"liblinear\", \"liblinear\", \"liblinear\", \"liblinear\", \"liblinear\", \"liblinear\", \"liblinear\", \"liblinear\", \"liblinear\", \"liblinear\", \"liblinear\", \"liblinear\", \"liblinear\", \"liblinear\", \"liblinear\", \"liblinear\", \"liblinear\", \"liblinear\", \"liblinear\", \"liblinear\", \"liblinear\", \"liblinear\", \"liblinear\", \"liblinear\", \"liblinear\", \"liblinear\", \"liblinear\", \"liblinear\", \"liblinear\", \"liblinear\", \"liblinear\", \"liblinear\", \"liblinear\", \"liblinear\", \"liblinear\", \"liblinear\", \"liblinear\", \"liblinear\", \"liblinear\", \"liblinear\", \"liblinear\", \"liblinear\", \"liblinear\", \"liblinear\", \"liblinear\", \"liblinear\", \"liblinear\", \"liblinear\", \"liblinear\", \"liblinear\", \"liblinear\", \"liblinear\", \"liblinear\", \"liblinear\", \"liblinear\", \"liblinear\", \"liblinear\", \"liblinear\", \"liblinear\", \"liblinear\", \"liblinear\", \"liblinear\", \"liblinear\", \"liblinear\", \"liblinear\", \"liblinear\", \"liblinear\", \"liblinear\", \"liblinear\", \"liblinear\", \"liblinear\", \"liblinear\", \"liblinear\", \"liblinear\", \"liblinear\", \"liblinear\", \"liblinear\", \"liblinear\", \"liblinear\", \"liblinear\", \"liblinear\", \"liblinear\", \"liblinear\", \"liblinear\", \"liblinear\", \"liblinear\", \"liblinear\", \"liblinear\", \"liblinear\", \"liblinear\", \"liblinear\", \"liblinear\", \"liblinear\", \"liblinear\", \"liblinear\", \"liblinear\", \"liblinear\", \"liblinear\", \"liblinear\", \"liblinear\", \"liblinear\", \"liblinear\", \"liblinear\", \"liblinear\", \"liblinear\", \"liblinear\", \"liblinear\", \"liblinear\", \"liblinear\", \"liblinear\", \"liblinear\", \"liblinear\", \"liblinear\", \"liblinear\", \"liblinear\", \"liblinear\", \"liblinear\", \"liblinear\", \"liblinear\", \"liblinear\", \"liblinear\", \"liblinear\", \"liblinear\", \"liblinear\", \"liblinear\", \"liblinear\", \"liblinear\", \"liblinear\", \"liblinear\", \"liblinear\", \"liblinear\", \"liblinear\", \"liblinear\", \"liblinear\", \"liblinear\", \"liblinear\", \"liblinear\", \"liblinear\", \"liblinear\", \"liblinear\", \"liblinear\", \"liblinear\", \"liblinear\", \"liblinear\", \"liblinear\", \"liblinear\", \"liblinear\", \"liblinear\", \"liblinear\", \"liblinear\", \"liblinear\", \"liblinear\", \"liblinear\", \"liblinear\", \"liblinear\", \"liblinear\", \"liblinear\", \"liblinear\", \"liblinear\", \"liblinear\", \"liblinear\", \"liblinear\", \"liblinear\", \"liblinear\", \"liblinear\", \"liblinear\", \"liblinear\", \"liblinear\", \"liblinear\", \"liblinear\", \"liblinear\", \"liblinear\", \"liblinear\", \"liblinear\", \"liblinear\", \"liblinear\", \"liblinear\", \"liblinear\", \"liblinear\", \"liblinear\", \"liblinear\", \"liblinear\", \"liblinear\", \"liblinear\", \"liblinear\", \"liblinear\", \"liblinear\", \"liblinear\", \"liblinear\", \"liblinear\", \"liblinear\", \"liblinear\", \"liblinear\", \"liblinear\", \"liblinear\", \"liblinear\", \"liblinear\", \"liblinear\", \"liblinear\", \"liblinear\", \"liblinear\", \"liblinear\", \"liblinear\", \"liblinear\", \"liblinear\", \"liblinear\", \"liblinear\", \"liblinear\", \"liblinear\", \"liblinear\", \"liblinear\", \"liblinear\", \"liblinear\", \"liblinear\", \"liblinear\", \"liblinear\", \"liblinear\", \"liblinear\", \"liblinear\", \"liblinear\", \"liblinear\", \"liblinear\", \"liblinear\"], \"y\": [0, 0, 0, 0, 0, 0, 0, 0, 0, 0, 0, 0, 0, 0, 0, 0, 0, 0, 0, 0, 0, 0, 0, 0, 0, 0, 0, 0, 0, 0, 0, 0, 0, 0, 0, 0, 0, 0, 0, 0, 0, 0, 0, 0, 0, 0, 0, 0, 0, 0, 0, 0, 0, 0, 0, 0, 0, 0, 0, 0, 0, 0, 0, 2, 2, 7, 7, 7, 7, 7, 14, 14, 14, 14, 14, 14, 14, 71, 71, 71, 71, 71, 71, 71, 71, 71, 71, 71, 71, 71, 71, 71, 71, 71, 71, 71, 71, 71, 71, 71, 71, 71, 71, 71, 71, 71, 71, 71, 71, 71, 71, 71, 71, 71, 71, 71, 71, 71, 71, 71, 71, 71, 71, 71, 71, 71, 71, 71, 71, 71, 71, 71, 71, 71, 73, 73, 74, 75, 79, 79, 79, 79, 98, 98, 98, 98, 98, 98, 98, 98, 98, 98, 98, 98, 98, 98, 98, 98, 98, 98, 98, 99, 102, 102, 102, 103, 109, 109, 109, 109, 109, 109, 111, 111, 118, 118, 118, 118, 118, 118, 118, 119, 139, 139, 139, 139, 139, 139, 139, 139, 139, 139, 139, 139, 139, 139, 139, 139, 139, 139, 139, 139, 144, 144, 144, 144, 144, 147, 147, 147, 152, 152, 152, 152, 152, 272, 272, 272, 272, 272, 272, 272, 272, 272, 272, 272, 272, 272, 272, 272, 272, 272, 272, 272, 272, 272, 272, 272, 272, 272, 272, 272, 272, 272, 272, 272, 272, 272, 272, 272, 272, 272, 272, 272, 272, 272, 272, 272, 272, 272, 272, 272, 272, 272, 272, 272, 272, 272, 272, 272, 272, 272, 272, 272, 272, 272, 272, 272, 272, 272, 272, 272, 272, 272, 272, 272, 272, 272, 272, 272, 272, 272, 272, 272, 272, 272, 272, 272, 272, 272, 272, 272, 272, 272, 272, 272, 272, 272, 272, 272, 272, 272, 272, 272, 272, 272, 272, 272, 272, 272, 272, 272, 272, 272, 272, 272, 272, 272, 272, 272, 272, 272, 272, 272, 272, 287, 287, 287, 287, 287, 287, 287, 287, 287, 287, 287, 287, 287, 287, 287, 292, 292, 292, 292, 292, 297, 297, 297, 297, 297]}, {\"line\": {\"color\": \"#e377c2\", \"dash\": \"dash\"}, \"mode\": \"lines\", \"showlegend\": false, \"type\": \"scatter\", \"x\": [\"liblinear\", \"liblinear\"], \"y\": [0, 297]}],                        {\"annotations\": [{\"align\": \"center\", \"bordercolor\": \"black\", \"borderwidth\": 1, \"showarrow\": false, \"text\": \"Vertical line: best score\", \"x\": 0.5, \"xref\": \"paper\", \"y\": -0.22, \"yref\": \"paper\"}], \"legend\": {\"itemsizing\": \"constant\"}, \"template\": {\"data\": {\"bar\": [{\"error_x\": {\"color\": \"#2a3f5f\"}, \"error_y\": {\"color\": \"#2a3f5f\"}, \"marker\": {\"line\": {\"color\": \"#E5ECF6\", \"width\": 0.5}}, \"type\": \"bar\"}], \"barpolar\": [{\"marker\": {\"line\": {\"color\": \"#E5ECF6\", \"width\": 0.5}}, \"type\": \"barpolar\"}], \"carpet\": [{\"aaxis\": {\"endlinecolor\": \"#2a3f5f\", \"gridcolor\": \"white\", \"linecolor\": \"white\", \"minorgridcolor\": \"white\", \"startlinecolor\": \"#2a3f5f\"}, \"baxis\": {\"endlinecolor\": \"#2a3f5f\", \"gridcolor\": \"white\", \"linecolor\": \"white\", \"minorgridcolor\": \"white\", \"startlinecolor\": \"#2a3f5f\"}, \"type\": \"carpet\"}], \"choropleth\": [{\"colorbar\": {\"outlinewidth\": 0, \"ticks\": \"\"}, \"type\": \"choropleth\"}], \"contour\": [{\"colorbar\": {\"outlinewidth\": 0, \"ticks\": \"\"}, \"colorscale\": [[0.0, \"#0d0887\"], [0.1111111111111111, \"#46039f\"], [0.2222222222222222, \"#7201a8\"], [0.3333333333333333, \"#9c179e\"], [0.4444444444444444, \"#bd3786\"], [0.5555555555555556, \"#d8576b\"], [0.6666666666666666, \"#ed7953\"], [0.7777777777777778, \"#fb9f3a\"], [0.8888888888888888, \"#fdca26\"], [1.0, \"#f0f921\"]], \"type\": \"contour\"}], \"contourcarpet\": [{\"colorbar\": {\"outlinewidth\": 0, \"ticks\": \"\"}, \"type\": \"contourcarpet\"}], \"heatmap\": [{\"colorbar\": {\"outlinewidth\": 0, \"ticks\": \"\"}, \"colorscale\": [[0.0, \"#0d0887\"], [0.1111111111111111, \"#46039f\"], [0.2222222222222222, \"#7201a8\"], [0.3333333333333333, \"#9c179e\"], [0.4444444444444444, \"#bd3786\"], [0.5555555555555556, \"#d8576b\"], [0.6666666666666666, \"#ed7953\"], [0.7777777777777778, \"#fb9f3a\"], [0.8888888888888888, \"#fdca26\"], [1.0, \"#f0f921\"]], \"type\": \"heatmap\"}], \"heatmapgl\": [{\"colorbar\": {\"outlinewidth\": 0, \"ticks\": \"\"}, \"colorscale\": [[0.0, \"#0d0887\"], [0.1111111111111111, \"#46039f\"], [0.2222222222222222, \"#7201a8\"], [0.3333333333333333, \"#9c179e\"], [0.4444444444444444, \"#bd3786\"], [0.5555555555555556, \"#d8576b\"], [0.6666666666666666, \"#ed7953\"], [0.7777777777777778, \"#fb9f3a\"], [0.8888888888888888, \"#fdca26\"], [1.0, \"#f0f921\"]], \"type\": \"heatmapgl\"}], \"histogram\": [{\"marker\": {\"colorbar\": {\"outlinewidth\": 0, \"ticks\": \"\"}}, \"type\": \"histogram\"}], \"histogram2d\": [{\"colorbar\": {\"outlinewidth\": 0, \"ticks\": \"\"}, \"colorscale\": [[0.0, \"#0d0887\"], [0.1111111111111111, \"#46039f\"], [0.2222222222222222, \"#7201a8\"], [0.3333333333333333, \"#9c179e\"], [0.4444444444444444, \"#bd3786\"], [0.5555555555555556, \"#d8576b\"], [0.6666666666666666, \"#ed7953\"], [0.7777777777777778, \"#fb9f3a\"], [0.8888888888888888, \"#fdca26\"], [1.0, \"#f0f921\"]], \"type\": \"histogram2d\"}], \"histogram2dcontour\": [{\"colorbar\": {\"outlinewidth\": 0, \"ticks\": \"\"}, \"colorscale\": [[0.0, \"#0d0887\"], [0.1111111111111111, \"#46039f\"], [0.2222222222222222, \"#7201a8\"], [0.3333333333333333, \"#9c179e\"], [0.4444444444444444, \"#bd3786\"], [0.5555555555555556, \"#d8576b\"], [0.6666666666666666, \"#ed7953\"], [0.7777777777777778, \"#fb9f3a\"], [0.8888888888888888, \"#fdca26\"], [1.0, \"#f0f921\"]], \"type\": \"histogram2dcontour\"}], \"mesh3d\": [{\"colorbar\": {\"outlinewidth\": 0, \"ticks\": \"\"}, \"type\": \"mesh3d\"}], \"parcoords\": [{\"line\": {\"colorbar\": {\"outlinewidth\": 0, \"ticks\": \"\"}}, \"type\": \"parcoords\"}], \"pie\": [{\"automargin\": true, \"type\": \"pie\"}], \"scatter\": [{\"marker\": {\"colorbar\": {\"outlinewidth\": 0, \"ticks\": \"\"}}, \"type\": \"scatter\"}], \"scatter3d\": [{\"line\": {\"colorbar\": {\"outlinewidth\": 0, \"ticks\": \"\"}}, \"marker\": {\"colorbar\": {\"outlinewidth\": 0, \"ticks\": \"\"}}, \"type\": \"scatter3d\"}], \"scattercarpet\": [{\"marker\": {\"colorbar\": {\"outlinewidth\": 0, \"ticks\": \"\"}}, \"type\": \"scattercarpet\"}], \"scattergeo\": [{\"marker\": {\"colorbar\": {\"outlinewidth\": 0, \"ticks\": \"\"}}, \"type\": \"scattergeo\"}], \"scattergl\": [{\"marker\": {\"colorbar\": {\"outlinewidth\": 0, \"ticks\": \"\"}}, \"type\": \"scattergl\"}], \"scattermapbox\": [{\"marker\": {\"colorbar\": {\"outlinewidth\": 0, \"ticks\": \"\"}}, \"type\": \"scattermapbox\"}], \"scatterpolar\": [{\"marker\": {\"colorbar\": {\"outlinewidth\": 0, \"ticks\": \"\"}}, \"type\": \"scatterpolar\"}], \"scatterpolargl\": [{\"marker\": {\"colorbar\": {\"outlinewidth\": 0, \"ticks\": \"\"}}, \"type\": \"scatterpolargl\"}], \"scatterternary\": [{\"marker\": {\"colorbar\": {\"outlinewidth\": 0, \"ticks\": \"\"}}, \"type\": \"scatterternary\"}], \"surface\": [{\"colorbar\": {\"outlinewidth\": 0, \"ticks\": \"\"}, \"colorscale\": [[0.0, \"#0d0887\"], [0.1111111111111111, \"#46039f\"], [0.2222222222222222, \"#7201a8\"], [0.3333333333333333, \"#9c179e\"], [0.4444444444444444, \"#bd3786\"], [0.5555555555555556, \"#d8576b\"], [0.6666666666666666, \"#ed7953\"], [0.7777777777777778, \"#fb9f3a\"], [0.8888888888888888, \"#fdca26\"], [1.0, \"#f0f921\"]], \"type\": \"surface\"}], \"table\": [{\"cells\": {\"fill\": {\"color\": \"#EBF0F8\"}, \"line\": {\"color\": \"white\"}}, \"header\": {\"fill\": {\"color\": \"#C8D4E3\"}, \"line\": {\"color\": \"white\"}}, \"type\": \"table\"}]}, \"layout\": {\"annotationdefaults\": {\"arrowcolor\": \"#2a3f5f\", \"arrowhead\": 0, \"arrowwidth\": 1}, \"coloraxis\": {\"colorbar\": {\"outlinewidth\": 0, \"ticks\": \"\"}}, \"colorscale\": {\"diverging\": [[0, \"#8e0152\"], [0.1, \"#c51b7d\"], [0.2, \"#de77ae\"], [0.3, \"#f1b6da\"], [0.4, \"#fde0ef\"], [0.5, \"#f7f7f7\"], [0.6, \"#e6f5d0\"], [0.7, \"#b8e186\"], [0.8, \"#7fbc41\"], [0.9, \"#4d9221\"], [1, \"#276419\"]], \"sequential\": [[0.0, \"#0d0887\"], [0.1111111111111111, \"#46039f\"], [0.2222222222222222, \"#7201a8\"], [0.3333333333333333, \"#9c179e\"], [0.4444444444444444, \"#bd3786\"], [0.5555555555555556, \"#d8576b\"], [0.6666666666666666, \"#ed7953\"], [0.7777777777777778, \"#fb9f3a\"], [0.8888888888888888, \"#fdca26\"], [1.0, \"#f0f921\"]], \"sequentialminus\": [[0.0, \"#0d0887\"], [0.1111111111111111, \"#46039f\"], [0.2222222222222222, \"#7201a8\"], [0.3333333333333333, \"#9c179e\"], [0.4444444444444444, \"#bd3786\"], [0.5555555555555556, \"#d8576b\"], [0.6666666666666666, \"#ed7953\"], [0.7777777777777778, \"#fb9f3a\"], [0.8888888888888888, \"#fdca26\"], [1.0, \"#f0f921\"]]}, \"colorway\": [\"#636efa\", \"#EF553B\", \"#00cc96\", \"#ab63fa\", \"#FFA15A\", \"#19d3f3\", \"#FF6692\", \"#B6E880\", \"#FF97FF\", \"#FECB52\"], \"font\": {\"color\": \"#2a3f5f\"}, \"geo\": {\"bgcolor\": \"white\", \"lakecolor\": \"white\", \"landcolor\": \"#E5ECF6\", \"showlakes\": true, \"showland\": true, \"subunitcolor\": \"white\"}, \"hoverlabel\": {\"align\": \"left\"}, \"hovermode\": \"closest\", \"mapbox\": {\"style\": \"light\"}, \"paper_bgcolor\": \"white\", \"plot_bgcolor\": \"#E5ECF6\", \"polar\": {\"angularaxis\": {\"gridcolor\": \"white\", \"linecolor\": \"white\", \"ticks\": \"\"}, \"bgcolor\": \"#E5ECF6\", \"radialaxis\": {\"gridcolor\": \"white\", \"linecolor\": \"white\", \"ticks\": \"\"}}, \"scene\": {\"xaxis\": {\"backgroundcolor\": \"#E5ECF6\", \"gridcolor\": \"white\", \"gridwidth\": 2, \"linecolor\": \"white\", \"showbackground\": true, \"ticks\": \"\", \"zerolinecolor\": \"white\"}, \"yaxis\": {\"backgroundcolor\": \"#E5ECF6\", \"gridcolor\": \"white\", \"gridwidth\": 2, \"linecolor\": \"white\", \"showbackground\": true, \"ticks\": \"\", \"zerolinecolor\": \"white\"}, \"zaxis\": {\"backgroundcolor\": \"#E5ECF6\", \"gridcolor\": \"white\", \"gridwidth\": 2, \"linecolor\": \"white\", \"showbackground\": true, \"ticks\": \"\", \"zerolinecolor\": \"white\"}}, \"shapedefaults\": {\"line\": {\"color\": \"#2a3f5f\"}}, \"ternary\": {\"aaxis\": {\"gridcolor\": \"white\", \"linecolor\": \"white\", \"ticks\": \"\"}, \"baxis\": {\"gridcolor\": \"white\", \"linecolor\": \"white\", \"ticks\": \"\"}, \"bgcolor\": \"#E5ECF6\", \"caxis\": {\"gridcolor\": \"white\", \"linecolor\": \"white\", \"ticks\": \"\"}}, \"title\": {\"x\": 0.05}, \"xaxis\": {\"automargin\": true, \"gridcolor\": \"white\", \"linecolor\": \"white\", \"ticks\": \"\", \"title\": {\"standoff\": 15}, \"zerolinecolor\": \"white\", \"zerolinewidth\": 2}, \"yaxis\": {\"automargin\": true, \"gridcolor\": \"white\", \"linecolor\": \"white\", \"ticks\": \"\", \"title\": {\"standoff\": 15}, \"zerolinecolor\": \"white\", \"zerolinewidth\": 2}}}, \"title\": {\"text\": \"Evolution of hyperparameter param_logistic_Reg__solver by trial\"}, \"xaxis\": {\"title\": {\"text\": \"param_logistic_Reg__solver\"}}, \"yaxis\": {\"title\": {\"text\": \"Rank number (the higher, the better ranked)\"}}},                        {\"responsive\": true}                    ).then(function(){\n",
       "                            \n",
       "var gd = document.getElementById('8f6bb0ea-04b1-43b9-babe-da0d77584723');\n",
       "var x = new MutationObserver(function (mutations, observer) {{\n",
       "        var display = window.getComputedStyle(gd).display;\n",
       "        if (!display || display === 'none') {{\n",
       "            console.log([gd, 'removed!']);\n",
       "            Plotly.purge(gd);\n",
       "            observer.disconnect();\n",
       "        }}\n",
       "}});\n",
       "\n",
       "// Listen for the removal of the full notebook cells\n",
       "var notebookContainer = gd.closest('#notebook-container');\n",
       "if (notebookContainer) {{\n",
       "    x.observe(notebookContainer, {childList: true});\n",
       "}}\n",
       "\n",
       "// Listen for the clearing of the current output cell\n",
       "var outputEl = gd.closest('.output');\n",
       "if (outputEl) {{\n",
       "    x.observe(outputEl, {childList: true});\n",
       "}}\n",
       "\n",
       "                        })                };                });            </script>        </div>"
      ]
     },
     "metadata": {},
     "output_type": "display_data"
    },
    {
     "data": {
      "application/javascript": [
       "\n",
       "            setTimeout(function() {\n",
       "                var nbb_cell_id = 77;\n",
       "                var nbb_unformatted_code = \"for i_parameter in list(param_grid.keys()):\\n    # variable_to_plot = \\\"param_pca__n_components\\\"\\n    variable_to_plot = f\\\"param_{i_parameter}\\\"\\n\\n    import plotly.graph_objects as go\\n\\n    # hyperparameters_df.sort_values(variable_to_plot, inplace=True)\\n\\n    # Create traces\\n    fig = go.Figure()\\n\\n    fig.add_trace(\\n        go.Scatter(\\n            x=hyperparameters_df[variable_to_plot],\\n            y=hyperparameters_df[\\\"rank_test_score_inverse\\\"],\\n            mode=\\\"markers\\\",\\n            marker=dict(\\n                color=hyperparameters_df[\\\"mean_test_score\\\"],\\n                colorscale=\\\"Viridis_r\\\",  # one of plotly colorscales\\n                colorbar=dict(title=\\\"mean_test_score\\\"),\\n                showscale=True,\\n            ),\\n            hovertemplate=\\\"<b>Trial %{y}</b><br><br>\\\"\\n            + \\\"Value: %{x:.5f}<br>\\\"\\n            + \\\"MAE: %{marker.color:.3f}<br>\\\"\\n            + \\\"<extra></extra>\\\",\\n            showlegend=False,\\n            name=variable_to_plot,\\n        )\\n    )\\n\\n    if i_parameter in [\\\"logistic_Reg__C\\\"]:\\n        fig.update_xaxes(type=\\\"log\\\")\\n\\n    fig.add_trace(\\n        go.Scatter(\\n            x=[\\n                clf.best_params_[i_parameter],\\n                clf.best_params_[i_parameter],\\n            ],\\n            y=[\\n                min(hyperparameters_df[\\\"rank_test_score_inverse\\\"]),\\n                max(hyperparameters_df[\\\"rank_test_score_inverse\\\"]),\\n            ],\\n            mode=\\\"lines\\\",\\n            showlegend=False,\\n            line=dict(color=\\\"#e377c2\\\", dash=\\\"dash\\\"),\\n        )\\n    )\\n\\n    fig.update_layout(\\n        title=\\\"Evolution of hyperparameter {} by trial\\\".format(variable_to_plot),\\n        xaxis_title=variable_to_plot,\\n        yaxis_title=\\\"Rank number (the higher, the better ranked)\\\",\\n        legend={\\\"itemsizing\\\": \\\"constant\\\"},\\n    )\\n\\n    fig.update_layout(\\n        annotations=[\\n            go.layout.Annotation(\\n                text=\\\"Vertical line: best score\\\",\\n                align=\\\"center\\\",\\n                showarrow=False,\\n                xref=\\\"paper\\\",\\n                yref=\\\"paper\\\",\\n                x=0.5,\\n                y=-0.22,\\n                bordercolor=\\\"black\\\",\\n                borderwidth=1,\\n            )\\n        ]\\n    )\\n\\n    fig.show()\";\n",
       "                var nbb_formatted_code = \"for i_parameter in list(param_grid.keys()):\\n    # variable_to_plot = \\\"param_pca__n_components\\\"\\n    variable_to_plot = f\\\"param_{i_parameter}\\\"\\n\\n    import plotly.graph_objects as go\\n\\n    # hyperparameters_df.sort_values(variable_to_plot, inplace=True)\\n\\n    # Create traces\\n    fig = go.Figure()\\n\\n    fig.add_trace(\\n        go.Scatter(\\n            x=hyperparameters_df[variable_to_plot],\\n            y=hyperparameters_df[\\\"rank_test_score_inverse\\\"],\\n            mode=\\\"markers\\\",\\n            marker=dict(\\n                color=hyperparameters_df[\\\"mean_test_score\\\"],\\n                colorscale=\\\"Viridis_r\\\",  # one of plotly colorscales\\n                colorbar=dict(title=\\\"mean_test_score\\\"),\\n                showscale=True,\\n            ),\\n            hovertemplate=\\\"<b>Trial %{y}</b><br><br>\\\"\\n            + \\\"Value: %{x:.5f}<br>\\\"\\n            + \\\"MAE: %{marker.color:.3f}<br>\\\"\\n            + \\\"<extra></extra>\\\",\\n            showlegend=False,\\n            name=variable_to_plot,\\n        )\\n    )\\n\\n    if i_parameter in [\\\"logistic_Reg__C\\\"]:\\n        fig.update_xaxes(type=\\\"log\\\")\\n\\n    fig.add_trace(\\n        go.Scatter(\\n            x=[\\n                clf.best_params_[i_parameter],\\n                clf.best_params_[i_parameter],\\n            ],\\n            y=[\\n                min(hyperparameters_df[\\\"rank_test_score_inverse\\\"]),\\n                max(hyperparameters_df[\\\"rank_test_score_inverse\\\"]),\\n            ],\\n            mode=\\\"lines\\\",\\n            showlegend=False,\\n            line=dict(color=\\\"#e377c2\\\", dash=\\\"dash\\\"),\\n        )\\n    )\\n\\n    fig.update_layout(\\n        title=\\\"Evolution of hyperparameter {} by trial\\\".format(variable_to_plot),\\n        xaxis_title=variable_to_plot,\\n        yaxis_title=\\\"Rank number (the higher, the better ranked)\\\",\\n        legend={\\\"itemsizing\\\": \\\"constant\\\"},\\n    )\\n\\n    fig.update_layout(\\n        annotations=[\\n            go.layout.Annotation(\\n                text=\\\"Vertical line: best score\\\",\\n                align=\\\"center\\\",\\n                showarrow=False,\\n                xref=\\\"paper\\\",\\n                yref=\\\"paper\\\",\\n                x=0.5,\\n                y=-0.22,\\n                bordercolor=\\\"black\\\",\\n                borderwidth=1,\\n            )\\n        ]\\n    )\\n\\n    fig.show()\";\n",
       "                var nbb_cells = Jupyter.notebook.get_cells();\n",
       "                for (var i = 0; i < nbb_cells.length; ++i) {\n",
       "                    if (nbb_cells[i].input_prompt_number == nbb_cell_id) {\n",
       "                        if (nbb_cells[i].get_text() == nbb_unformatted_code) {\n",
       "                             nbb_cells[i].set_text(nbb_formatted_code);\n",
       "                        }\n",
       "                        break;\n",
       "                    }\n",
       "                }\n",
       "            }, 500);\n",
       "            "
      ],
      "text/plain": [
       "<IPython.core.display.Javascript object>"
      ]
     },
     "metadata": {},
     "output_type": "display_data"
    }
   ],
   "source": [
    "for i_parameter in list(param_grid.keys()):\n",
    "    # variable_to_plot = \"param_pca__n_components\"\n",
    "    variable_to_plot = f\"param_{i_parameter}\"\n",
    "\n",
    "    import plotly.graph_objects as go\n",
    "\n",
    "    # hyperparameters_df.sort_values(variable_to_plot, inplace=True)\n",
    "\n",
    "    # Create traces\n",
    "    fig = go.Figure()\n",
    "\n",
    "    fig.add_trace(\n",
    "        go.Scatter(\n",
    "            x=hyperparameters_df[variable_to_plot],\n",
    "            y=hyperparameters_df[\"rank_test_score_inverse\"],\n",
    "            mode=\"markers\",\n",
    "            marker=dict(\n",
    "                color=hyperparameters_df[\"mean_test_score\"],\n",
    "                colorscale=\"Viridis_r\",  # one of plotly colorscales\n",
    "                colorbar=dict(title=\"mean_test_score\"),\n",
    "                showscale=True,\n",
    "            ),\n",
    "            hovertemplate=\"<b>Trial %{y}</b><br><br>\"\n",
    "            + \"Value: %{x:.5f}<br>\"\n",
    "            + \"MAE: %{marker.color:.3f}<br>\"\n",
    "            + \"<extra></extra>\",\n",
    "            showlegend=False,\n",
    "            name=variable_to_plot,\n",
    "        )\n",
    "    )\n",
    "\n",
    "    if i_parameter in [\"logistic_Reg__C\"]:\n",
    "        fig.update_xaxes(type=\"log\")\n",
    "\n",
    "    fig.add_trace(\n",
    "        go.Scatter(\n",
    "            x=[\n",
    "                clf.best_params_[i_parameter],\n",
    "                clf.best_params_[i_parameter],\n",
    "            ],\n",
    "            y=[\n",
    "                min(hyperparameters_df[\"rank_test_score_inverse\"]),\n",
    "                max(hyperparameters_df[\"rank_test_score_inverse\"]),\n",
    "            ],\n",
    "            mode=\"lines\",\n",
    "            showlegend=False,\n",
    "            line=dict(color=\"#e377c2\", dash=\"dash\"),\n",
    "        )\n",
    "    )\n",
    "\n",
    "    fig.update_layout(\n",
    "        title=\"Evolution of hyperparameter {} by trial\".format(variable_to_plot),\n",
    "        xaxis_title=variable_to_plot,\n",
    "        yaxis_title=\"Rank number (the higher, the better ranked)\",\n",
    "        legend={\"itemsizing\": \"constant\"},\n",
    "    )\n",
    "\n",
    "    fig.update_layout(\n",
    "        annotations=[\n",
    "            go.layout.Annotation(\n",
    "                text=\"Vertical line: best score\",\n",
    "                align=\"center\",\n",
    "                showarrow=False,\n",
    "                xref=\"paper\",\n",
    "                yref=\"paper\",\n",
    "                x=0.5,\n",
    "                y=-0.22,\n",
    "                bordercolor=\"black\",\n",
    "                borderwidth=1,\n",
    "            )\n",
    "        ]\n",
    "    )\n",
    "\n",
    "    fig.show()"
   ]
  },
  {
   "cell_type": "code",
   "execution_count": null,
   "metadata": {},
   "outputs": [],
   "source": []
  },
  {
   "cell_type": "code",
   "execution_count": null,
   "metadata": {},
   "outputs": [],
   "source": []
  }
 ],
 "metadata": {
  "hide_input": false,
  "kernelspec": {
   "display_name": "vocabulary_learning",
   "language": "python",
   "name": "vocabulary_learning"
  },
  "language_info": {
   "codemirror_mode": {
    "name": "ipython",
    "version": 3
   },
   "file_extension": ".py",
   "mimetype": "text/x-python",
   "name": "python",
   "nbconvert_exporter": "python",
   "pygments_lexer": "ipython3",
   "version": "3.7.5"
  },
  "toc": {
   "base_numbering": 1,
   "nav_menu": {},
   "number_sections": true,
   "sideBar": true,
   "skip_h1_title": false,
   "title_cell": "Table of Contents",
   "title_sidebar": "Contents",
   "toc_cell": false,
   "toc_position": {},
   "toc_section_display": true,
   "toc_window_display": false
  }
 },
 "nbformat": 4,
 "nbformat_minor": 4
}
