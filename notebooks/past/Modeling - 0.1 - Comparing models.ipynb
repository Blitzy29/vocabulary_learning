{
 "cells": [
  {
   "cell_type": "code",
   "execution_count": null,
   "metadata": {},
   "outputs": [],
   "source": [
    "%load_ext nb_black\n",
    "%load_ext autoreload\n",
    "%autoreload 2\n",
    "\n",
    "import os\n",
    "\n",
    "print(os.getcwd())\n",
    "\n",
    "\n",
    "def update_working_directory():\n",
    "    from pathlib import Path\n",
    "\n",
    "    p = Path(os.getcwd()).parents[0]\n",
    "    os.chdir(p)\n",
    "    print(p)\n",
    "\n",
    "\n",
    "update_working_directory()"
   ]
  },
  {
   "cell_type": "code",
   "execution_count": null,
   "metadata": {},
   "outputs": [],
   "source": [
    "path_dataset_test = \"data/raw/20201009/dataset_test.pkl\""
   ]
  },
  {
   "cell_type": "markdown",
   "metadata": {},
   "source": [
    "# Import"
   ]
  },
  {
   "cell_type": "code",
   "execution_count": null,
   "metadata": {},
   "outputs": [],
   "source": [
    "import dill\n",
    "import numpy as np\n",
    "import pandas as pd\n",
    "import plotly.graph_objects as go\n",
    "\n",
    "pd.set_option(\"display.max_columns\", None)\n",
    "\n",
    "import src.models.performance_metrics as performance_metrics\n"
   ]
  },
  {
   "cell_type": "markdown",
   "metadata": {},
   "source": [
    "# Dataset"
   ]
  },
  {
   "cell_type": "code",
   "execution_count": null,
   "metadata": {},
   "outputs": [],
   "source": [
    "with open(path_dataset_test, \"rb\") as input_file:\n",
    "    dataset_test_original = dill.load(input_file)"
   ]
  },
  {
   "cell_type": "markdown",
   "metadata": {},
   "source": [
    "# Initialisation"
   ]
  },
  {
   "cell_type": "code",
   "execution_count": null,
   "metadata": {},
   "outputs": [],
   "source": [
    "results_test_all_models = pd.DataFrame(columns=[\"metric\"])\n",
    "fig_precision_recall_curve = go.Figure()\n",
    "fig_roc_auc_curve = go.Figure()"
   ]
  },
  {
   "cell_type": "code",
   "execution_count": null,
   "metadata": {},
   "outputs": [],
   "source": [
    "list_models_to_compare = [\n",
    "    \"logistic_regression__20201014\",\n",
    "    \"logistic_regression_mle__20201014\",\n",
    "]"
   ]
  },
  {
   "cell_type": "markdown",
   "metadata": {},
   "source": [
    "# Getting data"
   ]
  },
  {
   "cell_type": "code",
   "execution_count": null,
   "metadata": {},
   "outputs": [],
   "source": [
    "for model_name in list_models_to_compare:\n",
    "\n",
    "    dataset_test = dataset_test_original.copy()\n",
    "\n",
    "    with open(f\"models/{model_name}__model.pkl\", \"rb\") as input_file:\n",
    "        model = dill.load(input_file)\n",
    "\n",
    "    y_test = dataset_test[model.vardict[\"target\"]].copy()\n",
    "    dataset_test = model.preprocessing_inference(dataset_test)\n",
    "    predictions = model.predict(dataset=dataset_test, target_present=False)\n",
    "    predictions[\"y_true\"] = y_test.values.tolist()\n",
    "\n",
    "    binary_classification_results = (\n",
    "        performance_metrics.get_binary_classification_results(\n",
    "            predictions, model_name=f\"{model_name}_test\"\n",
    "        )\n",
    "    )\n",
    "\n",
    "    regression_results = performance_metrics.get_regression_results(\n",
    "        predictions, model_name=f\"{model_name}_test\"\n",
    "    )\n",
    "\n",
    "    results_test_model = {**binary_classification_results, **regression_results}\n",
    "\n",
    "    results_test_model_table = pd.DataFrame.from_dict(\n",
    "        results_test_model, orient=\"index\", columns=[\"value\"]\n",
    "    )\n",
    "\n",
    "    results_test_model_table.reset_index(inplace=True)\n",
    "    results_test_model_table.rename(\n",
    "        columns={\"index\": \"metric\", \"value\": model_name}, inplace=True\n",
    "    )\n",
    "\n",
    "    results_test_all_models = pd.merge(\n",
    "        results_test_all_models,\n",
    "        results_test_model_table,\n",
    "        on=\"metric\",\n",
    "        how=\"outer\",\n",
    "    )\n",
    "\n",
    "    # Create traces\n",
    "\n",
    "    fig_precision_recall_curve = performance_metrics.add_precision_recall_curve(\n",
    "        fig_precision_recall_curve, predictions, model_name\n",
    "    )\n",
    "\n",
    "    fig_roc_auc_curve = performance_metrics.add_roc_auc_curve(\n",
    "        fig_roc_auc_curve, predictions, model_name\n",
    "    )"
   ]
  },
  {
   "cell_type": "markdown",
   "metadata": {},
   "source": [
    "# Analysis"
   ]
  },
  {
   "cell_type": "markdown",
   "metadata": {},
   "source": [
    "## Model metrics"
   ]
  },
  {
   "cell_type": "code",
   "execution_count": null,
   "metadata": {},
   "outputs": [],
   "source": [
    "results_test_all_models"
   ]
  },
  {
   "cell_type": "markdown",
   "metadata": {},
   "source": [
    "## ROC AUC curve"
   ]
  },
  {
   "cell_type": "code",
   "execution_count": null,
   "metadata": {},
   "outputs": [],
   "source": [
    "fig_roc_auc_curve.add_trace(\n",
    "    go.Scatter(\n",
    "        x=[0, 1],\n",
    "        y=[0, 1],\n",
    "        mode=\"lines\",\n",
    "        name=\"random\",\n",
    "        line=dict(color=\"black\", dash=\"dash\"),\n",
    "    )\n",
    ")\n",
    "\n",
    "fig_roc_auc_curve = performance_metrics.add_square(\n",
    "    fig_roc_auc_curve, x0=0, x1=1, y0=0, y1=1\n",
    ")\n",
    "\n",
    "fig_roc_auc_curve.update_layout(\n",
    "    title=\"Receiver operating characteristic (ROC) curve\",\n",
    "    legend={\"itemsizing\": \"constant\"},\n",
    ")\n",
    "\n",
    "fig_roc_auc_curve.update_xaxes(title_text=\"False Positive Rate\", range=[-0.05, 1.05])\n",
    "fig_roc_auc_curve.update_yaxes(title_text=\"True Positive Rate\", range=[-0.05, 1.05])\n",
    "\n",
    "fig_roc_auc_curve.show()"
   ]
  },
  {
   "cell_type": "markdown",
   "metadata": {},
   "source": [
    "## Precision - Recall curve"
   ]
  },
  {
   "cell_type": "code",
   "execution_count": null,
   "metadata": {},
   "outputs": [],
   "source": [
    "fig_precision_recall_curve = performance_metrics.add_square(\n",
    "    fig_precision_recall_curve, x0=0, x1=1, y0=0, y1=1\n",
    ")\n",
    "\n",
    "fig_precision_recall_curve.add_trace(\n",
    "    go.Scatter(\n",
    "        x=[0, 1],\n",
    "        y=[\n",
    "            binary_classification_results[\"random_precision\"],\n",
    "            binary_classification_results[\"random_precision\"],\n",
    "        ],\n",
    "        mode=\"lines\",\n",
    "        name=\"Random precision\",\n",
    "        line=dict(color=\"black\", dash=\"dash\"),\n",
    "    )\n",
    ")\n",
    "\n",
    "fig_precision_recall_curve.update_layout(\n",
    "    title=\"Precision-Recall curve\",\n",
    "    legend={\"itemsizing\": \"constant\"},\n",
    ")\n",
    "\n",
    "fig_precision_recall_curve.update_xaxes(title_text=\"Recall\", range=[-0.05, 1.05])\n",
    "fig_precision_recall_curve.update_yaxes(title_text=\"Precision\", range=[-0.05, 1.05])\n",
    "\n",
    "fig_precision_recall_curve.show()"
   ]
  },
  {
   "cell_type": "code",
   "execution_count": null,
   "metadata": {},
   "outputs": [],
   "source": []
  },
  {
   "cell_type": "code",
   "execution_count": null,
   "metadata": {},
   "outputs": [],
   "source": []
  },
  {
   "cell_type": "code",
   "execution_count": null,
   "metadata": {},
   "outputs": [],
   "source": []
  }
 ],
 "metadata": {
  "hide_input": false,
  "kernelspec": {
   "display_name": "vocabulary_learning",
   "language": "python",
   "name": "vocabulary_learning"
  },
  "language_info": {
   "codemirror_mode": {
    "name": "ipython",
    "version": 3
   },
   "file_extension": ".py",
   "mimetype": "text/x-python",
   "name": "python",
   "nbconvert_exporter": "python",
   "pygments_lexer": "ipython3",
   "version": "3.7.5"
  },
  "toc": {
   "base_numbering": 1,
   "nav_menu": {},
   "number_sections": true,
   "sideBar": true,
   "skip_h1_title": false,
   "title_cell": "Table of Contents",
   "title_sidebar": "Contents",
   "toc_cell": false,
   "toc_position": {},
   "toc_section_display": true,
   "toc_window_display": false
  }
 },
 "nbformat": 4,
 "nbformat_minor": 4
}
