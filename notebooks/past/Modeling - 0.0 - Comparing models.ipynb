{
 "cells": [
  {
   "cell_type": "code",
   "execution_count": 1,
   "metadata": {
    "ExecuteTime": {
     "end_time": "2020-10-11T12:32:12.859739Z",
     "start_time": "2020-10-11T12:32:12.704595Z"
    }
   },
   "outputs": [
    {
     "name": "stdout",
     "output_type": "stream",
     "text": [
      "/Users/admin/Projects/vocabulary_learning/notebooks\n",
      "/Users/admin/Projects/vocabulary_learning\n"
     ]
    },
    {
     "data": {
      "application/javascript": [
       "\n",
       "            setTimeout(function() {\n",
       "                var nbb_cell_id = 1;\n",
       "                var nbb_unformatted_code = \"%load_ext nb_black\\n%load_ext autoreload\\n%autoreload 2\\n\\nimport os\\n\\nprint(os.getcwd())\\n\\n\\ndef update_working_directory():\\n    from pathlib import Path\\n\\n    p = Path(os.getcwd()).parents[0]\\n    os.chdir(p)\\n    print(p)\\n\\n\\nupdate_working_directory()\";\n",
       "                var nbb_formatted_code = \"%load_ext nb_black\\n%load_ext autoreload\\n%autoreload 2\\n\\nimport os\\n\\nprint(os.getcwd())\\n\\n\\ndef update_working_directory():\\n    from pathlib import Path\\n\\n    p = Path(os.getcwd()).parents[0]\\n    os.chdir(p)\\n    print(p)\\n\\n\\nupdate_working_directory()\";\n",
       "                var nbb_cells = Jupyter.notebook.get_cells();\n",
       "                for (var i = 0; i < nbb_cells.length; ++i) {\n",
       "                    if (nbb_cells[i].input_prompt_number == nbb_cell_id) {\n",
       "                        if (nbb_cells[i].get_text() == nbb_unformatted_code) {\n",
       "                             nbb_cells[i].set_text(nbb_formatted_code);\n",
       "                        }\n",
       "                        break;\n",
       "                    }\n",
       "                }\n",
       "            }, 500);\n",
       "            "
      ],
      "text/plain": [
       "<IPython.core.display.Javascript object>"
      ]
     },
     "metadata": {},
     "output_type": "display_data"
    }
   ],
   "source": [
    "%load_ext nb_black\n",
    "%load_ext autoreload\n",
    "%autoreload 2\n",
    "\n",
    "import os\n",
    "\n",
    "print(os.getcwd())\n",
    "\n",
    "\n",
    "def update_working_directory():\n",
    "    from pathlib import Path\n",
    "\n",
    "    p = Path(os.getcwd()).parents[0]\n",
    "    os.chdir(p)\n",
    "    print(p)\n",
    "\n",
    "\n",
    "update_working_directory()"
   ]
  },
  {
   "cell_type": "code",
   "execution_count": 2,
   "metadata": {
    "ExecuteTime": {
     "end_time": "2020-10-11T12:32:13.334400Z",
     "start_time": "2020-10-11T12:32:13.317511Z"
    }
   },
   "outputs": [
    {
     "data": {
      "application/javascript": [
       "\n",
       "            setTimeout(function() {\n",
       "                var nbb_cell_id = 2;\n",
       "                var nbb_unformatted_code = \"path_dataset_test = \\\"data/raw/20201009/dataset_test.pkl\\\"\";\n",
       "                var nbb_formatted_code = \"path_dataset_test = \\\"data/raw/20201009/dataset_test.pkl\\\"\";\n",
       "                var nbb_cells = Jupyter.notebook.get_cells();\n",
       "                for (var i = 0; i < nbb_cells.length; ++i) {\n",
       "                    if (nbb_cells[i].input_prompt_number == nbb_cell_id) {\n",
       "                        if (nbb_cells[i].get_text() == nbb_unformatted_code) {\n",
       "                             nbb_cells[i].set_text(nbb_formatted_code);\n",
       "                        }\n",
       "                        break;\n",
       "                    }\n",
       "                }\n",
       "            }, 500);\n",
       "            "
      ],
      "text/plain": [
       "<IPython.core.display.Javascript object>"
      ]
     },
     "metadata": {},
     "output_type": "display_data"
    }
   ],
   "source": [
    "path_dataset_test = \"data/raw/20201009/dataset_test.pkl\""
   ]
  },
  {
   "cell_type": "markdown",
   "metadata": {},
   "source": [
    "# Import"
   ]
  },
  {
   "cell_type": "code",
   "execution_count": 3,
   "metadata": {
    "ExecuteTime": {
     "end_time": "2020-10-11T12:32:16.391060Z",
     "start_time": "2020-10-11T12:32:15.396806Z"
    }
   },
   "outputs": [
    {
     "data": {
      "application/javascript": [
       "\n",
       "            setTimeout(function() {\n",
       "                var nbb_cell_id = 3;\n",
       "                var nbb_unformatted_code = \"import dill\\nimport numpy as np\\nimport pandas as pd\\nimport plotly.graph_objects as go\\n\\npd.set_option(\\\"display.max_columns\\\", None)\\n\\nfrom sklearn.linear_model import LogisticRegression\\n\\nfrom src.data.make_dataset import get_vardict\\n\\nimport src.models.performance_metrics as performance_metrics\";\n",
       "                var nbb_formatted_code = \"import dill\\nimport numpy as np\\nimport pandas as pd\\nimport plotly.graph_objects as go\\n\\npd.set_option(\\\"display.max_columns\\\", None)\\n\\nfrom sklearn.linear_model import LogisticRegression\\n\\nfrom src.data.make_dataset import get_vardict\\n\\nimport src.models.performance_metrics as performance_metrics\";\n",
       "                var nbb_cells = Jupyter.notebook.get_cells();\n",
       "                for (var i = 0; i < nbb_cells.length; ++i) {\n",
       "                    if (nbb_cells[i].input_prompt_number == nbb_cell_id) {\n",
       "                        if (nbb_cells[i].get_text() == nbb_unformatted_code) {\n",
       "                             nbb_cells[i].set_text(nbb_formatted_code);\n",
       "                        }\n",
       "                        break;\n",
       "                    }\n",
       "                }\n",
       "            }, 500);\n",
       "            "
      ],
      "text/plain": [
       "<IPython.core.display.Javascript object>"
      ]
     },
     "metadata": {},
     "output_type": "display_data"
    }
   ],
   "source": [
    "import dill\n",
    "import numpy as np\n",
    "import pandas as pd\n",
    "import plotly.graph_objects as go\n",
    "\n",
    "pd.set_option(\"display.max_columns\", None)\n",
    "\n",
    "from sklearn.linear_model import LogisticRegression\n",
    "\n",
    "from src.data.make_dataset import get_vardict\n",
    "\n",
    "import src.models.performance_metrics as performance_metrics\n"
   ]
  },
  {
   "cell_type": "markdown",
   "metadata": {},
   "source": [
    "# Dataset"
   ]
  },
  {
   "cell_type": "code",
   "execution_count": 5,
   "metadata": {
    "ExecuteTime": {
     "end_time": "2020-10-11T12:32:29.149402Z",
     "start_time": "2020-10-11T12:32:29.120557Z"
    }
   },
   "outputs": [
    {
     "data": {
      "application/javascript": [
       "\n",
       "            setTimeout(function() {\n",
       "                var nbb_cell_id = 5;\n",
       "                var nbb_unformatted_code = \"with open(path_dataset_test, \\\"rb\\\") as input_file:\\n    dataset_test = dill.load(input_file)\";\n",
       "                var nbb_formatted_code = \"with open(path_dataset_test, \\\"rb\\\") as input_file:\\n    dataset_test = dill.load(input_file)\";\n",
       "                var nbb_cells = Jupyter.notebook.get_cells();\n",
       "                for (var i = 0; i < nbb_cells.length; ++i) {\n",
       "                    if (nbb_cells[i].input_prompt_number == nbb_cell_id) {\n",
       "                        if (nbb_cells[i].get_text() == nbb_unformatted_code) {\n",
       "                             nbb_cells[i].set_text(nbb_formatted_code);\n",
       "                        }\n",
       "                        break;\n",
       "                    }\n",
       "                }\n",
       "            }, 500);\n",
       "            "
      ],
      "text/plain": [
       "<IPython.core.display.Javascript object>"
      ]
     },
     "metadata": {},
     "output_type": "display_data"
    }
   ],
   "source": [
    "with open(path_dataset_test, \"rb\") as input_file:\n",
    "    dataset_test = dill.load(input_file)"
   ]
  },
  {
   "cell_type": "markdown",
   "metadata": {},
   "source": [
    "# Initialisation"
   ]
  },
  {
   "cell_type": "code",
   "execution_count": 30,
   "metadata": {
    "ExecuteTime": {
     "end_time": "2020-10-11T12:42:32.742152Z",
     "start_time": "2020-10-11T12:42:32.700635Z"
    }
   },
   "outputs": [
    {
     "data": {
      "application/javascript": [
       "\n",
       "            setTimeout(function() {\n",
       "                var nbb_cell_id = 30;\n",
       "                var nbb_unformatted_code = \"results_test_all_models = pd.DataFrame(columns=[\\\"metric\\\"])\\nfig_precision_recall_curve = go.Figure()\\nfig_roc_auc_curve = go.Figure()\";\n",
       "                var nbb_formatted_code = \"results_test_all_models = pd.DataFrame(columns=[\\\"metric\\\"])\\nfig_precision_recall_curve = go.Figure()\\nfig_roc_auc_curve = go.Figure()\";\n",
       "                var nbb_cells = Jupyter.notebook.get_cells();\n",
       "                for (var i = 0; i < nbb_cells.length; ++i) {\n",
       "                    if (nbb_cells[i].input_prompt_number == nbb_cell_id) {\n",
       "                        if (nbb_cells[i].get_text() == nbb_unformatted_code) {\n",
       "                             nbb_cells[i].set_text(nbb_formatted_code);\n",
       "                        }\n",
       "                        break;\n",
       "                    }\n",
       "                }\n",
       "            }, 500);\n",
       "            "
      ],
      "text/plain": [
       "<IPython.core.display.Javascript object>"
      ]
     },
     "metadata": {},
     "output_type": "display_data"
    }
   ],
   "source": [
    "results_test_all_models = pd.DataFrame(columns=[\"metric\"])\n",
    "fig_precision_recall_curve = go.Figure()\n",
    "fig_roc_auc_curve = go.Figure()"
   ]
  },
  {
   "cell_type": "code",
   "execution_count": 31,
   "metadata": {
    "ExecuteTime": {
     "end_time": "2020-10-11T12:42:34.382800Z",
     "start_time": "2020-10-11T12:42:34.353568Z"
    }
   },
   "outputs": [
    {
     "data": {
      "application/javascript": [
       "\n",
       "            setTimeout(function() {\n",
       "                var nbb_cell_id = 31;\n",
       "                var nbb_unformatted_code = \"list_models_to_compare = [\\\"Logistic Regression\\\", \\\"Logistic Regression 2\\\"]\";\n",
       "                var nbb_formatted_code = \"list_models_to_compare = [\\\"Logistic Regression\\\", \\\"Logistic Regression 2\\\"]\";\n",
       "                var nbb_cells = Jupyter.notebook.get_cells();\n",
       "                for (var i = 0; i < nbb_cells.length; ++i) {\n",
       "                    if (nbb_cells[i].input_prompt_number == nbb_cell_id) {\n",
       "                        if (nbb_cells[i].get_text() == nbb_unformatted_code) {\n",
       "                             nbb_cells[i].set_text(nbb_formatted_code);\n",
       "                        }\n",
       "                        break;\n",
       "                    }\n",
       "                }\n",
       "            }, 500);\n",
       "            "
      ],
      "text/plain": [
       "<IPython.core.display.Javascript object>"
      ]
     },
     "metadata": {},
     "output_type": "display_data"
    }
   ],
   "source": [
    "list_models_to_compare = [\"Logistic Regression\", \"Logistic Regression 2\"]"
   ]
  },
  {
   "cell_type": "markdown",
   "metadata": {},
   "source": [
    "# Getting data"
   ]
  },
  {
   "cell_type": "code",
   "execution_count": 32,
   "metadata": {
    "ExecuteTime": {
     "end_time": "2020-10-11T12:44:11.076040Z",
     "start_time": "2020-10-11T12:44:10.959726Z"
    }
   },
   "outputs": [
    {
     "data": {
      "application/javascript": [
       "\n",
       "            setTimeout(function() {\n",
       "                var nbb_cell_id = 32;\n",
       "                var nbb_unformatted_code = \"for model_name in list_models_to_compare:\\n\\n    with open(f\\\"data/processed/{model_name}_model.pkl\\\", \\\"rb\\\") as input_file:\\n        model = dill.load(input_file)\\n\\n    with open(f\\\"data/processed/{model_name}_vardict.pkl\\\", \\\"rb\\\") as input_file:\\n        vardict = dill.load(input_file)\\n\\n    X_test = dataset_test[vardict[\\\"all\\\"]]\\n    y_test = dataset_test[vardict[\\\"target\\\"]]\\n\\n    predictions = X_test.copy()\\n\\n    predictions[\\\"y_pred\\\"] = model.predict(X_test)\\n    predictions[\\\"y_proba\\\"] = [x[1] for x in model.predict_proba(X_test)]\\n    predictions[\\\"y_true\\\"] = y_test\\n\\n    binary_classification_results = (\\n        performance_metrics.get_binary_classification_results(\\n            predictions, model_name=f\\\"{model_name}_test\\\"\\n        )\\n    )\\n\\n    regression_results = performance_metrics.get_regression_results(\\n        predictions, model_name=f\\\"{model_name}_test\\\"\\n    )\\n\\n    results_test_model = {**binary_classification_results, **regression_results}\\n\\n    results_test_model_table = pd.DataFrame.from_dict(\\n        results_test_model, orient=\\\"index\\\", columns=[\\\"value\\\"]\\n    )\\n\\n    results_test_model_table.reset_index(inplace=True)\\n    results_test_model_table.rename(\\n        columns={\\\"index\\\": \\\"metric\\\", \\\"value\\\": model_name}, inplace=True\\n    )\\n\\n    results_test_all_models = pd.merge(\\n        results_test_all_models,\\n        results_test_model_table,\\n        on=\\\"metric\\\",\\n        how=\\\"outer\\\",\\n    )\\n\\n    # Create traces\\n\\n    fig_precision_recall_curve = performance_metrics.add_precision_recall_curve(\\n        fig_precision_recall_curve, predictions, model_name\\n    )\\n    \\n    fig_roc_auc_curve = performance_metrics.add_roc_auc_curve(\\n        fig_roc_auc_curve, predictions, model_name\\n    )\";\n",
       "                var nbb_formatted_code = \"for model_name in list_models_to_compare:\\n\\n    with open(f\\\"data/processed/{model_name}_model.pkl\\\", \\\"rb\\\") as input_file:\\n        model = dill.load(input_file)\\n\\n    with open(f\\\"data/processed/{model_name}_vardict.pkl\\\", \\\"rb\\\") as input_file:\\n        vardict = dill.load(input_file)\\n\\n    X_test = dataset_test[vardict[\\\"all\\\"]]\\n    y_test = dataset_test[vardict[\\\"target\\\"]]\\n\\n    predictions = X_test.copy()\\n\\n    predictions[\\\"y_pred\\\"] = model.predict(X_test)\\n    predictions[\\\"y_proba\\\"] = [x[1] for x in model.predict_proba(X_test)]\\n    predictions[\\\"y_true\\\"] = y_test\\n\\n    binary_classification_results = (\\n        performance_metrics.get_binary_classification_results(\\n            predictions, model_name=f\\\"{model_name}_test\\\"\\n        )\\n    )\\n\\n    regression_results = performance_metrics.get_regression_results(\\n        predictions, model_name=f\\\"{model_name}_test\\\"\\n    )\\n\\n    results_test_model = {**binary_classification_results, **regression_results}\\n\\n    results_test_model_table = pd.DataFrame.from_dict(\\n        results_test_model, orient=\\\"index\\\", columns=[\\\"value\\\"]\\n    )\\n\\n    results_test_model_table.reset_index(inplace=True)\\n    results_test_model_table.rename(\\n        columns={\\\"index\\\": \\\"metric\\\", \\\"value\\\": model_name}, inplace=True\\n    )\\n\\n    results_test_all_models = pd.merge(\\n        results_test_all_models,\\n        results_test_model_table,\\n        on=\\\"metric\\\",\\n        how=\\\"outer\\\",\\n    )\\n\\n    # Create traces\\n\\n    fig_precision_recall_curve = performance_metrics.add_precision_recall_curve(\\n        fig_precision_recall_curve, predictions, model_name\\n    )\\n\\n    fig_roc_auc_curve = performance_metrics.add_roc_auc_curve(\\n        fig_roc_auc_curve, predictions, model_name\\n    )\";\n",
       "                var nbb_cells = Jupyter.notebook.get_cells();\n",
       "                for (var i = 0; i < nbb_cells.length; ++i) {\n",
       "                    if (nbb_cells[i].input_prompt_number == nbb_cell_id) {\n",
       "                        if (nbb_cells[i].get_text() == nbb_unformatted_code) {\n",
       "                             nbb_cells[i].set_text(nbb_formatted_code);\n",
       "                        }\n",
       "                        break;\n",
       "                    }\n",
       "                }\n",
       "            }, 500);\n",
       "            "
      ],
      "text/plain": [
       "<IPython.core.display.Javascript object>"
      ]
     },
     "metadata": {},
     "output_type": "display_data"
    }
   ],
   "source": [
    "for model_name in list_models_to_compare:\n",
    "\n",
    "    with open(f\"data/processed/{model_name}_model.pkl\", \"rb\") as input_file:\n",
    "        model = dill.load(input_file)\n",
    "\n",
    "    with open(f\"data/processed/{model_name}_vardict.pkl\", \"rb\") as input_file:\n",
    "        vardict = dill.load(input_file)\n",
    "\n",
    "    X_test = dataset_test[vardict[\"all\"]]\n",
    "    y_test = dataset_test[vardict[\"target\"]]\n",
    "\n",
    "    predictions = X_test.copy()\n",
    "\n",
    "    predictions[\"y_pred\"] = model.predict(X_test)\n",
    "    predictions[\"y_proba\"] = [x[1] for x in model.predict_proba(X_test)]\n",
    "    predictions[\"y_true\"] = y_test\n",
    "\n",
    "    binary_classification_results = (\n",
    "        performance_metrics.get_binary_classification_results(\n",
    "            predictions, model_name=f\"{model_name}_test\"\n",
    "        )\n",
    "    )\n",
    "\n",
    "    regression_results = performance_metrics.get_regression_results(\n",
    "        predictions, model_name=f\"{model_name}_test\"\n",
    "    )\n",
    "\n",
    "    results_test_model = {**binary_classification_results, **regression_results}\n",
    "\n",
    "    results_test_model_table = pd.DataFrame.from_dict(\n",
    "        results_test_model, orient=\"index\", columns=[\"value\"]\n",
    "    )\n",
    "\n",
    "    results_test_model_table.reset_index(inplace=True)\n",
    "    results_test_model_table.rename(\n",
    "        columns={\"index\": \"metric\", \"value\": model_name}, inplace=True\n",
    "    )\n",
    "\n",
    "    results_test_all_models = pd.merge(\n",
    "        results_test_all_models,\n",
    "        results_test_model_table,\n",
    "        on=\"metric\",\n",
    "        how=\"outer\",\n",
    "    )\n",
    "\n",
    "    # Create traces\n",
    "\n",
    "    fig_precision_recall_curve = performance_metrics.add_precision_recall_curve(\n",
    "        fig_precision_recall_curve, predictions, model_name\n",
    "    )\n",
    "\n",
    "    fig_roc_auc_curve = performance_metrics.add_roc_auc_curve(\n",
    "        fig_roc_auc_curve, predictions, model_name\n",
    "    )"
   ]
  },
  {
   "cell_type": "markdown",
   "metadata": {},
   "source": [
    "# Analysis"
   ]
  },
  {
   "cell_type": "markdown",
   "metadata": {},
   "source": [
    "## Model metrics"
   ]
  },
  {
   "cell_type": "code",
   "execution_count": 33,
   "metadata": {
    "ExecuteTime": {
     "end_time": "2020-10-11T12:44:13.100269Z",
     "start_time": "2020-10-11T12:44:13.062573Z"
    }
   },
   "outputs": [
    {
     "data": {
      "text/html": [
       "<div>\n",
       "<style scoped>\n",
       "    .dataframe tbody tr th:only-of-type {\n",
       "        vertical-align: middle;\n",
       "    }\n",
       "\n",
       "    .dataframe tbody tr th {\n",
       "        vertical-align: top;\n",
       "    }\n",
       "\n",
       "    .dataframe thead th {\n",
       "        text-align: right;\n",
       "    }\n",
       "</style>\n",
       "<table border=\"1\" class=\"dataframe\">\n",
       "  <thead>\n",
       "    <tr style=\"text-align: right;\">\n",
       "      <th></th>\n",
       "      <th>metric</th>\n",
       "      <th>Logistic Regression</th>\n",
       "      <th>Logistic Regression 2</th>\n",
       "    </tr>\n",
       "  </thead>\n",
       "  <tbody>\n",
       "    <tr>\n",
       "      <th>0</th>\n",
       "      <td>total_population</td>\n",
       "      <td>112.000000</td>\n",
       "      <td>112.000000</td>\n",
       "    </tr>\n",
       "    <tr>\n",
       "      <th>1</th>\n",
       "      <td>total_positive</td>\n",
       "      <td>70.000000</td>\n",
       "      <td>70.000000</td>\n",
       "    </tr>\n",
       "    <tr>\n",
       "      <th>2</th>\n",
       "      <td>total_negative</td>\n",
       "      <td>42.000000</td>\n",
       "      <td>42.000000</td>\n",
       "    </tr>\n",
       "    <tr>\n",
       "      <th>3</th>\n",
       "      <td>random_precision</td>\n",
       "      <td>0.625000</td>\n",
       "      <td>0.625000</td>\n",
       "    </tr>\n",
       "    <tr>\n",
       "      <th>4</th>\n",
       "      <td>true_positive</td>\n",
       "      <td>24.000000</td>\n",
       "      <td>23.000000</td>\n",
       "    </tr>\n",
       "    <tr>\n",
       "      <th>5</th>\n",
       "      <td>false_negative</td>\n",
       "      <td>46.000000</td>\n",
       "      <td>47.000000</td>\n",
       "    </tr>\n",
       "    <tr>\n",
       "      <th>6</th>\n",
       "      <td>false_positive</td>\n",
       "      <td>12.000000</td>\n",
       "      <td>13.000000</td>\n",
       "    </tr>\n",
       "    <tr>\n",
       "      <th>7</th>\n",
       "      <td>true_negative</td>\n",
       "      <td>30.000000</td>\n",
       "      <td>29.000000</td>\n",
       "    </tr>\n",
       "    <tr>\n",
       "      <th>8</th>\n",
       "      <td>recall</td>\n",
       "      <td>0.342857</td>\n",
       "      <td>0.328571</td>\n",
       "    </tr>\n",
       "    <tr>\n",
       "      <th>9</th>\n",
       "      <td>miss_rate</td>\n",
       "      <td>0.657143</td>\n",
       "      <td>0.671429</td>\n",
       "    </tr>\n",
       "    <tr>\n",
       "      <th>10</th>\n",
       "      <td>fall_out</td>\n",
       "      <td>0.285714</td>\n",
       "      <td>0.309524</td>\n",
       "    </tr>\n",
       "    <tr>\n",
       "      <th>11</th>\n",
       "      <td>specificity</td>\n",
       "      <td>0.714286</td>\n",
       "      <td>0.690476</td>\n",
       "    </tr>\n",
       "    <tr>\n",
       "      <th>12</th>\n",
       "      <td>precision</td>\n",
       "      <td>0.666667</td>\n",
       "      <td>0.638889</td>\n",
       "    </tr>\n",
       "    <tr>\n",
       "      <th>13</th>\n",
       "      <td>false_discovery_rate</td>\n",
       "      <td>0.333333</td>\n",
       "      <td>0.361111</td>\n",
       "    </tr>\n",
       "    <tr>\n",
       "      <th>14</th>\n",
       "      <td>false_omission_rate</td>\n",
       "      <td>0.605263</td>\n",
       "      <td>0.618421</td>\n",
       "    </tr>\n",
       "    <tr>\n",
       "      <th>15</th>\n",
       "      <td>negative_predictive_value</td>\n",
       "      <td>0.394737</td>\n",
       "      <td>0.381579</td>\n",
       "    </tr>\n",
       "    <tr>\n",
       "      <th>16</th>\n",
       "      <td>accuracy</td>\n",
       "      <td>0.482143</td>\n",
       "      <td>0.464286</td>\n",
       "    </tr>\n",
       "    <tr>\n",
       "      <th>17</th>\n",
       "      <td>prevalence</td>\n",
       "      <td>0.625000</td>\n",
       "      <td>0.625000</td>\n",
       "    </tr>\n",
       "    <tr>\n",
       "      <th>18</th>\n",
       "      <td>positive_likelihood_ratio</td>\n",
       "      <td>1.200000</td>\n",
       "      <td>1.061538</td>\n",
       "    </tr>\n",
       "    <tr>\n",
       "      <th>19</th>\n",
       "      <td>negative_likelihood_ratio</td>\n",
       "      <td>0.920000</td>\n",
       "      <td>0.972414</td>\n",
       "    </tr>\n",
       "    <tr>\n",
       "      <th>20</th>\n",
       "      <td>diagnostic_odds_ratio</td>\n",
       "      <td>1.304348</td>\n",
       "      <td>1.091653</td>\n",
       "    </tr>\n",
       "    <tr>\n",
       "      <th>21</th>\n",
       "      <td>f1_score</td>\n",
       "      <td>0.452830</td>\n",
       "      <td>0.433962</td>\n",
       "    </tr>\n",
       "    <tr>\n",
       "      <th>22</th>\n",
       "      <td>logit_roc_auc</td>\n",
       "      <td>0.528571</td>\n",
       "      <td>0.509524</td>\n",
       "    </tr>\n",
       "    <tr>\n",
       "      <th>23</th>\n",
       "      <td>explained_variance_score</td>\n",
       "      <td>-0.102371</td>\n",
       "      <td>-0.133867</td>\n",
       "    </tr>\n",
       "    <tr>\n",
       "      <th>24</th>\n",
       "      <td>max_error</td>\n",
       "      <td>0.971264</td>\n",
       "      <td>0.974395</td>\n",
       "    </tr>\n",
       "    <tr>\n",
       "      <th>25</th>\n",
       "      <td>mean_absolute_error</td>\n",
       "      <td>0.512477</td>\n",
       "      <td>0.518725</td>\n",
       "    </tr>\n",
       "    <tr>\n",
       "      <th>26</th>\n",
       "      <td>root_mean_squared_error</td>\n",
       "      <td>0.573586</td>\n",
       "      <td>0.579591</td>\n",
       "    </tr>\n",
       "    <tr>\n",
       "      <th>27</th>\n",
       "      <td>r2_score</td>\n",
       "      <td>-0.403738</td>\n",
       "      <td>-0.433285</td>\n",
       "    </tr>\n",
       "    <tr>\n",
       "      <th>28</th>\n",
       "      <td>normalised_log_loss</td>\n",
       "      <td>0.937357</td>\n",
       "      <td>0.958625</td>\n",
       "    </tr>\n",
       "  </tbody>\n",
       "</table>\n",
       "</div>"
      ],
      "text/plain": [
       "                       metric  Logistic Regression  Logistic Regression 2\n",
       "0            total_population           112.000000             112.000000\n",
       "1              total_positive            70.000000              70.000000\n",
       "2              total_negative            42.000000              42.000000\n",
       "3            random_precision             0.625000               0.625000\n",
       "4               true_positive            24.000000              23.000000\n",
       "5              false_negative            46.000000              47.000000\n",
       "6              false_positive            12.000000              13.000000\n",
       "7               true_negative            30.000000              29.000000\n",
       "8                      recall             0.342857               0.328571\n",
       "9                   miss_rate             0.657143               0.671429\n",
       "10                   fall_out             0.285714               0.309524\n",
       "11                specificity             0.714286               0.690476\n",
       "12                  precision             0.666667               0.638889\n",
       "13       false_discovery_rate             0.333333               0.361111\n",
       "14        false_omission_rate             0.605263               0.618421\n",
       "15  negative_predictive_value             0.394737               0.381579\n",
       "16                   accuracy             0.482143               0.464286\n",
       "17                 prevalence             0.625000               0.625000\n",
       "18  positive_likelihood_ratio             1.200000               1.061538\n",
       "19  negative_likelihood_ratio             0.920000               0.972414\n",
       "20      diagnostic_odds_ratio             1.304348               1.091653\n",
       "21                   f1_score             0.452830               0.433962\n",
       "22              logit_roc_auc             0.528571               0.509524\n",
       "23   explained_variance_score            -0.102371              -0.133867\n",
       "24                  max_error             0.971264               0.974395\n",
       "25        mean_absolute_error             0.512477               0.518725\n",
       "26    root_mean_squared_error             0.573586               0.579591\n",
       "27                   r2_score            -0.403738              -0.433285\n",
       "28        normalised_log_loss             0.937357               0.958625"
      ]
     },
     "execution_count": 33,
     "metadata": {},
     "output_type": "execute_result"
    },
    {
     "data": {
      "application/javascript": [
       "\n",
       "            setTimeout(function() {\n",
       "                var nbb_cell_id = 33;\n",
       "                var nbb_unformatted_code = \"results_test_all_models\";\n",
       "                var nbb_formatted_code = \"results_test_all_models\";\n",
       "                var nbb_cells = Jupyter.notebook.get_cells();\n",
       "                for (var i = 0; i < nbb_cells.length; ++i) {\n",
       "                    if (nbb_cells[i].input_prompt_number == nbb_cell_id) {\n",
       "                        if (nbb_cells[i].get_text() == nbb_unformatted_code) {\n",
       "                             nbb_cells[i].set_text(nbb_formatted_code);\n",
       "                        }\n",
       "                        break;\n",
       "                    }\n",
       "                }\n",
       "            }, 500);\n",
       "            "
      ],
      "text/plain": [
       "<IPython.core.display.Javascript object>"
      ]
     },
     "metadata": {},
     "output_type": "display_data"
    }
   ],
   "source": [
    "results_test_all_models"
   ]
  },
  {
   "cell_type": "markdown",
   "metadata": {
    "ExecuteTime": {
     "end_time": "2020-10-11T12:45:36.323842Z",
     "start_time": "2020-10-11T12:45:36.297306Z"
    }
   },
   "source": [
    "## ROC AUC curve"
   ]
  },
  {
   "cell_type": "code",
   "execution_count": 37,
   "metadata": {
    "ExecuteTime": {
     "end_time": "2020-10-11T12:49:40.083446Z",
     "start_time": "2020-10-11T12:49:40.014323Z"
    }
   },
   "outputs": [
    {
     "data": {
      "application/vnd.plotly.v1+json": {
       "config": {
        "plotlyServerURL": "https://plot.ly"
       },
       "data": [
        {
         "mode": "lines",
         "name": "Logistic Regression",
         "type": "scatter",
         "x": [
          0,
          0,
          0.023809523809523808,
          0.023809523809523808,
          0.047619047619047616,
          0.047619047619047616,
          0.07142857142857142,
          0.09523809523809523,
          0.11904761904761904,
          0.14285714285714285,
          0.23809523809523808,
          0.2619047619047619,
          0.2619047619047619,
          0.2857142857142857,
          0.3333333333333333,
          0.35714285714285715,
          0.35714285714285715,
          0.35714285714285715,
          0.38095238095238093,
          0.40476190476190477,
          0.42857142857142855,
          0.4523809523809524,
          0.47619047619047616,
          0.47619047619047616,
          0.47619047619047616,
          0.5,
          0.6190476190476191,
          0.6190476190476191,
          0.6904761904761905,
          0.7380952380952381,
          0.7619047619047619,
          0.8333333333333334,
          0.8333333333333334,
          0.8809523809523809,
          0.9523809523809523,
          0.9523809523809523,
          1,
          1,
          1
         ],
         "y": [
          0,
          0.014285714285714285,
          0.014285714285714285,
          0.02857142857142857,
          0.1,
          0.11428571428571428,
          0.17142857142857143,
          0.21428571428571427,
          0.21428571428571427,
          0.2714285714285714,
          0.2714285714285714,
          0.3,
          0.32857142857142857,
          0.34285714285714286,
          0.4,
          0.4,
          0.4142857142857143,
          0.4714285714285714,
          0.4857142857142857,
          0.4857142857142857,
          0.5142857142857142,
          0.5142857142857142,
          0.5571428571428572,
          0.6428571428571429,
          0.6571428571428571,
          0.6714285714285714,
          0.7142857142857143,
          0.7285714285714285,
          0.7714285714285715,
          0.8,
          0.8,
          0.8142857142857143,
          0.8714285714285714,
          0.8857142857142857,
          0.9142857142857143,
          0.9428571428571428,
          0.9571428571428572,
          0.9857142857142858,
          1
         ]
        },
        {
         "mode": "lines",
         "name": "Logistic Regression 2",
         "type": "scatter",
         "x": [
          0,
          0,
          0,
          0.023809523809523808,
          0.047619047619047616,
          0.047619047619047616,
          0.07142857142857142,
          0.07142857142857142,
          0.11904761904761904,
          0.11904761904761904,
          0.14285714285714285,
          0.14285714285714285,
          0.19047619047619047,
          0.21428571428571427,
          0.21428571428571427,
          0.23809523809523808,
          0.23809523809523808,
          0.30952380952380953,
          0.30952380952380953,
          0.3333333333333333,
          0.3333333333333333,
          0.35714285714285715,
          0.35714285714285715,
          0.38095238095238093,
          0.38095238095238093,
          0.40476190476190477,
          0.40476190476190477,
          0.42857142857142855,
          0.42857142857142855,
          0.4523809523809524,
          0.4523809523809524,
          0.47619047619047616,
          0.47619047619047616,
          0.5238095238095238,
          0.5238095238095238,
          0.5476190476190477,
          0.5714285714285714,
          0.5714285714285714,
          0.5952380952380952,
          0.5952380952380952,
          0.6666666666666666,
          0.6666666666666666,
          0.6904761904761905,
          0.6904761904761905,
          0.7380952380952381,
          0.7619047619047619,
          0.7619047619047619,
          0.8095238095238095,
          0.8095238095238095,
          0.8333333333333334,
          0.8333333333333334,
          0.8571428571428571,
          0.8571428571428571,
          0.9047619047619048,
          0.9047619047619048,
          0.9523809523809523,
          0.9523809523809523,
          1,
          1
         ],
         "y": [
          0,
          0.014285714285714285,
          0.02857142857142857,
          0.02857142857142857,
          0.05714285714285714,
          0.11428571428571428,
          0.14285714285714285,
          0.15714285714285714,
          0.15714285714285714,
          0.17142857142857143,
          0.17142857142857143,
          0.2,
          0.2,
          0.2,
          0.21428571428571427,
          0.24285714285714285,
          0.3142857142857143,
          0.3142857142857143,
          0.35714285714285715,
          0.35714285714285715,
          0.37142857142857144,
          0.38571428571428573,
          0.4,
          0.4,
          0.42857142857142855,
          0.42857142857142855,
          0.44285714285714284,
          0.44285714285714284,
          0.4857142857142857,
          0.4857142857142857,
          0.5142857142857142,
          0.5285714285714286,
          0.6571428571428571,
          0.6571428571428571,
          0.6714285714285714,
          0.6714285714285714,
          0.6857142857142857,
          0.7,
          0.7142857142857143,
          0.7285714285714285,
          0.7285714285714285,
          0.7428571428571429,
          0.7428571428571429,
          0.7571428571428571,
          0.7857142857142857,
          0.7857142857142857,
          0.8,
          0.8,
          0.8142857142857143,
          0.8142857142857143,
          0.8571428571428571,
          0.8571428571428571,
          0.8857142857142857,
          0.8857142857142857,
          0.9,
          0.9,
          0.9428571428571428,
          0.9428571428571428,
          1
         ]
        },
        {
         "line": {
          "color": "red",
          "dash": "dash"
         },
         "mode": "lines",
         "name": "random",
         "type": "scatter",
         "x": [
          0,
          1
         ],
         "y": [
          0,
          1
         ]
        },
        {
         "line": {
          "color": "red",
          "dash": "dash"
         },
         "mode": "lines",
         "name": "random",
         "type": "scatter",
         "x": [
          0,
          1
         ],
         "y": [
          0,
          1
         ]
        },
        {
         "line": {
          "color": "black",
          "dash": "dash",
          "width": 1
         },
         "mode": "lines",
         "showlegend": false,
         "type": "scatter",
         "x": [
          0,
          1
         ],
         "y": [
          0,
          0
         ]
        },
        {
         "line": {
          "color": "black",
          "dash": "dash",
          "width": 1
         },
         "mode": "lines",
         "showlegend": false,
         "type": "scatter",
         "x": [
          0,
          1
         ],
         "y": [
          1,
          1
         ]
        },
        {
         "line": {
          "color": "black",
          "dash": "dash",
          "width": 1
         },
         "mode": "lines",
         "showlegend": false,
         "type": "scatter",
         "x": [
          0,
          0
         ],
         "y": [
          0,
          1
         ]
        },
        {
         "line": {
          "color": "black",
          "dash": "dash",
          "width": 1
         },
         "mode": "lines",
         "showlegend": false,
         "type": "scatter",
         "x": [
          1,
          1
         ],
         "y": [
          0,
          1
         ]
        },
        {
         "line": {
          "color": "black",
          "dash": "dash"
         },
         "mode": "lines",
         "name": "random",
         "type": "scatter",
         "x": [
          0,
          1
         ],
         "y": [
          0,
          1
         ]
        },
        {
         "line": {
          "color": "black",
          "dash": "dash",
          "width": 1
         },
         "mode": "lines",
         "showlegend": false,
         "type": "scatter",
         "x": [
          0,
          1
         ],
         "y": [
          0,
          0
         ]
        },
        {
         "line": {
          "color": "black",
          "dash": "dash",
          "width": 1
         },
         "mode": "lines",
         "showlegend": false,
         "type": "scatter",
         "x": [
          0,
          1
         ],
         "y": [
          1,
          1
         ]
        },
        {
         "line": {
          "color": "black",
          "dash": "dash",
          "width": 1
         },
         "mode": "lines",
         "showlegend": false,
         "type": "scatter",
         "x": [
          0,
          0
         ],
         "y": [
          0,
          1
         ]
        },
        {
         "line": {
          "color": "black",
          "dash": "dash",
          "width": 1
         },
         "mode": "lines",
         "showlegend": false,
         "type": "scatter",
         "x": [
          1,
          1
         ],
         "y": [
          0,
          1
         ]
        }
       ],
       "layout": {
        "legend": {
         "itemsizing": "constant"
        },
        "template": {
         "data": {
          "bar": [
           {
            "error_x": {
             "color": "#2a3f5f"
            },
            "error_y": {
             "color": "#2a3f5f"
            },
            "marker": {
             "line": {
              "color": "#E5ECF6",
              "width": 0.5
             }
            },
            "type": "bar"
           }
          ],
          "barpolar": [
           {
            "marker": {
             "line": {
              "color": "#E5ECF6",
              "width": 0.5
             }
            },
            "type": "barpolar"
           }
          ],
          "carpet": [
           {
            "aaxis": {
             "endlinecolor": "#2a3f5f",
             "gridcolor": "white",
             "linecolor": "white",
             "minorgridcolor": "white",
             "startlinecolor": "#2a3f5f"
            },
            "baxis": {
             "endlinecolor": "#2a3f5f",
             "gridcolor": "white",
             "linecolor": "white",
             "minorgridcolor": "white",
             "startlinecolor": "#2a3f5f"
            },
            "type": "carpet"
           }
          ],
          "choropleth": [
           {
            "colorbar": {
             "outlinewidth": 0,
             "ticks": ""
            },
            "type": "choropleth"
           }
          ],
          "contour": [
           {
            "colorbar": {
             "outlinewidth": 0,
             "ticks": ""
            },
            "colorscale": [
             [
              0,
              "#0d0887"
             ],
             [
              0.1111111111111111,
              "#46039f"
             ],
             [
              0.2222222222222222,
              "#7201a8"
             ],
             [
              0.3333333333333333,
              "#9c179e"
             ],
             [
              0.4444444444444444,
              "#bd3786"
             ],
             [
              0.5555555555555556,
              "#d8576b"
             ],
             [
              0.6666666666666666,
              "#ed7953"
             ],
             [
              0.7777777777777778,
              "#fb9f3a"
             ],
             [
              0.8888888888888888,
              "#fdca26"
             ],
             [
              1,
              "#f0f921"
             ]
            ],
            "type": "contour"
           }
          ],
          "contourcarpet": [
           {
            "colorbar": {
             "outlinewidth": 0,
             "ticks": ""
            },
            "type": "contourcarpet"
           }
          ],
          "heatmap": [
           {
            "colorbar": {
             "outlinewidth": 0,
             "ticks": ""
            },
            "colorscale": [
             [
              0,
              "#0d0887"
             ],
             [
              0.1111111111111111,
              "#46039f"
             ],
             [
              0.2222222222222222,
              "#7201a8"
             ],
             [
              0.3333333333333333,
              "#9c179e"
             ],
             [
              0.4444444444444444,
              "#bd3786"
             ],
             [
              0.5555555555555556,
              "#d8576b"
             ],
             [
              0.6666666666666666,
              "#ed7953"
             ],
             [
              0.7777777777777778,
              "#fb9f3a"
             ],
             [
              0.8888888888888888,
              "#fdca26"
             ],
             [
              1,
              "#f0f921"
             ]
            ],
            "type": "heatmap"
           }
          ],
          "heatmapgl": [
           {
            "colorbar": {
             "outlinewidth": 0,
             "ticks": ""
            },
            "colorscale": [
             [
              0,
              "#0d0887"
             ],
             [
              0.1111111111111111,
              "#46039f"
             ],
             [
              0.2222222222222222,
              "#7201a8"
             ],
             [
              0.3333333333333333,
              "#9c179e"
             ],
             [
              0.4444444444444444,
              "#bd3786"
             ],
             [
              0.5555555555555556,
              "#d8576b"
             ],
             [
              0.6666666666666666,
              "#ed7953"
             ],
             [
              0.7777777777777778,
              "#fb9f3a"
             ],
             [
              0.8888888888888888,
              "#fdca26"
             ],
             [
              1,
              "#f0f921"
             ]
            ],
            "type": "heatmapgl"
           }
          ],
          "histogram": [
           {
            "marker": {
             "colorbar": {
              "outlinewidth": 0,
              "ticks": ""
             }
            },
            "type": "histogram"
           }
          ],
          "histogram2d": [
           {
            "colorbar": {
             "outlinewidth": 0,
             "ticks": ""
            },
            "colorscale": [
             [
              0,
              "#0d0887"
             ],
             [
              0.1111111111111111,
              "#46039f"
             ],
             [
              0.2222222222222222,
              "#7201a8"
             ],
             [
              0.3333333333333333,
              "#9c179e"
             ],
             [
              0.4444444444444444,
              "#bd3786"
             ],
             [
              0.5555555555555556,
              "#d8576b"
             ],
             [
              0.6666666666666666,
              "#ed7953"
             ],
             [
              0.7777777777777778,
              "#fb9f3a"
             ],
             [
              0.8888888888888888,
              "#fdca26"
             ],
             [
              1,
              "#f0f921"
             ]
            ],
            "type": "histogram2d"
           }
          ],
          "histogram2dcontour": [
           {
            "colorbar": {
             "outlinewidth": 0,
             "ticks": ""
            },
            "colorscale": [
             [
              0,
              "#0d0887"
             ],
             [
              0.1111111111111111,
              "#46039f"
             ],
             [
              0.2222222222222222,
              "#7201a8"
             ],
             [
              0.3333333333333333,
              "#9c179e"
             ],
             [
              0.4444444444444444,
              "#bd3786"
             ],
             [
              0.5555555555555556,
              "#d8576b"
             ],
             [
              0.6666666666666666,
              "#ed7953"
             ],
             [
              0.7777777777777778,
              "#fb9f3a"
             ],
             [
              0.8888888888888888,
              "#fdca26"
             ],
             [
              1,
              "#f0f921"
             ]
            ],
            "type": "histogram2dcontour"
           }
          ],
          "mesh3d": [
           {
            "colorbar": {
             "outlinewidth": 0,
             "ticks": ""
            },
            "type": "mesh3d"
           }
          ],
          "parcoords": [
           {
            "line": {
             "colorbar": {
              "outlinewidth": 0,
              "ticks": ""
             }
            },
            "type": "parcoords"
           }
          ],
          "pie": [
           {
            "automargin": true,
            "type": "pie"
           }
          ],
          "scatter": [
           {
            "marker": {
             "colorbar": {
              "outlinewidth": 0,
              "ticks": ""
             }
            },
            "type": "scatter"
           }
          ],
          "scatter3d": [
           {
            "line": {
             "colorbar": {
              "outlinewidth": 0,
              "ticks": ""
             }
            },
            "marker": {
             "colorbar": {
              "outlinewidth": 0,
              "ticks": ""
             }
            },
            "type": "scatter3d"
           }
          ],
          "scattercarpet": [
           {
            "marker": {
             "colorbar": {
              "outlinewidth": 0,
              "ticks": ""
             }
            },
            "type": "scattercarpet"
           }
          ],
          "scattergeo": [
           {
            "marker": {
             "colorbar": {
              "outlinewidth": 0,
              "ticks": ""
             }
            },
            "type": "scattergeo"
           }
          ],
          "scattergl": [
           {
            "marker": {
             "colorbar": {
              "outlinewidth": 0,
              "ticks": ""
             }
            },
            "type": "scattergl"
           }
          ],
          "scattermapbox": [
           {
            "marker": {
             "colorbar": {
              "outlinewidth": 0,
              "ticks": ""
             }
            },
            "type": "scattermapbox"
           }
          ],
          "scatterpolar": [
           {
            "marker": {
             "colorbar": {
              "outlinewidth": 0,
              "ticks": ""
             }
            },
            "type": "scatterpolar"
           }
          ],
          "scatterpolargl": [
           {
            "marker": {
             "colorbar": {
              "outlinewidth": 0,
              "ticks": ""
             }
            },
            "type": "scatterpolargl"
           }
          ],
          "scatterternary": [
           {
            "marker": {
             "colorbar": {
              "outlinewidth": 0,
              "ticks": ""
             }
            },
            "type": "scatterternary"
           }
          ],
          "surface": [
           {
            "colorbar": {
             "outlinewidth": 0,
             "ticks": ""
            },
            "colorscale": [
             [
              0,
              "#0d0887"
             ],
             [
              0.1111111111111111,
              "#46039f"
             ],
             [
              0.2222222222222222,
              "#7201a8"
             ],
             [
              0.3333333333333333,
              "#9c179e"
             ],
             [
              0.4444444444444444,
              "#bd3786"
             ],
             [
              0.5555555555555556,
              "#d8576b"
             ],
             [
              0.6666666666666666,
              "#ed7953"
             ],
             [
              0.7777777777777778,
              "#fb9f3a"
             ],
             [
              0.8888888888888888,
              "#fdca26"
             ],
             [
              1,
              "#f0f921"
             ]
            ],
            "type": "surface"
           }
          ],
          "table": [
           {
            "cells": {
             "fill": {
              "color": "#EBF0F8"
             },
             "line": {
              "color": "white"
             }
            },
            "header": {
             "fill": {
              "color": "#C8D4E3"
             },
             "line": {
              "color": "white"
             }
            },
            "type": "table"
           }
          ]
         },
         "layout": {
          "annotationdefaults": {
           "arrowcolor": "#2a3f5f",
           "arrowhead": 0,
           "arrowwidth": 1
          },
          "coloraxis": {
           "colorbar": {
            "outlinewidth": 0,
            "ticks": ""
           }
          },
          "colorscale": {
           "diverging": [
            [
             0,
             "#8e0152"
            ],
            [
             0.1,
             "#c51b7d"
            ],
            [
             0.2,
             "#de77ae"
            ],
            [
             0.3,
             "#f1b6da"
            ],
            [
             0.4,
             "#fde0ef"
            ],
            [
             0.5,
             "#f7f7f7"
            ],
            [
             0.6,
             "#e6f5d0"
            ],
            [
             0.7,
             "#b8e186"
            ],
            [
             0.8,
             "#7fbc41"
            ],
            [
             0.9,
             "#4d9221"
            ],
            [
             1,
             "#276419"
            ]
           ],
           "sequential": [
            [
             0,
             "#0d0887"
            ],
            [
             0.1111111111111111,
             "#46039f"
            ],
            [
             0.2222222222222222,
             "#7201a8"
            ],
            [
             0.3333333333333333,
             "#9c179e"
            ],
            [
             0.4444444444444444,
             "#bd3786"
            ],
            [
             0.5555555555555556,
             "#d8576b"
            ],
            [
             0.6666666666666666,
             "#ed7953"
            ],
            [
             0.7777777777777778,
             "#fb9f3a"
            ],
            [
             0.8888888888888888,
             "#fdca26"
            ],
            [
             1,
             "#f0f921"
            ]
           ],
           "sequentialminus": [
            [
             0,
             "#0d0887"
            ],
            [
             0.1111111111111111,
             "#46039f"
            ],
            [
             0.2222222222222222,
             "#7201a8"
            ],
            [
             0.3333333333333333,
             "#9c179e"
            ],
            [
             0.4444444444444444,
             "#bd3786"
            ],
            [
             0.5555555555555556,
             "#d8576b"
            ],
            [
             0.6666666666666666,
             "#ed7953"
            ],
            [
             0.7777777777777778,
             "#fb9f3a"
            ],
            [
             0.8888888888888888,
             "#fdca26"
            ],
            [
             1,
             "#f0f921"
            ]
           ]
          },
          "colorway": [
           "#636efa",
           "#EF553B",
           "#00cc96",
           "#ab63fa",
           "#FFA15A",
           "#19d3f3",
           "#FF6692",
           "#B6E880",
           "#FF97FF",
           "#FECB52"
          ],
          "font": {
           "color": "#2a3f5f"
          },
          "geo": {
           "bgcolor": "white",
           "lakecolor": "white",
           "landcolor": "#E5ECF6",
           "showlakes": true,
           "showland": true,
           "subunitcolor": "white"
          },
          "hoverlabel": {
           "align": "left"
          },
          "hovermode": "closest",
          "mapbox": {
           "style": "light"
          },
          "paper_bgcolor": "white",
          "plot_bgcolor": "#E5ECF6",
          "polar": {
           "angularaxis": {
            "gridcolor": "white",
            "linecolor": "white",
            "ticks": ""
           },
           "bgcolor": "#E5ECF6",
           "radialaxis": {
            "gridcolor": "white",
            "linecolor": "white",
            "ticks": ""
           }
          },
          "scene": {
           "xaxis": {
            "backgroundcolor": "#E5ECF6",
            "gridcolor": "white",
            "gridwidth": 2,
            "linecolor": "white",
            "showbackground": true,
            "ticks": "",
            "zerolinecolor": "white"
           },
           "yaxis": {
            "backgroundcolor": "#E5ECF6",
            "gridcolor": "white",
            "gridwidth": 2,
            "linecolor": "white",
            "showbackground": true,
            "ticks": "",
            "zerolinecolor": "white"
           },
           "zaxis": {
            "backgroundcolor": "#E5ECF6",
            "gridcolor": "white",
            "gridwidth": 2,
            "linecolor": "white",
            "showbackground": true,
            "ticks": "",
            "zerolinecolor": "white"
           }
          },
          "shapedefaults": {
           "line": {
            "color": "#2a3f5f"
           }
          },
          "ternary": {
           "aaxis": {
            "gridcolor": "white",
            "linecolor": "white",
            "ticks": ""
           },
           "baxis": {
            "gridcolor": "white",
            "linecolor": "white",
            "ticks": ""
           },
           "bgcolor": "#E5ECF6",
           "caxis": {
            "gridcolor": "white",
            "linecolor": "white",
            "ticks": ""
           }
          },
          "title": {
           "x": 0.05
          },
          "xaxis": {
           "automargin": true,
           "gridcolor": "white",
           "linecolor": "white",
           "ticks": "",
           "title": {
            "standoff": 15
           },
           "zerolinecolor": "white",
           "zerolinewidth": 2
          },
          "yaxis": {
           "automargin": true,
           "gridcolor": "white",
           "linecolor": "white",
           "ticks": "",
           "title": {
            "standoff": 15
           },
           "zerolinecolor": "white",
           "zerolinewidth": 2
          }
         }
        },
        "title": {
         "text": "Receiver operating characteristic (ROC) curve"
        },
        "xaxis": {
         "range": [
          -0.05,
          1.05
         ],
         "title": {
          "text": "False Positive Rate"
         }
        },
        "yaxis": {
         "range": [
          -0.05,
          1.05
         ],
         "title": {
          "text": "True Positive Rate"
         }
        }
       }
      },
      "text/html": [
       "<div>                            <div id=\"114f1d6f-c26d-4eb5-9c8f-1455d94131e2\" class=\"plotly-graph-div\" style=\"height:525px; width:100%;\"></div>            <script type=\"text/javascript\">                require([\"plotly\"], function(Plotly) {                    window.PLOTLYENV=window.PLOTLYENV || {};                                    if (document.getElementById(\"114f1d6f-c26d-4eb5-9c8f-1455d94131e2\")) {                    Plotly.newPlot(                        \"114f1d6f-c26d-4eb5-9c8f-1455d94131e2\",                        [{\"mode\": \"lines\", \"name\": \"Logistic Regression\", \"type\": \"scatter\", \"x\": [0.0, 0.0, 0.023809523809523808, 0.023809523809523808, 0.047619047619047616, 0.047619047619047616, 0.07142857142857142, 0.09523809523809523, 0.11904761904761904, 0.14285714285714285, 0.23809523809523808, 0.2619047619047619, 0.2619047619047619, 0.2857142857142857, 0.3333333333333333, 0.35714285714285715, 0.35714285714285715, 0.35714285714285715, 0.38095238095238093, 0.40476190476190477, 0.42857142857142855, 0.4523809523809524, 0.47619047619047616, 0.47619047619047616, 0.47619047619047616, 0.5, 0.6190476190476191, 0.6190476190476191, 0.6904761904761905, 0.7380952380952381, 0.7619047619047619, 0.8333333333333334, 0.8333333333333334, 0.8809523809523809, 0.9523809523809523, 0.9523809523809523, 1.0, 1.0, 1.0], \"y\": [0.0, 0.014285714285714285, 0.014285714285714285, 0.02857142857142857, 0.1, 0.11428571428571428, 0.17142857142857143, 0.21428571428571427, 0.21428571428571427, 0.2714285714285714, 0.2714285714285714, 0.3, 0.32857142857142857, 0.34285714285714286, 0.4, 0.4, 0.4142857142857143, 0.4714285714285714, 0.4857142857142857, 0.4857142857142857, 0.5142857142857142, 0.5142857142857142, 0.5571428571428572, 0.6428571428571429, 0.6571428571428571, 0.6714285714285714, 0.7142857142857143, 0.7285714285714285, 0.7714285714285715, 0.8, 0.8, 0.8142857142857143, 0.8714285714285714, 0.8857142857142857, 0.9142857142857143, 0.9428571428571428, 0.9571428571428572, 0.9857142857142858, 1.0]}, {\"mode\": \"lines\", \"name\": \"Logistic Regression 2\", \"type\": \"scatter\", \"x\": [0.0, 0.0, 0.0, 0.023809523809523808, 0.047619047619047616, 0.047619047619047616, 0.07142857142857142, 0.07142857142857142, 0.11904761904761904, 0.11904761904761904, 0.14285714285714285, 0.14285714285714285, 0.19047619047619047, 0.21428571428571427, 0.21428571428571427, 0.23809523809523808, 0.23809523809523808, 0.30952380952380953, 0.30952380952380953, 0.3333333333333333, 0.3333333333333333, 0.35714285714285715, 0.35714285714285715, 0.38095238095238093, 0.38095238095238093, 0.40476190476190477, 0.40476190476190477, 0.42857142857142855, 0.42857142857142855, 0.4523809523809524, 0.4523809523809524, 0.47619047619047616, 0.47619047619047616, 0.5238095238095238, 0.5238095238095238, 0.5476190476190477, 0.5714285714285714, 0.5714285714285714, 0.5952380952380952, 0.5952380952380952, 0.6666666666666666, 0.6666666666666666, 0.6904761904761905, 0.6904761904761905, 0.7380952380952381, 0.7619047619047619, 0.7619047619047619, 0.8095238095238095, 0.8095238095238095, 0.8333333333333334, 0.8333333333333334, 0.8571428571428571, 0.8571428571428571, 0.9047619047619048, 0.9047619047619048, 0.9523809523809523, 0.9523809523809523, 1.0, 1.0], \"y\": [0.0, 0.014285714285714285, 0.02857142857142857, 0.02857142857142857, 0.05714285714285714, 0.11428571428571428, 0.14285714285714285, 0.15714285714285714, 0.15714285714285714, 0.17142857142857143, 0.17142857142857143, 0.2, 0.2, 0.2, 0.21428571428571427, 0.24285714285714285, 0.3142857142857143, 0.3142857142857143, 0.35714285714285715, 0.35714285714285715, 0.37142857142857144, 0.38571428571428573, 0.4, 0.4, 0.42857142857142855, 0.42857142857142855, 0.44285714285714284, 0.44285714285714284, 0.4857142857142857, 0.4857142857142857, 0.5142857142857142, 0.5285714285714286, 0.6571428571428571, 0.6571428571428571, 0.6714285714285714, 0.6714285714285714, 0.6857142857142857, 0.7, 0.7142857142857143, 0.7285714285714285, 0.7285714285714285, 0.7428571428571429, 0.7428571428571429, 0.7571428571428571, 0.7857142857142857, 0.7857142857142857, 0.8, 0.8, 0.8142857142857143, 0.8142857142857143, 0.8571428571428571, 0.8571428571428571, 0.8857142857142857, 0.8857142857142857, 0.9, 0.9, 0.9428571428571428, 0.9428571428571428, 1.0]}, {\"line\": {\"color\": \"red\", \"dash\": \"dash\"}, \"mode\": \"lines\", \"name\": \"random\", \"type\": \"scatter\", \"x\": [0, 1], \"y\": [0, 1]}, {\"line\": {\"color\": \"red\", \"dash\": \"dash\"}, \"mode\": \"lines\", \"name\": \"random\", \"type\": \"scatter\", \"x\": [0, 1], \"y\": [0, 1]}, {\"line\": {\"color\": \"black\", \"dash\": \"dash\", \"width\": 1}, \"mode\": \"lines\", \"showlegend\": false, \"type\": \"scatter\", \"x\": [0, 1], \"y\": [0, 0]}, {\"line\": {\"color\": \"black\", \"dash\": \"dash\", \"width\": 1}, \"mode\": \"lines\", \"showlegend\": false, \"type\": \"scatter\", \"x\": [0, 1], \"y\": [1, 1]}, {\"line\": {\"color\": \"black\", \"dash\": \"dash\", \"width\": 1}, \"mode\": \"lines\", \"showlegend\": false, \"type\": \"scatter\", \"x\": [0, 0], \"y\": [0, 1]}, {\"line\": {\"color\": \"black\", \"dash\": \"dash\", \"width\": 1}, \"mode\": \"lines\", \"showlegend\": false, \"type\": \"scatter\", \"x\": [1, 1], \"y\": [0, 1]}, {\"line\": {\"color\": \"black\", \"dash\": \"dash\"}, \"mode\": \"lines\", \"name\": \"random\", \"type\": \"scatter\", \"x\": [0, 1], \"y\": [0, 1]}, {\"line\": {\"color\": \"black\", \"dash\": \"dash\", \"width\": 1}, \"mode\": \"lines\", \"showlegend\": false, \"type\": \"scatter\", \"x\": [0, 1], \"y\": [0, 0]}, {\"line\": {\"color\": \"black\", \"dash\": \"dash\", \"width\": 1}, \"mode\": \"lines\", \"showlegend\": false, \"type\": \"scatter\", \"x\": [0, 1], \"y\": [1, 1]}, {\"line\": {\"color\": \"black\", \"dash\": \"dash\", \"width\": 1}, \"mode\": \"lines\", \"showlegend\": false, \"type\": \"scatter\", \"x\": [0, 0], \"y\": [0, 1]}, {\"line\": {\"color\": \"black\", \"dash\": \"dash\", \"width\": 1}, \"mode\": \"lines\", \"showlegend\": false, \"type\": \"scatter\", \"x\": [1, 1], \"y\": [0, 1]}],                        {\"legend\": {\"itemsizing\": \"constant\"}, \"template\": {\"data\": {\"bar\": [{\"error_x\": {\"color\": \"#2a3f5f\"}, \"error_y\": {\"color\": \"#2a3f5f\"}, \"marker\": {\"line\": {\"color\": \"#E5ECF6\", \"width\": 0.5}}, \"type\": \"bar\"}], \"barpolar\": [{\"marker\": {\"line\": {\"color\": \"#E5ECF6\", \"width\": 0.5}}, \"type\": \"barpolar\"}], \"carpet\": [{\"aaxis\": {\"endlinecolor\": \"#2a3f5f\", \"gridcolor\": \"white\", \"linecolor\": \"white\", \"minorgridcolor\": \"white\", \"startlinecolor\": \"#2a3f5f\"}, \"baxis\": {\"endlinecolor\": \"#2a3f5f\", \"gridcolor\": \"white\", \"linecolor\": \"white\", \"minorgridcolor\": \"white\", \"startlinecolor\": \"#2a3f5f\"}, \"type\": \"carpet\"}], \"choropleth\": [{\"colorbar\": {\"outlinewidth\": 0, \"ticks\": \"\"}, \"type\": \"choropleth\"}], \"contour\": [{\"colorbar\": {\"outlinewidth\": 0, \"ticks\": \"\"}, \"colorscale\": [[0.0, \"#0d0887\"], [0.1111111111111111, \"#46039f\"], [0.2222222222222222, \"#7201a8\"], [0.3333333333333333, \"#9c179e\"], [0.4444444444444444, \"#bd3786\"], [0.5555555555555556, \"#d8576b\"], [0.6666666666666666, \"#ed7953\"], [0.7777777777777778, \"#fb9f3a\"], [0.8888888888888888, \"#fdca26\"], [1.0, \"#f0f921\"]], \"type\": \"contour\"}], \"contourcarpet\": [{\"colorbar\": {\"outlinewidth\": 0, \"ticks\": \"\"}, \"type\": \"contourcarpet\"}], \"heatmap\": [{\"colorbar\": {\"outlinewidth\": 0, \"ticks\": \"\"}, \"colorscale\": [[0.0, \"#0d0887\"], [0.1111111111111111, \"#46039f\"], [0.2222222222222222, \"#7201a8\"], [0.3333333333333333, \"#9c179e\"], [0.4444444444444444, \"#bd3786\"], [0.5555555555555556, \"#d8576b\"], [0.6666666666666666, \"#ed7953\"], [0.7777777777777778, \"#fb9f3a\"], [0.8888888888888888, \"#fdca26\"], [1.0, \"#f0f921\"]], \"type\": \"heatmap\"}], \"heatmapgl\": [{\"colorbar\": {\"outlinewidth\": 0, \"ticks\": \"\"}, \"colorscale\": [[0.0, \"#0d0887\"], [0.1111111111111111, \"#46039f\"], [0.2222222222222222, \"#7201a8\"], [0.3333333333333333, \"#9c179e\"], [0.4444444444444444, \"#bd3786\"], [0.5555555555555556, \"#d8576b\"], [0.6666666666666666, \"#ed7953\"], [0.7777777777777778, \"#fb9f3a\"], [0.8888888888888888, \"#fdca26\"], [1.0, \"#f0f921\"]], \"type\": \"heatmapgl\"}], \"histogram\": [{\"marker\": {\"colorbar\": {\"outlinewidth\": 0, \"ticks\": \"\"}}, \"type\": \"histogram\"}], \"histogram2d\": [{\"colorbar\": {\"outlinewidth\": 0, \"ticks\": \"\"}, \"colorscale\": [[0.0, \"#0d0887\"], [0.1111111111111111, \"#46039f\"], [0.2222222222222222, \"#7201a8\"], [0.3333333333333333, \"#9c179e\"], [0.4444444444444444, \"#bd3786\"], [0.5555555555555556, \"#d8576b\"], [0.6666666666666666, \"#ed7953\"], [0.7777777777777778, \"#fb9f3a\"], [0.8888888888888888, \"#fdca26\"], [1.0, \"#f0f921\"]], \"type\": \"histogram2d\"}], \"histogram2dcontour\": [{\"colorbar\": {\"outlinewidth\": 0, \"ticks\": \"\"}, \"colorscale\": [[0.0, \"#0d0887\"], [0.1111111111111111, \"#46039f\"], [0.2222222222222222, \"#7201a8\"], [0.3333333333333333, \"#9c179e\"], [0.4444444444444444, \"#bd3786\"], [0.5555555555555556, \"#d8576b\"], [0.6666666666666666, \"#ed7953\"], [0.7777777777777778, \"#fb9f3a\"], [0.8888888888888888, \"#fdca26\"], [1.0, \"#f0f921\"]], \"type\": \"histogram2dcontour\"}], \"mesh3d\": [{\"colorbar\": {\"outlinewidth\": 0, \"ticks\": \"\"}, \"type\": \"mesh3d\"}], \"parcoords\": [{\"line\": {\"colorbar\": {\"outlinewidth\": 0, \"ticks\": \"\"}}, \"type\": \"parcoords\"}], \"pie\": [{\"automargin\": true, \"type\": \"pie\"}], \"scatter\": [{\"marker\": {\"colorbar\": {\"outlinewidth\": 0, \"ticks\": \"\"}}, \"type\": \"scatter\"}], \"scatter3d\": [{\"line\": {\"colorbar\": {\"outlinewidth\": 0, \"ticks\": \"\"}}, \"marker\": {\"colorbar\": {\"outlinewidth\": 0, \"ticks\": \"\"}}, \"type\": \"scatter3d\"}], \"scattercarpet\": [{\"marker\": {\"colorbar\": {\"outlinewidth\": 0, \"ticks\": \"\"}}, \"type\": \"scattercarpet\"}], \"scattergeo\": [{\"marker\": {\"colorbar\": {\"outlinewidth\": 0, \"ticks\": \"\"}}, \"type\": \"scattergeo\"}], \"scattergl\": [{\"marker\": {\"colorbar\": {\"outlinewidth\": 0, \"ticks\": \"\"}}, \"type\": \"scattergl\"}], \"scattermapbox\": [{\"marker\": {\"colorbar\": {\"outlinewidth\": 0, \"ticks\": \"\"}}, \"type\": \"scattermapbox\"}], \"scatterpolar\": [{\"marker\": {\"colorbar\": {\"outlinewidth\": 0, \"ticks\": \"\"}}, \"type\": \"scatterpolar\"}], \"scatterpolargl\": [{\"marker\": {\"colorbar\": {\"outlinewidth\": 0, \"ticks\": \"\"}}, \"type\": \"scatterpolargl\"}], \"scatterternary\": [{\"marker\": {\"colorbar\": {\"outlinewidth\": 0, \"ticks\": \"\"}}, \"type\": \"scatterternary\"}], \"surface\": [{\"colorbar\": {\"outlinewidth\": 0, \"ticks\": \"\"}, \"colorscale\": [[0.0, \"#0d0887\"], [0.1111111111111111, \"#46039f\"], [0.2222222222222222, \"#7201a8\"], [0.3333333333333333, \"#9c179e\"], [0.4444444444444444, \"#bd3786\"], [0.5555555555555556, \"#d8576b\"], [0.6666666666666666, \"#ed7953\"], [0.7777777777777778, \"#fb9f3a\"], [0.8888888888888888, \"#fdca26\"], [1.0, \"#f0f921\"]], \"type\": \"surface\"}], \"table\": [{\"cells\": {\"fill\": {\"color\": \"#EBF0F8\"}, \"line\": {\"color\": \"white\"}}, \"header\": {\"fill\": {\"color\": \"#C8D4E3\"}, \"line\": {\"color\": \"white\"}}, \"type\": \"table\"}]}, \"layout\": {\"annotationdefaults\": {\"arrowcolor\": \"#2a3f5f\", \"arrowhead\": 0, \"arrowwidth\": 1}, \"coloraxis\": {\"colorbar\": {\"outlinewidth\": 0, \"ticks\": \"\"}}, \"colorscale\": {\"diverging\": [[0, \"#8e0152\"], [0.1, \"#c51b7d\"], [0.2, \"#de77ae\"], [0.3, \"#f1b6da\"], [0.4, \"#fde0ef\"], [0.5, \"#f7f7f7\"], [0.6, \"#e6f5d0\"], [0.7, \"#b8e186\"], [0.8, \"#7fbc41\"], [0.9, \"#4d9221\"], [1, \"#276419\"]], \"sequential\": [[0.0, \"#0d0887\"], [0.1111111111111111, \"#46039f\"], [0.2222222222222222, \"#7201a8\"], [0.3333333333333333, \"#9c179e\"], [0.4444444444444444, \"#bd3786\"], [0.5555555555555556, \"#d8576b\"], [0.6666666666666666, \"#ed7953\"], [0.7777777777777778, \"#fb9f3a\"], [0.8888888888888888, \"#fdca26\"], [1.0, \"#f0f921\"]], \"sequentialminus\": [[0.0, \"#0d0887\"], [0.1111111111111111, \"#46039f\"], [0.2222222222222222, \"#7201a8\"], [0.3333333333333333, \"#9c179e\"], [0.4444444444444444, \"#bd3786\"], [0.5555555555555556, \"#d8576b\"], [0.6666666666666666, \"#ed7953\"], [0.7777777777777778, \"#fb9f3a\"], [0.8888888888888888, \"#fdca26\"], [1.0, \"#f0f921\"]]}, \"colorway\": [\"#636efa\", \"#EF553B\", \"#00cc96\", \"#ab63fa\", \"#FFA15A\", \"#19d3f3\", \"#FF6692\", \"#B6E880\", \"#FF97FF\", \"#FECB52\"], \"font\": {\"color\": \"#2a3f5f\"}, \"geo\": {\"bgcolor\": \"white\", \"lakecolor\": \"white\", \"landcolor\": \"#E5ECF6\", \"showlakes\": true, \"showland\": true, \"subunitcolor\": \"white\"}, \"hoverlabel\": {\"align\": \"left\"}, \"hovermode\": \"closest\", \"mapbox\": {\"style\": \"light\"}, \"paper_bgcolor\": \"white\", \"plot_bgcolor\": \"#E5ECF6\", \"polar\": {\"angularaxis\": {\"gridcolor\": \"white\", \"linecolor\": \"white\", \"ticks\": \"\"}, \"bgcolor\": \"#E5ECF6\", \"radialaxis\": {\"gridcolor\": \"white\", \"linecolor\": \"white\", \"ticks\": \"\"}}, \"scene\": {\"xaxis\": {\"backgroundcolor\": \"#E5ECF6\", \"gridcolor\": \"white\", \"gridwidth\": 2, \"linecolor\": \"white\", \"showbackground\": true, \"ticks\": \"\", \"zerolinecolor\": \"white\"}, \"yaxis\": {\"backgroundcolor\": \"#E5ECF6\", \"gridcolor\": \"white\", \"gridwidth\": 2, \"linecolor\": \"white\", \"showbackground\": true, \"ticks\": \"\", \"zerolinecolor\": \"white\"}, \"zaxis\": {\"backgroundcolor\": \"#E5ECF6\", \"gridcolor\": \"white\", \"gridwidth\": 2, \"linecolor\": \"white\", \"showbackground\": true, \"ticks\": \"\", \"zerolinecolor\": \"white\"}}, \"shapedefaults\": {\"line\": {\"color\": \"#2a3f5f\"}}, \"ternary\": {\"aaxis\": {\"gridcolor\": \"white\", \"linecolor\": \"white\", \"ticks\": \"\"}, \"baxis\": {\"gridcolor\": \"white\", \"linecolor\": \"white\", \"ticks\": \"\"}, \"bgcolor\": \"#E5ECF6\", \"caxis\": {\"gridcolor\": \"white\", \"linecolor\": \"white\", \"ticks\": \"\"}}, \"title\": {\"x\": 0.05}, \"xaxis\": {\"automargin\": true, \"gridcolor\": \"white\", \"linecolor\": \"white\", \"ticks\": \"\", \"title\": {\"standoff\": 15}, \"zerolinecolor\": \"white\", \"zerolinewidth\": 2}, \"yaxis\": {\"automargin\": true, \"gridcolor\": \"white\", \"linecolor\": \"white\", \"ticks\": \"\", \"title\": {\"standoff\": 15}, \"zerolinecolor\": \"white\", \"zerolinewidth\": 2}}}, \"title\": {\"text\": \"Receiver operating characteristic (ROC) curve\"}, \"xaxis\": {\"range\": [-0.05, 1.05], \"title\": {\"text\": \"False Positive Rate\"}}, \"yaxis\": {\"range\": [-0.05, 1.05], \"title\": {\"text\": \"True Positive Rate\"}}},                        {\"responsive\": true}                    ).then(function(){\n",
       "                            \n",
       "var gd = document.getElementById('114f1d6f-c26d-4eb5-9c8f-1455d94131e2');\n",
       "var x = new MutationObserver(function (mutations, observer) {{\n",
       "        var display = window.getComputedStyle(gd).display;\n",
       "        if (!display || display === 'none') {{\n",
       "            console.log([gd, 'removed!']);\n",
       "            Plotly.purge(gd);\n",
       "            observer.disconnect();\n",
       "        }}\n",
       "}});\n",
       "\n",
       "// Listen for the removal of the full notebook cells\n",
       "var notebookContainer = gd.closest('#notebook-container');\n",
       "if (notebookContainer) {{\n",
       "    x.observe(notebookContainer, {childList: true});\n",
       "}}\n",
       "\n",
       "// Listen for the clearing of the current output cell\n",
       "var outputEl = gd.closest('.output');\n",
       "if (outputEl) {{\n",
       "    x.observe(outputEl, {childList: true});\n",
       "}}\n",
       "\n",
       "                        })                };                });            </script>        </div>"
      ]
     },
     "metadata": {},
     "output_type": "display_data"
    },
    {
     "data": {
      "application/javascript": [
       "\n",
       "            setTimeout(function() {\n",
       "                var nbb_cell_id = 37;\n",
       "                var nbb_unformatted_code = \"fig_roc_auc_curve.add_trace(\\n    go.Scatter(\\n        x=[0, 1],\\n        y=[0, 1],\\n        mode=\\\"lines\\\",\\n        name=\\\"random\\\",\\n        line=dict(color=\\\"black\\\", dash=\\\"dash\\\"),\\n    )\\n)\\n\\nfig_roc_auc_curve = performance_metrics.add_square(\\n    fig_roc_auc_curve, x0=0, x1=1, y0=0, y1=1\\n)\\n\\nfig_roc_auc_curve.update_layout(\\n    title=\\\"Receiver operating characteristic (ROC) curve\\\",\\n    legend={\\\"itemsizing\\\": \\\"constant\\\"},\\n)\\n\\nfig_roc_auc_curve.update_xaxes(title_text=\\\"False Positive Rate\\\", range=[-0.05, 1.05])\\nfig_roc_auc_curve.update_yaxes(title_text=\\\"True Positive Rate\\\", range=[-0.05, 1.05])\\n\\nfig_roc_auc_curve.show()\";\n",
       "                var nbb_formatted_code = \"fig_roc_auc_curve.add_trace(\\n    go.Scatter(\\n        x=[0, 1],\\n        y=[0, 1],\\n        mode=\\\"lines\\\",\\n        name=\\\"random\\\",\\n        line=dict(color=\\\"black\\\", dash=\\\"dash\\\"),\\n    )\\n)\\n\\nfig_roc_auc_curve = performance_metrics.add_square(\\n    fig_roc_auc_curve, x0=0, x1=1, y0=0, y1=1\\n)\\n\\nfig_roc_auc_curve.update_layout(\\n    title=\\\"Receiver operating characteristic (ROC) curve\\\",\\n    legend={\\\"itemsizing\\\": \\\"constant\\\"},\\n)\\n\\nfig_roc_auc_curve.update_xaxes(title_text=\\\"False Positive Rate\\\", range=[-0.05, 1.05])\\nfig_roc_auc_curve.update_yaxes(title_text=\\\"True Positive Rate\\\", range=[-0.05, 1.05])\\n\\nfig_roc_auc_curve.show()\";\n",
       "                var nbb_cells = Jupyter.notebook.get_cells();\n",
       "                for (var i = 0; i < nbb_cells.length; ++i) {\n",
       "                    if (nbb_cells[i].input_prompt_number == nbb_cell_id) {\n",
       "                        if (nbb_cells[i].get_text() == nbb_unformatted_code) {\n",
       "                             nbb_cells[i].set_text(nbb_formatted_code);\n",
       "                        }\n",
       "                        break;\n",
       "                    }\n",
       "                }\n",
       "            }, 500);\n",
       "            "
      ],
      "text/plain": [
       "<IPython.core.display.Javascript object>"
      ]
     },
     "metadata": {},
     "output_type": "display_data"
    }
   ],
   "source": [
    "fig_roc_auc_curve.add_trace(\n",
    "    go.Scatter(\n",
    "        x=[0, 1],\n",
    "        y=[0, 1],\n",
    "        mode=\"lines\",\n",
    "        name=\"random\",\n",
    "        line=dict(color=\"black\", dash=\"dash\"),\n",
    "    )\n",
    ")\n",
    "\n",
    "fig_roc_auc_curve = performance_metrics.add_square(\n",
    "    fig_roc_auc_curve, x0=0, x1=1, y0=0, y1=1\n",
    ")\n",
    "\n",
    "fig_roc_auc_curve.update_layout(\n",
    "    title=\"Receiver operating characteristic (ROC) curve\",\n",
    "    legend={\"itemsizing\": \"constant\"},\n",
    ")\n",
    "\n",
    "fig_roc_auc_curve.update_xaxes(title_text=\"False Positive Rate\", range=[-0.05, 1.05])\n",
    "fig_roc_auc_curve.update_yaxes(title_text=\"True Positive Rate\", range=[-0.05, 1.05])\n",
    "\n",
    "fig_roc_auc_curve.show()"
   ]
  },
  {
   "cell_type": "markdown",
   "metadata": {},
   "source": [
    "## Precision - Recall curve"
   ]
  },
  {
   "cell_type": "code",
   "execution_count": 38,
   "metadata": {
    "ExecuteTime": {
     "end_time": "2020-10-11T12:49:43.358336Z",
     "start_time": "2020-10-11T12:49:43.293783Z"
    }
   },
   "outputs": [
    {
     "data": {
      "application/vnd.plotly.v1+json": {
       "config": {
        "plotlyServerURL": "https://plot.ly"
       },
       "data": [
        {
         "mode": "lines",
         "name": "Logistic Regression",
         "type": "scatter",
         "x": [
          1,
          0.9857142857142858,
          0.9571428571428572,
          0.9428571428571428,
          0.9285714285714286,
          0.9142857142857143,
          0.8857142857142857,
          0.8714285714285714,
          0.8428571428571429,
          0.8142857142857143,
          0.8,
          0.8,
          0.7714285714285715,
          0.7571428571428571,
          0.7428571428571429,
          0.7285714285714285,
          0.7142857142857143,
          0.6714285714285714,
          0.6571428571428571,
          0.6428571428571429,
          0.6142857142857143,
          0.5857142857142857,
          0.5571428571428572,
          0.5142857142857142,
          0.5142857142857142,
          0.4857142857142857,
          0.4857142857142857,
          0.4714285714285714,
          0.44285714285714284,
          0.4142857142857143,
          0.4,
          0.4,
          0.37142857142857144,
          0.34285714285714286,
          0.32857142857142857,
          0.3,
          0.2714285714285714,
          0.2714285714285714,
          0.21428571428571427,
          0.21428571428571427,
          0.17142857142857143,
          0.11428571428571428,
          0.1,
          0.02857142857142857,
          0.014285714285714285,
          0.014285714285714285,
          0
         ],
         "y": [
          0.625,
          0.6216216216216216,
          0.6146788990825688,
          0.6226415094339622,
          0.6190476190476191,
          0.6153846153846154,
          0.6262626262626263,
          0.6354166666666666,
          0.6276595744680851,
          0.6195652173913043,
          0.6363636363636364,
          0.6436781609195402,
          0.6506024096385542,
          0.654320987654321,
          0.6582278481012658,
          0.6623376623376623,
          0.6578947368421053,
          0.6911764705882353,
          0.696969696969697,
          0.6923076923076923,
          0.6825396825396826,
          0.6721311475409836,
          0.6610169491525424,
          0.6545454545454545,
          0.6666666666666666,
          0.6666666666666666,
          0.68,
          0.6875,
          0.6739130434782609,
          0.6590909090909091,
          0.6511627906976745,
          0.6666666666666666,
          0.6666666666666666,
          0.6666666666666666,
          0.6764705882352942,
          0.65625,
          0.6551724137931034,
          0.76,
          0.75,
          0.7894736842105263,
          0.8,
          0.8,
          0.7777777777777778,
          0.6666666666666666,
          0.5,
          1,
          1
         ]
        },
        {
         "mode": "lines",
         "name": "Logistic Regression 2",
         "type": "scatter",
         "x": [
          1,
          0.9857142857142858,
          0.9714285714285714,
          0.9571428571428572,
          0.9428571428571428,
          0.9428571428571428,
          0.9428571428571428,
          0.9285714285714286,
          0.9142857142857143,
          0.9,
          0.9,
          0.9,
          0.8857142857142857,
          0.8857142857142857,
          0.8857142857142857,
          0.8714285714285714,
          0.8571428571428571,
          0.8571428571428571,
          0.8428571428571429,
          0.8285714285714286,
          0.8142857142857143,
          0.8142857142857143,
          0.8,
          0.8,
          0.8,
          0.7857142857142857,
          0.7857142857142857,
          0.7714285714285715,
          0.7571428571428571,
          0.7428571428571429,
          0.7428571428571429,
          0.7285714285714285,
          0.7285714285714285,
          0.7285714285714285,
          0.7285714285714285,
          0.7142857142857143,
          0.7,
          0.6857142857142857,
          0.6714285714285714,
          0.6714285714285714,
          0.6571428571428571,
          0.6571428571428571,
          0.6571428571428571,
          0.6428571428571429,
          0.6285714285714286,
          0.6142857142857143,
          0.6,
          0.5857142857142857,
          0.5714285714285714,
          0.5571428571428572,
          0.5428571428571428,
          0.5285714285714286,
          0.5142857142857142,
          0.5,
          0.4857142857142857,
          0.4857142857142857,
          0.4714285714285714,
          0.45714285714285713,
          0.44285714285714284,
          0.44285714285714284,
          0.42857142857142855,
          0.42857142857142855,
          0.4142857142857143,
          0.4,
          0.4,
          0.38571428571428573,
          0.37142857142857144,
          0.35714285714285715,
          0.35714285714285715,
          0.34285714285714286,
          0.32857142857142857,
          0.3142857142857143,
          0.3142857142857143,
          0.3142857142857143,
          0.3142857142857143,
          0.3,
          0.2857142857142857,
          0.2714285714285714,
          0.2571428571428571,
          0.24285714285714285,
          0.21428571428571427,
          0.2,
          0.2,
          0.2,
          0.18571428571428572,
          0.17142857142857143,
          0.17142857142857143,
          0.15714285714285714,
          0.15714285714285714,
          0.15714285714285714,
          0.14285714285714285,
          0.11428571428571428,
          0.1,
          0.08571428571428572,
          0.07142857142857142,
          0.05714285714285714,
          0.02857142857142857,
          0.02857142857142857,
          0.014285714285714285,
          0
         ],
         "y": [
          0.625,
          0.6216216216216216,
          0.6181818181818182,
          0.6146788990825688,
          0.6111111111111112,
          0.616822429906542,
          0.6226415094339622,
          0.6190476190476191,
          0.6153846153846154,
          0.6116504854368932,
          0.6176470588235294,
          0.6237623762376238,
          0.62,
          0.6262626262626263,
          0.6326530612244898,
          0.6288659793814433,
          0.625,
          0.631578947368421,
          0.6276595744680851,
          0.6236559139784946,
          0.6195652173913043,
          0.6263736263736264,
          0.6222222222222222,
          0.6292134831460674,
          0.6363636363636364,
          0.632183908045977,
          0.6395348837209303,
          0.6428571428571429,
          0.6463414634146342,
          0.6419753086419753,
          0.65,
          0.6455696202531646,
          0.6538461538461539,
          0.6623376623376623,
          0.6710526315789473,
          0.6666666666666666,
          0.6712328767123288,
          0.6666666666666666,
          0.6714285714285714,
          0.6811594202898551,
          0.6764705882352942,
          0.6865671641791045,
          0.696969696969697,
          0.6923076923076923,
          0.6875,
          0.6825396825396826,
          0.6774193548387096,
          0.6721311475409836,
          0.6666666666666666,
          0.6610169491525424,
          0.6551724137931034,
          0.6491228070175439,
          0.6545454545454545,
          0.6481481481481481,
          0.6415094339622641,
          0.6538461538461539,
          0.6470588235294118,
          0.64,
          0.6326530612244898,
          0.6458333333333334,
          0.6382978723404256,
          0.6521739130434783,
          0.6444444444444445,
          0.6363636363636364,
          0.6511627906976745,
          0.6428571428571429,
          0.65,
          0.6410256410256411,
          0.6578947368421053,
          0.6486486486486487,
          0.6388888888888888,
          0.6285714285714286,
          0.6470588235294118,
          0.6666666666666666,
          0.6875,
          0.6774193548387096,
          0.6666666666666666,
          0.6551724137931034,
          0.6428571428571429,
          0.6296296296296297,
          0.625,
          0.6086956521739131,
          0.6363636363636364,
          0.7,
          0.6842105263157895,
          0.6666666666666666,
          0.7058823529411765,
          0.6875,
          0.7333333333333333,
          0.7857142857142857,
          0.7692307692307693,
          0.8,
          0.7777777777777778,
          0.75,
          0.7142857142857143,
          0.6666666666666666,
          0.6666666666666666,
          1,
          1,
          1
         ]
        },
        {
         "line": {
          "color": "black",
          "dash": "dash",
          "width": 1
         },
         "mode": "lines",
         "showlegend": false,
         "type": "scatter",
         "x": [
          0,
          1
         ],
         "y": [
          0,
          0
         ]
        },
        {
         "line": {
          "color": "black",
          "dash": "dash",
          "width": 1
         },
         "mode": "lines",
         "showlegend": false,
         "type": "scatter",
         "x": [
          0,
          1
         ],
         "y": [
          1,
          1
         ]
        },
        {
         "line": {
          "color": "black",
          "dash": "dash",
          "width": 1
         },
         "mode": "lines",
         "showlegend": false,
         "type": "scatter",
         "x": [
          0,
          0
         ],
         "y": [
          0,
          1
         ]
        },
        {
         "line": {
          "color": "black",
          "dash": "dash",
          "width": 1
         },
         "mode": "lines",
         "showlegend": false,
         "type": "scatter",
         "x": [
          1,
          1
         ],
         "y": [
          0,
          1
         ]
        },
        {
         "line": {
          "color": "black",
          "dash": "dash"
         },
         "mode": "lines",
         "name": "Random precision",
         "type": "scatter",
         "x": [
          0,
          1
         ],
         "y": [
          0.625,
          0.625
         ]
        }
       ],
       "layout": {
        "legend": {
         "itemsizing": "constant"
        },
        "template": {
         "data": {
          "bar": [
           {
            "error_x": {
             "color": "#2a3f5f"
            },
            "error_y": {
             "color": "#2a3f5f"
            },
            "marker": {
             "line": {
              "color": "#E5ECF6",
              "width": 0.5
             }
            },
            "type": "bar"
           }
          ],
          "barpolar": [
           {
            "marker": {
             "line": {
              "color": "#E5ECF6",
              "width": 0.5
             }
            },
            "type": "barpolar"
           }
          ],
          "carpet": [
           {
            "aaxis": {
             "endlinecolor": "#2a3f5f",
             "gridcolor": "white",
             "linecolor": "white",
             "minorgridcolor": "white",
             "startlinecolor": "#2a3f5f"
            },
            "baxis": {
             "endlinecolor": "#2a3f5f",
             "gridcolor": "white",
             "linecolor": "white",
             "minorgridcolor": "white",
             "startlinecolor": "#2a3f5f"
            },
            "type": "carpet"
           }
          ],
          "choropleth": [
           {
            "colorbar": {
             "outlinewidth": 0,
             "ticks": ""
            },
            "type": "choropleth"
           }
          ],
          "contour": [
           {
            "colorbar": {
             "outlinewidth": 0,
             "ticks": ""
            },
            "colorscale": [
             [
              0,
              "#0d0887"
             ],
             [
              0.1111111111111111,
              "#46039f"
             ],
             [
              0.2222222222222222,
              "#7201a8"
             ],
             [
              0.3333333333333333,
              "#9c179e"
             ],
             [
              0.4444444444444444,
              "#bd3786"
             ],
             [
              0.5555555555555556,
              "#d8576b"
             ],
             [
              0.6666666666666666,
              "#ed7953"
             ],
             [
              0.7777777777777778,
              "#fb9f3a"
             ],
             [
              0.8888888888888888,
              "#fdca26"
             ],
             [
              1,
              "#f0f921"
             ]
            ],
            "type": "contour"
           }
          ],
          "contourcarpet": [
           {
            "colorbar": {
             "outlinewidth": 0,
             "ticks": ""
            },
            "type": "contourcarpet"
           }
          ],
          "heatmap": [
           {
            "colorbar": {
             "outlinewidth": 0,
             "ticks": ""
            },
            "colorscale": [
             [
              0,
              "#0d0887"
             ],
             [
              0.1111111111111111,
              "#46039f"
             ],
             [
              0.2222222222222222,
              "#7201a8"
             ],
             [
              0.3333333333333333,
              "#9c179e"
             ],
             [
              0.4444444444444444,
              "#bd3786"
             ],
             [
              0.5555555555555556,
              "#d8576b"
             ],
             [
              0.6666666666666666,
              "#ed7953"
             ],
             [
              0.7777777777777778,
              "#fb9f3a"
             ],
             [
              0.8888888888888888,
              "#fdca26"
             ],
             [
              1,
              "#f0f921"
             ]
            ],
            "type": "heatmap"
           }
          ],
          "heatmapgl": [
           {
            "colorbar": {
             "outlinewidth": 0,
             "ticks": ""
            },
            "colorscale": [
             [
              0,
              "#0d0887"
             ],
             [
              0.1111111111111111,
              "#46039f"
             ],
             [
              0.2222222222222222,
              "#7201a8"
             ],
             [
              0.3333333333333333,
              "#9c179e"
             ],
             [
              0.4444444444444444,
              "#bd3786"
             ],
             [
              0.5555555555555556,
              "#d8576b"
             ],
             [
              0.6666666666666666,
              "#ed7953"
             ],
             [
              0.7777777777777778,
              "#fb9f3a"
             ],
             [
              0.8888888888888888,
              "#fdca26"
             ],
             [
              1,
              "#f0f921"
             ]
            ],
            "type": "heatmapgl"
           }
          ],
          "histogram": [
           {
            "marker": {
             "colorbar": {
              "outlinewidth": 0,
              "ticks": ""
             }
            },
            "type": "histogram"
           }
          ],
          "histogram2d": [
           {
            "colorbar": {
             "outlinewidth": 0,
             "ticks": ""
            },
            "colorscale": [
             [
              0,
              "#0d0887"
             ],
             [
              0.1111111111111111,
              "#46039f"
             ],
             [
              0.2222222222222222,
              "#7201a8"
             ],
             [
              0.3333333333333333,
              "#9c179e"
             ],
             [
              0.4444444444444444,
              "#bd3786"
             ],
             [
              0.5555555555555556,
              "#d8576b"
             ],
             [
              0.6666666666666666,
              "#ed7953"
             ],
             [
              0.7777777777777778,
              "#fb9f3a"
             ],
             [
              0.8888888888888888,
              "#fdca26"
             ],
             [
              1,
              "#f0f921"
             ]
            ],
            "type": "histogram2d"
           }
          ],
          "histogram2dcontour": [
           {
            "colorbar": {
             "outlinewidth": 0,
             "ticks": ""
            },
            "colorscale": [
             [
              0,
              "#0d0887"
             ],
             [
              0.1111111111111111,
              "#46039f"
             ],
             [
              0.2222222222222222,
              "#7201a8"
             ],
             [
              0.3333333333333333,
              "#9c179e"
             ],
             [
              0.4444444444444444,
              "#bd3786"
             ],
             [
              0.5555555555555556,
              "#d8576b"
             ],
             [
              0.6666666666666666,
              "#ed7953"
             ],
             [
              0.7777777777777778,
              "#fb9f3a"
             ],
             [
              0.8888888888888888,
              "#fdca26"
             ],
             [
              1,
              "#f0f921"
             ]
            ],
            "type": "histogram2dcontour"
           }
          ],
          "mesh3d": [
           {
            "colorbar": {
             "outlinewidth": 0,
             "ticks": ""
            },
            "type": "mesh3d"
           }
          ],
          "parcoords": [
           {
            "line": {
             "colorbar": {
              "outlinewidth": 0,
              "ticks": ""
             }
            },
            "type": "parcoords"
           }
          ],
          "pie": [
           {
            "automargin": true,
            "type": "pie"
           }
          ],
          "scatter": [
           {
            "marker": {
             "colorbar": {
              "outlinewidth": 0,
              "ticks": ""
             }
            },
            "type": "scatter"
           }
          ],
          "scatter3d": [
           {
            "line": {
             "colorbar": {
              "outlinewidth": 0,
              "ticks": ""
             }
            },
            "marker": {
             "colorbar": {
              "outlinewidth": 0,
              "ticks": ""
             }
            },
            "type": "scatter3d"
           }
          ],
          "scattercarpet": [
           {
            "marker": {
             "colorbar": {
              "outlinewidth": 0,
              "ticks": ""
             }
            },
            "type": "scattercarpet"
           }
          ],
          "scattergeo": [
           {
            "marker": {
             "colorbar": {
              "outlinewidth": 0,
              "ticks": ""
             }
            },
            "type": "scattergeo"
           }
          ],
          "scattergl": [
           {
            "marker": {
             "colorbar": {
              "outlinewidth": 0,
              "ticks": ""
             }
            },
            "type": "scattergl"
           }
          ],
          "scattermapbox": [
           {
            "marker": {
             "colorbar": {
              "outlinewidth": 0,
              "ticks": ""
             }
            },
            "type": "scattermapbox"
           }
          ],
          "scatterpolar": [
           {
            "marker": {
             "colorbar": {
              "outlinewidth": 0,
              "ticks": ""
             }
            },
            "type": "scatterpolar"
           }
          ],
          "scatterpolargl": [
           {
            "marker": {
             "colorbar": {
              "outlinewidth": 0,
              "ticks": ""
             }
            },
            "type": "scatterpolargl"
           }
          ],
          "scatterternary": [
           {
            "marker": {
             "colorbar": {
              "outlinewidth": 0,
              "ticks": ""
             }
            },
            "type": "scatterternary"
           }
          ],
          "surface": [
           {
            "colorbar": {
             "outlinewidth": 0,
             "ticks": ""
            },
            "colorscale": [
             [
              0,
              "#0d0887"
             ],
             [
              0.1111111111111111,
              "#46039f"
             ],
             [
              0.2222222222222222,
              "#7201a8"
             ],
             [
              0.3333333333333333,
              "#9c179e"
             ],
             [
              0.4444444444444444,
              "#bd3786"
             ],
             [
              0.5555555555555556,
              "#d8576b"
             ],
             [
              0.6666666666666666,
              "#ed7953"
             ],
             [
              0.7777777777777778,
              "#fb9f3a"
             ],
             [
              0.8888888888888888,
              "#fdca26"
             ],
             [
              1,
              "#f0f921"
             ]
            ],
            "type": "surface"
           }
          ],
          "table": [
           {
            "cells": {
             "fill": {
              "color": "#EBF0F8"
             },
             "line": {
              "color": "white"
             }
            },
            "header": {
             "fill": {
              "color": "#C8D4E3"
             },
             "line": {
              "color": "white"
             }
            },
            "type": "table"
           }
          ]
         },
         "layout": {
          "annotationdefaults": {
           "arrowcolor": "#2a3f5f",
           "arrowhead": 0,
           "arrowwidth": 1
          },
          "coloraxis": {
           "colorbar": {
            "outlinewidth": 0,
            "ticks": ""
           }
          },
          "colorscale": {
           "diverging": [
            [
             0,
             "#8e0152"
            ],
            [
             0.1,
             "#c51b7d"
            ],
            [
             0.2,
             "#de77ae"
            ],
            [
             0.3,
             "#f1b6da"
            ],
            [
             0.4,
             "#fde0ef"
            ],
            [
             0.5,
             "#f7f7f7"
            ],
            [
             0.6,
             "#e6f5d0"
            ],
            [
             0.7,
             "#b8e186"
            ],
            [
             0.8,
             "#7fbc41"
            ],
            [
             0.9,
             "#4d9221"
            ],
            [
             1,
             "#276419"
            ]
           ],
           "sequential": [
            [
             0,
             "#0d0887"
            ],
            [
             0.1111111111111111,
             "#46039f"
            ],
            [
             0.2222222222222222,
             "#7201a8"
            ],
            [
             0.3333333333333333,
             "#9c179e"
            ],
            [
             0.4444444444444444,
             "#bd3786"
            ],
            [
             0.5555555555555556,
             "#d8576b"
            ],
            [
             0.6666666666666666,
             "#ed7953"
            ],
            [
             0.7777777777777778,
             "#fb9f3a"
            ],
            [
             0.8888888888888888,
             "#fdca26"
            ],
            [
             1,
             "#f0f921"
            ]
           ],
           "sequentialminus": [
            [
             0,
             "#0d0887"
            ],
            [
             0.1111111111111111,
             "#46039f"
            ],
            [
             0.2222222222222222,
             "#7201a8"
            ],
            [
             0.3333333333333333,
             "#9c179e"
            ],
            [
             0.4444444444444444,
             "#bd3786"
            ],
            [
             0.5555555555555556,
             "#d8576b"
            ],
            [
             0.6666666666666666,
             "#ed7953"
            ],
            [
             0.7777777777777778,
             "#fb9f3a"
            ],
            [
             0.8888888888888888,
             "#fdca26"
            ],
            [
             1,
             "#f0f921"
            ]
           ]
          },
          "colorway": [
           "#636efa",
           "#EF553B",
           "#00cc96",
           "#ab63fa",
           "#FFA15A",
           "#19d3f3",
           "#FF6692",
           "#B6E880",
           "#FF97FF",
           "#FECB52"
          ],
          "font": {
           "color": "#2a3f5f"
          },
          "geo": {
           "bgcolor": "white",
           "lakecolor": "white",
           "landcolor": "#E5ECF6",
           "showlakes": true,
           "showland": true,
           "subunitcolor": "white"
          },
          "hoverlabel": {
           "align": "left"
          },
          "hovermode": "closest",
          "mapbox": {
           "style": "light"
          },
          "paper_bgcolor": "white",
          "plot_bgcolor": "#E5ECF6",
          "polar": {
           "angularaxis": {
            "gridcolor": "white",
            "linecolor": "white",
            "ticks": ""
           },
           "bgcolor": "#E5ECF6",
           "radialaxis": {
            "gridcolor": "white",
            "linecolor": "white",
            "ticks": ""
           }
          },
          "scene": {
           "xaxis": {
            "backgroundcolor": "#E5ECF6",
            "gridcolor": "white",
            "gridwidth": 2,
            "linecolor": "white",
            "showbackground": true,
            "ticks": "",
            "zerolinecolor": "white"
           },
           "yaxis": {
            "backgroundcolor": "#E5ECF6",
            "gridcolor": "white",
            "gridwidth": 2,
            "linecolor": "white",
            "showbackground": true,
            "ticks": "",
            "zerolinecolor": "white"
           },
           "zaxis": {
            "backgroundcolor": "#E5ECF6",
            "gridcolor": "white",
            "gridwidth": 2,
            "linecolor": "white",
            "showbackground": true,
            "ticks": "",
            "zerolinecolor": "white"
           }
          },
          "shapedefaults": {
           "line": {
            "color": "#2a3f5f"
           }
          },
          "ternary": {
           "aaxis": {
            "gridcolor": "white",
            "linecolor": "white",
            "ticks": ""
           },
           "baxis": {
            "gridcolor": "white",
            "linecolor": "white",
            "ticks": ""
           },
           "bgcolor": "#E5ECF6",
           "caxis": {
            "gridcolor": "white",
            "linecolor": "white",
            "ticks": ""
           }
          },
          "title": {
           "x": 0.05
          },
          "xaxis": {
           "automargin": true,
           "gridcolor": "white",
           "linecolor": "white",
           "ticks": "",
           "title": {
            "standoff": 15
           },
           "zerolinecolor": "white",
           "zerolinewidth": 2
          },
          "yaxis": {
           "automargin": true,
           "gridcolor": "white",
           "linecolor": "white",
           "ticks": "",
           "title": {
            "standoff": 15
           },
           "zerolinecolor": "white",
           "zerolinewidth": 2
          }
         }
        },
        "title": {
         "text": "Precision-Recall curve"
        },
        "xaxis": {
         "range": [
          -0.05,
          1.05
         ],
         "title": {
          "text": "Recall"
         }
        },
        "yaxis": {
         "range": [
          -0.05,
          1.05
         ],
         "title": {
          "text": "Precision"
         }
        }
       }
      },
      "text/html": [
       "<div>                            <div id=\"b507dedc-e990-4c13-884f-eb3de47402da\" class=\"plotly-graph-div\" style=\"height:525px; width:100%;\"></div>            <script type=\"text/javascript\">                require([\"plotly\"], function(Plotly) {                    window.PLOTLYENV=window.PLOTLYENV || {};                                    if (document.getElementById(\"b507dedc-e990-4c13-884f-eb3de47402da\")) {                    Plotly.newPlot(                        \"b507dedc-e990-4c13-884f-eb3de47402da\",                        [{\"mode\": \"lines\", \"name\": \"Logistic Regression\", \"type\": \"scatter\", \"x\": [1.0, 0.9857142857142858, 0.9571428571428572, 0.9428571428571428, 0.9285714285714286, 0.9142857142857143, 0.8857142857142857, 0.8714285714285714, 0.8428571428571429, 0.8142857142857143, 0.8, 0.8, 0.7714285714285715, 0.7571428571428571, 0.7428571428571429, 0.7285714285714285, 0.7142857142857143, 0.6714285714285714, 0.6571428571428571, 0.6428571428571429, 0.6142857142857143, 0.5857142857142857, 0.5571428571428572, 0.5142857142857142, 0.5142857142857142, 0.4857142857142857, 0.4857142857142857, 0.4714285714285714, 0.44285714285714284, 0.4142857142857143, 0.4, 0.4, 0.37142857142857144, 0.34285714285714286, 0.32857142857142857, 0.3, 0.2714285714285714, 0.2714285714285714, 0.21428571428571427, 0.21428571428571427, 0.17142857142857143, 0.11428571428571428, 0.1, 0.02857142857142857, 0.014285714285714285, 0.014285714285714285, 0.0], \"y\": [0.625, 0.6216216216216216, 0.6146788990825688, 0.6226415094339622, 0.6190476190476191, 0.6153846153846154, 0.6262626262626263, 0.6354166666666666, 0.6276595744680851, 0.6195652173913043, 0.6363636363636364, 0.6436781609195402, 0.6506024096385542, 0.654320987654321, 0.6582278481012658, 0.6623376623376623, 0.6578947368421053, 0.6911764705882353, 0.696969696969697, 0.6923076923076923, 0.6825396825396826, 0.6721311475409836, 0.6610169491525424, 0.6545454545454545, 0.6666666666666666, 0.6666666666666666, 0.68, 0.6875, 0.6739130434782609, 0.6590909090909091, 0.6511627906976745, 0.6666666666666666, 0.6666666666666666, 0.6666666666666666, 0.6764705882352942, 0.65625, 0.6551724137931034, 0.76, 0.75, 0.7894736842105263, 0.8, 0.8, 0.7777777777777778, 0.6666666666666666, 0.5, 1.0, 1.0]}, {\"mode\": \"lines\", \"name\": \"Logistic Regression 2\", \"type\": \"scatter\", \"x\": [1.0, 0.9857142857142858, 0.9714285714285714, 0.9571428571428572, 0.9428571428571428, 0.9428571428571428, 0.9428571428571428, 0.9285714285714286, 0.9142857142857143, 0.9, 0.9, 0.9, 0.8857142857142857, 0.8857142857142857, 0.8857142857142857, 0.8714285714285714, 0.8571428571428571, 0.8571428571428571, 0.8428571428571429, 0.8285714285714286, 0.8142857142857143, 0.8142857142857143, 0.8, 0.8, 0.8, 0.7857142857142857, 0.7857142857142857, 0.7714285714285715, 0.7571428571428571, 0.7428571428571429, 0.7428571428571429, 0.7285714285714285, 0.7285714285714285, 0.7285714285714285, 0.7285714285714285, 0.7142857142857143, 0.7, 0.6857142857142857, 0.6714285714285714, 0.6714285714285714, 0.6571428571428571, 0.6571428571428571, 0.6571428571428571, 0.6428571428571429, 0.6285714285714286, 0.6142857142857143, 0.6, 0.5857142857142857, 0.5714285714285714, 0.5571428571428572, 0.5428571428571428, 0.5285714285714286, 0.5142857142857142, 0.5, 0.4857142857142857, 0.4857142857142857, 0.4714285714285714, 0.45714285714285713, 0.44285714285714284, 0.44285714285714284, 0.42857142857142855, 0.42857142857142855, 0.4142857142857143, 0.4, 0.4, 0.38571428571428573, 0.37142857142857144, 0.35714285714285715, 0.35714285714285715, 0.34285714285714286, 0.32857142857142857, 0.3142857142857143, 0.3142857142857143, 0.3142857142857143, 0.3142857142857143, 0.3, 0.2857142857142857, 0.2714285714285714, 0.2571428571428571, 0.24285714285714285, 0.21428571428571427, 0.2, 0.2, 0.2, 0.18571428571428572, 0.17142857142857143, 0.17142857142857143, 0.15714285714285714, 0.15714285714285714, 0.15714285714285714, 0.14285714285714285, 0.11428571428571428, 0.1, 0.08571428571428572, 0.07142857142857142, 0.05714285714285714, 0.02857142857142857, 0.02857142857142857, 0.014285714285714285, 0.0], \"y\": [0.625, 0.6216216216216216, 0.6181818181818182, 0.6146788990825688, 0.6111111111111112, 0.616822429906542, 0.6226415094339622, 0.6190476190476191, 0.6153846153846154, 0.6116504854368932, 0.6176470588235294, 0.6237623762376238, 0.62, 0.6262626262626263, 0.6326530612244898, 0.6288659793814433, 0.625, 0.631578947368421, 0.6276595744680851, 0.6236559139784946, 0.6195652173913043, 0.6263736263736264, 0.6222222222222222, 0.6292134831460674, 0.6363636363636364, 0.632183908045977, 0.6395348837209303, 0.6428571428571429, 0.6463414634146342, 0.6419753086419753, 0.65, 0.6455696202531646, 0.6538461538461539, 0.6623376623376623, 0.6710526315789473, 0.6666666666666666, 0.6712328767123288, 0.6666666666666666, 0.6714285714285714, 0.6811594202898551, 0.6764705882352942, 0.6865671641791045, 0.696969696969697, 0.6923076923076923, 0.6875, 0.6825396825396826, 0.6774193548387096, 0.6721311475409836, 0.6666666666666666, 0.6610169491525424, 0.6551724137931034, 0.6491228070175439, 0.6545454545454545, 0.6481481481481481, 0.6415094339622641, 0.6538461538461539, 0.6470588235294118, 0.64, 0.6326530612244898, 0.6458333333333334, 0.6382978723404256, 0.6521739130434783, 0.6444444444444445, 0.6363636363636364, 0.6511627906976745, 0.6428571428571429, 0.65, 0.6410256410256411, 0.6578947368421053, 0.6486486486486487, 0.6388888888888888, 0.6285714285714286, 0.6470588235294118, 0.6666666666666666, 0.6875, 0.6774193548387096, 0.6666666666666666, 0.6551724137931034, 0.6428571428571429, 0.6296296296296297, 0.625, 0.6086956521739131, 0.6363636363636364, 0.7, 0.6842105263157895, 0.6666666666666666, 0.7058823529411765, 0.6875, 0.7333333333333333, 0.7857142857142857, 0.7692307692307693, 0.8, 0.7777777777777778, 0.75, 0.7142857142857143, 0.6666666666666666, 0.6666666666666666, 1.0, 1.0, 1.0]}, {\"line\": {\"color\": \"black\", \"dash\": \"dash\", \"width\": 1}, \"mode\": \"lines\", \"showlegend\": false, \"type\": \"scatter\", \"x\": [0, 1], \"y\": [0, 0]}, {\"line\": {\"color\": \"black\", \"dash\": \"dash\", \"width\": 1}, \"mode\": \"lines\", \"showlegend\": false, \"type\": \"scatter\", \"x\": [0, 1], \"y\": [1, 1]}, {\"line\": {\"color\": \"black\", \"dash\": \"dash\", \"width\": 1}, \"mode\": \"lines\", \"showlegend\": false, \"type\": \"scatter\", \"x\": [0, 0], \"y\": [0, 1]}, {\"line\": {\"color\": \"black\", \"dash\": \"dash\", \"width\": 1}, \"mode\": \"lines\", \"showlegend\": false, \"type\": \"scatter\", \"x\": [1, 1], \"y\": [0, 1]}, {\"line\": {\"color\": \"black\", \"dash\": \"dash\"}, \"mode\": \"lines\", \"name\": \"Random precision\", \"type\": \"scatter\", \"x\": [0, 1], \"y\": [0.625, 0.625]}],                        {\"legend\": {\"itemsizing\": \"constant\"}, \"template\": {\"data\": {\"bar\": [{\"error_x\": {\"color\": \"#2a3f5f\"}, \"error_y\": {\"color\": \"#2a3f5f\"}, \"marker\": {\"line\": {\"color\": \"#E5ECF6\", \"width\": 0.5}}, \"type\": \"bar\"}], \"barpolar\": [{\"marker\": {\"line\": {\"color\": \"#E5ECF6\", \"width\": 0.5}}, \"type\": \"barpolar\"}], \"carpet\": [{\"aaxis\": {\"endlinecolor\": \"#2a3f5f\", \"gridcolor\": \"white\", \"linecolor\": \"white\", \"minorgridcolor\": \"white\", \"startlinecolor\": \"#2a3f5f\"}, \"baxis\": {\"endlinecolor\": \"#2a3f5f\", \"gridcolor\": \"white\", \"linecolor\": \"white\", \"minorgridcolor\": \"white\", \"startlinecolor\": \"#2a3f5f\"}, \"type\": \"carpet\"}], \"choropleth\": [{\"colorbar\": {\"outlinewidth\": 0, \"ticks\": \"\"}, \"type\": \"choropleth\"}], \"contour\": [{\"colorbar\": {\"outlinewidth\": 0, \"ticks\": \"\"}, \"colorscale\": [[0.0, \"#0d0887\"], [0.1111111111111111, \"#46039f\"], [0.2222222222222222, \"#7201a8\"], [0.3333333333333333, \"#9c179e\"], [0.4444444444444444, \"#bd3786\"], [0.5555555555555556, \"#d8576b\"], [0.6666666666666666, \"#ed7953\"], [0.7777777777777778, \"#fb9f3a\"], [0.8888888888888888, \"#fdca26\"], [1.0, \"#f0f921\"]], \"type\": \"contour\"}], \"contourcarpet\": [{\"colorbar\": {\"outlinewidth\": 0, \"ticks\": \"\"}, \"type\": \"contourcarpet\"}], \"heatmap\": [{\"colorbar\": {\"outlinewidth\": 0, \"ticks\": \"\"}, \"colorscale\": [[0.0, \"#0d0887\"], [0.1111111111111111, \"#46039f\"], [0.2222222222222222, \"#7201a8\"], [0.3333333333333333, \"#9c179e\"], [0.4444444444444444, \"#bd3786\"], [0.5555555555555556, \"#d8576b\"], [0.6666666666666666, \"#ed7953\"], [0.7777777777777778, \"#fb9f3a\"], [0.8888888888888888, \"#fdca26\"], [1.0, \"#f0f921\"]], \"type\": \"heatmap\"}], \"heatmapgl\": [{\"colorbar\": {\"outlinewidth\": 0, \"ticks\": \"\"}, \"colorscale\": [[0.0, \"#0d0887\"], [0.1111111111111111, \"#46039f\"], [0.2222222222222222, \"#7201a8\"], [0.3333333333333333, \"#9c179e\"], [0.4444444444444444, \"#bd3786\"], [0.5555555555555556, \"#d8576b\"], [0.6666666666666666, \"#ed7953\"], [0.7777777777777778, \"#fb9f3a\"], [0.8888888888888888, \"#fdca26\"], [1.0, \"#f0f921\"]], \"type\": \"heatmapgl\"}], \"histogram\": [{\"marker\": {\"colorbar\": {\"outlinewidth\": 0, \"ticks\": \"\"}}, \"type\": \"histogram\"}], \"histogram2d\": [{\"colorbar\": {\"outlinewidth\": 0, \"ticks\": \"\"}, \"colorscale\": [[0.0, \"#0d0887\"], [0.1111111111111111, \"#46039f\"], [0.2222222222222222, \"#7201a8\"], [0.3333333333333333, \"#9c179e\"], [0.4444444444444444, \"#bd3786\"], [0.5555555555555556, \"#d8576b\"], [0.6666666666666666, \"#ed7953\"], [0.7777777777777778, \"#fb9f3a\"], [0.8888888888888888, \"#fdca26\"], [1.0, \"#f0f921\"]], \"type\": \"histogram2d\"}], \"histogram2dcontour\": [{\"colorbar\": {\"outlinewidth\": 0, \"ticks\": \"\"}, \"colorscale\": [[0.0, \"#0d0887\"], [0.1111111111111111, \"#46039f\"], [0.2222222222222222, \"#7201a8\"], [0.3333333333333333, \"#9c179e\"], [0.4444444444444444, \"#bd3786\"], [0.5555555555555556, \"#d8576b\"], [0.6666666666666666, \"#ed7953\"], [0.7777777777777778, \"#fb9f3a\"], [0.8888888888888888, \"#fdca26\"], [1.0, \"#f0f921\"]], \"type\": \"histogram2dcontour\"}], \"mesh3d\": [{\"colorbar\": {\"outlinewidth\": 0, \"ticks\": \"\"}, \"type\": \"mesh3d\"}], \"parcoords\": [{\"line\": {\"colorbar\": {\"outlinewidth\": 0, \"ticks\": \"\"}}, \"type\": \"parcoords\"}], \"pie\": [{\"automargin\": true, \"type\": \"pie\"}], \"scatter\": [{\"marker\": {\"colorbar\": {\"outlinewidth\": 0, \"ticks\": \"\"}}, \"type\": \"scatter\"}], \"scatter3d\": [{\"line\": {\"colorbar\": {\"outlinewidth\": 0, \"ticks\": \"\"}}, \"marker\": {\"colorbar\": {\"outlinewidth\": 0, \"ticks\": \"\"}}, \"type\": \"scatter3d\"}], \"scattercarpet\": [{\"marker\": {\"colorbar\": {\"outlinewidth\": 0, \"ticks\": \"\"}}, \"type\": \"scattercarpet\"}], \"scattergeo\": [{\"marker\": {\"colorbar\": {\"outlinewidth\": 0, \"ticks\": \"\"}}, \"type\": \"scattergeo\"}], \"scattergl\": [{\"marker\": {\"colorbar\": {\"outlinewidth\": 0, \"ticks\": \"\"}}, \"type\": \"scattergl\"}], \"scattermapbox\": [{\"marker\": {\"colorbar\": {\"outlinewidth\": 0, \"ticks\": \"\"}}, \"type\": \"scattermapbox\"}], \"scatterpolar\": [{\"marker\": {\"colorbar\": {\"outlinewidth\": 0, \"ticks\": \"\"}}, \"type\": \"scatterpolar\"}], \"scatterpolargl\": [{\"marker\": {\"colorbar\": {\"outlinewidth\": 0, \"ticks\": \"\"}}, \"type\": \"scatterpolargl\"}], \"scatterternary\": [{\"marker\": {\"colorbar\": {\"outlinewidth\": 0, \"ticks\": \"\"}}, \"type\": \"scatterternary\"}], \"surface\": [{\"colorbar\": {\"outlinewidth\": 0, \"ticks\": \"\"}, \"colorscale\": [[0.0, \"#0d0887\"], [0.1111111111111111, \"#46039f\"], [0.2222222222222222, \"#7201a8\"], [0.3333333333333333, \"#9c179e\"], [0.4444444444444444, \"#bd3786\"], [0.5555555555555556, \"#d8576b\"], [0.6666666666666666, \"#ed7953\"], [0.7777777777777778, \"#fb9f3a\"], [0.8888888888888888, \"#fdca26\"], [1.0, \"#f0f921\"]], \"type\": \"surface\"}], \"table\": [{\"cells\": {\"fill\": {\"color\": \"#EBF0F8\"}, \"line\": {\"color\": \"white\"}}, \"header\": {\"fill\": {\"color\": \"#C8D4E3\"}, \"line\": {\"color\": \"white\"}}, \"type\": \"table\"}]}, \"layout\": {\"annotationdefaults\": {\"arrowcolor\": \"#2a3f5f\", \"arrowhead\": 0, \"arrowwidth\": 1}, \"coloraxis\": {\"colorbar\": {\"outlinewidth\": 0, \"ticks\": \"\"}}, \"colorscale\": {\"diverging\": [[0, \"#8e0152\"], [0.1, \"#c51b7d\"], [0.2, \"#de77ae\"], [0.3, \"#f1b6da\"], [0.4, \"#fde0ef\"], [0.5, \"#f7f7f7\"], [0.6, \"#e6f5d0\"], [0.7, \"#b8e186\"], [0.8, \"#7fbc41\"], [0.9, \"#4d9221\"], [1, \"#276419\"]], \"sequential\": [[0.0, \"#0d0887\"], [0.1111111111111111, \"#46039f\"], [0.2222222222222222, \"#7201a8\"], [0.3333333333333333, \"#9c179e\"], [0.4444444444444444, \"#bd3786\"], [0.5555555555555556, \"#d8576b\"], [0.6666666666666666, \"#ed7953\"], [0.7777777777777778, \"#fb9f3a\"], [0.8888888888888888, \"#fdca26\"], [1.0, \"#f0f921\"]], \"sequentialminus\": [[0.0, \"#0d0887\"], [0.1111111111111111, \"#46039f\"], [0.2222222222222222, \"#7201a8\"], [0.3333333333333333, \"#9c179e\"], [0.4444444444444444, \"#bd3786\"], [0.5555555555555556, \"#d8576b\"], [0.6666666666666666, \"#ed7953\"], [0.7777777777777778, \"#fb9f3a\"], [0.8888888888888888, \"#fdca26\"], [1.0, \"#f0f921\"]]}, \"colorway\": [\"#636efa\", \"#EF553B\", \"#00cc96\", \"#ab63fa\", \"#FFA15A\", \"#19d3f3\", \"#FF6692\", \"#B6E880\", \"#FF97FF\", \"#FECB52\"], \"font\": {\"color\": \"#2a3f5f\"}, \"geo\": {\"bgcolor\": \"white\", \"lakecolor\": \"white\", \"landcolor\": \"#E5ECF6\", \"showlakes\": true, \"showland\": true, \"subunitcolor\": \"white\"}, \"hoverlabel\": {\"align\": \"left\"}, \"hovermode\": \"closest\", \"mapbox\": {\"style\": \"light\"}, \"paper_bgcolor\": \"white\", \"plot_bgcolor\": \"#E5ECF6\", \"polar\": {\"angularaxis\": {\"gridcolor\": \"white\", \"linecolor\": \"white\", \"ticks\": \"\"}, \"bgcolor\": \"#E5ECF6\", \"radialaxis\": {\"gridcolor\": \"white\", \"linecolor\": \"white\", \"ticks\": \"\"}}, \"scene\": {\"xaxis\": {\"backgroundcolor\": \"#E5ECF6\", \"gridcolor\": \"white\", \"gridwidth\": 2, \"linecolor\": \"white\", \"showbackground\": true, \"ticks\": \"\", \"zerolinecolor\": \"white\"}, \"yaxis\": {\"backgroundcolor\": \"#E5ECF6\", \"gridcolor\": \"white\", \"gridwidth\": 2, \"linecolor\": \"white\", \"showbackground\": true, \"ticks\": \"\", \"zerolinecolor\": \"white\"}, \"zaxis\": {\"backgroundcolor\": \"#E5ECF6\", \"gridcolor\": \"white\", \"gridwidth\": 2, \"linecolor\": \"white\", \"showbackground\": true, \"ticks\": \"\", \"zerolinecolor\": \"white\"}}, \"shapedefaults\": {\"line\": {\"color\": \"#2a3f5f\"}}, \"ternary\": {\"aaxis\": {\"gridcolor\": \"white\", \"linecolor\": \"white\", \"ticks\": \"\"}, \"baxis\": {\"gridcolor\": \"white\", \"linecolor\": \"white\", \"ticks\": \"\"}, \"bgcolor\": \"#E5ECF6\", \"caxis\": {\"gridcolor\": \"white\", \"linecolor\": \"white\", \"ticks\": \"\"}}, \"title\": {\"x\": 0.05}, \"xaxis\": {\"automargin\": true, \"gridcolor\": \"white\", \"linecolor\": \"white\", \"ticks\": \"\", \"title\": {\"standoff\": 15}, \"zerolinecolor\": \"white\", \"zerolinewidth\": 2}, \"yaxis\": {\"automargin\": true, \"gridcolor\": \"white\", \"linecolor\": \"white\", \"ticks\": \"\", \"title\": {\"standoff\": 15}, \"zerolinecolor\": \"white\", \"zerolinewidth\": 2}}}, \"title\": {\"text\": \"Precision-Recall curve\"}, \"xaxis\": {\"range\": [-0.05, 1.05], \"title\": {\"text\": \"Recall\"}}, \"yaxis\": {\"range\": [-0.05, 1.05], \"title\": {\"text\": \"Precision\"}}},                        {\"responsive\": true}                    ).then(function(){\n",
       "                            \n",
       "var gd = document.getElementById('b507dedc-e990-4c13-884f-eb3de47402da');\n",
       "var x = new MutationObserver(function (mutations, observer) {{\n",
       "        var display = window.getComputedStyle(gd).display;\n",
       "        if (!display || display === 'none') {{\n",
       "            console.log([gd, 'removed!']);\n",
       "            Plotly.purge(gd);\n",
       "            observer.disconnect();\n",
       "        }}\n",
       "}});\n",
       "\n",
       "// Listen for the removal of the full notebook cells\n",
       "var notebookContainer = gd.closest('#notebook-container');\n",
       "if (notebookContainer) {{\n",
       "    x.observe(notebookContainer, {childList: true});\n",
       "}}\n",
       "\n",
       "// Listen for the clearing of the current output cell\n",
       "var outputEl = gd.closest('.output');\n",
       "if (outputEl) {{\n",
       "    x.observe(outputEl, {childList: true});\n",
       "}}\n",
       "\n",
       "                        })                };                });            </script>        </div>"
      ]
     },
     "metadata": {},
     "output_type": "display_data"
    },
    {
     "data": {
      "application/javascript": [
       "\n",
       "            setTimeout(function() {\n",
       "                var nbb_cell_id = 38;\n",
       "                var nbb_unformatted_code = \"fig_precision_recall_curve = performance_metrics.add_square(\\n    fig_precision_recall_curve, x0=0, x1=1, y0=0, y1=1\\n)\\n\\nfig_precision_recall_curve.add_trace(\\n    go.Scatter(\\n        x=[0, 1],\\n        y=[\\n            binary_classification_results[\\\"random_precision\\\"],\\n            binary_classification_results[\\\"random_precision\\\"],\\n        ],\\n        mode=\\\"lines\\\",\\n        name=\\\"Random precision\\\",\\n        line=dict(color=\\\"black\\\", dash=\\\"dash\\\"),\\n    )\\n)\\n\\nfig_precision_recall_curve.update_layout(\\n    title=\\\"Precision-Recall curve\\\",\\n    legend={\\\"itemsizing\\\": \\\"constant\\\"},\\n)\\n\\nfig_precision_recall_curve.update_xaxes(title_text=\\\"Recall\\\", range=[-0.05, 1.05])\\nfig_precision_recall_curve.update_yaxes(title_text=\\\"Precision\\\", range=[-0.05, 1.05])\\n\\nfig_precision_recall_curve.show()\";\n",
       "                var nbb_formatted_code = \"fig_precision_recall_curve = performance_metrics.add_square(\\n    fig_precision_recall_curve, x0=0, x1=1, y0=0, y1=1\\n)\\n\\nfig_precision_recall_curve.add_trace(\\n    go.Scatter(\\n        x=[0, 1],\\n        y=[\\n            binary_classification_results[\\\"random_precision\\\"],\\n            binary_classification_results[\\\"random_precision\\\"],\\n        ],\\n        mode=\\\"lines\\\",\\n        name=\\\"Random precision\\\",\\n        line=dict(color=\\\"black\\\", dash=\\\"dash\\\"),\\n    )\\n)\\n\\nfig_precision_recall_curve.update_layout(\\n    title=\\\"Precision-Recall curve\\\",\\n    legend={\\\"itemsizing\\\": \\\"constant\\\"},\\n)\\n\\nfig_precision_recall_curve.update_xaxes(title_text=\\\"Recall\\\", range=[-0.05, 1.05])\\nfig_precision_recall_curve.update_yaxes(title_text=\\\"Precision\\\", range=[-0.05, 1.05])\\n\\nfig_precision_recall_curve.show()\";\n",
       "                var nbb_cells = Jupyter.notebook.get_cells();\n",
       "                for (var i = 0; i < nbb_cells.length; ++i) {\n",
       "                    if (nbb_cells[i].input_prompt_number == nbb_cell_id) {\n",
       "                        if (nbb_cells[i].get_text() == nbb_unformatted_code) {\n",
       "                             nbb_cells[i].set_text(nbb_formatted_code);\n",
       "                        }\n",
       "                        break;\n",
       "                    }\n",
       "                }\n",
       "            }, 500);\n",
       "            "
      ],
      "text/plain": [
       "<IPython.core.display.Javascript object>"
      ]
     },
     "metadata": {},
     "output_type": "display_data"
    }
   ],
   "source": [
    "fig_precision_recall_curve = performance_metrics.add_square(\n",
    "    fig_precision_recall_curve, x0=0, x1=1, y0=0, y1=1\n",
    ")\n",
    "\n",
    "fig_precision_recall_curve.add_trace(\n",
    "    go.Scatter(\n",
    "        x=[0, 1],\n",
    "        y=[\n",
    "            binary_classification_results[\"random_precision\"],\n",
    "            binary_classification_results[\"random_precision\"],\n",
    "        ],\n",
    "        mode=\"lines\",\n",
    "        name=\"Random precision\",\n",
    "        line=dict(color=\"black\", dash=\"dash\"),\n",
    "    )\n",
    ")\n",
    "\n",
    "fig_precision_recall_curve.update_layout(\n",
    "    title=\"Precision-Recall curve\",\n",
    "    legend={\"itemsizing\": \"constant\"},\n",
    ")\n",
    "\n",
    "fig_precision_recall_curve.update_xaxes(title_text=\"Recall\", range=[-0.05, 1.05])\n",
    "fig_precision_recall_curve.update_yaxes(title_text=\"Precision\", range=[-0.05, 1.05])\n",
    "\n",
    "fig_precision_recall_curve.show()"
   ]
  },
  {
   "cell_type": "code",
   "execution_count": null,
   "metadata": {},
   "outputs": [],
   "source": []
  },
  {
   "cell_type": "code",
   "execution_count": null,
   "metadata": {},
   "outputs": [],
   "source": []
  },
  {
   "cell_type": "code",
   "execution_count": null,
   "metadata": {},
   "outputs": [],
   "source": []
  }
 ],
 "metadata": {
  "hide_input": false,
  "kernelspec": {
   "display_name": "vocabulary_learning",
   "language": "python",
   "name": "vocabulary_learning"
  },
  "language_info": {
   "codemirror_mode": {
    "name": "ipython",
    "version": 3
   },
   "file_extension": ".py",
   "mimetype": "text/x-python",
   "name": "python",
   "nbconvert_exporter": "python",
   "pygments_lexer": "ipython3",
   "version": "3.7.5"
  },
  "toc": {
   "base_numbering": 1,
   "nav_menu": {},
   "number_sections": true,
   "sideBar": true,
   "skip_h1_title": false,
   "title_cell": "Table of Contents",
   "title_sidebar": "Contents",
   "toc_cell": false,
   "toc_position": {},
   "toc_section_display": true,
   "toc_window_display": false
  }
 },
 "nbformat": 4,
 "nbformat_minor": 4
}
