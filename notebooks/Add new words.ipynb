{
 "cells": [
  {
   "cell_type": "code",
   "execution_count": 1,
   "metadata": {
    "ExecuteTime": {
     "end_time": "2020-10-05T20:38:01.892302Z",
     "start_time": "2020-10-05T20:38:01.749086Z"
    }
   },
   "outputs": [
    {
     "name": "stdout",
     "output_type": "stream",
     "text": [
      "/Users/admin/Projects/vocabulary_learning/notebooks\n",
      "/Users/admin/Projects/vocabulary_learning\n"
     ]
    },
    {
     "data": {
      "application/javascript": [
       "\n",
       "            setTimeout(function() {\n",
       "                var nbb_cell_id = 1;\n",
       "                var nbb_unformatted_code = \"%load_ext nb_black\\n%load_ext autoreload\\n%autoreload 2\\n\\nimport os\\n\\nprint(os.getcwd())\\n\\n\\ndef update_working_directory():\\n    from pathlib import Path\\n\\n    p = Path(os.getcwd()).parents[0]\\n    os.chdir(p)\\n    print(p)\\n\\n\\nupdate_working_directory()\";\n",
       "                var nbb_formatted_code = \"%load_ext nb_black\\n%load_ext autoreload\\n%autoreload 2\\n\\nimport os\\n\\nprint(os.getcwd())\\n\\n\\ndef update_working_directory():\\n    from pathlib import Path\\n\\n    p = Path(os.getcwd()).parents[0]\\n    os.chdir(p)\\n    print(p)\\n\\n\\nupdate_working_directory()\";\n",
       "                var nbb_cells = Jupyter.notebook.get_cells();\n",
       "                for (var i = 0; i < nbb_cells.length; ++i) {\n",
       "                    if (nbb_cells[i].input_prompt_number == nbb_cell_id) {\n",
       "                        if (nbb_cells[i].get_text() == nbb_unformatted_code) {\n",
       "                             nbb_cells[i].set_text(nbb_formatted_code);\n",
       "                        }\n",
       "                        break;\n",
       "                    }\n",
       "                }\n",
       "            }, 500);\n",
       "            "
      ],
      "text/plain": [
       "<IPython.core.display.Javascript object>"
      ]
     },
     "metadata": {},
     "output_type": "display_data"
    }
   ],
   "source": [
    "%load_ext nb_black\n",
    "%load_ext autoreload\n",
    "%autoreload 2\n",
    "\n",
    "import os\n",
    "\n",
    "print(os.getcwd())\n",
    "\n",
    "\n",
    "def update_working_directory():\n",
    "    from pathlib import Path\n",
    "\n",
    "    p = Path(os.getcwd()).parents[0]\n",
    "    os.chdir(p)\n",
    "    print(p)\n",
    "\n",
    "\n",
    "update_working_directory()"
   ]
  },
  {
   "cell_type": "code",
   "execution_count": 2,
   "metadata": {
    "ExecuteTime": {
     "end_time": "2020-10-05T20:38:04.084147Z",
     "start_time": "2020-10-05T20:38:03.757553Z"
    }
   },
   "outputs": [
    {
     "data": {
      "application/javascript": [
       "\n",
       "            setTimeout(function() {\n",
       "                var nbb_cell_id = 2;\n",
       "                var nbb_unformatted_code = \"import numpy as np\\nimport pandas as pd\\n\\nimport src.data.get_dataset as get_dataset\";\n",
       "                var nbb_formatted_code = \"import numpy as np\\nimport pandas as pd\\n\\nimport src.data.get_dataset as get_dataset\";\n",
       "                var nbb_cells = Jupyter.notebook.get_cells();\n",
       "                for (var i = 0; i < nbb_cells.length; ++i) {\n",
       "                    if (nbb_cells[i].input_prompt_number == nbb_cell_id) {\n",
       "                        if (nbb_cells[i].get_text() == nbb_unformatted_code) {\n",
       "                             nbb_cells[i].set_text(nbb_formatted_code);\n",
       "                        }\n",
       "                        break;\n",
       "                    }\n",
       "                }\n",
       "            }, 500);\n",
       "            "
      ],
      "text/plain": [
       "<IPython.core.display.Javascript object>"
      ]
     },
     "metadata": {},
     "output_type": "display_data"
    }
   ],
   "source": [
    "import numpy as np\n",
    "import pandas as pd\n",
    "\n",
    "import src.data.get_dataset as get_dataset"
   ]
  },
  {
   "cell_type": "code",
   "execution_count": 3,
   "metadata": {
    "ExecuteTime": {
     "end_time": "2020-10-05T20:38:04.472000Z",
     "start_time": "2020-10-05T20:38:04.435658Z"
    },
    "scrolled": true
   },
   "outputs": [
    {
     "data": {
      "text/html": [
       "<div>\n",
       "<style scoped>\n",
       "    .dataframe tbody tr th:only-of-type {\n",
       "        vertical-align: middle;\n",
       "    }\n",
       "\n",
       "    .dataframe tbody tr th {\n",
       "        vertical-align: top;\n",
       "    }\n",
       "\n",
       "    .dataframe thead th {\n",
       "        text-align: right;\n",
       "    }\n",
       "</style>\n",
       "<table border=\"1\" class=\"dataframe\">\n",
       "  <thead>\n",
       "    <tr style=\"text-align: right;\">\n",
       "      <th></th>\n",
       "      <th>id_vocab</th>\n",
       "      <th>german</th>\n",
       "      <th>english</th>\n",
       "      <th>score_german_english</th>\n",
       "      <th>score_english_german</th>\n",
       "      <th>retry_german_english</th>\n",
       "      <th>retry_english_german</th>\n",
       "      <th>try_session_german_english</th>\n",
       "      <th>try_session_english_german</th>\n",
       "    </tr>\n",
       "  </thead>\n",
       "  <tbody>\n",
       "  </tbody>\n",
       "</table>\n",
       "</div>"
      ],
      "text/plain": [
       "Empty DataFrame\n",
       "Columns: [id_vocab, german, english, score_german_english, score_english_german, retry_german_english, retry_english_german, try_session_german_english, try_session_english_german]\n",
       "Index: []"
      ]
     },
     "execution_count": 3,
     "metadata": {},
     "output_type": "execute_result"
    },
    {
     "data": {
      "application/javascript": [
       "\n",
       "            setTimeout(function() {\n",
       "                var nbb_cell_id = 3;\n",
       "                var nbb_unformatted_code = \"current_vocab = get_dataset.get_vocab(\\n    \\\"data/raw/init_german_english.csv\\\", list_columns=\\\"all\\\"\\n)\\ncurrent_vocab\";\n",
       "                var nbb_formatted_code = \"current_vocab = get_dataset.get_vocab(\\n    \\\"data/raw/init_german_english.csv\\\", list_columns=\\\"all\\\"\\n)\\ncurrent_vocab\";\n",
       "                var nbb_cells = Jupyter.notebook.get_cells();\n",
       "                for (var i = 0; i < nbb_cells.length; ++i) {\n",
       "                    if (nbb_cells[i].input_prompt_number == nbb_cell_id) {\n",
       "                        if (nbb_cells[i].get_text() == nbb_unformatted_code) {\n",
       "                             nbb_cells[i].set_text(nbb_formatted_code);\n",
       "                        }\n",
       "                        break;\n",
       "                    }\n",
       "                }\n",
       "            }, 500);\n",
       "            "
      ],
      "text/plain": [
       "<IPython.core.display.Javascript object>"
      ]
     },
     "metadata": {},
     "output_type": "display_data"
    }
   ],
   "source": [
    "current_vocab = get_dataset.get_vocab(\n",
    "    \"data/raw/init_german_english.csv\", list_columns=\"all\"\n",
    ")\n",
    "current_vocab"
   ]
  },
  {
   "cell_type": "code",
   "execution_count": 4,
   "metadata": {
    "ExecuteTime": {
     "end_time": "2020-10-05T20:39:08.956912Z",
     "start_time": "2020-10-05T20:39:08.688224Z"
    }
   },
   "outputs": [
    {
     "name": "stdout",
     "output_type": "stream",
     "text": [
      "10 new words were added from 5points\n",
      "10 new words were added from 4points\n",
      "10 new words were added from 3points\n",
      "10 new words were added from 2points\n",
      "10 new words were added from 1points\n",
      "10 new words were added from 0points\n",
      "10 new words were added from Minus1points\n",
      "10 new words were added from Minus2points\n",
      "10 new words were added from Minus3points\n",
      "10 new words were added from Minus4points\n",
      "10 new words were added from Minus5points\n",
      "10 new words were added from Minus6points\n",
      "10 new words were added from Minus7points\n",
      "10 new words were added from Minus8points\n",
      "10 new words were added from Minus9points\n",
      "10 new words were added from Minus10points\n"
     ]
    },
    {
     "data": {
      "application/javascript": [
       "\n",
       "            setTimeout(function() {\n",
       "                var nbb_cell_id = 4;\n",
       "                var nbb_unformatted_code = \"word_files = [\\n    \\\"5points\\\",\\n    \\\"4points\\\",\\n    \\\"3points\\\",\\n    \\\"2points\\\",\\n    \\\"1points\\\",\\n    \\\"0points\\\",\\n    \\\"Minus1points\\\",\\n    \\\"Minus2points\\\",\\n    \\\"Minus3points\\\",\\n    \\\"Minus4points\\\",\\n    \\\"Minus5points\\\",\\n    \\\"Minus6points\\\",\\n    \\\"Minus7points\\\",\\n    \\\"Minus8points\\\",\\n    \\\"Minus9points\\\",\\n    \\\"Minus10points\\\",\\n]\\n\\nfor word_file in word_files:\\n\\n    new_vocab = pd.read_csv(f\\\"data/raw/new_vocabulary/{word_file}.csv\\\")\\n\\n    new_vocab = new_vocab[\\n        (~new_vocab[\\\"English\\\"].isin(current_vocab[\\\"english\\\"]))\\n        & (~new_vocab[\\\"German\\\"].isin(current_vocab[\\\"german\\\"]))\\n    ]\\n\\n    if len(new_vocab) == 0:\\n        print(f\\\"no new word to add for {word_file}\\\")\\n\\n    new_vocab = new_vocab.sample(min(10, len(new_vocab)))\\n\\n    cleaned_new_vocab = pd.DataFrame()\\n\\n    if len(current_vocab) == 0:\\n        last_id = 0\\n    else:\\n        last_id = max(current_vocab[\\\"id_vocab\\\"])\\n\\n    cleaned_new_vocab[\\\"id_vocab\\\"] = list(\\n        range(last_id + 1, last_id + 1 + len(new_vocab))\\n    )\\n    cleaned_new_vocab[\\\"german\\\"] = new_vocab[\\\"German\\\"].values.tolist()\\n    cleaned_new_vocab[\\\"english\\\"] = new_vocab[\\\"English\\\"].values.tolist()\\n    cleaned_new_vocab[\\\"score_german_english\\\"] = 0\\n    cleaned_new_vocab[\\\"score_english_german\\\"] = 0\\n    cleaned_new_vocab[\\\"retry_german_english\\\"] = \\\"2022-01-01\\\"\\n    cleaned_new_vocab[\\\"retry_english_german\\\"] = \\\"2022-01-01\\\"\\n    cleaned_new_vocab[\\\"try_session_german_english\\\"] = False\\n    cleaned_new_vocab[\\\"try_session_english_german\\\"] = False\\n\\n    current_vocab = current_vocab.append(cleaned_new_vocab)\\n\\n    print(f\\\"{len(new_vocab)} new words were added from {word_file}\\\")\";\n",
       "                var nbb_formatted_code = \"word_files = [\\n    \\\"5points\\\",\\n    \\\"4points\\\",\\n    \\\"3points\\\",\\n    \\\"2points\\\",\\n    \\\"1points\\\",\\n    \\\"0points\\\",\\n    \\\"Minus1points\\\",\\n    \\\"Minus2points\\\",\\n    \\\"Minus3points\\\",\\n    \\\"Minus4points\\\",\\n    \\\"Minus5points\\\",\\n    \\\"Minus6points\\\",\\n    \\\"Minus7points\\\",\\n    \\\"Minus8points\\\",\\n    \\\"Minus9points\\\",\\n    \\\"Minus10points\\\",\\n]\\n\\nfor word_file in word_files:\\n\\n    new_vocab = pd.read_csv(f\\\"data/raw/new_vocabulary/{word_file}.csv\\\")\\n\\n    new_vocab = new_vocab[\\n        (~new_vocab[\\\"English\\\"].isin(current_vocab[\\\"english\\\"]))\\n        & (~new_vocab[\\\"German\\\"].isin(current_vocab[\\\"german\\\"]))\\n    ]\\n\\n    if len(new_vocab) == 0:\\n        print(f\\\"no new word to add for {word_file}\\\")\\n\\n    new_vocab = new_vocab.sample(min(10, len(new_vocab)))\\n\\n    cleaned_new_vocab = pd.DataFrame()\\n\\n    if len(current_vocab) == 0:\\n        last_id = 0\\n    else:\\n        last_id = max(current_vocab[\\\"id_vocab\\\"])\\n\\n    cleaned_new_vocab[\\\"id_vocab\\\"] = list(\\n        range(last_id + 1, last_id + 1 + len(new_vocab))\\n    )\\n    cleaned_new_vocab[\\\"german\\\"] = new_vocab[\\\"German\\\"].values.tolist()\\n    cleaned_new_vocab[\\\"english\\\"] = new_vocab[\\\"English\\\"].values.tolist()\\n    cleaned_new_vocab[\\\"score_german_english\\\"] = 0\\n    cleaned_new_vocab[\\\"score_english_german\\\"] = 0\\n    cleaned_new_vocab[\\\"retry_german_english\\\"] = \\\"2022-01-01\\\"\\n    cleaned_new_vocab[\\\"retry_english_german\\\"] = \\\"2022-01-01\\\"\\n    cleaned_new_vocab[\\\"try_session_german_english\\\"] = False\\n    cleaned_new_vocab[\\\"try_session_english_german\\\"] = False\\n\\n    current_vocab = current_vocab.append(cleaned_new_vocab)\\n\\n    print(f\\\"{len(new_vocab)} new words were added from {word_file}\\\")\";\n",
       "                var nbb_cells = Jupyter.notebook.get_cells();\n",
       "                for (var i = 0; i < nbb_cells.length; ++i) {\n",
       "                    if (nbb_cells[i].input_prompt_number == nbb_cell_id) {\n",
       "                        if (nbb_cells[i].get_text() == nbb_unformatted_code) {\n",
       "                             nbb_cells[i].set_text(nbb_formatted_code);\n",
       "                        }\n",
       "                        break;\n",
       "                    }\n",
       "                }\n",
       "            }, 500);\n",
       "            "
      ],
      "text/plain": [
       "<IPython.core.display.Javascript object>"
      ]
     },
     "metadata": {},
     "output_type": "display_data"
    }
   ],
   "source": [
    "word_files = [\n",
    "    \"5points\",\n",
    "    \"4points\",\n",
    "    \"3points\",\n",
    "    \"2points\",\n",
    "    \"1points\",\n",
    "    \"0points\",\n",
    "    \"Minus1points\",\n",
    "    \"Minus2points\",\n",
    "    \"Minus3points\",\n",
    "    \"Minus4points\",\n",
    "    \"Minus5points\",\n",
    "    \"Minus6points\",\n",
    "    \"Minus7points\",\n",
    "    \"Minus8points\",\n",
    "    \"Minus9points\",\n",
    "    \"Minus10points\",\n",
    "]\n",
    "\n",
    "for word_file in word_files:\n",
    "\n",
    "    new_vocab = pd.read_csv(f\"data/raw/new_vocabulary/{word_file}.csv\")\n",
    "\n",
    "    new_vocab = new_vocab[\n",
    "        (~new_vocab[\"English\"].isin(current_vocab[\"english\"]))\n",
    "        & (~new_vocab[\"German\"].isin(current_vocab[\"german\"]))\n",
    "    ]\n",
    "\n",
    "    if len(new_vocab) == 0:\n",
    "        print(f\"no new word to add for {word_file}\")\n",
    "\n",
    "    new_vocab = new_vocab.sample(min(10, len(new_vocab)))\n",
    "\n",
    "    cleaned_new_vocab = pd.DataFrame()\n",
    "\n",
    "    if len(current_vocab) == 0:\n",
    "        last_id = 0\n",
    "    else:\n",
    "        last_id = max(current_vocab[\"id_vocab\"])\n",
    "\n",
    "    cleaned_new_vocab[\"id_vocab\"] = list(\n",
    "        range(last_id + 1, last_id + 1 + len(new_vocab))\n",
    "    )\n",
    "    cleaned_new_vocab[\"german\"] = new_vocab[\"German\"].values.tolist()\n",
    "    cleaned_new_vocab[\"english\"] = new_vocab[\"English\"].values.tolist()\n",
    "    cleaned_new_vocab[\"score_german_english\"] = 0\n",
    "    cleaned_new_vocab[\"score_english_german\"] = 0\n",
    "    cleaned_new_vocab[\"retry_german_english\"] = \"2022-01-01\"\n",
    "    cleaned_new_vocab[\"retry_english_german\"] = \"2022-01-01\"\n",
    "    cleaned_new_vocab[\"try_session_german_english\"] = False\n",
    "    cleaned_new_vocab[\"try_session_english_german\"] = False\n",
    "\n",
    "    current_vocab = current_vocab.append(cleaned_new_vocab)\n",
    "\n",
    "    print(f\"{len(new_vocab)} new words were added from {word_file}\")"
   ]
  },
  {
   "cell_type": "code",
   "execution_count": 5,
   "metadata": {
    "ExecuteTime": {
     "end_time": "2020-10-05T20:39:11.731504Z",
     "start_time": "2020-10-05T20:39:11.694816Z"
    }
   },
   "outputs": [
    {
     "data": {
      "text/html": [
       "<div>\n",
       "<style scoped>\n",
       "    .dataframe tbody tr th:only-of-type {\n",
       "        vertical-align: middle;\n",
       "    }\n",
       "\n",
       "    .dataframe tbody tr th {\n",
       "        vertical-align: top;\n",
       "    }\n",
       "\n",
       "    .dataframe thead th {\n",
       "        text-align: right;\n",
       "    }\n",
       "</style>\n",
       "<table border=\"1\" class=\"dataframe\">\n",
       "  <thead>\n",
       "    <tr style=\"text-align: right;\">\n",
       "      <th></th>\n",
       "      <th>id_vocab</th>\n",
       "      <th>german</th>\n",
       "      <th>english</th>\n",
       "      <th>score_german_english</th>\n",
       "      <th>score_english_german</th>\n",
       "      <th>retry_german_english</th>\n",
       "      <th>retry_english_german</th>\n",
       "      <th>try_session_german_english</th>\n",
       "      <th>try_session_english_german</th>\n",
       "    </tr>\n",
       "  </thead>\n",
       "  <tbody>\n",
       "    <tr>\n",
       "      <th>0</th>\n",
       "      <td>1</td>\n",
       "      <td>hässlich</td>\n",
       "      <td>ugly</td>\n",
       "      <td>0</td>\n",
       "      <td>0</td>\n",
       "      <td>2022-01-01</td>\n",
       "      <td>2022-01-01</td>\n",
       "      <td>False</td>\n",
       "      <td>False</td>\n",
       "    </tr>\n",
       "    <tr>\n",
       "      <th>1</th>\n",
       "      <td>2</td>\n",
       "      <td>das Organ</td>\n",
       "      <td>the organ</td>\n",
       "      <td>0</td>\n",
       "      <td>0</td>\n",
       "      <td>2022-01-01</td>\n",
       "      <td>2022-01-01</td>\n",
       "      <td>False</td>\n",
       "      <td>False</td>\n",
       "    </tr>\n",
       "    <tr>\n",
       "      <th>2</th>\n",
       "      <td>3</td>\n",
       "      <td>süss</td>\n",
       "      <td>sweet</td>\n",
       "      <td>0</td>\n",
       "      <td>0</td>\n",
       "      <td>2022-01-01</td>\n",
       "      <td>2022-01-01</td>\n",
       "      <td>False</td>\n",
       "      <td>False</td>\n",
       "    </tr>\n",
       "    <tr>\n",
       "      <th>3</th>\n",
       "      <td>4</td>\n",
       "      <td>der Mensch</td>\n",
       "      <td>the human</td>\n",
       "      <td>0</td>\n",
       "      <td>0</td>\n",
       "      <td>2022-01-01</td>\n",
       "      <td>2022-01-01</td>\n",
       "      <td>False</td>\n",
       "      <td>False</td>\n",
       "    </tr>\n",
       "    <tr>\n",
       "      <th>4</th>\n",
       "      <td>5</td>\n",
       "      <td>anziehen</td>\n",
       "      <td>to put a clothe on</td>\n",
       "      <td>0</td>\n",
       "      <td>0</td>\n",
       "      <td>2022-01-01</td>\n",
       "      <td>2022-01-01</td>\n",
       "      <td>False</td>\n",
       "      <td>False</td>\n",
       "    </tr>\n",
       "    <tr>\n",
       "      <th>...</th>\n",
       "      <td>...</td>\n",
       "      <td>...</td>\n",
       "      <td>...</td>\n",
       "      <td>...</td>\n",
       "      <td>...</td>\n",
       "      <td>...</td>\n",
       "      <td>...</td>\n",
       "      <td>...</td>\n",
       "      <td>...</td>\n",
       "    </tr>\n",
       "    <tr>\n",
       "      <th>5</th>\n",
       "      <td>156</td>\n",
       "      <td>höchst</td>\n",
       "      <td>highly</td>\n",
       "      <td>0</td>\n",
       "      <td>0</td>\n",
       "      <td>2022-01-01</td>\n",
       "      <td>2022-01-01</td>\n",
       "      <td>False</td>\n",
       "      <td>False</td>\n",
       "    </tr>\n",
       "    <tr>\n",
       "      <th>6</th>\n",
       "      <td>157</td>\n",
       "      <td>der Dachboden</td>\n",
       "      <td>the attic</td>\n",
       "      <td>0</td>\n",
       "      <td>0</td>\n",
       "      <td>2022-01-01</td>\n",
       "      <td>2022-01-01</td>\n",
       "      <td>False</td>\n",
       "      <td>False</td>\n",
       "    </tr>\n",
       "    <tr>\n",
       "      <th>7</th>\n",
       "      <td>158</td>\n",
       "      <td>das Töpfchen</td>\n",
       "      <td>the potty</td>\n",
       "      <td>0</td>\n",
       "      <td>0</td>\n",
       "      <td>2022-01-01</td>\n",
       "      <td>2022-01-01</td>\n",
       "      <td>False</td>\n",
       "      <td>False</td>\n",
       "    </tr>\n",
       "    <tr>\n",
       "      <th>8</th>\n",
       "      <td>159</td>\n",
       "      <td>der Tacker</td>\n",
       "      <td>the stapler</td>\n",
       "      <td>0</td>\n",
       "      <td>0</td>\n",
       "      <td>2022-01-01</td>\n",
       "      <td>2022-01-01</td>\n",
       "      <td>False</td>\n",
       "      <td>False</td>\n",
       "    </tr>\n",
       "    <tr>\n",
       "      <th>9</th>\n",
       "      <td>160</td>\n",
       "      <td>der Beutel</td>\n",
       "      <td>the sachet</td>\n",
       "      <td>0</td>\n",
       "      <td>0</td>\n",
       "      <td>2022-01-01</td>\n",
       "      <td>2022-01-01</td>\n",
       "      <td>False</td>\n",
       "      <td>False</td>\n",
       "    </tr>\n",
       "  </tbody>\n",
       "</table>\n",
       "<p>160 rows × 9 columns</p>\n",
       "</div>"
      ],
      "text/plain": [
       "   id_vocab         german             english score_german_english  \\\n",
       "0         1       hässlich                ugly                    0   \n",
       "1         2      das Organ           the organ                    0   \n",
       "2         3           süss               sweet                    0   \n",
       "3         4     der Mensch           the human                    0   \n",
       "4         5       anziehen  to put a clothe on                    0   \n",
       "..      ...            ...                 ...                  ...   \n",
       "5       156         höchst              highly                    0   \n",
       "6       157  der Dachboden           the attic                    0   \n",
       "7       158   das Töpfchen           the potty                    0   \n",
       "8       159     der Tacker         the stapler                    0   \n",
       "9       160     der Beutel          the sachet                    0   \n",
       "\n",
       "   score_english_german retry_german_english retry_english_german  \\\n",
       "0                     0           2022-01-01           2022-01-01   \n",
       "1                     0           2022-01-01           2022-01-01   \n",
       "2                     0           2022-01-01           2022-01-01   \n",
       "3                     0           2022-01-01           2022-01-01   \n",
       "4                     0           2022-01-01           2022-01-01   \n",
       "..                  ...                  ...                  ...   \n",
       "5                     0           2022-01-01           2022-01-01   \n",
       "6                     0           2022-01-01           2022-01-01   \n",
       "7                     0           2022-01-01           2022-01-01   \n",
       "8                     0           2022-01-01           2022-01-01   \n",
       "9                     0           2022-01-01           2022-01-01   \n",
       "\n",
       "   try_session_german_english try_session_english_german  \n",
       "0                       False                      False  \n",
       "1                       False                      False  \n",
       "2                       False                      False  \n",
       "3                       False                      False  \n",
       "4                       False                      False  \n",
       "..                        ...                        ...  \n",
       "5                       False                      False  \n",
       "6                       False                      False  \n",
       "7                       False                      False  \n",
       "8                       False                      False  \n",
       "9                       False                      False  \n",
       "\n",
       "[160 rows x 9 columns]"
      ]
     },
     "execution_count": 5,
     "metadata": {},
     "output_type": "execute_result"
    },
    {
     "data": {
      "application/javascript": [
       "\n",
       "            setTimeout(function() {\n",
       "                var nbb_cell_id = 5;\n",
       "                var nbb_unformatted_code = \"current_vocab\";\n",
       "                var nbb_formatted_code = \"current_vocab\";\n",
       "                var nbb_cells = Jupyter.notebook.get_cells();\n",
       "                for (var i = 0; i < nbb_cells.length; ++i) {\n",
       "                    if (nbb_cells[i].input_prompt_number == nbb_cell_id) {\n",
       "                        if (nbb_cells[i].get_text() == nbb_unformatted_code) {\n",
       "                             nbb_cells[i].set_text(nbb_formatted_code);\n",
       "                        }\n",
       "                        break;\n",
       "                    }\n",
       "                }\n",
       "            }, 500);\n",
       "            "
      ],
      "text/plain": [
       "<IPython.core.display.Javascript object>"
      ]
     },
     "metadata": {},
     "output_type": "display_data"
    }
   ],
   "source": [
    "current_vocab"
   ]
  },
  {
   "cell_type": "code",
   "execution_count": 6,
   "metadata": {
    "ExecuteTime": {
     "end_time": "2020-10-05T20:39:45.647782Z",
     "start_time": "2020-10-05T20:39:45.623420Z"
    }
   },
   "outputs": [
    {
     "data": {
      "application/javascript": [
       "\n",
       "            setTimeout(function() {\n",
       "                var nbb_cell_id = 6;\n",
       "                var nbb_unformatted_code = \"current_vocab.to_csv(\\\"data/raw/german_english.csv\\\", index=False)\";\n",
       "                var nbb_formatted_code = \"current_vocab.to_csv(\\\"data/raw/german_english.csv\\\", index=False)\";\n",
       "                var nbb_cells = Jupyter.notebook.get_cells();\n",
       "                for (var i = 0; i < nbb_cells.length; ++i) {\n",
       "                    if (nbb_cells[i].input_prompt_number == nbb_cell_id) {\n",
       "                        if (nbb_cells[i].get_text() == nbb_unformatted_code) {\n",
       "                             nbb_cells[i].set_text(nbb_formatted_code);\n",
       "                        }\n",
       "                        break;\n",
       "                    }\n",
       "                }\n",
       "            }, 500);\n",
       "            "
      ],
      "text/plain": [
       "<IPython.core.display.Javascript object>"
      ]
     },
     "metadata": {},
     "output_type": "display_data"
    }
   ],
   "source": [
    "current_vocab.to_csv(\"data/raw/german_english.csv\", index=False)"
   ]
  },
  {
   "cell_type": "code",
   "execution_count": null,
   "metadata": {},
   "outputs": [],
   "source": []
  }
 ],
 "metadata": {
  "hide_input": false,
  "kernelspec": {
   "display_name": "vocabulary_learning",
   "language": "python",
   "name": "vocabulary_learning"
  },
  "language_info": {
   "codemirror_mode": {
    "name": "ipython",
    "version": 3
   },
   "file_extension": ".py",
   "mimetype": "text/x-python",
   "name": "python",
   "nbconvert_exporter": "python",
   "pygments_lexer": "ipython3",
   "version": "3.7.5"
  },
  "toc": {
   "base_numbering": 1,
   "nav_menu": {},
   "number_sections": true,
   "sideBar": true,
   "skip_h1_title": false,
   "title_cell": "Table of Contents",
   "title_sidebar": "Contents",
   "toc_cell": false,
   "toc_position": {},
   "toc_section_display": true,
   "toc_window_display": false
  }
 },
 "nbformat": 4,
 "nbformat_minor": 4
}
