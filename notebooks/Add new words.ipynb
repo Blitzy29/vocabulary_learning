{
 "cells": [
  {
   "cell_type": "code",
   "execution_count": null,
   "metadata": {},
   "outputs": [],
   "source": [
    "%load_ext nb_black\n",
    "%load_ext autoreload\n",
    "%autoreload 2\n",
    "\n",
    "import os\n",
    "\n",
    "print(os.getcwd())\n",
    "\n",
    "\n",
    "def update_working_directory():\n",
    "    from pathlib import Path\n",
    "\n",
    "    p = Path(os.getcwd()).parents[0]\n",
    "    os.chdir(p)\n",
    "    print(p)\n",
    "\n",
    "\n",
    "update_working_directory()"
   ]
  },
  {
   "cell_type": "code",
   "execution_count": null,
   "metadata": {},
   "outputs": [],
   "source": [
    "import numpy as np\n",
    "import pandas as pd\n",
    "\n",
    "import src.data.get_dataset as get_dataset"
   ]
  },
  {
   "cell_type": "code",
   "execution_count": null,
   "metadata": {},
   "outputs": [],
   "source": [
    "current_vocab = get_dataset.get_vocab(\n",
    "    \"data/official/german_english.csv\", list_columns=\"all\"\n",
    ")\n",
    "current_vocab"
   ]
  },
  {
   "cell_type": "code",
   "execution_count": null,
   "metadata": {},
   "outputs": [],
   "source": [
    "word_files = [\n",
    "    \"wortschatzliste_einfach-gut_a1-1_englisch_clean\",\n",
    "    \"wortschatzliste_einfach-gut_a1-2_englisch_clean\",\n",
    "    \"5points\",\n",
    "    \"4points\",\n",
    "    \"3points\",\n",
    "    # \"2points\",\n",
    "    # \"1points\",\n",
    "    # \"0points\",\n",
    "    # \"Minus1points\",\n",
    "    # \"Minus2points\",\n",
    "    # \"Minus3points\",\n",
    "    # \"Minus4points\",\n",
    "    # \"Minus5points\",\n",
    "    # \"Minus6points\",\n",
    "    # \"Minus7points\",\n",
    "    # \"Minus8points\",\n",
    "    # \"Minus9points\",\n",
    "    # \"Minus10points\",\n",
    "]"
   ]
  },
  {
   "cell_type": "code",
   "execution_count": null,
   "metadata": {},
   "outputs": [],
   "source": [
    "for word_file in word_files:\n",
    "\n",
    "    new_vocab = pd.read_csv(f\"data/raw/new_vocabulary/{word_file}.csv\")\n",
    "\n",
    "    new_vocab = new_vocab[\n",
    "        (~new_vocab[\"English\"].isin(current_vocab[\"english\"]))\n",
    "        & (~new_vocab[\"German\"].isin(current_vocab[\"german\"]))\n",
    "    ]\n",
    "\n",
    "    if len(new_vocab) == 0:\n",
    "        print(f\"no new word to add for {word_file}\")\n",
    "        continue\n",
    "\n",
    "    new_vocab = new_vocab.sample(min(100000, len(new_vocab)))\n",
    "\n",
    "    cleaned_new_vocab = pd.DataFrame()\n",
    "\n",
    "    if len(current_vocab) == 0:\n",
    "        last_id = 0\n",
    "    else:\n",
    "        last_id = max(current_vocab[\"id_vocab\"])\n",
    "\n",
    "    cleaned_new_vocab[\"id_vocab\"] = list(\n",
    "        range(last_id + 1, last_id + 1 + len(new_vocab))\n",
    "    )\n",
    "    cleaned_new_vocab[\"german\"] = new_vocab[\"German\"].values.tolist()\n",
    "    cleaned_new_vocab[\"english\"] = new_vocab[\"English\"].values.tolist()\n",
    "    cleaned_new_vocab[\"score_german_english\"] = 0\n",
    "    cleaned_new_vocab[\"score_english_german\"] = 0\n",
    "    cleaned_new_vocab[\"try_session_german_english\"] = False\n",
    "    cleaned_new_vocab[\"try_session_english_german\"] = False\n",
    "\n",
    "    current_vocab = current_vocab.append(cleaned_new_vocab)\n",
    "\n",
    "    print(f\"{len(new_vocab)} new words were added from {word_file}\")"
   ]
  },
  {
   "cell_type": "code",
   "execution_count": null,
   "metadata": {},
   "outputs": [],
   "source": [
    "current_vocab"
   ]
  },
  {
   "cell_type": "code",
   "execution_count": null,
   "metadata": {},
   "outputs": [],
   "source": [
    "current_vocab.to_csv(\"data/official/german_english.csv\", index=False)"
   ]
  },
  {
   "cell_type": "code",
   "execution_count": null,
   "metadata": {},
   "outputs": [],
   "source": []
  }
 ],
 "metadata": {
  "hide_input": false,
  "kernelspec": {
   "display_name": "vocabulary_learning",
   "language": "python",
   "name": "vocabulary_learning"
  },
  "language_info": {
   "codemirror_mode": {
    "name": "ipython",
    "version": 3
   },
   "file_extension": ".py",
   "mimetype": "text/x-python",
   "name": "python",
   "nbconvert_exporter": "python",
   "pygments_lexer": "ipython3",
   "version": "3.7.5"
  },
  "toc": {
   "base_numbering": 1,
   "nav_menu": {},
   "number_sections": true,
   "sideBar": true,
   "skip_h1_title": false,
   "title_cell": "Table of Contents",
   "title_sidebar": "Contents",
   "toc_cell": false,
   "toc_position": {},
   "toc_section_display": true,
   "toc_window_display": false
  }
 },
 "nbformat": 4,
 "nbformat_minor": 4
}
