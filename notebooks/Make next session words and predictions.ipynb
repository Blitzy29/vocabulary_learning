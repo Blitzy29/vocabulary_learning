{
 "cells": [
  {
   "cell_type": "code",
   "execution_count": 1,
   "metadata": {
    "ExecuteTime": {
     "end_time": "2020-10-18T19:41:38.612148Z",
     "start_time": "2020-10-18T19:41:38.454909Z"
    }
   },
   "outputs": [
    {
     "name": "stdout",
     "output_type": "stream",
     "text": [
      "/Users/admin/Projects/vocabulary_learning/notebooks\n",
      "/Users/admin/Projects/vocabulary_learning\n"
     ]
    },
    {
     "data": {
      "application/javascript": [
       "\n",
       "            setTimeout(function() {\n",
       "                var nbb_cell_id = 1;\n",
       "                var nbb_unformatted_code = \"%load_ext nb_black\\n%load_ext autoreload\\n%autoreload 2\\n\\nimport os\\n\\nprint(os.getcwd())\\n\\n\\ndef update_working_directory():\\n    from pathlib import Path\\n\\n    p = Path(os.getcwd()).parents[0]\\n    os.chdir(p)\\n    print(p)\\n\\n\\nupdate_working_directory()\";\n",
       "                var nbb_formatted_code = \"%load_ext nb_black\\n%load_ext autoreload\\n%autoreload 2\\n\\nimport os\\n\\nprint(os.getcwd())\\n\\n\\ndef update_working_directory():\\n    from pathlib import Path\\n\\n    p = Path(os.getcwd()).parents[0]\\n    os.chdir(p)\\n    print(p)\\n\\n\\nupdate_working_directory()\";\n",
       "                var nbb_cells = Jupyter.notebook.get_cells();\n",
       "                for (var i = 0; i < nbb_cells.length; ++i) {\n",
       "                    if (nbb_cells[i].input_prompt_number == nbb_cell_id) {\n",
       "                        if (nbb_cells[i].get_text() == nbb_unformatted_code) {\n",
       "                             nbb_cells[i].set_text(nbb_formatted_code);\n",
       "                        }\n",
       "                        break;\n",
       "                    }\n",
       "                }\n",
       "            }, 500);\n",
       "            "
      ],
      "text/plain": [
       "<IPython.core.display.Javascript object>"
      ]
     },
     "metadata": {},
     "output_type": "display_data"
    }
   ],
   "source": [
    "%load_ext nb_black\n",
    "%load_ext autoreload\n",
    "%autoreload 2\n",
    "\n",
    "import os\n",
    "\n",
    "print(os.getcwd())\n",
    "\n",
    "\n",
    "def update_working_directory():\n",
    "    from pathlib import Path\n",
    "\n",
    "    p = Path(os.getcwd()).parents[0]\n",
    "    os.chdir(p)\n",
    "    print(p)\n",
    "\n",
    "\n",
    "update_working_directory()"
   ]
  },
  {
   "cell_type": "code",
   "execution_count": 4,
   "metadata": {
    "ExecuteTime": {
     "end_time": "2020-10-18T19:43:25.006170Z",
     "start_time": "2020-10-18T19:43:24.976249Z"
    }
   },
   "outputs": [
    {
     "data": {
      "application/javascript": [
       "\n",
       "            setTimeout(function() {\n",
       "                var nbb_cell_id = 4;\n",
       "                var nbb_unformatted_code = \"import datetime\\nimport dill\\nimport numpy as np\\nimport pandas as pd\\n\\nimport src.data.get_dataset as get_dataset\\nimport src.data.make_dataset as make_dataset\\nimport src.data.make_predictions_next_session as make_predictions_next_session\\n\\npd.set_option(\\\"display.max_columns\\\", None)\";\n",
       "                var nbb_formatted_code = \"import datetime\\nimport dill\\nimport numpy as np\\nimport pandas as pd\\n\\nimport src.data.get_dataset as get_dataset\\nimport src.data.make_dataset as make_dataset\\nimport src.data.make_predictions_next_session as make_predictions_next_session\\n\\npd.set_option(\\\"display.max_columns\\\", None)\";\n",
       "                var nbb_cells = Jupyter.notebook.get_cells();\n",
       "                for (var i = 0; i < nbb_cells.length; ++i) {\n",
       "                    if (nbb_cells[i].input_prompt_number == nbb_cell_id) {\n",
       "                        if (nbb_cells[i].get_text() == nbb_unformatted_code) {\n",
       "                             nbb_cells[i].set_text(nbb_formatted_code);\n",
       "                        }\n",
       "                        break;\n",
       "                    }\n",
       "                }\n",
       "            }, 500);\n",
       "            "
      ],
      "text/plain": [
       "<IPython.core.display.Javascript object>"
      ]
     },
     "metadata": {},
     "output_type": "display_data"
    }
   ],
   "source": [
    "import datetime\n",
    "import dill\n",
    "import numpy as np\n",
    "import pandas as pd\n",
    "\n",
    "import src.data.get_dataset as get_dataset\n",
    "import src.data.make_dataset as make_dataset\n",
    "import src.data.make_predictions_next_session as make_predictions_next_session\n",
    "\n",
    "pd.set_option(\"display.max_columns\", None)"
   ]
  },
  {
   "cell_type": "markdown",
   "metadata": {},
   "source": [
    "# Overall"
   ]
  },
  {
   "cell_type": "code",
   "execution_count": 5,
   "metadata": {
    "ExecuteTime": {
     "end_time": "2020-10-18T19:43:48.806616Z",
     "start_time": "2020-10-18T19:43:46.863680Z"
    }
   },
   "outputs": [
    {
     "name": "stdout",
     "output_type": "stream",
     "text": [
      "Saved at data/raw/dataset_predictions.pkl\n",
      "Preprocessing inference - is_noun                                  -  0 missing categories\n",
      "Preprocessing inference - previous_language_asked                  -  0 missing categories\n",
      "Saved at data/raw/predictions_next_session.csv\n"
     ]
    },
    {
     "data": {
      "application/javascript": [
       "\n",
       "            setTimeout(function() {\n",
       "                var nbb_cell_id = 5;\n",
       "                var nbb_unformatted_code = \"historical_data_path = \\\"data/raw/historical_data.csv\\\"\\nvocab_path = \\\"data/raw/german_english.csv\\\"\\n\\nmodel_path = \\\"models/logistic_regression_mle__20201017__model.pkl\\\"\\n\\ndataset_predictions_path = \\\"data/raw/dataset_predictions.pkl\\\"\\nprobas_next_session_path = \\\"data/raw/predictions_next_session.csv\\\"\\n\\nmake_predictions_next_session.make_predictions_next_session(\\n    historical_data_path,\\n    vocab_path,\\n    model_path,\\n    dataset_predictions_path,\\n    probas_next_session_path,\\n)\";\n",
       "                var nbb_formatted_code = \"historical_data_path = \\\"data/raw/historical_data.csv\\\"\\nvocab_path = \\\"data/raw/german_english.csv\\\"\\n\\nmodel_path = \\\"models/logistic_regression_mle__20201017__model.pkl\\\"\\n\\ndataset_predictions_path = \\\"data/raw/dataset_predictions.pkl\\\"\\nprobas_next_session_path = \\\"data/raw/predictions_next_session.csv\\\"\\n\\nmake_predictions_next_session.make_predictions_next_session(\\n    historical_data_path,\\n    vocab_path,\\n    model_path,\\n    dataset_predictions_path,\\n    probas_next_session_path,\\n)\";\n",
       "                var nbb_cells = Jupyter.notebook.get_cells();\n",
       "                for (var i = 0; i < nbb_cells.length; ++i) {\n",
       "                    if (nbb_cells[i].input_prompt_number == nbb_cell_id) {\n",
       "                        if (nbb_cells[i].get_text() == nbb_unformatted_code) {\n",
       "                             nbb_cells[i].set_text(nbb_formatted_code);\n",
       "                        }\n",
       "                        break;\n",
       "                    }\n",
       "                }\n",
       "            }, 500);\n",
       "            "
      ],
      "text/plain": [
       "<IPython.core.display.Javascript object>"
      ]
     },
     "metadata": {},
     "output_type": "display_data"
    }
   ],
   "source": [
    "historical_data_path = \"data/raw/historical_data.csv\"\n",
    "vocab_path = \"data/raw/german_english.csv\"\n",
    "\n",
    "model_path = \"models/logistic_regression_mle__20201017__model.pkl\"\n",
    "\n",
    "dataset_predictions_path = \"data/raw/dataset_predictions.pkl\"\n",
    "probas_next_session_path = \"data/raw/predictions_next_session.csv\"\n",
    "\n",
    "make_predictions_next_session.make_predictions_next_session(\n",
    "    historical_data_path,\n",
    "    vocab_path,\n",
    "    model_path,\n",
    "    dataset_predictions_path,\n",
    "    probas_next_session_path,\n",
    ")"
   ]
  },
  {
   "cell_type": "markdown",
   "metadata": {},
   "source": [
    "# Details"
   ]
  },
  {
   "cell_type": "code",
   "execution_count": null,
   "metadata": {
    "ExecuteTime": {
     "end_time": "2020-10-18T19:21:08.589975Z",
     "start_time": "2020-10-18T19:21:08.555694Z"
    }
   },
   "outputs": [],
   "source": [
    "historical_data_path = \"data/raw/20201017/historical_data.csv\"\n",
    "vocab_path = \"data/raw/20201017/german_english.csv\"\n",
    "\n",
    "dataset_predictions_path = \"data/raw/20201017/dataset_predictions.pkl\"\n",
    "probas_next_session_path = \"data/raw/20201017/predictions_next_session.csv\""
   ]
  },
  {
   "cell_type": "code",
   "execution_count": null,
   "metadata": {
    "ExecuteTime": {
     "end_time": "2020-10-18T19:01:43.976849Z",
     "start_time": "2020-10-18T19:01:43.953060Z"
    }
   },
   "outputs": [],
   "source": [
    "# Create dataset_new_session"
   ]
  },
  {
   "cell_type": "code",
   "execution_count": null,
   "metadata": {
    "ExecuteTime": {
     "end_time": "2020-10-18T19:01:45.970762Z",
     "start_time": "2020-10-18T19:01:44.354718Z"
    }
   },
   "outputs": [],
   "source": [
    "make_dataset.create_dataset_new_session(\n",
    "    historical_data_path, vocab_path, dataset_predictions_path\n",
    ")"
   ]
  },
  {
   "cell_type": "code",
   "execution_count": null,
   "metadata": {
    "ExecuteTime": {
     "end_time": "2020-10-18T19:01:55.318986Z",
     "start_time": "2020-10-18T19:01:55.294002Z"
    }
   },
   "outputs": [],
   "source": [
    "# Take model"
   ]
  },
  {
   "cell_type": "code",
   "execution_count": null,
   "metadata": {
    "ExecuteTime": {
     "end_time": "2020-10-18T19:01:56.649579Z",
     "start_time": "2020-10-18T19:01:56.119237Z"
    }
   },
   "outputs": [],
   "source": [
    "with open(f\"models/logistic_regression_mle__20201017__model.pkl\", \"rb\") as input_file:\n",
    "    model = dill.load(input_file)"
   ]
  },
  {
   "cell_type": "code",
   "execution_count": null,
   "metadata": {
    "ExecuteTime": {
     "end_time": "2020-10-18T19:01:58.612579Z",
     "start_time": "2020-10-18T19:01:58.583498Z"
    }
   },
   "outputs": [],
   "source": [
    "# Take predictions"
   ]
  },
  {
   "cell_type": "code",
   "execution_count": null,
   "metadata": {
    "ExecuteTime": {
     "end_time": "2020-10-18T19:07:13.257615Z",
     "start_time": "2020-10-18T19:07:13.218645Z"
    }
   },
   "outputs": [],
   "source": [
    "# get historical data\n",
    "with open(dataset_predictions_path, \"rb\") as input_file:\n",
    "    dataset_predictions = dill.load(input_file)\n",
    "\n",
    "dataset_to_keep = dataset_predictions[\n",
    "    [\"id_vocab\", \"german_word\", \"english_word\", \"language_asked\"]\n",
    "]"
   ]
  },
  {
   "cell_type": "code",
   "execution_count": null,
   "metadata": {
    "ExecuteTime": {
     "end_time": "2020-10-18T19:07:35.974137Z",
     "start_time": "2020-10-18T19:07:35.897177Z"
    }
   },
   "outputs": [],
   "source": [
    "dataset_predictions = model.preprocessing_inference(dataset_predictions)"
   ]
  },
  {
   "cell_type": "code",
   "execution_count": null,
   "metadata": {
    "ExecuteTime": {
     "end_time": "2020-10-18T19:07:36.968585Z",
     "start_time": "2020-10-18T19:07:36.929004Z"
    }
   },
   "outputs": [],
   "source": [
    "predictions = model.predict(dataset=dataset_predictions, target_present=False)"
   ]
  },
  {
   "cell_type": "code",
   "execution_count": null,
   "metadata": {
    "ExecuteTime": {
     "end_time": "2020-10-18T19:07:37.886438Z",
     "start_time": "2020-10-18T19:07:37.848707Z"
    }
   },
   "outputs": [],
   "source": [
    "predictions = pd.concat([dataset_to_keep, predictions], axis=1)"
   ]
  },
  {
   "cell_type": "code",
   "execution_count": null,
   "metadata": {
    "ExecuteTime": {
     "end_time": "2020-10-18T19:07:41.139561Z",
     "start_time": "2020-10-18T19:07:41.088284Z"
    }
   },
   "outputs": [],
   "source": [
    "predictions"
   ]
  },
  {
   "cell_type": "code",
   "execution_count": null,
   "metadata": {
    "ExecuteTime": {
     "end_time": "2020-10-18T19:08:45.918831Z",
     "start_time": "2020-10-18T19:08:45.857240Z"
    }
   },
   "outputs": [],
   "source": [
    "probas_next_session = (\n",
    "    predictions[[\"id_vocab\", \"language_asked\", \"y_proba\"]]\n",
    "    .pivot(index=\"id_vocab\", columns=\"language_asked\", values=\"y_proba\")\n",
    "    .reset_index()\n",
    ")\n",
    "probas_next_session.columns.name = None\n",
    "\n",
    "probas_next_session.rename(\n",
    "    columns={\n",
    "        \"german\": \"german_proba\",\n",
    "        \"english\": \"english_proba\",\n",
    "    },\n",
    "    inplace=True,\n",
    ")\n",
    "\n",
    "probas_next_session"
   ]
  },
  {
   "cell_type": "code",
   "execution_count": null,
   "metadata": {
    "ExecuteTime": {
     "end_time": "2020-10-18T19:20:57.017187Z",
     "start_time": "2020-10-18T19:20:56.957628Z"
    }
   },
   "outputs": [],
   "source": [
    "# Save dataset\n",
    "probas_next_session.to_csv(probas_next_session_path, index=False)\n",
    "print(f\"Saved at {probas_next_session_path}\")"
   ]
  },
  {
   "cell_type": "code",
   "execution_count": null,
   "metadata": {
    "ExecuteTime": {
     "end_time": "2020-10-18T19:17:57.183647Z",
     "start_time": "2020-10-18T19:17:57.118069Z"
    }
   },
   "outputs": [],
   "source": [
    "import plotly.graph_objects as go\n",
    "\n",
    "# Create traces\n",
    "fig = go.Figure()\n",
    "\n",
    "fig.add_trace(\n",
    "    go.Histogram(\n",
    "        x=probas_next_session[\"german_proba\"],\n",
    "        name=\"german\",\n",
    "        xbins=dict(size=0.01)\n",
    "        # , histnorm='probability'\n",
    "    )\n",
    ")\n",
    "\n",
    "fig.add_trace(\n",
    "    go.Histogram(\n",
    "        x=probas_next_session[\"english_proba\"],\n",
    "        name=\"english\",\n",
    "        xbins=dict(size=0.01)\n",
    "        # , histnorm='probability'\n",
    "    )\n",
    ")\n",
    "\n",
    "fig.update_layout(\n",
    "    title=\"predictions\",\n",
    "    xaxis_title=\"prediction\",\n",
    "    yaxis_title=\"count\",\n",
    "    legend={\"itemsizing\": \"constant\"},\n",
    ")\n",
    "\n",
    "# fig.update_layout(barmode=\"overlay\")\n",
    "fig.update_traces(opacity=0.75)\n",
    "\n",
    "fig.show()"
   ]
  },
  {
   "cell_type": "code",
   "execution_count": null,
   "metadata": {},
   "outputs": [],
   "source": []
  }
 ],
 "metadata": {
  "hide_input": false,
  "kernelspec": {
   "display_name": "vocabulary_learning",
   "language": "python",
   "name": "vocabulary_learning"
  },
  "language_info": {
   "codemirror_mode": {
    "name": "ipython",
    "version": 3
   },
   "file_extension": ".py",
   "mimetype": "text/x-python",
   "name": "python",
   "nbconvert_exporter": "python",
   "pygments_lexer": "ipython3",
   "version": "3.7.5"
  },
  "toc": {
   "base_numbering": 1,
   "nav_menu": {},
   "number_sections": true,
   "sideBar": true,
   "skip_h1_title": false,
   "title_cell": "Table of Contents",
   "title_sidebar": "Contents",
   "toc_cell": false,
   "toc_position": {},
   "toc_section_display": true,
   "toc_window_display": false
  }
 },
 "nbformat": 4,
 "nbformat_minor": 4
}
